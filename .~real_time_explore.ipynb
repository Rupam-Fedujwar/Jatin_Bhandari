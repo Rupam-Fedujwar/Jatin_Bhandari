{
 "cells": [
  {
   "cell_type": "code",
   "execution_count": 1,
   "id": "8c9098b6",
   "metadata": {},
   "outputs": [
    {
     "data": {
      "text/html": [
       "        <script type=\"text/javascript\">\n",
       "        window.PlotlyConfig = {MathJaxConfig: 'local'};\n",
       "        if (window.MathJax && window.MathJax.Hub && window.MathJax.Hub.Config) {window.MathJax.Hub.Config({SVG: {font: \"STIX-Web\"}});}\n",
       "        if (typeof require !== 'undefined') {\n",
       "        require.undef(\"plotly\");\n",
       "        requirejs.config({\n",
       "            paths: {\n",
       "                'plotly': ['https://cdn.plot.ly/plotly-2.12.1.min']\n",
       "            }\n",
       "        });\n",
       "        require(['plotly'], function(Plotly) {\n",
       "            window._Plotly = Plotly;\n",
       "        });\n",
       "        }\n",
       "        </script>\n",
       "        "
      ]
     },
     "metadata": {},
     "output_type": "display_data"
    },
    {
     "data": {
      "text/html": [
       "        <script type=\"text/javascript\">\n",
       "        window.PlotlyConfig = {MathJaxConfig: 'local'};\n",
       "        if (window.MathJax && window.MathJax.Hub && window.MathJax.Hub.Config) {window.MathJax.Hub.Config({SVG: {font: \"STIX-Web\"}});}\n",
       "        if (typeof require !== 'undefined') {\n",
       "        require.undef(\"plotly\");\n",
       "        requirejs.config({\n",
       "            paths: {\n",
       "                'plotly': ['https://cdn.plot.ly/plotly-2.12.1.min']\n",
       "            }\n",
       "        });\n",
       "        require(['plotly'], function(Plotly) {\n",
       "            window._Plotly = Plotly;\n",
       "        });\n",
       "        }\n",
       "        </script>\n",
       "        "
      ]
     },
     "metadata": {},
     "output_type": "display_data"
    }
   ],
   "source": [
    "import numpy as np\n",
    "import pandas as pd\n",
    "import glob\n",
    "import os\n",
    "import matplotlib.pyplot as plt\n",
    "from  plotly.offline import iplot\n",
    "import plotly as py \n",
    "import plotly.express as px\n",
    "import cufflinks as cf \n",
    "py.offline.init_notebook_mode(connected=True)\n",
    "cf.go_offline()"
   ]
  },
  {
   "cell_type": "code",
   "execution_count": 2,
   "id": "dcecf384",
   "metadata": {},
   "outputs": [
    {
     "data": {
      "text/plain": [
       "['DIMTS_realtime_data\\\\17April2021\\\\realTime_busInfo_17-Apr-2021-00-00.csv',\n",
       " 'DIMTS_realtime_data\\\\17April2021\\\\realTime_busInfo_17-Apr-2021-00-01.csv',\n",
       " 'DIMTS_realtime_data\\\\17April2021\\\\realTime_busInfo_17-Apr-2021-00-02.csv',\n",
       " 'DIMTS_realtime_data\\\\17April2021\\\\realTime_busInfo_17-Apr-2021-00-03.csv',\n",
       " 'DIMTS_realtime_data\\\\17April2021\\\\realTime_busInfo_17-Apr-2021-00-04.csv',\n",
       " 'DIMTS_realtime_data\\\\17April2021\\\\realTime_busInfo_17-Apr-2021-00-05.csv',\n",
       " 'DIMTS_realtime_data\\\\17April2021\\\\realTime_busInfo_17-Apr-2021-00-06.csv',\n",
       " 'DIMTS_realtime_data\\\\17April2021\\\\realTime_busInfo_17-Apr-2021-00-07.csv',\n",
       " 'DIMTS_realtime_data\\\\17April2021\\\\realTime_busInfo_17-Apr-2021-00-08.csv',\n",
       " 'DIMTS_realtime_data\\\\17April2021\\\\realTime_busInfo_17-Apr-2021-00-09.csv',\n",
       " 'DIMTS_realtime_data\\\\17April2021\\\\realTime_busInfo_17-Apr-2021-00-10.csv',\n",
       " 'DIMTS_realtime_data\\\\17April2021\\\\realTime_busInfo_17-Apr-2021-00-11.csv',\n",
       " 'DIMTS_realtime_data\\\\17April2021\\\\realTime_busInfo_17-Apr-2021-00-12.csv',\n",
       " 'DIMTS_realtime_data\\\\17April2021\\\\realTime_busInfo_17-Apr-2021-00-13.csv',\n",
       " 'DIMTS_realtime_data\\\\17April2021\\\\realTime_busInfo_17-Apr-2021-00-14.csv',\n",
       " 'DIMTS_realtime_data\\\\17April2021\\\\realTime_busInfo_17-Apr-2021-00-15.csv',\n",
       " 'DIMTS_realtime_data\\\\17April2021\\\\realTime_busInfo_17-Apr-2021-00-16.csv',\n",
       " 'DIMTS_realtime_data\\\\17April2021\\\\realTime_busInfo_17-Apr-2021-00-17.csv',\n",
       " 'DIMTS_realtime_data\\\\17April2021\\\\realTime_busInfo_17-Apr-2021-00-18.csv',\n",
       " 'DIMTS_realtime_data\\\\17April2021\\\\realTime_busInfo_17-Apr-2021-00-19.csv',\n",
       " 'DIMTS_realtime_data\\\\17April2021\\\\realTime_busInfo_17-Apr-2021-00-20.csv',\n",
       " 'DIMTS_realtime_data\\\\17April2021\\\\realTime_busInfo_17-Apr-2021-00-21.csv',\n",
       " 'DIMTS_realtime_data\\\\17April2021\\\\realTime_busInfo_17-Apr-2021-00-22.csv',\n",
       " 'DIMTS_realtime_data\\\\17April2021\\\\realTime_busInfo_17-Apr-2021-00-23.csv',\n",
       " 'DIMTS_realtime_data\\\\17April2021\\\\realTime_busInfo_17-Apr-2021-00-24.csv',\n",
       " 'DIMTS_realtime_data\\\\17April2021\\\\realTime_busInfo_17-Apr-2021-00-25.csv',\n",
       " 'DIMTS_realtime_data\\\\17April2021\\\\realTime_busInfo_17-Apr-2021-00-26.csv',\n",
       " 'DIMTS_realtime_data\\\\17April2021\\\\realTime_busInfo_17-Apr-2021-00-27.csv',\n",
       " 'DIMTS_realtime_data\\\\17April2021\\\\realTime_busInfo_17-Apr-2021-00-28.csv',\n",
       " 'DIMTS_realtime_data\\\\17April2021\\\\realTime_busInfo_17-Apr-2021-00-29.csv',\n",
       " 'DIMTS_realtime_data\\\\17April2021\\\\realTime_busInfo_17-Apr-2021-00-30.csv',\n",
       " 'DIMTS_realtime_data\\\\17April2021\\\\realTime_busInfo_17-Apr-2021-00-31.csv',\n",
       " 'DIMTS_realtime_data\\\\17April2021\\\\realTime_busInfo_17-Apr-2021-00-32.csv',\n",
       " 'DIMTS_realtime_data\\\\17April2021\\\\realTime_busInfo_17-Apr-2021-00-33.csv',\n",
       " 'DIMTS_realtime_data\\\\17April2021\\\\realTime_busInfo_17-Apr-2021-00-34.csv',\n",
       " 'DIMTS_realtime_data\\\\17April2021\\\\realTime_busInfo_17-Apr-2021-00-35.csv',\n",
       " 'DIMTS_realtime_data\\\\17April2021\\\\realTime_busInfo_17-Apr-2021-00-36.csv',\n",
       " 'DIMTS_realtime_data\\\\17April2021\\\\realTime_busInfo_17-Apr-2021-00-37.csv',\n",
       " 'DIMTS_realtime_data\\\\17April2021\\\\realTime_busInfo_17-Apr-2021-00-38.csv',\n",
       " 'DIMTS_realtime_data\\\\17April2021\\\\realTime_busInfo_17-Apr-2021-00-39.csv',\n",
       " 'DIMTS_realtime_data\\\\17April2021\\\\realTime_busInfo_17-Apr-2021-00-40.csv',\n",
       " 'DIMTS_realtime_data\\\\17April2021\\\\realTime_busInfo_17-Apr-2021-00-41.csv',\n",
       " 'DIMTS_realtime_data\\\\17April2021\\\\realTime_busInfo_17-Apr-2021-00-42.csv',\n",
       " 'DIMTS_realtime_data\\\\17April2021\\\\realTime_busInfo_17-Apr-2021-00-43.csv',\n",
       " 'DIMTS_realtime_data\\\\17April2021\\\\realTime_busInfo_17-Apr-2021-00-44.csv',\n",
       " 'DIMTS_realtime_data\\\\17April2021\\\\realTime_busInfo_17-Apr-2021-00-45.csv',\n",
       " 'DIMTS_realtime_data\\\\17April2021\\\\realTime_busInfo_17-Apr-2021-00-46.csv',\n",
       " 'DIMTS_realtime_data\\\\17April2021\\\\realTime_busInfo_17-Apr-2021-00-47.csv',\n",
       " 'DIMTS_realtime_data\\\\17April2021\\\\realTime_busInfo_17-Apr-2021-00-48.csv',\n",
       " 'DIMTS_realtime_data\\\\17April2021\\\\realTime_busInfo_17-Apr-2021-00-49.csv',\n",
       " 'DIMTS_realtime_data\\\\17April2021\\\\realTime_busInfo_17-Apr-2021-00-50.csv',\n",
       " 'DIMTS_realtime_data\\\\17April2021\\\\realTime_busInfo_17-Apr-2021-00-51.csv',\n",
       " 'DIMTS_realtime_data\\\\17April2021\\\\realTime_busInfo_17-Apr-2021-00-52.csv',\n",
       " 'DIMTS_realtime_data\\\\17April2021\\\\realTime_busInfo_17-Apr-2021-00-53.csv',\n",
       " 'DIMTS_realtime_data\\\\17April2021\\\\realTime_busInfo_17-Apr-2021-00-54.csv',\n",
       " 'DIMTS_realtime_data\\\\17April2021\\\\realTime_busInfo_17-Apr-2021-00-55.csv',\n",
       " 'DIMTS_realtime_data\\\\17April2021\\\\realTime_busInfo_17-Apr-2021-00-56.csv',\n",
       " 'DIMTS_realtime_data\\\\17April2021\\\\realTime_busInfo_17-Apr-2021-00-57.csv',\n",
       " 'DIMTS_realtime_data\\\\17April2021\\\\realTime_busInfo_17-Apr-2021-00-58.csv',\n",
       " 'DIMTS_realtime_data\\\\17April2021\\\\realTime_busInfo_17-Apr-2021-00-59.csv',\n",
       " 'DIMTS_realtime_data\\\\17April2021\\\\realTime_busInfo_17-Apr-2021-01-00.csv',\n",
       " 'DIMTS_realtime_data\\\\17April2021\\\\realTime_busInfo_17-Apr-2021-01-01.csv',\n",
       " 'DIMTS_realtime_data\\\\17April2021\\\\realTime_busInfo_17-Apr-2021-01-02.csv',\n",
       " 'DIMTS_realtime_data\\\\17April2021\\\\realTime_busInfo_17-Apr-2021-01-03.csv',\n",
       " 'DIMTS_realtime_data\\\\17April2021\\\\realTime_busInfo_17-Apr-2021-01-04.csv',\n",
       " 'DIMTS_realtime_data\\\\17April2021\\\\realTime_busInfo_17-Apr-2021-01-05.csv',\n",
       " 'DIMTS_realtime_data\\\\17April2021\\\\realTime_busInfo_17-Apr-2021-01-06.csv',\n",
       " 'DIMTS_realtime_data\\\\17April2021\\\\realTime_busInfo_17-Apr-2021-01-07.csv',\n",
       " 'DIMTS_realtime_data\\\\17April2021\\\\realTime_busInfo_17-Apr-2021-01-08.csv',\n",
       " 'DIMTS_realtime_data\\\\17April2021\\\\realTime_busInfo_17-Apr-2021-01-10.csv',\n",
       " 'DIMTS_realtime_data\\\\17April2021\\\\realTime_busInfo_17-Apr-2021-01-11.csv',\n",
       " 'DIMTS_realtime_data\\\\17April2021\\\\realTime_busInfo_17-Apr-2021-01-12.csv',\n",
       " 'DIMTS_realtime_data\\\\17April2021\\\\realTime_busInfo_17-Apr-2021-01-13.csv',\n",
       " 'DIMTS_realtime_data\\\\17April2021\\\\realTime_busInfo_17-Apr-2021-01-14.csv',\n",
       " 'DIMTS_realtime_data\\\\17April2021\\\\realTime_busInfo_17-Apr-2021-01-15.csv',\n",
       " 'DIMTS_realtime_data\\\\17April2021\\\\realTime_busInfo_17-Apr-2021-01-16.csv',\n",
       " 'DIMTS_realtime_data\\\\17April2021\\\\realTime_busInfo_17-Apr-2021-01-17.csv',\n",
       " 'DIMTS_realtime_data\\\\17April2021\\\\realTime_busInfo_17-Apr-2021-01-18.csv',\n",
       " 'DIMTS_realtime_data\\\\17April2021\\\\realTime_busInfo_17-Apr-2021-01-19.csv',\n",
       " 'DIMTS_realtime_data\\\\17April2021\\\\realTime_busInfo_17-Apr-2021-01-20.csv',\n",
       " 'DIMTS_realtime_data\\\\17April2021\\\\realTime_busInfo_17-Apr-2021-01-21.csv',\n",
       " 'DIMTS_realtime_data\\\\17April2021\\\\realTime_busInfo_17-Apr-2021-01-22.csv',\n",
       " 'DIMTS_realtime_data\\\\17April2021\\\\realTime_busInfo_17-Apr-2021-01-23.csv',\n",
       " 'DIMTS_realtime_data\\\\17April2021\\\\realTime_busInfo_17-Apr-2021-01-24.csv',\n",
       " 'DIMTS_realtime_data\\\\17April2021\\\\realTime_busInfo_17-Apr-2021-01-25.csv',\n",
       " 'DIMTS_realtime_data\\\\17April2021\\\\realTime_busInfo_17-Apr-2021-01-26.csv',\n",
       " 'DIMTS_realtime_data\\\\17April2021\\\\realTime_busInfo_17-Apr-2021-01-27.csv',\n",
       " 'DIMTS_realtime_data\\\\17April2021\\\\realTime_busInfo_17-Apr-2021-01-28.csv',\n",
       " 'DIMTS_realtime_data\\\\17April2021\\\\realTime_busInfo_17-Apr-2021-01-29.csv',\n",
       " 'DIMTS_realtime_data\\\\17April2021\\\\realTime_busInfo_17-Apr-2021-01-30.csv',\n",
       " 'DIMTS_realtime_data\\\\17April2021\\\\realTime_busInfo_17-Apr-2021-01-31.csv',\n",
       " 'DIMTS_realtime_data\\\\17April2021\\\\realTime_busInfo_17-Apr-2021-01-32.csv',\n",
       " 'DIMTS_realtime_data\\\\17April2021\\\\realTime_busInfo_17-Apr-2021-01-33.csv',\n",
       " 'DIMTS_realtime_data\\\\17April2021\\\\realTime_busInfo_17-Apr-2021-01-34.csv',\n",
       " 'DIMTS_realtime_data\\\\17April2021\\\\realTime_busInfo_17-Apr-2021-01-35.csv',\n",
       " 'DIMTS_realtime_data\\\\17April2021\\\\realTime_busInfo_17-Apr-2021-01-36.csv',\n",
       " 'DIMTS_realtime_data\\\\17April2021\\\\realTime_busInfo_17-Apr-2021-01-37.csv',\n",
       " 'DIMTS_realtime_data\\\\17April2021\\\\realTime_busInfo_17-Apr-2021-01-38.csv',\n",
       " 'DIMTS_realtime_data\\\\17April2021\\\\realTime_busInfo_17-Apr-2021-01-39.csv',\n",
       " 'DIMTS_realtime_data\\\\17April2021\\\\realTime_busInfo_17-Apr-2021-01-40.csv',\n",
       " 'DIMTS_realtime_data\\\\17April2021\\\\realTime_busInfo_17-Apr-2021-01-41.csv',\n",
       " 'DIMTS_realtime_data\\\\17April2021\\\\realTime_busInfo_17-Apr-2021-01-42.csv',\n",
       " 'DIMTS_realtime_data\\\\17April2021\\\\realTime_busInfo_17-Apr-2021-01-43.csv',\n",
       " 'DIMTS_realtime_data\\\\17April2021\\\\realTime_busInfo_17-Apr-2021-01-44.csv',\n",
       " 'DIMTS_realtime_data\\\\17April2021\\\\realTime_busInfo_17-Apr-2021-01-45.csv',\n",
       " 'DIMTS_realtime_data\\\\17April2021\\\\realTime_busInfo_17-Apr-2021-01-46.csv',\n",
       " 'DIMTS_realtime_data\\\\17April2021\\\\realTime_busInfo_17-Apr-2021-01-47.csv',\n",
       " 'DIMTS_realtime_data\\\\17April2021\\\\realTime_busInfo_17-Apr-2021-01-48.csv',\n",
       " 'DIMTS_realtime_data\\\\17April2021\\\\realTime_busInfo_17-Apr-2021-01-49.csv',\n",
       " 'DIMTS_realtime_data\\\\17April2021\\\\realTime_busInfo_17-Apr-2021-01-50.csv',\n",
       " 'DIMTS_realtime_data\\\\17April2021\\\\realTime_busInfo_17-Apr-2021-01-51.csv',\n",
       " 'DIMTS_realtime_data\\\\17April2021\\\\realTime_busInfo_17-Apr-2021-01-52.csv',\n",
       " 'DIMTS_realtime_data\\\\17April2021\\\\realTime_busInfo_17-Apr-2021-01-53.csv',\n",
       " 'DIMTS_realtime_data\\\\17April2021\\\\realTime_busInfo_17-Apr-2021-01-54.csv',\n",
       " 'DIMTS_realtime_data\\\\17April2021\\\\realTime_busInfo_17-Apr-2021-01-55.csv',\n",
       " 'DIMTS_realtime_data\\\\17April2021\\\\realTime_busInfo_17-Apr-2021-01-56.csv',\n",
       " 'DIMTS_realtime_data\\\\17April2021\\\\realTime_busInfo_17-Apr-2021-01-57.csv',\n",
       " 'DIMTS_realtime_data\\\\17April2021\\\\realTime_busInfo_17-Apr-2021-01-58.csv',\n",
       " 'DIMTS_realtime_data\\\\17April2021\\\\realTime_busInfo_17-Apr-2021-01-59.csv',\n",
       " 'DIMTS_realtime_data\\\\17April2021\\\\realTime_busInfo_17-Apr-2021-02-00.csv',\n",
       " 'DIMTS_realtime_data\\\\17April2021\\\\realTime_busInfo_17-Apr-2021-02-01.csv',\n",
       " 'DIMTS_realtime_data\\\\17April2021\\\\realTime_busInfo_17-Apr-2021-02-02.csv',\n",
       " 'DIMTS_realtime_data\\\\17April2021\\\\realTime_busInfo_17-Apr-2021-02-03.csv',\n",
       " 'DIMTS_realtime_data\\\\17April2021\\\\realTime_busInfo_17-Apr-2021-02-04.csv',\n",
       " 'DIMTS_realtime_data\\\\17April2021\\\\realTime_busInfo_17-Apr-2021-02-05.csv',\n",
       " 'DIMTS_realtime_data\\\\17April2021\\\\realTime_busInfo_17-Apr-2021-02-06.csv',\n",
       " 'DIMTS_realtime_data\\\\17April2021\\\\realTime_busInfo_17-Apr-2021-02-07.csv',\n",
       " 'DIMTS_realtime_data\\\\17April2021\\\\realTime_busInfo_17-Apr-2021-02-08.csv',\n",
       " 'DIMTS_realtime_data\\\\17April2021\\\\realTime_busInfo_17-Apr-2021-02-09.csv',\n",
       " 'DIMTS_realtime_data\\\\17April2021\\\\realTime_busInfo_17-Apr-2021-02-10.csv',\n",
       " 'DIMTS_realtime_data\\\\17April2021\\\\realTime_busInfo_17-Apr-2021-02-11.csv',\n",
       " 'DIMTS_realtime_data\\\\17April2021\\\\realTime_busInfo_17-Apr-2021-02-12.csv',\n",
       " 'DIMTS_realtime_data\\\\17April2021\\\\realTime_busInfo_17-Apr-2021-02-13.csv',\n",
       " 'DIMTS_realtime_data\\\\17April2021\\\\realTime_busInfo_17-Apr-2021-02-14.csv',\n",
       " 'DIMTS_realtime_data\\\\17April2021\\\\realTime_busInfo_17-Apr-2021-02-16.csv',\n",
       " 'DIMTS_realtime_data\\\\17April2021\\\\realTime_busInfo_17-Apr-2021-02-17.csv',\n",
       " 'DIMTS_realtime_data\\\\17April2021\\\\realTime_busInfo_17-Apr-2021-02-18.csv',\n",
       " 'DIMTS_realtime_data\\\\17April2021\\\\realTime_busInfo_17-Apr-2021-02-19.csv',\n",
       " 'DIMTS_realtime_data\\\\17April2021\\\\realTime_busInfo_17-Apr-2021-02-20.csv',\n",
       " 'DIMTS_realtime_data\\\\17April2021\\\\realTime_busInfo_17-Apr-2021-02-21.csv',\n",
       " 'DIMTS_realtime_data\\\\17April2021\\\\realTime_busInfo_17-Apr-2021-02-22.csv',\n",
       " 'DIMTS_realtime_data\\\\17April2021\\\\realTime_busInfo_17-Apr-2021-02-23.csv',\n",
       " 'DIMTS_realtime_data\\\\17April2021\\\\realTime_busInfo_17-Apr-2021-02-24.csv',\n",
       " 'DIMTS_realtime_data\\\\17April2021\\\\realTime_busInfo_17-Apr-2021-02-25.csv',\n",
       " 'DIMTS_realtime_data\\\\17April2021\\\\realTime_busInfo_17-Apr-2021-02-26.csv',\n",
       " 'DIMTS_realtime_data\\\\17April2021\\\\realTime_busInfo_17-Apr-2021-02-27.csv',\n",
       " 'DIMTS_realtime_data\\\\17April2021\\\\realTime_busInfo_17-Apr-2021-02-28.csv',\n",
       " 'DIMTS_realtime_data\\\\17April2021\\\\realTime_busInfo_17-Apr-2021-02-29.csv',\n",
       " 'DIMTS_realtime_data\\\\17April2021\\\\realTime_busInfo_17-Apr-2021-02-30.csv',\n",
       " 'DIMTS_realtime_data\\\\17April2021\\\\realTime_busInfo_17-Apr-2021-02-31.csv',\n",
       " 'DIMTS_realtime_data\\\\17April2021\\\\realTime_busInfo_17-Apr-2021-02-32.csv',\n",
       " 'DIMTS_realtime_data\\\\17April2021\\\\realTime_busInfo_17-Apr-2021-02-33.csv',\n",
       " 'DIMTS_realtime_data\\\\17April2021\\\\realTime_busInfo_17-Apr-2021-02-34.csv',\n",
       " 'DIMTS_realtime_data\\\\17April2021\\\\realTime_busInfo_17-Apr-2021-02-35.csv',\n",
       " 'DIMTS_realtime_data\\\\17April2021\\\\realTime_busInfo_17-Apr-2021-02-36.csv',\n",
       " 'DIMTS_realtime_data\\\\17April2021\\\\realTime_busInfo_17-Apr-2021-02-37.csv',\n",
       " 'DIMTS_realtime_data\\\\17April2021\\\\realTime_busInfo_17-Apr-2021-02-38.csv',\n",
       " 'DIMTS_realtime_data\\\\17April2021\\\\realTime_busInfo_17-Apr-2021-02-39.csv',\n",
       " 'DIMTS_realtime_data\\\\17April2021\\\\realTime_busInfo_17-Apr-2021-02-40.csv',\n",
       " 'DIMTS_realtime_data\\\\17April2021\\\\realTime_busInfo_17-Apr-2021-02-41.csv',\n",
       " 'DIMTS_realtime_data\\\\17April2021\\\\realTime_busInfo_17-Apr-2021-02-42.csv',\n",
       " 'DIMTS_realtime_data\\\\17April2021\\\\realTime_busInfo_17-Apr-2021-02-43.csv',\n",
       " 'DIMTS_realtime_data\\\\17April2021\\\\realTime_busInfo_17-Apr-2021-02-44.csv',\n",
       " 'DIMTS_realtime_data\\\\17April2021\\\\realTime_busInfo_17-Apr-2021-02-45.csv',\n",
       " 'DIMTS_realtime_data\\\\17April2021\\\\realTime_busInfo_17-Apr-2021-02-46.csv',\n",
       " 'DIMTS_realtime_data\\\\17April2021\\\\realTime_busInfo_17-Apr-2021-02-47.csv',\n",
       " 'DIMTS_realtime_data\\\\17April2021\\\\realTime_busInfo_17-Apr-2021-02-48.csv',\n",
       " 'DIMTS_realtime_data\\\\17April2021\\\\realTime_busInfo_17-Apr-2021-02-49.csv',\n",
       " 'DIMTS_realtime_data\\\\17April2021\\\\realTime_busInfo_17-Apr-2021-02-50.csv',\n",
       " 'DIMTS_realtime_data\\\\17April2021\\\\realTime_busInfo_17-Apr-2021-02-51.csv',\n",
       " 'DIMTS_realtime_data\\\\17April2021\\\\realTime_busInfo_17-Apr-2021-02-52.csv',\n",
       " 'DIMTS_realtime_data\\\\17April2021\\\\realTime_busInfo_17-Apr-2021-02-53.csv',\n",
       " 'DIMTS_realtime_data\\\\17April2021\\\\realTime_busInfo_17-Apr-2021-02-54.csv',\n",
       " 'DIMTS_realtime_data\\\\17April2021\\\\realTime_busInfo_17-Apr-2021-02-55.csv',\n",
       " 'DIMTS_realtime_data\\\\17April2021\\\\realTime_busInfo_17-Apr-2021-02-56.csv',\n",
       " 'DIMTS_realtime_data\\\\17April2021\\\\realTime_busInfo_17-Apr-2021-02-57.csv',\n",
       " 'DIMTS_realtime_data\\\\17April2021\\\\realTime_busInfo_17-Apr-2021-02-58.csv',\n",
       " 'DIMTS_realtime_data\\\\17April2021\\\\realTime_busInfo_17-Apr-2021-02-59.csv',\n",
       " 'DIMTS_realtime_data\\\\17April2021\\\\realTime_busInfo_17-Apr-2021-03-00.csv',\n",
       " 'DIMTS_realtime_data\\\\17April2021\\\\realTime_busInfo_17-Apr-2021-07-47.csv',\n",
       " 'DIMTS_realtime_data\\\\17April2021\\\\realTime_busInfo_17-Apr-2021-07-48.csv',\n",
       " 'DIMTS_realtime_data\\\\17April2021\\\\realTime_busInfo_17-Apr-2021-07-49.csv',\n",
       " 'DIMTS_realtime_data\\\\17April2021\\\\realTime_busInfo_17-Apr-2021-07-50.csv',\n",
       " 'DIMTS_realtime_data\\\\17April2021\\\\realTime_busInfo_17-Apr-2021-07-51.csv',\n",
       " 'DIMTS_realtime_data\\\\17April2021\\\\realTime_busInfo_17-Apr-2021-07-52.csv',\n",
       " 'DIMTS_realtime_data\\\\17April2021\\\\realTime_busInfo_17-Apr-2021-07-53.csv',\n",
       " 'DIMTS_realtime_data\\\\17April2021\\\\realTime_busInfo_17-Apr-2021-07-54.csv',\n",
       " 'DIMTS_realtime_data\\\\17April2021\\\\realTime_busInfo_17-Apr-2021-07-55.csv',\n",
       " 'DIMTS_realtime_data\\\\17April2021\\\\realTime_busInfo_17-Apr-2021-07-56.csv',\n",
       " 'DIMTS_realtime_data\\\\17April2021\\\\realTime_busInfo_17-Apr-2021-07-57.csv',\n",
       " 'DIMTS_realtime_data\\\\17April2021\\\\realTime_busInfo_17-Apr-2021-07-58.csv',\n",
       " 'DIMTS_realtime_data\\\\17April2021\\\\realTime_busInfo_17-Apr-2021-07-59.csv',\n",
       " 'DIMTS_realtime_data\\\\17April2021\\\\realTime_busInfo_17-Apr-2021-08-00.csv',\n",
       " 'DIMTS_realtime_data\\\\17April2021\\\\realTime_busInfo_17-Apr-2021-08-01.csv',\n",
       " 'DIMTS_realtime_data\\\\17April2021\\\\realTime_busInfo_17-Apr-2021-08-02.csv',\n",
       " 'DIMTS_realtime_data\\\\17April2021\\\\realTime_busInfo_17-Apr-2021-08-03.csv',\n",
       " 'DIMTS_realtime_data\\\\17April2021\\\\realTime_busInfo_17-Apr-2021-08-04.csv',\n",
       " 'DIMTS_realtime_data\\\\17April2021\\\\realTime_busInfo_17-Apr-2021-08-05.csv',\n",
       " 'DIMTS_realtime_data\\\\17April2021\\\\realTime_busInfo_17-Apr-2021-11-10.csv',\n",
       " 'DIMTS_realtime_data\\\\17April2021\\\\realTime_busInfo_17-Apr-2021-11-11.csv',\n",
       " 'DIMTS_realtime_data\\\\17April2021\\\\realTime_busInfo_17-Apr-2021-11-12.csv',\n",
       " 'DIMTS_realtime_data\\\\17April2021\\\\realTime_busInfo_17-Apr-2021-11-13.csv',\n",
       " 'DIMTS_realtime_data\\\\17April2021\\\\realTime_busInfo_17-Apr-2021-11-14.csv',\n",
       " 'DIMTS_realtime_data\\\\17April2021\\\\realTime_busInfo_17-Apr-2021-11-15.csv',\n",
       " 'DIMTS_realtime_data\\\\17April2021\\\\realTime_busInfo_17-Apr-2021-11-16.csv',\n",
       " 'DIMTS_realtime_data\\\\17April2021\\\\realTime_busInfo_17-Apr-2021-11-17.csv',\n",
       " 'DIMTS_realtime_data\\\\17April2021\\\\realTime_busInfo_17-Apr-2021-11-18.csv',\n",
       " 'DIMTS_realtime_data\\\\17April2021\\\\realTime_busInfo_17-Apr-2021-11-19.csv',\n",
       " 'DIMTS_realtime_data\\\\17April2021\\\\realTime_busInfo_17-Apr-2021-11-20.csv',\n",
       " 'DIMTS_realtime_data\\\\17April2021\\\\realTime_busInfo_17-Apr-2021-11-21.csv',\n",
       " 'DIMTS_realtime_data\\\\17April2021\\\\realTime_busInfo_17-Apr-2021-11-22.csv',\n",
       " 'DIMTS_realtime_data\\\\17April2021\\\\realTime_busInfo_17-Apr-2021-11-23.csv',\n",
       " 'DIMTS_realtime_data\\\\17April2021\\\\realTime_busInfo_17-Apr-2021-11-24.csv',\n",
       " 'DIMTS_realtime_data\\\\17April2021\\\\realTime_busInfo_17-Apr-2021-11-25.csv',\n",
       " 'DIMTS_realtime_data\\\\17April2021\\\\realTime_busInfo_17-Apr-2021-11-26.csv',\n",
       " 'DIMTS_realtime_data\\\\17April2021\\\\realTime_busInfo_17-Apr-2021-11-27.csv',\n",
       " 'DIMTS_realtime_data\\\\17April2021\\\\realTime_busInfo_17-Apr-2021-11-28.csv',\n",
       " 'DIMTS_realtime_data\\\\17April2021\\\\realTime_busInfo_17-Apr-2021-11-29.csv',\n",
       " 'DIMTS_realtime_data\\\\17April2021\\\\realTime_busInfo_17-Apr-2021-11-30.csv',\n",
       " 'DIMTS_realtime_data\\\\17April2021\\\\realTime_busInfo_17-Apr-2021-11-31.csv',\n",
       " 'DIMTS_realtime_data\\\\17April2021\\\\realTime_busInfo_17-Apr-2021-11-32.csv',\n",
       " 'DIMTS_realtime_data\\\\17April2021\\\\realTime_busInfo_17-Apr-2021-11-33.csv',\n",
       " 'DIMTS_realtime_data\\\\17April2021\\\\realTime_busInfo_17-Apr-2021-11-34.csv',\n",
       " 'DIMTS_realtime_data\\\\17April2021\\\\realTime_busInfo_17-Apr-2021-11-35.csv',\n",
       " 'DIMTS_realtime_data\\\\17April2021\\\\realTime_busInfo_17-Apr-2021-11-36.csv',\n",
       " 'DIMTS_realtime_data\\\\17April2021\\\\realTime_busInfo_17-Apr-2021-11-37.csv',\n",
       " 'DIMTS_realtime_data\\\\17April2021\\\\realTime_busInfo_17-Apr-2021-11-38.csv',\n",
       " 'DIMTS_realtime_data\\\\17April2021\\\\realTime_busInfo_17-Apr-2021-11-39.csv',\n",
       " 'DIMTS_realtime_data\\\\17April2021\\\\realTime_busInfo_17-Apr-2021-11-40.csv',\n",
       " 'DIMTS_realtime_data\\\\17April2021\\\\realTime_busInfo_17-Apr-2021-11-41.csv',\n",
       " 'DIMTS_realtime_data\\\\17April2021\\\\realTime_busInfo_17-Apr-2021-11-42.csv',\n",
       " 'DIMTS_realtime_data\\\\17April2021\\\\realTime_busInfo_17-Apr-2021-11-43.csv',\n",
       " 'DIMTS_realtime_data\\\\17April2021\\\\realTime_busInfo_17-Apr-2021-11-44.csv',\n",
       " 'DIMTS_realtime_data\\\\17April2021\\\\realTime_busInfo_17-Apr-2021-11-45.csv',\n",
       " 'DIMTS_realtime_data\\\\17April2021\\\\realTime_busInfo_17-Apr-2021-11-46.csv',\n",
       " 'DIMTS_realtime_data\\\\17April2021\\\\realTime_busInfo_17-Apr-2021-11-47.csv',\n",
       " 'DIMTS_realtime_data\\\\17April2021\\\\realTime_busInfo_17-Apr-2021-11-48.csv',\n",
       " 'DIMTS_realtime_data\\\\17April2021\\\\realTime_busInfo_17-Apr-2021-11-49.csv',\n",
       " 'DIMTS_realtime_data\\\\17April2021\\\\realTime_busInfo_17-Apr-2021-11-50.csv',\n",
       " 'DIMTS_realtime_data\\\\17April2021\\\\realTime_busInfo_17-Apr-2021-11-52.csv',\n",
       " 'DIMTS_realtime_data\\\\17April2021\\\\realTime_busInfo_17-Apr-2021-11-53.csv',\n",
       " 'DIMTS_realtime_data\\\\17April2021\\\\realTime_busInfo_17-Apr-2021-11-54.csv',\n",
       " 'DIMTS_realtime_data\\\\17April2021\\\\realTime_busInfo_17-Apr-2021-11-55.csv',\n",
       " 'DIMTS_realtime_data\\\\17April2021\\\\realTime_busInfo_17-Apr-2021-11-56.csv',\n",
       " 'DIMTS_realtime_data\\\\17April2021\\\\realTime_busInfo_17-Apr-2021-11-57.csv',\n",
       " 'DIMTS_realtime_data\\\\17April2021\\\\realTime_busInfo_17-Apr-2021-11-58.csv',\n",
       " 'DIMTS_realtime_data\\\\17April2021\\\\realTime_busInfo_17-Apr-2021-11-59.csv',\n",
       " 'DIMTS_realtime_data\\\\17April2021\\\\realTime_busInfo_17-Apr-2021-12-00.csv',\n",
       " 'DIMTS_realtime_data\\\\17April2021\\\\realTime_busInfo_17-Apr-2021-12-01.csv',\n",
       " 'DIMTS_realtime_data\\\\17April2021\\\\realTime_busInfo_17-Apr-2021-12-02.csv',\n",
       " 'DIMTS_realtime_data\\\\17April2021\\\\realTime_busInfo_17-Apr-2021-12-03.csv',\n",
       " 'DIMTS_realtime_data\\\\17April2021\\\\realTime_busInfo_17-Apr-2021-12-04.csv',\n",
       " 'DIMTS_realtime_data\\\\17April2021\\\\realTime_busInfo_17-Apr-2021-12-05.csv',\n",
       " 'DIMTS_realtime_data\\\\17April2021\\\\realTime_busInfo_17-Apr-2021-12-06.csv',\n",
       " 'DIMTS_realtime_data\\\\17April2021\\\\realTime_busInfo_17-Apr-2021-12-07.csv',\n",
       " 'DIMTS_realtime_data\\\\17April2021\\\\realTime_busInfo_17-Apr-2021-12-08.csv',\n",
       " 'DIMTS_realtime_data\\\\17April2021\\\\realTime_busInfo_17-Apr-2021-12-09.csv',\n",
       " 'DIMTS_realtime_data\\\\17April2021\\\\realTime_busInfo_17-Apr-2021-12-10.csv',\n",
       " 'DIMTS_realtime_data\\\\17April2021\\\\realTime_busInfo_17-Apr-2021-12-11.csv',\n",
       " 'DIMTS_realtime_data\\\\17April2021\\\\realTime_busInfo_17-Apr-2021-12-12.csv',\n",
       " 'DIMTS_realtime_data\\\\17April2021\\\\realTime_busInfo_17-Apr-2021-12-13.csv',\n",
       " 'DIMTS_realtime_data\\\\17April2021\\\\realTime_busInfo_17-Apr-2021-12-14.csv',\n",
       " 'DIMTS_realtime_data\\\\17April2021\\\\realTime_busInfo_17-Apr-2021-12-15.csv',\n",
       " 'DIMTS_realtime_data\\\\17April2021\\\\realTime_busInfo_17-Apr-2021-12-16.csv',\n",
       " 'DIMTS_realtime_data\\\\17April2021\\\\realTime_busInfo_17-Apr-2021-12-17.csv',\n",
       " 'DIMTS_realtime_data\\\\17April2021\\\\realTime_busInfo_17-Apr-2021-12-18.csv',\n",
       " 'DIMTS_realtime_data\\\\17April2021\\\\realTime_busInfo_17-Apr-2021-12-19.csv',\n",
       " 'DIMTS_realtime_data\\\\17April2021\\\\realTime_busInfo_17-Apr-2021-12-20.csv',\n",
       " 'DIMTS_realtime_data\\\\17April2021\\\\realTime_busInfo_17-Apr-2021-12-21.csv',\n",
       " 'DIMTS_realtime_data\\\\17April2021\\\\realTime_busInfo_17-Apr-2021-12-22.csv',\n",
       " 'DIMTS_realtime_data\\\\17April2021\\\\realTime_busInfo_17-Apr-2021-12-23.csv',\n",
       " 'DIMTS_realtime_data\\\\17April2021\\\\realTime_busInfo_17-Apr-2021-12-24.csv',\n",
       " 'DIMTS_realtime_data\\\\17April2021\\\\realTime_busInfo_17-Apr-2021-12-25.csv',\n",
       " 'DIMTS_realtime_data\\\\17April2021\\\\realTime_busInfo_17-Apr-2021-12-26.csv',\n",
       " 'DIMTS_realtime_data\\\\17April2021\\\\realTime_busInfo_17-Apr-2021-12-27.csv',\n",
       " 'DIMTS_realtime_data\\\\17April2021\\\\realTime_busInfo_17-Apr-2021-12-28.csv',\n",
       " 'DIMTS_realtime_data\\\\17April2021\\\\realTime_busInfo_17-Apr-2021-12-29.csv',\n",
       " 'DIMTS_realtime_data\\\\17April2021\\\\realTime_busInfo_17-Apr-2021-12-30.csv',\n",
       " 'DIMTS_realtime_data\\\\17April2021\\\\realTime_busInfo_17-Apr-2021-12-31.csv',\n",
       " 'DIMTS_realtime_data\\\\17April2021\\\\realTime_busInfo_17-Apr-2021-12-32.csv',\n",
       " 'DIMTS_realtime_data\\\\17April2021\\\\realTime_busInfo_17-Apr-2021-12-33.csv',\n",
       " 'DIMTS_realtime_data\\\\17April2021\\\\realTime_busInfo_17-Apr-2021-12-34.csv',\n",
       " 'DIMTS_realtime_data\\\\17April2021\\\\realTime_busInfo_17-Apr-2021-12-35.csv',\n",
       " 'DIMTS_realtime_data\\\\17April2021\\\\realTime_busInfo_17-Apr-2021-12-36.csv',\n",
       " 'DIMTS_realtime_data\\\\17April2021\\\\realTime_busInfo_17-Apr-2021-12-37.csv',\n",
       " 'DIMTS_realtime_data\\\\17April2021\\\\realTime_busInfo_17-Apr-2021-12-38.csv',\n",
       " 'DIMTS_realtime_data\\\\17April2021\\\\realTime_busInfo_17-Apr-2021-12-39.csv',\n",
       " 'DIMTS_realtime_data\\\\17April2021\\\\realTime_busInfo_17-Apr-2021-12-40.csv',\n",
       " 'DIMTS_realtime_data\\\\17April2021\\\\realTime_busInfo_17-Apr-2021-12-41.csv',\n",
       " 'DIMTS_realtime_data\\\\17April2021\\\\realTime_busInfo_17-Apr-2021-12-42.csv',\n",
       " 'DIMTS_realtime_data\\\\17April2021\\\\realTime_busInfo_17-Apr-2021-12-43.csv',\n",
       " 'DIMTS_realtime_data\\\\17April2021\\\\realTime_busInfo_17-Apr-2021-12-44.csv',\n",
       " 'DIMTS_realtime_data\\\\17April2021\\\\realTime_busInfo_17-Apr-2021-12-45.csv',\n",
       " 'DIMTS_realtime_data\\\\17April2021\\\\realTime_busInfo_17-Apr-2021-12-46.csv',\n",
       " 'DIMTS_realtime_data\\\\17April2021\\\\realTime_busInfo_17-Apr-2021-12-47.csv',\n",
       " 'DIMTS_realtime_data\\\\17April2021\\\\realTime_busInfo_17-Apr-2021-12-49.csv',\n",
       " 'DIMTS_realtime_data\\\\17April2021\\\\realTime_busInfo_17-Apr-2021-12-50.csv',\n",
       " 'DIMTS_realtime_data\\\\17April2021\\\\realTime_busInfo_17-Apr-2021-12-51.csv',\n",
       " 'DIMTS_realtime_data\\\\17April2021\\\\realTime_busInfo_17-Apr-2021-12-52.csv',\n",
       " 'DIMTS_realtime_data\\\\17April2021\\\\realTime_busInfo_17-Apr-2021-12-53.csv',\n",
       " 'DIMTS_realtime_data\\\\17April2021\\\\realTime_busInfo_17-Apr-2021-12-54.csv',\n",
       " 'DIMTS_realtime_data\\\\17April2021\\\\realTime_busInfo_17-Apr-2021-12-55.csv',\n",
       " 'DIMTS_realtime_data\\\\17April2021\\\\realTime_busInfo_17-Apr-2021-12-56.csv',\n",
       " 'DIMTS_realtime_data\\\\17April2021\\\\realTime_busInfo_17-Apr-2021-12-57.csv',\n",
       " 'DIMTS_realtime_data\\\\17April2021\\\\realTime_busInfo_17-Apr-2021-12-58.csv',\n",
       " 'DIMTS_realtime_data\\\\17April2021\\\\realTime_busInfo_17-Apr-2021-12-59.csv',\n",
       " 'DIMTS_realtime_data\\\\17April2021\\\\realTime_busInfo_17-Apr-2021-13-00.csv',\n",
       " 'DIMTS_realtime_data\\\\17April2021\\\\realTime_busInfo_17-Apr-2021-13-01.csv',\n",
       " 'DIMTS_realtime_data\\\\17April2021\\\\realTime_busInfo_17-Apr-2021-13-02.csv',\n",
       " 'DIMTS_realtime_data\\\\17April2021\\\\realTime_busInfo_17-Apr-2021-13-03.csv',\n",
       " 'DIMTS_realtime_data\\\\17April2021\\\\realTime_busInfo_17-Apr-2021-13-04.csv',\n",
       " 'DIMTS_realtime_data\\\\17April2021\\\\realTime_busInfo_17-Apr-2021-13-05.csv',\n",
       " 'DIMTS_realtime_data\\\\17April2021\\\\realTime_busInfo_17-Apr-2021-13-06.csv',\n",
       " 'DIMTS_realtime_data\\\\17April2021\\\\realTime_busInfo_17-Apr-2021-13-07.csv',\n",
       " 'DIMTS_realtime_data\\\\17April2021\\\\realTime_busInfo_17-Apr-2021-13-08.csv',\n",
       " 'DIMTS_realtime_data\\\\17April2021\\\\realTime_busInfo_17-Apr-2021-13-09.csv',\n",
       " 'DIMTS_realtime_data\\\\17April2021\\\\realTime_busInfo_17-Apr-2021-13-10.csv',\n",
       " 'DIMTS_realtime_data\\\\17April2021\\\\realTime_busInfo_17-Apr-2021-13-11.csv',\n",
       " 'DIMTS_realtime_data\\\\17April2021\\\\realTime_busInfo_17-Apr-2021-13-12.csv',\n",
       " 'DIMTS_realtime_data\\\\17April2021\\\\realTime_busInfo_17-Apr-2021-13-13.csv',\n",
       " 'DIMTS_realtime_data\\\\17April2021\\\\realTime_busInfo_17-Apr-2021-13-14.csv',\n",
       " 'DIMTS_realtime_data\\\\17April2021\\\\realTime_busInfo_17-Apr-2021-13-15.csv',\n",
       " 'DIMTS_realtime_data\\\\17April2021\\\\realTime_busInfo_17-Apr-2021-13-16.csv',\n",
       " 'DIMTS_realtime_data\\\\17April2021\\\\realTime_busInfo_17-Apr-2021-13-17.csv',\n",
       " 'DIMTS_realtime_data\\\\17April2021\\\\realTime_busInfo_17-Apr-2021-13-18.csv',\n",
       " 'DIMTS_realtime_data\\\\17April2021\\\\realTime_busInfo_17-Apr-2021-13-19.csv',\n",
       " 'DIMTS_realtime_data\\\\17April2021\\\\realTime_busInfo_17-Apr-2021-13-20.csv',\n",
       " 'DIMTS_realtime_data\\\\17April2021\\\\realTime_busInfo_17-Apr-2021-13-21.csv',\n",
       " 'DIMTS_realtime_data\\\\17April2021\\\\realTime_busInfo_17-Apr-2021-13-22.csv',\n",
       " 'DIMTS_realtime_data\\\\17April2021\\\\realTime_busInfo_17-Apr-2021-13-23.csv',\n",
       " 'DIMTS_realtime_data\\\\17April2021\\\\realTime_busInfo_17-Apr-2021-13-24.csv',\n",
       " 'DIMTS_realtime_data\\\\17April2021\\\\realTime_busInfo_17-Apr-2021-13-25.csv',\n",
       " 'DIMTS_realtime_data\\\\17April2021\\\\realTime_busInfo_17-Apr-2021-13-26.csv',\n",
       " 'DIMTS_realtime_data\\\\17April2021\\\\realTime_busInfo_17-Apr-2021-13-27.csv',\n",
       " 'DIMTS_realtime_data\\\\17April2021\\\\realTime_busInfo_17-Apr-2021-13-28.csv',\n",
       " 'DIMTS_realtime_data\\\\17April2021\\\\realTime_busInfo_17-Apr-2021-13-29.csv',\n",
       " 'DIMTS_realtime_data\\\\17April2021\\\\realTime_busInfo_17-Apr-2021-13-30.csv',\n",
       " 'DIMTS_realtime_data\\\\17April2021\\\\realTime_busInfo_17-Apr-2021-13-31.csv',\n",
       " 'DIMTS_realtime_data\\\\17April2021\\\\realTime_busInfo_17-Apr-2021-13-32.csv',\n",
       " 'DIMTS_realtime_data\\\\17April2021\\\\realTime_busInfo_17-Apr-2021-13-33.csv',\n",
       " 'DIMTS_realtime_data\\\\17April2021\\\\realTime_busInfo_17-Apr-2021-13-34.csv',\n",
       " 'DIMTS_realtime_data\\\\17April2021\\\\realTime_busInfo_17-Apr-2021-13-35.csv',\n",
       " 'DIMTS_realtime_data\\\\17April2021\\\\realTime_busInfo_17-Apr-2021-13-36.csv',\n",
       " 'DIMTS_realtime_data\\\\17April2021\\\\realTime_busInfo_17-Apr-2021-13-37.csv',\n",
       " 'DIMTS_realtime_data\\\\17April2021\\\\realTime_busInfo_17-Apr-2021-13-38.csv',\n",
       " 'DIMTS_realtime_data\\\\17April2021\\\\realTime_busInfo_17-Apr-2021-13-39.csv',\n",
       " 'DIMTS_realtime_data\\\\17April2021\\\\realTime_busInfo_17-Apr-2021-13-40.csv',\n",
       " 'DIMTS_realtime_data\\\\17April2021\\\\realTime_busInfo_17-Apr-2021-13-41.csv',\n",
       " 'DIMTS_realtime_data\\\\17April2021\\\\realTime_busInfo_17-Apr-2021-13-42.csv',\n",
       " 'DIMTS_realtime_data\\\\17April2021\\\\realTime_busInfo_17-Apr-2021-13-43.csv',\n",
       " 'DIMTS_realtime_data\\\\17April2021\\\\realTime_busInfo_17-Apr-2021-13-44.csv',\n",
       " 'DIMTS_realtime_data\\\\17April2021\\\\realTime_busInfo_17-Apr-2021-13-45.csv',\n",
       " 'DIMTS_realtime_data\\\\17April2021\\\\realTime_busInfo_17-Apr-2021-13-46.csv',\n",
       " 'DIMTS_realtime_data\\\\17April2021\\\\realTime_busInfo_17-Apr-2021-13-47.csv',\n",
       " 'DIMTS_realtime_data\\\\17April2021\\\\realTime_busInfo_17-Apr-2021-13-48.csv',\n",
       " 'DIMTS_realtime_data\\\\17April2021\\\\realTime_busInfo_17-Apr-2021-13-49.csv',\n",
       " 'DIMTS_realtime_data\\\\17April2021\\\\realTime_busInfo_17-Apr-2021-13-50.csv',\n",
       " 'DIMTS_realtime_data\\\\17April2021\\\\realTime_busInfo_17-Apr-2021-13-52.csv',\n",
       " 'DIMTS_realtime_data\\\\17April2021\\\\realTime_busInfo_17-Apr-2021-13-53.csv',\n",
       " 'DIMTS_realtime_data\\\\17April2021\\\\realTime_busInfo_17-Apr-2021-13-54.csv',\n",
       " 'DIMTS_realtime_data\\\\17April2021\\\\realTime_busInfo_17-Apr-2021-13-55.csv',\n",
       " 'DIMTS_realtime_data\\\\17April2021\\\\realTime_busInfo_17-Apr-2021-13-56.csv',\n",
       " 'DIMTS_realtime_data\\\\17April2021\\\\realTime_busInfo_17-Apr-2021-13-57.csv',\n",
       " 'DIMTS_realtime_data\\\\17April2021\\\\realTime_busInfo_17-Apr-2021-13-58.csv',\n",
       " 'DIMTS_realtime_data\\\\17April2021\\\\realTime_busInfo_17-Apr-2021-13-59.csv',\n",
       " 'DIMTS_realtime_data\\\\17April2021\\\\realTime_busInfo_17-Apr-2021-14-00.csv',\n",
       " 'DIMTS_realtime_data\\\\17April2021\\\\realTime_busInfo_17-Apr-2021-14-01.csv',\n",
       " 'DIMTS_realtime_data\\\\17April2021\\\\realTime_busInfo_17-Apr-2021-14-02.csv',\n",
       " 'DIMTS_realtime_data\\\\17April2021\\\\realTime_busInfo_17-Apr-2021-14-03.csv',\n",
       " 'DIMTS_realtime_data\\\\17April2021\\\\realTime_busInfo_17-Apr-2021-14-04.csv',\n",
       " 'DIMTS_realtime_data\\\\17April2021\\\\realTime_busInfo_17-Apr-2021-14-05.csv',\n",
       " 'DIMTS_realtime_data\\\\17April2021\\\\realTime_busInfo_17-Apr-2021-14-06.csv',\n",
       " 'DIMTS_realtime_data\\\\17April2021\\\\realTime_busInfo_17-Apr-2021-14-07.csv',\n",
       " 'DIMTS_realtime_data\\\\17April2021\\\\realTime_busInfo_17-Apr-2021-14-08.csv',\n",
       " 'DIMTS_realtime_data\\\\17April2021\\\\realTime_busInfo_17-Apr-2021-14-09.csv',\n",
       " 'DIMTS_realtime_data\\\\17April2021\\\\realTime_busInfo_17-Apr-2021-14-10.csv',\n",
       " 'DIMTS_realtime_data\\\\17April2021\\\\realTime_busInfo_17-Apr-2021-14-11.csv',\n",
       " 'DIMTS_realtime_data\\\\17April2021\\\\realTime_busInfo_17-Apr-2021-14-12.csv',\n",
       " 'DIMTS_realtime_data\\\\17April2021\\\\realTime_busInfo_17-Apr-2021-14-13.csv',\n",
       " 'DIMTS_realtime_data\\\\17April2021\\\\realTime_busInfo_17-Apr-2021-14-14.csv',\n",
       " 'DIMTS_realtime_data\\\\17April2021\\\\realTime_busInfo_17-Apr-2021-14-15.csv',\n",
       " 'DIMTS_realtime_data\\\\17April2021\\\\realTime_busInfo_17-Apr-2021-14-16.csv',\n",
       " 'DIMTS_realtime_data\\\\17April2021\\\\realTime_busInfo_17-Apr-2021-14-17.csv',\n",
       " 'DIMTS_realtime_data\\\\17April2021\\\\realTime_busInfo_17-Apr-2021-14-18.csv',\n",
       " 'DIMTS_realtime_data\\\\17April2021\\\\realTime_busInfo_17-Apr-2021-14-19.csv',\n",
       " 'DIMTS_realtime_data\\\\17April2021\\\\realTime_busInfo_17-Apr-2021-14-20.csv',\n",
       " 'DIMTS_realtime_data\\\\17April2021\\\\realTime_busInfo_17-Apr-2021-14-21.csv',\n",
       " 'DIMTS_realtime_data\\\\17April2021\\\\realTime_busInfo_17-Apr-2021-14-22.csv',\n",
       " 'DIMTS_realtime_data\\\\17April2021\\\\realTime_busInfo_17-Apr-2021-14-23.csv',\n",
       " 'DIMTS_realtime_data\\\\17April2021\\\\realTime_busInfo_17-Apr-2021-14-24.csv',\n",
       " 'DIMTS_realtime_data\\\\17April2021\\\\realTime_busInfo_17-Apr-2021-14-25.csv',\n",
       " 'DIMTS_realtime_data\\\\17April2021\\\\realTime_busInfo_17-Apr-2021-14-26.csv',\n",
       " 'DIMTS_realtime_data\\\\17April2021\\\\realTime_busInfo_17-Apr-2021-14-27.csv',\n",
       " 'DIMTS_realtime_data\\\\17April2021\\\\realTime_busInfo_17-Apr-2021-14-28.csv',\n",
       " 'DIMTS_realtime_data\\\\17April2021\\\\realTime_busInfo_17-Apr-2021-14-29.csv',\n",
       " 'DIMTS_realtime_data\\\\17April2021\\\\realTime_busInfo_17-Apr-2021-14-30.csv',\n",
       " 'DIMTS_realtime_data\\\\17April2021\\\\realTime_busInfo_17-Apr-2021-14-31.csv',\n",
       " 'DIMTS_realtime_data\\\\17April2021\\\\realTime_busInfo_17-Apr-2021-14-32.csv',\n",
       " 'DIMTS_realtime_data\\\\17April2021\\\\realTime_busInfo_17-Apr-2021-14-33.csv',\n",
       " 'DIMTS_realtime_data\\\\17April2021\\\\realTime_busInfo_17-Apr-2021-14-34.csv',\n",
       " 'DIMTS_realtime_data\\\\17April2021\\\\realTime_busInfo_17-Apr-2021-14-35.csv',\n",
       " 'DIMTS_realtime_data\\\\17April2021\\\\realTime_busInfo_17-Apr-2021-14-36.csv',\n",
       " 'DIMTS_realtime_data\\\\17April2021\\\\realTime_busInfo_17-Apr-2021-14-37.csv',\n",
       " 'DIMTS_realtime_data\\\\17April2021\\\\realTime_busInfo_17-Apr-2021-14-38.csv',\n",
       " 'DIMTS_realtime_data\\\\17April2021\\\\realTime_busInfo_17-Apr-2021-14-39.csv',\n",
       " 'DIMTS_realtime_data\\\\17April2021\\\\realTime_busInfo_17-Apr-2021-14-40.csv',\n",
       " 'DIMTS_realtime_data\\\\17April2021\\\\realTime_busInfo_17-Apr-2021-14-41.csv',\n",
       " 'DIMTS_realtime_data\\\\17April2021\\\\realTime_busInfo_17-Apr-2021-14-42.csv',\n",
       " 'DIMTS_realtime_data\\\\17April2021\\\\realTime_busInfo_17-Apr-2021-14-43.csv',\n",
       " 'DIMTS_realtime_data\\\\17April2021\\\\realTime_busInfo_17-Apr-2021-14-44.csv',\n",
       " 'DIMTS_realtime_data\\\\17April2021\\\\realTime_busInfo_17-Apr-2021-14-45.csv',\n",
       " 'DIMTS_realtime_data\\\\17April2021\\\\realTime_busInfo_17-Apr-2021-14-46.csv',\n",
       " 'DIMTS_realtime_data\\\\17April2021\\\\realTime_busInfo_17-Apr-2021-14-47.csv',\n",
       " 'DIMTS_realtime_data\\\\17April2021\\\\realTime_busInfo_17-Apr-2021-14-48.csv',\n",
       " 'DIMTS_realtime_data\\\\17April2021\\\\realTime_busInfo_17-Apr-2021-14-49.csv',\n",
       " 'DIMTS_realtime_data\\\\17April2021\\\\realTime_busInfo_17-Apr-2021-14-51.csv',\n",
       " 'DIMTS_realtime_data\\\\17April2021\\\\realTime_busInfo_17-Apr-2021-14-52.csv',\n",
       " 'DIMTS_realtime_data\\\\17April2021\\\\realTime_busInfo_17-Apr-2021-14-53.csv',\n",
       " 'DIMTS_realtime_data\\\\17April2021\\\\realTime_busInfo_17-Apr-2021-14-54.csv',\n",
       " 'DIMTS_realtime_data\\\\17April2021\\\\realTime_busInfo_17-Apr-2021-14-55.csv',\n",
       " 'DIMTS_realtime_data\\\\17April2021\\\\realTime_busInfo_17-Apr-2021-14-56.csv',\n",
       " 'DIMTS_realtime_data\\\\17April2021\\\\realTime_busInfo_17-Apr-2021-14-57.csv',\n",
       " 'DIMTS_realtime_data\\\\17April2021\\\\realTime_busInfo_17-Apr-2021-14-58.csv',\n",
       " 'DIMTS_realtime_data\\\\17April2021\\\\realTime_busInfo_17-Apr-2021-14-59.csv',\n",
       " 'DIMTS_realtime_data\\\\17April2021\\\\realTime_busInfo_17-Apr-2021-15-00.csv',\n",
       " 'DIMTS_realtime_data\\\\17April2021\\\\realTime_busInfo_17-Apr-2021-15-01.csv',\n",
       " 'DIMTS_realtime_data\\\\17April2021\\\\realTime_busInfo_17-Apr-2021-15-02.csv',\n",
       " 'DIMTS_realtime_data\\\\17April2021\\\\realTime_busInfo_17-Apr-2021-15-03.csv',\n",
       " 'DIMTS_realtime_data\\\\17April2021\\\\realTime_busInfo_17-Apr-2021-15-04.csv',\n",
       " 'DIMTS_realtime_data\\\\17April2021\\\\realTime_busInfo_17-Apr-2021-15-05.csv',\n",
       " 'DIMTS_realtime_data\\\\17April2021\\\\realTime_busInfo_17-Apr-2021-15-06.csv',\n",
       " 'DIMTS_realtime_data\\\\17April2021\\\\realTime_busInfo_17-Apr-2021-15-07.csv',\n",
       " 'DIMTS_realtime_data\\\\17April2021\\\\realTime_busInfo_17-Apr-2021-15-08.csv',\n",
       " 'DIMTS_realtime_data\\\\17April2021\\\\realTime_busInfo_17-Apr-2021-15-09.csv',\n",
       " 'DIMTS_realtime_data\\\\17April2021\\\\realTime_busInfo_17-Apr-2021-15-10.csv',\n",
       " 'DIMTS_realtime_data\\\\17April2021\\\\realTime_busInfo_17-Apr-2021-15-11.csv',\n",
       " 'DIMTS_realtime_data\\\\17April2021\\\\realTime_busInfo_17-Apr-2021-15-12.csv',\n",
       " 'DIMTS_realtime_data\\\\17April2021\\\\realTime_busInfo_17-Apr-2021-15-13.csv',\n",
       " 'DIMTS_realtime_data\\\\17April2021\\\\realTime_busInfo_17-Apr-2021-15-14.csv',\n",
       " 'DIMTS_realtime_data\\\\17April2021\\\\realTime_busInfo_17-Apr-2021-15-15.csv',\n",
       " 'DIMTS_realtime_data\\\\17April2021\\\\realTime_busInfo_17-Apr-2021-15-16.csv',\n",
       " 'DIMTS_realtime_data\\\\17April2021\\\\realTime_busInfo_17-Apr-2021-15-17.csv',\n",
       " 'DIMTS_realtime_data\\\\17April2021\\\\realTime_busInfo_17-Apr-2021-15-18.csv',\n",
       " 'DIMTS_realtime_data\\\\17April2021\\\\realTime_busInfo_17-Apr-2021-15-19.csv',\n",
       " 'DIMTS_realtime_data\\\\17April2021\\\\realTime_busInfo_17-Apr-2021-15-20.csv',\n",
       " 'DIMTS_realtime_data\\\\17April2021\\\\realTime_busInfo_17-Apr-2021-15-21.csv',\n",
       " 'DIMTS_realtime_data\\\\17April2021\\\\realTime_busInfo_17-Apr-2021-15-22.csv',\n",
       " 'DIMTS_realtime_data\\\\17April2021\\\\realTime_busInfo_17-Apr-2021-15-23.csv',\n",
       " 'DIMTS_realtime_data\\\\17April2021\\\\realTime_busInfo_17-Apr-2021-15-24.csv',\n",
       " 'DIMTS_realtime_data\\\\17April2021\\\\realTime_busInfo_17-Apr-2021-15-25.csv',\n",
       " 'DIMTS_realtime_data\\\\17April2021\\\\realTime_busInfo_17-Apr-2021-15-26.csv',\n",
       " 'DIMTS_realtime_data\\\\17April2021\\\\realTime_busInfo_17-Apr-2021-15-27.csv',\n",
       " 'DIMTS_realtime_data\\\\17April2021\\\\realTime_busInfo_17-Apr-2021-15-28.csv',\n",
       " 'DIMTS_realtime_data\\\\17April2021\\\\realTime_busInfo_17-Apr-2021-15-29.csv',\n",
       " 'DIMTS_realtime_data\\\\17April2021\\\\realTime_busInfo_17-Apr-2021-15-30.csv',\n",
       " 'DIMTS_realtime_data\\\\17April2021\\\\realTime_busInfo_17-Apr-2021-15-31.csv',\n",
       " 'DIMTS_realtime_data\\\\17April2021\\\\realTime_busInfo_17-Apr-2021-15-32.csv',\n",
       " 'DIMTS_realtime_data\\\\17April2021\\\\realTime_busInfo_17-Apr-2021-15-33.csv',\n",
       " 'DIMTS_realtime_data\\\\17April2021\\\\realTime_busInfo_17-Apr-2021-15-34.csv',\n",
       " 'DIMTS_realtime_data\\\\17April2021\\\\realTime_busInfo_17-Apr-2021-15-35.csv',\n",
       " 'DIMTS_realtime_data\\\\17April2021\\\\realTime_busInfo_17-Apr-2021-15-36.csv',\n",
       " 'DIMTS_realtime_data\\\\17April2021\\\\realTime_busInfo_17-Apr-2021-15-37.csv',\n",
       " 'DIMTS_realtime_data\\\\17April2021\\\\realTime_busInfo_17-Apr-2021-15-38.csv',\n",
       " 'DIMTS_realtime_data\\\\17April2021\\\\realTime_busInfo_17-Apr-2021-15-39.csv',\n",
       " 'DIMTS_realtime_data\\\\17April2021\\\\realTime_busInfo_17-Apr-2021-15-40.csv',\n",
       " 'DIMTS_realtime_data\\\\17April2021\\\\realTime_busInfo_17-Apr-2021-15-41.csv',\n",
       " 'DIMTS_realtime_data\\\\17April2021\\\\realTime_busInfo_17-Apr-2021-15-42.csv',\n",
       " 'DIMTS_realtime_data\\\\17April2021\\\\realTime_busInfo_17-Apr-2021-15-43.csv',\n",
       " 'DIMTS_realtime_data\\\\17April2021\\\\realTime_busInfo_17-Apr-2021-15-44.csv',\n",
       " 'DIMTS_realtime_data\\\\17April2021\\\\realTime_busInfo_17-Apr-2021-15-45.csv',\n",
       " 'DIMTS_realtime_data\\\\17April2021\\\\realTime_busInfo_17-Apr-2021-15-46.csv',\n",
       " 'DIMTS_realtime_data\\\\17April2021\\\\realTime_busInfo_17-Apr-2021-15-47.csv',\n",
       " 'DIMTS_realtime_data\\\\17April2021\\\\realTime_busInfo_17-Apr-2021-15-48.csv',\n",
       " 'DIMTS_realtime_data\\\\17April2021\\\\realTime_busInfo_17-Apr-2021-15-50.csv',\n",
       " 'DIMTS_realtime_data\\\\17April2021\\\\realTime_busInfo_17-Apr-2021-15-51.csv',\n",
       " 'DIMTS_realtime_data\\\\17April2021\\\\realTime_busInfo_17-Apr-2021-15-52.csv',\n",
       " 'DIMTS_realtime_data\\\\17April2021\\\\realTime_busInfo_17-Apr-2021-15-53.csv',\n",
       " 'DIMTS_realtime_data\\\\17April2021\\\\realTime_busInfo_17-Apr-2021-15-54.csv',\n",
       " 'DIMTS_realtime_data\\\\17April2021\\\\realTime_busInfo_17-Apr-2021-15-55.csv',\n",
       " 'DIMTS_realtime_data\\\\17April2021\\\\realTime_busInfo_17-Apr-2021-15-56.csv',\n",
       " 'DIMTS_realtime_data\\\\17April2021\\\\realTime_busInfo_17-Apr-2021-15-57.csv',\n",
       " 'DIMTS_realtime_data\\\\17April2021\\\\realTime_busInfo_17-Apr-2021-15-58.csv',\n",
       " 'DIMTS_realtime_data\\\\17April2021\\\\realTime_busInfo_17-Apr-2021-15-59.csv',\n",
       " 'DIMTS_realtime_data\\\\17April2021\\\\realTime_busInfo_17-Apr-2021-16-00.csv',\n",
       " 'DIMTS_realtime_data\\\\17April2021\\\\realTime_busInfo_17-Apr-2021-16-01.csv',\n",
       " 'DIMTS_realtime_data\\\\17April2021\\\\realTime_busInfo_17-Apr-2021-16-02.csv',\n",
       " 'DIMTS_realtime_data\\\\17April2021\\\\realTime_busInfo_17-Apr-2021-16-03.csv',\n",
       " 'DIMTS_realtime_data\\\\17April2021\\\\realTime_busInfo_17-Apr-2021-16-04.csv',\n",
       " 'DIMTS_realtime_data\\\\17April2021\\\\realTime_busInfo_17-Apr-2021-16-05.csv',\n",
       " 'DIMTS_realtime_data\\\\17April2021\\\\realTime_busInfo_17-Apr-2021-16-06.csv',\n",
       " 'DIMTS_realtime_data\\\\17April2021\\\\realTime_busInfo_17-Apr-2021-16-07.csv',\n",
       " 'DIMTS_realtime_data\\\\17April2021\\\\realTime_busInfo_17-Apr-2021-16-08.csv',\n",
       " 'DIMTS_realtime_data\\\\17April2021\\\\realTime_busInfo_17-Apr-2021-16-09.csv',\n",
       " 'DIMTS_realtime_data\\\\17April2021\\\\realTime_busInfo_17-Apr-2021-16-10.csv',\n",
       " 'DIMTS_realtime_data\\\\17April2021\\\\realTime_busInfo_17-Apr-2021-16-11.csv',\n",
       " 'DIMTS_realtime_data\\\\17April2021\\\\realTime_busInfo_17-Apr-2021-16-12.csv',\n",
       " 'DIMTS_realtime_data\\\\17April2021\\\\realTime_busInfo_17-Apr-2021-16-13.csv',\n",
       " 'DIMTS_realtime_data\\\\17April2021\\\\realTime_busInfo_17-Apr-2021-16-14.csv',\n",
       " 'DIMTS_realtime_data\\\\17April2021\\\\realTime_busInfo_17-Apr-2021-16-15.csv',\n",
       " 'DIMTS_realtime_data\\\\17April2021\\\\realTime_busInfo_17-Apr-2021-16-16.csv',\n",
       " 'DIMTS_realtime_data\\\\17April2021\\\\realTime_busInfo_17-Apr-2021-16-17.csv',\n",
       " 'DIMTS_realtime_data\\\\17April2021\\\\realTime_busInfo_17-Apr-2021-16-18.csv',\n",
       " 'DIMTS_realtime_data\\\\17April2021\\\\realTime_busInfo_17-Apr-2021-16-19.csv',\n",
       " 'DIMTS_realtime_data\\\\17April2021\\\\realTime_busInfo_17-Apr-2021-16-20.csv',\n",
       " 'DIMTS_realtime_data\\\\17April2021\\\\realTime_busInfo_17-Apr-2021-16-21.csv',\n",
       " 'DIMTS_realtime_data\\\\17April2021\\\\realTime_busInfo_17-Apr-2021-16-22.csv',\n",
       " 'DIMTS_realtime_data\\\\17April2021\\\\realTime_busInfo_17-Apr-2021-16-23.csv',\n",
       " 'DIMTS_realtime_data\\\\17April2021\\\\realTime_busInfo_17-Apr-2021-16-24.csv',\n",
       " 'DIMTS_realtime_data\\\\17April2021\\\\realTime_busInfo_17-Apr-2021-16-25.csv',\n",
       " 'DIMTS_realtime_data\\\\17April2021\\\\realTime_busInfo_17-Apr-2021-16-26.csv',\n",
       " 'DIMTS_realtime_data\\\\17April2021\\\\realTime_busInfo_17-Apr-2021-16-27.csv',\n",
       " 'DIMTS_realtime_data\\\\17April2021\\\\realTime_busInfo_17-Apr-2021-16-28.csv',\n",
       " 'DIMTS_realtime_data\\\\17April2021\\\\realTime_busInfo_17-Apr-2021-16-29.csv',\n",
       " 'DIMTS_realtime_data\\\\17April2021\\\\realTime_busInfo_17-Apr-2021-16-30.csv',\n",
       " 'DIMTS_realtime_data\\\\17April2021\\\\realTime_busInfo_17-Apr-2021-16-31.csv',\n",
       " 'DIMTS_realtime_data\\\\17April2021\\\\realTime_busInfo_17-Apr-2021-16-32.csv',\n",
       " 'DIMTS_realtime_data\\\\17April2021\\\\realTime_busInfo_17-Apr-2021-16-33.csv',\n",
       " 'DIMTS_realtime_data\\\\17April2021\\\\realTime_busInfo_17-Apr-2021-16-34.csv',\n",
       " 'DIMTS_realtime_data\\\\17April2021\\\\realTime_busInfo_17-Apr-2021-16-35.csv',\n",
       " 'DIMTS_realtime_data\\\\17April2021\\\\realTime_busInfo_17-Apr-2021-16-36.csv',\n",
       " 'DIMTS_realtime_data\\\\17April2021\\\\realTime_busInfo_17-Apr-2021-16-37.csv',\n",
       " 'DIMTS_realtime_data\\\\17April2021\\\\realTime_busInfo_17-Apr-2021-16-38.csv',\n",
       " 'DIMTS_realtime_data\\\\17April2021\\\\realTime_busInfo_17-Apr-2021-16-39.csv',\n",
       " 'DIMTS_realtime_data\\\\17April2021\\\\realTime_busInfo_17-Apr-2021-16-40.csv',\n",
       " 'DIMTS_realtime_data\\\\17April2021\\\\realTime_busInfo_17-Apr-2021-16-41.csv',\n",
       " 'DIMTS_realtime_data\\\\17April2021\\\\realTime_busInfo_17-Apr-2021-16-42.csv',\n",
       " 'DIMTS_realtime_data\\\\17April2021\\\\realTime_busInfo_17-Apr-2021-16-43.csv',\n",
       " 'DIMTS_realtime_data\\\\17April2021\\\\realTime_busInfo_17-Apr-2021-16-44.csv',\n",
       " 'DIMTS_realtime_data\\\\17April2021\\\\realTime_busInfo_17-Apr-2021-16-45.csv',\n",
       " 'DIMTS_realtime_data\\\\17April2021\\\\realTime_busInfo_17-Apr-2021-16-46.csv',\n",
       " 'DIMTS_realtime_data\\\\17April2021\\\\realTime_busInfo_17-Apr-2021-16-47.csv',\n",
       " 'DIMTS_realtime_data\\\\17April2021\\\\realTime_busInfo_17-Apr-2021-16-48.csv',\n",
       " 'DIMTS_realtime_data\\\\17April2021\\\\realTime_busInfo_17-Apr-2021-16-49.csv',\n",
       " 'DIMTS_realtime_data\\\\17April2021\\\\realTime_busInfo_17-Apr-2021-16-50.csv',\n",
       " 'DIMTS_realtime_data\\\\17April2021\\\\realTime_busInfo_17-Apr-2021-16-51.csv',\n",
       " 'DIMTS_realtime_data\\\\17April2021\\\\realTime_busInfo_17-Apr-2021-16-53.csv',\n",
       " 'DIMTS_realtime_data\\\\17April2021\\\\realTime_busInfo_17-Apr-2021-16-54.csv',\n",
       " 'DIMTS_realtime_data\\\\17April2021\\\\realTime_busInfo_17-Apr-2021-16-55.csv',\n",
       " 'DIMTS_realtime_data\\\\17April2021\\\\realTime_busInfo_17-Apr-2021-16-56.csv',\n",
       " 'DIMTS_realtime_data\\\\17April2021\\\\realTime_busInfo_17-Apr-2021-16-57.csv',\n",
       " 'DIMTS_realtime_data\\\\17April2021\\\\realTime_busInfo_17-Apr-2021-16-58.csv',\n",
       " 'DIMTS_realtime_data\\\\17April2021\\\\realTime_busInfo_17-Apr-2021-16-59.csv',\n",
       " 'DIMTS_realtime_data\\\\17April2021\\\\realTime_busInfo_17-Apr-2021-17-00.csv',\n",
       " 'DIMTS_realtime_data\\\\17April2021\\\\realTime_busInfo_17-Apr-2021-17-01.csv',\n",
       " 'DIMTS_realtime_data\\\\17April2021\\\\realTime_busInfo_17-Apr-2021-17-02.csv',\n",
       " 'DIMTS_realtime_data\\\\17April2021\\\\realTime_busInfo_17-Apr-2021-17-03.csv',\n",
       " 'DIMTS_realtime_data\\\\17April2021\\\\realTime_busInfo_17-Apr-2021-17-04.csv',\n",
       " 'DIMTS_realtime_data\\\\17April2021\\\\realTime_busInfo_17-Apr-2021-17-05.csv',\n",
       " 'DIMTS_realtime_data\\\\17April2021\\\\realTime_busInfo_17-Apr-2021-17-06.csv',\n",
       " 'DIMTS_realtime_data\\\\17April2021\\\\realTime_busInfo_17-Apr-2021-17-07.csv',\n",
       " 'DIMTS_realtime_data\\\\17April2021\\\\realTime_busInfo_17-Apr-2021-17-08.csv',\n",
       " 'DIMTS_realtime_data\\\\17April2021\\\\realTime_busInfo_17-Apr-2021-17-09.csv',\n",
       " 'DIMTS_realtime_data\\\\17April2021\\\\realTime_busInfo_17-Apr-2021-17-10.csv',\n",
       " 'DIMTS_realtime_data\\\\17April2021\\\\realTime_busInfo_17-Apr-2021-17-11.csv',\n",
       " 'DIMTS_realtime_data\\\\17April2021\\\\realTime_busInfo_17-Apr-2021-17-12.csv',\n",
       " 'DIMTS_realtime_data\\\\17April2021\\\\realTime_busInfo_17-Apr-2021-17-13.csv',\n",
       " 'DIMTS_realtime_data\\\\17April2021\\\\realTime_busInfo_17-Apr-2021-17-14.csv',\n",
       " 'DIMTS_realtime_data\\\\17April2021\\\\realTime_busInfo_17-Apr-2021-17-15.csv',\n",
       " 'DIMTS_realtime_data\\\\17April2021\\\\realTime_busInfo_17-Apr-2021-17-16.csv',\n",
       " 'DIMTS_realtime_data\\\\17April2021\\\\realTime_busInfo_17-Apr-2021-17-17.csv',\n",
       " 'DIMTS_realtime_data\\\\17April2021\\\\realTime_busInfo_17-Apr-2021-17-18.csv',\n",
       " 'DIMTS_realtime_data\\\\17April2021\\\\realTime_busInfo_17-Apr-2021-17-19.csv',\n",
       " 'DIMTS_realtime_data\\\\17April2021\\\\realTime_busInfo_17-Apr-2021-17-20.csv',\n",
       " 'DIMTS_realtime_data\\\\17April2021\\\\realTime_busInfo_17-Apr-2021-17-21.csv',\n",
       " 'DIMTS_realtime_data\\\\17April2021\\\\realTime_busInfo_17-Apr-2021-17-22.csv',\n",
       " 'DIMTS_realtime_data\\\\17April2021\\\\realTime_busInfo_17-Apr-2021-17-23.csv',\n",
       " 'DIMTS_realtime_data\\\\17April2021\\\\realTime_busInfo_17-Apr-2021-17-24.csv',\n",
       " 'DIMTS_realtime_data\\\\17April2021\\\\realTime_busInfo_17-Apr-2021-17-25.csv',\n",
       " 'DIMTS_realtime_data\\\\17April2021\\\\realTime_busInfo_17-Apr-2021-17-26.csv',\n",
       " 'DIMTS_realtime_data\\\\17April2021\\\\realTime_busInfo_17-Apr-2021-17-27.csv',\n",
       " 'DIMTS_realtime_data\\\\17April2021\\\\realTime_busInfo_17-Apr-2021-17-28.csv',\n",
       " 'DIMTS_realtime_data\\\\17April2021\\\\realTime_busInfo_17-Apr-2021-17-29.csv',\n",
       " 'DIMTS_realtime_data\\\\17April2021\\\\realTime_busInfo_17-Apr-2021-17-30.csv',\n",
       " 'DIMTS_realtime_data\\\\17April2021\\\\realTime_busInfo_17-Apr-2021-17-31.csv',\n",
       " 'DIMTS_realtime_data\\\\17April2021\\\\realTime_busInfo_17-Apr-2021-17-32.csv',\n",
       " 'DIMTS_realtime_data\\\\17April2021\\\\realTime_busInfo_17-Apr-2021-17-33.csv',\n",
       " 'DIMTS_realtime_data\\\\17April2021\\\\realTime_busInfo_17-Apr-2021-17-34.csv',\n",
       " 'DIMTS_realtime_data\\\\17April2021\\\\realTime_busInfo_17-Apr-2021-17-35.csv',\n",
       " 'DIMTS_realtime_data\\\\17April2021\\\\realTime_busInfo_17-Apr-2021-17-36.csv',\n",
       " 'DIMTS_realtime_data\\\\17April2021\\\\realTime_busInfo_17-Apr-2021-17-37.csv',\n",
       " 'DIMTS_realtime_data\\\\17April2021\\\\realTime_busInfo_17-Apr-2021-17-38.csv',\n",
       " 'DIMTS_realtime_data\\\\17April2021\\\\realTime_busInfo_17-Apr-2021-17-39.csv',\n",
       " 'DIMTS_realtime_data\\\\17April2021\\\\realTime_busInfo_17-Apr-2021-17-40.csv',\n",
       " 'DIMTS_realtime_data\\\\17April2021\\\\realTime_busInfo_17-Apr-2021-19-52.csv',\n",
       " 'DIMTS_realtime_data\\\\17April2021\\\\realTime_busInfo_17-Apr-2021-19-53.csv',\n",
       " 'DIMTS_realtime_data\\\\17April2021\\\\realTime_busInfo_17-Apr-2021-19-54.csv',\n",
       " 'DIMTS_realtime_data\\\\17April2021\\\\realTime_busInfo_17-Apr-2021-19-55.csv',\n",
       " 'DIMTS_realtime_data\\\\17April2021\\\\realTime_busInfo_17-Apr-2021-19-56.csv',\n",
       " 'DIMTS_realtime_data\\\\17April2021\\\\realTime_busInfo_17-Apr-2021-19-57.csv',\n",
       " 'DIMTS_realtime_data\\\\17April2021\\\\realTime_busInfo_17-Apr-2021-19-58.csv',\n",
       " 'DIMTS_realtime_data\\\\17April2021\\\\realTime_busInfo_17-Apr-2021-19-59.csv',\n",
       " 'DIMTS_realtime_data\\\\17April2021\\\\realTime_busInfo_17-Apr-2021-20-00.csv',\n",
       " 'DIMTS_realtime_data\\\\17April2021\\\\realTime_busInfo_17-Apr-2021-20-01.csv',\n",
       " 'DIMTS_realtime_data\\\\17April2021\\\\realTime_busInfo_17-Apr-2021-20-02.csv',\n",
       " 'DIMTS_realtime_data\\\\17April2021\\\\realTime_busInfo_17-Apr-2021-20-03.csv',\n",
       " 'DIMTS_realtime_data\\\\17April2021\\\\realTime_busInfo_17-Apr-2021-20-04.csv',\n",
       " 'DIMTS_realtime_data\\\\17April2021\\\\realTime_busInfo_17-Apr-2021-20-05.csv',\n",
       " 'DIMTS_realtime_data\\\\17April2021\\\\realTime_busInfo_17-Apr-2021-20-06.csv',\n",
       " 'DIMTS_realtime_data\\\\17April2021\\\\realTime_busInfo_17-Apr-2021-20-07.csv',\n",
       " 'DIMTS_realtime_data\\\\17April2021\\\\realTime_busInfo_17-Apr-2021-20-08.csv',\n",
       " 'DIMTS_realtime_data\\\\17April2021\\\\realTime_busInfo_17-Apr-2021-20-09.csv',\n",
       " 'DIMTS_realtime_data\\\\17April2021\\\\realTime_busInfo_17-Apr-2021-20-10.csv',\n",
       " 'DIMTS_realtime_data\\\\17April2021\\\\realTime_busInfo_17-Apr-2021-20-11.csv',\n",
       " 'DIMTS_realtime_data\\\\17April2021\\\\realTime_busInfo_17-Apr-2021-20-12.csv',\n",
       " 'DIMTS_realtime_data\\\\17April2021\\\\realTime_busInfo_17-Apr-2021-20-13.csv',\n",
       " 'DIMTS_realtime_data\\\\17April2021\\\\realTime_busInfo_17-Apr-2021-20-14.csv',\n",
       " 'DIMTS_realtime_data\\\\17April2021\\\\realTime_busInfo_17-Apr-2021-20-15.csv',\n",
       " 'DIMTS_realtime_data\\\\17April2021\\\\realTime_busInfo_17-Apr-2021-20-16.csv',\n",
       " 'DIMTS_realtime_data\\\\17April2021\\\\realTime_busInfo_17-Apr-2021-20-17.csv',\n",
       " 'DIMTS_realtime_data\\\\17April2021\\\\realTime_busInfo_17-Apr-2021-20-18.csv',\n",
       " 'DIMTS_realtime_data\\\\17April2021\\\\realTime_busInfo_17-Apr-2021-20-19.csv',\n",
       " 'DIMTS_realtime_data\\\\17April2021\\\\realTime_busInfo_17-Apr-2021-20-20.csv',\n",
       " 'DIMTS_realtime_data\\\\17April2021\\\\realTime_busInfo_17-Apr-2021-20-21.csv',\n",
       " 'DIMTS_realtime_data\\\\17April2021\\\\realTime_busInfo_17-Apr-2021-20-22.csv',\n",
       " 'DIMTS_realtime_data\\\\17April2021\\\\realTime_busInfo_17-Apr-2021-20-23.csv',\n",
       " 'DIMTS_realtime_data\\\\17April2021\\\\realTime_busInfo_17-Apr-2021-20-24.csv',\n",
       " 'DIMTS_realtime_data\\\\17April2021\\\\realTime_busInfo_17-Apr-2021-20-26.csv',\n",
       " 'DIMTS_realtime_data\\\\17April2021\\\\realTime_busInfo_17-Apr-2021-20-27.csv',\n",
       " 'DIMTS_realtime_data\\\\17April2021\\\\realTime_busInfo_17-Apr-2021-20-28.csv',\n",
       " 'DIMTS_realtime_data\\\\17April2021\\\\realTime_busInfo_17-Apr-2021-20-29.csv',\n",
       " 'DIMTS_realtime_data\\\\17April2021\\\\realTime_busInfo_17-Apr-2021-20-30.csv',\n",
       " 'DIMTS_realtime_data\\\\17April2021\\\\realTime_busInfo_17-Apr-2021-20-31.csv',\n",
       " 'DIMTS_realtime_data\\\\17April2021\\\\realTime_busInfo_17-Apr-2021-20-32.csv',\n",
       " 'DIMTS_realtime_data\\\\17April2021\\\\realTime_busInfo_17-Apr-2021-20-33.csv',\n",
       " 'DIMTS_realtime_data\\\\17April2021\\\\realTime_busInfo_17-Apr-2021-20-34.csv',\n",
       " 'DIMTS_realtime_data\\\\17April2021\\\\realTime_busInfo_17-Apr-2021-20-35.csv',\n",
       " 'DIMTS_realtime_data\\\\17April2021\\\\realTime_busInfo_17-Apr-2021-20-36.csv',\n",
       " 'DIMTS_realtime_data\\\\17April2021\\\\realTime_busInfo_17-Apr-2021-20-37.csv',\n",
       " 'DIMTS_realtime_data\\\\17April2021\\\\realTime_busInfo_17-Apr-2021-20-38.csv',\n",
       " 'DIMTS_realtime_data\\\\17April2021\\\\realTime_busInfo_17-Apr-2021-20-39.csv',\n",
       " 'DIMTS_realtime_data\\\\17April2021\\\\realTime_busInfo_17-Apr-2021-20-40.csv',\n",
       " 'DIMTS_realtime_data\\\\17April2021\\\\realTime_busInfo_17-Apr-2021-20-41.csv',\n",
       " 'DIMTS_realtime_data\\\\17April2021\\\\realTime_busInfo_17-Apr-2021-20-42.csv',\n",
       " 'DIMTS_realtime_data\\\\17April2021\\\\realTime_busInfo_17-Apr-2021-20-43.csv',\n",
       " 'DIMTS_realtime_data\\\\17April2021\\\\realTime_busInfo_17-Apr-2021-20-44.csv',\n",
       " 'DIMTS_realtime_data\\\\17April2021\\\\realTime_busInfo_17-Apr-2021-20-45.csv',\n",
       " 'DIMTS_realtime_data\\\\17April2021\\\\realTime_busInfo_17-Apr-2021-20-46.csv',\n",
       " 'DIMTS_realtime_data\\\\17April2021\\\\realTime_busInfo_17-Apr-2021-20-47.csv',\n",
       " 'DIMTS_realtime_data\\\\17April2021\\\\realTime_busInfo_17-Apr-2021-20-48.csv',\n",
       " 'DIMTS_realtime_data\\\\17April2021\\\\realTime_busInfo_17-Apr-2021-20-49.csv',\n",
       " 'DIMTS_realtime_data\\\\17April2021\\\\realTime_busInfo_17-Apr-2021-20-50.csv',\n",
       " 'DIMTS_realtime_data\\\\17April2021\\\\realTime_busInfo_17-Apr-2021-20-51.csv',\n",
       " 'DIMTS_realtime_data\\\\17April2021\\\\realTime_busInfo_17-Apr-2021-20-52.csv',\n",
       " 'DIMTS_realtime_data\\\\17April2021\\\\realTime_busInfo_17-Apr-2021-20-53.csv',\n",
       " 'DIMTS_realtime_data\\\\17April2021\\\\realTime_busInfo_17-Apr-2021-20-54.csv',\n",
       " 'DIMTS_realtime_data\\\\17April2021\\\\realTime_busInfo_17-Apr-2021-20-55.csv',\n",
       " 'DIMTS_realtime_data\\\\17April2021\\\\realTime_busInfo_17-Apr-2021-20-56.csv',\n",
       " 'DIMTS_realtime_data\\\\17April2021\\\\realTime_busInfo_17-Apr-2021-20-57.csv',\n",
       " 'DIMTS_realtime_data\\\\17April2021\\\\realTime_busInfo_17-Apr-2021-20-58.csv',\n",
       " 'DIMTS_realtime_data\\\\17April2021\\\\realTime_busInfo_17-Apr-2021-20-59.csv',\n",
       " 'DIMTS_realtime_data\\\\17April2021\\\\realTime_busInfo_17-Apr-2021-21-00.csv',\n",
       " 'DIMTS_realtime_data\\\\17April2021\\\\realTime_busInfo_17-Apr-2021-21-01.csv',\n",
       " 'DIMTS_realtime_data\\\\17April2021\\\\realTime_busInfo_17-Apr-2021-21-02.csv',\n",
       " 'DIMTS_realtime_data\\\\17April2021\\\\realTime_busInfo_17-Apr-2021-21-03.csv',\n",
       " 'DIMTS_realtime_data\\\\17April2021\\\\realTime_busInfo_17-Apr-2021-21-04.csv',\n",
       " 'DIMTS_realtime_data\\\\17April2021\\\\realTime_busInfo_17-Apr-2021-21-05.csv',\n",
       " 'DIMTS_realtime_data\\\\17April2021\\\\realTime_busInfo_17-Apr-2021-21-06.csv',\n",
       " 'DIMTS_realtime_data\\\\17April2021\\\\realTime_busInfo_17-Apr-2021-21-07.csv',\n",
       " 'DIMTS_realtime_data\\\\17April2021\\\\realTime_busInfo_17-Apr-2021-21-08.csv',\n",
       " 'DIMTS_realtime_data\\\\17April2021\\\\realTime_busInfo_17-Apr-2021-21-09.csv',\n",
       " 'DIMTS_realtime_data\\\\17April2021\\\\realTime_busInfo_17-Apr-2021-21-10.csv',\n",
       " 'DIMTS_realtime_data\\\\17April2021\\\\realTime_busInfo_17-Apr-2021-21-11.csv',\n",
       " 'DIMTS_realtime_data\\\\17April2021\\\\realTime_busInfo_17-Apr-2021-21-12.csv',\n",
       " 'DIMTS_realtime_data\\\\17April2021\\\\realTime_busInfo_17-Apr-2021-21-13.csv',\n",
       " 'DIMTS_realtime_data\\\\17April2021\\\\realTime_busInfo_17-Apr-2021-21-14.csv',\n",
       " 'DIMTS_realtime_data\\\\17April2021\\\\realTime_busInfo_17-Apr-2021-21-15.csv',\n",
       " 'DIMTS_realtime_data\\\\17April2021\\\\realTime_busInfo_17-Apr-2021-21-16.csv',\n",
       " 'DIMTS_realtime_data\\\\17April2021\\\\realTime_busInfo_17-Apr-2021-21-17.csv',\n",
       " 'DIMTS_realtime_data\\\\17April2021\\\\realTime_busInfo_17-Apr-2021-21-18.csv',\n",
       " 'DIMTS_realtime_data\\\\17April2021\\\\realTime_busInfo_17-Apr-2021-21-19.csv',\n",
       " 'DIMTS_realtime_data\\\\17April2021\\\\realTime_busInfo_17-Apr-2021-21-20.csv',\n",
       " 'DIMTS_realtime_data\\\\17April2021\\\\realTime_busInfo_17-Apr-2021-21-21.csv',\n",
       " 'DIMTS_realtime_data\\\\17April2021\\\\realTime_busInfo_17-Apr-2021-21-22.csv',\n",
       " 'DIMTS_realtime_data\\\\17April2021\\\\realTime_busInfo_17-Apr-2021-21-23.csv',\n",
       " 'DIMTS_realtime_data\\\\17April2021\\\\realTime_busInfo_17-Apr-2021-21-24.csv',\n",
       " 'DIMTS_realtime_data\\\\17April2021\\\\realTime_busInfo_17-Apr-2021-21-25.csv',\n",
       " 'DIMTS_realtime_data\\\\17April2021\\\\realTime_busInfo_17-Apr-2021-21-26.csv',\n",
       " 'DIMTS_realtime_data\\\\17April2021\\\\realTime_busInfo_17-Apr-2021-21-27.csv',\n",
       " 'DIMTS_realtime_data\\\\17April2021\\\\realTime_busInfo_17-Apr-2021-21-28.csv',\n",
       " 'DIMTS_realtime_data\\\\17April2021\\\\realTime_busInfo_17-Apr-2021-21-29.csv',\n",
       " 'DIMTS_realtime_data\\\\17April2021\\\\realTime_busInfo_17-Apr-2021-21-31.csv',\n",
       " 'DIMTS_realtime_data\\\\17April2021\\\\realTime_busInfo_17-Apr-2021-21-32.csv',\n",
       " 'DIMTS_realtime_data\\\\17April2021\\\\realTime_busInfo_17-Apr-2021-21-33.csv',\n",
       " 'DIMTS_realtime_data\\\\17April2021\\\\realTime_busInfo_17-Apr-2021-21-34.csv',\n",
       " 'DIMTS_realtime_data\\\\17April2021\\\\realTime_busInfo_17-Apr-2021-21-35.csv',\n",
       " 'DIMTS_realtime_data\\\\17April2021\\\\realTime_busInfo_17-Apr-2021-21-36.csv',\n",
       " 'DIMTS_realtime_data\\\\17April2021\\\\realTime_busInfo_17-Apr-2021-21-37.csv',\n",
       " 'DIMTS_realtime_data\\\\17April2021\\\\realTime_busInfo_17-Apr-2021-21-38.csv',\n",
       " 'DIMTS_realtime_data\\\\17April2021\\\\realTime_busInfo_17-Apr-2021-21-39.csv',\n",
       " 'DIMTS_realtime_data\\\\17April2021\\\\realTime_busInfo_17-Apr-2021-21-40.csv',\n",
       " 'DIMTS_realtime_data\\\\17April2021\\\\realTime_busInfo_17-Apr-2021-21-41.csv',\n",
       " 'DIMTS_realtime_data\\\\17April2021\\\\realTime_busInfo_17-Apr-2021-21-42.csv',\n",
       " 'DIMTS_realtime_data\\\\17April2021\\\\realTime_busInfo_17-Apr-2021-21-43.csv',\n",
       " 'DIMTS_realtime_data\\\\17April2021\\\\realTime_busInfo_17-Apr-2021-21-44.csv',\n",
       " 'DIMTS_realtime_data\\\\17April2021\\\\realTime_busInfo_17-Apr-2021-21-45.csv',\n",
       " 'DIMTS_realtime_data\\\\17April2021\\\\realTime_busInfo_17-Apr-2021-21-46.csv',\n",
       " 'DIMTS_realtime_data\\\\17April2021\\\\realTime_busInfo_17-Apr-2021-21-47.csv',\n",
       " 'DIMTS_realtime_data\\\\17April2021\\\\realTime_busInfo_17-Apr-2021-21-48.csv',\n",
       " 'DIMTS_realtime_data\\\\17April2021\\\\realTime_busInfo_17-Apr-2021-21-49.csv',\n",
       " 'DIMTS_realtime_data\\\\17April2021\\\\realTime_busInfo_17-Apr-2021-21-50.csv',\n",
       " 'DIMTS_realtime_data\\\\17April2021\\\\realTime_busInfo_17-Apr-2021-21-51.csv',\n",
       " 'DIMTS_realtime_data\\\\17April2021\\\\realTime_busInfo_17-Apr-2021-21-52.csv',\n",
       " 'DIMTS_realtime_data\\\\17April2021\\\\realTime_busInfo_17-Apr-2021-21-53.csv',\n",
       " 'DIMTS_realtime_data\\\\17April2021\\\\realTime_busInfo_17-Apr-2021-21-54.csv',\n",
       " 'DIMTS_realtime_data\\\\17April2021\\\\realTime_busInfo_17-Apr-2021-21-55.csv',\n",
       " 'DIMTS_realtime_data\\\\17April2021\\\\realTime_busInfo_17-Apr-2021-21-56.csv',\n",
       " 'DIMTS_realtime_data\\\\17April2021\\\\realTime_busInfo_17-Apr-2021-21-57.csv',\n",
       " 'DIMTS_realtime_data\\\\17April2021\\\\realTime_busInfo_17-Apr-2021-21-58.csv',\n",
       " 'DIMTS_realtime_data\\\\17April2021\\\\realTime_busInfo_17-Apr-2021-21-59.csv',\n",
       " 'DIMTS_realtime_data\\\\17April2021\\\\realTime_busInfo_17-Apr-2021-22-00.csv',\n",
       " 'DIMTS_realtime_data\\\\17April2021\\\\realTime_busInfo_17-Apr-2021-22-01.csv',\n",
       " 'DIMTS_realtime_data\\\\17April2021\\\\realTime_busInfo_17-Apr-2021-22-02.csv',\n",
       " 'DIMTS_realtime_data\\\\17April2021\\\\realTime_busInfo_17-Apr-2021-22-03.csv',\n",
       " 'DIMTS_realtime_data\\\\17April2021\\\\realTime_busInfo_17-Apr-2021-22-04.csv',\n",
       " 'DIMTS_realtime_data\\\\17April2021\\\\realTime_busInfo_17-Apr-2021-22-05.csv',\n",
       " 'DIMTS_realtime_data\\\\17April2021\\\\realTime_busInfo_17-Apr-2021-22-06.csv',\n",
       " 'DIMTS_realtime_data\\\\17April2021\\\\realTime_busInfo_17-Apr-2021-22-07.csv',\n",
       " 'DIMTS_realtime_data\\\\17April2021\\\\realTime_busInfo_17-Apr-2021-22-08.csv',\n",
       " 'DIMTS_realtime_data\\\\17April2021\\\\realTime_busInfo_17-Apr-2021-22-09.csv',\n",
       " 'DIMTS_realtime_data\\\\17April2021\\\\realTime_busInfo_17-Apr-2021-22-10.csv',\n",
       " 'DIMTS_realtime_data\\\\17April2021\\\\realTime_busInfo_17-Apr-2021-22-11.csv',\n",
       " 'DIMTS_realtime_data\\\\17April2021\\\\realTime_busInfo_17-Apr-2021-22-12.csv',\n",
       " 'DIMTS_realtime_data\\\\17April2021\\\\realTime_busInfo_17-Apr-2021-22-13.csv',\n",
       " 'DIMTS_realtime_data\\\\17April2021\\\\realTime_busInfo_17-Apr-2021-22-14.csv',\n",
       " 'DIMTS_realtime_data\\\\17April2021\\\\realTime_busInfo_17-Apr-2021-22-15.csv',\n",
       " 'DIMTS_realtime_data\\\\17April2021\\\\realTime_busInfo_17-Apr-2021-22-16.csv',\n",
       " 'DIMTS_realtime_data\\\\17April2021\\\\realTime_busInfo_17-Apr-2021-22-17.csv',\n",
       " 'DIMTS_realtime_data\\\\17April2021\\\\realTime_busInfo_17-Apr-2021-22-18.csv',\n",
       " 'DIMTS_realtime_data\\\\17April2021\\\\realTime_busInfo_17-Apr-2021-22-19.csv',\n",
       " 'DIMTS_realtime_data\\\\17April2021\\\\realTime_busInfo_17-Apr-2021-22-20.csv',\n",
       " 'DIMTS_realtime_data\\\\17April2021\\\\realTime_busInfo_17-Apr-2021-22-21.csv',\n",
       " 'DIMTS_realtime_data\\\\17April2021\\\\realTime_busInfo_17-Apr-2021-22-22.csv',\n",
       " 'DIMTS_realtime_data\\\\17April2021\\\\realTime_busInfo_17-Apr-2021-22-23.csv',\n",
       " 'DIMTS_realtime_data\\\\17April2021\\\\realTime_busInfo_17-Apr-2021-22-24.csv',\n",
       " 'DIMTS_realtime_data\\\\17April2021\\\\realTime_busInfo_17-Apr-2021-22-25.csv',\n",
       " 'DIMTS_realtime_data\\\\17April2021\\\\realTime_busInfo_17-Apr-2021-22-26.csv',\n",
       " 'DIMTS_realtime_data\\\\17April2021\\\\realTime_busInfo_17-Apr-2021-22-27.csv',\n",
       " 'DIMTS_realtime_data\\\\17April2021\\\\realTime_busInfo_17-Apr-2021-22-28.csv',\n",
       " 'DIMTS_realtime_data\\\\17April2021\\\\realTime_busInfo_17-Apr-2021-22-29.csv',\n",
       " 'DIMTS_realtime_data\\\\17April2021\\\\realTime_busInfo_17-Apr-2021-22-30.csv',\n",
       " 'DIMTS_realtime_data\\\\17April2021\\\\realTime_busInfo_17-Apr-2021-22-31.csv',\n",
       " 'DIMTS_realtime_data\\\\17April2021\\\\realTime_busInfo_17-Apr-2021-22-32.csv',\n",
       " 'DIMTS_realtime_data\\\\17April2021\\\\realTime_busInfo_17-Apr-2021-22-33.csv',\n",
       " 'DIMTS_realtime_data\\\\17April2021\\\\realTime_busInfo_17-Apr-2021-22-35.csv',\n",
       " 'DIMTS_realtime_data\\\\17April2021\\\\realTime_busInfo_17-Apr-2021-22-36.csv',\n",
       " 'DIMTS_realtime_data\\\\17April2021\\\\realTime_busInfo_17-Apr-2021-22-37.csv',\n",
       " 'DIMTS_realtime_data\\\\17April2021\\\\realTime_busInfo_17-Apr-2021-22-38.csv',\n",
       " 'DIMTS_realtime_data\\\\17April2021\\\\realTime_busInfo_17-Apr-2021-22-39.csv',\n",
       " 'DIMTS_realtime_data\\\\17April2021\\\\realTime_busInfo_17-Apr-2021-22-40.csv',\n",
       " 'DIMTS_realtime_data\\\\17April2021\\\\realTime_busInfo_17-Apr-2021-22-41.csv',\n",
       " 'DIMTS_realtime_data\\\\17April2021\\\\realTime_busInfo_17-Apr-2021-22-42.csv',\n",
       " 'DIMTS_realtime_data\\\\17April2021\\\\realTime_busInfo_17-Apr-2021-22-43.csv',\n",
       " 'DIMTS_realtime_data\\\\17April2021\\\\realTime_busInfo_17-Apr-2021-22-44.csv',\n",
       " 'DIMTS_realtime_data\\\\17April2021\\\\realTime_busInfo_17-Apr-2021-22-45.csv',\n",
       " 'DIMTS_realtime_data\\\\17April2021\\\\realTime_busInfo_17-Apr-2021-22-46.csv',\n",
       " 'DIMTS_realtime_data\\\\17April2021\\\\realTime_busInfo_17-Apr-2021-22-47.csv',\n",
       " 'DIMTS_realtime_data\\\\17April2021\\\\realTime_busInfo_17-Apr-2021-22-48.csv',\n",
       " 'DIMTS_realtime_data\\\\17April2021\\\\realTime_busInfo_17-Apr-2021-22-49.csv',\n",
       " 'DIMTS_realtime_data\\\\17April2021\\\\realTime_busInfo_17-Apr-2021-22-50.csv',\n",
       " 'DIMTS_realtime_data\\\\17April2021\\\\realTime_busInfo_17-Apr-2021-22-51.csv',\n",
       " 'DIMTS_realtime_data\\\\17April2021\\\\realTime_busInfo_17-Apr-2021-22-52.csv',\n",
       " 'DIMTS_realtime_data\\\\17April2021\\\\realTime_busInfo_17-Apr-2021-22-53.csv',\n",
       " 'DIMTS_realtime_data\\\\17April2021\\\\realTime_busInfo_17-Apr-2021-22-54.csv',\n",
       " 'DIMTS_realtime_data\\\\17April2021\\\\realTime_busInfo_17-Apr-2021-22-55.csv',\n",
       " 'DIMTS_realtime_data\\\\17April2021\\\\realTime_busInfo_17-Apr-2021-22-56.csv',\n",
       " 'DIMTS_realtime_data\\\\17April2021\\\\realTime_busInfo_17-Apr-2021-22-57.csv',\n",
       " 'DIMTS_realtime_data\\\\17April2021\\\\realTime_busInfo_17-Apr-2021-22-58.csv',\n",
       " 'DIMTS_realtime_data\\\\17April2021\\\\realTime_busInfo_17-Apr-2021-22-59.csv',\n",
       " 'DIMTS_realtime_data\\\\17April2021\\\\realTime_busInfo_17-Apr-2021-23-00.csv',\n",
       " 'DIMTS_realtime_data\\\\17April2021\\\\realTime_busInfo_17-Apr-2021-23-01.csv',\n",
       " 'DIMTS_realtime_data\\\\17April2021\\\\realTime_busInfo_17-Apr-2021-23-02.csv',\n",
       " 'DIMTS_realtime_data\\\\17April2021\\\\realTime_busInfo_17-Apr-2021-23-03.csv',\n",
       " 'DIMTS_realtime_data\\\\17April2021\\\\realTime_busInfo_17-Apr-2021-23-04.csv',\n",
       " 'DIMTS_realtime_data\\\\17April2021\\\\realTime_busInfo_17-Apr-2021-23-05.csv',\n",
       " 'DIMTS_realtime_data\\\\17April2021\\\\realTime_busInfo_17-Apr-2021-23-06.csv',\n",
       " 'DIMTS_realtime_data\\\\17April2021\\\\realTime_busInfo_17-Apr-2021-23-07.csv',\n",
       " 'DIMTS_realtime_data\\\\17April2021\\\\realTime_busInfo_17-Apr-2021-23-08.csv',\n",
       " 'DIMTS_realtime_data\\\\17April2021\\\\realTime_busInfo_17-Apr-2021-23-09.csv',\n",
       " 'DIMTS_realtime_data\\\\17April2021\\\\realTime_busInfo_17-Apr-2021-23-10.csv',\n",
       " 'DIMTS_realtime_data\\\\17April2021\\\\realTime_busInfo_17-Apr-2021-23-11.csv',\n",
       " 'DIMTS_realtime_data\\\\17April2021\\\\realTime_busInfo_17-Apr-2021-23-12.csv',\n",
       " 'DIMTS_realtime_data\\\\17April2021\\\\realTime_busInfo_17-Apr-2021-23-13.csv',\n",
       " 'DIMTS_realtime_data\\\\17April2021\\\\realTime_busInfo_17-Apr-2021-23-14.csv',\n",
       " 'DIMTS_realtime_data\\\\17April2021\\\\realTime_busInfo_17-Apr-2021-23-15.csv',\n",
       " 'DIMTS_realtime_data\\\\17April2021\\\\realTime_busInfo_17-Apr-2021-23-16.csv',\n",
       " 'DIMTS_realtime_data\\\\17April2021\\\\realTime_busInfo_17-Apr-2021-23-17.csv',\n",
       " 'DIMTS_realtime_data\\\\17April2021\\\\realTime_busInfo_17-Apr-2021-23-18.csv',\n",
       " 'DIMTS_realtime_data\\\\17April2021\\\\realTime_busInfo_17-Apr-2021-23-19.csv',\n",
       " 'DIMTS_realtime_data\\\\17April2021\\\\realTime_busInfo_17-Apr-2021-23-20.csv',\n",
       " 'DIMTS_realtime_data\\\\17April2021\\\\realTime_busInfo_17-Apr-2021-23-21.csv',\n",
       " 'DIMTS_realtime_data\\\\17April2021\\\\realTime_busInfo_17-Apr-2021-23-22.csv',\n",
       " 'DIMTS_realtime_data\\\\17April2021\\\\realTime_busInfo_17-Apr-2021-23-23.csv',\n",
       " 'DIMTS_realtime_data\\\\17April2021\\\\realTime_busInfo_17-Apr-2021-23-24.csv',\n",
       " 'DIMTS_realtime_data\\\\17April2021\\\\realTime_busInfo_17-Apr-2021-23-25.csv',\n",
       " 'DIMTS_realtime_data\\\\17April2021\\\\realTime_busInfo_17-Apr-2021-23-26.csv',\n",
       " 'DIMTS_realtime_data\\\\17April2021\\\\realTime_busInfo_17-Apr-2021-23-27.csv',\n",
       " 'DIMTS_realtime_data\\\\17April2021\\\\realTime_busInfo_17-Apr-2021-23-28.csv',\n",
       " 'DIMTS_realtime_data\\\\17April2021\\\\realTime_busInfo_17-Apr-2021-23-29.csv',\n",
       " 'DIMTS_realtime_data\\\\17April2021\\\\realTime_busInfo_17-Apr-2021-23-30.csv',\n",
       " 'DIMTS_realtime_data\\\\17April2021\\\\realTime_busInfo_17-Apr-2021-23-31.csv',\n",
       " 'DIMTS_realtime_data\\\\17April2021\\\\realTime_busInfo_17-Apr-2021-23-32.csv',\n",
       " 'DIMTS_realtime_data\\\\17April2021\\\\realTime_busInfo_17-Apr-2021-23-33.csv',\n",
       " 'DIMTS_realtime_data\\\\17April2021\\\\realTime_busInfo_17-Apr-2021-23-34.csv',\n",
       " 'DIMTS_realtime_data\\\\17April2021\\\\realTime_busInfo_17-Apr-2021-23-35.csv',\n",
       " 'DIMTS_realtime_data\\\\17April2021\\\\realTime_busInfo_17-Apr-2021-23-36.csv',\n",
       " 'DIMTS_realtime_data\\\\17April2021\\\\realTime_busInfo_17-Apr-2021-23-37.csv',\n",
       " 'DIMTS_realtime_data\\\\17April2021\\\\realTime_busInfo_17-Apr-2021-23-38.csv',\n",
       " 'DIMTS_realtime_data\\\\17April2021\\\\realTime_busInfo_17-Apr-2021-23-39.csv',\n",
       " 'DIMTS_realtime_data\\\\17April2021\\\\realTime_busInfo_17-Apr-2021-23-40.csv',\n",
       " 'DIMTS_realtime_data\\\\17April2021\\\\realTime_busInfo_17-Apr-2021-23-41.csv',\n",
       " 'DIMTS_realtime_data\\\\17April2021\\\\realTime_busInfo_17-Apr-2021-23-42.csv',\n",
       " 'DIMTS_realtime_data\\\\17April2021\\\\realTime_busInfo_17-Apr-2021-23-43.csv',\n",
       " 'DIMTS_realtime_data\\\\17April2021\\\\realTime_busInfo_17-Apr-2021-23-44.csv',\n",
       " 'DIMTS_realtime_data\\\\17April2021\\\\realTime_busInfo_17-Apr-2021-23-45.csv',\n",
       " 'DIMTS_realtime_data\\\\17April2021\\\\realTime_busInfo_17-Apr-2021-23-46.csv',\n",
       " 'DIMTS_realtime_data\\\\17April2021\\\\realTime_busInfo_17-Apr-2021-23-47.csv',\n",
       " 'DIMTS_realtime_data\\\\17April2021\\\\realTime_busInfo_17-Apr-2021-23-48.csv',\n",
       " 'DIMTS_realtime_data\\\\17April2021\\\\realTime_busInfo_17-Apr-2021-23-49.csv',\n",
       " 'DIMTS_realtime_data\\\\17April2021\\\\realTime_busInfo_17-Apr-2021-23-51.csv',\n",
       " 'DIMTS_realtime_data\\\\17April2021\\\\realTime_busInfo_17-Apr-2021-23-52.csv',\n",
       " 'DIMTS_realtime_data\\\\17April2021\\\\realTime_busInfo_17-Apr-2021-23-53.csv',\n",
       " 'DIMTS_realtime_data\\\\17April2021\\\\realTime_busInfo_17-Apr-2021-23-54.csv',\n",
       " 'DIMTS_realtime_data\\\\17April2021\\\\realTime_busInfo_17-Apr-2021-23-55.csv',\n",
       " 'DIMTS_realtime_data\\\\17April2021\\\\realTime_busInfo_17-Apr-2021-23-56.csv',\n",
       " 'DIMTS_realtime_data\\\\17April2021\\\\realTime_busInfo_17-Apr-2021-23-57.csv',\n",
       " 'DIMTS_realtime_data\\\\17April2021\\\\realTime_busInfo_17-Apr-2021-23-58.csv',\n",
       " 'DIMTS_realtime_data\\\\17April2021\\\\realTime_busInfo_17-Apr-2021-23-59.csv']"
      ]
     },
     "execution_count": 2,
     "metadata": {},
     "output_type": "execute_result"
    }
   ],
   "source": [
    "path = r'DIMTS_realtime_data\\17April2021' # use your path\n",
    "all_files = glob.glob(os.path.join(path , \"*.csv\"))\n",
    "all_files"
   ]
  },
  {
   "cell_type": "code",
   "execution_count": 3,
   "id": "040e35e1",
   "metadata": {},
   "outputs": [],
   "source": [
    "# s = 'DIMTS_realtime_data\\\\17April2021\\\\realTime_busInfo_17-Apr-2021-00-00.csv'\n",
    "\n",
    "# d = s.split('2021-')[-1].split('.csv')[0]\n",
    "# d"
   ]
  },
  {
   "cell_type": "code",
   "execution_count": 4,
   "id": "9e71e783",
   "metadata": {},
   "outputs": [],
   "source": [
    "# d1 = s.split('realTime_busInfo_')[-1].split('.csv')[0]\n",
    "# d1"
   ]
  },
  {
   "cell_type": "code",
   "execution_count": 5,
   "id": "1ecbe260",
   "metadata": {
    "scrolled": true
   },
   "outputs": [],
   "source": [
    "# df = pd.read_csv('DIMTS_realtime_data\\\\17April2021\\\\realTime_busInfo_17-Apr-2021-00-00.csv')\n",
    "\n",
    "# df['timestamp'] = d\n",
    "# d"
   ]
  },
  {
   "cell_type": "code",
   "execution_count": 6,
   "id": "85761656",
   "metadata": {},
   "outputs": [],
   "source": [
    "real_time = pd.DataFrame()\n",
    "for i in all_files:\n",
    "    t = i.split('2021-')[-1].split('.csv')[0]\n",
    "    d1 = i.split('realTime_busInfo_')[-1].split('.csv')[0]\n",
    "    df = pd.read_csv(i)\n",
    "    df['timestamp'] = t\n",
    "    df['Date_time'] = d1\n",
    "    real_time = pd.concat((real_time,df), ignore_index=True)"
   ]
  },
  {
   "cell_type": "code",
   "execution_count": 7,
   "id": "2e6f6d3e",
   "metadata": {},
   "outputs": [
    {
     "data": {
      "text/html": [
       "<div>\n",
       "<style scoped>\n",
       "    .dataframe tbody tr th:only-of-type {\n",
       "        vertical-align: middle;\n",
       "    }\n",
       "\n",
       "    .dataframe tbody tr th {\n",
       "        vertical-align: top;\n",
       "    }\n",
       "\n",
       "    .dataframe thead th {\n",
       "        text-align: right;\n",
       "    }\n",
       "</style>\n",
       "<table border=\"1\" class=\"dataframe\">\n",
       "  <thead>\n",
       "    <tr style=\"text-align: right;\">\n",
       "      <th></th>\n",
       "      <th>Unnamed: 0</th>\n",
       "      <th>id</th>\n",
       "      <th>vehicle.position.latitude</th>\n",
       "      <th>vehicle.position.longitude</th>\n",
       "      <th>vehicle.position.speed</th>\n",
       "      <th>vehicle.timestamp</th>\n",
       "      <th>vehicle.trip.routeId</th>\n",
       "      <th>vehicle.trip.startDate</th>\n",
       "      <th>vehicle.trip.startTime</th>\n",
       "      <th>vehicle.trip.tripId</th>\n",
       "      <th>vehicle.vehicle.id</th>\n",
       "      <th>vehicle.vehicle.label</th>\n",
       "      <th>timestamp</th>\n",
       "      <th>Date_time</th>\n",
       "    </tr>\n",
       "  </thead>\n",
       "  <tbody>\n",
       "    <tr>\n",
       "      <th>0</th>\n",
       "      <td>0</td>\n",
       "      <td>DL1PD1536</td>\n",
       "      <td>28.618956</td>\n",
       "      <td>76.929955</td>\n",
       "      <td>0.000000</td>\n",
       "      <td>1618597701</td>\n",
       "      <td>221</td>\n",
       "      <td>20210416</td>\n",
       "      <td>18:21:53</td>\n",
       "      <td>221_18_21_5979_new</td>\n",
       "      <td>DL1PD1536</td>\n",
       "      <td>DL1PD1536</td>\n",
       "      <td>00-00</td>\n",
       "      <td>17-Apr-2021-00-00</td>\n",
       "    </tr>\n",
       "    <tr>\n",
       "      <th>1</th>\n",
       "      <td>1</td>\n",
       "      <td>DL1PD4215</td>\n",
       "      <td>28.698350</td>\n",
       "      <td>77.034120</td>\n",
       "      <td>0.000000</td>\n",
       "      <td>1618597769</td>\n",
       "      <td>587</td>\n",
       "      <td>20210416</td>\n",
       "      <td>19:48:09</td>\n",
       "      <td>587_19_30</td>\n",
       "      <td>DL1PD4215</td>\n",
       "      <td>DL1PD4215</td>\n",
       "      <td>00-00</td>\n",
       "      <td>17-Apr-2021-00-00</td>\n",
       "    </tr>\n",
       "    <tr>\n",
       "      <th>2</th>\n",
       "      <td>2</td>\n",
       "      <td>DL1PD4729</td>\n",
       "      <td>28.699783</td>\n",
       "      <td>77.034110</td>\n",
       "      <td>0.000000</td>\n",
       "      <td>1618597779</td>\n",
       "      <td>701</td>\n",
       "      <td>20210416</td>\n",
       "      <td>17:40:58</td>\n",
       "      <td>701_17_38</td>\n",
       "      <td>DL1PD4729</td>\n",
       "      <td>DL1PD4729</td>\n",
       "      <td>00-00</td>\n",
       "      <td>17-Apr-2021-00-00</td>\n",
       "    </tr>\n",
       "    <tr>\n",
       "      <th>3</th>\n",
       "      <td>3</td>\n",
       "      <td>DL1PD1163</td>\n",
       "      <td>28.621407</td>\n",
       "      <td>76.929330</td>\n",
       "      <td>0.000000</td>\n",
       "      <td>1618597615</td>\n",
       "      <td>221</td>\n",
       "      <td>20210416</td>\n",
       "      <td>18:46:46</td>\n",
       "      <td>221_18_46_3674_new</td>\n",
       "      <td>DL1PD1163</td>\n",
       "      <td>DL1PD1163</td>\n",
       "      <td>00-00</td>\n",
       "      <td>17-Apr-2021-00-00</td>\n",
       "    </tr>\n",
       "    <tr>\n",
       "      <th>4</th>\n",
       "      <td>4</td>\n",
       "      <td>DL1PD4189</td>\n",
       "      <td>28.698620</td>\n",
       "      <td>77.034020</td>\n",
       "      <td>0.000000</td>\n",
       "      <td>1618597748</td>\n",
       "      <td>767</td>\n",
       "      <td>20210416</td>\n",
       "      <td>21:22:56</td>\n",
       "      <td>767_21_22_8430_new</td>\n",
       "      <td>DL1PD4189</td>\n",
       "      <td>DL1PD4189</td>\n",
       "      <td>00-00</td>\n",
       "      <td>17-Apr-2021-00-00</td>\n",
       "    </tr>\n",
       "    <tr>\n",
       "      <th>...</th>\n",
       "      <td>...</td>\n",
       "      <td>...</td>\n",
       "      <td>...</td>\n",
       "      <td>...</td>\n",
       "      <td>...</td>\n",
       "      <td>...</td>\n",
       "      <td>...</td>\n",
       "      <td>...</td>\n",
       "      <td>...</td>\n",
       "      <td>...</td>\n",
       "      <td>...</td>\n",
       "      <td>...</td>\n",
       "      <td>...</td>\n",
       "      <td>...</td>\n",
       "    </tr>\n",
       "    <tr>\n",
       "      <th>1579928</th>\n",
       "      <td>1440</td>\n",
       "      <td>DL1PD3344</td>\n",
       "      <td>28.684351</td>\n",
       "      <td>77.330765</td>\n",
       "      <td>0.277778</td>\n",
       "      <td>1618683801</td>\n",
       "      <td>440</td>\n",
       "      <td>20210417</td>\n",
       "      <td>23:53:13</td>\n",
       "      <td>440_23_53_8457_new</td>\n",
       "      <td>DL1PD3344</td>\n",
       "      <td>DL1PD3344</td>\n",
       "      <td>23-59</td>\n",
       "      <td>17-Apr-2021-23-59</td>\n",
       "    </tr>\n",
       "    <tr>\n",
       "      <th>1579929</th>\n",
       "      <td>1441</td>\n",
       "      <td>DL1PC4227</td>\n",
       "      <td>28.726395</td>\n",
       "      <td>77.006660</td>\n",
       "      <td>0.000000</td>\n",
       "      <td>1618683876</td>\n",
       "      <td>272</td>\n",
       "      <td>20210417</td>\n",
       "      <td>23:55:07</td>\n",
       "      <td>272_23_55_4247_new</td>\n",
       "      <td>DL1PC4227</td>\n",
       "      <td>DL1PC4227</td>\n",
       "      <td>23-59</td>\n",
       "      <td>17-Apr-2021-23-59</td>\n",
       "    </tr>\n",
       "    <tr>\n",
       "      <th>1579930</th>\n",
       "      <td>1442</td>\n",
       "      <td>DL1PD4676</td>\n",
       "      <td>28.553390</td>\n",
       "      <td>77.053160</td>\n",
       "      <td>0.000000</td>\n",
       "      <td>1618684132</td>\n",
       "      <td>979</td>\n",
       "      <td>20210417</td>\n",
       "      <td>23:55:36</td>\n",
       "      <td>979_23_52</td>\n",
       "      <td>DL1PD4676</td>\n",
       "      <td>DL1PD4676</td>\n",
       "      <td>23-59</td>\n",
       "      <td>17-Apr-2021-23-59</td>\n",
       "    </tr>\n",
       "    <tr>\n",
       "      <th>1579931</th>\n",
       "      <td>1443</td>\n",
       "      <td>DL1PD5165</td>\n",
       "      <td>28.618666</td>\n",
       "      <td>77.248116</td>\n",
       "      <td>0.000000</td>\n",
       "      <td>1618683983</td>\n",
       "      <td>848</td>\n",
       "      <td>20210417</td>\n",
       "      <td>23:56:06</td>\n",
       "      <td>848_23_56_4522_new</td>\n",
       "      <td>DL1PD5165</td>\n",
       "      <td>DL1PD5165</td>\n",
       "      <td>23-59</td>\n",
       "      <td>17-Apr-2021-23-59</td>\n",
       "    </tr>\n",
       "    <tr>\n",
       "      <th>1579932</th>\n",
       "      <td>1444</td>\n",
       "      <td>DL1PC6547</td>\n",
       "      <td>28.526314</td>\n",
       "      <td>77.257660</td>\n",
       "      <td>1.944444</td>\n",
       "      <td>1618684134</td>\n",
       "      <td>392</td>\n",
       "      <td>20210417</td>\n",
       "      <td>23:58:07</td>\n",
       "      <td>392_23_58_6589_new</td>\n",
       "      <td>DL1PC6547</td>\n",
       "      <td>DL1PC6547</td>\n",
       "      <td>23-59</td>\n",
       "      <td>17-Apr-2021-23-59</td>\n",
       "    </tr>\n",
       "  </tbody>\n",
       "</table>\n",
       "<p>1579933 rows × 14 columns</p>\n",
       "</div>"
      ],
      "text/plain": [
       "         Unnamed: 0         id  vehicle.position.latitude  \\\n",
       "0                 0  DL1PD1536                  28.618956   \n",
       "1                 1  DL1PD4215                  28.698350   \n",
       "2                 2  DL1PD4729                  28.699783   \n",
       "3                 3  DL1PD1163                  28.621407   \n",
       "4                 4  DL1PD4189                  28.698620   \n",
       "...             ...        ...                        ...   \n",
       "1579928        1440  DL1PD3344                  28.684351   \n",
       "1579929        1441  DL1PC4227                  28.726395   \n",
       "1579930        1442  DL1PD4676                  28.553390   \n",
       "1579931        1443  DL1PD5165                  28.618666   \n",
       "1579932        1444  DL1PC6547                  28.526314   \n",
       "\n",
       "         vehicle.position.longitude  vehicle.position.speed  \\\n",
       "0                         76.929955                0.000000   \n",
       "1                         77.034120                0.000000   \n",
       "2                         77.034110                0.000000   \n",
       "3                         76.929330                0.000000   \n",
       "4                         77.034020                0.000000   \n",
       "...                             ...                     ...   \n",
       "1579928                   77.330765                0.277778   \n",
       "1579929                   77.006660                0.000000   \n",
       "1579930                   77.053160                0.000000   \n",
       "1579931                   77.248116                0.000000   \n",
       "1579932                   77.257660                1.944444   \n",
       "\n",
       "         vehicle.timestamp  vehicle.trip.routeId  vehicle.trip.startDate  \\\n",
       "0               1618597701                   221                20210416   \n",
       "1               1618597769                   587                20210416   \n",
       "2               1618597779                   701                20210416   \n",
       "3               1618597615                   221                20210416   \n",
       "4               1618597748                   767                20210416   \n",
       "...                    ...                   ...                     ...   \n",
       "1579928         1618683801                   440                20210417   \n",
       "1579929         1618683876                   272                20210417   \n",
       "1579930         1618684132                   979                20210417   \n",
       "1579931         1618683983                   848                20210417   \n",
       "1579932         1618684134                   392                20210417   \n",
       "\n",
       "        vehicle.trip.startTime vehicle.trip.tripId vehicle.vehicle.id  \\\n",
       "0                     18:21:53  221_18_21_5979_new          DL1PD1536   \n",
       "1                     19:48:09           587_19_30          DL1PD4215   \n",
       "2                     17:40:58           701_17_38          DL1PD4729   \n",
       "3                     18:46:46  221_18_46_3674_new          DL1PD1163   \n",
       "4                     21:22:56  767_21_22_8430_new          DL1PD4189   \n",
       "...                        ...                 ...                ...   \n",
       "1579928               23:53:13  440_23_53_8457_new          DL1PD3344   \n",
       "1579929               23:55:07  272_23_55_4247_new          DL1PC4227   \n",
       "1579930               23:55:36           979_23_52          DL1PD4676   \n",
       "1579931               23:56:06  848_23_56_4522_new          DL1PD5165   \n",
       "1579932               23:58:07  392_23_58_6589_new          DL1PC6547   \n",
       "\n",
       "        vehicle.vehicle.label timestamp          Date_time  \n",
       "0                   DL1PD1536     00-00  17-Apr-2021-00-00  \n",
       "1                   DL1PD4215     00-00  17-Apr-2021-00-00  \n",
       "2                   DL1PD4729     00-00  17-Apr-2021-00-00  \n",
       "3                   DL1PD1163     00-00  17-Apr-2021-00-00  \n",
       "4                   DL1PD4189     00-00  17-Apr-2021-00-00  \n",
       "...                       ...       ...                ...  \n",
       "1579928             DL1PD3344     23-59  17-Apr-2021-23-59  \n",
       "1579929             DL1PC4227     23-59  17-Apr-2021-23-59  \n",
       "1579930             DL1PD4676     23-59  17-Apr-2021-23-59  \n",
       "1579931             DL1PD5165     23-59  17-Apr-2021-23-59  \n",
       "1579932             DL1PC6547     23-59  17-Apr-2021-23-59  \n",
       "\n",
       "[1579933 rows x 14 columns]"
      ]
     },
     "execution_count": 7,
     "metadata": {},
     "output_type": "execute_result"
    }
   ],
   "source": [
    "real_time"
   ]
  },
  {
   "cell_type": "code",
   "execution_count": 8,
   "id": "bc7ee31c",
   "metadata": {},
   "outputs": [],
   "source": [
    "Badarpur_Border = (28.492700,77.303817)\n",
    "Kapashera_Border = (28.522481,77.082442)"
   ]
  },
  {
   "cell_type": "code",
   "execution_count": 9,
   "id": "6cd253ca",
   "metadata": {},
   "outputs": [],
   "source": [
    "from math import radians, cos, sin, asin, sqrt\n",
    "\n",
    "def haversine(lon1, lat1, lon2, lat2):\n",
    "    \"\"\"\n",
    "    Calculate the great circle distance in kilometers between two points \n",
    "    on the earth (specified in decimal degrees)\n",
    "    \"\"\"\n",
    "    # convert decimal degrees to radians \n",
    "    lon1, lat1, lon2, lat2 = map(radians, [lon1, lat1, lon2, lat2])\n",
    "\n",
    "    # haversine formula \n",
    "    dlon = lon2 - lon1 \n",
    "    dlat = lat2 - lat1 \n",
    "    a = sin(dlat/2)**2 + cos(lat1) * cos(lat2) * sin(dlon/2)**2\n",
    "    c = 2 * asin(sqrt(a)) \n",
    "    r = 6371 # Radius of earth in kilometers. Use 3956 for miles. Determines return value units.\n",
    "    return c * r"
   ]
  },
  {
   "cell_type": "code",
   "execution_count": 10,
   "id": "fcec4f0b",
   "metadata": {},
   "outputs": [],
   "source": [
    "def distance_badarpur(route):\n",
    "    dis = []\n",
    "    for i in range(0,len(route)):\n",
    "        a = haversine(route.iloc[i, 3], route.iloc[i, 2], Badarpur_Border[1], Badarpur_Border[0])\n",
    "        dis.append(a)\n",
    "    return dis"
   ]
  },
  {
   "cell_type": "code",
   "execution_count": 11,
   "id": "d987ccab",
   "metadata": {},
   "outputs": [],
   "source": [
    "def distance_kapashera(route):\n",
    "    dis = []\n",
    "    for i in range(0,len(route)):\n",
    "        a = haversine(route.iloc[i, 3], route.iloc[i, 2], Kapashera_Border[1], Kapashera_Border[0])\n",
    "        dis.append(a)\n",
    "    return dis"
   ]
  },
  {
   "cell_type": "code",
   "execution_count": 12,
   "id": "f39f2ca3",
   "metadata": {},
   "outputs": [],
   "source": [
    "# l = distance_badarpur(real_time)\n",
    "# real_time['Distance_with_badarpur'] = l"
   ]
  },
  {
   "cell_type": "code",
   "execution_count": 13,
   "id": "dbf9a1b2",
   "metadata": {},
   "outputs": [],
   "source": [
    "# l = distance_kapashera(real_time)\n",
    "# real_time['Distance_with_kapashera'] = l"
   ]
  },
  {
   "cell_type": "code",
   "execution_count": 14,
   "id": "b07c6483",
   "metadata": {},
   "outputs": [],
   "source": [
    "# real_time.sort_values('Distance_with_badarpur',inplace=True)"
   ]
  },
  {
   "cell_type": "code",
   "execution_count": 15,
   "id": "2e736dfd",
   "metadata": {},
   "outputs": [],
   "source": [
    "# real_time[real_time['Distance_with_badarpur']<2]['vehicle.trip.routeId'].unique()"
   ]
  },
  {
   "cell_type": "code",
   "execution_count": null,
   "id": "a0a732e7",
   "metadata": {},
   "outputs": [],
   "source": []
  },
  {
   "cell_type": "markdown",
   "id": "22f73aee",
   "metadata": {},
   "source": [
    "## Testing for various routes to match with 717"
   ]
  },
  {
   "cell_type": "code",
   "execution_count": 16,
   "id": "7fd71f67",
   "metadata": {},
   "outputs": [],
   "source": [
    "real_time_temp = real_time[real_time['vehicle.trip.routeId']==399]"
   ]
  },
  {
   "cell_type": "code",
   "execution_count": 17,
   "id": "ca15c39c",
   "metadata": {
    "scrolled": true
   },
   "outputs": [
    {
     "data": {
      "text/plain": [
       "array(['399_23_23_1248_new', '399_0_26_9008_new', '399_6_10', '399_7_30',\n",
       "       '399_6_20', '399_6_40', '399_6_30', '399_6_50', '399_7_0',\n",
       "       '399_7_10', '399_7_5_9370_new', '399_7_20_6054_new',\n",
       "       '399_7_22_5524_new', '399_7_29_9380_new', '399_7_36_3229_new',\n",
       "       '399_8_10', '399_7_39_2703_new', '399_7_48_8635_new', '399_9_40',\n",
       "       '399_9_40_8036_new', '399_10_10', '399_10_6_452_new', '399_10_20',\n",
       "       '399_10_30', '399_10_50', '399_10_57_8044_new',\n",
       "       '399_10_44_6856_new', '399_10_45_2280_new', '399_11_0',\n",
       "       '399_10_33_7989_new', '399_10_40', '399_11_20',\n",
       "       '399_10_31_9920_new', '399_11_30', '399_11_40',\n",
       "       '399_11_19_768_new', '399_11_50', '399_11_26_343_new', '399_12_0',\n",
       "       '399_11_36_5463_new', '399_12_10', '399_11_49_2642_new',\n",
       "       '399_12_20', '399_11_55_7086_new', '399_12_30',\n",
       "       '399_12_4_2857_new', '399_12_40', '399_12_17_8009_new',\n",
       "       '399_12_19_8846_new', '399_12_50', '399_12_29_5034_new',\n",
       "       '399_13_0', '399_12_33_4003_new', '399_12_38_9457_new',\n",
       "       '399_13_10', '399_12_48_4665_new', '399_12_48_2178_new',\n",
       "       '399_13_30', '399_13_20', '399_13_40', '399_13_50', '399_14_0',\n",
       "       '399_14_10', '399_14_20', '399_14_30', '399_14_40', '399_14_50',\n",
       "       '399_15_0', '399_14_44_5942_new', '399_15_10',\n",
       "       '399_14_46_5977_new', '399_14_46_3300_new', '399_14_48_1571_new',\n",
       "       '399_15_20', '399_14_52_251_new', '399_14_56_11_new', '399_15_30',\n",
       "       '399_15_40', '399_15_13_3620_new', '399_15_18_4313_new',\n",
       "       '399_15_23_5484_new', '399_15_50', '399_15_24_2013_new',\n",
       "       '399_15_26_2960_new', '399_16_0', '399_15_35_7214_new',\n",
       "       '399_15_35_7660_new', '399_15_39_1144_new', '399_16_10',\n",
       "       '399_15_55_2011_new', '399_16_20', '399_16_30',\n",
       "       '399_16_1_8661_new', '399_16_8_3619_new', '399_16_40',\n",
       "       '399_16_15_4413_new', '399_16_18_1105_new', '399_16_50',\n",
       "       '399_16_26_816_new', '399_17_0', '399_16_33_1352_new',\n",
       "       '399_16_37_6954_new', '399_17_10', '399_17_17', '399_17_20',\n",
       "       '399_17_23', '399_17_26', '399_17_30', '399_17_36', '399_17_39',\n",
       "       '399_18_5', '399_18_30', '399_17_38', '399_17_42', '399_19_10',\n",
       "       '399_19_0', '399_19_30', '399_19_19', '399_19_33', '399_18_59',\n",
       "       '399_18_33', '399_19_34', '399_18_25', '399_18_50', '399_18_46',\n",
       "       '399_18_56', '399_19_50', '399_19_40', '399_20_0', '399_20_2',\n",
       "       '399_20_11', '399_20_10', '399_20_20', '399_20_14', '399_20_29',\n",
       "       '399_20_30', '399_20_40', '399_20_41', '399_20_43', '399_20_46',\n",
       "       '399_21_0', '399_21_26'], dtype=object)"
      ]
     },
     "execution_count": 17,
     "metadata": {},
     "output_type": "execute_result"
    }
   ],
   "source": [
    "real_time_temp['vehicle.trip.tripId'].unique()"
   ]
  },
  {
   "cell_type": "code",
   "execution_count": 18,
   "id": "a14b7dae",
   "metadata": {
    "scrolled": true
   },
   "outputs": [
    {
     "data": {
      "text/html": [
       "<div>\n",
       "<style scoped>\n",
       "    .dataframe tbody tr th:only-of-type {\n",
       "        vertical-align: middle;\n",
       "    }\n",
       "\n",
       "    .dataframe tbody tr th {\n",
       "        vertical-align: top;\n",
       "    }\n",
       "\n",
       "    .dataframe thead th {\n",
       "        text-align: right;\n",
       "    }\n",
       "</style>\n",
       "<table border=\"1\" class=\"dataframe\">\n",
       "  <thead>\n",
       "    <tr style=\"text-align: right;\">\n",
       "      <th></th>\n",
       "      <th>Unnamed: 0</th>\n",
       "      <th>id</th>\n",
       "      <th>vehicle.position.latitude</th>\n",
       "      <th>vehicle.position.longitude</th>\n",
       "      <th>vehicle.position.speed</th>\n",
       "      <th>vehicle.timestamp</th>\n",
       "      <th>vehicle.trip.routeId</th>\n",
       "      <th>vehicle.trip.startDate</th>\n",
       "      <th>vehicle.trip.startTime</th>\n",
       "      <th>vehicle.trip.tripId</th>\n",
       "      <th>vehicle.vehicle.id</th>\n",
       "      <th>vehicle.vehicle.label</th>\n",
       "      <th>timestamp</th>\n",
       "      <th>Date_time</th>\n",
       "    </tr>\n",
       "  </thead>\n",
       "  <tbody>\n",
       "    <tr>\n",
       "      <th>1134253</th>\n",
       "      <td>603</td>\n",
       "      <td>DL1PC6355</td>\n",
       "      <td>28.496920</td>\n",
       "      <td>77.302370</td>\n",
       "      <td>1.944444</td>\n",
       "      <td>1618669853</td>\n",
       "      <td>399</td>\n",
       "      <td>20210417</td>\n",
       "      <td>20:00:45</td>\n",
       "      <td>399_20_0</td>\n",
       "      <td>DL1PC6355</td>\n",
       "      <td>DL1PC6355</td>\n",
       "      <td>20-01</td>\n",
       "      <td>17-Apr-2021-20-01</td>\n",
       "    </tr>\n",
       "    <tr>\n",
       "      <th>1136406</th>\n",
       "      <td>600</td>\n",
       "      <td>DL1PC6355</td>\n",
       "      <td>28.499077</td>\n",
       "      <td>77.300210</td>\n",
       "      <td>2.500000</td>\n",
       "      <td>1618669923</td>\n",
       "      <td>399</td>\n",
       "      <td>20210417</td>\n",
       "      <td>20:00:45</td>\n",
       "      <td>399_20_0</td>\n",
       "      <td>DL1PC6355</td>\n",
       "      <td>DL1PC6355</td>\n",
       "      <td>20-02</td>\n",
       "      <td>17-Apr-2021-20-02</td>\n",
       "    </tr>\n",
       "    <tr>\n",
       "      <th>1138554</th>\n",
       "      <td>597</td>\n",
       "      <td>DL1PC6355</td>\n",
       "      <td>28.498743</td>\n",
       "      <td>77.297710</td>\n",
       "      <td>2.500000</td>\n",
       "      <td>1618669983</td>\n",
       "      <td>399</td>\n",
       "      <td>20210417</td>\n",
       "      <td>20:00:45</td>\n",
       "      <td>399_20_0</td>\n",
       "      <td>DL1PC6355</td>\n",
       "      <td>DL1PC6355</td>\n",
       "      <td>20-03</td>\n",
       "      <td>17-Apr-2021-20-03</td>\n",
       "    </tr>\n",
       "    <tr>\n",
       "      <th>1140699</th>\n",
       "      <td>596</td>\n",
       "      <td>DL1PC6355</td>\n",
       "      <td>28.500696</td>\n",
       "      <td>77.293710</td>\n",
       "      <td>1.111111</td>\n",
       "      <td>1618670053</td>\n",
       "      <td>399</td>\n",
       "      <td>20210417</td>\n",
       "      <td>20:00:45</td>\n",
       "      <td>399_20_0</td>\n",
       "      <td>DL1PC6355</td>\n",
       "      <td>DL1PC6355</td>\n",
       "      <td>20-04</td>\n",
       "      <td>17-Apr-2021-20-04</td>\n",
       "    </tr>\n",
       "    <tr>\n",
       "      <th>1142844</th>\n",
       "      <td>596</td>\n",
       "      <td>DL1PC6355</td>\n",
       "      <td>28.501656</td>\n",
       "      <td>77.289600</td>\n",
       "      <td>0.833333</td>\n",
       "      <td>1618670123</td>\n",
       "      <td>399</td>\n",
       "      <td>20210417</td>\n",
       "      <td>20:00:45</td>\n",
       "      <td>399_20_0</td>\n",
       "      <td>DL1PC6355</td>\n",
       "      <td>DL1PC6355</td>\n",
       "      <td>20-05</td>\n",
       "      <td>17-Apr-2021-20-05</td>\n",
       "    </tr>\n",
       "    <tr>\n",
       "      <th>...</th>\n",
       "      <td>...</td>\n",
       "      <td>...</td>\n",
       "      <td>...</td>\n",
       "      <td>...</td>\n",
       "      <td>...</td>\n",
       "      <td>...</td>\n",
       "      <td>...</td>\n",
       "      <td>...</td>\n",
       "      <td>...</td>\n",
       "      <td>...</td>\n",
       "      <td>...</td>\n",
       "      <td>...</td>\n",
       "      <td>...</td>\n",
       "      <td>...</td>\n",
       "    </tr>\n",
       "    <tr>\n",
       "      <th>1336988</th>\n",
       "      <td>543</td>\n",
       "      <td>DL1PC6355</td>\n",
       "      <td>28.522190</td>\n",
       "      <td>77.082520</td>\n",
       "      <td>0.000000</td>\n",
       "      <td>1618675732</td>\n",
       "      <td>399</td>\n",
       "      <td>20210417</td>\n",
       "      <td>20:00:45</td>\n",
       "      <td>399_20_0</td>\n",
       "      <td>DL1PC6355</td>\n",
       "      <td>DL1PC6355</td>\n",
       "      <td>21-39</td>\n",
       "      <td>17-Apr-2021-21-39</td>\n",
       "    </tr>\n",
       "    <tr>\n",
       "      <th>1339021</th>\n",
       "      <td>543</td>\n",
       "      <td>DL1PC6355</td>\n",
       "      <td>28.522133</td>\n",
       "      <td>77.082570</td>\n",
       "      <td>0.000000</td>\n",
       "      <td>1618675802</td>\n",
       "      <td>399</td>\n",
       "      <td>20210417</td>\n",
       "      <td>20:00:45</td>\n",
       "      <td>399_20_0</td>\n",
       "      <td>DL1PC6355</td>\n",
       "      <td>DL1PC6355</td>\n",
       "      <td>21-40</td>\n",
       "      <td>17-Apr-2021-21-40</td>\n",
       "    </tr>\n",
       "    <tr>\n",
       "      <th>1341059</th>\n",
       "      <td>543</td>\n",
       "      <td>DL1PC6355</td>\n",
       "      <td>28.522139</td>\n",
       "      <td>77.082565</td>\n",
       "      <td>0.000000</td>\n",
       "      <td>1618675852</td>\n",
       "      <td>399</td>\n",
       "      <td>20210417</td>\n",
       "      <td>20:00:45</td>\n",
       "      <td>399_20_0</td>\n",
       "      <td>DL1PC6355</td>\n",
       "      <td>DL1PC6355</td>\n",
       "      <td>21-41</td>\n",
       "      <td>17-Apr-2021-21-41</td>\n",
       "    </tr>\n",
       "    <tr>\n",
       "      <th>1343094</th>\n",
       "      <td>543</td>\n",
       "      <td>DL1PC6355</td>\n",
       "      <td>28.521101</td>\n",
       "      <td>77.082120</td>\n",
       "      <td>1.388889</td>\n",
       "      <td>1618675922</td>\n",
       "      <td>399</td>\n",
       "      <td>20210417</td>\n",
       "      <td>20:00:45</td>\n",
       "      <td>399_20_0</td>\n",
       "      <td>DL1PC6355</td>\n",
       "      <td>DL1PC6355</td>\n",
       "      <td>21-42</td>\n",
       "      <td>17-Apr-2021-21-42</td>\n",
       "    </tr>\n",
       "    <tr>\n",
       "      <th>1345131</th>\n",
       "      <td>543</td>\n",
       "      <td>DL1PC6355</td>\n",
       "      <td>28.521494</td>\n",
       "      <td>77.082090</td>\n",
       "      <td>0.000000</td>\n",
       "      <td>1618675982</td>\n",
       "      <td>399</td>\n",
       "      <td>20210417</td>\n",
       "      <td>20:00:45</td>\n",
       "      <td>399_20_0</td>\n",
       "      <td>DL1PC6355</td>\n",
       "      <td>DL1PC6355</td>\n",
       "      <td>21-43</td>\n",
       "      <td>17-Apr-2021-21-43</td>\n",
       "    </tr>\n",
       "  </tbody>\n",
       "</table>\n",
       "<p>101 rows × 14 columns</p>\n",
       "</div>"
      ],
      "text/plain": [
       "         Unnamed: 0         id  vehicle.position.latitude  \\\n",
       "1134253         603  DL1PC6355                  28.496920   \n",
       "1136406         600  DL1PC6355                  28.499077   \n",
       "1138554         597  DL1PC6355                  28.498743   \n",
       "1140699         596  DL1PC6355                  28.500696   \n",
       "1142844         596  DL1PC6355                  28.501656   \n",
       "...             ...        ...                        ...   \n",
       "1336988         543  DL1PC6355                  28.522190   \n",
       "1339021         543  DL1PC6355                  28.522133   \n",
       "1341059         543  DL1PC6355                  28.522139   \n",
       "1343094         543  DL1PC6355                  28.521101   \n",
       "1345131         543  DL1PC6355                  28.521494   \n",
       "\n",
       "         vehicle.position.longitude  vehicle.position.speed  \\\n",
       "1134253                   77.302370                1.944444   \n",
       "1136406                   77.300210                2.500000   \n",
       "1138554                   77.297710                2.500000   \n",
       "1140699                   77.293710                1.111111   \n",
       "1142844                   77.289600                0.833333   \n",
       "...                             ...                     ...   \n",
       "1336988                   77.082520                0.000000   \n",
       "1339021                   77.082570                0.000000   \n",
       "1341059                   77.082565                0.000000   \n",
       "1343094                   77.082120                1.388889   \n",
       "1345131                   77.082090                0.000000   \n",
       "\n",
       "         vehicle.timestamp  vehicle.trip.routeId  vehicle.trip.startDate  \\\n",
       "1134253         1618669853                   399                20210417   \n",
       "1136406         1618669923                   399                20210417   \n",
       "1138554         1618669983                   399                20210417   \n",
       "1140699         1618670053                   399                20210417   \n",
       "1142844         1618670123                   399                20210417   \n",
       "...                    ...                   ...                     ...   \n",
       "1336988         1618675732                   399                20210417   \n",
       "1339021         1618675802                   399                20210417   \n",
       "1341059         1618675852                   399                20210417   \n",
       "1343094         1618675922                   399                20210417   \n",
       "1345131         1618675982                   399                20210417   \n",
       "\n",
       "        vehicle.trip.startTime vehicle.trip.tripId vehicle.vehicle.id  \\\n",
       "1134253               20:00:45            399_20_0          DL1PC6355   \n",
       "1136406               20:00:45            399_20_0          DL1PC6355   \n",
       "1138554               20:00:45            399_20_0          DL1PC6355   \n",
       "1140699               20:00:45            399_20_0          DL1PC6355   \n",
       "1142844               20:00:45            399_20_0          DL1PC6355   \n",
       "...                        ...                 ...                ...   \n",
       "1336988               20:00:45            399_20_0          DL1PC6355   \n",
       "1339021               20:00:45            399_20_0          DL1PC6355   \n",
       "1341059               20:00:45            399_20_0          DL1PC6355   \n",
       "1343094               20:00:45            399_20_0          DL1PC6355   \n",
       "1345131               20:00:45            399_20_0          DL1PC6355   \n",
       "\n",
       "        vehicle.vehicle.label timestamp          Date_time  \n",
       "1134253             DL1PC6355     20-01  17-Apr-2021-20-01  \n",
       "1136406             DL1PC6355     20-02  17-Apr-2021-20-02  \n",
       "1138554             DL1PC6355     20-03  17-Apr-2021-20-03  \n",
       "1140699             DL1PC6355     20-04  17-Apr-2021-20-04  \n",
       "1142844             DL1PC6355     20-05  17-Apr-2021-20-05  \n",
       "...                       ...       ...                ...  \n",
       "1336988             DL1PC6355     21-39  17-Apr-2021-21-39  \n",
       "1339021             DL1PC6355     21-40  17-Apr-2021-21-40  \n",
       "1341059             DL1PC6355     21-41  17-Apr-2021-21-41  \n",
       "1343094             DL1PC6355     21-42  17-Apr-2021-21-42  \n",
       "1345131             DL1PC6355     21-43  17-Apr-2021-21-43  \n",
       "\n",
       "[101 rows x 14 columns]"
      ]
     },
     "execution_count": 18,
     "metadata": {},
     "output_type": "execute_result"
    }
   ],
   "source": [
    "real_time_temp_onetrip = real_time_temp[real_time_temp['vehicle.trip.tripId'] == real_time_temp['vehicle.trip.tripId'].unique()[-14]]\n",
    "real_time_temp_onetrip"
   ]
  },
  {
   "cell_type": "code",
   "execution_count": 19,
   "id": "03af892b",
   "metadata": {},
   "outputs": [],
   "source": [
    "# real_time_temp_onetrip.to_csv(\"Route_399_realtime_april_2021.csv\")"
   ]
  },
  {
   "cell_type": "code",
   "execution_count": 20,
   "id": "8386c3c8",
   "metadata": {},
   "outputs": [
    {
     "data": {
      "application/vnd.plotly.v1+json": {
       "config": {
        "plotlyServerURL": "https://plot.ly"
       },
       "data": [
        {
         "hovertemplate": "vehicle.position.latitude=%{lat}<br>vehicle.position.longitude=%{lon}<extra></extra>",
         "lat": [
          28.49692,
          28.499077,
          28.498743,
          28.500696,
          28.501656,
          28.50185,
          28.501846,
          28.501984,
          28.503075,
          28.50533,
          28.506628,
          28.508097,
          28.509127,
          28.51106,
          28.511536,
          28.51191,
          28.512014,
          28.512152,
          28.512276,
          28.513023,
          28.513733,
          28.515154,
          28.515932,
          28.516851,
          28.517555,
          28.518337,
          28.520021,
          28.521183,
          28.522226,
          28.522972,
          28.52138,
          28.516863,
          28.511765,
          28.511236,
          28.509197,
          28.507895,
          28.507957,
          28.509504,
          28.510452,
          28.511578,
          28.514858,
          28.516348,
          28.516348,
          28.519924,
          28.525211,
          28.527414,
          28.52877,
          28.529726,
          28.530886,
          28.533,
          28.534122,
          28.538094,
          28.53926,
          28.53926,
          28.545258,
          28.546148,
          28.544954,
          28.540989,
          28.536676,
          28.53509,
          28.53199,
          28.527166,
          28.522308,
          28.527838,
          28.531588,
          28.534824,
          28.536263,
          28.537832,
          28.53417,
          28.530233,
          28.53001,
          28.53001,
          28.524189,
          28.522234,
          28.522213,
          28.522207,
          28.522217,
          28.52221,
          28.522213,
          28.522165,
          28.522173,
          28.522156,
          28.522171,
          28.5222,
          28.5222,
          28.522156,
          28.522203,
          28.522207,
          28.522186,
          28.522203,
          28.52219,
          28.522205,
          28.522192,
          28.522184,
          28.522223,
          28.522188,
          28.52219,
          28.522133,
          28.522139,
          28.521101,
          28.521494
         ],
         "legendgroup": "",
         "lon": [
          77.30237,
          77.30021,
          77.29771,
          77.29371,
          77.2896,
          77.28797,
          77.28791,
          77.28704,
          77.28137,
          77.27689,
          77.27354,
          77.26845,
          77.26495,
          77.261536,
          77.2579,
          77.250465,
          77.247314,
          77.24448,
          77.24175,
          77.237785,
          77.23485,
          77.2283,
          77.2248,
          77.22016,
          77.21657,
          77.21202,
          77.20454,
          77.20005,
          77.19597,
          77.191086,
          77.189705,
          77.188736,
          77.18438,
          77.182655,
          77.17827,
          77.177,
          77.17562,
          77.17202,
          77.16859,
          77.16666,
          77.16366,
          77.16187,
          77.16187,
          77.15882,
          77.15467,
          77.15068,
          77.14847,
          77.14753,
          77.14627,
          77.14332,
          77.142265,
          77.13507,
          77.13225,
          77.13225,
          77.1276,
          77.123726,
          77.12169,
          77.11782,
          77.11431,
          77.1113,
          77.105606,
          77.10229,
          77.098656,
          77.10216,
          77.104706,
          77.10854,
          77.101906,
          77.09307,
          77.09022,
          77.08755,
          77.08743,
          77.08743,
          77.083534,
          77.08255,
          77.08256,
          77.082535,
          77.08253,
          77.082535,
          77.08251,
          77.08249,
          77.08251,
          77.082535,
          77.08253,
          77.08251,
          77.08252,
          77.08257,
          77.08257,
          77.08256,
          77.0825,
          77.08252,
          77.08253,
          77.08251,
          77.08253,
          77.082504,
          77.082436,
          77.08245,
          77.08252,
          77.08257,
          77.082565,
          77.08212,
          77.08209
         ],
         "marker": {
          "color": "#636efa"
         },
         "mode": "markers",
         "name": "",
         "showlegend": false,
         "subplot": "mapbox",
         "type": "scattermapbox"
        }
       ],
       "layout": {
        "legend": {
         "tracegroupgap": 0
        },
        "mapbox": {
         "center": {
          "lat": 28.520604960396042,
          "lon": 77.15567654455445
         },
         "domain": {
          "x": [
           0,
           1
          ],
          "y": [
           0,
           1
          ]
         },
         "style": "carto-positron",
         "zoom": 11
        },
        "template": {
         "data": {
          "bar": [
           {
            "error_x": {
             "color": "#2a3f5f"
            },
            "error_y": {
             "color": "#2a3f5f"
            },
            "marker": {
             "line": {
              "color": "#E5ECF6",
              "width": 0.5
             },
             "pattern": {
              "fillmode": "overlay",
              "size": 10,
              "solidity": 0.2
             }
            },
            "type": "bar"
           }
          ],
          "barpolar": [
           {
            "marker": {
             "line": {
              "color": "#E5ECF6",
              "width": 0.5
             },
             "pattern": {
              "fillmode": "overlay",
              "size": 10,
              "solidity": 0.2
             }
            },
            "type": "barpolar"
           }
          ],
          "carpet": [
           {
            "aaxis": {
             "endlinecolor": "#2a3f5f",
             "gridcolor": "white",
             "linecolor": "white",
             "minorgridcolor": "white",
             "startlinecolor": "#2a3f5f"
            },
            "baxis": {
             "endlinecolor": "#2a3f5f",
             "gridcolor": "white",
             "linecolor": "white",
             "minorgridcolor": "white",
             "startlinecolor": "#2a3f5f"
            },
            "type": "carpet"
           }
          ],
          "choropleth": [
           {
            "colorbar": {
             "outlinewidth": 0,
             "ticks": ""
            },
            "type": "choropleth"
           }
          ],
          "contour": [
           {
            "colorbar": {
             "outlinewidth": 0,
             "ticks": ""
            },
            "colorscale": [
             [
              0,
              "#0d0887"
             ],
             [
              0.1111111111111111,
              "#46039f"
             ],
             [
              0.2222222222222222,
              "#7201a8"
             ],
             [
              0.3333333333333333,
              "#9c179e"
             ],
             [
              0.4444444444444444,
              "#bd3786"
             ],
             [
              0.5555555555555556,
              "#d8576b"
             ],
             [
              0.6666666666666666,
              "#ed7953"
             ],
             [
              0.7777777777777778,
              "#fb9f3a"
             ],
             [
              0.8888888888888888,
              "#fdca26"
             ],
             [
              1,
              "#f0f921"
             ]
            ],
            "type": "contour"
           }
          ],
          "contourcarpet": [
           {
            "colorbar": {
             "outlinewidth": 0,
             "ticks": ""
            },
            "type": "contourcarpet"
           }
          ],
          "heatmap": [
           {
            "colorbar": {
             "outlinewidth": 0,
             "ticks": ""
            },
            "colorscale": [
             [
              0,
              "#0d0887"
             ],
             [
              0.1111111111111111,
              "#46039f"
             ],
             [
              0.2222222222222222,
              "#7201a8"
             ],
             [
              0.3333333333333333,
              "#9c179e"
             ],
             [
              0.4444444444444444,
              "#bd3786"
             ],
             [
              0.5555555555555556,
              "#d8576b"
             ],
             [
              0.6666666666666666,
              "#ed7953"
             ],
             [
              0.7777777777777778,
              "#fb9f3a"
             ],
             [
              0.8888888888888888,
              "#fdca26"
             ],
             [
              1,
              "#f0f921"
             ]
            ],
            "type": "heatmap"
           }
          ],
          "heatmapgl": [
           {
            "colorbar": {
             "outlinewidth": 0,
             "ticks": ""
            },
            "colorscale": [
             [
              0,
              "#0d0887"
             ],
             [
              0.1111111111111111,
              "#46039f"
             ],
             [
              0.2222222222222222,
              "#7201a8"
             ],
             [
              0.3333333333333333,
              "#9c179e"
             ],
             [
              0.4444444444444444,
              "#bd3786"
             ],
             [
              0.5555555555555556,
              "#d8576b"
             ],
             [
              0.6666666666666666,
              "#ed7953"
             ],
             [
              0.7777777777777778,
              "#fb9f3a"
             ],
             [
              0.8888888888888888,
              "#fdca26"
             ],
             [
              1,
              "#f0f921"
             ]
            ],
            "type": "heatmapgl"
           }
          ],
          "histogram": [
           {
            "marker": {
             "pattern": {
              "fillmode": "overlay",
              "size": 10,
              "solidity": 0.2
             }
            },
            "type": "histogram"
           }
          ],
          "histogram2d": [
           {
            "colorbar": {
             "outlinewidth": 0,
             "ticks": ""
            },
            "colorscale": [
             [
              0,
              "#0d0887"
             ],
             [
              0.1111111111111111,
              "#46039f"
             ],
             [
              0.2222222222222222,
              "#7201a8"
             ],
             [
              0.3333333333333333,
              "#9c179e"
             ],
             [
              0.4444444444444444,
              "#bd3786"
             ],
             [
              0.5555555555555556,
              "#d8576b"
             ],
             [
              0.6666666666666666,
              "#ed7953"
             ],
             [
              0.7777777777777778,
              "#fb9f3a"
             ],
             [
              0.8888888888888888,
              "#fdca26"
             ],
             [
              1,
              "#f0f921"
             ]
            ],
            "type": "histogram2d"
           }
          ],
          "histogram2dcontour": [
           {
            "colorbar": {
             "outlinewidth": 0,
             "ticks": ""
            },
            "colorscale": [
             [
              0,
              "#0d0887"
             ],
             [
              0.1111111111111111,
              "#46039f"
             ],
             [
              0.2222222222222222,
              "#7201a8"
             ],
             [
              0.3333333333333333,
              "#9c179e"
             ],
             [
              0.4444444444444444,
              "#bd3786"
             ],
             [
              0.5555555555555556,
              "#d8576b"
             ],
             [
              0.6666666666666666,
              "#ed7953"
             ],
             [
              0.7777777777777778,
              "#fb9f3a"
             ],
             [
              0.8888888888888888,
              "#fdca26"
             ],
             [
              1,
              "#f0f921"
             ]
            ],
            "type": "histogram2dcontour"
           }
          ],
          "mesh3d": [
           {
            "colorbar": {
             "outlinewidth": 0,
             "ticks": ""
            },
            "type": "mesh3d"
           }
          ],
          "parcoords": [
           {
            "line": {
             "colorbar": {
              "outlinewidth": 0,
              "ticks": ""
             }
            },
            "type": "parcoords"
           }
          ],
          "pie": [
           {
            "automargin": true,
            "type": "pie"
           }
          ],
          "scatter": [
           {
            "fillpattern": {
             "fillmode": "overlay",
             "size": 10,
             "solidity": 0.2
            },
            "type": "scatter"
           }
          ],
          "scatter3d": [
           {
            "line": {
             "colorbar": {
              "outlinewidth": 0,
              "ticks": ""
             }
            },
            "marker": {
             "colorbar": {
              "outlinewidth": 0,
              "ticks": ""
             }
            },
            "type": "scatter3d"
           }
          ],
          "scattercarpet": [
           {
            "marker": {
             "colorbar": {
              "outlinewidth": 0,
              "ticks": ""
             }
            },
            "type": "scattercarpet"
           }
          ],
          "scattergeo": [
           {
            "marker": {
             "colorbar": {
              "outlinewidth": 0,
              "ticks": ""
             }
            },
            "type": "scattergeo"
           }
          ],
          "scattergl": [
           {
            "marker": {
             "colorbar": {
              "outlinewidth": 0,
              "ticks": ""
             }
            },
            "type": "scattergl"
           }
          ],
          "scattermapbox": [
           {
            "marker": {
             "colorbar": {
              "outlinewidth": 0,
              "ticks": ""
             }
            },
            "type": "scattermapbox"
           }
          ],
          "scatterpolar": [
           {
            "marker": {
             "colorbar": {
              "outlinewidth": 0,
              "ticks": ""
             }
            },
            "type": "scatterpolar"
           }
          ],
          "scatterpolargl": [
           {
            "marker": {
             "colorbar": {
              "outlinewidth": 0,
              "ticks": ""
             }
            },
            "type": "scatterpolargl"
           }
          ],
          "scatterternary": [
           {
            "marker": {
             "colorbar": {
              "outlinewidth": 0,
              "ticks": ""
             }
            },
            "type": "scatterternary"
           }
          ],
          "surface": [
           {
            "colorbar": {
             "outlinewidth": 0,
             "ticks": ""
            },
            "colorscale": [
             [
              0,
              "#0d0887"
             ],
             [
              0.1111111111111111,
              "#46039f"
             ],
             [
              0.2222222222222222,
              "#7201a8"
             ],
             [
              0.3333333333333333,
              "#9c179e"
             ],
             [
              0.4444444444444444,
              "#bd3786"
             ],
             [
              0.5555555555555556,
              "#d8576b"
             ],
             [
              0.6666666666666666,
              "#ed7953"
             ],
             [
              0.7777777777777778,
              "#fb9f3a"
             ],
             [
              0.8888888888888888,
              "#fdca26"
             ],
             [
              1,
              "#f0f921"
             ]
            ],
            "type": "surface"
           }
          ],
          "table": [
           {
            "cells": {
             "fill": {
              "color": "#EBF0F8"
             },
             "line": {
              "color": "white"
             }
            },
            "header": {
             "fill": {
              "color": "#C8D4E3"
             },
             "line": {
              "color": "white"
             }
            },
            "type": "table"
           }
          ]
         },
         "layout": {
          "annotationdefaults": {
           "arrowcolor": "#2a3f5f",
           "arrowhead": 0,
           "arrowwidth": 1
          },
          "autotypenumbers": "strict",
          "coloraxis": {
           "colorbar": {
            "outlinewidth": 0,
            "ticks": ""
           }
          },
          "colorscale": {
           "diverging": [
            [
             0,
             "#8e0152"
            ],
            [
             0.1,
             "#c51b7d"
            ],
            [
             0.2,
             "#de77ae"
            ],
            [
             0.3,
             "#f1b6da"
            ],
            [
             0.4,
             "#fde0ef"
            ],
            [
             0.5,
             "#f7f7f7"
            ],
            [
             0.6,
             "#e6f5d0"
            ],
            [
             0.7,
             "#b8e186"
            ],
            [
             0.8,
             "#7fbc41"
            ],
            [
             0.9,
             "#4d9221"
            ],
            [
             1,
             "#276419"
            ]
           ],
           "sequential": [
            [
             0,
             "#0d0887"
            ],
            [
             0.1111111111111111,
             "#46039f"
            ],
            [
             0.2222222222222222,
             "#7201a8"
            ],
            [
             0.3333333333333333,
             "#9c179e"
            ],
            [
             0.4444444444444444,
             "#bd3786"
            ],
            [
             0.5555555555555556,
             "#d8576b"
            ],
            [
             0.6666666666666666,
             "#ed7953"
            ],
            [
             0.7777777777777778,
             "#fb9f3a"
            ],
            [
             0.8888888888888888,
             "#fdca26"
            ],
            [
             1,
             "#f0f921"
            ]
           ],
           "sequentialminus": [
            [
             0,
             "#0d0887"
            ],
            [
             0.1111111111111111,
             "#46039f"
            ],
            [
             0.2222222222222222,
             "#7201a8"
            ],
            [
             0.3333333333333333,
             "#9c179e"
            ],
            [
             0.4444444444444444,
             "#bd3786"
            ],
            [
             0.5555555555555556,
             "#d8576b"
            ],
            [
             0.6666666666666666,
             "#ed7953"
            ],
            [
             0.7777777777777778,
             "#fb9f3a"
            ],
            [
             0.8888888888888888,
             "#fdca26"
            ],
            [
             1,
             "#f0f921"
            ]
           ]
          },
          "colorway": [
           "#636efa",
           "#EF553B",
           "#00cc96",
           "#ab63fa",
           "#FFA15A",
           "#19d3f3",
           "#FF6692",
           "#B6E880",
           "#FF97FF",
           "#FECB52"
          ],
          "font": {
           "color": "#2a3f5f"
          },
          "geo": {
           "bgcolor": "white",
           "lakecolor": "white",
           "landcolor": "#E5ECF6",
           "showlakes": true,
           "showland": true,
           "subunitcolor": "white"
          },
          "hoverlabel": {
           "align": "left"
          },
          "hovermode": "closest",
          "mapbox": {
           "style": "light"
          },
          "paper_bgcolor": "white",
          "plot_bgcolor": "#E5ECF6",
          "polar": {
           "angularaxis": {
            "gridcolor": "white",
            "linecolor": "white",
            "ticks": ""
           },
           "bgcolor": "#E5ECF6",
           "radialaxis": {
            "gridcolor": "white",
            "linecolor": "white",
            "ticks": ""
           }
          },
          "scene": {
           "xaxis": {
            "backgroundcolor": "#E5ECF6",
            "gridcolor": "white",
            "gridwidth": 2,
            "linecolor": "white",
            "showbackground": true,
            "ticks": "",
            "zerolinecolor": "white"
           },
           "yaxis": {
            "backgroundcolor": "#E5ECF6",
            "gridcolor": "white",
            "gridwidth": 2,
            "linecolor": "white",
            "showbackground": true,
            "ticks": "",
            "zerolinecolor": "white"
           },
           "zaxis": {
            "backgroundcolor": "#E5ECF6",
            "gridcolor": "white",
            "gridwidth": 2,
            "linecolor": "white",
            "showbackground": true,
            "ticks": "",
            "zerolinecolor": "white"
           }
          },
          "shapedefaults": {
           "line": {
            "color": "#2a3f5f"
           }
          },
          "ternary": {
           "aaxis": {
            "gridcolor": "white",
            "linecolor": "white",
            "ticks": ""
           },
           "baxis": {
            "gridcolor": "white",
            "linecolor": "white",
            "ticks": ""
           },
           "bgcolor": "#E5ECF6",
           "caxis": {
            "gridcolor": "white",
            "linecolor": "white",
            "ticks": ""
           }
          },
          "title": {
           "x": 0.05
          },
          "xaxis": {
           "automargin": true,
           "gridcolor": "white",
           "linecolor": "white",
           "ticks": "",
           "title": {
            "standoff": 15
           },
           "zerolinecolor": "white",
           "zerolinewidth": 2
          },
          "yaxis": {
           "automargin": true,
           "gridcolor": "white",
           "linecolor": "white",
           "ticks": "",
           "title": {
            "standoff": 15
           },
           "zerolinecolor": "white",
           "zerolinewidth": 2
          }
         }
        },
        "title": {
         "text": "399 Bus Route realtime 2021"
        }
       }
      },
      "text/html": [
       "<div>                            <div id=\"7f60fa23-0b1b-4c38-a4d2-cd9c98d1b73d\" class=\"plotly-graph-div\" style=\"height:525px; width:100%;\"></div>            <script type=\"text/javascript\">                require([\"plotly\"], function(Plotly) {                    window.PLOTLYENV=window.PLOTLYENV || {};                                    if (document.getElementById(\"7f60fa23-0b1b-4c38-a4d2-cd9c98d1b73d\")) {                    Plotly.newPlot(                        \"7f60fa23-0b1b-4c38-a4d2-cd9c98d1b73d\",                        [{\"hovertemplate\":\"vehicle.position.latitude=%{lat}<br>vehicle.position.longitude=%{lon}<extra></extra>\",\"lat\":[28.49692,28.499077,28.498743,28.500696,28.501656,28.50185,28.501846,28.501984,28.503075,28.50533,28.506628,28.508097,28.509127,28.51106,28.511536,28.51191,28.512014,28.512152,28.512276,28.513023,28.513733,28.515154,28.515932,28.516851,28.517555,28.518337,28.520021,28.521183,28.522226,28.522972,28.52138,28.516863,28.511765,28.511236,28.509197,28.507895,28.507957,28.509504,28.510452,28.511578,28.514858,28.516348,28.516348,28.519924,28.525211,28.527414,28.52877,28.529726,28.530886,28.533,28.534122,28.538094,28.53926,28.53926,28.545258,28.546148,28.544954,28.540989,28.536676,28.53509,28.53199,28.527166,28.522308,28.527838,28.531588,28.534824,28.536263,28.537832,28.53417,28.530233,28.53001,28.53001,28.524189,28.522234,28.522213,28.522207,28.522217,28.52221,28.522213,28.522165,28.522173,28.522156,28.522171,28.5222,28.5222,28.522156,28.522203,28.522207,28.522186,28.522203,28.52219,28.522205,28.522192,28.522184,28.522223,28.522188,28.52219,28.522133,28.522139,28.521101,28.521494],\"legendgroup\":\"\",\"lon\":[77.30237,77.30021,77.29771,77.29371,77.2896,77.28797,77.28791,77.28704,77.28137,77.27689,77.27354,77.26845,77.26495,77.261536,77.2579,77.250465,77.247314,77.24448,77.24175,77.237785,77.23485,77.2283,77.2248,77.22016,77.21657,77.21202,77.20454,77.20005,77.19597,77.191086,77.189705,77.188736,77.18438,77.182655,77.17827,77.177,77.17562,77.17202,77.16859,77.16666,77.16366,77.16187,77.16187,77.15882,77.15467,77.15068,77.14847,77.14753,77.14627,77.14332,77.142265,77.13507,77.13225,77.13225,77.1276,77.123726,77.12169,77.11782,77.11431,77.1113,77.105606,77.10229,77.098656,77.10216,77.104706,77.10854,77.101906,77.09307,77.09022,77.08755,77.08743,77.08743,77.083534,77.08255,77.08256,77.082535,77.08253,77.082535,77.08251,77.08249,77.08251,77.082535,77.08253,77.08251,77.08252,77.08257,77.08257,77.08256,77.0825,77.08252,77.08253,77.08251,77.08253,77.082504,77.082436,77.08245,77.08252,77.08257,77.082565,77.08212,77.08209],\"marker\":{\"color\":\"#636efa\"},\"mode\":\"markers\",\"name\":\"\",\"showlegend\":false,\"subplot\":\"mapbox\",\"type\":\"scattermapbox\"}],                        {\"template\":{\"data\":{\"histogram2dcontour\":[{\"type\":\"histogram2dcontour\",\"colorbar\":{\"outlinewidth\":0,\"ticks\":\"\"},\"colorscale\":[[0.0,\"#0d0887\"],[0.1111111111111111,\"#46039f\"],[0.2222222222222222,\"#7201a8\"],[0.3333333333333333,\"#9c179e\"],[0.4444444444444444,\"#bd3786\"],[0.5555555555555556,\"#d8576b\"],[0.6666666666666666,\"#ed7953\"],[0.7777777777777778,\"#fb9f3a\"],[0.8888888888888888,\"#fdca26\"],[1.0,\"#f0f921\"]]}],\"choropleth\":[{\"type\":\"choropleth\",\"colorbar\":{\"outlinewidth\":0,\"ticks\":\"\"}}],\"histogram2d\":[{\"type\":\"histogram2d\",\"colorbar\":{\"outlinewidth\":0,\"ticks\":\"\"},\"colorscale\":[[0.0,\"#0d0887\"],[0.1111111111111111,\"#46039f\"],[0.2222222222222222,\"#7201a8\"],[0.3333333333333333,\"#9c179e\"],[0.4444444444444444,\"#bd3786\"],[0.5555555555555556,\"#d8576b\"],[0.6666666666666666,\"#ed7953\"],[0.7777777777777778,\"#fb9f3a\"],[0.8888888888888888,\"#fdca26\"],[1.0,\"#f0f921\"]]}],\"heatmap\":[{\"type\":\"heatmap\",\"colorbar\":{\"outlinewidth\":0,\"ticks\":\"\"},\"colorscale\":[[0.0,\"#0d0887\"],[0.1111111111111111,\"#46039f\"],[0.2222222222222222,\"#7201a8\"],[0.3333333333333333,\"#9c179e\"],[0.4444444444444444,\"#bd3786\"],[0.5555555555555556,\"#d8576b\"],[0.6666666666666666,\"#ed7953\"],[0.7777777777777778,\"#fb9f3a\"],[0.8888888888888888,\"#fdca26\"],[1.0,\"#f0f921\"]]}],\"heatmapgl\":[{\"type\":\"heatmapgl\",\"colorbar\":{\"outlinewidth\":0,\"ticks\":\"\"},\"colorscale\":[[0.0,\"#0d0887\"],[0.1111111111111111,\"#46039f\"],[0.2222222222222222,\"#7201a8\"],[0.3333333333333333,\"#9c179e\"],[0.4444444444444444,\"#bd3786\"],[0.5555555555555556,\"#d8576b\"],[0.6666666666666666,\"#ed7953\"],[0.7777777777777778,\"#fb9f3a\"],[0.8888888888888888,\"#fdca26\"],[1.0,\"#f0f921\"]]}],\"contourcarpet\":[{\"type\":\"contourcarpet\",\"colorbar\":{\"outlinewidth\":0,\"ticks\":\"\"}}],\"contour\":[{\"type\":\"contour\",\"colorbar\":{\"outlinewidth\":0,\"ticks\":\"\"},\"colorscale\":[[0.0,\"#0d0887\"],[0.1111111111111111,\"#46039f\"],[0.2222222222222222,\"#7201a8\"],[0.3333333333333333,\"#9c179e\"],[0.4444444444444444,\"#bd3786\"],[0.5555555555555556,\"#d8576b\"],[0.6666666666666666,\"#ed7953\"],[0.7777777777777778,\"#fb9f3a\"],[0.8888888888888888,\"#fdca26\"],[1.0,\"#f0f921\"]]}],\"surface\":[{\"type\":\"surface\",\"colorbar\":{\"outlinewidth\":0,\"ticks\":\"\"},\"colorscale\":[[0.0,\"#0d0887\"],[0.1111111111111111,\"#46039f\"],[0.2222222222222222,\"#7201a8\"],[0.3333333333333333,\"#9c179e\"],[0.4444444444444444,\"#bd3786\"],[0.5555555555555556,\"#d8576b\"],[0.6666666666666666,\"#ed7953\"],[0.7777777777777778,\"#fb9f3a\"],[0.8888888888888888,\"#fdca26\"],[1.0,\"#f0f921\"]]}],\"mesh3d\":[{\"type\":\"mesh3d\",\"colorbar\":{\"outlinewidth\":0,\"ticks\":\"\"}}],\"scatter\":[{\"fillpattern\":{\"fillmode\":\"overlay\",\"size\":10,\"solidity\":0.2},\"type\":\"scatter\"}],\"parcoords\":[{\"type\":\"parcoords\",\"line\":{\"colorbar\":{\"outlinewidth\":0,\"ticks\":\"\"}}}],\"scatterpolargl\":[{\"type\":\"scatterpolargl\",\"marker\":{\"colorbar\":{\"outlinewidth\":0,\"ticks\":\"\"}}}],\"bar\":[{\"error_x\":{\"color\":\"#2a3f5f\"},\"error_y\":{\"color\":\"#2a3f5f\"},\"marker\":{\"line\":{\"color\":\"#E5ECF6\",\"width\":0.5},\"pattern\":{\"fillmode\":\"overlay\",\"size\":10,\"solidity\":0.2}},\"type\":\"bar\"}],\"scattergeo\":[{\"type\":\"scattergeo\",\"marker\":{\"colorbar\":{\"outlinewidth\":0,\"ticks\":\"\"}}}],\"scatterpolar\":[{\"type\":\"scatterpolar\",\"marker\":{\"colorbar\":{\"outlinewidth\":0,\"ticks\":\"\"}}}],\"histogram\":[{\"marker\":{\"pattern\":{\"fillmode\":\"overlay\",\"size\":10,\"solidity\":0.2}},\"type\":\"histogram\"}],\"scattergl\":[{\"type\":\"scattergl\",\"marker\":{\"colorbar\":{\"outlinewidth\":0,\"ticks\":\"\"}}}],\"scatter3d\":[{\"type\":\"scatter3d\",\"line\":{\"colorbar\":{\"outlinewidth\":0,\"ticks\":\"\"}},\"marker\":{\"colorbar\":{\"outlinewidth\":0,\"ticks\":\"\"}}}],\"scattermapbox\":[{\"type\":\"scattermapbox\",\"marker\":{\"colorbar\":{\"outlinewidth\":0,\"ticks\":\"\"}}}],\"scatterternary\":[{\"type\":\"scatterternary\",\"marker\":{\"colorbar\":{\"outlinewidth\":0,\"ticks\":\"\"}}}],\"scattercarpet\":[{\"type\":\"scattercarpet\",\"marker\":{\"colorbar\":{\"outlinewidth\":0,\"ticks\":\"\"}}}],\"carpet\":[{\"aaxis\":{\"endlinecolor\":\"#2a3f5f\",\"gridcolor\":\"white\",\"linecolor\":\"white\",\"minorgridcolor\":\"white\",\"startlinecolor\":\"#2a3f5f\"},\"baxis\":{\"endlinecolor\":\"#2a3f5f\",\"gridcolor\":\"white\",\"linecolor\":\"white\",\"minorgridcolor\":\"white\",\"startlinecolor\":\"#2a3f5f\"},\"type\":\"carpet\"}],\"table\":[{\"cells\":{\"fill\":{\"color\":\"#EBF0F8\"},\"line\":{\"color\":\"white\"}},\"header\":{\"fill\":{\"color\":\"#C8D4E3\"},\"line\":{\"color\":\"white\"}},\"type\":\"table\"}],\"barpolar\":[{\"marker\":{\"line\":{\"color\":\"#E5ECF6\",\"width\":0.5},\"pattern\":{\"fillmode\":\"overlay\",\"size\":10,\"solidity\":0.2}},\"type\":\"barpolar\"}],\"pie\":[{\"automargin\":true,\"type\":\"pie\"}]},\"layout\":{\"autotypenumbers\":\"strict\",\"colorway\":[\"#636efa\",\"#EF553B\",\"#00cc96\",\"#ab63fa\",\"#FFA15A\",\"#19d3f3\",\"#FF6692\",\"#B6E880\",\"#FF97FF\",\"#FECB52\"],\"font\":{\"color\":\"#2a3f5f\"},\"hovermode\":\"closest\",\"hoverlabel\":{\"align\":\"left\"},\"paper_bgcolor\":\"white\",\"plot_bgcolor\":\"#E5ECF6\",\"polar\":{\"bgcolor\":\"#E5ECF6\",\"angularaxis\":{\"gridcolor\":\"white\",\"linecolor\":\"white\",\"ticks\":\"\"},\"radialaxis\":{\"gridcolor\":\"white\",\"linecolor\":\"white\",\"ticks\":\"\"}},\"ternary\":{\"bgcolor\":\"#E5ECF6\",\"aaxis\":{\"gridcolor\":\"white\",\"linecolor\":\"white\",\"ticks\":\"\"},\"baxis\":{\"gridcolor\":\"white\",\"linecolor\":\"white\",\"ticks\":\"\"},\"caxis\":{\"gridcolor\":\"white\",\"linecolor\":\"white\",\"ticks\":\"\"}},\"coloraxis\":{\"colorbar\":{\"outlinewidth\":0,\"ticks\":\"\"}},\"colorscale\":{\"sequential\":[[0.0,\"#0d0887\"],[0.1111111111111111,\"#46039f\"],[0.2222222222222222,\"#7201a8\"],[0.3333333333333333,\"#9c179e\"],[0.4444444444444444,\"#bd3786\"],[0.5555555555555556,\"#d8576b\"],[0.6666666666666666,\"#ed7953\"],[0.7777777777777778,\"#fb9f3a\"],[0.8888888888888888,\"#fdca26\"],[1.0,\"#f0f921\"]],\"sequentialminus\":[[0.0,\"#0d0887\"],[0.1111111111111111,\"#46039f\"],[0.2222222222222222,\"#7201a8\"],[0.3333333333333333,\"#9c179e\"],[0.4444444444444444,\"#bd3786\"],[0.5555555555555556,\"#d8576b\"],[0.6666666666666666,\"#ed7953\"],[0.7777777777777778,\"#fb9f3a\"],[0.8888888888888888,\"#fdca26\"],[1.0,\"#f0f921\"]],\"diverging\":[[0,\"#8e0152\"],[0.1,\"#c51b7d\"],[0.2,\"#de77ae\"],[0.3,\"#f1b6da\"],[0.4,\"#fde0ef\"],[0.5,\"#f7f7f7\"],[0.6,\"#e6f5d0\"],[0.7,\"#b8e186\"],[0.8,\"#7fbc41\"],[0.9,\"#4d9221\"],[1,\"#276419\"]]},\"xaxis\":{\"gridcolor\":\"white\",\"linecolor\":\"white\",\"ticks\":\"\",\"title\":{\"standoff\":15},\"zerolinecolor\":\"white\",\"automargin\":true,\"zerolinewidth\":2},\"yaxis\":{\"gridcolor\":\"white\",\"linecolor\":\"white\",\"ticks\":\"\",\"title\":{\"standoff\":15},\"zerolinecolor\":\"white\",\"automargin\":true,\"zerolinewidth\":2},\"scene\":{\"xaxis\":{\"backgroundcolor\":\"#E5ECF6\",\"gridcolor\":\"white\",\"linecolor\":\"white\",\"showbackground\":true,\"ticks\":\"\",\"zerolinecolor\":\"white\",\"gridwidth\":2},\"yaxis\":{\"backgroundcolor\":\"#E5ECF6\",\"gridcolor\":\"white\",\"linecolor\":\"white\",\"showbackground\":true,\"ticks\":\"\",\"zerolinecolor\":\"white\",\"gridwidth\":2},\"zaxis\":{\"backgroundcolor\":\"#E5ECF6\",\"gridcolor\":\"white\",\"linecolor\":\"white\",\"showbackground\":true,\"ticks\":\"\",\"zerolinecolor\":\"white\",\"gridwidth\":2}},\"shapedefaults\":{\"line\":{\"color\":\"#2a3f5f\"}},\"annotationdefaults\":{\"arrowcolor\":\"#2a3f5f\",\"arrowhead\":0,\"arrowwidth\":1},\"geo\":{\"bgcolor\":\"white\",\"landcolor\":\"#E5ECF6\",\"subunitcolor\":\"white\",\"showland\":true,\"showlakes\":true,\"lakecolor\":\"white\"},\"title\":{\"x\":0.05},\"mapbox\":{\"style\":\"light\"}}},\"mapbox\":{\"domain\":{\"x\":[0.0,1.0],\"y\":[0.0,1.0]},\"center\":{\"lat\":28.520604960396042,\"lon\":77.15567654455445},\"zoom\":11,\"style\":\"carto-positron\"},\"legend\":{\"tracegroupgap\":0},\"title\":{\"text\":\"399 Bus Route realtime 2021\"}},                        {\"responsive\": true}                    ).then(function(){\n",
       "                            \n",
       "var gd = document.getElementById('7f60fa23-0b1b-4c38-a4d2-cd9c98d1b73d');\n",
       "var x = new MutationObserver(function (mutations, observer) {{\n",
       "        var display = window.getComputedStyle(gd).display;\n",
       "        if (!display || display === 'none') {{\n",
       "            console.log([gd, 'removed!']);\n",
       "            Plotly.purge(gd);\n",
       "            observer.disconnect();\n",
       "        }}\n",
       "}});\n",
       "\n",
       "// Listen for the removal of the full notebook cells\n",
       "var notebookContainer = gd.closest('#notebook-container');\n",
       "if (notebookContainer) {{\n",
       "    x.observe(notebookContainer, {childList: true});\n",
       "}}\n",
       "\n",
       "// Listen for the clearing of the current output cell\n",
       "var outputEl = gd.closest('.output');\n",
       "if (outputEl) {{\n",
       "    x.observe(outputEl, {childList: true});\n",
       "}}\n",
       "\n",
       "                        })                };                });            </script>        </div>"
      ]
     },
     "metadata": {},
     "output_type": "display_data"
    }
   ],
   "source": [
    "fig = px.scatter_mapbox(real_time_temp_onetrip, \n",
    "                        title = \"399 Bus Route realtime 2021\",\n",
    "                        lat=\"vehicle.position.latitude\", lon=\"vehicle.position.longitude\",\n",
    "                        color_continuous_scale=px.colors.cyclical.IceFire, size_max=15, zoom=11,\n",
    "                        mapbox_style=\"carto-positron\")\n",
    "fig.show()"
   ]
  },
  {
   "cell_type": "markdown",
   "id": "46cffae1",
   "metadata": {},
   "source": [
    "## Route 399 in Real time data is matched with 717 of GTFS and ETM"
   ]
  },
  {
   "cell_type": "code",
   "execution_count": 21,
   "id": "5dcfac5e",
   "metadata": {
    "scrolled": true
   },
   "outputs": [
    {
     "data": {
      "text/html": [
       "<div>\n",
       "<style scoped>\n",
       "    .dataframe tbody tr th:only-of-type {\n",
       "        vertical-align: middle;\n",
       "    }\n",
       "\n",
       "    .dataframe tbody tr th {\n",
       "        vertical-align: top;\n",
       "    }\n",
       "\n",
       "    .dataframe thead th {\n",
       "        text-align: right;\n",
       "    }\n",
       "</style>\n",
       "<table border=\"1\" class=\"dataframe\">\n",
       "  <thead>\n",
       "    <tr style=\"text-align: right;\">\n",
       "      <th></th>\n",
       "      <th>Unnamed: 0</th>\n",
       "      <th>id</th>\n",
       "      <th>vehicle.position.latitude</th>\n",
       "      <th>vehicle.position.longitude</th>\n",
       "      <th>vehicle.position.speed</th>\n",
       "      <th>vehicle.timestamp</th>\n",
       "      <th>vehicle.trip.routeId</th>\n",
       "      <th>vehicle.trip.startDate</th>\n",
       "      <th>vehicle.trip.startTime</th>\n",
       "      <th>vehicle.trip.tripId</th>\n",
       "      <th>vehicle.vehicle.id</th>\n",
       "      <th>vehicle.vehicle.label</th>\n",
       "      <th>timestamp</th>\n",
       "      <th>Date_time</th>\n",
       "    </tr>\n",
       "  </thead>\n",
       "  <tbody>\n",
       "    <tr>\n",
       "      <th>1134253</th>\n",
       "      <td>603</td>\n",
       "      <td>DL1PC6355</td>\n",
       "      <td>28.496920</td>\n",
       "      <td>77.302370</td>\n",
       "      <td>1.944444</td>\n",
       "      <td>1618669853</td>\n",
       "      <td>399</td>\n",
       "      <td>20210417</td>\n",
       "      <td>20:00:45</td>\n",
       "      <td>399_20_0</td>\n",
       "      <td>DL1PC6355</td>\n",
       "      <td>DL1PC6355</td>\n",
       "      <td>20-01</td>\n",
       "      <td>17-Apr-2021-20-01</td>\n",
       "    </tr>\n",
       "    <tr>\n",
       "      <th>1136406</th>\n",
       "      <td>600</td>\n",
       "      <td>DL1PC6355</td>\n",
       "      <td>28.499077</td>\n",
       "      <td>77.300210</td>\n",
       "      <td>2.500000</td>\n",
       "      <td>1618669923</td>\n",
       "      <td>399</td>\n",
       "      <td>20210417</td>\n",
       "      <td>20:00:45</td>\n",
       "      <td>399_20_0</td>\n",
       "      <td>DL1PC6355</td>\n",
       "      <td>DL1PC6355</td>\n",
       "      <td>20-02</td>\n",
       "      <td>17-Apr-2021-20-02</td>\n",
       "    </tr>\n",
       "    <tr>\n",
       "      <th>1138554</th>\n",
       "      <td>597</td>\n",
       "      <td>DL1PC6355</td>\n",
       "      <td>28.498743</td>\n",
       "      <td>77.297710</td>\n",
       "      <td>2.500000</td>\n",
       "      <td>1618669983</td>\n",
       "      <td>399</td>\n",
       "      <td>20210417</td>\n",
       "      <td>20:00:45</td>\n",
       "      <td>399_20_0</td>\n",
       "      <td>DL1PC6355</td>\n",
       "      <td>DL1PC6355</td>\n",
       "      <td>20-03</td>\n",
       "      <td>17-Apr-2021-20-03</td>\n",
       "    </tr>\n",
       "    <tr>\n",
       "      <th>1140699</th>\n",
       "      <td>596</td>\n",
       "      <td>DL1PC6355</td>\n",
       "      <td>28.500696</td>\n",
       "      <td>77.293710</td>\n",
       "      <td>1.111111</td>\n",
       "      <td>1618670053</td>\n",
       "      <td>399</td>\n",
       "      <td>20210417</td>\n",
       "      <td>20:00:45</td>\n",
       "      <td>399_20_0</td>\n",
       "      <td>DL1PC6355</td>\n",
       "      <td>DL1PC6355</td>\n",
       "      <td>20-04</td>\n",
       "      <td>17-Apr-2021-20-04</td>\n",
       "    </tr>\n",
       "    <tr>\n",
       "      <th>1142844</th>\n",
       "      <td>596</td>\n",
       "      <td>DL1PC6355</td>\n",
       "      <td>28.501656</td>\n",
       "      <td>77.289600</td>\n",
       "      <td>0.833333</td>\n",
       "      <td>1618670123</td>\n",
       "      <td>399</td>\n",
       "      <td>20210417</td>\n",
       "      <td>20:00:45</td>\n",
       "      <td>399_20_0</td>\n",
       "      <td>DL1PC6355</td>\n",
       "      <td>DL1PC6355</td>\n",
       "      <td>20-05</td>\n",
       "      <td>17-Apr-2021-20-05</td>\n",
       "    </tr>\n",
       "    <tr>\n",
       "      <th>...</th>\n",
       "      <td>...</td>\n",
       "      <td>...</td>\n",
       "      <td>...</td>\n",
       "      <td>...</td>\n",
       "      <td>...</td>\n",
       "      <td>...</td>\n",
       "      <td>...</td>\n",
       "      <td>...</td>\n",
       "      <td>...</td>\n",
       "      <td>...</td>\n",
       "      <td>...</td>\n",
       "      <td>...</td>\n",
       "      <td>...</td>\n",
       "      <td>...</td>\n",
       "    </tr>\n",
       "    <tr>\n",
       "      <th>1336988</th>\n",
       "      <td>543</td>\n",
       "      <td>DL1PC6355</td>\n",
       "      <td>28.522190</td>\n",
       "      <td>77.082520</td>\n",
       "      <td>0.000000</td>\n",
       "      <td>1618675732</td>\n",
       "      <td>399</td>\n",
       "      <td>20210417</td>\n",
       "      <td>20:00:45</td>\n",
       "      <td>399_20_0</td>\n",
       "      <td>DL1PC6355</td>\n",
       "      <td>DL1PC6355</td>\n",
       "      <td>21-39</td>\n",
       "      <td>17-Apr-2021-21-39</td>\n",
       "    </tr>\n",
       "    <tr>\n",
       "      <th>1339021</th>\n",
       "      <td>543</td>\n",
       "      <td>DL1PC6355</td>\n",
       "      <td>28.522133</td>\n",
       "      <td>77.082570</td>\n",
       "      <td>0.000000</td>\n",
       "      <td>1618675802</td>\n",
       "      <td>399</td>\n",
       "      <td>20210417</td>\n",
       "      <td>20:00:45</td>\n",
       "      <td>399_20_0</td>\n",
       "      <td>DL1PC6355</td>\n",
       "      <td>DL1PC6355</td>\n",
       "      <td>21-40</td>\n",
       "      <td>17-Apr-2021-21-40</td>\n",
       "    </tr>\n",
       "    <tr>\n",
       "      <th>1341059</th>\n",
       "      <td>543</td>\n",
       "      <td>DL1PC6355</td>\n",
       "      <td>28.522139</td>\n",
       "      <td>77.082565</td>\n",
       "      <td>0.000000</td>\n",
       "      <td>1618675852</td>\n",
       "      <td>399</td>\n",
       "      <td>20210417</td>\n",
       "      <td>20:00:45</td>\n",
       "      <td>399_20_0</td>\n",
       "      <td>DL1PC6355</td>\n",
       "      <td>DL1PC6355</td>\n",
       "      <td>21-41</td>\n",
       "      <td>17-Apr-2021-21-41</td>\n",
       "    </tr>\n",
       "    <tr>\n",
       "      <th>1343094</th>\n",
       "      <td>543</td>\n",
       "      <td>DL1PC6355</td>\n",
       "      <td>28.521101</td>\n",
       "      <td>77.082120</td>\n",
       "      <td>1.388889</td>\n",
       "      <td>1618675922</td>\n",
       "      <td>399</td>\n",
       "      <td>20210417</td>\n",
       "      <td>20:00:45</td>\n",
       "      <td>399_20_0</td>\n",
       "      <td>DL1PC6355</td>\n",
       "      <td>DL1PC6355</td>\n",
       "      <td>21-42</td>\n",
       "      <td>17-Apr-2021-21-42</td>\n",
       "    </tr>\n",
       "    <tr>\n",
       "      <th>1345131</th>\n",
       "      <td>543</td>\n",
       "      <td>DL1PC6355</td>\n",
       "      <td>28.521494</td>\n",
       "      <td>77.082090</td>\n",
       "      <td>0.000000</td>\n",
       "      <td>1618675982</td>\n",
       "      <td>399</td>\n",
       "      <td>20210417</td>\n",
       "      <td>20:00:45</td>\n",
       "      <td>399_20_0</td>\n",
       "      <td>DL1PC6355</td>\n",
       "      <td>DL1PC6355</td>\n",
       "      <td>21-43</td>\n",
       "      <td>17-Apr-2021-21-43</td>\n",
       "    </tr>\n",
       "  </tbody>\n",
       "</table>\n",
       "<p>101 rows × 14 columns</p>\n",
       "</div>"
      ],
      "text/plain": [
       "         Unnamed: 0         id  vehicle.position.latitude  \\\n",
       "1134253         603  DL1PC6355                  28.496920   \n",
       "1136406         600  DL1PC6355                  28.499077   \n",
       "1138554         597  DL1PC6355                  28.498743   \n",
       "1140699         596  DL1PC6355                  28.500696   \n",
       "1142844         596  DL1PC6355                  28.501656   \n",
       "...             ...        ...                        ...   \n",
       "1336988         543  DL1PC6355                  28.522190   \n",
       "1339021         543  DL1PC6355                  28.522133   \n",
       "1341059         543  DL1PC6355                  28.522139   \n",
       "1343094         543  DL1PC6355                  28.521101   \n",
       "1345131         543  DL1PC6355                  28.521494   \n",
       "\n",
       "         vehicle.position.longitude  vehicle.position.speed  \\\n",
       "1134253                   77.302370                1.944444   \n",
       "1136406                   77.300210                2.500000   \n",
       "1138554                   77.297710                2.500000   \n",
       "1140699                   77.293710                1.111111   \n",
       "1142844                   77.289600                0.833333   \n",
       "...                             ...                     ...   \n",
       "1336988                   77.082520                0.000000   \n",
       "1339021                   77.082570                0.000000   \n",
       "1341059                   77.082565                0.000000   \n",
       "1343094                   77.082120                1.388889   \n",
       "1345131                   77.082090                0.000000   \n",
       "\n",
       "         vehicle.timestamp  vehicle.trip.routeId  vehicle.trip.startDate  \\\n",
       "1134253         1618669853                   399                20210417   \n",
       "1136406         1618669923                   399                20210417   \n",
       "1138554         1618669983                   399                20210417   \n",
       "1140699         1618670053                   399                20210417   \n",
       "1142844         1618670123                   399                20210417   \n",
       "...                    ...                   ...                     ...   \n",
       "1336988         1618675732                   399                20210417   \n",
       "1339021         1618675802                   399                20210417   \n",
       "1341059         1618675852                   399                20210417   \n",
       "1343094         1618675922                   399                20210417   \n",
       "1345131         1618675982                   399                20210417   \n",
       "\n",
       "        vehicle.trip.startTime vehicle.trip.tripId vehicle.vehicle.id  \\\n",
       "1134253               20:00:45            399_20_0          DL1PC6355   \n",
       "1136406               20:00:45            399_20_0          DL1PC6355   \n",
       "1138554               20:00:45            399_20_0          DL1PC6355   \n",
       "1140699               20:00:45            399_20_0          DL1PC6355   \n",
       "1142844               20:00:45            399_20_0          DL1PC6355   \n",
       "...                        ...                 ...                ...   \n",
       "1336988               20:00:45            399_20_0          DL1PC6355   \n",
       "1339021               20:00:45            399_20_0          DL1PC6355   \n",
       "1341059               20:00:45            399_20_0          DL1PC6355   \n",
       "1343094               20:00:45            399_20_0          DL1PC6355   \n",
       "1345131               20:00:45            399_20_0          DL1PC6355   \n",
       "\n",
       "        vehicle.vehicle.label timestamp          Date_time  \n",
       "1134253             DL1PC6355     20-01  17-Apr-2021-20-01  \n",
       "1136406             DL1PC6355     20-02  17-Apr-2021-20-02  \n",
       "1138554             DL1PC6355     20-03  17-Apr-2021-20-03  \n",
       "1140699             DL1PC6355     20-04  17-Apr-2021-20-04  \n",
       "1142844             DL1PC6355     20-05  17-Apr-2021-20-05  \n",
       "...                       ...       ...                ...  \n",
       "1336988             DL1PC6355     21-39  17-Apr-2021-21-39  \n",
       "1339021             DL1PC6355     21-40  17-Apr-2021-21-40  \n",
       "1341059             DL1PC6355     21-41  17-Apr-2021-21-41  \n",
       "1343094             DL1PC6355     21-42  17-Apr-2021-21-42  \n",
       "1345131             DL1PC6355     21-43  17-Apr-2021-21-43  \n",
       "\n",
       "[101 rows x 14 columns]"
      ]
     },
     "execution_count": 21,
     "metadata": {},
     "output_type": "execute_result"
    }
   ],
   "source": [
    "real_time_temp_onetrip"
   ]
  },
  {
   "cell_type": "code",
   "execution_count": 22,
   "id": "ffd69c88",
   "metadata": {},
   "outputs": [],
   "source": [
    "real_time_temp_onetrip['timestamp'] = pd.to_datetime(real_time_temp_onetrip['timestamp'],format='%H-%M')"
   ]
  },
  {
   "cell_type": "code",
   "execution_count": 23,
   "id": "c595fc02",
   "metadata": {},
   "outputs": [],
   "source": [
    "real_time_temp_onetrip['between_stop_distance'] = 0"
   ]
  },
  {
   "cell_type": "code",
   "execution_count": 24,
   "id": "ea1fe8f5",
   "metadata": {
    "scrolled": true
   },
   "outputs": [
    {
     "data": {
      "text/html": [
       "<div>\n",
       "<style scoped>\n",
       "    .dataframe tbody tr th:only-of-type {\n",
       "        vertical-align: middle;\n",
       "    }\n",
       "\n",
       "    .dataframe tbody tr th {\n",
       "        vertical-align: top;\n",
       "    }\n",
       "\n",
       "    .dataframe thead th {\n",
       "        text-align: right;\n",
       "    }\n",
       "</style>\n",
       "<table border=\"1\" class=\"dataframe\">\n",
       "  <thead>\n",
       "    <tr style=\"text-align: right;\">\n",
       "      <th></th>\n",
       "      <th>Unnamed: 0</th>\n",
       "      <th>id</th>\n",
       "      <th>vehicle.position.latitude</th>\n",
       "      <th>vehicle.position.longitude</th>\n",
       "      <th>vehicle.position.speed</th>\n",
       "      <th>vehicle.timestamp</th>\n",
       "      <th>vehicle.trip.routeId</th>\n",
       "      <th>vehicle.trip.startDate</th>\n",
       "      <th>vehicle.trip.startTime</th>\n",
       "      <th>vehicle.trip.tripId</th>\n",
       "      <th>vehicle.vehicle.id</th>\n",
       "      <th>vehicle.vehicle.label</th>\n",
       "      <th>timestamp</th>\n",
       "      <th>Date_time</th>\n",
       "      <th>between_stop_distance</th>\n",
       "    </tr>\n",
       "  </thead>\n",
       "  <tbody>\n",
       "    <tr>\n",
       "      <th>0</th>\n",
       "      <td>603</td>\n",
       "      <td>DL1PC6355</td>\n",
       "      <td>28.496920</td>\n",
       "      <td>77.302370</td>\n",
       "      <td>1.944444</td>\n",
       "      <td>1618669853</td>\n",
       "      <td>399</td>\n",
       "      <td>20210417</td>\n",
       "      <td>20:00:45</td>\n",
       "      <td>399_20_0</td>\n",
       "      <td>DL1PC6355</td>\n",
       "      <td>DL1PC6355</td>\n",
       "      <td>1900-01-01 20:01:00</td>\n",
       "      <td>17-Apr-2021-20-01</td>\n",
       "      <td>0</td>\n",
       "    </tr>\n",
       "    <tr>\n",
       "      <th>1</th>\n",
       "      <td>600</td>\n",
       "      <td>DL1PC6355</td>\n",
       "      <td>28.499077</td>\n",
       "      <td>77.300210</td>\n",
       "      <td>2.500000</td>\n",
       "      <td>1618669923</td>\n",
       "      <td>399</td>\n",
       "      <td>20210417</td>\n",
       "      <td>20:00:45</td>\n",
       "      <td>399_20_0</td>\n",
       "      <td>DL1PC6355</td>\n",
       "      <td>DL1PC6355</td>\n",
       "      <td>1900-01-01 20:02:00</td>\n",
       "      <td>17-Apr-2021-20-02</td>\n",
       "      <td>0</td>\n",
       "    </tr>\n",
       "    <tr>\n",
       "      <th>2</th>\n",
       "      <td>597</td>\n",
       "      <td>DL1PC6355</td>\n",
       "      <td>28.498743</td>\n",
       "      <td>77.297710</td>\n",
       "      <td>2.500000</td>\n",
       "      <td>1618669983</td>\n",
       "      <td>399</td>\n",
       "      <td>20210417</td>\n",
       "      <td>20:00:45</td>\n",
       "      <td>399_20_0</td>\n",
       "      <td>DL1PC6355</td>\n",
       "      <td>DL1PC6355</td>\n",
       "      <td>1900-01-01 20:03:00</td>\n",
       "      <td>17-Apr-2021-20-03</td>\n",
       "      <td>0</td>\n",
       "    </tr>\n",
       "    <tr>\n",
       "      <th>3</th>\n",
       "      <td>596</td>\n",
       "      <td>DL1PC6355</td>\n",
       "      <td>28.500696</td>\n",
       "      <td>77.293710</td>\n",
       "      <td>1.111111</td>\n",
       "      <td>1618670053</td>\n",
       "      <td>399</td>\n",
       "      <td>20210417</td>\n",
       "      <td>20:00:45</td>\n",
       "      <td>399_20_0</td>\n",
       "      <td>DL1PC6355</td>\n",
       "      <td>DL1PC6355</td>\n",
       "      <td>1900-01-01 20:04:00</td>\n",
       "      <td>17-Apr-2021-20-04</td>\n",
       "      <td>0</td>\n",
       "    </tr>\n",
       "    <tr>\n",
       "      <th>4</th>\n",
       "      <td>596</td>\n",
       "      <td>DL1PC6355</td>\n",
       "      <td>28.501656</td>\n",
       "      <td>77.289600</td>\n",
       "      <td>0.833333</td>\n",
       "      <td>1618670123</td>\n",
       "      <td>399</td>\n",
       "      <td>20210417</td>\n",
       "      <td>20:00:45</td>\n",
       "      <td>399_20_0</td>\n",
       "      <td>DL1PC6355</td>\n",
       "      <td>DL1PC6355</td>\n",
       "      <td>1900-01-01 20:05:00</td>\n",
       "      <td>17-Apr-2021-20-05</td>\n",
       "      <td>0</td>\n",
       "    </tr>\n",
       "    <tr>\n",
       "      <th>...</th>\n",
       "      <td>...</td>\n",
       "      <td>...</td>\n",
       "      <td>...</td>\n",
       "      <td>...</td>\n",
       "      <td>...</td>\n",
       "      <td>...</td>\n",
       "      <td>...</td>\n",
       "      <td>...</td>\n",
       "      <td>...</td>\n",
       "      <td>...</td>\n",
       "      <td>...</td>\n",
       "      <td>...</td>\n",
       "      <td>...</td>\n",
       "      <td>...</td>\n",
       "      <td>...</td>\n",
       "    </tr>\n",
       "    <tr>\n",
       "      <th>96</th>\n",
       "      <td>543</td>\n",
       "      <td>DL1PC6355</td>\n",
       "      <td>28.522190</td>\n",
       "      <td>77.082520</td>\n",
       "      <td>0.000000</td>\n",
       "      <td>1618675732</td>\n",
       "      <td>399</td>\n",
       "      <td>20210417</td>\n",
       "      <td>20:00:45</td>\n",
       "      <td>399_20_0</td>\n",
       "      <td>DL1PC6355</td>\n",
       "      <td>DL1PC6355</td>\n",
       "      <td>1900-01-01 21:39:00</td>\n",
       "      <td>17-Apr-2021-21-39</td>\n",
       "      <td>0</td>\n",
       "    </tr>\n",
       "    <tr>\n",
       "      <th>97</th>\n",
       "      <td>543</td>\n",
       "      <td>DL1PC6355</td>\n",
       "      <td>28.522133</td>\n",
       "      <td>77.082570</td>\n",
       "      <td>0.000000</td>\n",
       "      <td>1618675802</td>\n",
       "      <td>399</td>\n",
       "      <td>20210417</td>\n",
       "      <td>20:00:45</td>\n",
       "      <td>399_20_0</td>\n",
       "      <td>DL1PC6355</td>\n",
       "      <td>DL1PC6355</td>\n",
       "      <td>1900-01-01 21:40:00</td>\n",
       "      <td>17-Apr-2021-21-40</td>\n",
       "      <td>0</td>\n",
       "    </tr>\n",
       "    <tr>\n",
       "      <th>98</th>\n",
       "      <td>543</td>\n",
       "      <td>DL1PC6355</td>\n",
       "      <td>28.522139</td>\n",
       "      <td>77.082565</td>\n",
       "      <td>0.000000</td>\n",
       "      <td>1618675852</td>\n",
       "      <td>399</td>\n",
       "      <td>20210417</td>\n",
       "      <td>20:00:45</td>\n",
       "      <td>399_20_0</td>\n",
       "      <td>DL1PC6355</td>\n",
       "      <td>DL1PC6355</td>\n",
       "      <td>1900-01-01 21:41:00</td>\n",
       "      <td>17-Apr-2021-21-41</td>\n",
       "      <td>0</td>\n",
       "    </tr>\n",
       "    <tr>\n",
       "      <th>99</th>\n",
       "      <td>543</td>\n",
       "      <td>DL1PC6355</td>\n",
       "      <td>28.521101</td>\n",
       "      <td>77.082120</td>\n",
       "      <td>1.388889</td>\n",
       "      <td>1618675922</td>\n",
       "      <td>399</td>\n",
       "      <td>20210417</td>\n",
       "      <td>20:00:45</td>\n",
       "      <td>399_20_0</td>\n",
       "      <td>DL1PC6355</td>\n",
       "      <td>DL1PC6355</td>\n",
       "      <td>1900-01-01 21:42:00</td>\n",
       "      <td>17-Apr-2021-21-42</td>\n",
       "      <td>0</td>\n",
       "    </tr>\n",
       "    <tr>\n",
       "      <th>100</th>\n",
       "      <td>543</td>\n",
       "      <td>DL1PC6355</td>\n",
       "      <td>28.521494</td>\n",
       "      <td>77.082090</td>\n",
       "      <td>0.000000</td>\n",
       "      <td>1618675982</td>\n",
       "      <td>399</td>\n",
       "      <td>20210417</td>\n",
       "      <td>20:00:45</td>\n",
       "      <td>399_20_0</td>\n",
       "      <td>DL1PC6355</td>\n",
       "      <td>DL1PC6355</td>\n",
       "      <td>1900-01-01 21:43:00</td>\n",
       "      <td>17-Apr-2021-21-43</td>\n",
       "      <td>0</td>\n",
       "    </tr>\n",
       "  </tbody>\n",
       "</table>\n",
       "<p>101 rows × 15 columns</p>\n",
       "</div>"
      ],
      "text/plain": [
       "     Unnamed: 0         id  vehicle.position.latitude  \\\n",
       "0           603  DL1PC6355                  28.496920   \n",
       "1           600  DL1PC6355                  28.499077   \n",
       "2           597  DL1PC6355                  28.498743   \n",
       "3           596  DL1PC6355                  28.500696   \n",
       "4           596  DL1PC6355                  28.501656   \n",
       "..          ...        ...                        ...   \n",
       "96          543  DL1PC6355                  28.522190   \n",
       "97          543  DL1PC6355                  28.522133   \n",
       "98          543  DL1PC6355                  28.522139   \n",
       "99          543  DL1PC6355                  28.521101   \n",
       "100         543  DL1PC6355                  28.521494   \n",
       "\n",
       "     vehicle.position.longitude  vehicle.position.speed  vehicle.timestamp  \\\n",
       "0                     77.302370                1.944444         1618669853   \n",
       "1                     77.300210                2.500000         1618669923   \n",
       "2                     77.297710                2.500000         1618669983   \n",
       "3                     77.293710                1.111111         1618670053   \n",
       "4                     77.289600                0.833333         1618670123   \n",
       "..                          ...                     ...                ...   \n",
       "96                    77.082520                0.000000         1618675732   \n",
       "97                    77.082570                0.000000         1618675802   \n",
       "98                    77.082565                0.000000         1618675852   \n",
       "99                    77.082120                1.388889         1618675922   \n",
       "100                   77.082090                0.000000         1618675982   \n",
       "\n",
       "     vehicle.trip.routeId  vehicle.trip.startDate vehicle.trip.startTime  \\\n",
       "0                     399                20210417               20:00:45   \n",
       "1                     399                20210417               20:00:45   \n",
       "2                     399                20210417               20:00:45   \n",
       "3                     399                20210417               20:00:45   \n",
       "4                     399                20210417               20:00:45   \n",
       "..                    ...                     ...                    ...   \n",
       "96                    399                20210417               20:00:45   \n",
       "97                    399                20210417               20:00:45   \n",
       "98                    399                20210417               20:00:45   \n",
       "99                    399                20210417               20:00:45   \n",
       "100                   399                20210417               20:00:45   \n",
       "\n",
       "    vehicle.trip.tripId vehicle.vehicle.id vehicle.vehicle.label  \\\n",
       "0              399_20_0          DL1PC6355             DL1PC6355   \n",
       "1              399_20_0          DL1PC6355             DL1PC6355   \n",
       "2              399_20_0          DL1PC6355             DL1PC6355   \n",
       "3              399_20_0          DL1PC6355             DL1PC6355   \n",
       "4              399_20_0          DL1PC6355             DL1PC6355   \n",
       "..                  ...                ...                   ...   \n",
       "96             399_20_0          DL1PC6355             DL1PC6355   \n",
       "97             399_20_0          DL1PC6355             DL1PC6355   \n",
       "98             399_20_0          DL1PC6355             DL1PC6355   \n",
       "99             399_20_0          DL1PC6355             DL1PC6355   \n",
       "100            399_20_0          DL1PC6355             DL1PC6355   \n",
       "\n",
       "              timestamp          Date_time  between_stop_distance  \n",
       "0   1900-01-01 20:01:00  17-Apr-2021-20-01                      0  \n",
       "1   1900-01-01 20:02:00  17-Apr-2021-20-02                      0  \n",
       "2   1900-01-01 20:03:00  17-Apr-2021-20-03                      0  \n",
       "3   1900-01-01 20:04:00  17-Apr-2021-20-04                      0  \n",
       "4   1900-01-01 20:05:00  17-Apr-2021-20-05                      0  \n",
       "..                  ...                ...                    ...  \n",
       "96  1900-01-01 21:39:00  17-Apr-2021-21-39                      0  \n",
       "97  1900-01-01 21:40:00  17-Apr-2021-21-40                      0  \n",
       "98  1900-01-01 21:41:00  17-Apr-2021-21-41                      0  \n",
       "99  1900-01-01 21:42:00  17-Apr-2021-21-42                      0  \n",
       "100 1900-01-01 21:43:00  17-Apr-2021-21-43                      0  \n",
       "\n",
       "[101 rows x 15 columns]"
      ]
     },
     "execution_count": 24,
     "metadata": {},
     "output_type": "execute_result"
    }
   ],
   "source": [
    "real_time_temp_onetrip.sort_values('timestamp',inplace=True)\n",
    "real_time_temp_onetrip.reset_index(drop=True,inplace=True)\n",
    "real_time_temp_onetrip"
   ]
  },
  {
   "cell_type": "code",
   "execution_count": 25,
   "id": "43be477c",
   "metadata": {},
   "outputs": [],
   "source": [
    "for i in range(1,len(real_time_temp_onetrip)):\n",
    "    lat1 = real_time_temp_onetrip.iloc[i-1]['vehicle.position.latitude']\n",
    "    long1 = real_time_temp_onetrip.iloc[i-1]['vehicle.position.longitude']\n",
    "    \n",
    "    lat2 = real_time_temp_onetrip.iloc[i]['vehicle.position.latitude']\n",
    "    long2 = real_time_temp_onetrip.iloc[i]['vehicle.position.longitude']\n",
    "    \n",
    "    dist = haversine(long1,lat1,long2,lat2)\n",
    "    real_time_temp_onetrip.at[i,'between_stop_distance'] = dist"
   ]
  },
  {
   "cell_type": "code",
   "execution_count": 26,
   "id": "f57873fc",
   "metadata": {},
   "outputs": [],
   "source": [
    "real_time_temp_onetrip['dist_from_start'] = real_time_temp_onetrip['between_stop_distance'].cumsum()"
   ]
  },
  {
   "cell_type": "code",
   "execution_count": 27,
   "id": "97200f91",
   "metadata": {},
   "outputs": [],
   "source": [
    "for i in range(1,len(real_time_temp_onetrip)):\n",
    "    t1 = real_time_temp_onetrip.iloc[0]['timestamp']    \n",
    "    t2 = real_time_temp_onetrip.iloc[i]['timestamp']\n",
    "    real_time_temp_onetrip.at[i,'time_from_start'] = t2-t1\n",
    "real_time_temp_onetrip.at[0,'time_from_start'] = 0"
   ]
  },
  {
   "cell_type": "code",
   "execution_count": 28,
   "id": "79420d7b",
   "metadata": {
    "scrolled": true
   },
   "outputs": [],
   "source": [
    "df_realtime = real_time_temp_onetrip[['dist_from_start','time_from_start']]"
   ]
  },
  {
   "cell_type": "code",
   "execution_count": 29,
   "id": "534ca20f",
   "metadata": {},
   "outputs": [
    {
     "data": {
      "application/vnd.plotly.v1+json": {
       "config": {
        "plotlyServerURL": "https://plot.ly"
       },
       "data": [
        {
         "hovertemplate": "time_from_start=%{x}<br>dist_from_start=%{y}<extra></extra>",
         "legendgroup": "",
         "line": {
          "color": "#636efa",
          "dash": "solid"
         },
         "marker": {
          "symbol": "circle"
         },
         "mode": "lines",
         "name": "",
         "orientation": "v",
         "showlegend": false,
         "type": "scatter",
         "x": [
          0,
          "P0DT0H1M0S",
          "P0DT0H2M0S",
          "P0DT0H3M0S",
          "P0DT0H4M0S",
          "P0DT0H5M0S",
          "P0DT0H6M0S",
          "P0DT0H7M0S",
          "P0DT0H8M0S",
          "P0DT0H9M0S",
          "P0DT0H10M0S",
          "P0DT0H11M0S",
          "P0DT0H12M0S",
          "P0DT0H13M0S",
          "P0DT0H14M0S",
          "P0DT0H15M0S",
          "P0DT0H16M0S",
          "P0DT0H17M0S",
          "P0DT0H18M0S",
          "P0DT0H19M0S",
          "P0DT0H20M0S",
          "P0DT0H21M0S",
          "P0DT0H22M0S",
          "P0DT0H23M0S",
          "P0DT0H25M0S",
          "P0DT0H26M0S",
          "P0DT0H27M0S",
          "P0DT0H28M0S",
          "P0DT0H29M0S",
          "P0DT0H30M0S",
          "P0DT0H31M0S",
          "P0DT0H32M0S",
          "P0DT0H33M0S",
          "P0DT0H34M0S",
          "P0DT0H35M0S",
          "P0DT0H36M0S",
          "P0DT0H37M0S",
          "P0DT0H38M0S",
          "P0DT0H39M0S",
          "P0DT0H40M0S",
          "P0DT0H41M0S",
          "P0DT0H42M0S",
          "P0DT0H43M0S",
          "P0DT0H44M0S",
          "P0DT0H45M0S",
          "P0DT0H46M0S",
          "P0DT0H47M0S",
          "P0DT0H48M0S",
          "P0DT0H49M0S",
          "P0DT0H50M0S",
          "P0DT0H51M0S",
          "P0DT0H52M0S",
          "P0DT0H53M0S",
          "P0DT0H54M0S",
          "P0DT0H55M0S",
          "P0DT0H56M0S",
          "P0DT0H57M0S",
          "P0DT0H58M0S",
          "P0DT0H59M0S",
          "P0DT1H0M0S",
          "P0DT1H1M0S",
          "P0DT1H2M0S",
          "P0DT1H3M0S",
          "P0DT1H4M0S",
          "P0DT1H5M0S",
          "P0DT1H6M0S",
          "P0DT1H7M0S",
          "P0DT1H8M0S",
          "P0DT1H9M0S",
          "P0DT1H10M0S",
          "P0DT1H11M0S",
          "P0DT1H12M0S",
          "P0DT1H13M0S",
          "P0DT1H14M0S",
          "P0DT1H15M0S",
          "P0DT1H16M0S",
          "P0DT1H17M0S",
          "P0DT1H18M0S",
          "P0DT1H19M0S",
          "P0DT1H20M0S",
          "P0DT1H21M0S",
          "P0DT1H22M0S",
          "P0DT1H23M0S",
          "P0DT1H24M0S",
          "P0DT1H25M0S",
          "P0DT1H26M0S",
          "P0DT1H27M0S",
          "P0DT1H28M0S",
          "P0DT1H30M0S",
          "P0DT1H31M0S",
          "P0DT1H32M0S",
          "P0DT1H33M0S",
          "P0DT1H34M0S",
          "P0DT1H35M0S",
          "P0DT1H36M0S",
          "P0DT1H37M0S",
          "P0DT1H38M0S",
          "P0DT1H39M0S",
          "P0DT1H40M0S",
          "P0DT1H41M0S",
          "P0DT1H42M0S"
         ],
         "xaxis": "x",
         "y": [
          0,
          0.31950154393191416,
          0.5666109153351523,
          1.0137664467804108,
          1.429335193306128,
          1.590070279025815,
          1.5959502230939586,
          1.6823388365445253,
          2.2495235851637374,
          2.7540172094056756,
          3.111767381690147,
          3.635264073617229,
          3.9959244319753755,
          4.392758804831551,
          4.751951748474951,
          5.479608607674121,
          5.78770653609863,
          6.0650381580478845,
          6.332139007233947,
          6.72835676393312,
          7.025797414477183,
          7.684993044866725,
          8.037735366247361,
          8.502459988335922,
          8.861846759452758,
          9.31482150158576,
          10.069242256060711,
          10.526552285122758,
          10.941696704439096,
          11.426015561057689,
          11.648593877669764,
          12.159706096920033,
          12.868569931445068,
          13.047087950468363,
          13.531838896788404,
          13.722520409420529,
          13.857540005842154,
          14.249110592821172,
          14.600445166449136,
          14.826805056324394,
          15.294716876003742,
          15.535626710080313,
          15.535626710080313,
          16.032530055376053,
          16.746674667309478,
          17.207060331487252,
          17.4704025224945,
          17.610877371667165,
          17.789172115802728,
          18.1610694637307,
          18.322893345218276,
          19.15299804988798,
          19.45745385288002,
          19.45745385288002,
          20.2643805138908,
          20.655510630291793,
          20.894627911183814,
          21.47538861460993,
          22.06493166527497,
          22.407800412932783,
          23.06218930164166,
          23.688825032321258,
          24.33523585349985,
          25.039012288256014,
          25.524540125749873,
          26.043920457455915,
          26.711437991566562,
          27.592044037554736,
          28.085317656793983,
          28.594905895297277,
          28.622333888262204,
          28.622333888262204,
          29.373215979476488,
          29.61091055099482,
          29.61344179161575,
          29.615973757620004,
          29.6171882783593,
          29.61810723468165,
          29.620572394972772,
          29.62625618307054,
          29.6284031321514,
          29.631491663818625,
          29.633229651105943,
          29.637000123140872,
          29.637977117532674,
          29.644890891355654,
          29.650117052908453,
          29.651190527147026,
          29.65750046480362,
          29.66021917012962,
          29.661963901279517,
          29.664532956063553,
          29.66696351998053,
          29.66965496185775,
          29.677588626169747,
          29.68171380943948,
          29.688556385785112,
          29.6965585490688,
          29.697385437829492,
          29.820722612339143,
          29.864520402111747
         ],
         "yaxis": "y"
        }
       ],
       "layout": {
        "legend": {
         "tracegroupgap": 0
        },
        "template": {
         "data": {
          "bar": [
           {
            "error_x": {
             "color": "#2a3f5f"
            },
            "error_y": {
             "color": "#2a3f5f"
            },
            "marker": {
             "line": {
              "color": "#E5ECF6",
              "width": 0.5
             },
             "pattern": {
              "fillmode": "overlay",
              "size": 10,
              "solidity": 0.2
             }
            },
            "type": "bar"
           }
          ],
          "barpolar": [
           {
            "marker": {
             "line": {
              "color": "#E5ECF6",
              "width": 0.5
             },
             "pattern": {
              "fillmode": "overlay",
              "size": 10,
              "solidity": 0.2
             }
            },
            "type": "barpolar"
           }
          ],
          "carpet": [
           {
            "aaxis": {
             "endlinecolor": "#2a3f5f",
             "gridcolor": "white",
             "linecolor": "white",
             "minorgridcolor": "white",
             "startlinecolor": "#2a3f5f"
            },
            "baxis": {
             "endlinecolor": "#2a3f5f",
             "gridcolor": "white",
             "linecolor": "white",
             "minorgridcolor": "white",
             "startlinecolor": "#2a3f5f"
            },
            "type": "carpet"
           }
          ],
          "choropleth": [
           {
            "colorbar": {
             "outlinewidth": 0,
             "ticks": ""
            },
            "type": "choropleth"
           }
          ],
          "contour": [
           {
            "colorbar": {
             "outlinewidth": 0,
             "ticks": ""
            },
            "colorscale": [
             [
              0,
              "#0d0887"
             ],
             [
              0.1111111111111111,
              "#46039f"
             ],
             [
              0.2222222222222222,
              "#7201a8"
             ],
             [
              0.3333333333333333,
              "#9c179e"
             ],
             [
              0.4444444444444444,
              "#bd3786"
             ],
             [
              0.5555555555555556,
              "#d8576b"
             ],
             [
              0.6666666666666666,
              "#ed7953"
             ],
             [
              0.7777777777777778,
              "#fb9f3a"
             ],
             [
              0.8888888888888888,
              "#fdca26"
             ],
             [
              1,
              "#f0f921"
             ]
            ],
            "type": "contour"
           }
          ],
          "contourcarpet": [
           {
            "colorbar": {
             "outlinewidth": 0,
             "ticks": ""
            },
            "type": "contourcarpet"
           }
          ],
          "heatmap": [
           {
            "colorbar": {
             "outlinewidth": 0,
             "ticks": ""
            },
            "colorscale": [
             [
              0,
              "#0d0887"
             ],
             [
              0.1111111111111111,
              "#46039f"
             ],
             [
              0.2222222222222222,
              "#7201a8"
             ],
             [
              0.3333333333333333,
              "#9c179e"
             ],
             [
              0.4444444444444444,
              "#bd3786"
             ],
             [
              0.5555555555555556,
              "#d8576b"
             ],
             [
              0.6666666666666666,
              "#ed7953"
             ],
             [
              0.7777777777777778,
              "#fb9f3a"
             ],
             [
              0.8888888888888888,
              "#fdca26"
             ],
             [
              1,
              "#f0f921"
             ]
            ],
            "type": "heatmap"
           }
          ],
          "heatmapgl": [
           {
            "colorbar": {
             "outlinewidth": 0,
             "ticks": ""
            },
            "colorscale": [
             [
              0,
              "#0d0887"
             ],
             [
              0.1111111111111111,
              "#46039f"
             ],
             [
              0.2222222222222222,
              "#7201a8"
             ],
             [
              0.3333333333333333,
              "#9c179e"
             ],
             [
              0.4444444444444444,
              "#bd3786"
             ],
             [
              0.5555555555555556,
              "#d8576b"
             ],
             [
              0.6666666666666666,
              "#ed7953"
             ],
             [
              0.7777777777777778,
              "#fb9f3a"
             ],
             [
              0.8888888888888888,
              "#fdca26"
             ],
             [
              1,
              "#f0f921"
             ]
            ],
            "type": "heatmapgl"
           }
          ],
          "histogram": [
           {
            "marker": {
             "pattern": {
              "fillmode": "overlay",
              "size": 10,
              "solidity": 0.2
             }
            },
            "type": "histogram"
           }
          ],
          "histogram2d": [
           {
            "colorbar": {
             "outlinewidth": 0,
             "ticks": ""
            },
            "colorscale": [
             [
              0,
              "#0d0887"
             ],
             [
              0.1111111111111111,
              "#46039f"
             ],
             [
              0.2222222222222222,
              "#7201a8"
             ],
             [
              0.3333333333333333,
              "#9c179e"
             ],
             [
              0.4444444444444444,
              "#bd3786"
             ],
             [
              0.5555555555555556,
              "#d8576b"
             ],
             [
              0.6666666666666666,
              "#ed7953"
             ],
             [
              0.7777777777777778,
              "#fb9f3a"
             ],
             [
              0.8888888888888888,
              "#fdca26"
             ],
             [
              1,
              "#f0f921"
             ]
            ],
            "type": "histogram2d"
           }
          ],
          "histogram2dcontour": [
           {
            "colorbar": {
             "outlinewidth": 0,
             "ticks": ""
            },
            "colorscale": [
             [
              0,
              "#0d0887"
             ],
             [
              0.1111111111111111,
              "#46039f"
             ],
             [
              0.2222222222222222,
              "#7201a8"
             ],
             [
              0.3333333333333333,
              "#9c179e"
             ],
             [
              0.4444444444444444,
              "#bd3786"
             ],
             [
              0.5555555555555556,
              "#d8576b"
             ],
             [
              0.6666666666666666,
              "#ed7953"
             ],
             [
              0.7777777777777778,
              "#fb9f3a"
             ],
             [
              0.8888888888888888,
              "#fdca26"
             ],
             [
              1,
              "#f0f921"
             ]
            ],
            "type": "histogram2dcontour"
           }
          ],
          "mesh3d": [
           {
            "colorbar": {
             "outlinewidth": 0,
             "ticks": ""
            },
            "type": "mesh3d"
           }
          ],
          "parcoords": [
           {
            "line": {
             "colorbar": {
              "outlinewidth": 0,
              "ticks": ""
             }
            },
            "type": "parcoords"
           }
          ],
          "pie": [
           {
            "automargin": true,
            "type": "pie"
           }
          ],
          "scatter": [
           {
            "fillpattern": {
             "fillmode": "overlay",
             "size": 10,
             "solidity": 0.2
            },
            "type": "scatter"
           }
          ],
          "scatter3d": [
           {
            "line": {
             "colorbar": {
              "outlinewidth": 0,
              "ticks": ""
             }
            },
            "marker": {
             "colorbar": {
              "outlinewidth": 0,
              "ticks": ""
             }
            },
            "type": "scatter3d"
           }
          ],
          "scattercarpet": [
           {
            "marker": {
             "colorbar": {
              "outlinewidth": 0,
              "ticks": ""
             }
            },
            "type": "scattercarpet"
           }
          ],
          "scattergeo": [
           {
            "marker": {
             "colorbar": {
              "outlinewidth": 0,
              "ticks": ""
             }
            },
            "type": "scattergeo"
           }
          ],
          "scattergl": [
           {
            "marker": {
             "colorbar": {
              "outlinewidth": 0,
              "ticks": ""
             }
            },
            "type": "scattergl"
           }
          ],
          "scattermapbox": [
           {
            "marker": {
             "colorbar": {
              "outlinewidth": 0,
              "ticks": ""
             }
            },
            "type": "scattermapbox"
           }
          ],
          "scatterpolar": [
           {
            "marker": {
             "colorbar": {
              "outlinewidth": 0,
              "ticks": ""
             }
            },
            "type": "scatterpolar"
           }
          ],
          "scatterpolargl": [
           {
            "marker": {
             "colorbar": {
              "outlinewidth": 0,
              "ticks": ""
             }
            },
            "type": "scatterpolargl"
           }
          ],
          "scatterternary": [
           {
            "marker": {
             "colorbar": {
              "outlinewidth": 0,
              "ticks": ""
             }
            },
            "type": "scatterternary"
           }
          ],
          "surface": [
           {
            "colorbar": {
             "outlinewidth": 0,
             "ticks": ""
            },
            "colorscale": [
             [
              0,
              "#0d0887"
             ],
             [
              0.1111111111111111,
              "#46039f"
             ],
             [
              0.2222222222222222,
              "#7201a8"
             ],
             [
              0.3333333333333333,
              "#9c179e"
             ],
             [
              0.4444444444444444,
              "#bd3786"
             ],
             [
              0.5555555555555556,
              "#d8576b"
             ],
             [
              0.6666666666666666,
              "#ed7953"
             ],
             [
              0.7777777777777778,
              "#fb9f3a"
             ],
             [
              0.8888888888888888,
              "#fdca26"
             ],
             [
              1,
              "#f0f921"
             ]
            ],
            "type": "surface"
           }
          ],
          "table": [
           {
            "cells": {
             "fill": {
              "color": "#EBF0F8"
             },
             "line": {
              "color": "white"
             }
            },
            "header": {
             "fill": {
              "color": "#C8D4E3"
             },
             "line": {
              "color": "white"
             }
            },
            "type": "table"
           }
          ]
         },
         "layout": {
          "annotationdefaults": {
           "arrowcolor": "#2a3f5f",
           "arrowhead": 0,
           "arrowwidth": 1
          },
          "autotypenumbers": "strict",
          "coloraxis": {
           "colorbar": {
            "outlinewidth": 0,
            "ticks": ""
           }
          },
          "colorscale": {
           "diverging": [
            [
             0,
             "#8e0152"
            ],
            [
             0.1,
             "#c51b7d"
            ],
            [
             0.2,
             "#de77ae"
            ],
            [
             0.3,
             "#f1b6da"
            ],
            [
             0.4,
             "#fde0ef"
            ],
            [
             0.5,
             "#f7f7f7"
            ],
            [
             0.6,
             "#e6f5d0"
            ],
            [
             0.7,
             "#b8e186"
            ],
            [
             0.8,
             "#7fbc41"
            ],
            [
             0.9,
             "#4d9221"
            ],
            [
             1,
             "#276419"
            ]
           ],
           "sequential": [
            [
             0,
             "#0d0887"
            ],
            [
             0.1111111111111111,
             "#46039f"
            ],
            [
             0.2222222222222222,
             "#7201a8"
            ],
            [
             0.3333333333333333,
             "#9c179e"
            ],
            [
             0.4444444444444444,
             "#bd3786"
            ],
            [
             0.5555555555555556,
             "#d8576b"
            ],
            [
             0.6666666666666666,
             "#ed7953"
            ],
            [
             0.7777777777777778,
             "#fb9f3a"
            ],
            [
             0.8888888888888888,
             "#fdca26"
            ],
            [
             1,
             "#f0f921"
            ]
           ],
           "sequentialminus": [
            [
             0,
             "#0d0887"
            ],
            [
             0.1111111111111111,
             "#46039f"
            ],
            [
             0.2222222222222222,
             "#7201a8"
            ],
            [
             0.3333333333333333,
             "#9c179e"
            ],
            [
             0.4444444444444444,
             "#bd3786"
            ],
            [
             0.5555555555555556,
             "#d8576b"
            ],
            [
             0.6666666666666666,
             "#ed7953"
            ],
            [
             0.7777777777777778,
             "#fb9f3a"
            ],
            [
             0.8888888888888888,
             "#fdca26"
            ],
            [
             1,
             "#f0f921"
            ]
           ]
          },
          "colorway": [
           "#636efa",
           "#EF553B",
           "#00cc96",
           "#ab63fa",
           "#FFA15A",
           "#19d3f3",
           "#FF6692",
           "#B6E880",
           "#FF97FF",
           "#FECB52"
          ],
          "font": {
           "color": "#2a3f5f"
          },
          "geo": {
           "bgcolor": "white",
           "lakecolor": "white",
           "landcolor": "#E5ECF6",
           "showlakes": true,
           "showland": true,
           "subunitcolor": "white"
          },
          "hoverlabel": {
           "align": "left"
          },
          "hovermode": "closest",
          "mapbox": {
           "style": "light"
          },
          "paper_bgcolor": "white",
          "plot_bgcolor": "#E5ECF6",
          "polar": {
           "angularaxis": {
            "gridcolor": "white",
            "linecolor": "white",
            "ticks": ""
           },
           "bgcolor": "#E5ECF6",
           "radialaxis": {
            "gridcolor": "white",
            "linecolor": "white",
            "ticks": ""
           }
          },
          "scene": {
           "xaxis": {
            "backgroundcolor": "#E5ECF6",
            "gridcolor": "white",
            "gridwidth": 2,
            "linecolor": "white",
            "showbackground": true,
            "ticks": "",
            "zerolinecolor": "white"
           },
           "yaxis": {
            "backgroundcolor": "#E5ECF6",
            "gridcolor": "white",
            "gridwidth": 2,
            "linecolor": "white",
            "showbackground": true,
            "ticks": "",
            "zerolinecolor": "white"
           },
           "zaxis": {
            "backgroundcolor": "#E5ECF6",
            "gridcolor": "white",
            "gridwidth": 2,
            "linecolor": "white",
            "showbackground": true,
            "ticks": "",
            "zerolinecolor": "white"
           }
          },
          "shapedefaults": {
           "line": {
            "color": "#2a3f5f"
           }
          },
          "ternary": {
           "aaxis": {
            "gridcolor": "white",
            "linecolor": "white",
            "ticks": ""
           },
           "baxis": {
            "gridcolor": "white",
            "linecolor": "white",
            "ticks": ""
           },
           "bgcolor": "#E5ECF6",
           "caxis": {
            "gridcolor": "white",
            "linecolor": "white",
            "ticks": ""
           }
          },
          "title": {
           "x": 0.05
          },
          "xaxis": {
           "automargin": true,
           "gridcolor": "white",
           "linecolor": "white",
           "ticks": "",
           "title": {
            "standoff": 15
           },
           "zerolinecolor": "white",
           "zerolinewidth": 2
          },
          "yaxis": {
           "automargin": true,
           "gridcolor": "white",
           "linecolor": "white",
           "ticks": "",
           "title": {
            "standoff": 15
           },
           "zerolinecolor": "white",
           "zerolinewidth": 2
          }
         }
        },
        "title": {
         "text": "Time Taken by Bus from Origin"
        },
        "xaxis": {
         "anchor": "y",
         "domain": [
          0,
          1
         ],
         "title": {
          "text": "time_from_start"
         }
        },
        "yaxis": {
         "anchor": "x",
         "domain": [
          0,
          1
         ],
         "title": {
          "text": "dist_from_start"
         }
        }
       }
      },
      "text/html": [
       "<div>                            <div id=\"c9f65e3a-9719-4898-8edf-4a721d293a0b\" class=\"plotly-graph-div\" style=\"height:525px; width:100%;\"></div>            <script type=\"text/javascript\">                require([\"plotly\"], function(Plotly) {                    window.PLOTLYENV=window.PLOTLYENV || {};                                    if (document.getElementById(\"c9f65e3a-9719-4898-8edf-4a721d293a0b\")) {                    Plotly.newPlot(                        \"c9f65e3a-9719-4898-8edf-4a721d293a0b\",                        [{\"hovertemplate\":\"time_from_start=%{x}<br>dist_from_start=%{y}<extra></extra>\",\"legendgroup\":\"\",\"line\":{\"color\":\"#636efa\",\"dash\":\"solid\"},\"marker\":{\"symbol\":\"circle\"},\"mode\":\"lines\",\"name\":\"\",\"orientation\":\"v\",\"showlegend\":false,\"x\":[0,\"P0DT0H1M0S\",\"P0DT0H2M0S\",\"P0DT0H3M0S\",\"P0DT0H4M0S\",\"P0DT0H5M0S\",\"P0DT0H6M0S\",\"P0DT0H7M0S\",\"P0DT0H8M0S\",\"P0DT0H9M0S\",\"P0DT0H10M0S\",\"P0DT0H11M0S\",\"P0DT0H12M0S\",\"P0DT0H13M0S\",\"P0DT0H14M0S\",\"P0DT0H15M0S\",\"P0DT0H16M0S\",\"P0DT0H17M0S\",\"P0DT0H18M0S\",\"P0DT0H19M0S\",\"P0DT0H20M0S\",\"P0DT0H21M0S\",\"P0DT0H22M0S\",\"P0DT0H23M0S\",\"P0DT0H25M0S\",\"P0DT0H26M0S\",\"P0DT0H27M0S\",\"P0DT0H28M0S\",\"P0DT0H29M0S\",\"P0DT0H30M0S\",\"P0DT0H31M0S\",\"P0DT0H32M0S\",\"P0DT0H33M0S\",\"P0DT0H34M0S\",\"P0DT0H35M0S\",\"P0DT0H36M0S\",\"P0DT0H37M0S\",\"P0DT0H38M0S\",\"P0DT0H39M0S\",\"P0DT0H40M0S\",\"P0DT0H41M0S\",\"P0DT0H42M0S\",\"P0DT0H43M0S\",\"P0DT0H44M0S\",\"P0DT0H45M0S\",\"P0DT0H46M0S\",\"P0DT0H47M0S\",\"P0DT0H48M0S\",\"P0DT0H49M0S\",\"P0DT0H50M0S\",\"P0DT0H51M0S\",\"P0DT0H52M0S\",\"P0DT0H53M0S\",\"P0DT0H54M0S\",\"P0DT0H55M0S\",\"P0DT0H56M0S\",\"P0DT0H57M0S\",\"P0DT0H58M0S\",\"P0DT0H59M0S\",\"P0DT1H0M0S\",\"P0DT1H1M0S\",\"P0DT1H2M0S\",\"P0DT1H3M0S\",\"P0DT1H4M0S\",\"P0DT1H5M0S\",\"P0DT1H6M0S\",\"P0DT1H7M0S\",\"P0DT1H8M0S\",\"P0DT1H9M0S\",\"P0DT1H10M0S\",\"P0DT1H11M0S\",\"P0DT1H12M0S\",\"P0DT1H13M0S\",\"P0DT1H14M0S\",\"P0DT1H15M0S\",\"P0DT1H16M0S\",\"P0DT1H17M0S\",\"P0DT1H18M0S\",\"P0DT1H19M0S\",\"P0DT1H20M0S\",\"P0DT1H21M0S\",\"P0DT1H22M0S\",\"P0DT1H23M0S\",\"P0DT1H24M0S\",\"P0DT1H25M0S\",\"P0DT1H26M0S\",\"P0DT1H27M0S\",\"P0DT1H28M0S\",\"P0DT1H30M0S\",\"P0DT1H31M0S\",\"P0DT1H32M0S\",\"P0DT1H33M0S\",\"P0DT1H34M0S\",\"P0DT1H35M0S\",\"P0DT1H36M0S\",\"P0DT1H37M0S\",\"P0DT1H38M0S\",\"P0DT1H39M0S\",\"P0DT1H40M0S\",\"P0DT1H41M0S\",\"P0DT1H42M0S\"],\"xaxis\":\"x\",\"y\":[0.0,0.31950154393191416,0.5666109153351523,1.0137664467804108,1.429335193306128,1.590070279025815,1.5959502230939586,1.6823388365445253,2.2495235851637374,2.7540172094056756,3.111767381690147,3.635264073617229,3.9959244319753755,4.392758804831551,4.751951748474951,5.479608607674121,5.78770653609863,6.0650381580478845,6.332139007233947,6.72835676393312,7.025797414477183,7.684993044866725,8.037735366247361,8.502459988335922,8.861846759452758,9.31482150158576,10.069242256060711,10.526552285122758,10.941696704439096,11.426015561057689,11.648593877669764,12.159706096920033,12.868569931445068,13.047087950468363,13.531838896788404,13.722520409420529,13.857540005842154,14.249110592821172,14.600445166449136,14.826805056324394,15.294716876003742,15.535626710080313,15.535626710080313,16.032530055376053,16.746674667309478,17.207060331487252,17.4704025224945,17.610877371667165,17.789172115802728,18.1610694637307,18.322893345218276,19.15299804988798,19.45745385288002,19.45745385288002,20.2643805138908,20.655510630291793,20.894627911183814,21.47538861460993,22.06493166527497,22.407800412932783,23.06218930164166,23.688825032321258,24.33523585349985,25.039012288256014,25.524540125749873,26.043920457455915,26.711437991566562,27.592044037554736,28.085317656793983,28.594905895297277,28.622333888262204,28.622333888262204,29.373215979476488,29.61091055099482,29.61344179161575,29.615973757620004,29.6171882783593,29.61810723468165,29.620572394972772,29.62625618307054,29.6284031321514,29.631491663818625,29.633229651105943,29.637000123140872,29.637977117532674,29.644890891355654,29.650117052908453,29.651190527147026,29.65750046480362,29.66021917012962,29.661963901279517,29.664532956063553,29.66696351998053,29.66965496185775,29.677588626169747,29.68171380943948,29.688556385785112,29.6965585490688,29.697385437829492,29.820722612339143,29.864520402111747],\"yaxis\":\"y\",\"type\":\"scatter\"}],                        {\"template\":{\"data\":{\"histogram2dcontour\":[{\"type\":\"histogram2dcontour\",\"colorbar\":{\"outlinewidth\":0,\"ticks\":\"\"},\"colorscale\":[[0.0,\"#0d0887\"],[0.1111111111111111,\"#46039f\"],[0.2222222222222222,\"#7201a8\"],[0.3333333333333333,\"#9c179e\"],[0.4444444444444444,\"#bd3786\"],[0.5555555555555556,\"#d8576b\"],[0.6666666666666666,\"#ed7953\"],[0.7777777777777778,\"#fb9f3a\"],[0.8888888888888888,\"#fdca26\"],[1.0,\"#f0f921\"]]}],\"choropleth\":[{\"type\":\"choropleth\",\"colorbar\":{\"outlinewidth\":0,\"ticks\":\"\"}}],\"histogram2d\":[{\"type\":\"histogram2d\",\"colorbar\":{\"outlinewidth\":0,\"ticks\":\"\"},\"colorscale\":[[0.0,\"#0d0887\"],[0.1111111111111111,\"#46039f\"],[0.2222222222222222,\"#7201a8\"],[0.3333333333333333,\"#9c179e\"],[0.4444444444444444,\"#bd3786\"],[0.5555555555555556,\"#d8576b\"],[0.6666666666666666,\"#ed7953\"],[0.7777777777777778,\"#fb9f3a\"],[0.8888888888888888,\"#fdca26\"],[1.0,\"#f0f921\"]]}],\"heatmap\":[{\"type\":\"heatmap\",\"colorbar\":{\"outlinewidth\":0,\"ticks\":\"\"},\"colorscale\":[[0.0,\"#0d0887\"],[0.1111111111111111,\"#46039f\"],[0.2222222222222222,\"#7201a8\"],[0.3333333333333333,\"#9c179e\"],[0.4444444444444444,\"#bd3786\"],[0.5555555555555556,\"#d8576b\"],[0.6666666666666666,\"#ed7953\"],[0.7777777777777778,\"#fb9f3a\"],[0.8888888888888888,\"#fdca26\"],[1.0,\"#f0f921\"]]}],\"heatmapgl\":[{\"type\":\"heatmapgl\",\"colorbar\":{\"outlinewidth\":0,\"ticks\":\"\"},\"colorscale\":[[0.0,\"#0d0887\"],[0.1111111111111111,\"#46039f\"],[0.2222222222222222,\"#7201a8\"],[0.3333333333333333,\"#9c179e\"],[0.4444444444444444,\"#bd3786\"],[0.5555555555555556,\"#d8576b\"],[0.6666666666666666,\"#ed7953\"],[0.7777777777777778,\"#fb9f3a\"],[0.8888888888888888,\"#fdca26\"],[1.0,\"#f0f921\"]]}],\"contourcarpet\":[{\"type\":\"contourcarpet\",\"colorbar\":{\"outlinewidth\":0,\"ticks\":\"\"}}],\"contour\":[{\"type\":\"contour\",\"colorbar\":{\"outlinewidth\":0,\"ticks\":\"\"},\"colorscale\":[[0.0,\"#0d0887\"],[0.1111111111111111,\"#46039f\"],[0.2222222222222222,\"#7201a8\"],[0.3333333333333333,\"#9c179e\"],[0.4444444444444444,\"#bd3786\"],[0.5555555555555556,\"#d8576b\"],[0.6666666666666666,\"#ed7953\"],[0.7777777777777778,\"#fb9f3a\"],[0.8888888888888888,\"#fdca26\"],[1.0,\"#f0f921\"]]}],\"surface\":[{\"type\":\"surface\",\"colorbar\":{\"outlinewidth\":0,\"ticks\":\"\"},\"colorscale\":[[0.0,\"#0d0887\"],[0.1111111111111111,\"#46039f\"],[0.2222222222222222,\"#7201a8\"],[0.3333333333333333,\"#9c179e\"],[0.4444444444444444,\"#bd3786\"],[0.5555555555555556,\"#d8576b\"],[0.6666666666666666,\"#ed7953\"],[0.7777777777777778,\"#fb9f3a\"],[0.8888888888888888,\"#fdca26\"],[1.0,\"#f0f921\"]]}],\"mesh3d\":[{\"type\":\"mesh3d\",\"colorbar\":{\"outlinewidth\":0,\"ticks\":\"\"}}],\"scatter\":[{\"fillpattern\":{\"fillmode\":\"overlay\",\"size\":10,\"solidity\":0.2},\"type\":\"scatter\"}],\"parcoords\":[{\"type\":\"parcoords\",\"line\":{\"colorbar\":{\"outlinewidth\":0,\"ticks\":\"\"}}}],\"scatterpolargl\":[{\"type\":\"scatterpolargl\",\"marker\":{\"colorbar\":{\"outlinewidth\":0,\"ticks\":\"\"}}}],\"bar\":[{\"error_x\":{\"color\":\"#2a3f5f\"},\"error_y\":{\"color\":\"#2a3f5f\"},\"marker\":{\"line\":{\"color\":\"#E5ECF6\",\"width\":0.5},\"pattern\":{\"fillmode\":\"overlay\",\"size\":10,\"solidity\":0.2}},\"type\":\"bar\"}],\"scattergeo\":[{\"type\":\"scattergeo\",\"marker\":{\"colorbar\":{\"outlinewidth\":0,\"ticks\":\"\"}}}],\"scatterpolar\":[{\"type\":\"scatterpolar\",\"marker\":{\"colorbar\":{\"outlinewidth\":0,\"ticks\":\"\"}}}],\"histogram\":[{\"marker\":{\"pattern\":{\"fillmode\":\"overlay\",\"size\":10,\"solidity\":0.2}},\"type\":\"histogram\"}],\"scattergl\":[{\"type\":\"scattergl\",\"marker\":{\"colorbar\":{\"outlinewidth\":0,\"ticks\":\"\"}}}],\"scatter3d\":[{\"type\":\"scatter3d\",\"line\":{\"colorbar\":{\"outlinewidth\":0,\"ticks\":\"\"}},\"marker\":{\"colorbar\":{\"outlinewidth\":0,\"ticks\":\"\"}}}],\"scattermapbox\":[{\"type\":\"scattermapbox\",\"marker\":{\"colorbar\":{\"outlinewidth\":0,\"ticks\":\"\"}}}],\"scatterternary\":[{\"type\":\"scatterternary\",\"marker\":{\"colorbar\":{\"outlinewidth\":0,\"ticks\":\"\"}}}],\"scattercarpet\":[{\"type\":\"scattercarpet\",\"marker\":{\"colorbar\":{\"outlinewidth\":0,\"ticks\":\"\"}}}],\"carpet\":[{\"aaxis\":{\"endlinecolor\":\"#2a3f5f\",\"gridcolor\":\"white\",\"linecolor\":\"white\",\"minorgridcolor\":\"white\",\"startlinecolor\":\"#2a3f5f\"},\"baxis\":{\"endlinecolor\":\"#2a3f5f\",\"gridcolor\":\"white\",\"linecolor\":\"white\",\"minorgridcolor\":\"white\",\"startlinecolor\":\"#2a3f5f\"},\"type\":\"carpet\"}],\"table\":[{\"cells\":{\"fill\":{\"color\":\"#EBF0F8\"},\"line\":{\"color\":\"white\"}},\"header\":{\"fill\":{\"color\":\"#C8D4E3\"},\"line\":{\"color\":\"white\"}},\"type\":\"table\"}],\"barpolar\":[{\"marker\":{\"line\":{\"color\":\"#E5ECF6\",\"width\":0.5},\"pattern\":{\"fillmode\":\"overlay\",\"size\":10,\"solidity\":0.2}},\"type\":\"barpolar\"}],\"pie\":[{\"automargin\":true,\"type\":\"pie\"}]},\"layout\":{\"autotypenumbers\":\"strict\",\"colorway\":[\"#636efa\",\"#EF553B\",\"#00cc96\",\"#ab63fa\",\"#FFA15A\",\"#19d3f3\",\"#FF6692\",\"#B6E880\",\"#FF97FF\",\"#FECB52\"],\"font\":{\"color\":\"#2a3f5f\"},\"hovermode\":\"closest\",\"hoverlabel\":{\"align\":\"left\"},\"paper_bgcolor\":\"white\",\"plot_bgcolor\":\"#E5ECF6\",\"polar\":{\"bgcolor\":\"#E5ECF6\",\"angularaxis\":{\"gridcolor\":\"white\",\"linecolor\":\"white\",\"ticks\":\"\"},\"radialaxis\":{\"gridcolor\":\"white\",\"linecolor\":\"white\",\"ticks\":\"\"}},\"ternary\":{\"bgcolor\":\"#E5ECF6\",\"aaxis\":{\"gridcolor\":\"white\",\"linecolor\":\"white\",\"ticks\":\"\"},\"baxis\":{\"gridcolor\":\"white\",\"linecolor\":\"white\",\"ticks\":\"\"},\"caxis\":{\"gridcolor\":\"white\",\"linecolor\":\"white\",\"ticks\":\"\"}},\"coloraxis\":{\"colorbar\":{\"outlinewidth\":0,\"ticks\":\"\"}},\"colorscale\":{\"sequential\":[[0.0,\"#0d0887\"],[0.1111111111111111,\"#46039f\"],[0.2222222222222222,\"#7201a8\"],[0.3333333333333333,\"#9c179e\"],[0.4444444444444444,\"#bd3786\"],[0.5555555555555556,\"#d8576b\"],[0.6666666666666666,\"#ed7953\"],[0.7777777777777778,\"#fb9f3a\"],[0.8888888888888888,\"#fdca26\"],[1.0,\"#f0f921\"]],\"sequentialminus\":[[0.0,\"#0d0887\"],[0.1111111111111111,\"#46039f\"],[0.2222222222222222,\"#7201a8\"],[0.3333333333333333,\"#9c179e\"],[0.4444444444444444,\"#bd3786\"],[0.5555555555555556,\"#d8576b\"],[0.6666666666666666,\"#ed7953\"],[0.7777777777777778,\"#fb9f3a\"],[0.8888888888888888,\"#fdca26\"],[1.0,\"#f0f921\"]],\"diverging\":[[0,\"#8e0152\"],[0.1,\"#c51b7d\"],[0.2,\"#de77ae\"],[0.3,\"#f1b6da\"],[0.4,\"#fde0ef\"],[0.5,\"#f7f7f7\"],[0.6,\"#e6f5d0\"],[0.7,\"#b8e186\"],[0.8,\"#7fbc41\"],[0.9,\"#4d9221\"],[1,\"#276419\"]]},\"xaxis\":{\"gridcolor\":\"white\",\"linecolor\":\"white\",\"ticks\":\"\",\"title\":{\"standoff\":15},\"zerolinecolor\":\"white\",\"automargin\":true,\"zerolinewidth\":2},\"yaxis\":{\"gridcolor\":\"white\",\"linecolor\":\"white\",\"ticks\":\"\",\"title\":{\"standoff\":15},\"zerolinecolor\":\"white\",\"automargin\":true,\"zerolinewidth\":2},\"scene\":{\"xaxis\":{\"backgroundcolor\":\"#E5ECF6\",\"gridcolor\":\"white\",\"linecolor\":\"white\",\"showbackground\":true,\"ticks\":\"\",\"zerolinecolor\":\"white\",\"gridwidth\":2},\"yaxis\":{\"backgroundcolor\":\"#E5ECF6\",\"gridcolor\":\"white\",\"linecolor\":\"white\",\"showbackground\":true,\"ticks\":\"\",\"zerolinecolor\":\"white\",\"gridwidth\":2},\"zaxis\":{\"backgroundcolor\":\"#E5ECF6\",\"gridcolor\":\"white\",\"linecolor\":\"white\",\"showbackground\":true,\"ticks\":\"\",\"zerolinecolor\":\"white\",\"gridwidth\":2}},\"shapedefaults\":{\"line\":{\"color\":\"#2a3f5f\"}},\"annotationdefaults\":{\"arrowcolor\":\"#2a3f5f\",\"arrowhead\":0,\"arrowwidth\":1},\"geo\":{\"bgcolor\":\"white\",\"landcolor\":\"#E5ECF6\",\"subunitcolor\":\"white\",\"showland\":true,\"showlakes\":true,\"lakecolor\":\"white\"},\"title\":{\"x\":0.05},\"mapbox\":{\"style\":\"light\"}}},\"xaxis\":{\"anchor\":\"y\",\"domain\":[0.0,1.0],\"title\":{\"text\":\"time_from_start\"}},\"yaxis\":{\"anchor\":\"x\",\"domain\":[0.0,1.0],\"title\":{\"text\":\"dist_from_start\"}},\"legend\":{\"tracegroupgap\":0},\"title\":{\"text\":\"Time Taken by Bus from Origin\"}},                        {\"responsive\": true}                    ).then(function(){\n",
       "                            \n",
       "var gd = document.getElementById('c9f65e3a-9719-4898-8edf-4a721d293a0b');\n",
       "var x = new MutationObserver(function (mutations, observer) {{\n",
       "        var display = window.getComputedStyle(gd).display;\n",
       "        if (!display || display === 'none') {{\n",
       "            console.log([gd, 'removed!']);\n",
       "            Plotly.purge(gd);\n",
       "            observer.disconnect();\n",
       "        }}\n",
       "}});\n",
       "\n",
       "// Listen for the removal of the full notebook cells\n",
       "var notebookContainer = gd.closest('#notebook-container');\n",
       "if (notebookContainer) {{\n",
       "    x.observe(notebookContainer, {childList: true});\n",
       "}}\n",
       "\n",
       "// Listen for the clearing of the current output cell\n",
       "var outputEl = gd.closest('.output');\n",
       "if (outputEl) {{\n",
       "    x.observe(outputEl, {childList: true});\n",
       "}}\n",
       "\n",
       "                        })                };                });            </script>        </div>"
      ]
     },
     "metadata": {},
     "output_type": "display_data"
    }
   ],
   "source": [
    "fig_realtime = px.line(df_realtime, y=\"dist_from_start\", x=\"time_from_start\",title=\"Time Taken by Bus from Origin\")\n",
    "fig_realtime.show()"
   ]
  },
  {
   "cell_type": "code",
   "execution_count": null,
   "id": "88e716c0",
   "metadata": {},
   "outputs": [],
   "source": []
  },
  {
   "cell_type": "markdown",
   "id": "cda2e005",
   "metadata": {},
   "source": [
    "# For ETM "
   ]
  },
  {
   "cell_type": "code",
   "execution_count": 30,
   "id": "8901dfc8",
   "metadata": {},
   "outputs": [],
   "source": [
    "import numpy\n",
    "from datetime import datetime"
   ]
  },
  {
   "cell_type": "code",
   "execution_count": 31,
   "id": "28f46847",
   "metadata": {},
   "outputs": [],
   "source": [
    "route_data_pd = pd.read_csv('Redistributed_717AUP.csv')"
   ]
  },
  {
   "cell_type": "code",
   "execution_count": 32,
   "id": "350bf599",
   "metadata": {},
   "outputs": [
    {
     "data": {
      "text/html": [
       "<div>\n",
       "<style scoped>\n",
       "    .dataframe tbody tr th:only-of-type {\n",
       "        vertical-align: middle;\n",
       "    }\n",
       "\n",
       "    .dataframe tbody tr th {\n",
       "        vertical-align: top;\n",
       "    }\n",
       "\n",
       "    .dataframe thead th {\n",
       "        text-align: right;\n",
       "    }\n",
       "</style>\n",
       "<table border=\"1\" class=\"dataframe\">\n",
       "  <thead>\n",
       "    <tr style=\"text-align: right;\">\n",
       "      <th></th>\n",
       "      <th>MESSAGE_ID</th>\n",
       "      <th>TRIP_ID</th>\n",
       "      <th>ROUTENAME</th>\n",
       "      <th>BUS_ID</th>\n",
       "      <th>ROUTE_ORIGIN_STOP</th>\n",
       "      <th>ROUTE_DESTINATION_STOP</th>\n",
       "      <th>TRIP_START_TIME</th>\n",
       "      <th>TRIP_END_TIME</th>\n",
       "      <th>AMOUNT</th>\n",
       "      <th>USER_COUNT</th>\n",
       "      <th>TICKET DATE</th>\n",
       "      <th>TICKET TIME</th>\n",
       "      <th>date_time</th>\n",
       "      <th>ticket_date</th>\n",
       "      <th>Day</th>\n",
       "      <th>Hour</th>\n",
       "      <th>Month</th>\n",
       "      <th>Origin_cordinates</th>\n",
       "      <th>Dest_cordinates</th>\n",
       "    </tr>\n",
       "  </thead>\n",
       "  <tbody>\n",
       "    <tr>\n",
       "      <th>0</th>\n",
       "      <td>12695010919065107</td>\n",
       "      <td>T12695010919061902</td>\n",
       "      <td>717AUP</td>\n",
       "      <td>DL1PC6341</td>\n",
       "      <td>Andheria Bagh More</td>\n",
       "      <td>Kapashera Border</td>\n",
       "      <td>01-SEP-2019 06:19:46</td>\n",
       "      <td>01-SEP-2019 07:19:28</td>\n",
       "      <td>15</td>\n",
       "      <td>1</td>\n",
       "      <td>01/09/2019</td>\n",
       "      <td>06:51:55</td>\n",
       "      <td>2019-09-01 06:51:55</td>\n",
       "      <td>2019-09-01</td>\n",
       "      <td>Sunday</td>\n",
       "      <td>6</td>\n",
       "      <td>9</td>\n",
       "      <td>(28.509217, 77.178967)</td>\n",
       "      <td>(28.522481, 77.082442)</td>\n",
       "    </tr>\n",
       "    <tr>\n",
       "      <th>1</th>\n",
       "      <td>12420010919084834</td>\n",
       "      <td>T12420010919074802</td>\n",
       "      <td>717AUP</td>\n",
       "      <td>DL1PC6354</td>\n",
       "      <td>Andheria Bagh More / Chhatarpur Metro Station</td>\n",
       "      <td>Kapashera Border</td>\n",
       "      <td>01-SEP-2019 07:48:00</td>\n",
       "      <td>01-SEP-2019 09:26:48</td>\n",
       "      <td>15</td>\n",
       "      <td>1</td>\n",
       "      <td>01/09/2019</td>\n",
       "      <td>08:48:17</td>\n",
       "      <td>2019-09-01 08:48:17</td>\n",
       "      <td>2019-09-01</td>\n",
       "      <td>Sunday</td>\n",
       "      <td>8</td>\n",
       "      <td>9</td>\n",
       "      <td>(28.509217, 77.178967)</td>\n",
       "      <td>(28.522481, 77.082442)</td>\n",
       "    </tr>\n",
       "    <tr>\n",
       "      <th>2</th>\n",
       "      <td>12420010919084835</td>\n",
       "      <td>T12420010919074802</td>\n",
       "      <td>717AUP</td>\n",
       "      <td>DL1PC6354</td>\n",
       "      <td>Andheria Bagh More / Chhatarpur Metro Station</td>\n",
       "      <td>Kapashera Border</td>\n",
       "      <td>01-SEP-2019 07:48:00</td>\n",
       "      <td>01-SEP-2019 09:26:48</td>\n",
       "      <td>15</td>\n",
       "      <td>1</td>\n",
       "      <td>01/09/2019</td>\n",
       "      <td>08:48:19</td>\n",
       "      <td>2019-09-01 08:48:19</td>\n",
       "      <td>2019-09-01</td>\n",
       "      <td>Sunday</td>\n",
       "      <td>8</td>\n",
       "      <td>9</td>\n",
       "      <td>(28.509217, 77.178967)</td>\n",
       "      <td>(28.522481, 77.082442)</td>\n",
       "    </tr>\n",
       "    <tr>\n",
       "      <th>3</th>\n",
       "      <td>12678010919095238</td>\n",
       "      <td>T12678010919084802</td>\n",
       "      <td>717AUP</td>\n",
       "      <td>DL1PC6308</td>\n",
       "      <td>Andheria Bagh More / Chhatarpur Metro Station</td>\n",
       "      <td>Kapashera Border</td>\n",
       "      <td>01-SEP-2019 08:48:17</td>\n",
       "      <td>01-SEP-2019 10:34:02</td>\n",
       "      <td>15</td>\n",
       "      <td>1</td>\n",
       "      <td>01/09/2019</td>\n",
       "      <td>09:52:32</td>\n",
       "      <td>2019-09-01 09:52:32</td>\n",
       "      <td>2019-09-01</td>\n",
       "      <td>Sunday</td>\n",
       "      <td>9</td>\n",
       "      <td>9</td>\n",
       "      <td>(28.509217, 77.178967)</td>\n",
       "      <td>(28.522481, 77.082442)</td>\n",
       "    </tr>\n",
       "    <tr>\n",
       "      <th>4</th>\n",
       "      <td>10592010919093428</td>\n",
       "      <td>T10592010919083602</td>\n",
       "      <td>717AUP</td>\n",
       "      <td>DL1P6359</td>\n",
       "      <td>Andheria Bagh More / Chhatarpur Metro Station</td>\n",
       "      <td>Kapashera Border</td>\n",
       "      <td>01-SEP-2019 08:36:05</td>\n",
       "      <td>01-SEP-2019 10:10:08</td>\n",
       "      <td>15</td>\n",
       "      <td>1</td>\n",
       "      <td>01/09/2019</td>\n",
       "      <td>09:34:44</td>\n",
       "      <td>2019-09-01 09:34:44</td>\n",
       "      <td>2019-09-01</td>\n",
       "      <td>Sunday</td>\n",
       "      <td>9</td>\n",
       "      <td>9</td>\n",
       "      <td>(28.509217, 77.178967)</td>\n",
       "      <td>(28.522481, 77.082442)</td>\n",
       "    </tr>\n",
       "    <tr>\n",
       "      <th>...</th>\n",
       "      <td>...</td>\n",
       "      <td>...</td>\n",
       "      <td>...</td>\n",
       "      <td>...</td>\n",
       "      <td>...</td>\n",
       "      <td>...</td>\n",
       "      <td>...</td>\n",
       "      <td>...</td>\n",
       "      <td>...</td>\n",
       "      <td>...</td>\n",
       "      <td>...</td>\n",
       "      <td>...</td>\n",
       "      <td>...</td>\n",
       "      <td>...</td>\n",
       "      <td>...</td>\n",
       "      <td>...</td>\n",
       "      <td>...</td>\n",
       "      <td>...</td>\n",
       "      <td>...</td>\n",
       "    </tr>\n",
       "    <tr>\n",
       "      <th>1393478</th>\n",
       "      <td>11333291219103256</td>\n",
       "      <td>T11333291219102504</td>\n",
       "      <td>717AUP</td>\n",
       "      <td>DL1PC6350</td>\n",
       "      <td>Jaitpur Crossing</td>\n",
       "      <td>Kapashera Border</td>\n",
       "      <td>29-DEC-2019 10:25:06</td>\n",
       "      <td>29-DEC-2019 11:51:02</td>\n",
       "      <td>15</td>\n",
       "      <td>1</td>\n",
       "      <td>29/12/2019</td>\n",
       "      <td>10:32:27</td>\n",
       "      <td>2019-12-29 10:32:27</td>\n",
       "      <td>2019-12-29</td>\n",
       "      <td>Sunday</td>\n",
       "      <td>10</td>\n",
       "      <td>12</td>\n",
       "      <td>(28.4927, 77.30381700000002)</td>\n",
       "      <td>(28.522481, 77.082442)</td>\n",
       "    </tr>\n",
       "    <tr>\n",
       "      <th>1393479</th>\n",
       "      <td>11333291219103257</td>\n",
       "      <td>T11333291219102504</td>\n",
       "      <td>717AUP</td>\n",
       "      <td>DL1PC6350</td>\n",
       "      <td>Jaitpur Crossing</td>\n",
       "      <td>Tughalqabad Village</td>\n",
       "      <td>29-DEC-2019 10:25:06</td>\n",
       "      <td>29-DEC-2019 11:51:02</td>\n",
       "      <td>5</td>\n",
       "      <td>1</td>\n",
       "      <td>29/12/2019</td>\n",
       "      <td>10:32:31</td>\n",
       "      <td>2019-12-29 10:32:31</td>\n",
       "      <td>2019-12-29</td>\n",
       "      <td>Sunday</td>\n",
       "      <td>10</td>\n",
       "      <td>12</td>\n",
       "      <td>(28.4927, 77.30381700000002)</td>\n",
       "      <td>(28.509067, 77.265117)</td>\n",
       "    </tr>\n",
       "    <tr>\n",
       "      <th>1393480</th>\n",
       "      <td>11311291219201613</td>\n",
       "      <td>T11311291219185703</td>\n",
       "      <td>717AUP</td>\n",
       "      <td>DL1PC 6357</td>\n",
       "      <td>Hamdard Nagar / Sangam Vihar</td>\n",
       "      <td>Kapashera Border</td>\n",
       "      <td>29-DEC-2019 18:57:26</td>\n",
       "      <td>29-DEC-2019 21:17:04</td>\n",
       "      <td>15</td>\n",
       "      <td>1</td>\n",
       "      <td>29/12/2019</td>\n",
       "      <td>20:16:45</td>\n",
       "      <td>2019-12-29 20:16:45</td>\n",
       "      <td>2019-12-29</td>\n",
       "      <td>Sunday</td>\n",
       "      <td>20</td>\n",
       "      <td>12</td>\n",
       "      <td>(28.512167, 77.248667)</td>\n",
       "      <td>(28.522481, 77.082442)</td>\n",
       "    </tr>\n",
       "    <tr>\n",
       "      <th>1393481</th>\n",
       "      <td>11311291219202124</td>\n",
       "      <td>T11311291219185703</td>\n",
       "      <td>717AUP</td>\n",
       "      <td>DL1PC 6357</td>\n",
       "      <td>Batra Hospital (Satya Narayan Mandir)</td>\n",
       "      <td>Kishan Garh</td>\n",
       "      <td>29-DEC-2019 18:57:26</td>\n",
       "      <td>29-DEC-2019 21:17:04</td>\n",
       "      <td>10</td>\n",
       "      <td>1</td>\n",
       "      <td>29/12/2019</td>\n",
       "      <td>20:21:08</td>\n",
       "      <td>2019-12-29 20:21:08</td>\n",
       "      <td>2019-12-29</td>\n",
       "      <td>Sunday</td>\n",
       "      <td>20</td>\n",
       "      <td>12</td>\n",
       "      <td>(28.512167, 77.248667)</td>\n",
       "      <td>(28.514366, 77.16415500000002)</td>\n",
       "    </tr>\n",
       "    <tr>\n",
       "      <th>1393482</th>\n",
       "      <td>11311291219205100</td>\n",
       "      <td>T11311291219185703</td>\n",
       "      <td>717AUP</td>\n",
       "      <td>DL1PC 6357</td>\n",
       "      <td>Vasant Kunj Sec-D/3-4</td>\n",
       "      <td>Kapashera Border</td>\n",
       "      <td>29-DEC-2019 18:57:26</td>\n",
       "      <td>29-DEC-2019 21:17:04</td>\n",
       "      <td>15</td>\n",
       "      <td>1</td>\n",
       "      <td>29/12/2019</td>\n",
       "      <td>20:51:12</td>\n",
       "      <td>2019-12-29 20:51:12</td>\n",
       "      <td>2019-12-29</td>\n",
       "      <td>Sunday</td>\n",
       "      <td>20</td>\n",
       "      <td>12</td>\n",
       "      <td>(28.514366, 77.16415500000002)</td>\n",
       "      <td>(28.522481, 77.082442)</td>\n",
       "    </tr>\n",
       "  </tbody>\n",
       "</table>\n",
       "<p>1393483 rows × 19 columns</p>\n",
       "</div>"
      ],
      "text/plain": [
       "                MESSAGE_ID             TRIP_ID ROUTENAME      BUS_ID  \\\n",
       "0        12695010919065107  T12695010919061902    717AUP   DL1PC6341   \n",
       "1        12420010919084834  T12420010919074802    717AUP   DL1PC6354   \n",
       "2        12420010919084835  T12420010919074802    717AUP   DL1PC6354   \n",
       "3        12678010919095238  T12678010919084802    717AUP   DL1PC6308   \n",
       "4        10592010919093428  T10592010919083602    717AUP    DL1P6359   \n",
       "...                    ...                 ...       ...         ...   \n",
       "1393478  11333291219103256  T11333291219102504    717AUP   DL1PC6350   \n",
       "1393479  11333291219103257  T11333291219102504    717AUP   DL1PC6350   \n",
       "1393480  11311291219201613  T11311291219185703    717AUP  DL1PC 6357   \n",
       "1393481  11311291219202124  T11311291219185703    717AUP  DL1PC 6357   \n",
       "1393482  11311291219205100  T11311291219185703    717AUP  DL1PC 6357   \n",
       "\n",
       "                                     ROUTE_ORIGIN_STOP ROUTE_DESTINATION_STOP  \\\n",
       "0                                   Andheria Bagh More       Kapashera Border   \n",
       "1        Andheria Bagh More / Chhatarpur Metro Station       Kapashera Border   \n",
       "2        Andheria Bagh More / Chhatarpur Metro Station       Kapashera Border   \n",
       "3        Andheria Bagh More / Chhatarpur Metro Station       Kapashera Border   \n",
       "4        Andheria Bagh More / Chhatarpur Metro Station       Kapashera Border   \n",
       "...                                                ...                    ...   \n",
       "1393478                               Jaitpur Crossing       Kapashera Border   \n",
       "1393479                               Jaitpur Crossing    Tughalqabad Village   \n",
       "1393480                   Hamdard Nagar / Sangam Vihar       Kapashera Border   \n",
       "1393481          Batra Hospital (Satya Narayan Mandir)            Kishan Garh   \n",
       "1393482                          Vasant Kunj Sec-D/3-4       Kapashera Border   \n",
       "\n",
       "              TRIP_START_TIME         TRIP_END_TIME  AMOUNT  USER_COUNT  \\\n",
       "0        01-SEP-2019 06:19:46  01-SEP-2019 07:19:28      15           1   \n",
       "1        01-SEP-2019 07:48:00  01-SEP-2019 09:26:48      15           1   \n",
       "2        01-SEP-2019 07:48:00  01-SEP-2019 09:26:48      15           1   \n",
       "3        01-SEP-2019 08:48:17  01-SEP-2019 10:34:02      15           1   \n",
       "4        01-SEP-2019 08:36:05  01-SEP-2019 10:10:08      15           1   \n",
       "...                       ...                   ...     ...         ...   \n",
       "1393478  29-DEC-2019 10:25:06  29-DEC-2019 11:51:02      15           1   \n",
       "1393479  29-DEC-2019 10:25:06  29-DEC-2019 11:51:02       5           1   \n",
       "1393480  29-DEC-2019 18:57:26  29-DEC-2019 21:17:04      15           1   \n",
       "1393481  29-DEC-2019 18:57:26  29-DEC-2019 21:17:04      10           1   \n",
       "1393482  29-DEC-2019 18:57:26  29-DEC-2019 21:17:04      15           1   \n",
       "\n",
       "        TICKET DATE TICKET TIME            date_time ticket_date     Day  \\\n",
       "0        01/09/2019    06:51:55  2019-09-01 06:51:55  2019-09-01  Sunday   \n",
       "1        01/09/2019    08:48:17  2019-09-01 08:48:17  2019-09-01  Sunday   \n",
       "2        01/09/2019    08:48:19  2019-09-01 08:48:19  2019-09-01  Sunday   \n",
       "3        01/09/2019    09:52:32  2019-09-01 09:52:32  2019-09-01  Sunday   \n",
       "4        01/09/2019    09:34:44  2019-09-01 09:34:44  2019-09-01  Sunday   \n",
       "...             ...         ...                  ...         ...     ...   \n",
       "1393478  29/12/2019    10:32:27  2019-12-29 10:32:27  2019-12-29  Sunday   \n",
       "1393479  29/12/2019    10:32:31  2019-12-29 10:32:31  2019-12-29  Sunday   \n",
       "1393480  29/12/2019    20:16:45  2019-12-29 20:16:45  2019-12-29  Sunday   \n",
       "1393481  29/12/2019    20:21:08  2019-12-29 20:21:08  2019-12-29  Sunday   \n",
       "1393482  29/12/2019    20:51:12  2019-12-29 20:51:12  2019-12-29  Sunday   \n",
       "\n",
       "         Hour  Month               Origin_cordinates  \\\n",
       "0           6      9          (28.509217, 77.178967)   \n",
       "1           8      9          (28.509217, 77.178967)   \n",
       "2           8      9          (28.509217, 77.178967)   \n",
       "3           9      9          (28.509217, 77.178967)   \n",
       "4           9      9          (28.509217, 77.178967)   \n",
       "...       ...    ...                             ...   \n",
       "1393478    10     12    (28.4927, 77.30381700000002)   \n",
       "1393479    10     12    (28.4927, 77.30381700000002)   \n",
       "1393480    20     12          (28.512167, 77.248667)   \n",
       "1393481    20     12          (28.512167, 77.248667)   \n",
       "1393482    20     12  (28.514366, 77.16415500000002)   \n",
       "\n",
       "                        Dest_cordinates  \n",
       "0                (28.522481, 77.082442)  \n",
       "1                (28.522481, 77.082442)  \n",
       "2                (28.522481, 77.082442)  \n",
       "3                (28.522481, 77.082442)  \n",
       "4                (28.522481, 77.082442)  \n",
       "...                                 ...  \n",
       "1393478          (28.522481, 77.082442)  \n",
       "1393479          (28.509067, 77.265117)  \n",
       "1393480          (28.522481, 77.082442)  \n",
       "1393481  (28.514366, 77.16415500000002)  \n",
       "1393482          (28.522481, 77.082442)  \n",
       "\n",
       "[1393483 rows x 19 columns]"
      ]
     },
     "execution_count": 32,
     "metadata": {},
     "output_type": "execute_result"
    }
   ],
   "source": [
    "route_data_pd"
   ]
  },
  {
   "cell_type": "code",
   "execution_count": 33,
   "id": "88301e55",
   "metadata": {
    "scrolled": true
   },
   "outputs": [
    {
     "data": {
      "text/html": [
       "<div>\n",
       "<style scoped>\n",
       "    .dataframe tbody tr th:only-of-type {\n",
       "        vertical-align: middle;\n",
       "    }\n",
       "\n",
       "    .dataframe tbody tr th {\n",
       "        vertical-align: top;\n",
       "    }\n",
       "\n",
       "    .dataframe thead th {\n",
       "        text-align: right;\n",
       "    }\n",
       "</style>\n",
       "<table border=\"1\" class=\"dataframe\">\n",
       "  <thead>\n",
       "    <tr style=\"text-align: right;\">\n",
       "      <th></th>\n",
       "      <th>stop_name</th>\n",
       "      <th>stop_lat</th>\n",
       "      <th>stop_lon</th>\n",
       "    </tr>\n",
       "  </thead>\n",
       "  <tbody>\n",
       "    <tr>\n",
       "      <th>0</th>\n",
       "      <td>Badarpur Border</td>\n",
       "      <td>28.492700</td>\n",
       "      <td>77.303817</td>\n",
       "    </tr>\n",
       "    <tr>\n",
       "      <th>1</th>\n",
       "      <td>Jaitpur Crossing</td>\n",
       "      <td>28.497217</td>\n",
       "      <td>77.302647</td>\n",
       "    </tr>\n",
       "    <tr>\n",
       "      <th>2</th>\n",
       "      <td>Badarpur M B Road / Rajiv Gandhi Stadium</td>\n",
       "      <td>28.499178</td>\n",
       "      <td>77.299004</td>\n",
       "    </tr>\n",
       "    <tr>\n",
       "      <th>3</th>\n",
       "      <td>Prehlad Pur</td>\n",
       "      <td>28.500000</td>\n",
       "      <td>77.294633</td>\n",
       "    </tr>\n",
       "    <tr>\n",
       "      <th>4</th>\n",
       "      <td>Surajkund Crossing</td>\n",
       "      <td>28.501700</td>\n",
       "      <td>77.291000</td>\n",
       "    </tr>\n",
       "    <tr>\n",
       "      <th>5</th>\n",
       "      <td>Lal Kuan</td>\n",
       "      <td>28.502600</td>\n",
       "      <td>77.284517</td>\n",
       "    </tr>\n",
       "    <tr>\n",
       "      <th>6</th>\n",
       "      <td>Prem Nagar</td>\n",
       "      <td>28.504400</td>\n",
       "      <td>77.279300</td>\n",
       "    </tr>\n",
       "    <tr>\n",
       "      <th>7</th>\n",
       "      <td>Tuglaqabad MB Road</td>\n",
       "      <td>28.505533</td>\n",
       "      <td>77.276483</td>\n",
       "    </tr>\n",
       "    <tr>\n",
       "      <th>8</th>\n",
       "      <td>Kaya Maya Hospital</td>\n",
       "      <td>28.508250</td>\n",
       "      <td>77.269017</td>\n",
       "    </tr>\n",
       "    <tr>\n",
       "      <th>9</th>\n",
       "      <td>Tughalqabad Village</td>\n",
       "      <td>28.509067</td>\n",
       "      <td>77.265117</td>\n",
       "    </tr>\n",
       "    <tr>\n",
       "      <th>10</th>\n",
       "      <td>Air Force Station</td>\n",
       "      <td>28.511683</td>\n",
       "      <td>77.255467</td>\n",
       "    </tr>\n",
       "    <tr>\n",
       "      <th>11</th>\n",
       "      <td>Hamdard Nagar / Sangam Vihar</td>\n",
       "      <td>28.512167</td>\n",
       "      <td>77.248667</td>\n",
       "    </tr>\n",
       "    <tr>\n",
       "      <th>12</th>\n",
       "      <td>Batra Hospital (Satya Narayan Mandir)</td>\n",
       "      <td>28.512100</td>\n",
       "      <td>77.243500</td>\n",
       "    </tr>\n",
       "    <tr>\n",
       "      <th>13</th>\n",
       "      <td>Vayu Sena Bad (Tigri)</td>\n",
       "      <td>28.512900</td>\n",
       "      <td>77.238900</td>\n",
       "    </tr>\n",
       "    <tr>\n",
       "      <th>14</th>\n",
       "      <td>Khanpur Extension / Devli Crossing</td>\n",
       "      <td>28.513663</td>\n",
       "      <td>77.234905</td>\n",
       "    </tr>\n",
       "    <tr>\n",
       "      <th>15</th>\n",
       "      <td>Ambedkar Nagar Depot</td>\n",
       "      <td>28.515267</td>\n",
       "      <td>77.228400</td>\n",
       "    </tr>\n",
       "    <tr>\n",
       "      <th>16</th>\n",
       "      <td>Ambedkar Nagar Terminal / DIPSAR</td>\n",
       "      <td>28.516101</td>\n",
       "      <td>77.223607</td>\n",
       "    </tr>\n",
       "    <tr>\n",
       "      <th>17</th>\n",
       "      <td>Asian Market</td>\n",
       "      <td>28.516600</td>\n",
       "      <td>77.221400</td>\n",
       "    </tr>\n",
       "    <tr>\n",
       "      <th>18</th>\n",
       "      <td>Saket Crossing</td>\n",
       "      <td>28.517600</td>\n",
       "      <td>77.216583</td>\n",
       "    </tr>\n",
       "    <tr>\n",
       "      <th>19</th>\n",
       "      <td>Maidan Garhi Crossing (SDM Court)</td>\n",
       "      <td>28.519067</td>\n",
       "      <td>77.208800</td>\n",
       "    </tr>\n",
       "    <tr>\n",
       "      <th>20</th>\n",
       "      <td>Saket Metro Sation</td>\n",
       "      <td>28.520338</td>\n",
       "      <td>77.202869</td>\n",
       "    </tr>\n",
       "    <tr>\n",
       "      <th>21</th>\n",
       "      <td>Saidul-A-Jab</td>\n",
       "      <td>28.521142</td>\n",
       "      <td>77.199972</td>\n",
       "    </tr>\n",
       "    <tr>\n",
       "      <th>22</th>\n",
       "      <td>Dhaula Peer</td>\n",
       "      <td>28.521941</td>\n",
       "      <td>77.197872</td>\n",
       "    </tr>\n",
       "    <tr>\n",
       "      <th>23</th>\n",
       "      <td>Dhaula Peer / Lado Sarai</td>\n",
       "      <td>28.522495</td>\n",
       "      <td>77.193066</td>\n",
       "    </tr>\n",
       "    <tr>\n",
       "      <th>24</th>\n",
       "      <td>Ahinsa Sthal</td>\n",
       "      <td>28.521483</td>\n",
       "      <td>77.189733</td>\n",
       "    </tr>\n",
       "    <tr>\n",
       "      <th>25</th>\n",
       "      <td>Qutub Minar Metro Sation</td>\n",
       "      <td>28.511733</td>\n",
       "      <td>77.184400</td>\n",
       "    </tr>\n",
       "    <tr>\n",
       "      <th>26</th>\n",
       "      <td>Andheria Bagh More</td>\n",
       "      <td>28.509217</td>\n",
       "      <td>77.178967</td>\n",
       "    </tr>\n",
       "    <tr>\n",
       "      <th>27</th>\n",
       "      <td>Andheria Bagh More / Chhatarpur Metro Station</td>\n",
       "      <td>28.508222</td>\n",
       "      <td>77.174328</td>\n",
       "    </tr>\n",
       "    <tr>\n",
       "      <th>28</th>\n",
       "      <td>Vasant Kunj Sec-A Pkt-BC</td>\n",
       "      <td>28.510400</td>\n",
       "      <td>77.169617</td>\n",
       "    </tr>\n",
       "    <tr>\n",
       "      <th>29</th>\n",
       "      <td>Vasant Kunj Sec-A ILBS</td>\n",
       "      <td>28.511667</td>\n",
       "      <td>77.166550</td>\n",
       "    </tr>\n",
       "    <tr>\n",
       "      <th>30</th>\n",
       "      <td>Kishan Garh</td>\n",
       "      <td>28.514366</td>\n",
       "      <td>77.164155</td>\n",
       "    </tr>\n",
       "    <tr>\n",
       "      <th>31</th>\n",
       "      <td>Vasant Kunj Sec-D/3-4</td>\n",
       "      <td>28.517200</td>\n",
       "      <td>77.160750</td>\n",
       "    </tr>\n",
       "    <tr>\n",
       "      <th>32</th>\n",
       "      <td>Vasant Kunj sec-B1</td>\n",
       "      <td>28.522167</td>\n",
       "      <td>77.157600</td>\n",
       "    </tr>\n",
       "    <tr>\n",
       "      <th>33</th>\n",
       "      <td>Masood Pur Village</td>\n",
       "      <td>28.525433</td>\n",
       "      <td>77.154483</td>\n",
       "    </tr>\n",
       "    <tr>\n",
       "      <th>34</th>\n",
       "      <td>Masood Pur Dairy</td>\n",
       "      <td>28.528600</td>\n",
       "      <td>77.148667</td>\n",
       "    </tr>\n",
       "    <tr>\n",
       "      <th>35</th>\n",
       "      <td>Kathuria Public School (Sai Darbar Mandir)</td>\n",
       "      <td>28.530900</td>\n",
       "      <td>77.146333</td>\n",
       "    </tr>\n",
       "    <tr>\n",
       "      <th>36</th>\n",
       "      <td>ISIC Hospital (Verma farm)</td>\n",
       "      <td>28.533980</td>\n",
       "      <td>77.142404</td>\n",
       "    </tr>\n",
       "    <tr>\n",
       "      <th>37</th>\n",
       "      <td>Vasant Kunj Sec-C-8</td>\n",
       "      <td>28.536717</td>\n",
       "      <td>77.139933</td>\n",
       "    </tr>\n",
       "    <tr>\n",
       "      <th>38</th>\n",
       "      <td>Rang Puri Pahari</td>\n",
       "      <td>28.537900</td>\n",
       "      <td>77.136486</td>\n",
       "    </tr>\n",
       "    <tr>\n",
       "      <th>39</th>\n",
       "      <td>Mahipal Pur Village</td>\n",
       "      <td>28.541700</td>\n",
       "      <td>77.129350</td>\n",
       "    </tr>\n",
       "    <tr>\n",
       "      <th>40</th>\n",
       "      <td>Mahipal Pur Crossing</td>\n",
       "      <td>28.545765</td>\n",
       "      <td>77.123250</td>\n",
       "    </tr>\n",
       "    <tr>\n",
       "      <th>41</th>\n",
       "      <td>Rangpuri</td>\n",
       "      <td>28.543991</td>\n",
       "      <td>77.118187</td>\n",
       "    </tr>\n",
       "    <tr>\n",
       "      <th>42</th>\n",
       "      <td>Shiv Murti</td>\n",
       "      <td>28.535610</td>\n",
       "      <td>77.112429</td>\n",
       "    </tr>\n",
       "    <tr>\n",
       "      <th>43</th>\n",
       "      <td>Rajokari Crossing</td>\n",
       "      <td>28.522166</td>\n",
       "      <td>77.098643</td>\n",
       "    </tr>\n",
       "    <tr>\n",
       "      <th>44</th>\n",
       "      <td>Shiv Murti / Dwarka More</td>\n",
       "      <td>28.534882</td>\n",
       "      <td>77.108353</td>\n",
       "    </tr>\n",
       "    <tr>\n",
       "      <th>45</th>\n",
       "      <td>Samalkha Crossing</td>\n",
       "      <td>28.538205</td>\n",
       "      <td>77.091434</td>\n",
       "    </tr>\n",
       "    <tr>\n",
       "      <th>46</th>\n",
       "      <td>Samalkha Village</td>\n",
       "      <td>28.534652</td>\n",
       "      <td>77.090446</td>\n",
       "    </tr>\n",
       "    <tr>\n",
       "      <th>47</th>\n",
       "      <td>Kapashera Crossing</td>\n",
       "      <td>28.531300</td>\n",
       "      <td>77.088150</td>\n",
       "    </tr>\n",
       "    <tr>\n",
       "      <th>48</th>\n",
       "      <td>Kapashera Village</td>\n",
       "      <td>28.524517</td>\n",
       "      <td>77.083700</td>\n",
       "    </tr>\n",
       "    <tr>\n",
       "      <th>49</th>\n",
       "      <td>Kapashera Border</td>\n",
       "      <td>28.522481</td>\n",
       "      <td>77.082442</td>\n",
       "    </tr>\n",
       "  </tbody>\n",
       "</table>\n",
       "</div>"
      ],
      "text/plain": [
       "                                        stop_name   stop_lat   stop_lon\n",
       "0                                 Badarpur Border  28.492700  77.303817\n",
       "1                                Jaitpur Crossing  28.497217  77.302647\n",
       "2        Badarpur M B Road / Rajiv Gandhi Stadium  28.499178  77.299004\n",
       "3                                     Prehlad Pur  28.500000  77.294633\n",
       "4                              Surajkund Crossing  28.501700  77.291000\n",
       "5                                        Lal Kuan  28.502600  77.284517\n",
       "6                                      Prem Nagar  28.504400  77.279300\n",
       "7                              Tuglaqabad MB Road  28.505533  77.276483\n",
       "8                              Kaya Maya Hospital  28.508250  77.269017\n",
       "9                             Tughalqabad Village  28.509067  77.265117\n",
       "10                              Air Force Station  28.511683  77.255467\n",
       "11                   Hamdard Nagar / Sangam Vihar  28.512167  77.248667\n",
       "12          Batra Hospital (Satya Narayan Mandir)  28.512100  77.243500\n",
       "13                          Vayu Sena Bad (Tigri)  28.512900  77.238900\n",
       "14             Khanpur Extension / Devli Crossing  28.513663  77.234905\n",
       "15                           Ambedkar Nagar Depot  28.515267  77.228400\n",
       "16               Ambedkar Nagar Terminal / DIPSAR  28.516101  77.223607\n",
       "17                                   Asian Market  28.516600  77.221400\n",
       "18                                 Saket Crossing  28.517600  77.216583\n",
       "19              Maidan Garhi Crossing (SDM Court)  28.519067  77.208800\n",
       "20                             Saket Metro Sation  28.520338  77.202869\n",
       "21                                   Saidul-A-Jab  28.521142  77.199972\n",
       "22                                    Dhaula Peer  28.521941  77.197872\n",
       "23                       Dhaula Peer / Lado Sarai  28.522495  77.193066\n",
       "24                                   Ahinsa Sthal  28.521483  77.189733\n",
       "25                       Qutub Minar Metro Sation  28.511733  77.184400\n",
       "26                             Andheria Bagh More  28.509217  77.178967\n",
       "27  Andheria Bagh More / Chhatarpur Metro Station  28.508222  77.174328\n",
       "28                       Vasant Kunj Sec-A Pkt-BC  28.510400  77.169617\n",
       "29                         Vasant Kunj Sec-A ILBS  28.511667  77.166550\n",
       "30                                    Kishan Garh  28.514366  77.164155\n",
       "31                          Vasant Kunj Sec-D/3-4  28.517200  77.160750\n",
       "32                             Vasant Kunj sec-B1  28.522167  77.157600\n",
       "33                             Masood Pur Village  28.525433  77.154483\n",
       "34                               Masood Pur Dairy  28.528600  77.148667\n",
       "35     Kathuria Public School (Sai Darbar Mandir)  28.530900  77.146333\n",
       "36                     ISIC Hospital (Verma farm)  28.533980  77.142404\n",
       "37                            Vasant Kunj Sec-C-8  28.536717  77.139933\n",
       "38                               Rang Puri Pahari  28.537900  77.136486\n",
       "39                            Mahipal Pur Village  28.541700  77.129350\n",
       "40                           Mahipal Pur Crossing  28.545765  77.123250\n",
       "41                                       Rangpuri  28.543991  77.118187\n",
       "42                                     Shiv Murti  28.535610  77.112429\n",
       "43                              Rajokari Crossing  28.522166  77.098643\n",
       "44                       Shiv Murti / Dwarka More  28.534882  77.108353\n",
       "45                              Samalkha Crossing  28.538205  77.091434\n",
       "46                               Samalkha Village  28.534652  77.090446\n",
       "47                             Kapashera Crossing  28.531300  77.088150\n",
       "48                              Kapashera Village  28.524517  77.083700\n",
       "49                               Kapashera Border  28.522481  77.082442"
      ]
     },
     "execution_count": 33,
     "metadata": {},
     "output_type": "execute_result"
    }
   ],
   "source": [
    "Stops_refer_latlong_distance = pd.read_csv('717AUP_GTFS_stops_latlong.csv')\n",
    "Stops_refer_latlong_distance"
   ]
  },
  {
   "cell_type": "code",
   "execution_count": 34,
   "id": "8efac589",
   "metadata": {},
   "outputs": [],
   "source": [
    "for i in range(0,len(route_data_pd)):\n",
    "    stop1 = route_data_pd.iloc[i]['ROUTE_ORIGIN_STOP']    \n",
    "    lat_temp = Stops_refer_latlong_distance[Stops_refer_latlong_distance['stop_name'] == stop1]['stop_lat'].values[0]\n",
    "    long_temp = Stops_refer_latlong_distance[Stops_refer_latlong_distance['stop_name'] == stop1]['stop_lon'].values[0]\n",
    "    route_data_pd.at[i,'lat'] = lat_temp\n",
    "    route_data_pd.at[i,'long'] = long_temp"
   ]
  },
  {
   "cell_type": "code",
   "execution_count": 35,
   "id": "807a93d7",
   "metadata": {},
   "outputs": [],
   "source": [
    "# route_data_pd.iloc[1]['ROUTE_ORIGIN_STOP']"
   ]
  },
  {
   "cell_type": "code",
   "execution_count": 36,
   "id": "d6c200fc",
   "metadata": {},
   "outputs": [],
   "source": [
    "# Stops_refer_latlong_distance[Stops_refer_latlong_distance['stop_name'] == 'Andheria Bagh More / Chhatarpur Metro Station']['stop_lat'].values[0]"
   ]
  },
  {
   "cell_type": "code",
   "execution_count": 37,
   "id": "9a1f9e65",
   "metadata": {},
   "outputs": [],
   "source": [
    "# Stops_refer_latlong_distance[Stops_refer_latlong_distance['stop_name'] == 'Andheria Bagh More / Chhatarpur Metro Station']['stop_lon'].values[0]"
   ]
  },
  {
   "cell_type": "code",
   "execution_count": null,
   "id": "2d0e9864",
   "metadata": {},
   "outputs": [],
   "source": []
  },
  {
   "cell_type": "code",
   "execution_count": null,
   "id": "d9ff6cd0",
   "metadata": {},
   "outputs": [],
   "source": []
  },
  {
   "cell_type": "code",
   "execution_count": 38,
   "id": "ece97c8a",
   "metadata": {},
   "outputs": [],
   "source": [
    "def convert_to_datetime(date_string):\n",
    "    return numpy.datetime64(datetime.strptime(str(date_string), '%d/%m/%Y %H:%M:%S'))\n",
    "\n",
    "def convert_to_date(date_string):\n",
    "    return numpy.datetime64(datetime.strptime(str(date_string), '%d/%m/%Y'))"
   ]
  },
  {
   "cell_type": "code",
   "execution_count": 39,
   "id": "2104f07d",
   "metadata": {},
   "outputs": [],
   "source": [
    "route_data_pd['date_time']  = (route_data_pd['TICKET DATE'] + ' ' + route_data_pd['TICKET TIME']).apply(convert_to_datetime)"
   ]
  },
  {
   "cell_type": "code",
   "execution_count": 40,
   "id": "3304cd83",
   "metadata": {},
   "outputs": [],
   "source": [
    "route_data_pd['ticket_date']  = route_data_pd['TICKET DATE'].apply(convert_to_date)"
   ]
  },
  {
   "cell_type": "code",
   "execution_count": 41,
   "id": "9c583917",
   "metadata": {},
   "outputs": [],
   "source": [
    "route_data_pd[\"Day\"] = route_data_pd[\"date_time\"].dt.day_name()\n",
    "route_data_pd[\"Hour\"] = route_data_pd[\"date_time\"].dt.hour\n",
    "route_data_pd[\"Month\"] = route_data_pd[\"date_time\"].dt.month"
   ]
  },
  {
   "cell_type": "code",
   "execution_count": 42,
   "id": "5ca07028",
   "metadata": {
    "scrolled": true
   },
   "outputs": [
    {
     "data": {
      "text/html": [
       "<div>\n",
       "<style scoped>\n",
       "    .dataframe tbody tr th:only-of-type {\n",
       "        vertical-align: middle;\n",
       "    }\n",
       "\n",
       "    .dataframe tbody tr th {\n",
       "        vertical-align: top;\n",
       "    }\n",
       "\n",
       "    .dataframe thead th {\n",
       "        text-align: right;\n",
       "    }\n",
       "</style>\n",
       "<table border=\"1\" class=\"dataframe\">\n",
       "  <thead>\n",
       "    <tr style=\"text-align: right;\">\n",
       "      <th></th>\n",
       "      <th>MESSAGE_ID</th>\n",
       "      <th>TRIP_ID</th>\n",
       "      <th>ROUTENAME</th>\n",
       "      <th>BUS_ID</th>\n",
       "      <th>ROUTE_ORIGIN_STOP</th>\n",
       "      <th>ROUTE_DESTINATION_STOP</th>\n",
       "      <th>TRIP_START_TIME</th>\n",
       "      <th>TRIP_END_TIME</th>\n",
       "      <th>AMOUNT</th>\n",
       "      <th>USER_COUNT</th>\n",
       "      <th>...</th>\n",
       "      <th>TICKET TIME</th>\n",
       "      <th>date_time</th>\n",
       "      <th>ticket_date</th>\n",
       "      <th>Day</th>\n",
       "      <th>Hour</th>\n",
       "      <th>Month</th>\n",
       "      <th>Origin_cordinates</th>\n",
       "      <th>Dest_cordinates</th>\n",
       "      <th>lat</th>\n",
       "      <th>long</th>\n",
       "    </tr>\n",
       "  </thead>\n",
       "  <tbody>\n",
       "    <tr>\n",
       "      <th>92376</th>\n",
       "      <td>11017010919051011</td>\n",
       "      <td>T11017010919051002</td>\n",
       "      <td>717AUP</td>\n",
       "      <td>DL1PC6498</td>\n",
       "      <td>Badarpur Border</td>\n",
       "      <td>Saidul-A-Jab</td>\n",
       "      <td>01-SEP-2019 05:10:14</td>\n",
       "      <td>01-SEP-2019 06:12:23</td>\n",
       "      <td>10</td>\n",
       "      <td>1</td>\n",
       "      <td>...</td>\n",
       "      <td>05:10:21</td>\n",
       "      <td>2019-09-01 05:10:21</td>\n",
       "      <td>2019-09-01</td>\n",
       "      <td>Sunday</td>\n",
       "      <td>5</td>\n",
       "      <td>9</td>\n",
       "      <td>(28.4927, 77.30381700000002)</td>\n",
       "      <td>(28.521142, 77.199972)</td>\n",
       "      <td>28.492700</td>\n",
       "      <td>77.303817</td>\n",
       "    </tr>\n",
       "    <tr>\n",
       "      <th>92377</th>\n",
       "      <td>11017010919051012</td>\n",
       "      <td>T11017010919051002</td>\n",
       "      <td>717AUP</td>\n",
       "      <td>DL1PC6498</td>\n",
       "      <td>Badarpur Border</td>\n",
       "      <td>Saidul-A-Jab</td>\n",
       "      <td>01-SEP-2019 05:10:14</td>\n",
       "      <td>01-SEP-2019 06:12:23</td>\n",
       "      <td>10</td>\n",
       "      <td>1</td>\n",
       "      <td>...</td>\n",
       "      <td>05:10:44</td>\n",
       "      <td>2019-09-01 05:10:44</td>\n",
       "      <td>2019-09-01</td>\n",
       "      <td>Sunday</td>\n",
       "      <td>5</td>\n",
       "      <td>9</td>\n",
       "      <td>(28.4927, 77.30381700000002)</td>\n",
       "      <td>(28.521142, 77.199972)</td>\n",
       "      <td>28.492700</td>\n",
       "      <td>77.303817</td>\n",
       "    </tr>\n",
       "    <tr>\n",
       "      <th>72599</th>\n",
       "      <td>11017010919051113</td>\n",
       "      <td>T11017010919051002</td>\n",
       "      <td>717AUP</td>\n",
       "      <td>DL1PC6498</td>\n",
       "      <td>Jaitpur Crossing</td>\n",
       "      <td>Kapashera Border</td>\n",
       "      <td>01-SEP-2019 05:10:14</td>\n",
       "      <td>01-SEP-2019 06:12:23</td>\n",
       "      <td>15</td>\n",
       "      <td>1</td>\n",
       "      <td>...</td>\n",
       "      <td>05:11:08</td>\n",
       "      <td>2019-09-01 05:11:08</td>\n",
       "      <td>2019-09-01</td>\n",
       "      <td>Sunday</td>\n",
       "      <td>5</td>\n",
       "      <td>9</td>\n",
       "      <td>(28.4927, 77.30381700000002)</td>\n",
       "      <td>(28.522481, 77.082442)</td>\n",
       "      <td>28.497217</td>\n",
       "      <td>77.302647</td>\n",
       "    </tr>\n",
       "    <tr>\n",
       "      <th>92378</th>\n",
       "      <td>11017010919051114</td>\n",
       "      <td>T11017010919051002</td>\n",
       "      <td>717AUP</td>\n",
       "      <td>DL1PC6498</td>\n",
       "      <td>Jaitpur Crossing</td>\n",
       "      <td>Saidul-A-Jab</td>\n",
       "      <td>01-SEP-2019 05:10:14</td>\n",
       "      <td>01-SEP-2019 06:12:23</td>\n",
       "      <td>10</td>\n",
       "      <td>1</td>\n",
       "      <td>...</td>\n",
       "      <td>05:11:18</td>\n",
       "      <td>2019-09-01 05:11:18</td>\n",
       "      <td>2019-09-01</td>\n",
       "      <td>Sunday</td>\n",
       "      <td>5</td>\n",
       "      <td>9</td>\n",
       "      <td>(28.4927, 77.30381700000002)</td>\n",
       "      <td>(28.521142, 77.199972)</td>\n",
       "      <td>28.497217</td>\n",
       "      <td>77.302647</td>\n",
       "    </tr>\n",
       "    <tr>\n",
       "      <th>92379</th>\n",
       "      <td>11017010919051115</td>\n",
       "      <td>T11017010919051002</td>\n",
       "      <td>717AUP</td>\n",
       "      <td>DL1PC6498</td>\n",
       "      <td>Jaitpur Crossing</td>\n",
       "      <td>Saidul-A-Jab</td>\n",
       "      <td>01-SEP-2019 05:10:14</td>\n",
       "      <td>01-SEP-2019 06:12:23</td>\n",
       "      <td>10</td>\n",
       "      <td>1</td>\n",
       "      <td>...</td>\n",
       "      <td>05:11:25</td>\n",
       "      <td>2019-09-01 05:11:25</td>\n",
       "      <td>2019-09-01</td>\n",
       "      <td>Sunday</td>\n",
       "      <td>5</td>\n",
       "      <td>9</td>\n",
       "      <td>(28.4927, 77.30381700000002)</td>\n",
       "      <td>(28.521142, 77.199972)</td>\n",
       "      <td>28.497217</td>\n",
       "      <td>77.302647</td>\n",
       "    </tr>\n",
       "    <tr>\n",
       "      <th>...</th>\n",
       "      <td>...</td>\n",
       "      <td>...</td>\n",
       "      <td>...</td>\n",
       "      <td>...</td>\n",
       "      <td>...</td>\n",
       "      <td>...</td>\n",
       "      <td>...</td>\n",
       "      <td>...</td>\n",
       "      <td>...</td>\n",
       "      <td>...</td>\n",
       "      <td>...</td>\n",
       "      <td>...</td>\n",
       "      <td>...</td>\n",
       "      <td>...</td>\n",
       "      <td>...</td>\n",
       "      <td>...</td>\n",
       "      <td>...</td>\n",
       "      <td>...</td>\n",
       "      <td>...</td>\n",
       "      <td>...</td>\n",
       "      <td>...</td>\n",
       "    </tr>\n",
       "    <tr>\n",
       "      <th>1110114</th>\n",
       "      <td>10942311219215959</td>\n",
       "      <td>T10942311219205303</td>\n",
       "      <td>717AUP</td>\n",
       "      <td>DL1PC 6357</td>\n",
       "      <td>Vasant Kunj sec-B1</td>\n",
       "      <td>Shiv Murti</td>\n",
       "      <td>31-DEC-2019 20:53:57</td>\n",
       "      <td>31-DEC-2019 22:23:18</td>\n",
       "      <td>5</td>\n",
       "      <td>1</td>\n",
       "      <td>...</td>\n",
       "      <td>21:59:10</td>\n",
       "      <td>2019-12-31 21:59:10</td>\n",
       "      <td>2019-12-31</td>\n",
       "      <td>Tuesday</td>\n",
       "      <td>21</td>\n",
       "      <td>12</td>\n",
       "      <td>(28.53398, 77.142404)</td>\n",
       "      <td>(28.53561, 77.112429)</td>\n",
       "      <td>28.522167</td>\n",
       "      <td>77.157600</td>\n",
       "    </tr>\n",
       "    <tr>\n",
       "      <th>1110115</th>\n",
       "      <td>10942311219215900</td>\n",
       "      <td>T10942311219205303</td>\n",
       "      <td>717AUP</td>\n",
       "      <td>DL1PC 6357</td>\n",
       "      <td>Masood Pur Village</td>\n",
       "      <td>Shiv Murti</td>\n",
       "      <td>31-DEC-2019 20:53:57</td>\n",
       "      <td>31-DEC-2019 22:23:18</td>\n",
       "      <td>5</td>\n",
       "      <td>1</td>\n",
       "      <td>...</td>\n",
       "      <td>21:59:23</td>\n",
       "      <td>2019-12-31 21:59:23</td>\n",
       "      <td>2019-12-31</td>\n",
       "      <td>Tuesday</td>\n",
       "      <td>21</td>\n",
       "      <td>12</td>\n",
       "      <td>(28.53398, 77.142404)</td>\n",
       "      <td>(28.53561, 77.112429)</td>\n",
       "      <td>28.525433</td>\n",
       "      <td>77.154483</td>\n",
       "    </tr>\n",
       "    <tr>\n",
       "      <th>1110128</th>\n",
       "      <td>10942311219215901</td>\n",
       "      <td>T10942311219205303</td>\n",
       "      <td>717AUP</td>\n",
       "      <td>DL1PC 6357</td>\n",
       "      <td>Masood Pur Village</td>\n",
       "      <td>Samalkha Village</td>\n",
       "      <td>31-DEC-2019 20:53:57</td>\n",
       "      <td>31-DEC-2019 22:23:18</td>\n",
       "      <td>10</td>\n",
       "      <td>1</td>\n",
       "      <td>...</td>\n",
       "      <td>21:59:40</td>\n",
       "      <td>2019-12-31 21:59:40</td>\n",
       "      <td>2019-12-31</td>\n",
       "      <td>Tuesday</td>\n",
       "      <td>21</td>\n",
       "      <td>12</td>\n",
       "      <td>(28.53398, 77.142404)</td>\n",
       "      <td>(28.534652, 77.090446)</td>\n",
       "      <td>28.525433</td>\n",
       "      <td>77.154483</td>\n",
       "    </tr>\n",
       "    <tr>\n",
       "      <th>1110129</th>\n",
       "      <td>10942311219215902</td>\n",
       "      <td>T10942311219205303</td>\n",
       "      <td>717AUP</td>\n",
       "      <td>DL1PC 6357</td>\n",
       "      <td>Masood Pur Village</td>\n",
       "      <td>Shiv Murti</td>\n",
       "      <td>31-DEC-2019 20:53:57</td>\n",
       "      <td>31-DEC-2019 22:23:18</td>\n",
       "      <td>5</td>\n",
       "      <td>1</td>\n",
       "      <td>...</td>\n",
       "      <td>21:59:48</td>\n",
       "      <td>2019-12-31 21:59:48</td>\n",
       "      <td>2019-12-31</td>\n",
       "      <td>Tuesday</td>\n",
       "      <td>21</td>\n",
       "      <td>12</td>\n",
       "      <td>(28.53398, 77.142404)</td>\n",
       "      <td>(28.53561, 77.112429)</td>\n",
       "      <td>28.525433</td>\n",
       "      <td>77.154483</td>\n",
       "    </tr>\n",
       "    <tr>\n",
       "      <th>1110130</th>\n",
       "      <td>10942311219215903</td>\n",
       "      <td>T10942311219205303</td>\n",
       "      <td>717AUP</td>\n",
       "      <td>DL1PC 6357</td>\n",
       "      <td>Masood Pur Village</td>\n",
       "      <td>Shiv Murti</td>\n",
       "      <td>31-DEC-2019 20:53:57</td>\n",
       "      <td>31-DEC-2019 22:23:18</td>\n",
       "      <td>5</td>\n",
       "      <td>1</td>\n",
       "      <td>...</td>\n",
       "      <td>21:59:52</td>\n",
       "      <td>2019-12-31 21:59:52</td>\n",
       "      <td>2019-12-31</td>\n",
       "      <td>Tuesday</td>\n",
       "      <td>21</td>\n",
       "      <td>12</td>\n",
       "      <td>(28.53398, 77.142404)</td>\n",
       "      <td>(28.53561, 77.112429)</td>\n",
       "      <td>28.525433</td>\n",
       "      <td>77.154483</td>\n",
       "    </tr>\n",
       "  </tbody>\n",
       "</table>\n",
       "<p>1393483 rows × 21 columns</p>\n",
       "</div>"
      ],
      "text/plain": [
       "                MESSAGE_ID             TRIP_ID ROUTENAME      BUS_ID  \\\n",
       "92376    11017010919051011  T11017010919051002    717AUP   DL1PC6498   \n",
       "92377    11017010919051012  T11017010919051002    717AUP   DL1PC6498   \n",
       "72599    11017010919051113  T11017010919051002    717AUP   DL1PC6498   \n",
       "92378    11017010919051114  T11017010919051002    717AUP   DL1PC6498   \n",
       "92379    11017010919051115  T11017010919051002    717AUP   DL1PC6498   \n",
       "...                    ...                 ...       ...         ...   \n",
       "1110114  10942311219215959  T10942311219205303    717AUP  DL1PC 6357   \n",
       "1110115  10942311219215900  T10942311219205303    717AUP  DL1PC 6357   \n",
       "1110128  10942311219215901  T10942311219205303    717AUP  DL1PC 6357   \n",
       "1110129  10942311219215902  T10942311219205303    717AUP  DL1PC 6357   \n",
       "1110130  10942311219215903  T10942311219205303    717AUP  DL1PC 6357   \n",
       "\n",
       "          ROUTE_ORIGIN_STOP ROUTE_DESTINATION_STOP       TRIP_START_TIME  \\\n",
       "92376       Badarpur Border           Saidul-A-Jab  01-SEP-2019 05:10:14   \n",
       "92377       Badarpur Border           Saidul-A-Jab  01-SEP-2019 05:10:14   \n",
       "72599      Jaitpur Crossing       Kapashera Border  01-SEP-2019 05:10:14   \n",
       "92378      Jaitpur Crossing           Saidul-A-Jab  01-SEP-2019 05:10:14   \n",
       "92379      Jaitpur Crossing           Saidul-A-Jab  01-SEP-2019 05:10:14   \n",
       "...                     ...                    ...                   ...   \n",
       "1110114  Vasant Kunj sec-B1             Shiv Murti  31-DEC-2019 20:53:57   \n",
       "1110115  Masood Pur Village             Shiv Murti  31-DEC-2019 20:53:57   \n",
       "1110128  Masood Pur Village       Samalkha Village  31-DEC-2019 20:53:57   \n",
       "1110129  Masood Pur Village             Shiv Murti  31-DEC-2019 20:53:57   \n",
       "1110130  Masood Pur Village             Shiv Murti  31-DEC-2019 20:53:57   \n",
       "\n",
       "                TRIP_END_TIME  AMOUNT  USER_COUNT  ... TICKET TIME  \\\n",
       "92376    01-SEP-2019 06:12:23      10           1  ...    05:10:21   \n",
       "92377    01-SEP-2019 06:12:23      10           1  ...    05:10:44   \n",
       "72599    01-SEP-2019 06:12:23      15           1  ...    05:11:08   \n",
       "92378    01-SEP-2019 06:12:23      10           1  ...    05:11:18   \n",
       "92379    01-SEP-2019 06:12:23      10           1  ...    05:11:25   \n",
       "...                       ...     ...         ...  ...         ...   \n",
       "1110114  31-DEC-2019 22:23:18       5           1  ...    21:59:10   \n",
       "1110115  31-DEC-2019 22:23:18       5           1  ...    21:59:23   \n",
       "1110128  31-DEC-2019 22:23:18      10           1  ...    21:59:40   \n",
       "1110129  31-DEC-2019 22:23:18       5           1  ...    21:59:48   \n",
       "1110130  31-DEC-2019 22:23:18       5           1  ...    21:59:52   \n",
       "\n",
       "                  date_time ticket_date      Day Hour  Month  \\\n",
       "92376   2019-09-01 05:10:21  2019-09-01   Sunday    5      9   \n",
       "92377   2019-09-01 05:10:44  2019-09-01   Sunday    5      9   \n",
       "72599   2019-09-01 05:11:08  2019-09-01   Sunday    5      9   \n",
       "92378   2019-09-01 05:11:18  2019-09-01   Sunday    5      9   \n",
       "92379   2019-09-01 05:11:25  2019-09-01   Sunday    5      9   \n",
       "...                     ...         ...      ...  ...    ...   \n",
       "1110114 2019-12-31 21:59:10  2019-12-31  Tuesday   21     12   \n",
       "1110115 2019-12-31 21:59:23  2019-12-31  Tuesday   21     12   \n",
       "1110128 2019-12-31 21:59:40  2019-12-31  Tuesday   21     12   \n",
       "1110129 2019-12-31 21:59:48  2019-12-31  Tuesday   21     12   \n",
       "1110130 2019-12-31 21:59:52  2019-12-31  Tuesday   21     12   \n",
       "\n",
       "                    Origin_cordinates         Dest_cordinates        lat  \\\n",
       "92376    (28.4927, 77.30381700000002)  (28.521142, 77.199972)  28.492700   \n",
       "92377    (28.4927, 77.30381700000002)  (28.521142, 77.199972)  28.492700   \n",
       "72599    (28.4927, 77.30381700000002)  (28.522481, 77.082442)  28.497217   \n",
       "92378    (28.4927, 77.30381700000002)  (28.521142, 77.199972)  28.497217   \n",
       "92379    (28.4927, 77.30381700000002)  (28.521142, 77.199972)  28.497217   \n",
       "...                               ...                     ...        ...   \n",
       "1110114         (28.53398, 77.142404)   (28.53561, 77.112429)  28.522167   \n",
       "1110115         (28.53398, 77.142404)   (28.53561, 77.112429)  28.525433   \n",
       "1110128         (28.53398, 77.142404)  (28.534652, 77.090446)  28.525433   \n",
       "1110129         (28.53398, 77.142404)   (28.53561, 77.112429)  28.525433   \n",
       "1110130         (28.53398, 77.142404)   (28.53561, 77.112429)  28.525433   \n",
       "\n",
       "              long  \n",
       "92376    77.303817  \n",
       "92377    77.303817  \n",
       "72599    77.302647  \n",
       "92378    77.302647  \n",
       "92379    77.302647  \n",
       "...            ...  \n",
       "1110114  77.157600  \n",
       "1110115  77.154483  \n",
       "1110128  77.154483  \n",
       "1110129  77.154483  \n",
       "1110130  77.154483  \n",
       "\n",
       "[1393483 rows x 21 columns]"
      ]
     },
     "execution_count": 42,
     "metadata": {},
     "output_type": "execute_result"
    }
   ],
   "source": [
    "route_data_pd.sort_values(by='date_time',inplace=True)\n",
    "route_data_pd"
   ]
  },
  {
   "cell_type": "code",
   "execution_count": 43,
   "id": "f5548bd6",
   "metadata": {},
   "outputs": [
    {
     "data": {
      "text/plain": [
       "array(['T11017010919051002', 'T12582010919051802', 'T11982010919052102',\n",
       "       ..., 'T10302311219200203', 'T11930311219200603',\n",
       "       'T10942311219205303'], dtype=object)"
      ]
     },
     "execution_count": 43,
     "metadata": {},
     "output_type": "execute_result"
    }
   ],
   "source": [
    "route_data_pd['TRIP_ID'].unique()"
   ]
  },
  {
   "cell_type": "code",
   "execution_count": 44,
   "id": "2691d988",
   "metadata": {},
   "outputs": [],
   "source": [
    "one_trip = route_data_pd[route_data_pd['TRIP_ID'] == route_data_pd['TRIP_ID'].unique()[20]]\n",
    "one_trip.sort_values(by='date_time',inplace=True)"
   ]
  },
  {
   "cell_type": "code",
   "execution_count": 45,
   "id": "d775e5a2",
   "metadata": {
    "scrolled": true
   },
   "outputs": [],
   "source": [
    "\n",
    "one_trip.reset_index(drop=True, inplace=True)\n",
    "# one_trip['lat'] = [i.replace('(','').replace(')','').split(',')[0] for i in one_trip['Origin_cordinates'].values]\n",
    "# one_trip['long'] = [i.replace('(','').replace(')','').split(',')[1] for i in one_trip['Origin_cordinates'].values]\n",
    "one_trip.drop(columns=['Origin_cordinates','Dest_cordinates'],inplace=True)"
   ]
  },
  {
   "cell_type": "code",
   "execution_count": 46,
   "id": "459d5f97",
   "metadata": {
    "scrolled": true
   },
   "outputs": [
    {
     "data": {
      "text/html": [
       "<div>\n",
       "<style scoped>\n",
       "    .dataframe tbody tr th:only-of-type {\n",
       "        vertical-align: middle;\n",
       "    }\n",
       "\n",
       "    .dataframe tbody tr th {\n",
       "        vertical-align: top;\n",
       "    }\n",
       "\n",
       "    .dataframe thead th {\n",
       "        text-align: right;\n",
       "    }\n",
       "</style>\n",
       "<table border=\"1\" class=\"dataframe\">\n",
       "  <thead>\n",
       "    <tr style=\"text-align: right;\">\n",
       "      <th></th>\n",
       "      <th>MESSAGE_ID</th>\n",
       "      <th>TRIP_ID</th>\n",
       "      <th>ROUTENAME</th>\n",
       "      <th>BUS_ID</th>\n",
       "      <th>ROUTE_ORIGIN_STOP</th>\n",
       "      <th>ROUTE_DESTINATION_STOP</th>\n",
       "      <th>TRIP_START_TIME</th>\n",
       "      <th>TRIP_END_TIME</th>\n",
       "      <th>AMOUNT</th>\n",
       "      <th>USER_COUNT</th>\n",
       "      <th>TICKET DATE</th>\n",
       "      <th>TICKET TIME</th>\n",
       "      <th>date_time</th>\n",
       "      <th>ticket_date</th>\n",
       "      <th>Day</th>\n",
       "      <th>Hour</th>\n",
       "      <th>Month</th>\n",
       "      <th>lat</th>\n",
       "      <th>long</th>\n",
       "    </tr>\n",
       "  </thead>\n",
       "  <tbody>\n",
       "    <tr>\n",
       "      <th>0</th>\n",
       "      <td>12437010919072221</td>\n",
       "      <td>T12437010919072002</td>\n",
       "      <td>717AUP</td>\n",
       "      <td>DL1P6349</td>\n",
       "      <td>Badarpur Border</td>\n",
       "      <td>Saidul-A-Jab</td>\n",
       "      <td>01-SEP-2019 07:20:04</td>\n",
       "      <td>01-SEP-2019 08:40:02</td>\n",
       "      <td>10</td>\n",
       "      <td>1</td>\n",
       "      <td>01/09/2019</td>\n",
       "      <td>07:22:17</td>\n",
       "      <td>2019-09-01 07:22:17</td>\n",
       "      <td>2019-09-01</td>\n",
       "      <td>Sunday</td>\n",
       "      <td>7</td>\n",
       "      <td>9</td>\n",
       "      <td>28.492700</td>\n",
       "      <td>77.303817</td>\n",
       "    </tr>\n",
       "    <tr>\n",
       "      <th>1</th>\n",
       "      <td>12437010919072723</td>\n",
       "      <td>T12437010919072002</td>\n",
       "      <td>717AUP</td>\n",
       "      <td>DL1P6349</td>\n",
       "      <td>Jaitpur Crossing</td>\n",
       "      <td>Kapashera Border</td>\n",
       "      <td>01-SEP-2019 07:20:04</td>\n",
       "      <td>01-SEP-2019 08:40:02</td>\n",
       "      <td>15</td>\n",
       "      <td>1</td>\n",
       "      <td>01/09/2019</td>\n",
       "      <td>07:27:01</td>\n",
       "      <td>2019-09-01 07:27:01</td>\n",
       "      <td>2019-09-01</td>\n",
       "      <td>Sunday</td>\n",
       "      <td>7</td>\n",
       "      <td>9</td>\n",
       "      <td>28.497217</td>\n",
       "      <td>77.302647</td>\n",
       "    </tr>\n",
       "    <tr>\n",
       "      <th>2</th>\n",
       "      <td>12437010919072724</td>\n",
       "      <td>T12437010919072002</td>\n",
       "      <td>717AUP</td>\n",
       "      <td>DL1P6349</td>\n",
       "      <td>Badarpur M B Road / Rajiv Gandhi Stadium</td>\n",
       "      <td>Kapashera Border</td>\n",
       "      <td>01-SEP-2019 07:20:04</td>\n",
       "      <td>01-SEP-2019 08:40:02</td>\n",
       "      <td>15</td>\n",
       "      <td>1</td>\n",
       "      <td>01/09/2019</td>\n",
       "      <td>07:27:32</td>\n",
       "      <td>2019-09-01 07:27:32</td>\n",
       "      <td>2019-09-01</td>\n",
       "      <td>Sunday</td>\n",
       "      <td>7</td>\n",
       "      <td>9</td>\n",
       "      <td>28.499178</td>\n",
       "      <td>77.299004</td>\n",
       "    </tr>\n",
       "    <tr>\n",
       "      <th>3</th>\n",
       "      <td>12437010919072725</td>\n",
       "      <td>T12437010919072002</td>\n",
       "      <td>717AUP</td>\n",
       "      <td>DL1P6349</td>\n",
       "      <td>Badarpur M B Road / Rajiv Gandhi Stadium</td>\n",
       "      <td>Kapashera Border</td>\n",
       "      <td>01-SEP-2019 07:20:04</td>\n",
       "      <td>01-SEP-2019 08:40:02</td>\n",
       "      <td>15</td>\n",
       "      <td>1</td>\n",
       "      <td>01/09/2019</td>\n",
       "      <td>07:27:57</td>\n",
       "      <td>2019-09-01 07:27:57</td>\n",
       "      <td>2019-09-01</td>\n",
       "      <td>Sunday</td>\n",
       "      <td>7</td>\n",
       "      <td>9</td>\n",
       "      <td>28.499178</td>\n",
       "      <td>77.299004</td>\n",
       "    </tr>\n",
       "    <tr>\n",
       "      <th>4</th>\n",
       "      <td>12437010919072826</td>\n",
       "      <td>T12437010919072002</td>\n",
       "      <td>717AUP</td>\n",
       "      <td>DL1P6349</td>\n",
       "      <td>Badarpur M B Road / Rajiv Gandhi Stadium</td>\n",
       "      <td>Kapashera Border</td>\n",
       "      <td>01-SEP-2019 07:20:04</td>\n",
       "      <td>01-SEP-2019 08:40:02</td>\n",
       "      <td>15</td>\n",
       "      <td>1</td>\n",
       "      <td>01/09/2019</td>\n",
       "      <td>07:28:04</td>\n",
       "      <td>2019-09-01 07:28:04</td>\n",
       "      <td>2019-09-01</td>\n",
       "      <td>Sunday</td>\n",
       "      <td>7</td>\n",
       "      <td>9</td>\n",
       "      <td>28.499178</td>\n",
       "      <td>77.299004</td>\n",
       "    </tr>\n",
       "    <tr>\n",
       "      <th>...</th>\n",
       "      <td>...</td>\n",
       "      <td>...</td>\n",
       "      <td>...</td>\n",
       "      <td>...</td>\n",
       "      <td>...</td>\n",
       "      <td>...</td>\n",
       "      <td>...</td>\n",
       "      <td>...</td>\n",
       "      <td>...</td>\n",
       "      <td>...</td>\n",
       "      <td>...</td>\n",
       "      <td>...</td>\n",
       "      <td>...</td>\n",
       "      <td>...</td>\n",
       "      <td>...</td>\n",
       "      <td>...</td>\n",
       "      <td>...</td>\n",
       "      <td>...</td>\n",
       "      <td>...</td>\n",
       "    </tr>\n",
       "    <tr>\n",
       "      <th>123</th>\n",
       "      <td>12437010919082646</td>\n",
       "      <td>T12437010919072002</td>\n",
       "      <td>717AUP</td>\n",
       "      <td>DL1P6349</td>\n",
       "      <td>Shiv Murti</td>\n",
       "      <td>Kapashera Border</td>\n",
       "      <td>01-SEP-2019 07:20:04</td>\n",
       "      <td>01-SEP-2019 08:40:02</td>\n",
       "      <td>10</td>\n",
       "      <td>1</td>\n",
       "      <td>01/09/2019</td>\n",
       "      <td>08:26:33</td>\n",
       "      <td>2019-09-01 08:26:33</td>\n",
       "      <td>2019-09-01</td>\n",
       "      <td>Sunday</td>\n",
       "      <td>8</td>\n",
       "      <td>9</td>\n",
       "      <td>28.535610</td>\n",
       "      <td>77.112429</td>\n",
       "    </tr>\n",
       "    <tr>\n",
       "      <th>124</th>\n",
       "      <td>12437010919082647</td>\n",
       "      <td>T12437010919072002</td>\n",
       "      <td>717AUP</td>\n",
       "      <td>DL1P6349</td>\n",
       "      <td>Shiv Murti</td>\n",
       "      <td>Kapashera Border</td>\n",
       "      <td>01-SEP-2019 07:20:04</td>\n",
       "      <td>01-SEP-2019 08:40:02</td>\n",
       "      <td>10</td>\n",
       "      <td>1</td>\n",
       "      <td>01/09/2019</td>\n",
       "      <td>08:26:35</td>\n",
       "      <td>2019-09-01 08:26:35</td>\n",
       "      <td>2019-09-01</td>\n",
       "      <td>Sunday</td>\n",
       "      <td>8</td>\n",
       "      <td>9</td>\n",
       "      <td>28.535610</td>\n",
       "      <td>77.112429</td>\n",
       "    </tr>\n",
       "    <tr>\n",
       "      <th>125</th>\n",
       "      <td>12437010919082648</td>\n",
       "      <td>T12437010919072002</td>\n",
       "      <td>717AUP</td>\n",
       "      <td>DL1P6349</td>\n",
       "      <td>Shiv Murti</td>\n",
       "      <td>Kapashera Border</td>\n",
       "      <td>01-SEP-2019 07:20:04</td>\n",
       "      <td>01-SEP-2019 08:40:02</td>\n",
       "      <td>10</td>\n",
       "      <td>1</td>\n",
       "      <td>01/09/2019</td>\n",
       "      <td>08:26:40</td>\n",
       "      <td>2019-09-01 08:26:40</td>\n",
       "      <td>2019-09-01</td>\n",
       "      <td>Sunday</td>\n",
       "      <td>8</td>\n",
       "      <td>9</td>\n",
       "      <td>28.535610</td>\n",
       "      <td>77.112429</td>\n",
       "    </tr>\n",
       "    <tr>\n",
       "      <th>126</th>\n",
       "      <td>12437010919082649</td>\n",
       "      <td>T12437010919072002</td>\n",
       "      <td>717AUP</td>\n",
       "      <td>DL1P6349</td>\n",
       "      <td>Shiv Murti</td>\n",
       "      <td>Kapashera Border</td>\n",
       "      <td>01-SEP-2019 07:20:04</td>\n",
       "      <td>01-SEP-2019 08:40:02</td>\n",
       "      <td>10</td>\n",
       "      <td>1</td>\n",
       "      <td>01/09/2019</td>\n",
       "      <td>08:26:43</td>\n",
       "      <td>2019-09-01 08:26:43</td>\n",
       "      <td>2019-09-01</td>\n",
       "      <td>Sunday</td>\n",
       "      <td>8</td>\n",
       "      <td>9</td>\n",
       "      <td>28.535610</td>\n",
       "      <td>77.112429</td>\n",
       "    </tr>\n",
       "    <tr>\n",
       "      <th>127</th>\n",
       "      <td>12437010919082951</td>\n",
       "      <td>T12437010919072002</td>\n",
       "      <td>717AUP</td>\n",
       "      <td>DL1P6349</td>\n",
       "      <td>Shiv Murti</td>\n",
       "      <td>Kapashera Border</td>\n",
       "      <td>01-SEP-2019 07:20:04</td>\n",
       "      <td>01-SEP-2019 08:40:02</td>\n",
       "      <td>10</td>\n",
       "      <td>1</td>\n",
       "      <td>01/09/2019</td>\n",
       "      <td>08:29:22</td>\n",
       "      <td>2019-09-01 08:29:22</td>\n",
       "      <td>2019-09-01</td>\n",
       "      <td>Sunday</td>\n",
       "      <td>8</td>\n",
       "      <td>9</td>\n",
       "      <td>28.535610</td>\n",
       "      <td>77.112429</td>\n",
       "    </tr>\n",
       "  </tbody>\n",
       "</table>\n",
       "<p>128 rows × 19 columns</p>\n",
       "</div>"
      ],
      "text/plain": [
       "            MESSAGE_ID             TRIP_ID ROUTENAME    BUS_ID  \\\n",
       "0    12437010919072221  T12437010919072002    717AUP  DL1P6349   \n",
       "1    12437010919072723  T12437010919072002    717AUP  DL1P6349   \n",
       "2    12437010919072724  T12437010919072002    717AUP  DL1P6349   \n",
       "3    12437010919072725  T12437010919072002    717AUP  DL1P6349   \n",
       "4    12437010919072826  T12437010919072002    717AUP  DL1P6349   \n",
       "..                 ...                 ...       ...       ...   \n",
       "123  12437010919082646  T12437010919072002    717AUP  DL1P6349   \n",
       "124  12437010919082647  T12437010919072002    717AUP  DL1P6349   \n",
       "125  12437010919082648  T12437010919072002    717AUP  DL1P6349   \n",
       "126  12437010919082649  T12437010919072002    717AUP  DL1P6349   \n",
       "127  12437010919082951  T12437010919072002    717AUP  DL1P6349   \n",
       "\n",
       "                            ROUTE_ORIGIN_STOP ROUTE_DESTINATION_STOP  \\\n",
       "0                             Badarpur Border           Saidul-A-Jab   \n",
       "1                            Jaitpur Crossing       Kapashera Border   \n",
       "2    Badarpur M B Road / Rajiv Gandhi Stadium       Kapashera Border   \n",
       "3    Badarpur M B Road / Rajiv Gandhi Stadium       Kapashera Border   \n",
       "4    Badarpur M B Road / Rajiv Gandhi Stadium       Kapashera Border   \n",
       "..                                        ...                    ...   \n",
       "123                                Shiv Murti       Kapashera Border   \n",
       "124                                Shiv Murti       Kapashera Border   \n",
       "125                                Shiv Murti       Kapashera Border   \n",
       "126                                Shiv Murti       Kapashera Border   \n",
       "127                                Shiv Murti       Kapashera Border   \n",
       "\n",
       "          TRIP_START_TIME         TRIP_END_TIME  AMOUNT  USER_COUNT  \\\n",
       "0    01-SEP-2019 07:20:04  01-SEP-2019 08:40:02      10           1   \n",
       "1    01-SEP-2019 07:20:04  01-SEP-2019 08:40:02      15           1   \n",
       "2    01-SEP-2019 07:20:04  01-SEP-2019 08:40:02      15           1   \n",
       "3    01-SEP-2019 07:20:04  01-SEP-2019 08:40:02      15           1   \n",
       "4    01-SEP-2019 07:20:04  01-SEP-2019 08:40:02      15           1   \n",
       "..                    ...                   ...     ...         ...   \n",
       "123  01-SEP-2019 07:20:04  01-SEP-2019 08:40:02      10           1   \n",
       "124  01-SEP-2019 07:20:04  01-SEP-2019 08:40:02      10           1   \n",
       "125  01-SEP-2019 07:20:04  01-SEP-2019 08:40:02      10           1   \n",
       "126  01-SEP-2019 07:20:04  01-SEP-2019 08:40:02      10           1   \n",
       "127  01-SEP-2019 07:20:04  01-SEP-2019 08:40:02      10           1   \n",
       "\n",
       "    TICKET DATE TICKET TIME           date_time ticket_date     Day  Hour  \\\n",
       "0    01/09/2019    07:22:17 2019-09-01 07:22:17  2019-09-01  Sunday     7   \n",
       "1    01/09/2019    07:27:01 2019-09-01 07:27:01  2019-09-01  Sunday     7   \n",
       "2    01/09/2019    07:27:32 2019-09-01 07:27:32  2019-09-01  Sunday     7   \n",
       "3    01/09/2019    07:27:57 2019-09-01 07:27:57  2019-09-01  Sunday     7   \n",
       "4    01/09/2019    07:28:04 2019-09-01 07:28:04  2019-09-01  Sunday     7   \n",
       "..          ...         ...                 ...         ...     ...   ...   \n",
       "123  01/09/2019    08:26:33 2019-09-01 08:26:33  2019-09-01  Sunday     8   \n",
       "124  01/09/2019    08:26:35 2019-09-01 08:26:35  2019-09-01  Sunday     8   \n",
       "125  01/09/2019    08:26:40 2019-09-01 08:26:40  2019-09-01  Sunday     8   \n",
       "126  01/09/2019    08:26:43 2019-09-01 08:26:43  2019-09-01  Sunday     8   \n",
       "127  01/09/2019    08:29:22 2019-09-01 08:29:22  2019-09-01  Sunday     8   \n",
       "\n",
       "     Month        lat       long  \n",
       "0        9  28.492700  77.303817  \n",
       "1        9  28.497217  77.302647  \n",
       "2        9  28.499178  77.299004  \n",
       "3        9  28.499178  77.299004  \n",
       "4        9  28.499178  77.299004  \n",
       "..     ...        ...        ...  \n",
       "123      9  28.535610  77.112429  \n",
       "124      9  28.535610  77.112429  \n",
       "125      9  28.535610  77.112429  \n",
       "126      9  28.535610  77.112429  \n",
       "127      9  28.535610  77.112429  \n",
       "\n",
       "[128 rows x 19 columns]"
      ]
     },
     "execution_count": 46,
     "metadata": {},
     "output_type": "execute_result"
    }
   ],
   "source": [
    "one_trip"
   ]
  },
  {
   "cell_type": "code",
   "execution_count": 47,
   "id": "479d14b4",
   "metadata": {},
   "outputs": [],
   "source": [
    "for i in range(1,len(one_trip)):\n",
    "    t1 = one_trip.iloc[0]['date_time']\n",
    "    t2 = one_trip.iloc[i]['date_time']\n",
    "    one_trip.at[i,'time_from_start'] = t2-t1\n",
    "one_trip.at[0,'time_from_start'] = 0"
   ]
  },
  {
   "cell_type": "code",
   "execution_count": 48,
   "id": "2c696184",
   "metadata": {
    "scrolled": true
   },
   "outputs": [
    {
     "data": {
      "text/html": [
       "<div>\n",
       "<style scoped>\n",
       "    .dataframe tbody tr th:only-of-type {\n",
       "        vertical-align: middle;\n",
       "    }\n",
       "\n",
       "    .dataframe tbody tr th {\n",
       "        vertical-align: top;\n",
       "    }\n",
       "\n",
       "    .dataframe thead th {\n",
       "        text-align: right;\n",
       "    }\n",
       "</style>\n",
       "<table border=\"1\" class=\"dataframe\">\n",
       "  <thead>\n",
       "    <tr style=\"text-align: right;\">\n",
       "      <th></th>\n",
       "      <th>MESSAGE_ID</th>\n",
       "      <th>TRIP_ID</th>\n",
       "      <th>ROUTENAME</th>\n",
       "      <th>BUS_ID</th>\n",
       "      <th>ROUTE_ORIGIN_STOP</th>\n",
       "      <th>ROUTE_DESTINATION_STOP</th>\n",
       "      <th>TRIP_START_TIME</th>\n",
       "      <th>TRIP_END_TIME</th>\n",
       "      <th>AMOUNT</th>\n",
       "      <th>USER_COUNT</th>\n",
       "      <th>TICKET DATE</th>\n",
       "      <th>TICKET TIME</th>\n",
       "      <th>date_time</th>\n",
       "      <th>ticket_date</th>\n",
       "      <th>Day</th>\n",
       "      <th>Hour</th>\n",
       "      <th>Month</th>\n",
       "      <th>lat</th>\n",
       "      <th>long</th>\n",
       "      <th>time_from_start</th>\n",
       "    </tr>\n",
       "  </thead>\n",
       "  <tbody>\n",
       "    <tr>\n",
       "      <th>0</th>\n",
       "      <td>12437010919072221</td>\n",
       "      <td>T12437010919072002</td>\n",
       "      <td>717AUP</td>\n",
       "      <td>DL1P6349</td>\n",
       "      <td>Badarpur Border</td>\n",
       "      <td>Saidul-A-Jab</td>\n",
       "      <td>01-SEP-2019 07:20:04</td>\n",
       "      <td>01-SEP-2019 08:40:02</td>\n",
       "      <td>10</td>\n",
       "      <td>1</td>\n",
       "      <td>01/09/2019</td>\n",
       "      <td>07:22:17</td>\n",
       "      <td>2019-09-01 07:22:17</td>\n",
       "      <td>2019-09-01</td>\n",
       "      <td>Sunday</td>\n",
       "      <td>7</td>\n",
       "      <td>9</td>\n",
       "      <td>28.492700</td>\n",
       "      <td>77.303817</td>\n",
       "      <td>0</td>\n",
       "    </tr>\n",
       "    <tr>\n",
       "      <th>1</th>\n",
       "      <td>12437010919072723</td>\n",
       "      <td>T12437010919072002</td>\n",
       "      <td>717AUP</td>\n",
       "      <td>DL1P6349</td>\n",
       "      <td>Jaitpur Crossing</td>\n",
       "      <td>Kapashera Border</td>\n",
       "      <td>01-SEP-2019 07:20:04</td>\n",
       "      <td>01-SEP-2019 08:40:02</td>\n",
       "      <td>15</td>\n",
       "      <td>1</td>\n",
       "      <td>01/09/2019</td>\n",
       "      <td>07:27:01</td>\n",
       "      <td>2019-09-01 07:27:01</td>\n",
       "      <td>2019-09-01</td>\n",
       "      <td>Sunday</td>\n",
       "      <td>7</td>\n",
       "      <td>9</td>\n",
       "      <td>28.497217</td>\n",
       "      <td>77.302647</td>\n",
       "      <td>0 days 00:04:44</td>\n",
       "    </tr>\n",
       "    <tr>\n",
       "      <th>2</th>\n",
       "      <td>12437010919072724</td>\n",
       "      <td>T12437010919072002</td>\n",
       "      <td>717AUP</td>\n",
       "      <td>DL1P6349</td>\n",
       "      <td>Badarpur M B Road / Rajiv Gandhi Stadium</td>\n",
       "      <td>Kapashera Border</td>\n",
       "      <td>01-SEP-2019 07:20:04</td>\n",
       "      <td>01-SEP-2019 08:40:02</td>\n",
       "      <td>15</td>\n",
       "      <td>1</td>\n",
       "      <td>01/09/2019</td>\n",
       "      <td>07:27:32</td>\n",
       "      <td>2019-09-01 07:27:32</td>\n",
       "      <td>2019-09-01</td>\n",
       "      <td>Sunday</td>\n",
       "      <td>7</td>\n",
       "      <td>9</td>\n",
       "      <td>28.499178</td>\n",
       "      <td>77.299004</td>\n",
       "      <td>0 days 00:05:15</td>\n",
       "    </tr>\n",
       "    <tr>\n",
       "      <th>3</th>\n",
       "      <td>12437010919072725</td>\n",
       "      <td>T12437010919072002</td>\n",
       "      <td>717AUP</td>\n",
       "      <td>DL1P6349</td>\n",
       "      <td>Badarpur M B Road / Rajiv Gandhi Stadium</td>\n",
       "      <td>Kapashera Border</td>\n",
       "      <td>01-SEP-2019 07:20:04</td>\n",
       "      <td>01-SEP-2019 08:40:02</td>\n",
       "      <td>15</td>\n",
       "      <td>1</td>\n",
       "      <td>01/09/2019</td>\n",
       "      <td>07:27:57</td>\n",
       "      <td>2019-09-01 07:27:57</td>\n",
       "      <td>2019-09-01</td>\n",
       "      <td>Sunday</td>\n",
       "      <td>7</td>\n",
       "      <td>9</td>\n",
       "      <td>28.499178</td>\n",
       "      <td>77.299004</td>\n",
       "      <td>0 days 00:05:40</td>\n",
       "    </tr>\n",
       "    <tr>\n",
       "      <th>4</th>\n",
       "      <td>12437010919072826</td>\n",
       "      <td>T12437010919072002</td>\n",
       "      <td>717AUP</td>\n",
       "      <td>DL1P6349</td>\n",
       "      <td>Badarpur M B Road / Rajiv Gandhi Stadium</td>\n",
       "      <td>Kapashera Border</td>\n",
       "      <td>01-SEP-2019 07:20:04</td>\n",
       "      <td>01-SEP-2019 08:40:02</td>\n",
       "      <td>15</td>\n",
       "      <td>1</td>\n",
       "      <td>01/09/2019</td>\n",
       "      <td>07:28:04</td>\n",
       "      <td>2019-09-01 07:28:04</td>\n",
       "      <td>2019-09-01</td>\n",
       "      <td>Sunday</td>\n",
       "      <td>7</td>\n",
       "      <td>9</td>\n",
       "      <td>28.499178</td>\n",
       "      <td>77.299004</td>\n",
       "      <td>0 days 00:05:47</td>\n",
       "    </tr>\n",
       "    <tr>\n",
       "      <th>...</th>\n",
       "      <td>...</td>\n",
       "      <td>...</td>\n",
       "      <td>...</td>\n",
       "      <td>...</td>\n",
       "      <td>...</td>\n",
       "      <td>...</td>\n",
       "      <td>...</td>\n",
       "      <td>...</td>\n",
       "      <td>...</td>\n",
       "      <td>...</td>\n",
       "      <td>...</td>\n",
       "      <td>...</td>\n",
       "      <td>...</td>\n",
       "      <td>...</td>\n",
       "      <td>...</td>\n",
       "      <td>...</td>\n",
       "      <td>...</td>\n",
       "      <td>...</td>\n",
       "      <td>...</td>\n",
       "      <td>...</td>\n",
       "    </tr>\n",
       "    <tr>\n",
       "      <th>123</th>\n",
       "      <td>12437010919082646</td>\n",
       "      <td>T12437010919072002</td>\n",
       "      <td>717AUP</td>\n",
       "      <td>DL1P6349</td>\n",
       "      <td>Shiv Murti</td>\n",
       "      <td>Kapashera Border</td>\n",
       "      <td>01-SEP-2019 07:20:04</td>\n",
       "      <td>01-SEP-2019 08:40:02</td>\n",
       "      <td>10</td>\n",
       "      <td>1</td>\n",
       "      <td>01/09/2019</td>\n",
       "      <td>08:26:33</td>\n",
       "      <td>2019-09-01 08:26:33</td>\n",
       "      <td>2019-09-01</td>\n",
       "      <td>Sunday</td>\n",
       "      <td>8</td>\n",
       "      <td>9</td>\n",
       "      <td>28.535610</td>\n",
       "      <td>77.112429</td>\n",
       "      <td>0 days 01:04:16</td>\n",
       "    </tr>\n",
       "    <tr>\n",
       "      <th>124</th>\n",
       "      <td>12437010919082647</td>\n",
       "      <td>T12437010919072002</td>\n",
       "      <td>717AUP</td>\n",
       "      <td>DL1P6349</td>\n",
       "      <td>Shiv Murti</td>\n",
       "      <td>Kapashera Border</td>\n",
       "      <td>01-SEP-2019 07:20:04</td>\n",
       "      <td>01-SEP-2019 08:40:02</td>\n",
       "      <td>10</td>\n",
       "      <td>1</td>\n",
       "      <td>01/09/2019</td>\n",
       "      <td>08:26:35</td>\n",
       "      <td>2019-09-01 08:26:35</td>\n",
       "      <td>2019-09-01</td>\n",
       "      <td>Sunday</td>\n",
       "      <td>8</td>\n",
       "      <td>9</td>\n",
       "      <td>28.535610</td>\n",
       "      <td>77.112429</td>\n",
       "      <td>0 days 01:04:18</td>\n",
       "    </tr>\n",
       "    <tr>\n",
       "      <th>125</th>\n",
       "      <td>12437010919082648</td>\n",
       "      <td>T12437010919072002</td>\n",
       "      <td>717AUP</td>\n",
       "      <td>DL1P6349</td>\n",
       "      <td>Shiv Murti</td>\n",
       "      <td>Kapashera Border</td>\n",
       "      <td>01-SEP-2019 07:20:04</td>\n",
       "      <td>01-SEP-2019 08:40:02</td>\n",
       "      <td>10</td>\n",
       "      <td>1</td>\n",
       "      <td>01/09/2019</td>\n",
       "      <td>08:26:40</td>\n",
       "      <td>2019-09-01 08:26:40</td>\n",
       "      <td>2019-09-01</td>\n",
       "      <td>Sunday</td>\n",
       "      <td>8</td>\n",
       "      <td>9</td>\n",
       "      <td>28.535610</td>\n",
       "      <td>77.112429</td>\n",
       "      <td>0 days 01:04:23</td>\n",
       "    </tr>\n",
       "    <tr>\n",
       "      <th>126</th>\n",
       "      <td>12437010919082649</td>\n",
       "      <td>T12437010919072002</td>\n",
       "      <td>717AUP</td>\n",
       "      <td>DL1P6349</td>\n",
       "      <td>Shiv Murti</td>\n",
       "      <td>Kapashera Border</td>\n",
       "      <td>01-SEP-2019 07:20:04</td>\n",
       "      <td>01-SEP-2019 08:40:02</td>\n",
       "      <td>10</td>\n",
       "      <td>1</td>\n",
       "      <td>01/09/2019</td>\n",
       "      <td>08:26:43</td>\n",
       "      <td>2019-09-01 08:26:43</td>\n",
       "      <td>2019-09-01</td>\n",
       "      <td>Sunday</td>\n",
       "      <td>8</td>\n",
       "      <td>9</td>\n",
       "      <td>28.535610</td>\n",
       "      <td>77.112429</td>\n",
       "      <td>0 days 01:04:26</td>\n",
       "    </tr>\n",
       "    <tr>\n",
       "      <th>127</th>\n",
       "      <td>12437010919082951</td>\n",
       "      <td>T12437010919072002</td>\n",
       "      <td>717AUP</td>\n",
       "      <td>DL1P6349</td>\n",
       "      <td>Shiv Murti</td>\n",
       "      <td>Kapashera Border</td>\n",
       "      <td>01-SEP-2019 07:20:04</td>\n",
       "      <td>01-SEP-2019 08:40:02</td>\n",
       "      <td>10</td>\n",
       "      <td>1</td>\n",
       "      <td>01/09/2019</td>\n",
       "      <td>08:29:22</td>\n",
       "      <td>2019-09-01 08:29:22</td>\n",
       "      <td>2019-09-01</td>\n",
       "      <td>Sunday</td>\n",
       "      <td>8</td>\n",
       "      <td>9</td>\n",
       "      <td>28.535610</td>\n",
       "      <td>77.112429</td>\n",
       "      <td>0 days 01:07:05</td>\n",
       "    </tr>\n",
       "  </tbody>\n",
       "</table>\n",
       "<p>128 rows × 20 columns</p>\n",
       "</div>"
      ],
      "text/plain": [
       "            MESSAGE_ID             TRIP_ID ROUTENAME    BUS_ID  \\\n",
       "0    12437010919072221  T12437010919072002    717AUP  DL1P6349   \n",
       "1    12437010919072723  T12437010919072002    717AUP  DL1P6349   \n",
       "2    12437010919072724  T12437010919072002    717AUP  DL1P6349   \n",
       "3    12437010919072725  T12437010919072002    717AUP  DL1P6349   \n",
       "4    12437010919072826  T12437010919072002    717AUP  DL1P6349   \n",
       "..                 ...                 ...       ...       ...   \n",
       "123  12437010919082646  T12437010919072002    717AUP  DL1P6349   \n",
       "124  12437010919082647  T12437010919072002    717AUP  DL1P6349   \n",
       "125  12437010919082648  T12437010919072002    717AUP  DL1P6349   \n",
       "126  12437010919082649  T12437010919072002    717AUP  DL1P6349   \n",
       "127  12437010919082951  T12437010919072002    717AUP  DL1P6349   \n",
       "\n",
       "                            ROUTE_ORIGIN_STOP ROUTE_DESTINATION_STOP  \\\n",
       "0                             Badarpur Border           Saidul-A-Jab   \n",
       "1                            Jaitpur Crossing       Kapashera Border   \n",
       "2    Badarpur M B Road / Rajiv Gandhi Stadium       Kapashera Border   \n",
       "3    Badarpur M B Road / Rajiv Gandhi Stadium       Kapashera Border   \n",
       "4    Badarpur M B Road / Rajiv Gandhi Stadium       Kapashera Border   \n",
       "..                                        ...                    ...   \n",
       "123                                Shiv Murti       Kapashera Border   \n",
       "124                                Shiv Murti       Kapashera Border   \n",
       "125                                Shiv Murti       Kapashera Border   \n",
       "126                                Shiv Murti       Kapashera Border   \n",
       "127                                Shiv Murti       Kapashera Border   \n",
       "\n",
       "          TRIP_START_TIME         TRIP_END_TIME  AMOUNT  USER_COUNT  \\\n",
       "0    01-SEP-2019 07:20:04  01-SEP-2019 08:40:02      10           1   \n",
       "1    01-SEP-2019 07:20:04  01-SEP-2019 08:40:02      15           1   \n",
       "2    01-SEP-2019 07:20:04  01-SEP-2019 08:40:02      15           1   \n",
       "3    01-SEP-2019 07:20:04  01-SEP-2019 08:40:02      15           1   \n",
       "4    01-SEP-2019 07:20:04  01-SEP-2019 08:40:02      15           1   \n",
       "..                    ...                   ...     ...         ...   \n",
       "123  01-SEP-2019 07:20:04  01-SEP-2019 08:40:02      10           1   \n",
       "124  01-SEP-2019 07:20:04  01-SEP-2019 08:40:02      10           1   \n",
       "125  01-SEP-2019 07:20:04  01-SEP-2019 08:40:02      10           1   \n",
       "126  01-SEP-2019 07:20:04  01-SEP-2019 08:40:02      10           1   \n",
       "127  01-SEP-2019 07:20:04  01-SEP-2019 08:40:02      10           1   \n",
       "\n",
       "    TICKET DATE TICKET TIME           date_time ticket_date     Day  Hour  \\\n",
       "0    01/09/2019    07:22:17 2019-09-01 07:22:17  2019-09-01  Sunday     7   \n",
       "1    01/09/2019    07:27:01 2019-09-01 07:27:01  2019-09-01  Sunday     7   \n",
       "2    01/09/2019    07:27:32 2019-09-01 07:27:32  2019-09-01  Sunday     7   \n",
       "3    01/09/2019    07:27:57 2019-09-01 07:27:57  2019-09-01  Sunday     7   \n",
       "4    01/09/2019    07:28:04 2019-09-01 07:28:04  2019-09-01  Sunday     7   \n",
       "..          ...         ...                 ...         ...     ...   ...   \n",
       "123  01/09/2019    08:26:33 2019-09-01 08:26:33  2019-09-01  Sunday     8   \n",
       "124  01/09/2019    08:26:35 2019-09-01 08:26:35  2019-09-01  Sunday     8   \n",
       "125  01/09/2019    08:26:40 2019-09-01 08:26:40  2019-09-01  Sunday     8   \n",
       "126  01/09/2019    08:26:43 2019-09-01 08:26:43  2019-09-01  Sunday     8   \n",
       "127  01/09/2019    08:29:22 2019-09-01 08:29:22  2019-09-01  Sunday     8   \n",
       "\n",
       "     Month        lat       long  time_from_start  \n",
       "0        9  28.492700  77.303817                0  \n",
       "1        9  28.497217  77.302647  0 days 00:04:44  \n",
       "2        9  28.499178  77.299004  0 days 00:05:15  \n",
       "3        9  28.499178  77.299004  0 days 00:05:40  \n",
       "4        9  28.499178  77.299004  0 days 00:05:47  \n",
       "..     ...        ...        ...              ...  \n",
       "123      9  28.535610  77.112429  0 days 01:04:16  \n",
       "124      9  28.535610  77.112429  0 days 01:04:18  \n",
       "125      9  28.535610  77.112429  0 days 01:04:23  \n",
       "126      9  28.535610  77.112429  0 days 01:04:26  \n",
       "127      9  28.535610  77.112429  0 days 01:07:05  \n",
       "\n",
       "[128 rows x 20 columns]"
      ]
     },
     "execution_count": 48,
     "metadata": {},
     "output_type": "execute_result"
    }
   ],
   "source": [
    "# one_trip"
   ]
  },
  {
   "cell_type": "code",
   "execution_count": 49,
   "id": "3f72e68c",
   "metadata": {},
   "outputs": [],
   "source": [
    "# one_trip.info()"
   ]
  },
  {
   "cell_type": "code",
   "execution_count": 50,
   "id": "ab6b4e64",
   "metadata": {},
   "outputs": [],
   "source": [
    "for i in range(1,len(one_trip)):\n",
    "    lat1 = (one_trip.iloc[i-1]['lat'])\n",
    "    long1 = (one_trip.iloc[i-1]['long'])\n",
    "    \n",
    "    lat2 = (one_trip.iloc[i]['lat'])\n",
    "    long2 = (one_trip.iloc[i]['long'])\n",
    "    \n",
    "    dist = haversine(long1,lat1,long2,lat2)\n",
    "    one_trip.at[i,'between_stop_distance'] = dist\n",
    "one_trip.at[0,'between_stop_distance'] = 0"
   ]
  },
  {
   "cell_type": "code",
   "execution_count": 251,
   "id": "b47198d4",
   "metadata": {},
   "outputs": [
    {
     "data": {
      "text/html": [
       "<div>\n",
       "<style scoped>\n",
       "    .dataframe tbody tr th:only-of-type {\n",
       "        vertical-align: middle;\n",
       "    }\n",
       "\n",
       "    .dataframe tbody tr th {\n",
       "        vertical-align: top;\n",
       "    }\n",
       "\n",
       "    .dataframe thead th {\n",
       "        text-align: right;\n",
       "    }\n",
       "</style>\n",
       "<table border=\"1\" class=\"dataframe\">\n",
       "  <thead>\n",
       "    <tr style=\"text-align: right;\">\n",
       "      <th></th>\n",
       "      <th>MESSAGE_ID</th>\n",
       "      <th>TRIP_ID</th>\n",
       "      <th>ROUTENAME</th>\n",
       "      <th>BUS_ID</th>\n",
       "      <th>ROUTE_ORIGIN_STOP</th>\n",
       "      <th>ROUTE_DESTINATION_STOP</th>\n",
       "      <th>TRIP_START_TIME</th>\n",
       "      <th>TRIP_END_TIME</th>\n",
       "      <th>AMOUNT</th>\n",
       "      <th>USER_COUNT</th>\n",
       "      <th>...</th>\n",
       "      <th>date_time</th>\n",
       "      <th>ticket_date</th>\n",
       "      <th>Day</th>\n",
       "      <th>Hour</th>\n",
       "      <th>Month</th>\n",
       "      <th>lat</th>\n",
       "      <th>long</th>\n",
       "      <th>time_from_start</th>\n",
       "      <th>between_stop_distance</th>\n",
       "      <th>dist_from_start</th>\n",
       "    </tr>\n",
       "  </thead>\n",
       "  <tbody>\n",
       "    <tr>\n",
       "      <th>0</th>\n",
       "      <td>12437010919072221</td>\n",
       "      <td>T12437010919072002</td>\n",
       "      <td>717AUP</td>\n",
       "      <td>DL1P6349</td>\n",
       "      <td>Badarpur Border</td>\n",
       "      <td>Saidul-A-Jab</td>\n",
       "      <td>01-SEP-2019 07:20:04</td>\n",
       "      <td>01-SEP-2019 08:40:02</td>\n",
       "      <td>10</td>\n",
       "      <td>1</td>\n",
       "      <td>...</td>\n",
       "      <td>2019-09-01 07:22:17</td>\n",
       "      <td>2019-09-01</td>\n",
       "      <td>Sunday</td>\n",
       "      <td>7</td>\n",
       "      <td>9</td>\n",
       "      <td>28.492700</td>\n",
       "      <td>77.303817</td>\n",
       "      <td>0</td>\n",
       "      <td>0.000000</td>\n",
       "      <td>0.000000</td>\n",
       "    </tr>\n",
       "    <tr>\n",
       "      <th>1</th>\n",
       "      <td>12437010919072723</td>\n",
       "      <td>T12437010919072002</td>\n",
       "      <td>717AUP</td>\n",
       "      <td>DL1P6349</td>\n",
       "      <td>Jaitpur Crossing</td>\n",
       "      <td>Kapashera Border</td>\n",
       "      <td>01-SEP-2019 07:20:04</td>\n",
       "      <td>01-SEP-2019 08:40:02</td>\n",
       "      <td>15</td>\n",
       "      <td>1</td>\n",
       "      <td>...</td>\n",
       "      <td>2019-09-01 07:27:01</td>\n",
       "      <td>2019-09-01</td>\n",
       "      <td>Sunday</td>\n",
       "      <td>7</td>\n",
       "      <td>9</td>\n",
       "      <td>28.497217</td>\n",
       "      <td>77.302647</td>\n",
       "      <td>0 days 00:04:44</td>\n",
       "      <td>0.515117</td>\n",
       "      <td>0.515117</td>\n",
       "    </tr>\n",
       "    <tr>\n",
       "      <th>2</th>\n",
       "      <td>12437010919072724</td>\n",
       "      <td>T12437010919072002</td>\n",
       "      <td>717AUP</td>\n",
       "      <td>DL1P6349</td>\n",
       "      <td>Badarpur M B Road / Rajiv Gandhi Stadium</td>\n",
       "      <td>Kapashera Border</td>\n",
       "      <td>01-SEP-2019 07:20:04</td>\n",
       "      <td>01-SEP-2019 08:40:02</td>\n",
       "      <td>15</td>\n",
       "      <td>1</td>\n",
       "      <td>...</td>\n",
       "      <td>2019-09-01 07:27:32</td>\n",
       "      <td>2019-09-01</td>\n",
       "      <td>Sunday</td>\n",
       "      <td>7</td>\n",
       "      <td>9</td>\n",
       "      <td>28.499178</td>\n",
       "      <td>77.299004</td>\n",
       "      <td>0 days 00:05:15</td>\n",
       "      <td>0.417472</td>\n",
       "      <td>0.932590</td>\n",
       "    </tr>\n",
       "    <tr>\n",
       "      <th>3</th>\n",
       "      <td>12437010919072725</td>\n",
       "      <td>T12437010919072002</td>\n",
       "      <td>717AUP</td>\n",
       "      <td>DL1P6349</td>\n",
       "      <td>Badarpur M B Road / Rajiv Gandhi Stadium</td>\n",
       "      <td>Kapashera Border</td>\n",
       "      <td>01-SEP-2019 07:20:04</td>\n",
       "      <td>01-SEP-2019 08:40:02</td>\n",
       "      <td>15</td>\n",
       "      <td>1</td>\n",
       "      <td>...</td>\n",
       "      <td>2019-09-01 07:27:57</td>\n",
       "      <td>2019-09-01</td>\n",
       "      <td>Sunday</td>\n",
       "      <td>7</td>\n",
       "      <td>9</td>\n",
       "      <td>28.499178</td>\n",
       "      <td>77.299004</td>\n",
       "      <td>0 days 00:05:40</td>\n",
       "      <td>0.000000</td>\n",
       "      <td>0.932590</td>\n",
       "    </tr>\n",
       "    <tr>\n",
       "      <th>4</th>\n",
       "      <td>12437010919072826</td>\n",
       "      <td>T12437010919072002</td>\n",
       "      <td>717AUP</td>\n",
       "      <td>DL1P6349</td>\n",
       "      <td>Badarpur M B Road / Rajiv Gandhi Stadium</td>\n",
       "      <td>Kapashera Border</td>\n",
       "      <td>01-SEP-2019 07:20:04</td>\n",
       "      <td>01-SEP-2019 08:40:02</td>\n",
       "      <td>15</td>\n",
       "      <td>1</td>\n",
       "      <td>...</td>\n",
       "      <td>2019-09-01 07:28:04</td>\n",
       "      <td>2019-09-01</td>\n",
       "      <td>Sunday</td>\n",
       "      <td>7</td>\n",
       "      <td>9</td>\n",
       "      <td>28.499178</td>\n",
       "      <td>77.299004</td>\n",
       "      <td>0 days 00:05:47</td>\n",
       "      <td>0.000000</td>\n",
       "      <td>0.932590</td>\n",
       "    </tr>\n",
       "    <tr>\n",
       "      <th>...</th>\n",
       "      <td>...</td>\n",
       "      <td>...</td>\n",
       "      <td>...</td>\n",
       "      <td>...</td>\n",
       "      <td>...</td>\n",
       "      <td>...</td>\n",
       "      <td>...</td>\n",
       "      <td>...</td>\n",
       "      <td>...</td>\n",
       "      <td>...</td>\n",
       "      <td>...</td>\n",
       "      <td>...</td>\n",
       "      <td>...</td>\n",
       "      <td>...</td>\n",
       "      <td>...</td>\n",
       "      <td>...</td>\n",
       "      <td>...</td>\n",
       "      <td>...</td>\n",
       "      <td>...</td>\n",
       "      <td>...</td>\n",
       "      <td>...</td>\n",
       "    </tr>\n",
       "    <tr>\n",
       "      <th>123</th>\n",
       "      <td>12437010919082646</td>\n",
       "      <td>T12437010919072002</td>\n",
       "      <td>717AUP</td>\n",
       "      <td>DL1P6349</td>\n",
       "      <td>Shiv Murti</td>\n",
       "      <td>Kapashera Border</td>\n",
       "      <td>01-SEP-2019 07:20:04</td>\n",
       "      <td>01-SEP-2019 08:40:02</td>\n",
       "      <td>10</td>\n",
       "      <td>1</td>\n",
       "      <td>...</td>\n",
       "      <td>2019-09-01 08:26:33</td>\n",
       "      <td>2019-09-01</td>\n",
       "      <td>Sunday</td>\n",
       "      <td>8</td>\n",
       "      <td>9</td>\n",
       "      <td>28.535610</td>\n",
       "      <td>77.112429</td>\n",
       "      <td>0 days 01:04:16</td>\n",
       "      <td>0.000000</td>\n",
       "      <td>25.652561</td>\n",
       "    </tr>\n",
       "    <tr>\n",
       "      <th>124</th>\n",
       "      <td>12437010919082647</td>\n",
       "      <td>T12437010919072002</td>\n",
       "      <td>717AUP</td>\n",
       "      <td>DL1P6349</td>\n",
       "      <td>Shiv Murti</td>\n",
       "      <td>Kapashera Border</td>\n",
       "      <td>01-SEP-2019 07:20:04</td>\n",
       "      <td>01-SEP-2019 08:40:02</td>\n",
       "      <td>10</td>\n",
       "      <td>1</td>\n",
       "      <td>...</td>\n",
       "      <td>2019-09-01 08:26:35</td>\n",
       "      <td>2019-09-01</td>\n",
       "      <td>Sunday</td>\n",
       "      <td>8</td>\n",
       "      <td>9</td>\n",
       "      <td>28.535610</td>\n",
       "      <td>77.112429</td>\n",
       "      <td>0 days 01:04:18</td>\n",
       "      <td>0.000000</td>\n",
       "      <td>25.652561</td>\n",
       "    </tr>\n",
       "    <tr>\n",
       "      <th>125</th>\n",
       "      <td>12437010919082648</td>\n",
       "      <td>T12437010919072002</td>\n",
       "      <td>717AUP</td>\n",
       "      <td>DL1P6349</td>\n",
       "      <td>Shiv Murti</td>\n",
       "      <td>Kapashera Border</td>\n",
       "      <td>01-SEP-2019 07:20:04</td>\n",
       "      <td>01-SEP-2019 08:40:02</td>\n",
       "      <td>10</td>\n",
       "      <td>1</td>\n",
       "      <td>...</td>\n",
       "      <td>2019-09-01 08:26:40</td>\n",
       "      <td>2019-09-01</td>\n",
       "      <td>Sunday</td>\n",
       "      <td>8</td>\n",
       "      <td>9</td>\n",
       "      <td>28.535610</td>\n",
       "      <td>77.112429</td>\n",
       "      <td>0 days 01:04:23</td>\n",
       "      <td>0.000000</td>\n",
       "      <td>25.652561</td>\n",
       "    </tr>\n",
       "    <tr>\n",
       "      <th>126</th>\n",
       "      <td>12437010919082649</td>\n",
       "      <td>T12437010919072002</td>\n",
       "      <td>717AUP</td>\n",
       "      <td>DL1P6349</td>\n",
       "      <td>Shiv Murti</td>\n",
       "      <td>Kapashera Border</td>\n",
       "      <td>01-SEP-2019 07:20:04</td>\n",
       "      <td>01-SEP-2019 08:40:02</td>\n",
       "      <td>10</td>\n",
       "      <td>1</td>\n",
       "      <td>...</td>\n",
       "      <td>2019-09-01 08:26:43</td>\n",
       "      <td>2019-09-01</td>\n",
       "      <td>Sunday</td>\n",
       "      <td>8</td>\n",
       "      <td>9</td>\n",
       "      <td>28.535610</td>\n",
       "      <td>77.112429</td>\n",
       "      <td>0 days 01:04:26</td>\n",
       "      <td>0.000000</td>\n",
       "      <td>25.652561</td>\n",
       "    </tr>\n",
       "    <tr>\n",
       "      <th>127</th>\n",
       "      <td>12437010919082951</td>\n",
       "      <td>T12437010919072002</td>\n",
       "      <td>717AUP</td>\n",
       "      <td>DL1P6349</td>\n",
       "      <td>Shiv Murti</td>\n",
       "      <td>Kapashera Border</td>\n",
       "      <td>01-SEP-2019 07:20:04</td>\n",
       "      <td>01-SEP-2019 08:40:02</td>\n",
       "      <td>10</td>\n",
       "      <td>1</td>\n",
       "      <td>...</td>\n",
       "      <td>2019-09-01 08:29:22</td>\n",
       "      <td>2019-09-01</td>\n",
       "      <td>Sunday</td>\n",
       "      <td>8</td>\n",
       "      <td>9</td>\n",
       "      <td>28.535610</td>\n",
       "      <td>77.112429</td>\n",
       "      <td>0 days 01:07:05</td>\n",
       "      <td>0.000000</td>\n",
       "      <td>25.652561</td>\n",
       "    </tr>\n",
       "  </tbody>\n",
       "</table>\n",
       "<p>128 rows × 22 columns</p>\n",
       "</div>"
      ],
      "text/plain": [
       "            MESSAGE_ID             TRIP_ID ROUTENAME    BUS_ID  \\\n",
       "0    12437010919072221  T12437010919072002    717AUP  DL1P6349   \n",
       "1    12437010919072723  T12437010919072002    717AUP  DL1P6349   \n",
       "2    12437010919072724  T12437010919072002    717AUP  DL1P6349   \n",
       "3    12437010919072725  T12437010919072002    717AUP  DL1P6349   \n",
       "4    12437010919072826  T12437010919072002    717AUP  DL1P6349   \n",
       "..                 ...                 ...       ...       ...   \n",
       "123  12437010919082646  T12437010919072002    717AUP  DL1P6349   \n",
       "124  12437010919082647  T12437010919072002    717AUP  DL1P6349   \n",
       "125  12437010919082648  T12437010919072002    717AUP  DL1P6349   \n",
       "126  12437010919082649  T12437010919072002    717AUP  DL1P6349   \n",
       "127  12437010919082951  T12437010919072002    717AUP  DL1P6349   \n",
       "\n",
       "                            ROUTE_ORIGIN_STOP ROUTE_DESTINATION_STOP  \\\n",
       "0                             Badarpur Border           Saidul-A-Jab   \n",
       "1                            Jaitpur Crossing       Kapashera Border   \n",
       "2    Badarpur M B Road / Rajiv Gandhi Stadium       Kapashera Border   \n",
       "3    Badarpur M B Road / Rajiv Gandhi Stadium       Kapashera Border   \n",
       "4    Badarpur M B Road / Rajiv Gandhi Stadium       Kapashera Border   \n",
       "..                                        ...                    ...   \n",
       "123                                Shiv Murti       Kapashera Border   \n",
       "124                                Shiv Murti       Kapashera Border   \n",
       "125                                Shiv Murti       Kapashera Border   \n",
       "126                                Shiv Murti       Kapashera Border   \n",
       "127                                Shiv Murti       Kapashera Border   \n",
       "\n",
       "          TRIP_START_TIME         TRIP_END_TIME  AMOUNT  USER_COUNT  ...  \\\n",
       "0    01-SEP-2019 07:20:04  01-SEP-2019 08:40:02      10           1  ...   \n",
       "1    01-SEP-2019 07:20:04  01-SEP-2019 08:40:02      15           1  ...   \n",
       "2    01-SEP-2019 07:20:04  01-SEP-2019 08:40:02      15           1  ...   \n",
       "3    01-SEP-2019 07:20:04  01-SEP-2019 08:40:02      15           1  ...   \n",
       "4    01-SEP-2019 07:20:04  01-SEP-2019 08:40:02      15           1  ...   \n",
       "..                    ...                   ...     ...         ...  ...   \n",
       "123  01-SEP-2019 07:20:04  01-SEP-2019 08:40:02      10           1  ...   \n",
       "124  01-SEP-2019 07:20:04  01-SEP-2019 08:40:02      10           1  ...   \n",
       "125  01-SEP-2019 07:20:04  01-SEP-2019 08:40:02      10           1  ...   \n",
       "126  01-SEP-2019 07:20:04  01-SEP-2019 08:40:02      10           1  ...   \n",
       "127  01-SEP-2019 07:20:04  01-SEP-2019 08:40:02      10           1  ...   \n",
       "\n",
       "              date_time ticket_date     Day Hour Month        lat       long  \\\n",
       "0   2019-09-01 07:22:17  2019-09-01  Sunday    7     9  28.492700  77.303817   \n",
       "1   2019-09-01 07:27:01  2019-09-01  Sunday    7     9  28.497217  77.302647   \n",
       "2   2019-09-01 07:27:32  2019-09-01  Sunday    7     9  28.499178  77.299004   \n",
       "3   2019-09-01 07:27:57  2019-09-01  Sunday    7     9  28.499178  77.299004   \n",
       "4   2019-09-01 07:28:04  2019-09-01  Sunday    7     9  28.499178  77.299004   \n",
       "..                  ...         ...     ...  ...   ...        ...        ...   \n",
       "123 2019-09-01 08:26:33  2019-09-01  Sunday    8     9  28.535610  77.112429   \n",
       "124 2019-09-01 08:26:35  2019-09-01  Sunday    8     9  28.535610  77.112429   \n",
       "125 2019-09-01 08:26:40  2019-09-01  Sunday    8     9  28.535610  77.112429   \n",
       "126 2019-09-01 08:26:43  2019-09-01  Sunday    8     9  28.535610  77.112429   \n",
       "127 2019-09-01 08:29:22  2019-09-01  Sunday    8     9  28.535610  77.112429   \n",
       "\n",
       "     time_from_start  between_stop_distance dist_from_start  \n",
       "0                  0               0.000000        0.000000  \n",
       "1    0 days 00:04:44               0.515117        0.515117  \n",
       "2    0 days 00:05:15               0.417472        0.932590  \n",
       "3    0 days 00:05:40               0.000000        0.932590  \n",
       "4    0 days 00:05:47               0.000000        0.932590  \n",
       "..               ...                    ...             ...  \n",
       "123  0 days 01:04:16               0.000000       25.652561  \n",
       "124  0 days 01:04:18               0.000000       25.652561  \n",
       "125  0 days 01:04:23               0.000000       25.652561  \n",
       "126  0 days 01:04:26               0.000000       25.652561  \n",
       "127  0 days 01:07:05               0.000000       25.652561  \n",
       "\n",
       "[128 rows x 22 columns]"
      ]
     },
     "execution_count": 251,
     "metadata": {},
     "output_type": "execute_result"
    }
   ],
   "source": [
    "one_trip"
   ]
  },
  {
   "cell_type": "code",
   "execution_count": 260,
   "id": "c9c0f670",
   "metadata": {},
   "outputs": [],
   "source": [
    "etm_stops_ordered = list(one_trip['ROUTE_ORIGIN_STOP'].unique())"
   ]
  },
  {
   "cell_type": "code",
   "execution_count": 261,
   "id": "84dadb55",
   "metadata": {
    "scrolled": true
   },
   "outputs": [
    {
     "data": {
      "text/plain": [
       "['Badarpur Border',\n",
       " 'Jaitpur Crossing',\n",
       " 'Badarpur M B Road / Rajiv Gandhi Stadium',\n",
       " 'Prehlad Pur',\n",
       " 'Surajkund Crossing',\n",
       " 'Tughalqabad Village',\n",
       " 'Hamdard Nagar / Sangam Vihar',\n",
       " 'Batra Hospital (Satya Narayan Mandir)',\n",
       " 'Ambedkar Nagar Terminal / DIPSAR',\n",
       " 'Asian Market',\n",
       " 'Saket Crossing',\n",
       " 'Saidul-A-Jab',\n",
       " 'Dhaula Peer / Lado Sarai',\n",
       " 'Ahinsa Sthal',\n",
       " 'Andheria Bagh More',\n",
       " 'Andheria Bagh More / Chhatarpur Metro Station',\n",
       " 'Kishan Garh',\n",
       " 'Vasant Kunj Sec-D/3-4',\n",
       " 'Vasant Kunj sec-B1',\n",
       " 'ISIC Hospital (Verma farm)',\n",
       " 'Vasant Kunj Sec-C-8',\n",
       " 'Rang Puri Pahari',\n",
       " 'Mahipal Pur Village',\n",
       " 'Mahipal Pur Crossing',\n",
       " 'Shiv Murti']"
      ]
     },
     "execution_count": 261,
     "metadata": {},
     "output_type": "execute_result"
    }
   ],
   "source": [
    "etm_stops_ordered"
   ]
  },
  {
   "cell_type": "code",
   "execution_count": 52,
   "id": "122b0ae8",
   "metadata": {},
   "outputs": [],
   "source": [
    "one_trip['dist_from_start'] = one_trip['between_stop_distance'].cumsum()\n"
   ]
  },
  {
   "cell_type": "code",
   "execution_count": 53,
   "id": "836a77d9",
   "metadata": {},
   "outputs": [],
   "source": [
    "df_etm = one_trip[['dist_from_start','time_from_start']]\n",
    "df_realtime = real_time_temp_onetrip[['dist_from_start','time_from_start']]"
   ]
  },
  {
   "cell_type": "code",
   "execution_count": 54,
   "id": "df539f85",
   "metadata": {
    "scrolled": true
   },
   "outputs": [
    {
     "data": {
      "text/html": [
       "<div>\n",
       "<style scoped>\n",
       "    .dataframe tbody tr th:only-of-type {\n",
       "        vertical-align: middle;\n",
       "    }\n",
       "\n",
       "    .dataframe tbody tr th {\n",
       "        vertical-align: top;\n",
       "    }\n",
       "\n",
       "    .dataframe thead th {\n",
       "        text-align: right;\n",
       "    }\n",
       "</style>\n",
       "<table border=\"1\" class=\"dataframe\">\n",
       "  <thead>\n",
       "    <tr style=\"text-align: right;\">\n",
       "      <th></th>\n",
       "      <th>dist_from_start</th>\n",
       "      <th>time_from_start</th>\n",
       "    </tr>\n",
       "  </thead>\n",
       "  <tbody>\n",
       "    <tr>\n",
       "      <th>0</th>\n",
       "      <td>0.000000</td>\n",
       "      <td>0</td>\n",
       "    </tr>\n",
       "    <tr>\n",
       "      <th>1</th>\n",
       "      <td>0.515117</td>\n",
       "      <td>0 days 00:04:44</td>\n",
       "    </tr>\n",
       "    <tr>\n",
       "      <th>2</th>\n",
       "      <td>0.932590</td>\n",
       "      <td>0 days 00:05:15</td>\n",
       "    </tr>\n",
       "    <tr>\n",
       "      <th>3</th>\n",
       "      <td>0.932590</td>\n",
       "      <td>0 days 00:05:40</td>\n",
       "    </tr>\n",
       "    <tr>\n",
       "      <th>4</th>\n",
       "      <td>0.932590</td>\n",
       "      <td>0 days 00:05:47</td>\n",
       "    </tr>\n",
       "    <tr>\n",
       "      <th>...</th>\n",
       "      <td>...</td>\n",
       "      <td>...</td>\n",
       "    </tr>\n",
       "    <tr>\n",
       "      <th>123</th>\n",
       "      <td>25.652561</td>\n",
       "      <td>0 days 01:04:16</td>\n",
       "    </tr>\n",
       "    <tr>\n",
       "      <th>124</th>\n",
       "      <td>25.652561</td>\n",
       "      <td>0 days 01:04:18</td>\n",
       "    </tr>\n",
       "    <tr>\n",
       "      <th>125</th>\n",
       "      <td>25.652561</td>\n",
       "      <td>0 days 01:04:23</td>\n",
       "    </tr>\n",
       "    <tr>\n",
       "      <th>126</th>\n",
       "      <td>25.652561</td>\n",
       "      <td>0 days 01:04:26</td>\n",
       "    </tr>\n",
       "    <tr>\n",
       "      <th>127</th>\n",
       "      <td>25.652561</td>\n",
       "      <td>0 days 01:07:05</td>\n",
       "    </tr>\n",
       "  </tbody>\n",
       "</table>\n",
       "<p>128 rows × 2 columns</p>\n",
       "</div>"
      ],
      "text/plain": [
       "     dist_from_start  time_from_start\n",
       "0           0.000000                0\n",
       "1           0.515117  0 days 00:04:44\n",
       "2           0.932590  0 days 00:05:15\n",
       "3           0.932590  0 days 00:05:40\n",
       "4           0.932590  0 days 00:05:47\n",
       "..               ...              ...\n",
       "123        25.652561  0 days 01:04:16\n",
       "124        25.652561  0 days 01:04:18\n",
       "125        25.652561  0 days 01:04:23\n",
       "126        25.652561  0 days 01:04:26\n",
       "127        25.652561  0 days 01:07:05\n",
       "\n",
       "[128 rows x 2 columns]"
      ]
     },
     "execution_count": 54,
     "metadata": {},
     "output_type": "execute_result"
    }
   ],
   "source": [
    "df_etm"
   ]
  },
  {
   "cell_type": "code",
   "execution_count": 55,
   "id": "fec44668",
   "metadata": {},
   "outputs": [],
   "source": [
    "for i in range(1,len(df_realtime)):\n",
    "    time1 = df_realtime['time_from_start'][i].total_seconds()/60.0\n",
    "    df_realtime.at[i,'time_from_start'] = time1\n",
    "for i in range(1,len(df_etm)):\n",
    "    time1 = df_etm['time_from_start'][i].total_seconds()/60.0\n",
    "    df_etm.at[i,'time_from_start'] = time1"
   ]
  },
  {
   "cell_type": "code",
   "execution_count": 56,
   "id": "036df06f",
   "metadata": {},
   "outputs": [
    {
     "data": {
      "text/html": [
       "<div>\n",
       "<style scoped>\n",
       "    .dataframe tbody tr th:only-of-type {\n",
       "        vertical-align: middle;\n",
       "    }\n",
       "\n",
       "    .dataframe tbody tr th {\n",
       "        vertical-align: top;\n",
       "    }\n",
       "\n",
       "    .dataframe thead th {\n",
       "        text-align: right;\n",
       "    }\n",
       "</style>\n",
       "<table border=\"1\" class=\"dataframe\">\n",
       "  <thead>\n",
       "    <tr style=\"text-align: right;\">\n",
       "      <th></th>\n",
       "      <th>dist_from_start</th>\n",
       "      <th>time_from_start</th>\n",
       "    </tr>\n",
       "  </thead>\n",
       "  <tbody>\n",
       "    <tr>\n",
       "      <th>0</th>\n",
       "      <td>0.000000</td>\n",
       "      <td>0</td>\n",
       "    </tr>\n",
       "    <tr>\n",
       "      <th>1</th>\n",
       "      <td>0.319502</td>\n",
       "      <td>1.0</td>\n",
       "    </tr>\n",
       "    <tr>\n",
       "      <th>2</th>\n",
       "      <td>0.566611</td>\n",
       "      <td>2.0</td>\n",
       "    </tr>\n",
       "    <tr>\n",
       "      <th>3</th>\n",
       "      <td>1.013766</td>\n",
       "      <td>3.0</td>\n",
       "    </tr>\n",
       "    <tr>\n",
       "      <th>4</th>\n",
       "      <td>1.429335</td>\n",
       "      <td>4.0</td>\n",
       "    </tr>\n",
       "    <tr>\n",
       "      <th>...</th>\n",
       "      <td>...</td>\n",
       "      <td>...</td>\n",
       "    </tr>\n",
       "    <tr>\n",
       "      <th>75</th>\n",
       "      <td>29.615974</td>\n",
       "      <td>76.0</td>\n",
       "    </tr>\n",
       "    <tr>\n",
       "      <th>76</th>\n",
       "      <td>29.617188</td>\n",
       "      <td>77.0</td>\n",
       "    </tr>\n",
       "    <tr>\n",
       "      <th>77</th>\n",
       "      <td>29.618107</td>\n",
       "      <td>78.0</td>\n",
       "    </tr>\n",
       "    <tr>\n",
       "      <th>78</th>\n",
       "      <td>29.620572</td>\n",
       "      <td>79.0</td>\n",
       "    </tr>\n",
       "    <tr>\n",
       "      <th>79</th>\n",
       "      <td>29.626256</td>\n",
       "      <td>80.0</td>\n",
       "    </tr>\n",
       "  </tbody>\n",
       "</table>\n",
       "<p>80 rows × 2 columns</p>\n",
       "</div>"
      ],
      "text/plain": [
       "    dist_from_start time_from_start\n",
       "0          0.000000               0\n",
       "1          0.319502             1.0\n",
       "2          0.566611             2.0\n",
       "3          1.013766             3.0\n",
       "4          1.429335             4.0\n",
       "..              ...             ...\n",
       "75        29.615974            76.0\n",
       "76        29.617188            77.0\n",
       "77        29.618107            78.0\n",
       "78        29.620572            79.0\n",
       "79        29.626256            80.0\n",
       "\n",
       "[80 rows x 2 columns]"
      ]
     },
     "execution_count": 56,
     "metadata": {},
     "output_type": "execute_result"
    }
   ],
   "source": [
    "df_realtime = df_realtime[df_realtime['time_from_start']<81]\n",
    "df_realtime"
   ]
  },
  {
   "cell_type": "code",
   "execution_count": 57,
   "id": "94efcb45",
   "metadata": {
    "scrolled": true
   },
   "outputs": [
    {
     "data": {
      "text/html": [
       "<div>\n",
       "<style scoped>\n",
       "    .dataframe tbody tr th:only-of-type {\n",
       "        vertical-align: middle;\n",
       "    }\n",
       "\n",
       "    .dataframe tbody tr th {\n",
       "        vertical-align: top;\n",
       "    }\n",
       "\n",
       "    .dataframe thead th {\n",
       "        text-align: right;\n",
       "    }\n",
       "</style>\n",
       "<table border=\"1\" class=\"dataframe\">\n",
       "  <thead>\n",
       "    <tr style=\"text-align: right;\">\n",
       "      <th></th>\n",
       "      <th>dist_from_start</th>\n",
       "      <th>time_from_start</th>\n",
       "    </tr>\n",
       "  </thead>\n",
       "  <tbody>\n",
       "    <tr>\n",
       "      <th>0</th>\n",
       "      <td>0.000000</td>\n",
       "      <td>0</td>\n",
       "    </tr>\n",
       "    <tr>\n",
       "      <th>1</th>\n",
       "      <td>0.515117</td>\n",
       "      <td>4.733333</td>\n",
       "    </tr>\n",
       "    <tr>\n",
       "      <th>2</th>\n",
       "      <td>0.932590</td>\n",
       "      <td>5.25</td>\n",
       "    </tr>\n",
       "    <tr>\n",
       "      <th>3</th>\n",
       "      <td>0.932590</td>\n",
       "      <td>5.666667</td>\n",
       "    </tr>\n",
       "    <tr>\n",
       "      <th>4</th>\n",
       "      <td>0.932590</td>\n",
       "      <td>5.783333</td>\n",
       "    </tr>\n",
       "    <tr>\n",
       "      <th>...</th>\n",
       "      <td>...</td>\n",
       "      <td>...</td>\n",
       "    </tr>\n",
       "    <tr>\n",
       "      <th>123</th>\n",
       "      <td>25.652561</td>\n",
       "      <td>64.266667</td>\n",
       "    </tr>\n",
       "    <tr>\n",
       "      <th>124</th>\n",
       "      <td>25.652561</td>\n",
       "      <td>64.3</td>\n",
       "    </tr>\n",
       "    <tr>\n",
       "      <th>125</th>\n",
       "      <td>25.652561</td>\n",
       "      <td>64.383333</td>\n",
       "    </tr>\n",
       "    <tr>\n",
       "      <th>126</th>\n",
       "      <td>25.652561</td>\n",
       "      <td>64.433333</td>\n",
       "    </tr>\n",
       "    <tr>\n",
       "      <th>127</th>\n",
       "      <td>25.652561</td>\n",
       "      <td>67.083333</td>\n",
       "    </tr>\n",
       "  </tbody>\n",
       "</table>\n",
       "<p>128 rows × 2 columns</p>\n",
       "</div>"
      ],
      "text/plain": [
       "     dist_from_start time_from_start\n",
       "0           0.000000               0\n",
       "1           0.515117        4.733333\n",
       "2           0.932590            5.25\n",
       "3           0.932590        5.666667\n",
       "4           0.932590        5.783333\n",
       "..               ...             ...\n",
       "123        25.652561       64.266667\n",
       "124        25.652561            64.3\n",
       "125        25.652561       64.383333\n",
       "126        25.652561       64.433333\n",
       "127        25.652561       67.083333\n",
       "\n",
       "[128 rows x 2 columns]"
      ]
     },
     "execution_count": 57,
     "metadata": {},
     "output_type": "execute_result"
    }
   ],
   "source": [
    "df_etm"
   ]
  },
  {
   "cell_type": "code",
   "execution_count": 58,
   "id": "65cdb4cb",
   "metadata": {},
   "outputs": [
    {
     "data": {
      "application/vnd.plotly.v1+json": {
       "config": {
        "plotlyServerURL": "https://plot.ly"
       },
       "data": [
        {
         "hovertemplate": "time_from_start=%{x}<br>dist_from_start=%{y}<extra></extra>",
         "legendgroup": "",
         "line": {
          "color": "#636efa",
          "dash": "solid"
         },
         "marker": {
          "symbol": "circle"
         },
         "mode": "lines",
         "name": "From Realtime data",
         "orientation": "v",
         "showlegend": true,
         "type": "scatter",
         "x": [
          0,
          1,
          2,
          3,
          4,
          5,
          6,
          7,
          8,
          9,
          10,
          11,
          12,
          13,
          14,
          15,
          16,
          17,
          18,
          19,
          20,
          21,
          22,
          23,
          25,
          26,
          27,
          28,
          29,
          30,
          31,
          32,
          33,
          34,
          35,
          36,
          37,
          38,
          39,
          40,
          41,
          42,
          43,
          44,
          45,
          46,
          47,
          48,
          49,
          50,
          51,
          52,
          53,
          54,
          55,
          56,
          57,
          58,
          59,
          60,
          61,
          62,
          63,
          64,
          65,
          66,
          67,
          68,
          69,
          70,
          71,
          72,
          73,
          74,
          75,
          76,
          77,
          78,
          79,
          80
         ],
         "xaxis": "x",
         "y": [
          0,
          0.31950154393191416,
          0.5666109153351523,
          1.0137664467804108,
          1.429335193306128,
          1.590070279025815,
          1.5959502230939586,
          1.6823388365445253,
          2.2495235851637374,
          2.7540172094056756,
          3.111767381690147,
          3.635264073617229,
          3.9959244319753755,
          4.392758804831551,
          4.751951748474951,
          5.479608607674121,
          5.78770653609863,
          6.0650381580478845,
          6.332139007233947,
          6.72835676393312,
          7.025797414477183,
          7.684993044866725,
          8.037735366247361,
          8.502459988335922,
          8.861846759452758,
          9.31482150158576,
          10.069242256060711,
          10.526552285122758,
          10.941696704439096,
          11.426015561057689,
          11.648593877669764,
          12.159706096920033,
          12.868569931445068,
          13.047087950468363,
          13.531838896788404,
          13.722520409420529,
          13.857540005842154,
          14.249110592821172,
          14.600445166449136,
          14.826805056324394,
          15.294716876003742,
          15.535626710080313,
          15.535626710080313,
          16.032530055376053,
          16.746674667309478,
          17.207060331487252,
          17.4704025224945,
          17.610877371667165,
          17.789172115802728,
          18.1610694637307,
          18.322893345218276,
          19.15299804988798,
          19.45745385288002,
          19.45745385288002,
          20.2643805138908,
          20.655510630291793,
          20.894627911183814,
          21.47538861460993,
          22.06493166527497,
          22.407800412932783,
          23.06218930164166,
          23.688825032321258,
          24.33523585349985,
          25.039012288256014,
          25.524540125749873,
          26.043920457455915,
          26.711437991566562,
          27.592044037554736,
          28.085317656793983,
          28.594905895297277,
          28.622333888262204,
          28.622333888262204,
          29.373215979476488,
          29.61091055099482,
          29.61344179161575,
          29.615973757620004,
          29.6171882783593,
          29.61810723468165,
          29.620572394972772,
          29.62625618307054
         ],
         "yaxis": "y"
        }
       ],
       "layout": {
        "legend": {
         "tracegroupgap": 0
        },
        "template": {
         "data": {
          "bar": [
           {
            "error_x": {
             "color": "#2a3f5f"
            },
            "error_y": {
             "color": "#2a3f5f"
            },
            "marker": {
             "line": {
              "color": "#E5ECF6",
              "width": 0.5
             },
             "pattern": {
              "fillmode": "overlay",
              "size": 10,
              "solidity": 0.2
             }
            },
            "type": "bar"
           }
          ],
          "barpolar": [
           {
            "marker": {
             "line": {
              "color": "#E5ECF6",
              "width": 0.5
             },
             "pattern": {
              "fillmode": "overlay",
              "size": 10,
              "solidity": 0.2
             }
            },
            "type": "barpolar"
           }
          ],
          "carpet": [
           {
            "aaxis": {
             "endlinecolor": "#2a3f5f",
             "gridcolor": "white",
             "linecolor": "white",
             "minorgridcolor": "white",
             "startlinecolor": "#2a3f5f"
            },
            "baxis": {
             "endlinecolor": "#2a3f5f",
             "gridcolor": "white",
             "linecolor": "white",
             "minorgridcolor": "white",
             "startlinecolor": "#2a3f5f"
            },
            "type": "carpet"
           }
          ],
          "choropleth": [
           {
            "colorbar": {
             "outlinewidth": 0,
             "ticks": ""
            },
            "type": "choropleth"
           }
          ],
          "contour": [
           {
            "colorbar": {
             "outlinewidth": 0,
             "ticks": ""
            },
            "colorscale": [
             [
              0,
              "#0d0887"
             ],
             [
              0.1111111111111111,
              "#46039f"
             ],
             [
              0.2222222222222222,
              "#7201a8"
             ],
             [
              0.3333333333333333,
              "#9c179e"
             ],
             [
              0.4444444444444444,
              "#bd3786"
             ],
             [
              0.5555555555555556,
              "#d8576b"
             ],
             [
              0.6666666666666666,
              "#ed7953"
             ],
             [
              0.7777777777777778,
              "#fb9f3a"
             ],
             [
              0.8888888888888888,
              "#fdca26"
             ],
             [
              1,
              "#f0f921"
             ]
            ],
            "type": "contour"
           }
          ],
          "contourcarpet": [
           {
            "colorbar": {
             "outlinewidth": 0,
             "ticks": ""
            },
            "type": "contourcarpet"
           }
          ],
          "heatmap": [
           {
            "colorbar": {
             "outlinewidth": 0,
             "ticks": ""
            },
            "colorscale": [
             [
              0,
              "#0d0887"
             ],
             [
              0.1111111111111111,
              "#46039f"
             ],
             [
              0.2222222222222222,
              "#7201a8"
             ],
             [
              0.3333333333333333,
              "#9c179e"
             ],
             [
              0.4444444444444444,
              "#bd3786"
             ],
             [
              0.5555555555555556,
              "#d8576b"
             ],
             [
              0.6666666666666666,
              "#ed7953"
             ],
             [
              0.7777777777777778,
              "#fb9f3a"
             ],
             [
              0.8888888888888888,
              "#fdca26"
             ],
             [
              1,
              "#f0f921"
             ]
            ],
            "type": "heatmap"
           }
          ],
          "heatmapgl": [
           {
            "colorbar": {
             "outlinewidth": 0,
             "ticks": ""
            },
            "colorscale": [
             [
              0,
              "#0d0887"
             ],
             [
              0.1111111111111111,
              "#46039f"
             ],
             [
              0.2222222222222222,
              "#7201a8"
             ],
             [
              0.3333333333333333,
              "#9c179e"
             ],
             [
              0.4444444444444444,
              "#bd3786"
             ],
             [
              0.5555555555555556,
              "#d8576b"
             ],
             [
              0.6666666666666666,
              "#ed7953"
             ],
             [
              0.7777777777777778,
              "#fb9f3a"
             ],
             [
              0.8888888888888888,
              "#fdca26"
             ],
             [
              1,
              "#f0f921"
             ]
            ],
            "type": "heatmapgl"
           }
          ],
          "histogram": [
           {
            "marker": {
             "pattern": {
              "fillmode": "overlay",
              "size": 10,
              "solidity": 0.2
             }
            },
            "type": "histogram"
           }
          ],
          "histogram2d": [
           {
            "colorbar": {
             "outlinewidth": 0,
             "ticks": ""
            },
            "colorscale": [
             [
              0,
              "#0d0887"
             ],
             [
              0.1111111111111111,
              "#46039f"
             ],
             [
              0.2222222222222222,
              "#7201a8"
             ],
             [
              0.3333333333333333,
              "#9c179e"
             ],
             [
              0.4444444444444444,
              "#bd3786"
             ],
             [
              0.5555555555555556,
              "#d8576b"
             ],
             [
              0.6666666666666666,
              "#ed7953"
             ],
             [
              0.7777777777777778,
              "#fb9f3a"
             ],
             [
              0.8888888888888888,
              "#fdca26"
             ],
             [
              1,
              "#f0f921"
             ]
            ],
            "type": "histogram2d"
           }
          ],
          "histogram2dcontour": [
           {
            "colorbar": {
             "outlinewidth": 0,
             "ticks": ""
            },
            "colorscale": [
             [
              0,
              "#0d0887"
             ],
             [
              0.1111111111111111,
              "#46039f"
             ],
             [
              0.2222222222222222,
              "#7201a8"
             ],
             [
              0.3333333333333333,
              "#9c179e"
             ],
             [
              0.4444444444444444,
              "#bd3786"
             ],
             [
              0.5555555555555556,
              "#d8576b"
             ],
             [
              0.6666666666666666,
              "#ed7953"
             ],
             [
              0.7777777777777778,
              "#fb9f3a"
             ],
             [
              0.8888888888888888,
              "#fdca26"
             ],
             [
              1,
              "#f0f921"
             ]
            ],
            "type": "histogram2dcontour"
           }
          ],
          "mesh3d": [
           {
            "colorbar": {
             "outlinewidth": 0,
             "ticks": ""
            },
            "type": "mesh3d"
           }
          ],
          "parcoords": [
           {
            "line": {
             "colorbar": {
              "outlinewidth": 0,
              "ticks": ""
             }
            },
            "type": "parcoords"
           }
          ],
          "pie": [
           {
            "automargin": true,
            "type": "pie"
           }
          ],
          "scatter": [
           {
            "fillpattern": {
             "fillmode": "overlay",
             "size": 10,
             "solidity": 0.2
            },
            "type": "scatter"
           }
          ],
          "scatter3d": [
           {
            "line": {
             "colorbar": {
              "outlinewidth": 0,
              "ticks": ""
             }
            },
            "marker": {
             "colorbar": {
              "outlinewidth": 0,
              "ticks": ""
             }
            },
            "type": "scatter3d"
           }
          ],
          "scattercarpet": [
           {
            "marker": {
             "colorbar": {
              "outlinewidth": 0,
              "ticks": ""
             }
            },
            "type": "scattercarpet"
           }
          ],
          "scattergeo": [
           {
            "marker": {
             "colorbar": {
              "outlinewidth": 0,
              "ticks": ""
             }
            },
            "type": "scattergeo"
           }
          ],
          "scattergl": [
           {
            "marker": {
             "colorbar": {
              "outlinewidth": 0,
              "ticks": ""
             }
            },
            "type": "scattergl"
           }
          ],
          "scattermapbox": [
           {
            "marker": {
             "colorbar": {
              "outlinewidth": 0,
              "ticks": ""
             }
            },
            "type": "scattermapbox"
           }
          ],
          "scatterpolar": [
           {
            "marker": {
             "colorbar": {
              "outlinewidth": 0,
              "ticks": ""
             }
            },
            "type": "scatterpolar"
           }
          ],
          "scatterpolargl": [
           {
            "marker": {
             "colorbar": {
              "outlinewidth": 0,
              "ticks": ""
             }
            },
            "type": "scatterpolargl"
           }
          ],
          "scatterternary": [
           {
            "marker": {
             "colorbar": {
              "outlinewidth": 0,
              "ticks": ""
             }
            },
            "type": "scatterternary"
           }
          ],
          "surface": [
           {
            "colorbar": {
             "outlinewidth": 0,
             "ticks": ""
            },
            "colorscale": [
             [
              0,
              "#0d0887"
             ],
             [
              0.1111111111111111,
              "#46039f"
             ],
             [
              0.2222222222222222,
              "#7201a8"
             ],
             [
              0.3333333333333333,
              "#9c179e"
             ],
             [
              0.4444444444444444,
              "#bd3786"
             ],
             [
              0.5555555555555556,
              "#d8576b"
             ],
             [
              0.6666666666666666,
              "#ed7953"
             ],
             [
              0.7777777777777778,
              "#fb9f3a"
             ],
             [
              0.8888888888888888,
              "#fdca26"
             ],
             [
              1,
              "#f0f921"
             ]
            ],
            "type": "surface"
           }
          ],
          "table": [
           {
            "cells": {
             "fill": {
              "color": "#EBF0F8"
             },
             "line": {
              "color": "white"
             }
            },
            "header": {
             "fill": {
              "color": "#C8D4E3"
             },
             "line": {
              "color": "white"
             }
            },
            "type": "table"
           }
          ]
         },
         "layout": {
          "annotationdefaults": {
           "arrowcolor": "#2a3f5f",
           "arrowhead": 0,
           "arrowwidth": 1
          },
          "autotypenumbers": "strict",
          "coloraxis": {
           "colorbar": {
            "outlinewidth": 0,
            "ticks": ""
           }
          },
          "colorscale": {
           "diverging": [
            [
             0,
             "#8e0152"
            ],
            [
             0.1,
             "#c51b7d"
            ],
            [
             0.2,
             "#de77ae"
            ],
            [
             0.3,
             "#f1b6da"
            ],
            [
             0.4,
             "#fde0ef"
            ],
            [
             0.5,
             "#f7f7f7"
            ],
            [
             0.6,
             "#e6f5d0"
            ],
            [
             0.7,
             "#b8e186"
            ],
            [
             0.8,
             "#7fbc41"
            ],
            [
             0.9,
             "#4d9221"
            ],
            [
             1,
             "#276419"
            ]
           ],
           "sequential": [
            [
             0,
             "#0d0887"
            ],
            [
             0.1111111111111111,
             "#46039f"
            ],
            [
             0.2222222222222222,
             "#7201a8"
            ],
            [
             0.3333333333333333,
             "#9c179e"
            ],
            [
             0.4444444444444444,
             "#bd3786"
            ],
            [
             0.5555555555555556,
             "#d8576b"
            ],
            [
             0.6666666666666666,
             "#ed7953"
            ],
            [
             0.7777777777777778,
             "#fb9f3a"
            ],
            [
             0.8888888888888888,
             "#fdca26"
            ],
            [
             1,
             "#f0f921"
            ]
           ],
           "sequentialminus": [
            [
             0,
             "#0d0887"
            ],
            [
             0.1111111111111111,
             "#46039f"
            ],
            [
             0.2222222222222222,
             "#7201a8"
            ],
            [
             0.3333333333333333,
             "#9c179e"
            ],
            [
             0.4444444444444444,
             "#bd3786"
            ],
            [
             0.5555555555555556,
             "#d8576b"
            ],
            [
             0.6666666666666666,
             "#ed7953"
            ],
            [
             0.7777777777777778,
             "#fb9f3a"
            ],
            [
             0.8888888888888888,
             "#fdca26"
            ],
            [
             1,
             "#f0f921"
            ]
           ]
          },
          "colorway": [
           "#636efa",
           "#EF553B",
           "#00cc96",
           "#ab63fa",
           "#FFA15A",
           "#19d3f3",
           "#FF6692",
           "#B6E880",
           "#FF97FF",
           "#FECB52"
          ],
          "font": {
           "color": "#2a3f5f"
          },
          "geo": {
           "bgcolor": "white",
           "lakecolor": "white",
           "landcolor": "#E5ECF6",
           "showlakes": true,
           "showland": true,
           "subunitcolor": "white"
          },
          "hoverlabel": {
           "align": "left"
          },
          "hovermode": "closest",
          "mapbox": {
           "style": "light"
          },
          "paper_bgcolor": "white",
          "plot_bgcolor": "#E5ECF6",
          "polar": {
           "angularaxis": {
            "gridcolor": "white",
            "linecolor": "white",
            "ticks": ""
           },
           "bgcolor": "#E5ECF6",
           "radialaxis": {
            "gridcolor": "white",
            "linecolor": "white",
            "ticks": ""
           }
          },
          "scene": {
           "xaxis": {
            "backgroundcolor": "#E5ECF6",
            "gridcolor": "white",
            "gridwidth": 2,
            "linecolor": "white",
            "showbackground": true,
            "ticks": "",
            "zerolinecolor": "white"
           },
           "yaxis": {
            "backgroundcolor": "#E5ECF6",
            "gridcolor": "white",
            "gridwidth": 2,
            "linecolor": "white",
            "showbackground": true,
            "ticks": "",
            "zerolinecolor": "white"
           },
           "zaxis": {
            "backgroundcolor": "#E5ECF6",
            "gridcolor": "white",
            "gridwidth": 2,
            "linecolor": "white",
            "showbackground": true,
            "ticks": "",
            "zerolinecolor": "white"
           }
          },
          "shapedefaults": {
           "line": {
            "color": "#2a3f5f"
           }
          },
          "ternary": {
           "aaxis": {
            "gridcolor": "white",
            "linecolor": "white",
            "ticks": ""
           },
           "baxis": {
            "gridcolor": "white",
            "linecolor": "white",
            "ticks": ""
           },
           "bgcolor": "#E5ECF6",
           "caxis": {
            "gridcolor": "white",
            "linecolor": "white",
            "ticks": ""
           }
          },
          "title": {
           "x": 0.05
          },
          "xaxis": {
           "automargin": true,
           "gridcolor": "white",
           "linecolor": "white",
           "ticks": "",
           "title": {
            "standoff": 15
           },
           "zerolinecolor": "white",
           "zerolinewidth": 2
          },
          "yaxis": {
           "automargin": true,
           "gridcolor": "white",
           "linecolor": "white",
           "ticks": "",
           "title": {
            "standoff": 15
           },
           "zerolinecolor": "white",
           "zerolinewidth": 2
          }
         }
        },
        "title": {
         "text": "Time Taken by Bus from Origin"
        },
        "xaxis": {
         "anchor": "y",
         "domain": [
          0,
          1
         ],
         "title": {
          "text": "time_from_start"
         }
        },
        "yaxis": {
         "anchor": "x",
         "domain": [
          0,
          1
         ],
         "title": {
          "text": "dist_from_start"
         }
        }
       }
      },
      "text/html": [
       "<div>                            <div id=\"1cd285a7-914a-4d4a-80d4-eab993af704b\" class=\"plotly-graph-div\" style=\"height:525px; width:100%;\"></div>            <script type=\"text/javascript\">                require([\"plotly\"], function(Plotly) {                    window.PLOTLYENV=window.PLOTLYENV || {};                                    if (document.getElementById(\"1cd285a7-914a-4d4a-80d4-eab993af704b\")) {                    Plotly.newPlot(                        \"1cd285a7-914a-4d4a-80d4-eab993af704b\",                        [{\"hovertemplate\":\"time_from_start=%{x}<br>dist_from_start=%{y}<extra></extra>\",\"legendgroup\":\"\",\"line\":{\"color\":\"#636efa\",\"dash\":\"solid\"},\"marker\":{\"symbol\":\"circle\"},\"mode\":\"lines\",\"name\":\"From Realtime data\",\"orientation\":\"v\",\"showlegend\":true,\"x\":[0,1.0,2.0,3.0,4.0,5.0,6.0,7.0,8.0,9.0,10.0,11.0,12.0,13.0,14.0,15.0,16.0,17.0,18.0,19.0,20.0,21.0,22.0,23.0,25.0,26.0,27.0,28.0,29.0,30.0,31.0,32.0,33.0,34.0,35.0,36.0,37.0,38.0,39.0,40.0,41.0,42.0,43.0,44.0,45.0,46.0,47.0,48.0,49.0,50.0,51.0,52.0,53.0,54.0,55.0,56.0,57.0,58.0,59.0,60.0,61.0,62.0,63.0,64.0,65.0,66.0,67.0,68.0,69.0,70.0,71.0,72.0,73.0,74.0,75.0,76.0,77.0,78.0,79.0,80.0],\"xaxis\":\"x\",\"y\":[0.0,0.31950154393191416,0.5666109153351523,1.0137664467804108,1.429335193306128,1.590070279025815,1.5959502230939586,1.6823388365445253,2.2495235851637374,2.7540172094056756,3.111767381690147,3.635264073617229,3.9959244319753755,4.392758804831551,4.751951748474951,5.479608607674121,5.78770653609863,6.0650381580478845,6.332139007233947,6.72835676393312,7.025797414477183,7.684993044866725,8.037735366247361,8.502459988335922,8.861846759452758,9.31482150158576,10.069242256060711,10.526552285122758,10.941696704439096,11.426015561057689,11.648593877669764,12.159706096920033,12.868569931445068,13.047087950468363,13.531838896788404,13.722520409420529,13.857540005842154,14.249110592821172,14.600445166449136,14.826805056324394,15.294716876003742,15.535626710080313,15.535626710080313,16.032530055376053,16.746674667309478,17.207060331487252,17.4704025224945,17.610877371667165,17.789172115802728,18.1610694637307,18.322893345218276,19.15299804988798,19.45745385288002,19.45745385288002,20.2643805138908,20.655510630291793,20.894627911183814,21.47538861460993,22.06493166527497,22.407800412932783,23.06218930164166,23.688825032321258,24.33523585349985,25.039012288256014,25.524540125749873,26.043920457455915,26.711437991566562,27.592044037554736,28.085317656793983,28.594905895297277,28.622333888262204,28.622333888262204,29.373215979476488,29.61091055099482,29.61344179161575,29.615973757620004,29.6171882783593,29.61810723468165,29.620572394972772,29.62625618307054],\"yaxis\":\"y\",\"type\":\"scatter\"}],                        {\"template\":{\"data\":{\"histogram2dcontour\":[{\"type\":\"histogram2dcontour\",\"colorbar\":{\"outlinewidth\":0,\"ticks\":\"\"},\"colorscale\":[[0.0,\"#0d0887\"],[0.1111111111111111,\"#46039f\"],[0.2222222222222222,\"#7201a8\"],[0.3333333333333333,\"#9c179e\"],[0.4444444444444444,\"#bd3786\"],[0.5555555555555556,\"#d8576b\"],[0.6666666666666666,\"#ed7953\"],[0.7777777777777778,\"#fb9f3a\"],[0.8888888888888888,\"#fdca26\"],[1.0,\"#f0f921\"]]}],\"choropleth\":[{\"type\":\"choropleth\",\"colorbar\":{\"outlinewidth\":0,\"ticks\":\"\"}}],\"histogram2d\":[{\"type\":\"histogram2d\",\"colorbar\":{\"outlinewidth\":0,\"ticks\":\"\"},\"colorscale\":[[0.0,\"#0d0887\"],[0.1111111111111111,\"#46039f\"],[0.2222222222222222,\"#7201a8\"],[0.3333333333333333,\"#9c179e\"],[0.4444444444444444,\"#bd3786\"],[0.5555555555555556,\"#d8576b\"],[0.6666666666666666,\"#ed7953\"],[0.7777777777777778,\"#fb9f3a\"],[0.8888888888888888,\"#fdca26\"],[1.0,\"#f0f921\"]]}],\"heatmap\":[{\"type\":\"heatmap\",\"colorbar\":{\"outlinewidth\":0,\"ticks\":\"\"},\"colorscale\":[[0.0,\"#0d0887\"],[0.1111111111111111,\"#46039f\"],[0.2222222222222222,\"#7201a8\"],[0.3333333333333333,\"#9c179e\"],[0.4444444444444444,\"#bd3786\"],[0.5555555555555556,\"#d8576b\"],[0.6666666666666666,\"#ed7953\"],[0.7777777777777778,\"#fb9f3a\"],[0.8888888888888888,\"#fdca26\"],[1.0,\"#f0f921\"]]}],\"heatmapgl\":[{\"type\":\"heatmapgl\",\"colorbar\":{\"outlinewidth\":0,\"ticks\":\"\"},\"colorscale\":[[0.0,\"#0d0887\"],[0.1111111111111111,\"#46039f\"],[0.2222222222222222,\"#7201a8\"],[0.3333333333333333,\"#9c179e\"],[0.4444444444444444,\"#bd3786\"],[0.5555555555555556,\"#d8576b\"],[0.6666666666666666,\"#ed7953\"],[0.7777777777777778,\"#fb9f3a\"],[0.8888888888888888,\"#fdca26\"],[1.0,\"#f0f921\"]]}],\"contourcarpet\":[{\"type\":\"contourcarpet\",\"colorbar\":{\"outlinewidth\":0,\"ticks\":\"\"}}],\"contour\":[{\"type\":\"contour\",\"colorbar\":{\"outlinewidth\":0,\"ticks\":\"\"},\"colorscale\":[[0.0,\"#0d0887\"],[0.1111111111111111,\"#46039f\"],[0.2222222222222222,\"#7201a8\"],[0.3333333333333333,\"#9c179e\"],[0.4444444444444444,\"#bd3786\"],[0.5555555555555556,\"#d8576b\"],[0.6666666666666666,\"#ed7953\"],[0.7777777777777778,\"#fb9f3a\"],[0.8888888888888888,\"#fdca26\"],[1.0,\"#f0f921\"]]}],\"surface\":[{\"type\":\"surface\",\"colorbar\":{\"outlinewidth\":0,\"ticks\":\"\"},\"colorscale\":[[0.0,\"#0d0887\"],[0.1111111111111111,\"#46039f\"],[0.2222222222222222,\"#7201a8\"],[0.3333333333333333,\"#9c179e\"],[0.4444444444444444,\"#bd3786\"],[0.5555555555555556,\"#d8576b\"],[0.6666666666666666,\"#ed7953\"],[0.7777777777777778,\"#fb9f3a\"],[0.8888888888888888,\"#fdca26\"],[1.0,\"#f0f921\"]]}],\"mesh3d\":[{\"type\":\"mesh3d\",\"colorbar\":{\"outlinewidth\":0,\"ticks\":\"\"}}],\"scatter\":[{\"fillpattern\":{\"fillmode\":\"overlay\",\"size\":10,\"solidity\":0.2},\"type\":\"scatter\"}],\"parcoords\":[{\"type\":\"parcoords\",\"line\":{\"colorbar\":{\"outlinewidth\":0,\"ticks\":\"\"}}}],\"scatterpolargl\":[{\"type\":\"scatterpolargl\",\"marker\":{\"colorbar\":{\"outlinewidth\":0,\"ticks\":\"\"}}}],\"bar\":[{\"error_x\":{\"color\":\"#2a3f5f\"},\"error_y\":{\"color\":\"#2a3f5f\"},\"marker\":{\"line\":{\"color\":\"#E5ECF6\",\"width\":0.5},\"pattern\":{\"fillmode\":\"overlay\",\"size\":10,\"solidity\":0.2}},\"type\":\"bar\"}],\"scattergeo\":[{\"type\":\"scattergeo\",\"marker\":{\"colorbar\":{\"outlinewidth\":0,\"ticks\":\"\"}}}],\"scatterpolar\":[{\"type\":\"scatterpolar\",\"marker\":{\"colorbar\":{\"outlinewidth\":0,\"ticks\":\"\"}}}],\"histogram\":[{\"marker\":{\"pattern\":{\"fillmode\":\"overlay\",\"size\":10,\"solidity\":0.2}},\"type\":\"histogram\"}],\"scattergl\":[{\"type\":\"scattergl\",\"marker\":{\"colorbar\":{\"outlinewidth\":0,\"ticks\":\"\"}}}],\"scatter3d\":[{\"type\":\"scatter3d\",\"line\":{\"colorbar\":{\"outlinewidth\":0,\"ticks\":\"\"}},\"marker\":{\"colorbar\":{\"outlinewidth\":0,\"ticks\":\"\"}}}],\"scattermapbox\":[{\"type\":\"scattermapbox\",\"marker\":{\"colorbar\":{\"outlinewidth\":0,\"ticks\":\"\"}}}],\"scatterternary\":[{\"type\":\"scatterternary\",\"marker\":{\"colorbar\":{\"outlinewidth\":0,\"ticks\":\"\"}}}],\"scattercarpet\":[{\"type\":\"scattercarpet\",\"marker\":{\"colorbar\":{\"outlinewidth\":0,\"ticks\":\"\"}}}],\"carpet\":[{\"aaxis\":{\"endlinecolor\":\"#2a3f5f\",\"gridcolor\":\"white\",\"linecolor\":\"white\",\"minorgridcolor\":\"white\",\"startlinecolor\":\"#2a3f5f\"},\"baxis\":{\"endlinecolor\":\"#2a3f5f\",\"gridcolor\":\"white\",\"linecolor\":\"white\",\"minorgridcolor\":\"white\",\"startlinecolor\":\"#2a3f5f\"},\"type\":\"carpet\"}],\"table\":[{\"cells\":{\"fill\":{\"color\":\"#EBF0F8\"},\"line\":{\"color\":\"white\"}},\"header\":{\"fill\":{\"color\":\"#C8D4E3\"},\"line\":{\"color\":\"white\"}},\"type\":\"table\"}],\"barpolar\":[{\"marker\":{\"line\":{\"color\":\"#E5ECF6\",\"width\":0.5},\"pattern\":{\"fillmode\":\"overlay\",\"size\":10,\"solidity\":0.2}},\"type\":\"barpolar\"}],\"pie\":[{\"automargin\":true,\"type\":\"pie\"}]},\"layout\":{\"autotypenumbers\":\"strict\",\"colorway\":[\"#636efa\",\"#EF553B\",\"#00cc96\",\"#ab63fa\",\"#FFA15A\",\"#19d3f3\",\"#FF6692\",\"#B6E880\",\"#FF97FF\",\"#FECB52\"],\"font\":{\"color\":\"#2a3f5f\"},\"hovermode\":\"closest\",\"hoverlabel\":{\"align\":\"left\"},\"paper_bgcolor\":\"white\",\"plot_bgcolor\":\"#E5ECF6\",\"polar\":{\"bgcolor\":\"#E5ECF6\",\"angularaxis\":{\"gridcolor\":\"white\",\"linecolor\":\"white\",\"ticks\":\"\"},\"radialaxis\":{\"gridcolor\":\"white\",\"linecolor\":\"white\",\"ticks\":\"\"}},\"ternary\":{\"bgcolor\":\"#E5ECF6\",\"aaxis\":{\"gridcolor\":\"white\",\"linecolor\":\"white\",\"ticks\":\"\"},\"baxis\":{\"gridcolor\":\"white\",\"linecolor\":\"white\",\"ticks\":\"\"},\"caxis\":{\"gridcolor\":\"white\",\"linecolor\":\"white\",\"ticks\":\"\"}},\"coloraxis\":{\"colorbar\":{\"outlinewidth\":0,\"ticks\":\"\"}},\"colorscale\":{\"sequential\":[[0.0,\"#0d0887\"],[0.1111111111111111,\"#46039f\"],[0.2222222222222222,\"#7201a8\"],[0.3333333333333333,\"#9c179e\"],[0.4444444444444444,\"#bd3786\"],[0.5555555555555556,\"#d8576b\"],[0.6666666666666666,\"#ed7953\"],[0.7777777777777778,\"#fb9f3a\"],[0.8888888888888888,\"#fdca26\"],[1.0,\"#f0f921\"]],\"sequentialminus\":[[0.0,\"#0d0887\"],[0.1111111111111111,\"#46039f\"],[0.2222222222222222,\"#7201a8\"],[0.3333333333333333,\"#9c179e\"],[0.4444444444444444,\"#bd3786\"],[0.5555555555555556,\"#d8576b\"],[0.6666666666666666,\"#ed7953\"],[0.7777777777777778,\"#fb9f3a\"],[0.8888888888888888,\"#fdca26\"],[1.0,\"#f0f921\"]],\"diverging\":[[0,\"#8e0152\"],[0.1,\"#c51b7d\"],[0.2,\"#de77ae\"],[0.3,\"#f1b6da\"],[0.4,\"#fde0ef\"],[0.5,\"#f7f7f7\"],[0.6,\"#e6f5d0\"],[0.7,\"#b8e186\"],[0.8,\"#7fbc41\"],[0.9,\"#4d9221\"],[1,\"#276419\"]]},\"xaxis\":{\"gridcolor\":\"white\",\"linecolor\":\"white\",\"ticks\":\"\",\"title\":{\"standoff\":15},\"zerolinecolor\":\"white\",\"automargin\":true,\"zerolinewidth\":2},\"yaxis\":{\"gridcolor\":\"white\",\"linecolor\":\"white\",\"ticks\":\"\",\"title\":{\"standoff\":15},\"zerolinecolor\":\"white\",\"automargin\":true,\"zerolinewidth\":2},\"scene\":{\"xaxis\":{\"backgroundcolor\":\"#E5ECF6\",\"gridcolor\":\"white\",\"linecolor\":\"white\",\"showbackground\":true,\"ticks\":\"\",\"zerolinecolor\":\"white\",\"gridwidth\":2},\"yaxis\":{\"backgroundcolor\":\"#E5ECF6\",\"gridcolor\":\"white\",\"linecolor\":\"white\",\"showbackground\":true,\"ticks\":\"\",\"zerolinecolor\":\"white\",\"gridwidth\":2},\"zaxis\":{\"backgroundcolor\":\"#E5ECF6\",\"gridcolor\":\"white\",\"linecolor\":\"white\",\"showbackground\":true,\"ticks\":\"\",\"zerolinecolor\":\"white\",\"gridwidth\":2}},\"shapedefaults\":{\"line\":{\"color\":\"#2a3f5f\"}},\"annotationdefaults\":{\"arrowcolor\":\"#2a3f5f\",\"arrowhead\":0,\"arrowwidth\":1},\"geo\":{\"bgcolor\":\"white\",\"landcolor\":\"#E5ECF6\",\"subunitcolor\":\"white\",\"showland\":true,\"showlakes\":true,\"lakecolor\":\"white\"},\"title\":{\"x\":0.05},\"mapbox\":{\"style\":\"light\"}}},\"xaxis\":{\"anchor\":\"y\",\"domain\":[0.0,1.0],\"title\":{\"text\":\"time_from_start\"}},\"yaxis\":{\"anchor\":\"x\",\"domain\":[0.0,1.0],\"title\":{\"text\":\"dist_from_start\"}},\"legend\":{\"tracegroupgap\":0},\"title\":{\"text\":\"Time Taken by Bus from Origin\"}},                        {\"responsive\": true}                    ).then(function(){\n",
       "                            \n",
       "var gd = document.getElementById('1cd285a7-914a-4d4a-80d4-eab993af704b');\n",
       "var x = new MutationObserver(function (mutations, observer) {{\n",
       "        var display = window.getComputedStyle(gd).display;\n",
       "        if (!display || display === 'none') {{\n",
       "            console.log([gd, 'removed!']);\n",
       "            Plotly.purge(gd);\n",
       "            observer.disconnect();\n",
       "        }}\n",
       "}});\n",
       "\n",
       "// Listen for the removal of the full notebook cells\n",
       "var notebookContainer = gd.closest('#notebook-container');\n",
       "if (notebookContainer) {{\n",
       "    x.observe(notebookContainer, {childList: true});\n",
       "}}\n",
       "\n",
       "// Listen for the clearing of the current output cell\n",
       "var outputEl = gd.closest('.output');\n",
       "if (outputEl) {{\n",
       "    x.observe(outputEl, {childList: true});\n",
       "}}\n",
       "\n",
       "                        })                };                });            </script>        </div>"
      ]
     },
     "metadata": {},
     "output_type": "display_data"
    }
   ],
   "source": [
    "fig_realtime = px.line(df_realtime, y=\"dist_from_start\", x=\"time_from_start\",title=\"Time Taken by Bus from Origin\")\n",
    "fig_realtime.data[0].name=\"From Realtime data\"\n",
    "fig_realtime.update_traces(showlegend=True)"
   ]
  },
  {
   "cell_type": "code",
   "execution_count": 59,
   "id": "aec1036e",
   "metadata": {},
   "outputs": [
    {
     "data": {
      "application/vnd.plotly.v1+json": {
       "config": {
        "plotlyServerURL": "https://plot.ly"
       },
       "data": [
        {
         "hovertemplate": "time_from_start=%{x}<br>dist_from_start=%{y}<extra></extra>",
         "legendgroup": "",
         "line": {
          "color": "#FF7355",
          "dash": "solid"
         },
         "marker": {
          "symbol": "circle"
         },
         "mode": "lines",
         "name": "From ETM data",
         "orientation": "v",
         "showlegend": true,
         "type": "scatter",
         "x": [
          0,
          4.733333333333333,
          5.25,
          5.666666666666667,
          5.783333333333333,
          5.9,
          6.066666666666666,
          6.366666666666666,
          6.833333333333333,
          9.016666666666667,
          9.25,
          10.116666666666667,
          10.4,
          10.45,
          11.65,
          12.016666666666667,
          12.2,
          12.3,
          13.3,
          15.683333333333334,
          15.883333333333333,
          16.05,
          16.216666666666665,
          16.266666666666666,
          16.45,
          16.866666666666667,
          17.566666666666666,
          17.95,
          19.45,
          19.566666666666666,
          19.683333333333334,
          19.8,
          20,
          20.116666666666667,
          20.166666666666668,
          21.416666666666668,
          21.6,
          21.7,
          21.8,
          22.233333333333334,
          22.366666666666667,
          22.766666666666666,
          22.85,
          22.983333333333334,
          23.033333333333335,
          23.116666666666667,
          23.716666666666665,
          23.833333333333332,
          23.966666666666665,
          24.25,
          24.383333333333333,
          24.633333333333333,
          24.95,
          25.116666666666667,
          25.333333333333332,
          25.466666666666665,
          25.8,
          26.4,
          26.633333333333333,
          26.766666666666666,
          26.816666666666666,
          26.966666666666665,
          27,
          27.05,
          27.316666666666666,
          27.4,
          28.033333333333335,
          28.216666666666665,
          29,
          29.166666666666668,
          29.216666666666665,
          29.55,
          29.6,
          29.633333333333333,
          29.683333333333334,
          29.716666666666665,
          29.933333333333334,
          30.233333333333334,
          30.516666666666666,
          32.13333333333333,
          34.516666666666666,
          34.71666666666667,
          40.95,
          41.03333333333333,
          41.25,
          41.733333333333334,
          42.61666666666667,
          43.333333333333336,
          43.483333333333334,
          43.516666666666666,
          43.85,
          43.9,
          44.1,
          44.13333333333333,
          44.18333333333333,
          44.266666666666666,
          46.233333333333334,
          46.483333333333334,
          46.71666666666667,
          48.983333333333334,
          49.95,
          51.233333333333334,
          51.35,
          52.516666666666666,
          53.733333333333334,
          53.86666666666667,
          55.1,
          55.3,
          55.416666666666664,
          57.916666666666664,
          58.05,
          58.68333333333333,
          60.71666666666667,
          61.2,
          61.93333333333333,
          62.05,
          62.25,
          62.416666666666664,
          62.583333333333336,
          62.733333333333334,
          63.46666666666667,
          64.18333333333334,
          64.21666666666667,
          64.26666666666667,
          64.3,
          64.38333333333334,
          64.43333333333334,
          67.08333333333333
         ],
         "xaxis": "x",
         "y": [
          0,
          0.5151172419312671,
          0.9325897087687918,
          0.9325897087687918,
          0.9325897087687918,
          0.9325897087687918,
          0.9325897087687918,
          0.9325897087687918,
          0.9325897087687918,
          1.369395571290791,
          1.369395571290791,
          1.369395571290791,
          1.369395571290791,
          1.369395571290791,
          1.7715991783557299,
          1.7715991783557299,
          1.7715991783557299,
          1.7715991783557299,
          1.7715991783557299,
          4.430110739681234,
          4.430110739681234,
          4.430110739681234,
          4.430110739681234,
          4.430110739681234,
          4.430110739681234,
          4.430110739681234,
          4.430110739681234,
          4.430110739681234,
          6.073989748724833,
          6.073989748724833,
          6.073989748724833,
          6.073989748724833,
          6.073989748724833,
          6.073989748724833,
          6.073989748724833,
          6.073989748724833,
          6.073989748724833,
          6.073989748724833,
          6.073989748724833,
          6.073989748724833,
          6.073989748724833,
          6.578905909591308,
          6.578905909591308,
          6.578905909591308,
          6.578905909591308,
          6.578905909591308,
          6.578905909591308,
          6.578905909591308,
          6.578905909591308,
          6.578905909591308,
          6.578905909591308,
          6.578905909591308,
          6.578905909591308,
          8.57285583626641,
          8.57285583626641,
          8.57285583626641,
          8.57285583626641,
          8.57285583626641,
          8.57285583626641,
          8.795514807086938,
          8.795514807086938,
          8.795514807086938,
          8.795514807086938,
          8.795514807086938,
          8.795514807086938,
          8.795514807086938,
          8.795514807086938,
          8.795514807086938,
          8.795514807086938,
          8.795514807086938,
          8.795514807086938,
          8.795514807086938,
          8.795514807086938,
          8.795514807086938,
          8.795514807086938,
          8.795514807086938,
          8.795514807086938,
          8.795514807086938,
          9.279113015426887,
          10.949148356796357,
          12.619183698165827,
          14.980419042826828,
          15.324947140048387,
          15.324947140048387,
          15.324947140048387,
          17.04737686141287,
          17.04737686141287,
          17.04737686141287,
          17.04737686141287,
          17.04737686141287,
          17.04737686141287,
          17.04737686141287,
          17.513969667497665,
          17.513969667497665,
          17.513969667497665,
          17.513969667497665,
          18.720108766424907,
          18.720108766424907,
          18.720108766424907,
          19.17835017983006,
          19.17835017983006,
          19.810614055508523,
          19.810614055508523,
          21.792863923597587,
          21.792863923597587,
          21.792863923597587,
          22.18130949662151,
          22.18130949662151,
          22.18130949662151,
          22.542813600878695,
          22.542813600878695,
          23.35794718156373,
          23.35794718156373,
          23.35794718156373,
          24.105838694393764,
          24.105838694393764,
          24.105838694393764,
          24.105838694393764,
          24.105838694393764,
          24.105838694393764,
          25.652560797077857,
          25.652560797077857,
          25.652560797077857,
          25.652560797077857,
          25.652560797077857,
          25.652560797077857,
          25.652560797077857,
          25.652560797077857
         ],
         "yaxis": "y"
        }
       ],
       "layout": {
        "legend": {
         "tracegroupgap": 0
        },
        "template": {
         "data": {
          "bar": [
           {
            "error_x": {
             "color": "#2a3f5f"
            },
            "error_y": {
             "color": "#2a3f5f"
            },
            "marker": {
             "line": {
              "color": "#E5ECF6",
              "width": 0.5
             },
             "pattern": {
              "fillmode": "overlay",
              "size": 10,
              "solidity": 0.2
             }
            },
            "type": "bar"
           }
          ],
          "barpolar": [
           {
            "marker": {
             "line": {
              "color": "#E5ECF6",
              "width": 0.5
             },
             "pattern": {
              "fillmode": "overlay",
              "size": 10,
              "solidity": 0.2
             }
            },
            "type": "barpolar"
           }
          ],
          "carpet": [
           {
            "aaxis": {
             "endlinecolor": "#2a3f5f",
             "gridcolor": "white",
             "linecolor": "white",
             "minorgridcolor": "white",
             "startlinecolor": "#2a3f5f"
            },
            "baxis": {
             "endlinecolor": "#2a3f5f",
             "gridcolor": "white",
             "linecolor": "white",
             "minorgridcolor": "white",
             "startlinecolor": "#2a3f5f"
            },
            "type": "carpet"
           }
          ],
          "choropleth": [
           {
            "colorbar": {
             "outlinewidth": 0,
             "ticks": ""
            },
            "type": "choropleth"
           }
          ],
          "contour": [
           {
            "colorbar": {
             "outlinewidth": 0,
             "ticks": ""
            },
            "colorscale": [
             [
              0,
              "#0d0887"
             ],
             [
              0.1111111111111111,
              "#46039f"
             ],
             [
              0.2222222222222222,
              "#7201a8"
             ],
             [
              0.3333333333333333,
              "#9c179e"
             ],
             [
              0.4444444444444444,
              "#bd3786"
             ],
             [
              0.5555555555555556,
              "#d8576b"
             ],
             [
              0.6666666666666666,
              "#ed7953"
             ],
             [
              0.7777777777777778,
              "#fb9f3a"
             ],
             [
              0.8888888888888888,
              "#fdca26"
             ],
             [
              1,
              "#f0f921"
             ]
            ],
            "type": "contour"
           }
          ],
          "contourcarpet": [
           {
            "colorbar": {
             "outlinewidth": 0,
             "ticks": ""
            },
            "type": "contourcarpet"
           }
          ],
          "heatmap": [
           {
            "colorbar": {
             "outlinewidth": 0,
             "ticks": ""
            },
            "colorscale": [
             [
              0,
              "#0d0887"
             ],
             [
              0.1111111111111111,
              "#46039f"
             ],
             [
              0.2222222222222222,
              "#7201a8"
             ],
             [
              0.3333333333333333,
              "#9c179e"
             ],
             [
              0.4444444444444444,
              "#bd3786"
             ],
             [
              0.5555555555555556,
              "#d8576b"
             ],
             [
              0.6666666666666666,
              "#ed7953"
             ],
             [
              0.7777777777777778,
              "#fb9f3a"
             ],
             [
              0.8888888888888888,
              "#fdca26"
             ],
             [
              1,
              "#f0f921"
             ]
            ],
            "type": "heatmap"
           }
          ],
          "heatmapgl": [
           {
            "colorbar": {
             "outlinewidth": 0,
             "ticks": ""
            },
            "colorscale": [
             [
              0,
              "#0d0887"
             ],
             [
              0.1111111111111111,
              "#46039f"
             ],
             [
              0.2222222222222222,
              "#7201a8"
             ],
             [
              0.3333333333333333,
              "#9c179e"
             ],
             [
              0.4444444444444444,
              "#bd3786"
             ],
             [
              0.5555555555555556,
              "#d8576b"
             ],
             [
              0.6666666666666666,
              "#ed7953"
             ],
             [
              0.7777777777777778,
              "#fb9f3a"
             ],
             [
              0.8888888888888888,
              "#fdca26"
             ],
             [
              1,
              "#f0f921"
             ]
            ],
            "type": "heatmapgl"
           }
          ],
          "histogram": [
           {
            "marker": {
             "pattern": {
              "fillmode": "overlay",
              "size": 10,
              "solidity": 0.2
             }
            },
            "type": "histogram"
           }
          ],
          "histogram2d": [
           {
            "colorbar": {
             "outlinewidth": 0,
             "ticks": ""
            },
            "colorscale": [
             [
              0,
              "#0d0887"
             ],
             [
              0.1111111111111111,
              "#46039f"
             ],
             [
              0.2222222222222222,
              "#7201a8"
             ],
             [
              0.3333333333333333,
              "#9c179e"
             ],
             [
              0.4444444444444444,
              "#bd3786"
             ],
             [
              0.5555555555555556,
              "#d8576b"
             ],
             [
              0.6666666666666666,
              "#ed7953"
             ],
             [
              0.7777777777777778,
              "#fb9f3a"
             ],
             [
              0.8888888888888888,
              "#fdca26"
             ],
             [
              1,
              "#f0f921"
             ]
            ],
            "type": "histogram2d"
           }
          ],
          "histogram2dcontour": [
           {
            "colorbar": {
             "outlinewidth": 0,
             "ticks": ""
            },
            "colorscale": [
             [
              0,
              "#0d0887"
             ],
             [
              0.1111111111111111,
              "#46039f"
             ],
             [
              0.2222222222222222,
              "#7201a8"
             ],
             [
              0.3333333333333333,
              "#9c179e"
             ],
             [
              0.4444444444444444,
              "#bd3786"
             ],
             [
              0.5555555555555556,
              "#d8576b"
             ],
             [
              0.6666666666666666,
              "#ed7953"
             ],
             [
              0.7777777777777778,
              "#fb9f3a"
             ],
             [
              0.8888888888888888,
              "#fdca26"
             ],
             [
              1,
              "#f0f921"
             ]
            ],
            "type": "histogram2dcontour"
           }
          ],
          "mesh3d": [
           {
            "colorbar": {
             "outlinewidth": 0,
             "ticks": ""
            },
            "type": "mesh3d"
           }
          ],
          "parcoords": [
           {
            "line": {
             "colorbar": {
              "outlinewidth": 0,
              "ticks": ""
             }
            },
            "type": "parcoords"
           }
          ],
          "pie": [
           {
            "automargin": true,
            "type": "pie"
           }
          ],
          "scatter": [
           {
            "fillpattern": {
             "fillmode": "overlay",
             "size": 10,
             "solidity": 0.2
            },
            "type": "scatter"
           }
          ],
          "scatter3d": [
           {
            "line": {
             "colorbar": {
              "outlinewidth": 0,
              "ticks": ""
             }
            },
            "marker": {
             "colorbar": {
              "outlinewidth": 0,
              "ticks": ""
             }
            },
            "type": "scatter3d"
           }
          ],
          "scattercarpet": [
           {
            "marker": {
             "colorbar": {
              "outlinewidth": 0,
              "ticks": ""
             }
            },
            "type": "scattercarpet"
           }
          ],
          "scattergeo": [
           {
            "marker": {
             "colorbar": {
              "outlinewidth": 0,
              "ticks": ""
             }
            },
            "type": "scattergeo"
           }
          ],
          "scattergl": [
           {
            "marker": {
             "colorbar": {
              "outlinewidth": 0,
              "ticks": ""
             }
            },
            "type": "scattergl"
           }
          ],
          "scattermapbox": [
           {
            "marker": {
             "colorbar": {
              "outlinewidth": 0,
              "ticks": ""
             }
            },
            "type": "scattermapbox"
           }
          ],
          "scatterpolar": [
           {
            "marker": {
             "colorbar": {
              "outlinewidth": 0,
              "ticks": ""
             }
            },
            "type": "scatterpolar"
           }
          ],
          "scatterpolargl": [
           {
            "marker": {
             "colorbar": {
              "outlinewidth": 0,
              "ticks": ""
             }
            },
            "type": "scatterpolargl"
           }
          ],
          "scatterternary": [
           {
            "marker": {
             "colorbar": {
              "outlinewidth": 0,
              "ticks": ""
             }
            },
            "type": "scatterternary"
           }
          ],
          "surface": [
           {
            "colorbar": {
             "outlinewidth": 0,
             "ticks": ""
            },
            "colorscale": [
             [
              0,
              "#0d0887"
             ],
             [
              0.1111111111111111,
              "#46039f"
             ],
             [
              0.2222222222222222,
              "#7201a8"
             ],
             [
              0.3333333333333333,
              "#9c179e"
             ],
             [
              0.4444444444444444,
              "#bd3786"
             ],
             [
              0.5555555555555556,
              "#d8576b"
             ],
             [
              0.6666666666666666,
              "#ed7953"
             ],
             [
              0.7777777777777778,
              "#fb9f3a"
             ],
             [
              0.8888888888888888,
              "#fdca26"
             ],
             [
              1,
              "#f0f921"
             ]
            ],
            "type": "surface"
           }
          ],
          "table": [
           {
            "cells": {
             "fill": {
              "color": "#EBF0F8"
             },
             "line": {
              "color": "white"
             }
            },
            "header": {
             "fill": {
              "color": "#C8D4E3"
             },
             "line": {
              "color": "white"
             }
            },
            "type": "table"
           }
          ]
         },
         "layout": {
          "annotationdefaults": {
           "arrowcolor": "#2a3f5f",
           "arrowhead": 0,
           "arrowwidth": 1
          },
          "autotypenumbers": "strict",
          "coloraxis": {
           "colorbar": {
            "outlinewidth": 0,
            "ticks": ""
           }
          },
          "colorscale": {
           "diverging": [
            [
             0,
             "#8e0152"
            ],
            [
             0.1,
             "#c51b7d"
            ],
            [
             0.2,
             "#de77ae"
            ],
            [
             0.3,
             "#f1b6da"
            ],
            [
             0.4,
             "#fde0ef"
            ],
            [
             0.5,
             "#f7f7f7"
            ],
            [
             0.6,
             "#e6f5d0"
            ],
            [
             0.7,
             "#b8e186"
            ],
            [
             0.8,
             "#7fbc41"
            ],
            [
             0.9,
             "#4d9221"
            ],
            [
             1,
             "#276419"
            ]
           ],
           "sequential": [
            [
             0,
             "#0d0887"
            ],
            [
             0.1111111111111111,
             "#46039f"
            ],
            [
             0.2222222222222222,
             "#7201a8"
            ],
            [
             0.3333333333333333,
             "#9c179e"
            ],
            [
             0.4444444444444444,
             "#bd3786"
            ],
            [
             0.5555555555555556,
             "#d8576b"
            ],
            [
             0.6666666666666666,
             "#ed7953"
            ],
            [
             0.7777777777777778,
             "#fb9f3a"
            ],
            [
             0.8888888888888888,
             "#fdca26"
            ],
            [
             1,
             "#f0f921"
            ]
           ],
           "sequentialminus": [
            [
             0,
             "#0d0887"
            ],
            [
             0.1111111111111111,
             "#46039f"
            ],
            [
             0.2222222222222222,
             "#7201a8"
            ],
            [
             0.3333333333333333,
             "#9c179e"
            ],
            [
             0.4444444444444444,
             "#bd3786"
            ],
            [
             0.5555555555555556,
             "#d8576b"
            ],
            [
             0.6666666666666666,
             "#ed7953"
            ],
            [
             0.7777777777777778,
             "#fb9f3a"
            ],
            [
             0.8888888888888888,
             "#fdca26"
            ],
            [
             1,
             "#f0f921"
            ]
           ]
          },
          "colorway": [
           "#636efa",
           "#EF553B",
           "#00cc96",
           "#ab63fa",
           "#FFA15A",
           "#19d3f3",
           "#FF6692",
           "#B6E880",
           "#FF97FF",
           "#FECB52"
          ],
          "font": {
           "color": "#2a3f5f"
          },
          "geo": {
           "bgcolor": "white",
           "lakecolor": "white",
           "landcolor": "#E5ECF6",
           "showlakes": true,
           "showland": true,
           "subunitcolor": "white"
          },
          "hoverlabel": {
           "align": "left"
          },
          "hovermode": "closest",
          "mapbox": {
           "style": "light"
          },
          "paper_bgcolor": "white",
          "plot_bgcolor": "#E5ECF6",
          "polar": {
           "angularaxis": {
            "gridcolor": "white",
            "linecolor": "white",
            "ticks": ""
           },
           "bgcolor": "#E5ECF6",
           "radialaxis": {
            "gridcolor": "white",
            "linecolor": "white",
            "ticks": ""
           }
          },
          "scene": {
           "xaxis": {
            "backgroundcolor": "#E5ECF6",
            "gridcolor": "white",
            "gridwidth": 2,
            "linecolor": "white",
            "showbackground": true,
            "ticks": "",
            "zerolinecolor": "white"
           },
           "yaxis": {
            "backgroundcolor": "#E5ECF6",
            "gridcolor": "white",
            "gridwidth": 2,
            "linecolor": "white",
            "showbackground": true,
            "ticks": "",
            "zerolinecolor": "white"
           },
           "zaxis": {
            "backgroundcolor": "#E5ECF6",
            "gridcolor": "white",
            "gridwidth": 2,
            "linecolor": "white",
            "showbackground": true,
            "ticks": "",
            "zerolinecolor": "white"
           }
          },
          "shapedefaults": {
           "line": {
            "color": "#2a3f5f"
           }
          },
          "ternary": {
           "aaxis": {
            "gridcolor": "white",
            "linecolor": "white",
            "ticks": ""
           },
           "baxis": {
            "gridcolor": "white",
            "linecolor": "white",
            "ticks": ""
           },
           "bgcolor": "#E5ECF6",
           "caxis": {
            "gridcolor": "white",
            "linecolor": "white",
            "ticks": ""
           }
          },
          "title": {
           "x": 0.05
          },
          "xaxis": {
           "automargin": true,
           "gridcolor": "white",
           "linecolor": "white",
           "ticks": "",
           "title": {
            "standoff": 15
           },
           "zerolinecolor": "white",
           "zerolinewidth": 2
          },
          "yaxis": {
           "automargin": true,
           "gridcolor": "white",
           "linecolor": "white",
           "ticks": "",
           "title": {
            "standoff": 15
           },
           "zerolinecolor": "white",
           "zerolinewidth": 2
          }
         }
        },
        "title": {
         "text": "Time Taken by Bus from Origin"
        },
        "xaxis": {
         "anchor": "y",
         "domain": [
          0,
          1
         ],
         "title": {
          "text": "time_from_start"
         }
        },
        "yaxis": {
         "anchor": "x",
         "domain": [
          0,
          1
         ],
         "title": {
          "text": "dist_from_start"
         }
        }
       }
      },
      "text/html": [
       "<div>                            <div id=\"f0853cee-a316-410e-af3d-229d0cbb5f21\" class=\"plotly-graph-div\" style=\"height:525px; width:100%;\"></div>            <script type=\"text/javascript\">                require([\"plotly\"], function(Plotly) {                    window.PLOTLYENV=window.PLOTLYENV || {};                                    if (document.getElementById(\"f0853cee-a316-410e-af3d-229d0cbb5f21\")) {                    Plotly.newPlot(                        \"f0853cee-a316-410e-af3d-229d0cbb5f21\",                        [{\"hovertemplate\":\"time_from_start=%{x}<br>dist_from_start=%{y}<extra></extra>\",\"legendgroup\":\"\",\"line\":{\"color\":\"#FF7355\",\"dash\":\"solid\"},\"marker\":{\"symbol\":\"circle\"},\"mode\":\"lines\",\"name\":\"From ETM data\",\"orientation\":\"v\",\"showlegend\":true,\"x\":[0,4.733333333333333,5.25,5.666666666666667,5.783333333333333,5.9,6.066666666666666,6.366666666666666,6.833333333333333,9.016666666666667,9.25,10.116666666666667,10.4,10.45,11.65,12.016666666666667,12.2,12.3,13.3,15.683333333333334,15.883333333333333,16.05,16.216666666666665,16.266666666666666,16.45,16.866666666666667,17.566666666666666,17.95,19.45,19.566666666666666,19.683333333333334,19.8,20.0,20.116666666666667,20.166666666666668,21.416666666666668,21.6,21.7,21.8,22.233333333333334,22.366666666666667,22.766666666666666,22.85,22.983333333333334,23.033333333333335,23.116666666666667,23.716666666666665,23.833333333333332,23.966666666666665,24.25,24.383333333333333,24.633333333333333,24.95,25.116666666666667,25.333333333333332,25.466666666666665,25.8,26.4,26.633333333333333,26.766666666666666,26.816666666666666,26.966666666666665,27.0,27.05,27.316666666666666,27.4,28.033333333333335,28.216666666666665,29.0,29.166666666666668,29.216666666666665,29.55,29.6,29.633333333333333,29.683333333333334,29.716666666666665,29.933333333333334,30.233333333333334,30.516666666666666,32.13333333333333,34.516666666666666,34.71666666666667,40.95,41.03333333333333,41.25,41.733333333333334,42.61666666666667,43.333333333333336,43.483333333333334,43.516666666666666,43.85,43.9,44.1,44.13333333333333,44.18333333333333,44.266666666666666,46.233333333333334,46.483333333333334,46.71666666666667,48.983333333333334,49.95,51.233333333333334,51.35,52.516666666666666,53.733333333333334,53.86666666666667,55.1,55.3,55.416666666666664,57.916666666666664,58.05,58.68333333333333,60.71666666666667,61.2,61.93333333333333,62.05,62.25,62.416666666666664,62.583333333333336,62.733333333333334,63.46666666666667,64.18333333333334,64.21666666666667,64.26666666666667,64.3,64.38333333333334,64.43333333333334,67.08333333333333],\"xaxis\":\"x\",\"y\":[0.0,0.5151172419312671,0.9325897087687918,0.9325897087687918,0.9325897087687918,0.9325897087687918,0.9325897087687918,0.9325897087687918,0.9325897087687918,1.369395571290791,1.369395571290791,1.369395571290791,1.369395571290791,1.369395571290791,1.7715991783557299,1.7715991783557299,1.7715991783557299,1.7715991783557299,1.7715991783557299,4.430110739681234,4.430110739681234,4.430110739681234,4.430110739681234,4.430110739681234,4.430110739681234,4.430110739681234,4.430110739681234,4.430110739681234,6.073989748724833,6.073989748724833,6.073989748724833,6.073989748724833,6.073989748724833,6.073989748724833,6.073989748724833,6.073989748724833,6.073989748724833,6.073989748724833,6.073989748724833,6.073989748724833,6.073989748724833,6.578905909591308,6.578905909591308,6.578905909591308,6.578905909591308,6.578905909591308,6.578905909591308,6.578905909591308,6.578905909591308,6.578905909591308,6.578905909591308,6.578905909591308,6.578905909591308,8.57285583626641,8.57285583626641,8.57285583626641,8.57285583626641,8.57285583626641,8.57285583626641,8.795514807086938,8.795514807086938,8.795514807086938,8.795514807086938,8.795514807086938,8.795514807086938,8.795514807086938,8.795514807086938,8.795514807086938,8.795514807086938,8.795514807086938,8.795514807086938,8.795514807086938,8.795514807086938,8.795514807086938,8.795514807086938,8.795514807086938,8.795514807086938,8.795514807086938,9.279113015426887,10.949148356796357,12.619183698165827,14.980419042826828,15.324947140048387,15.324947140048387,15.324947140048387,17.04737686141287,17.04737686141287,17.04737686141287,17.04737686141287,17.04737686141287,17.04737686141287,17.04737686141287,17.513969667497665,17.513969667497665,17.513969667497665,17.513969667497665,18.720108766424907,18.720108766424907,18.720108766424907,19.17835017983006,19.17835017983006,19.810614055508523,19.810614055508523,21.792863923597587,21.792863923597587,21.792863923597587,22.18130949662151,22.18130949662151,22.18130949662151,22.542813600878695,22.542813600878695,23.35794718156373,23.35794718156373,23.35794718156373,24.105838694393764,24.105838694393764,24.105838694393764,24.105838694393764,24.105838694393764,24.105838694393764,25.652560797077857,25.652560797077857,25.652560797077857,25.652560797077857,25.652560797077857,25.652560797077857,25.652560797077857,25.652560797077857],\"yaxis\":\"y\",\"type\":\"scatter\"}],                        {\"template\":{\"data\":{\"histogram2dcontour\":[{\"type\":\"histogram2dcontour\",\"colorbar\":{\"outlinewidth\":0,\"ticks\":\"\"},\"colorscale\":[[0.0,\"#0d0887\"],[0.1111111111111111,\"#46039f\"],[0.2222222222222222,\"#7201a8\"],[0.3333333333333333,\"#9c179e\"],[0.4444444444444444,\"#bd3786\"],[0.5555555555555556,\"#d8576b\"],[0.6666666666666666,\"#ed7953\"],[0.7777777777777778,\"#fb9f3a\"],[0.8888888888888888,\"#fdca26\"],[1.0,\"#f0f921\"]]}],\"choropleth\":[{\"type\":\"choropleth\",\"colorbar\":{\"outlinewidth\":0,\"ticks\":\"\"}}],\"histogram2d\":[{\"type\":\"histogram2d\",\"colorbar\":{\"outlinewidth\":0,\"ticks\":\"\"},\"colorscale\":[[0.0,\"#0d0887\"],[0.1111111111111111,\"#46039f\"],[0.2222222222222222,\"#7201a8\"],[0.3333333333333333,\"#9c179e\"],[0.4444444444444444,\"#bd3786\"],[0.5555555555555556,\"#d8576b\"],[0.6666666666666666,\"#ed7953\"],[0.7777777777777778,\"#fb9f3a\"],[0.8888888888888888,\"#fdca26\"],[1.0,\"#f0f921\"]]}],\"heatmap\":[{\"type\":\"heatmap\",\"colorbar\":{\"outlinewidth\":0,\"ticks\":\"\"},\"colorscale\":[[0.0,\"#0d0887\"],[0.1111111111111111,\"#46039f\"],[0.2222222222222222,\"#7201a8\"],[0.3333333333333333,\"#9c179e\"],[0.4444444444444444,\"#bd3786\"],[0.5555555555555556,\"#d8576b\"],[0.6666666666666666,\"#ed7953\"],[0.7777777777777778,\"#fb9f3a\"],[0.8888888888888888,\"#fdca26\"],[1.0,\"#f0f921\"]]}],\"heatmapgl\":[{\"type\":\"heatmapgl\",\"colorbar\":{\"outlinewidth\":0,\"ticks\":\"\"},\"colorscale\":[[0.0,\"#0d0887\"],[0.1111111111111111,\"#46039f\"],[0.2222222222222222,\"#7201a8\"],[0.3333333333333333,\"#9c179e\"],[0.4444444444444444,\"#bd3786\"],[0.5555555555555556,\"#d8576b\"],[0.6666666666666666,\"#ed7953\"],[0.7777777777777778,\"#fb9f3a\"],[0.8888888888888888,\"#fdca26\"],[1.0,\"#f0f921\"]]}],\"contourcarpet\":[{\"type\":\"contourcarpet\",\"colorbar\":{\"outlinewidth\":0,\"ticks\":\"\"}}],\"contour\":[{\"type\":\"contour\",\"colorbar\":{\"outlinewidth\":0,\"ticks\":\"\"},\"colorscale\":[[0.0,\"#0d0887\"],[0.1111111111111111,\"#46039f\"],[0.2222222222222222,\"#7201a8\"],[0.3333333333333333,\"#9c179e\"],[0.4444444444444444,\"#bd3786\"],[0.5555555555555556,\"#d8576b\"],[0.6666666666666666,\"#ed7953\"],[0.7777777777777778,\"#fb9f3a\"],[0.8888888888888888,\"#fdca26\"],[1.0,\"#f0f921\"]]}],\"surface\":[{\"type\":\"surface\",\"colorbar\":{\"outlinewidth\":0,\"ticks\":\"\"},\"colorscale\":[[0.0,\"#0d0887\"],[0.1111111111111111,\"#46039f\"],[0.2222222222222222,\"#7201a8\"],[0.3333333333333333,\"#9c179e\"],[0.4444444444444444,\"#bd3786\"],[0.5555555555555556,\"#d8576b\"],[0.6666666666666666,\"#ed7953\"],[0.7777777777777778,\"#fb9f3a\"],[0.8888888888888888,\"#fdca26\"],[1.0,\"#f0f921\"]]}],\"mesh3d\":[{\"type\":\"mesh3d\",\"colorbar\":{\"outlinewidth\":0,\"ticks\":\"\"}}],\"scatter\":[{\"fillpattern\":{\"fillmode\":\"overlay\",\"size\":10,\"solidity\":0.2},\"type\":\"scatter\"}],\"parcoords\":[{\"type\":\"parcoords\",\"line\":{\"colorbar\":{\"outlinewidth\":0,\"ticks\":\"\"}}}],\"scatterpolargl\":[{\"type\":\"scatterpolargl\",\"marker\":{\"colorbar\":{\"outlinewidth\":0,\"ticks\":\"\"}}}],\"bar\":[{\"error_x\":{\"color\":\"#2a3f5f\"},\"error_y\":{\"color\":\"#2a3f5f\"},\"marker\":{\"line\":{\"color\":\"#E5ECF6\",\"width\":0.5},\"pattern\":{\"fillmode\":\"overlay\",\"size\":10,\"solidity\":0.2}},\"type\":\"bar\"}],\"scattergeo\":[{\"type\":\"scattergeo\",\"marker\":{\"colorbar\":{\"outlinewidth\":0,\"ticks\":\"\"}}}],\"scatterpolar\":[{\"type\":\"scatterpolar\",\"marker\":{\"colorbar\":{\"outlinewidth\":0,\"ticks\":\"\"}}}],\"histogram\":[{\"marker\":{\"pattern\":{\"fillmode\":\"overlay\",\"size\":10,\"solidity\":0.2}},\"type\":\"histogram\"}],\"scattergl\":[{\"type\":\"scattergl\",\"marker\":{\"colorbar\":{\"outlinewidth\":0,\"ticks\":\"\"}}}],\"scatter3d\":[{\"type\":\"scatter3d\",\"line\":{\"colorbar\":{\"outlinewidth\":0,\"ticks\":\"\"}},\"marker\":{\"colorbar\":{\"outlinewidth\":0,\"ticks\":\"\"}}}],\"scattermapbox\":[{\"type\":\"scattermapbox\",\"marker\":{\"colorbar\":{\"outlinewidth\":0,\"ticks\":\"\"}}}],\"scatterternary\":[{\"type\":\"scatterternary\",\"marker\":{\"colorbar\":{\"outlinewidth\":0,\"ticks\":\"\"}}}],\"scattercarpet\":[{\"type\":\"scattercarpet\",\"marker\":{\"colorbar\":{\"outlinewidth\":0,\"ticks\":\"\"}}}],\"carpet\":[{\"aaxis\":{\"endlinecolor\":\"#2a3f5f\",\"gridcolor\":\"white\",\"linecolor\":\"white\",\"minorgridcolor\":\"white\",\"startlinecolor\":\"#2a3f5f\"},\"baxis\":{\"endlinecolor\":\"#2a3f5f\",\"gridcolor\":\"white\",\"linecolor\":\"white\",\"minorgridcolor\":\"white\",\"startlinecolor\":\"#2a3f5f\"},\"type\":\"carpet\"}],\"table\":[{\"cells\":{\"fill\":{\"color\":\"#EBF0F8\"},\"line\":{\"color\":\"white\"}},\"header\":{\"fill\":{\"color\":\"#C8D4E3\"},\"line\":{\"color\":\"white\"}},\"type\":\"table\"}],\"barpolar\":[{\"marker\":{\"line\":{\"color\":\"#E5ECF6\",\"width\":0.5},\"pattern\":{\"fillmode\":\"overlay\",\"size\":10,\"solidity\":0.2}},\"type\":\"barpolar\"}],\"pie\":[{\"automargin\":true,\"type\":\"pie\"}]},\"layout\":{\"autotypenumbers\":\"strict\",\"colorway\":[\"#636efa\",\"#EF553B\",\"#00cc96\",\"#ab63fa\",\"#FFA15A\",\"#19d3f3\",\"#FF6692\",\"#B6E880\",\"#FF97FF\",\"#FECB52\"],\"font\":{\"color\":\"#2a3f5f\"},\"hovermode\":\"closest\",\"hoverlabel\":{\"align\":\"left\"},\"paper_bgcolor\":\"white\",\"plot_bgcolor\":\"#E5ECF6\",\"polar\":{\"bgcolor\":\"#E5ECF6\",\"angularaxis\":{\"gridcolor\":\"white\",\"linecolor\":\"white\",\"ticks\":\"\"},\"radialaxis\":{\"gridcolor\":\"white\",\"linecolor\":\"white\",\"ticks\":\"\"}},\"ternary\":{\"bgcolor\":\"#E5ECF6\",\"aaxis\":{\"gridcolor\":\"white\",\"linecolor\":\"white\",\"ticks\":\"\"},\"baxis\":{\"gridcolor\":\"white\",\"linecolor\":\"white\",\"ticks\":\"\"},\"caxis\":{\"gridcolor\":\"white\",\"linecolor\":\"white\",\"ticks\":\"\"}},\"coloraxis\":{\"colorbar\":{\"outlinewidth\":0,\"ticks\":\"\"}},\"colorscale\":{\"sequential\":[[0.0,\"#0d0887\"],[0.1111111111111111,\"#46039f\"],[0.2222222222222222,\"#7201a8\"],[0.3333333333333333,\"#9c179e\"],[0.4444444444444444,\"#bd3786\"],[0.5555555555555556,\"#d8576b\"],[0.6666666666666666,\"#ed7953\"],[0.7777777777777778,\"#fb9f3a\"],[0.8888888888888888,\"#fdca26\"],[1.0,\"#f0f921\"]],\"sequentialminus\":[[0.0,\"#0d0887\"],[0.1111111111111111,\"#46039f\"],[0.2222222222222222,\"#7201a8\"],[0.3333333333333333,\"#9c179e\"],[0.4444444444444444,\"#bd3786\"],[0.5555555555555556,\"#d8576b\"],[0.6666666666666666,\"#ed7953\"],[0.7777777777777778,\"#fb9f3a\"],[0.8888888888888888,\"#fdca26\"],[1.0,\"#f0f921\"]],\"diverging\":[[0,\"#8e0152\"],[0.1,\"#c51b7d\"],[0.2,\"#de77ae\"],[0.3,\"#f1b6da\"],[0.4,\"#fde0ef\"],[0.5,\"#f7f7f7\"],[0.6,\"#e6f5d0\"],[0.7,\"#b8e186\"],[0.8,\"#7fbc41\"],[0.9,\"#4d9221\"],[1,\"#276419\"]]},\"xaxis\":{\"gridcolor\":\"white\",\"linecolor\":\"white\",\"ticks\":\"\",\"title\":{\"standoff\":15},\"zerolinecolor\":\"white\",\"automargin\":true,\"zerolinewidth\":2},\"yaxis\":{\"gridcolor\":\"white\",\"linecolor\":\"white\",\"ticks\":\"\",\"title\":{\"standoff\":15},\"zerolinecolor\":\"white\",\"automargin\":true,\"zerolinewidth\":2},\"scene\":{\"xaxis\":{\"backgroundcolor\":\"#E5ECF6\",\"gridcolor\":\"white\",\"linecolor\":\"white\",\"showbackground\":true,\"ticks\":\"\",\"zerolinecolor\":\"white\",\"gridwidth\":2},\"yaxis\":{\"backgroundcolor\":\"#E5ECF6\",\"gridcolor\":\"white\",\"linecolor\":\"white\",\"showbackground\":true,\"ticks\":\"\",\"zerolinecolor\":\"white\",\"gridwidth\":2},\"zaxis\":{\"backgroundcolor\":\"#E5ECF6\",\"gridcolor\":\"white\",\"linecolor\":\"white\",\"showbackground\":true,\"ticks\":\"\",\"zerolinecolor\":\"white\",\"gridwidth\":2}},\"shapedefaults\":{\"line\":{\"color\":\"#2a3f5f\"}},\"annotationdefaults\":{\"arrowcolor\":\"#2a3f5f\",\"arrowhead\":0,\"arrowwidth\":1},\"geo\":{\"bgcolor\":\"white\",\"landcolor\":\"#E5ECF6\",\"subunitcolor\":\"white\",\"showland\":true,\"showlakes\":true,\"lakecolor\":\"white\"},\"title\":{\"x\":0.05},\"mapbox\":{\"style\":\"light\"}}},\"xaxis\":{\"anchor\":\"y\",\"domain\":[0.0,1.0],\"title\":{\"text\":\"time_from_start\"}},\"yaxis\":{\"anchor\":\"x\",\"domain\":[0.0,1.0],\"title\":{\"text\":\"dist_from_start\"}},\"legend\":{\"tracegroupgap\":0},\"title\":{\"text\":\"Time Taken by Bus from Origin\"}},                        {\"responsive\": true}                    ).then(function(){\n",
       "                            \n",
       "var gd = document.getElementById('f0853cee-a316-410e-af3d-229d0cbb5f21');\n",
       "var x = new MutationObserver(function (mutations, observer) {{\n",
       "        var display = window.getComputedStyle(gd).display;\n",
       "        if (!display || display === 'none') {{\n",
       "            console.log([gd, 'removed!']);\n",
       "            Plotly.purge(gd);\n",
       "            observer.disconnect();\n",
       "        }}\n",
       "}});\n",
       "\n",
       "// Listen for the removal of the full notebook cells\n",
       "var notebookContainer = gd.closest('#notebook-container');\n",
       "if (notebookContainer) {{\n",
       "    x.observe(notebookContainer, {childList: true});\n",
       "}}\n",
       "\n",
       "// Listen for the clearing of the current output cell\n",
       "var outputEl = gd.closest('.output');\n",
       "if (outputEl) {{\n",
       "    x.observe(outputEl, {childList: true});\n",
       "}}\n",
       "\n",
       "                        })                };                });            </script>        </div>"
      ]
     },
     "metadata": {},
     "output_type": "display_data"
    }
   ],
   "source": [
    "fig_etm = px.line(df_etm, y=\"dist_from_start\", x=\"time_from_start\",title=\"Time Taken by Bus from Origin\")\n",
    "fig_etm.update_traces(line_color='#FF7355')\n",
    "fig_etm.data[0].name=\"From ETM data\"\n",
    "fig_etm.update_traces(showlegend=True)"
   ]
  },
  {
   "cell_type": "code",
   "execution_count": null,
   "id": "a70d0947",
   "metadata": {},
   "outputs": [],
   "source": []
  },
  {
   "cell_type": "code",
   "execution_count": 60,
   "id": "5e87853a",
   "metadata": {},
   "outputs": [
    {
     "data": {
      "application/vnd.plotly.v1+json": {
       "config": {
        "plotlyServerURL": "https://plot.ly"
       },
       "data": [
        {
         "hovertemplate": "time_from_start=%{x}<br>dist_from_start=%{y}<extra></extra>",
         "legendgroup": "",
         "line": {
          "color": "#FF7355",
          "dash": "solid"
         },
         "marker": {
          "symbol": "circle"
         },
         "mode": "lines",
         "name": "From ETM data",
         "orientation": "v",
         "showlegend": true,
         "type": "scatter",
         "x": [
          0,
          4.733333333333333,
          5.25,
          5.666666666666667,
          5.783333333333333,
          5.9,
          6.066666666666666,
          6.366666666666666,
          6.833333333333333,
          9.016666666666667,
          9.25,
          10.116666666666667,
          10.4,
          10.45,
          11.65,
          12.016666666666667,
          12.2,
          12.3,
          13.3,
          15.683333333333334,
          15.883333333333333,
          16.05,
          16.216666666666665,
          16.266666666666666,
          16.45,
          16.866666666666667,
          17.566666666666666,
          17.95,
          19.45,
          19.566666666666666,
          19.683333333333334,
          19.8,
          20,
          20.116666666666667,
          20.166666666666668,
          21.416666666666668,
          21.6,
          21.7,
          21.8,
          22.233333333333334,
          22.366666666666667,
          22.766666666666666,
          22.85,
          22.983333333333334,
          23.033333333333335,
          23.116666666666667,
          23.716666666666665,
          23.833333333333332,
          23.966666666666665,
          24.25,
          24.383333333333333,
          24.633333333333333,
          24.95,
          25.116666666666667,
          25.333333333333332,
          25.466666666666665,
          25.8,
          26.4,
          26.633333333333333,
          26.766666666666666,
          26.816666666666666,
          26.966666666666665,
          27,
          27.05,
          27.316666666666666,
          27.4,
          28.033333333333335,
          28.216666666666665,
          29,
          29.166666666666668,
          29.216666666666665,
          29.55,
          29.6,
          29.633333333333333,
          29.683333333333334,
          29.716666666666665,
          29.933333333333334,
          30.233333333333334,
          30.516666666666666,
          32.13333333333333,
          34.516666666666666,
          34.71666666666667,
          40.95,
          41.03333333333333,
          41.25,
          41.733333333333334,
          42.61666666666667,
          43.333333333333336,
          43.483333333333334,
          43.516666666666666,
          43.85,
          43.9,
          44.1,
          44.13333333333333,
          44.18333333333333,
          44.266666666666666,
          46.233333333333334,
          46.483333333333334,
          46.71666666666667,
          48.983333333333334,
          49.95,
          51.233333333333334,
          51.35,
          52.516666666666666,
          53.733333333333334,
          53.86666666666667,
          55.1,
          55.3,
          55.416666666666664,
          57.916666666666664,
          58.05,
          58.68333333333333,
          60.71666666666667,
          61.2,
          61.93333333333333,
          62.05,
          62.25,
          62.416666666666664,
          62.583333333333336,
          62.733333333333334,
          63.46666666666667,
          64.18333333333334,
          64.21666666666667,
          64.26666666666667,
          64.3,
          64.38333333333334,
          64.43333333333334,
          67.08333333333333
         ],
         "xaxis": "x",
         "y": [
          0,
          0.5151172419312671,
          0.9325897087687918,
          0.9325897087687918,
          0.9325897087687918,
          0.9325897087687918,
          0.9325897087687918,
          0.9325897087687918,
          0.9325897087687918,
          1.369395571290791,
          1.369395571290791,
          1.369395571290791,
          1.369395571290791,
          1.369395571290791,
          1.7715991783557299,
          1.7715991783557299,
          1.7715991783557299,
          1.7715991783557299,
          1.7715991783557299,
          4.430110739681234,
          4.430110739681234,
          4.430110739681234,
          4.430110739681234,
          4.430110739681234,
          4.430110739681234,
          4.430110739681234,
          4.430110739681234,
          4.430110739681234,
          6.073989748724833,
          6.073989748724833,
          6.073989748724833,
          6.073989748724833,
          6.073989748724833,
          6.073989748724833,
          6.073989748724833,
          6.073989748724833,
          6.073989748724833,
          6.073989748724833,
          6.073989748724833,
          6.073989748724833,
          6.073989748724833,
          6.578905909591308,
          6.578905909591308,
          6.578905909591308,
          6.578905909591308,
          6.578905909591308,
          6.578905909591308,
          6.578905909591308,
          6.578905909591308,
          6.578905909591308,
          6.578905909591308,
          6.578905909591308,
          6.578905909591308,
          8.57285583626641,
          8.57285583626641,
          8.57285583626641,
          8.57285583626641,
          8.57285583626641,
          8.57285583626641,
          8.795514807086938,
          8.795514807086938,
          8.795514807086938,
          8.795514807086938,
          8.795514807086938,
          8.795514807086938,
          8.795514807086938,
          8.795514807086938,
          8.795514807086938,
          8.795514807086938,
          8.795514807086938,
          8.795514807086938,
          8.795514807086938,
          8.795514807086938,
          8.795514807086938,
          8.795514807086938,
          8.795514807086938,
          8.795514807086938,
          8.795514807086938,
          9.279113015426887,
          10.949148356796357,
          12.619183698165827,
          14.980419042826828,
          15.324947140048387,
          15.324947140048387,
          15.324947140048387,
          17.04737686141287,
          17.04737686141287,
          17.04737686141287,
          17.04737686141287,
          17.04737686141287,
          17.04737686141287,
          17.04737686141287,
          17.513969667497665,
          17.513969667497665,
          17.513969667497665,
          17.513969667497665,
          18.720108766424907,
          18.720108766424907,
          18.720108766424907,
          19.17835017983006,
          19.17835017983006,
          19.810614055508523,
          19.810614055508523,
          21.792863923597587,
          21.792863923597587,
          21.792863923597587,
          22.18130949662151,
          22.18130949662151,
          22.18130949662151,
          22.542813600878695,
          22.542813600878695,
          23.35794718156373,
          23.35794718156373,
          23.35794718156373,
          24.105838694393764,
          24.105838694393764,
          24.105838694393764,
          24.105838694393764,
          24.105838694393764,
          24.105838694393764,
          25.652560797077857,
          25.652560797077857,
          25.652560797077857,
          25.652560797077857,
          25.652560797077857,
          25.652560797077857,
          25.652560797077857,
          25.652560797077857
         ],
         "yaxis": "y"
        },
        {
         "hovertemplate": "time_from_start=%{x}<br>dist_from_start=%{y}<extra></extra>",
         "legendgroup": "",
         "line": {
          "color": "#636efa",
          "dash": "solid"
         },
         "marker": {
          "symbol": "circle"
         },
         "mode": "lines",
         "name": "From Realtime data",
         "orientation": "v",
         "showlegend": true,
         "type": "scatter",
         "x": [
          0,
          1,
          2,
          3,
          4,
          5,
          6,
          7,
          8,
          9,
          10,
          11,
          12,
          13,
          14,
          15,
          16,
          17,
          18,
          19,
          20,
          21,
          22,
          23,
          25,
          26,
          27,
          28,
          29,
          30,
          31,
          32,
          33,
          34,
          35,
          36,
          37,
          38,
          39,
          40,
          41,
          42,
          43,
          44,
          45,
          46,
          47,
          48,
          49,
          50,
          51,
          52,
          53,
          54,
          55,
          56,
          57,
          58,
          59,
          60,
          61,
          62,
          63,
          64,
          65,
          66,
          67,
          68,
          69,
          70,
          71,
          72,
          73,
          74,
          75,
          76,
          77,
          78,
          79,
          80
         ],
         "xaxis": "x",
         "y": [
          0,
          0.31950154393191416,
          0.5666109153351523,
          1.0137664467804108,
          1.429335193306128,
          1.590070279025815,
          1.5959502230939586,
          1.6823388365445253,
          2.2495235851637374,
          2.7540172094056756,
          3.111767381690147,
          3.635264073617229,
          3.9959244319753755,
          4.392758804831551,
          4.751951748474951,
          5.479608607674121,
          5.78770653609863,
          6.0650381580478845,
          6.332139007233947,
          6.72835676393312,
          7.025797414477183,
          7.684993044866725,
          8.037735366247361,
          8.502459988335922,
          8.861846759452758,
          9.31482150158576,
          10.069242256060711,
          10.526552285122758,
          10.941696704439096,
          11.426015561057689,
          11.648593877669764,
          12.159706096920033,
          12.868569931445068,
          13.047087950468363,
          13.531838896788404,
          13.722520409420529,
          13.857540005842154,
          14.249110592821172,
          14.600445166449136,
          14.826805056324394,
          15.294716876003742,
          15.535626710080313,
          15.535626710080313,
          16.032530055376053,
          16.746674667309478,
          17.207060331487252,
          17.4704025224945,
          17.610877371667165,
          17.789172115802728,
          18.1610694637307,
          18.322893345218276,
          19.15299804988798,
          19.45745385288002,
          19.45745385288002,
          20.2643805138908,
          20.655510630291793,
          20.894627911183814,
          21.47538861460993,
          22.06493166527497,
          22.407800412932783,
          23.06218930164166,
          23.688825032321258,
          24.33523585349985,
          25.039012288256014,
          25.524540125749873,
          26.043920457455915,
          26.711437991566562,
          27.592044037554736,
          28.085317656793983,
          28.594905895297277,
          28.622333888262204,
          28.622333888262204,
          29.373215979476488,
          29.61091055099482,
          29.61344179161575,
          29.615973757620004,
          29.6171882783593,
          29.61810723468165,
          29.620572394972772,
          29.62625618307054
         ],
         "yaxis": "y"
        }
       ],
       "layout": {
        "template": {
         "data": {
          "bar": [
           {
            "error_x": {
             "color": "#2a3f5f"
            },
            "error_y": {
             "color": "#2a3f5f"
            },
            "marker": {
             "line": {
              "color": "#E5ECF6",
              "width": 0.5
             },
             "pattern": {
              "fillmode": "overlay",
              "size": 10,
              "solidity": 0.2
             }
            },
            "type": "bar"
           }
          ],
          "barpolar": [
           {
            "marker": {
             "line": {
              "color": "#E5ECF6",
              "width": 0.5
             },
             "pattern": {
              "fillmode": "overlay",
              "size": 10,
              "solidity": 0.2
             }
            },
            "type": "barpolar"
           }
          ],
          "carpet": [
           {
            "aaxis": {
             "endlinecolor": "#2a3f5f",
             "gridcolor": "white",
             "linecolor": "white",
             "minorgridcolor": "white",
             "startlinecolor": "#2a3f5f"
            },
            "baxis": {
             "endlinecolor": "#2a3f5f",
             "gridcolor": "white",
             "linecolor": "white",
             "minorgridcolor": "white",
             "startlinecolor": "#2a3f5f"
            },
            "type": "carpet"
           }
          ],
          "choropleth": [
           {
            "colorbar": {
             "outlinewidth": 0,
             "ticks": ""
            },
            "type": "choropleth"
           }
          ],
          "contour": [
           {
            "colorbar": {
             "outlinewidth": 0,
             "ticks": ""
            },
            "colorscale": [
             [
              0,
              "#0d0887"
             ],
             [
              0.1111111111111111,
              "#46039f"
             ],
             [
              0.2222222222222222,
              "#7201a8"
             ],
             [
              0.3333333333333333,
              "#9c179e"
             ],
             [
              0.4444444444444444,
              "#bd3786"
             ],
             [
              0.5555555555555556,
              "#d8576b"
             ],
             [
              0.6666666666666666,
              "#ed7953"
             ],
             [
              0.7777777777777778,
              "#fb9f3a"
             ],
             [
              0.8888888888888888,
              "#fdca26"
             ],
             [
              1,
              "#f0f921"
             ]
            ],
            "type": "contour"
           }
          ],
          "contourcarpet": [
           {
            "colorbar": {
             "outlinewidth": 0,
             "ticks": ""
            },
            "type": "contourcarpet"
           }
          ],
          "heatmap": [
           {
            "colorbar": {
             "outlinewidth": 0,
             "ticks": ""
            },
            "colorscale": [
             [
              0,
              "#0d0887"
             ],
             [
              0.1111111111111111,
              "#46039f"
             ],
             [
              0.2222222222222222,
              "#7201a8"
             ],
             [
              0.3333333333333333,
              "#9c179e"
             ],
             [
              0.4444444444444444,
              "#bd3786"
             ],
             [
              0.5555555555555556,
              "#d8576b"
             ],
             [
              0.6666666666666666,
              "#ed7953"
             ],
             [
              0.7777777777777778,
              "#fb9f3a"
             ],
             [
              0.8888888888888888,
              "#fdca26"
             ],
             [
              1,
              "#f0f921"
             ]
            ],
            "type": "heatmap"
           }
          ],
          "heatmapgl": [
           {
            "colorbar": {
             "outlinewidth": 0,
             "ticks": ""
            },
            "colorscale": [
             [
              0,
              "#0d0887"
             ],
             [
              0.1111111111111111,
              "#46039f"
             ],
             [
              0.2222222222222222,
              "#7201a8"
             ],
             [
              0.3333333333333333,
              "#9c179e"
             ],
             [
              0.4444444444444444,
              "#bd3786"
             ],
             [
              0.5555555555555556,
              "#d8576b"
             ],
             [
              0.6666666666666666,
              "#ed7953"
             ],
             [
              0.7777777777777778,
              "#fb9f3a"
             ],
             [
              0.8888888888888888,
              "#fdca26"
             ],
             [
              1,
              "#f0f921"
             ]
            ],
            "type": "heatmapgl"
           }
          ],
          "histogram": [
           {
            "marker": {
             "pattern": {
              "fillmode": "overlay",
              "size": 10,
              "solidity": 0.2
             }
            },
            "type": "histogram"
           }
          ],
          "histogram2d": [
           {
            "colorbar": {
             "outlinewidth": 0,
             "ticks": ""
            },
            "colorscale": [
             [
              0,
              "#0d0887"
             ],
             [
              0.1111111111111111,
              "#46039f"
             ],
             [
              0.2222222222222222,
              "#7201a8"
             ],
             [
              0.3333333333333333,
              "#9c179e"
             ],
             [
              0.4444444444444444,
              "#bd3786"
             ],
             [
              0.5555555555555556,
              "#d8576b"
             ],
             [
              0.6666666666666666,
              "#ed7953"
             ],
             [
              0.7777777777777778,
              "#fb9f3a"
             ],
             [
              0.8888888888888888,
              "#fdca26"
             ],
             [
              1,
              "#f0f921"
             ]
            ],
            "type": "histogram2d"
           }
          ],
          "histogram2dcontour": [
           {
            "colorbar": {
             "outlinewidth": 0,
             "ticks": ""
            },
            "colorscale": [
             [
              0,
              "#0d0887"
             ],
             [
              0.1111111111111111,
              "#46039f"
             ],
             [
              0.2222222222222222,
              "#7201a8"
             ],
             [
              0.3333333333333333,
              "#9c179e"
             ],
             [
              0.4444444444444444,
              "#bd3786"
             ],
             [
              0.5555555555555556,
              "#d8576b"
             ],
             [
              0.6666666666666666,
              "#ed7953"
             ],
             [
              0.7777777777777778,
              "#fb9f3a"
             ],
             [
              0.8888888888888888,
              "#fdca26"
             ],
             [
              1,
              "#f0f921"
             ]
            ],
            "type": "histogram2dcontour"
           }
          ],
          "mesh3d": [
           {
            "colorbar": {
             "outlinewidth": 0,
             "ticks": ""
            },
            "type": "mesh3d"
           }
          ],
          "parcoords": [
           {
            "line": {
             "colorbar": {
              "outlinewidth": 0,
              "ticks": ""
             }
            },
            "type": "parcoords"
           }
          ],
          "pie": [
           {
            "automargin": true,
            "type": "pie"
           }
          ],
          "scatter": [
           {
            "fillpattern": {
             "fillmode": "overlay",
             "size": 10,
             "solidity": 0.2
            },
            "type": "scatter"
           }
          ],
          "scatter3d": [
           {
            "line": {
             "colorbar": {
              "outlinewidth": 0,
              "ticks": ""
             }
            },
            "marker": {
             "colorbar": {
              "outlinewidth": 0,
              "ticks": ""
             }
            },
            "type": "scatter3d"
           }
          ],
          "scattercarpet": [
           {
            "marker": {
             "colorbar": {
              "outlinewidth": 0,
              "ticks": ""
             }
            },
            "type": "scattercarpet"
           }
          ],
          "scattergeo": [
           {
            "marker": {
             "colorbar": {
              "outlinewidth": 0,
              "ticks": ""
             }
            },
            "type": "scattergeo"
           }
          ],
          "scattergl": [
           {
            "marker": {
             "colorbar": {
              "outlinewidth": 0,
              "ticks": ""
             }
            },
            "type": "scattergl"
           }
          ],
          "scattermapbox": [
           {
            "marker": {
             "colorbar": {
              "outlinewidth": 0,
              "ticks": ""
             }
            },
            "type": "scattermapbox"
           }
          ],
          "scatterpolar": [
           {
            "marker": {
             "colorbar": {
              "outlinewidth": 0,
              "ticks": ""
             }
            },
            "type": "scatterpolar"
           }
          ],
          "scatterpolargl": [
           {
            "marker": {
             "colorbar": {
              "outlinewidth": 0,
              "ticks": ""
             }
            },
            "type": "scatterpolargl"
           }
          ],
          "scatterternary": [
           {
            "marker": {
             "colorbar": {
              "outlinewidth": 0,
              "ticks": ""
             }
            },
            "type": "scatterternary"
           }
          ],
          "surface": [
           {
            "colorbar": {
             "outlinewidth": 0,
             "ticks": ""
            },
            "colorscale": [
             [
              0,
              "#0d0887"
             ],
             [
              0.1111111111111111,
              "#46039f"
             ],
             [
              0.2222222222222222,
              "#7201a8"
             ],
             [
              0.3333333333333333,
              "#9c179e"
             ],
             [
              0.4444444444444444,
              "#bd3786"
             ],
             [
              0.5555555555555556,
              "#d8576b"
             ],
             [
              0.6666666666666666,
              "#ed7953"
             ],
             [
              0.7777777777777778,
              "#fb9f3a"
             ],
             [
              0.8888888888888888,
              "#fdca26"
             ],
             [
              1,
              "#f0f921"
             ]
            ],
            "type": "surface"
           }
          ],
          "table": [
           {
            "cells": {
             "fill": {
              "color": "#EBF0F8"
             },
             "line": {
              "color": "white"
             }
            },
            "header": {
             "fill": {
              "color": "#C8D4E3"
             },
             "line": {
              "color": "white"
             }
            },
            "type": "table"
           }
          ]
         },
         "layout": {
          "annotationdefaults": {
           "arrowcolor": "#2a3f5f",
           "arrowhead": 0,
           "arrowwidth": 1
          },
          "autotypenumbers": "strict",
          "coloraxis": {
           "colorbar": {
            "outlinewidth": 0,
            "ticks": ""
           }
          },
          "colorscale": {
           "diverging": [
            [
             0,
             "#8e0152"
            ],
            [
             0.1,
             "#c51b7d"
            ],
            [
             0.2,
             "#de77ae"
            ],
            [
             0.3,
             "#f1b6da"
            ],
            [
             0.4,
             "#fde0ef"
            ],
            [
             0.5,
             "#f7f7f7"
            ],
            [
             0.6,
             "#e6f5d0"
            ],
            [
             0.7,
             "#b8e186"
            ],
            [
             0.8,
             "#7fbc41"
            ],
            [
             0.9,
             "#4d9221"
            ],
            [
             1,
             "#276419"
            ]
           ],
           "sequential": [
            [
             0,
             "#0d0887"
            ],
            [
             0.1111111111111111,
             "#46039f"
            ],
            [
             0.2222222222222222,
             "#7201a8"
            ],
            [
             0.3333333333333333,
             "#9c179e"
            ],
            [
             0.4444444444444444,
             "#bd3786"
            ],
            [
             0.5555555555555556,
             "#d8576b"
            ],
            [
             0.6666666666666666,
             "#ed7953"
            ],
            [
             0.7777777777777778,
             "#fb9f3a"
            ],
            [
             0.8888888888888888,
             "#fdca26"
            ],
            [
             1,
             "#f0f921"
            ]
           ],
           "sequentialminus": [
            [
             0,
             "#0d0887"
            ],
            [
             0.1111111111111111,
             "#46039f"
            ],
            [
             0.2222222222222222,
             "#7201a8"
            ],
            [
             0.3333333333333333,
             "#9c179e"
            ],
            [
             0.4444444444444444,
             "#bd3786"
            ],
            [
             0.5555555555555556,
             "#d8576b"
            ],
            [
             0.6666666666666666,
             "#ed7953"
            ],
            [
             0.7777777777777778,
             "#fb9f3a"
            ],
            [
             0.8888888888888888,
             "#fdca26"
            ],
            [
             1,
             "#f0f921"
            ]
           ]
          },
          "colorway": [
           "#636efa",
           "#EF553B",
           "#00cc96",
           "#ab63fa",
           "#FFA15A",
           "#19d3f3",
           "#FF6692",
           "#B6E880",
           "#FF97FF",
           "#FECB52"
          ],
          "font": {
           "color": "#2a3f5f"
          },
          "geo": {
           "bgcolor": "white",
           "lakecolor": "white",
           "landcolor": "#E5ECF6",
           "showlakes": true,
           "showland": true,
           "subunitcolor": "white"
          },
          "hoverlabel": {
           "align": "left"
          },
          "hovermode": "closest",
          "mapbox": {
           "style": "light"
          },
          "paper_bgcolor": "white",
          "plot_bgcolor": "#E5ECF6",
          "polar": {
           "angularaxis": {
            "gridcolor": "white",
            "linecolor": "white",
            "ticks": ""
           },
           "bgcolor": "#E5ECF6",
           "radialaxis": {
            "gridcolor": "white",
            "linecolor": "white",
            "ticks": ""
           }
          },
          "scene": {
           "xaxis": {
            "backgroundcolor": "#E5ECF6",
            "gridcolor": "white",
            "gridwidth": 2,
            "linecolor": "white",
            "showbackground": true,
            "ticks": "",
            "zerolinecolor": "white"
           },
           "yaxis": {
            "backgroundcolor": "#E5ECF6",
            "gridcolor": "white",
            "gridwidth": 2,
            "linecolor": "white",
            "showbackground": true,
            "ticks": "",
            "zerolinecolor": "white"
           },
           "zaxis": {
            "backgroundcolor": "#E5ECF6",
            "gridcolor": "white",
            "gridwidth": 2,
            "linecolor": "white",
            "showbackground": true,
            "ticks": "",
            "zerolinecolor": "white"
           }
          },
          "shapedefaults": {
           "line": {
            "color": "#2a3f5f"
           }
          },
          "ternary": {
           "aaxis": {
            "gridcolor": "white",
            "linecolor": "white",
            "ticks": ""
           },
           "baxis": {
            "gridcolor": "white",
            "linecolor": "white",
            "ticks": ""
           },
           "bgcolor": "#E5ECF6",
           "caxis": {
            "gridcolor": "white",
            "linecolor": "white",
            "ticks": ""
           }
          },
          "title": {
           "x": 0.05
          },
          "xaxis": {
           "automargin": true,
           "gridcolor": "white",
           "linecolor": "white",
           "ticks": "",
           "title": {
            "standoff": 15
           },
           "zerolinecolor": "white",
           "zerolinewidth": 2
          },
          "yaxis": {
           "automargin": true,
           "gridcolor": "white",
           "linecolor": "white",
           "ticks": "",
           "title": {
            "standoff": 15
           },
           "zerolinecolor": "white",
           "zerolinewidth": 2
          }
         }
        },
        "xaxis": {
         "title": {
          "text": "Time (Min.)"
         }
        },
        "yaxis": {
         "title": {
          "text": "Distance Traveled (Km.)"
         }
        }
       }
      },
      "text/html": [
       "<div>                            <div id=\"49873c3d-8963-4750-a7a8-347e29fade1e\" class=\"plotly-graph-div\" style=\"height:525px; width:100%;\"></div>            <script type=\"text/javascript\">                require([\"plotly\"], function(Plotly) {                    window.PLOTLYENV=window.PLOTLYENV || {};                                    if (document.getElementById(\"49873c3d-8963-4750-a7a8-347e29fade1e\")) {                    Plotly.newPlot(                        \"49873c3d-8963-4750-a7a8-347e29fade1e\",                        [{\"hovertemplate\":\"time_from_start=%{x}<br>dist_from_start=%{y}<extra></extra>\",\"legendgroup\":\"\",\"line\":{\"color\":\"#FF7355\",\"dash\":\"solid\"},\"marker\":{\"symbol\":\"circle\"},\"mode\":\"lines\",\"name\":\"From ETM data\",\"orientation\":\"v\",\"showlegend\":true,\"x\":[0,4.733333333333333,5.25,5.666666666666667,5.783333333333333,5.9,6.066666666666666,6.366666666666666,6.833333333333333,9.016666666666667,9.25,10.116666666666667,10.4,10.45,11.65,12.016666666666667,12.2,12.3,13.3,15.683333333333334,15.883333333333333,16.05,16.216666666666665,16.266666666666666,16.45,16.866666666666667,17.566666666666666,17.95,19.45,19.566666666666666,19.683333333333334,19.8,20.0,20.116666666666667,20.166666666666668,21.416666666666668,21.6,21.7,21.8,22.233333333333334,22.366666666666667,22.766666666666666,22.85,22.983333333333334,23.033333333333335,23.116666666666667,23.716666666666665,23.833333333333332,23.966666666666665,24.25,24.383333333333333,24.633333333333333,24.95,25.116666666666667,25.333333333333332,25.466666666666665,25.8,26.4,26.633333333333333,26.766666666666666,26.816666666666666,26.966666666666665,27.0,27.05,27.316666666666666,27.4,28.033333333333335,28.216666666666665,29.0,29.166666666666668,29.216666666666665,29.55,29.6,29.633333333333333,29.683333333333334,29.716666666666665,29.933333333333334,30.233333333333334,30.516666666666666,32.13333333333333,34.516666666666666,34.71666666666667,40.95,41.03333333333333,41.25,41.733333333333334,42.61666666666667,43.333333333333336,43.483333333333334,43.516666666666666,43.85,43.9,44.1,44.13333333333333,44.18333333333333,44.266666666666666,46.233333333333334,46.483333333333334,46.71666666666667,48.983333333333334,49.95,51.233333333333334,51.35,52.516666666666666,53.733333333333334,53.86666666666667,55.1,55.3,55.416666666666664,57.916666666666664,58.05,58.68333333333333,60.71666666666667,61.2,61.93333333333333,62.05,62.25,62.416666666666664,62.583333333333336,62.733333333333334,63.46666666666667,64.18333333333334,64.21666666666667,64.26666666666667,64.3,64.38333333333334,64.43333333333334,67.08333333333333],\"xaxis\":\"x\",\"y\":[0.0,0.5151172419312671,0.9325897087687918,0.9325897087687918,0.9325897087687918,0.9325897087687918,0.9325897087687918,0.9325897087687918,0.9325897087687918,1.369395571290791,1.369395571290791,1.369395571290791,1.369395571290791,1.369395571290791,1.7715991783557299,1.7715991783557299,1.7715991783557299,1.7715991783557299,1.7715991783557299,4.430110739681234,4.430110739681234,4.430110739681234,4.430110739681234,4.430110739681234,4.430110739681234,4.430110739681234,4.430110739681234,4.430110739681234,6.073989748724833,6.073989748724833,6.073989748724833,6.073989748724833,6.073989748724833,6.073989748724833,6.073989748724833,6.073989748724833,6.073989748724833,6.073989748724833,6.073989748724833,6.073989748724833,6.073989748724833,6.578905909591308,6.578905909591308,6.578905909591308,6.578905909591308,6.578905909591308,6.578905909591308,6.578905909591308,6.578905909591308,6.578905909591308,6.578905909591308,6.578905909591308,6.578905909591308,8.57285583626641,8.57285583626641,8.57285583626641,8.57285583626641,8.57285583626641,8.57285583626641,8.795514807086938,8.795514807086938,8.795514807086938,8.795514807086938,8.795514807086938,8.795514807086938,8.795514807086938,8.795514807086938,8.795514807086938,8.795514807086938,8.795514807086938,8.795514807086938,8.795514807086938,8.795514807086938,8.795514807086938,8.795514807086938,8.795514807086938,8.795514807086938,8.795514807086938,9.279113015426887,10.949148356796357,12.619183698165827,14.980419042826828,15.324947140048387,15.324947140048387,15.324947140048387,17.04737686141287,17.04737686141287,17.04737686141287,17.04737686141287,17.04737686141287,17.04737686141287,17.04737686141287,17.513969667497665,17.513969667497665,17.513969667497665,17.513969667497665,18.720108766424907,18.720108766424907,18.720108766424907,19.17835017983006,19.17835017983006,19.810614055508523,19.810614055508523,21.792863923597587,21.792863923597587,21.792863923597587,22.18130949662151,22.18130949662151,22.18130949662151,22.542813600878695,22.542813600878695,23.35794718156373,23.35794718156373,23.35794718156373,24.105838694393764,24.105838694393764,24.105838694393764,24.105838694393764,24.105838694393764,24.105838694393764,25.652560797077857,25.652560797077857,25.652560797077857,25.652560797077857,25.652560797077857,25.652560797077857,25.652560797077857,25.652560797077857],\"yaxis\":\"y\",\"type\":\"scatter\"},{\"hovertemplate\":\"time_from_start=%{x}<br>dist_from_start=%{y}<extra></extra>\",\"legendgroup\":\"\",\"line\":{\"color\":\"#636efa\",\"dash\":\"solid\"},\"marker\":{\"symbol\":\"circle\"},\"mode\":\"lines\",\"name\":\"From Realtime data\",\"orientation\":\"v\",\"showlegend\":true,\"x\":[0,1.0,2.0,3.0,4.0,5.0,6.0,7.0,8.0,9.0,10.0,11.0,12.0,13.0,14.0,15.0,16.0,17.0,18.0,19.0,20.0,21.0,22.0,23.0,25.0,26.0,27.0,28.0,29.0,30.0,31.0,32.0,33.0,34.0,35.0,36.0,37.0,38.0,39.0,40.0,41.0,42.0,43.0,44.0,45.0,46.0,47.0,48.0,49.0,50.0,51.0,52.0,53.0,54.0,55.0,56.0,57.0,58.0,59.0,60.0,61.0,62.0,63.0,64.0,65.0,66.0,67.0,68.0,69.0,70.0,71.0,72.0,73.0,74.0,75.0,76.0,77.0,78.0,79.0,80.0],\"xaxis\":\"x\",\"y\":[0.0,0.31950154393191416,0.5666109153351523,1.0137664467804108,1.429335193306128,1.590070279025815,1.5959502230939586,1.6823388365445253,2.2495235851637374,2.7540172094056756,3.111767381690147,3.635264073617229,3.9959244319753755,4.392758804831551,4.751951748474951,5.479608607674121,5.78770653609863,6.0650381580478845,6.332139007233947,6.72835676393312,7.025797414477183,7.684993044866725,8.037735366247361,8.502459988335922,8.861846759452758,9.31482150158576,10.069242256060711,10.526552285122758,10.941696704439096,11.426015561057689,11.648593877669764,12.159706096920033,12.868569931445068,13.047087950468363,13.531838896788404,13.722520409420529,13.857540005842154,14.249110592821172,14.600445166449136,14.826805056324394,15.294716876003742,15.535626710080313,15.535626710080313,16.032530055376053,16.746674667309478,17.207060331487252,17.4704025224945,17.610877371667165,17.789172115802728,18.1610694637307,18.322893345218276,19.15299804988798,19.45745385288002,19.45745385288002,20.2643805138908,20.655510630291793,20.894627911183814,21.47538861460993,22.06493166527497,22.407800412932783,23.06218930164166,23.688825032321258,24.33523585349985,25.039012288256014,25.524540125749873,26.043920457455915,26.711437991566562,27.592044037554736,28.085317656793983,28.594905895297277,28.622333888262204,28.622333888262204,29.373215979476488,29.61091055099482,29.61344179161575,29.615973757620004,29.6171882783593,29.61810723468165,29.620572394972772,29.62625618307054],\"yaxis\":\"y\",\"type\":\"scatter\"}],                        {\"template\":{\"data\":{\"histogram2dcontour\":[{\"type\":\"histogram2dcontour\",\"colorbar\":{\"outlinewidth\":0,\"ticks\":\"\"},\"colorscale\":[[0.0,\"#0d0887\"],[0.1111111111111111,\"#46039f\"],[0.2222222222222222,\"#7201a8\"],[0.3333333333333333,\"#9c179e\"],[0.4444444444444444,\"#bd3786\"],[0.5555555555555556,\"#d8576b\"],[0.6666666666666666,\"#ed7953\"],[0.7777777777777778,\"#fb9f3a\"],[0.8888888888888888,\"#fdca26\"],[1.0,\"#f0f921\"]]}],\"choropleth\":[{\"type\":\"choropleth\",\"colorbar\":{\"outlinewidth\":0,\"ticks\":\"\"}}],\"histogram2d\":[{\"type\":\"histogram2d\",\"colorbar\":{\"outlinewidth\":0,\"ticks\":\"\"},\"colorscale\":[[0.0,\"#0d0887\"],[0.1111111111111111,\"#46039f\"],[0.2222222222222222,\"#7201a8\"],[0.3333333333333333,\"#9c179e\"],[0.4444444444444444,\"#bd3786\"],[0.5555555555555556,\"#d8576b\"],[0.6666666666666666,\"#ed7953\"],[0.7777777777777778,\"#fb9f3a\"],[0.8888888888888888,\"#fdca26\"],[1.0,\"#f0f921\"]]}],\"heatmap\":[{\"type\":\"heatmap\",\"colorbar\":{\"outlinewidth\":0,\"ticks\":\"\"},\"colorscale\":[[0.0,\"#0d0887\"],[0.1111111111111111,\"#46039f\"],[0.2222222222222222,\"#7201a8\"],[0.3333333333333333,\"#9c179e\"],[0.4444444444444444,\"#bd3786\"],[0.5555555555555556,\"#d8576b\"],[0.6666666666666666,\"#ed7953\"],[0.7777777777777778,\"#fb9f3a\"],[0.8888888888888888,\"#fdca26\"],[1.0,\"#f0f921\"]]}],\"heatmapgl\":[{\"type\":\"heatmapgl\",\"colorbar\":{\"outlinewidth\":0,\"ticks\":\"\"},\"colorscale\":[[0.0,\"#0d0887\"],[0.1111111111111111,\"#46039f\"],[0.2222222222222222,\"#7201a8\"],[0.3333333333333333,\"#9c179e\"],[0.4444444444444444,\"#bd3786\"],[0.5555555555555556,\"#d8576b\"],[0.6666666666666666,\"#ed7953\"],[0.7777777777777778,\"#fb9f3a\"],[0.8888888888888888,\"#fdca26\"],[1.0,\"#f0f921\"]]}],\"contourcarpet\":[{\"type\":\"contourcarpet\",\"colorbar\":{\"outlinewidth\":0,\"ticks\":\"\"}}],\"contour\":[{\"type\":\"contour\",\"colorbar\":{\"outlinewidth\":0,\"ticks\":\"\"},\"colorscale\":[[0.0,\"#0d0887\"],[0.1111111111111111,\"#46039f\"],[0.2222222222222222,\"#7201a8\"],[0.3333333333333333,\"#9c179e\"],[0.4444444444444444,\"#bd3786\"],[0.5555555555555556,\"#d8576b\"],[0.6666666666666666,\"#ed7953\"],[0.7777777777777778,\"#fb9f3a\"],[0.8888888888888888,\"#fdca26\"],[1.0,\"#f0f921\"]]}],\"surface\":[{\"type\":\"surface\",\"colorbar\":{\"outlinewidth\":0,\"ticks\":\"\"},\"colorscale\":[[0.0,\"#0d0887\"],[0.1111111111111111,\"#46039f\"],[0.2222222222222222,\"#7201a8\"],[0.3333333333333333,\"#9c179e\"],[0.4444444444444444,\"#bd3786\"],[0.5555555555555556,\"#d8576b\"],[0.6666666666666666,\"#ed7953\"],[0.7777777777777778,\"#fb9f3a\"],[0.8888888888888888,\"#fdca26\"],[1.0,\"#f0f921\"]]}],\"mesh3d\":[{\"type\":\"mesh3d\",\"colorbar\":{\"outlinewidth\":0,\"ticks\":\"\"}}],\"scatter\":[{\"fillpattern\":{\"fillmode\":\"overlay\",\"size\":10,\"solidity\":0.2},\"type\":\"scatter\"}],\"parcoords\":[{\"type\":\"parcoords\",\"line\":{\"colorbar\":{\"outlinewidth\":0,\"ticks\":\"\"}}}],\"scatterpolargl\":[{\"type\":\"scatterpolargl\",\"marker\":{\"colorbar\":{\"outlinewidth\":0,\"ticks\":\"\"}}}],\"bar\":[{\"error_x\":{\"color\":\"#2a3f5f\"},\"error_y\":{\"color\":\"#2a3f5f\"},\"marker\":{\"line\":{\"color\":\"#E5ECF6\",\"width\":0.5},\"pattern\":{\"fillmode\":\"overlay\",\"size\":10,\"solidity\":0.2}},\"type\":\"bar\"}],\"scattergeo\":[{\"type\":\"scattergeo\",\"marker\":{\"colorbar\":{\"outlinewidth\":0,\"ticks\":\"\"}}}],\"scatterpolar\":[{\"type\":\"scatterpolar\",\"marker\":{\"colorbar\":{\"outlinewidth\":0,\"ticks\":\"\"}}}],\"histogram\":[{\"marker\":{\"pattern\":{\"fillmode\":\"overlay\",\"size\":10,\"solidity\":0.2}},\"type\":\"histogram\"}],\"scattergl\":[{\"type\":\"scattergl\",\"marker\":{\"colorbar\":{\"outlinewidth\":0,\"ticks\":\"\"}}}],\"scatter3d\":[{\"type\":\"scatter3d\",\"line\":{\"colorbar\":{\"outlinewidth\":0,\"ticks\":\"\"}},\"marker\":{\"colorbar\":{\"outlinewidth\":0,\"ticks\":\"\"}}}],\"scattermapbox\":[{\"type\":\"scattermapbox\",\"marker\":{\"colorbar\":{\"outlinewidth\":0,\"ticks\":\"\"}}}],\"scatterternary\":[{\"type\":\"scatterternary\",\"marker\":{\"colorbar\":{\"outlinewidth\":0,\"ticks\":\"\"}}}],\"scattercarpet\":[{\"type\":\"scattercarpet\",\"marker\":{\"colorbar\":{\"outlinewidth\":0,\"ticks\":\"\"}}}],\"carpet\":[{\"aaxis\":{\"endlinecolor\":\"#2a3f5f\",\"gridcolor\":\"white\",\"linecolor\":\"white\",\"minorgridcolor\":\"white\",\"startlinecolor\":\"#2a3f5f\"},\"baxis\":{\"endlinecolor\":\"#2a3f5f\",\"gridcolor\":\"white\",\"linecolor\":\"white\",\"minorgridcolor\":\"white\",\"startlinecolor\":\"#2a3f5f\"},\"type\":\"carpet\"}],\"table\":[{\"cells\":{\"fill\":{\"color\":\"#EBF0F8\"},\"line\":{\"color\":\"white\"}},\"header\":{\"fill\":{\"color\":\"#C8D4E3\"},\"line\":{\"color\":\"white\"}},\"type\":\"table\"}],\"barpolar\":[{\"marker\":{\"line\":{\"color\":\"#E5ECF6\",\"width\":0.5},\"pattern\":{\"fillmode\":\"overlay\",\"size\":10,\"solidity\":0.2}},\"type\":\"barpolar\"}],\"pie\":[{\"automargin\":true,\"type\":\"pie\"}]},\"layout\":{\"autotypenumbers\":\"strict\",\"colorway\":[\"#636efa\",\"#EF553B\",\"#00cc96\",\"#ab63fa\",\"#FFA15A\",\"#19d3f3\",\"#FF6692\",\"#B6E880\",\"#FF97FF\",\"#FECB52\"],\"font\":{\"color\":\"#2a3f5f\"},\"hovermode\":\"closest\",\"hoverlabel\":{\"align\":\"left\"},\"paper_bgcolor\":\"white\",\"plot_bgcolor\":\"#E5ECF6\",\"polar\":{\"bgcolor\":\"#E5ECF6\",\"angularaxis\":{\"gridcolor\":\"white\",\"linecolor\":\"white\",\"ticks\":\"\"},\"radialaxis\":{\"gridcolor\":\"white\",\"linecolor\":\"white\",\"ticks\":\"\"}},\"ternary\":{\"bgcolor\":\"#E5ECF6\",\"aaxis\":{\"gridcolor\":\"white\",\"linecolor\":\"white\",\"ticks\":\"\"},\"baxis\":{\"gridcolor\":\"white\",\"linecolor\":\"white\",\"ticks\":\"\"},\"caxis\":{\"gridcolor\":\"white\",\"linecolor\":\"white\",\"ticks\":\"\"}},\"coloraxis\":{\"colorbar\":{\"outlinewidth\":0,\"ticks\":\"\"}},\"colorscale\":{\"sequential\":[[0.0,\"#0d0887\"],[0.1111111111111111,\"#46039f\"],[0.2222222222222222,\"#7201a8\"],[0.3333333333333333,\"#9c179e\"],[0.4444444444444444,\"#bd3786\"],[0.5555555555555556,\"#d8576b\"],[0.6666666666666666,\"#ed7953\"],[0.7777777777777778,\"#fb9f3a\"],[0.8888888888888888,\"#fdca26\"],[1.0,\"#f0f921\"]],\"sequentialminus\":[[0.0,\"#0d0887\"],[0.1111111111111111,\"#46039f\"],[0.2222222222222222,\"#7201a8\"],[0.3333333333333333,\"#9c179e\"],[0.4444444444444444,\"#bd3786\"],[0.5555555555555556,\"#d8576b\"],[0.6666666666666666,\"#ed7953\"],[0.7777777777777778,\"#fb9f3a\"],[0.8888888888888888,\"#fdca26\"],[1.0,\"#f0f921\"]],\"diverging\":[[0,\"#8e0152\"],[0.1,\"#c51b7d\"],[0.2,\"#de77ae\"],[0.3,\"#f1b6da\"],[0.4,\"#fde0ef\"],[0.5,\"#f7f7f7\"],[0.6,\"#e6f5d0\"],[0.7,\"#b8e186\"],[0.8,\"#7fbc41\"],[0.9,\"#4d9221\"],[1,\"#276419\"]]},\"xaxis\":{\"gridcolor\":\"white\",\"linecolor\":\"white\",\"ticks\":\"\",\"title\":{\"standoff\":15},\"zerolinecolor\":\"white\",\"automargin\":true,\"zerolinewidth\":2},\"yaxis\":{\"gridcolor\":\"white\",\"linecolor\":\"white\",\"ticks\":\"\",\"title\":{\"standoff\":15},\"zerolinecolor\":\"white\",\"automargin\":true,\"zerolinewidth\":2},\"scene\":{\"xaxis\":{\"backgroundcolor\":\"#E5ECF6\",\"gridcolor\":\"white\",\"linecolor\":\"white\",\"showbackground\":true,\"ticks\":\"\",\"zerolinecolor\":\"white\",\"gridwidth\":2},\"yaxis\":{\"backgroundcolor\":\"#E5ECF6\",\"gridcolor\":\"white\",\"linecolor\":\"white\",\"showbackground\":true,\"ticks\":\"\",\"zerolinecolor\":\"white\",\"gridwidth\":2},\"zaxis\":{\"backgroundcolor\":\"#E5ECF6\",\"gridcolor\":\"white\",\"linecolor\":\"white\",\"showbackground\":true,\"ticks\":\"\",\"zerolinecolor\":\"white\",\"gridwidth\":2}},\"shapedefaults\":{\"line\":{\"color\":\"#2a3f5f\"}},\"annotationdefaults\":{\"arrowcolor\":\"#2a3f5f\",\"arrowhead\":0,\"arrowwidth\":1},\"geo\":{\"bgcolor\":\"white\",\"landcolor\":\"#E5ECF6\",\"subunitcolor\":\"white\",\"showland\":true,\"showlakes\":true,\"lakecolor\":\"white\"},\"title\":{\"x\":0.05},\"mapbox\":{\"style\":\"light\"}}},\"xaxis\":{\"title\":{\"text\":\"Time (Min.)\"}},\"yaxis\":{\"title\":{\"text\":\"Distance Traveled (Km.)\"}}},                        {\"responsive\": true}                    ).then(function(){\n",
       "                            \n",
       "var gd = document.getElementById('49873c3d-8963-4750-a7a8-347e29fade1e');\n",
       "var x = new MutationObserver(function (mutations, observer) {{\n",
       "        var display = window.getComputedStyle(gd).display;\n",
       "        if (!display || display === 'none') {{\n",
       "            console.log([gd, 'removed!']);\n",
       "            Plotly.purge(gd);\n",
       "            observer.disconnect();\n",
       "        }}\n",
       "}});\n",
       "\n",
       "// Listen for the removal of the full notebook cells\n",
       "var notebookContainer = gd.closest('#notebook-container');\n",
       "if (notebookContainer) {{\n",
       "    x.observe(notebookContainer, {childList: true});\n",
       "}}\n",
       "\n",
       "// Listen for the clearing of the current output cell\n",
       "var outputEl = gd.closest('.output');\n",
       "if (outputEl) {{\n",
       "    x.observe(outputEl, {childList: true});\n",
       "}}\n",
       "\n",
       "                        })                };                });            </script>        </div>"
      ]
     },
     "metadata": {},
     "output_type": "display_data"
    }
   ],
   "source": [
    "import plotly.graph_objects as go\n",
    "fig = go.Figure(data = fig_etm.data + fig_realtime.data)\n",
    "fig.update_layout(xaxis_title=\"Time (Min.)\", yaxis_title=\"Distance Traveled (Km.)\")\n",
    "fig.show()"
   ]
  },
  {
   "cell_type": "code",
   "execution_count": 270,
   "id": "72df2e61",
   "metadata": {},
   "outputs": [],
   "source": [
    "df_etm = df_etm.round({'dist_from_start':4,'time_from_start':4})"
   ]
  },
  {
   "cell_type": "code",
   "execution_count": 271,
   "id": "faaa9be6",
   "metadata": {},
   "outputs": [
    {
     "data": {
      "text/html": [
       "<div>\n",
       "<style scoped>\n",
       "    .dataframe tbody tr th:only-of-type {\n",
       "        vertical-align: middle;\n",
       "    }\n",
       "\n",
       "    .dataframe tbody tr th {\n",
       "        vertical-align: top;\n",
       "    }\n",
       "\n",
       "    .dataframe thead th {\n",
       "        text-align: right;\n",
       "    }\n",
       "</style>\n",
       "<table border=\"1\" class=\"dataframe\">\n",
       "  <thead>\n",
       "    <tr style=\"text-align: right;\">\n",
       "      <th></th>\n",
       "      <th>dist_from_start</th>\n",
       "      <th>time_from_start</th>\n",
       "    </tr>\n",
       "  </thead>\n",
       "  <tbody>\n",
       "    <tr>\n",
       "      <th>0</th>\n",
       "      <td>0.000000</td>\n",
       "      <td>0</td>\n",
       "    </tr>\n",
       "    <tr>\n",
       "      <th>1</th>\n",
       "      <td>0.319502</td>\n",
       "      <td>1.0</td>\n",
       "    </tr>\n",
       "    <tr>\n",
       "      <th>2</th>\n",
       "      <td>0.566611</td>\n",
       "      <td>2.0</td>\n",
       "    </tr>\n",
       "    <tr>\n",
       "      <th>3</th>\n",
       "      <td>1.013766</td>\n",
       "      <td>3.0</td>\n",
       "    </tr>\n",
       "    <tr>\n",
       "      <th>4</th>\n",
       "      <td>1.429335</td>\n",
       "      <td>4.0</td>\n",
       "    </tr>\n",
       "    <tr>\n",
       "      <th>...</th>\n",
       "      <td>...</td>\n",
       "      <td>...</td>\n",
       "    </tr>\n",
       "    <tr>\n",
       "      <th>75</th>\n",
       "      <td>29.615974</td>\n",
       "      <td>76.0</td>\n",
       "    </tr>\n",
       "    <tr>\n",
       "      <th>76</th>\n",
       "      <td>29.617188</td>\n",
       "      <td>77.0</td>\n",
       "    </tr>\n",
       "    <tr>\n",
       "      <th>77</th>\n",
       "      <td>29.618107</td>\n",
       "      <td>78.0</td>\n",
       "    </tr>\n",
       "    <tr>\n",
       "      <th>78</th>\n",
       "      <td>29.620572</td>\n",
       "      <td>79.0</td>\n",
       "    </tr>\n",
       "    <tr>\n",
       "      <th>79</th>\n",
       "      <td>29.626256</td>\n",
       "      <td>80.0</td>\n",
       "    </tr>\n",
       "  </tbody>\n",
       "</table>\n",
       "<p>80 rows × 2 columns</p>\n",
       "</div>"
      ],
      "text/plain": [
       "    dist_from_start time_from_start\n",
       "0          0.000000               0\n",
       "1          0.319502             1.0\n",
       "2          0.566611             2.0\n",
       "3          1.013766             3.0\n",
       "4          1.429335             4.0\n",
       "..              ...             ...\n",
       "75        29.615974            76.0\n",
       "76        29.617188            77.0\n",
       "77        29.618107            78.0\n",
       "78        29.620572            79.0\n",
       "79        29.626256            80.0\n",
       "\n",
       "[80 rows x 2 columns]"
      ]
     },
     "execution_count": 271,
     "metadata": {},
     "output_type": "execute_result"
    }
   ],
   "source": [
    "df_realtime"
   ]
  },
  {
   "cell_type": "code",
   "execution_count": 272,
   "id": "2ac17e38",
   "metadata": {},
   "outputs": [
    {
     "data": {
      "text/html": [
       "<div>\n",
       "<style scoped>\n",
       "    .dataframe tbody tr th:only-of-type {\n",
       "        vertical-align: middle;\n",
       "    }\n",
       "\n",
       "    .dataframe tbody tr th {\n",
       "        vertical-align: top;\n",
       "    }\n",
       "\n",
       "    .dataframe thead th {\n",
       "        text-align: right;\n",
       "    }\n",
       "</style>\n",
       "<table border=\"1\" class=\"dataframe\">\n",
       "  <thead>\n",
       "    <tr style=\"text-align: right;\">\n",
       "      <th></th>\n",
       "      <th>dist_from_start</th>\n",
       "      <th>time_from_start</th>\n",
       "    </tr>\n",
       "  </thead>\n",
       "  <tbody>\n",
       "    <tr>\n",
       "      <th>0</th>\n",
       "      <td>0.0000</td>\n",
       "      <td>0</td>\n",
       "    </tr>\n",
       "    <tr>\n",
       "      <th>1</th>\n",
       "      <td>0.5151</td>\n",
       "      <td>4.733333</td>\n",
       "    </tr>\n",
       "    <tr>\n",
       "      <th>2</th>\n",
       "      <td>0.9326</td>\n",
       "      <td>5.25</td>\n",
       "    </tr>\n",
       "    <tr>\n",
       "      <th>3</th>\n",
       "      <td>0.9326</td>\n",
       "      <td>5.666667</td>\n",
       "    </tr>\n",
       "    <tr>\n",
       "      <th>4</th>\n",
       "      <td>0.9326</td>\n",
       "      <td>5.783333</td>\n",
       "    </tr>\n",
       "    <tr>\n",
       "      <th>...</th>\n",
       "      <td>...</td>\n",
       "      <td>...</td>\n",
       "    </tr>\n",
       "    <tr>\n",
       "      <th>123</th>\n",
       "      <td>25.6526</td>\n",
       "      <td>64.266667</td>\n",
       "    </tr>\n",
       "    <tr>\n",
       "      <th>124</th>\n",
       "      <td>25.6526</td>\n",
       "      <td>64.3</td>\n",
       "    </tr>\n",
       "    <tr>\n",
       "      <th>125</th>\n",
       "      <td>25.6526</td>\n",
       "      <td>64.383333</td>\n",
       "    </tr>\n",
       "    <tr>\n",
       "      <th>126</th>\n",
       "      <td>25.6526</td>\n",
       "      <td>64.433333</td>\n",
       "    </tr>\n",
       "    <tr>\n",
       "      <th>127</th>\n",
       "      <td>25.6526</td>\n",
       "      <td>67.083333</td>\n",
       "    </tr>\n",
       "  </tbody>\n",
       "</table>\n",
       "<p>128 rows × 2 columns</p>\n",
       "</div>"
      ],
      "text/plain": [
       "     dist_from_start time_from_start\n",
       "0             0.0000               0\n",
       "1             0.5151        4.733333\n",
       "2             0.9326            5.25\n",
       "3             0.9326        5.666667\n",
       "4             0.9326        5.783333\n",
       "..               ...             ...\n",
       "123          25.6526       64.266667\n",
       "124          25.6526            64.3\n",
       "125          25.6526       64.383333\n",
       "126          25.6526       64.433333\n",
       "127          25.6526       67.083333\n",
       "\n",
       "[128 rows x 2 columns]"
      ]
     },
     "execution_count": 272,
     "metadata": {},
     "output_type": "execute_result"
    }
   ],
   "source": [
    "df_etm"
   ]
  },
  {
   "cell_type": "code",
   "execution_count": 273,
   "id": "3d728bff",
   "metadata": {},
   "outputs": [
    {
     "data": {
      "text/plain": [
       "array([ 0.    ,  0.5151,  0.9326,  1.3694,  1.7716,  4.4301,  6.074 ,\n",
       "        6.5789,  8.5729,  8.7955,  9.2791, 10.9491, 12.6192, 14.9804,\n",
       "       15.3249, 17.0474, 17.514 , 18.7201, 19.1784, 19.8106, 21.7929,\n",
       "       22.1813, 22.5428, 23.3579, 24.1058, 25.6526])"
      ]
     },
     "execution_count": 273,
     "metadata": {},
     "output_type": "execute_result"
    }
   ],
   "source": [
    "df_etm['dist_from_start'].unique()"
   ]
  },
  {
   "cell_type": "code",
   "execution_count": 274,
   "id": "752260a8",
   "metadata": {},
   "outputs": [],
   "source": [
    "time_between_stops_etm_min = []\n",
    "\n",
    "for dist in df_etm['dist_from_start'].unique():\n",
    "    x = df_etm[df_etm['dist_from_start'] == dist].min()[1]\n",
    "    time_between_stops_etm_min.append(x)\n"
   ]
  },
  {
   "cell_type": "code",
   "execution_count": 275,
   "id": "a9d0c63c",
   "metadata": {},
   "outputs": [],
   "source": [
    "time_between_stops_etm_max = []\n",
    "\n",
    "for dist in df_etm['dist_from_start'].unique():\n",
    "    x = df_etm[df_etm['dist_from_start'] == dist].max()[1]\n",
    "    time_between_stops_etm_max.append(x)"
   ]
  },
  {
   "cell_type": "code",
   "execution_count": 276,
   "id": "a44132e1",
   "metadata": {},
   "outputs": [],
   "source": [
    "time_between_stops_realtime = []\n",
    "\n",
    "for dist in df_etm['dist_from_start'].unique():\n",
    "    t = 0;\n",
    "    for d in df_realtime['dist_from_start'].unique():\n",
    "        if((d>t) & (d<dist)):\n",
    "            t = d\n",
    "    x = df_realtime[df_realtime['dist_from_start'] == t]['time_from_start'].values[0]\n",
    "    time_between_stops_realtime.append(x)"
   ]
  },
  {
   "cell_type": "code",
   "execution_count": 277,
   "id": "524511d1",
   "metadata": {
    "scrolled": true
   },
   "outputs": [
    {
     "data": {
      "text/plain": [
       "[0,\n",
       " 1.0,\n",
       " 2.0,\n",
       " 3.0,\n",
       " 7.0,\n",
       " 13.0,\n",
       " 17.0,\n",
       " 18.0,\n",
       " 23.0,\n",
       " 23.0,\n",
       " 25.0,\n",
       " 29.0,\n",
       " 32.0,\n",
       " 40.0,\n",
       " 41.0,\n",
       " 45.0,\n",
       " 47.0,\n",
       " 51.0,\n",
       " 52.0,\n",
       " 53.0,\n",
       " 58.0,\n",
       " 59.0,\n",
       " 60.0,\n",
       " 61.0,\n",
       " 62.0,\n",
       " 65.0]"
      ]
     },
     "execution_count": 277,
     "metadata": {},
     "output_type": "execute_result"
    }
   ],
   "source": [
    "time_between_stops_realtime"
   ]
  },
  {
   "cell_type": "code",
   "execution_count": 278,
   "id": "1c1585c8",
   "metadata": {
    "scrolled": true
   },
   "outputs": [
    {
     "data": {
      "text/plain": [
       "[0,\n",
       " 4.733333333333333,\n",
       " 0.5166666666666666,\n",
       " 3.7666666666666675,\n",
       " 2.633333333333333,\n",
       " 4.033333333333333,\n",
       " 3.7666666666666657,\n",
       " 3.3166666666666664,\n",
       " 2.3500000000000014,\n",
       " 1.6499999999999986,\n",
       " 3.75,\n",
       " 1.6166666666666671,\n",
       " 2.383333333333333,\n",
       " 0.20000000000000284,\n",
       " 6.233333333333334,\n",
       " 0.7833333333333314,\n",
       " 2.366666666666667,\n",
       " 2.133333333333333,\n",
       " 2.75,\n",
       " 2.25,\n",
       " 1.2833333333333314,\n",
       " 2.5833333333333357,\n",
       " 2.816666666666663,\n",
       " 0.7666666666666657,\n",
       " 3.25,\n",
       " 1.5333333333333385]"
      ]
     },
     "execution_count": 278,
     "metadata": {},
     "output_type": "execute_result"
    }
   ],
   "source": [
    "for i in range(len(time_between_stops_etm_min)-1,0,-1):\n",
    "    time_between_stops_etm_min[i] = time_between_stops_etm_min[i] - time_between_stops_etm_min[i-1]\n",
    "time_between_stops_etm_min"
   ]
  },
  {
   "cell_type": "code",
   "execution_count": 279,
   "id": "8706c146",
   "metadata": {
    "scrolled": true
   },
   "outputs": [
    {
     "data": {
      "text/plain": [
       "[0,\n",
       " 4.733333333333333,\n",
       " 2.0999999999999996,\n",
       " 3.6166666666666663,\n",
       " 2.8500000000000014,\n",
       " 4.649999999999999,\n",
       " 4.416666666666668,\n",
       " 2.583333333333332,\n",
       " 1.6833333333333336,\n",
       " 3.6000000000000014,\n",
       " 0.28333333333333144,\n",
       " 1.6166666666666671,\n",
       " 2.383333333333333,\n",
       " 0.20000000000000284,\n",
       " 6.533333333333331,\n",
       " 2.6499999999999986,\n",
       " 0.36666666666666714,\n",
       " 2.450000000000003,\n",
       " 3.2333333333333343,\n",
       " 1.3999999999999986,\n",
       " 2.5166666666666657,\n",
       " 1.5499999999999972,\n",
       " 2.633333333333333,\n",
       " 3.1500000000000057,\n",
       " 1.5333333333333314,\n",
       " 4.349999999999994]"
      ]
     },
     "execution_count": 279,
     "metadata": {},
     "output_type": "execute_result"
    }
   ],
   "source": [
    "for i in range(len(time_between_stops_etm_max)-1,0,-1):\n",
    "    time_between_stops_etm_max[i] = time_between_stops_etm_max[i] - time_between_stops_etm_max[i-1]\n",
    "time_between_stops_etm_max"
   ]
  },
  {
   "cell_type": "code",
   "execution_count": 280,
   "id": "e13e07b6",
   "metadata": {
    "scrolled": true
   },
   "outputs": [
    {
     "data": {
      "text/plain": [
       "[0,\n",
       " 1.0,\n",
       " 1.0,\n",
       " 1.0,\n",
       " 4.0,\n",
       " 6.0,\n",
       " 4.0,\n",
       " 1.0,\n",
       " 5.0,\n",
       " 0.0,\n",
       " 2.0,\n",
       " 4.0,\n",
       " 3.0,\n",
       " 8.0,\n",
       " 1.0,\n",
       " 4.0,\n",
       " 2.0,\n",
       " 4.0,\n",
       " 1.0,\n",
       " 1.0,\n",
       " 5.0,\n",
       " 1.0,\n",
       " 1.0,\n",
       " 1.0,\n",
       " 1.0,\n",
       " 3.0]"
      ]
     },
     "execution_count": 280,
     "metadata": {},
     "output_type": "execute_result"
    }
   ],
   "source": [
    "for i in range(len(time_between_stops_realtime)-1,0,-1):\n",
    "    time_between_stops_realtime[i] = time_between_stops_realtime[i] - time_between_stops_realtime[i-1]\n",
    "time_between_stops_realtime"
   ]
  },
  {
   "cell_type": "code",
   "execution_count": 281,
   "id": "6de47f63",
   "metadata": {
    "scrolled": true
   },
   "outputs": [
    {
     "data": {
      "text/plain": [
       "[0.0,\n",
       " 4.733333333333333,\n",
       " 1.3083333333333331,\n",
       " 3.691666666666667,\n",
       " 2.741666666666667,\n",
       " 4.341666666666666,\n",
       " 4.091666666666667,\n",
       " 2.9499999999999993,\n",
       " 2.0166666666666675,\n",
       " 2.625,\n",
       " 2.0166666666666657,\n",
       " 1.6166666666666671,\n",
       " 2.383333333333333,\n",
       " 0.20000000000000284,\n",
       " 6.383333333333333,\n",
       " 1.716666666666665,\n",
       " 1.3666666666666671,\n",
       " 2.291666666666668,\n",
       " 2.991666666666667,\n",
       " 1.8249999999999993,\n",
       " 1.8999999999999986,\n",
       " 2.0666666666666664,\n",
       " 2.724999999999998,\n",
       " 1.9583333333333357,\n",
       " 2.3916666666666657,\n",
       " 2.9416666666666664]"
      ]
     },
     "execution_count": 281,
     "metadata": {},
     "output_type": "execute_result"
    }
   ],
   "source": [
    "time_between_stops_etm = []\n",
    "\n",
    "for i in range(0,len(time_between_stops_etm_max)):\n",
    "    time_between_stops_etm.append((time_between_stops_etm_max[i]+time_between_stops_etm_min[i])/2)\n",
    "time_between_stops_etm"
   ]
  },
  {
   "cell_type": "code",
   "execution_count": 282,
   "id": "afc62e1e",
   "metadata": {},
   "outputs": [],
   "source": [
    "time_between_stops_etm[13],time_between_stops_etm[14] = time_between_stops_etm[14],time_between_stops_etm[13]"
   ]
  },
  {
   "cell_type": "code",
   "execution_count": 283,
   "id": "f49ab6ff",
   "metadata": {},
   "outputs": [],
   "source": [
    "df = pd.DataFrame(list(zip(time_between_stops_etm, time_between_stops_realtime)),columns =['time_between_stops_etm', 'time_between_stops_realtime'])"
   ]
  },
  {
   "cell_type": "code",
   "execution_count": 284,
   "id": "54f50685",
   "metadata": {
    "scrolled": true
   },
   "outputs": [
    {
     "data": {
      "text/html": [
       "<div>\n",
       "<style scoped>\n",
       "    .dataframe tbody tr th:only-of-type {\n",
       "        vertical-align: middle;\n",
       "    }\n",
       "\n",
       "    .dataframe tbody tr th {\n",
       "        vertical-align: top;\n",
       "    }\n",
       "\n",
       "    .dataframe thead th {\n",
       "        text-align: right;\n",
       "    }\n",
       "</style>\n",
       "<table border=\"1\" class=\"dataframe\">\n",
       "  <thead>\n",
       "    <tr style=\"text-align: right;\">\n",
       "      <th></th>\n",
       "      <th>time_between_stops_etm</th>\n",
       "      <th>time_between_stops_realtime</th>\n",
       "    </tr>\n",
       "  </thead>\n",
       "  <tbody>\n",
       "    <tr>\n",
       "      <th>0</th>\n",
       "      <td>0.000000</td>\n",
       "      <td>0.0</td>\n",
       "    </tr>\n",
       "    <tr>\n",
       "      <th>1</th>\n",
       "      <td>4.733333</td>\n",
       "      <td>1.0</td>\n",
       "    </tr>\n",
       "    <tr>\n",
       "      <th>2</th>\n",
       "      <td>1.308333</td>\n",
       "      <td>1.0</td>\n",
       "    </tr>\n",
       "    <tr>\n",
       "      <th>3</th>\n",
       "      <td>3.691667</td>\n",
       "      <td>1.0</td>\n",
       "    </tr>\n",
       "    <tr>\n",
       "      <th>4</th>\n",
       "      <td>2.741667</td>\n",
       "      <td>4.0</td>\n",
       "    </tr>\n",
       "    <tr>\n",
       "      <th>5</th>\n",
       "      <td>4.341667</td>\n",
       "      <td>6.0</td>\n",
       "    </tr>\n",
       "    <tr>\n",
       "      <th>6</th>\n",
       "      <td>4.091667</td>\n",
       "      <td>4.0</td>\n",
       "    </tr>\n",
       "    <tr>\n",
       "      <th>7</th>\n",
       "      <td>2.950000</td>\n",
       "      <td>1.0</td>\n",
       "    </tr>\n",
       "    <tr>\n",
       "      <th>8</th>\n",
       "      <td>2.016667</td>\n",
       "      <td>5.0</td>\n",
       "    </tr>\n",
       "    <tr>\n",
       "      <th>9</th>\n",
       "      <td>2.625000</td>\n",
       "      <td>0.0</td>\n",
       "    </tr>\n",
       "    <tr>\n",
       "      <th>10</th>\n",
       "      <td>2.016667</td>\n",
       "      <td>2.0</td>\n",
       "    </tr>\n",
       "    <tr>\n",
       "      <th>11</th>\n",
       "      <td>1.616667</td>\n",
       "      <td>4.0</td>\n",
       "    </tr>\n",
       "    <tr>\n",
       "      <th>12</th>\n",
       "      <td>2.383333</td>\n",
       "      <td>3.0</td>\n",
       "    </tr>\n",
       "    <tr>\n",
       "      <th>13</th>\n",
       "      <td>6.383333</td>\n",
       "      <td>8.0</td>\n",
       "    </tr>\n",
       "    <tr>\n",
       "      <th>14</th>\n",
       "      <td>0.200000</td>\n",
       "      <td>1.0</td>\n",
       "    </tr>\n",
       "    <tr>\n",
       "      <th>15</th>\n",
       "      <td>1.716667</td>\n",
       "      <td>4.0</td>\n",
       "    </tr>\n",
       "    <tr>\n",
       "      <th>16</th>\n",
       "      <td>1.366667</td>\n",
       "      <td>2.0</td>\n",
       "    </tr>\n",
       "    <tr>\n",
       "      <th>17</th>\n",
       "      <td>2.291667</td>\n",
       "      <td>4.0</td>\n",
       "    </tr>\n",
       "    <tr>\n",
       "      <th>18</th>\n",
       "      <td>2.991667</td>\n",
       "      <td>1.0</td>\n",
       "    </tr>\n",
       "    <tr>\n",
       "      <th>19</th>\n",
       "      <td>1.825000</td>\n",
       "      <td>1.0</td>\n",
       "    </tr>\n",
       "    <tr>\n",
       "      <th>20</th>\n",
       "      <td>1.900000</td>\n",
       "      <td>5.0</td>\n",
       "    </tr>\n",
       "    <tr>\n",
       "      <th>21</th>\n",
       "      <td>2.066667</td>\n",
       "      <td>1.0</td>\n",
       "    </tr>\n",
       "    <tr>\n",
       "      <th>22</th>\n",
       "      <td>2.725000</td>\n",
       "      <td>1.0</td>\n",
       "    </tr>\n",
       "    <tr>\n",
       "      <th>23</th>\n",
       "      <td>1.958333</td>\n",
       "      <td>1.0</td>\n",
       "    </tr>\n",
       "    <tr>\n",
       "      <th>24</th>\n",
       "      <td>2.391667</td>\n",
       "      <td>1.0</td>\n",
       "    </tr>\n",
       "    <tr>\n",
       "      <th>25</th>\n",
       "      <td>2.941667</td>\n",
       "      <td>3.0</td>\n",
       "    </tr>\n",
       "  </tbody>\n",
       "</table>\n",
       "</div>"
      ],
      "text/plain": [
       "    time_between_stops_etm  time_between_stops_realtime\n",
       "0                 0.000000                          0.0\n",
       "1                 4.733333                          1.0\n",
       "2                 1.308333                          1.0\n",
       "3                 3.691667                          1.0\n",
       "4                 2.741667                          4.0\n",
       "5                 4.341667                          6.0\n",
       "6                 4.091667                          4.0\n",
       "7                 2.950000                          1.0\n",
       "8                 2.016667                          5.0\n",
       "9                 2.625000                          0.0\n",
       "10                2.016667                          2.0\n",
       "11                1.616667                          4.0\n",
       "12                2.383333                          3.0\n",
       "13                6.383333                          8.0\n",
       "14                0.200000                          1.0\n",
       "15                1.716667                          4.0\n",
       "16                1.366667                          2.0\n",
       "17                2.291667                          4.0\n",
       "18                2.991667                          1.0\n",
       "19                1.825000                          1.0\n",
       "20                1.900000                          5.0\n",
       "21                2.066667                          1.0\n",
       "22                2.725000                          1.0\n",
       "23                1.958333                          1.0\n",
       "24                2.391667                          1.0\n",
       "25                2.941667                          3.0"
      ]
     },
     "execution_count": 284,
     "metadata": {},
     "output_type": "execute_result"
    }
   ],
   "source": [
    "df"
   ]
  },
  {
   "cell_type": "code",
   "execution_count": 285,
   "id": "5f1fbffb",
   "metadata": {},
   "outputs": [
    {
     "data": {
      "application/vnd.plotly.v1+json": {
       "config": {
        "plotlyServerURL": "https://plot.ly"
       },
       "data": [
        {
         "alignmentgroup": "True",
         "hovertemplate": "variable=time_between_stops_etm<br>index=%{x}<br>value=%{y}<extra></extra>",
         "legendgroup": "time_between_stops_etm",
         "marker": {
          "color": "#636efa",
          "pattern": {
           "shape": ""
          }
         },
         "name": "time_between_stops_etm",
         "offsetgroup": "time_between_stops_etm",
         "orientation": "v",
         "showlegend": true,
         "textposition": "auto",
         "type": "bar",
         "x": [
          0,
          1,
          2,
          3,
          4,
          5,
          6,
          7,
          8,
          9,
          10,
          11,
          12,
          13,
          14,
          15,
          16,
          17,
          18,
          19,
          20,
          21,
          22,
          23,
          24,
          25
         ],
         "xaxis": "x",
         "y": [
          0,
          4.733333333333333,
          1.3083333333333331,
          3.691666666666667,
          2.741666666666667,
          4.341666666666666,
          4.091666666666667,
          2.9499999999999993,
          2.0166666666666675,
          2.625,
          2.0166666666666657,
          1.6166666666666671,
          2.383333333333333,
          6.383333333333333,
          0.20000000000000284,
          1.716666666666665,
          1.3666666666666671,
          2.291666666666668,
          2.991666666666667,
          1.8249999999999993,
          1.8999999999999986,
          2.0666666666666664,
          2.724999999999998,
          1.9583333333333357,
          2.3916666666666657,
          2.9416666666666664
         ],
         "yaxis": "y"
        },
        {
         "alignmentgroup": "True",
         "hovertemplate": "variable=time_between_stops_realtime<br>index=%{x}<br>value=%{y}<extra></extra>",
         "legendgroup": "time_between_stops_realtime",
         "marker": {
          "color": "#EF553B",
          "pattern": {
           "shape": ""
          }
         },
         "name": "time_between_stops_realtime",
         "offsetgroup": "time_between_stops_realtime",
         "orientation": "v",
         "showlegend": true,
         "textposition": "auto",
         "type": "bar",
         "x": [
          0,
          1,
          2,
          3,
          4,
          5,
          6,
          7,
          8,
          9,
          10,
          11,
          12,
          13,
          14,
          15,
          16,
          17,
          18,
          19,
          20,
          21,
          22,
          23,
          24,
          25
         ],
         "xaxis": "x",
         "y": [
          0,
          1,
          1,
          1,
          4,
          6,
          4,
          1,
          5,
          0,
          2,
          4,
          3,
          8,
          1,
          4,
          2,
          4,
          1,
          1,
          5,
          1,
          1,
          1,
          1,
          3
         ],
         "yaxis": "y"
        }
       ],
       "layout": {
        "barmode": "group",
        "height": 400,
        "legend": {
         "title": {
          "text": "variable"
         },
         "tracegroupgap": 0
        },
        "margin": {
         "t": 60
        },
        "template": {
         "data": {
          "bar": [
           {
            "error_x": {
             "color": "#2a3f5f"
            },
            "error_y": {
             "color": "#2a3f5f"
            },
            "marker": {
             "line": {
              "color": "#E5ECF6",
              "width": 0.5
             },
             "pattern": {
              "fillmode": "overlay",
              "size": 10,
              "solidity": 0.2
             }
            },
            "type": "bar"
           }
          ],
          "barpolar": [
           {
            "marker": {
             "line": {
              "color": "#E5ECF6",
              "width": 0.5
             },
             "pattern": {
              "fillmode": "overlay",
              "size": 10,
              "solidity": 0.2
             }
            },
            "type": "barpolar"
           }
          ],
          "carpet": [
           {
            "aaxis": {
             "endlinecolor": "#2a3f5f",
             "gridcolor": "white",
             "linecolor": "white",
             "minorgridcolor": "white",
             "startlinecolor": "#2a3f5f"
            },
            "baxis": {
             "endlinecolor": "#2a3f5f",
             "gridcolor": "white",
             "linecolor": "white",
             "minorgridcolor": "white",
             "startlinecolor": "#2a3f5f"
            },
            "type": "carpet"
           }
          ],
          "choropleth": [
           {
            "colorbar": {
             "outlinewidth": 0,
             "ticks": ""
            },
            "type": "choropleth"
           }
          ],
          "contour": [
           {
            "colorbar": {
             "outlinewidth": 0,
             "ticks": ""
            },
            "colorscale": [
             [
              0,
              "#0d0887"
             ],
             [
              0.1111111111111111,
              "#46039f"
             ],
             [
              0.2222222222222222,
              "#7201a8"
             ],
             [
              0.3333333333333333,
              "#9c179e"
             ],
             [
              0.4444444444444444,
              "#bd3786"
             ],
             [
              0.5555555555555556,
              "#d8576b"
             ],
             [
              0.6666666666666666,
              "#ed7953"
             ],
             [
              0.7777777777777778,
              "#fb9f3a"
             ],
             [
              0.8888888888888888,
              "#fdca26"
             ],
             [
              1,
              "#f0f921"
             ]
            ],
            "type": "contour"
           }
          ],
          "contourcarpet": [
           {
            "colorbar": {
             "outlinewidth": 0,
             "ticks": ""
            },
            "type": "contourcarpet"
           }
          ],
          "heatmap": [
           {
            "colorbar": {
             "outlinewidth": 0,
             "ticks": ""
            },
            "colorscale": [
             [
              0,
              "#0d0887"
             ],
             [
              0.1111111111111111,
              "#46039f"
             ],
             [
              0.2222222222222222,
              "#7201a8"
             ],
             [
              0.3333333333333333,
              "#9c179e"
             ],
             [
              0.4444444444444444,
              "#bd3786"
             ],
             [
              0.5555555555555556,
              "#d8576b"
             ],
             [
              0.6666666666666666,
              "#ed7953"
             ],
             [
              0.7777777777777778,
              "#fb9f3a"
             ],
             [
              0.8888888888888888,
              "#fdca26"
             ],
             [
              1,
              "#f0f921"
             ]
            ],
            "type": "heatmap"
           }
          ],
          "heatmapgl": [
           {
            "colorbar": {
             "outlinewidth": 0,
             "ticks": ""
            },
            "colorscale": [
             [
              0,
              "#0d0887"
             ],
             [
              0.1111111111111111,
              "#46039f"
             ],
             [
              0.2222222222222222,
              "#7201a8"
             ],
             [
              0.3333333333333333,
              "#9c179e"
             ],
             [
              0.4444444444444444,
              "#bd3786"
             ],
             [
              0.5555555555555556,
              "#d8576b"
             ],
             [
              0.6666666666666666,
              "#ed7953"
             ],
             [
              0.7777777777777778,
              "#fb9f3a"
             ],
             [
              0.8888888888888888,
              "#fdca26"
             ],
             [
              1,
              "#f0f921"
             ]
            ],
            "type": "heatmapgl"
           }
          ],
          "histogram": [
           {
            "marker": {
             "pattern": {
              "fillmode": "overlay",
              "size": 10,
              "solidity": 0.2
             }
            },
            "type": "histogram"
           }
          ],
          "histogram2d": [
           {
            "colorbar": {
             "outlinewidth": 0,
             "ticks": ""
            },
            "colorscale": [
             [
              0,
              "#0d0887"
             ],
             [
              0.1111111111111111,
              "#46039f"
             ],
             [
              0.2222222222222222,
              "#7201a8"
             ],
             [
              0.3333333333333333,
              "#9c179e"
             ],
             [
              0.4444444444444444,
              "#bd3786"
             ],
             [
              0.5555555555555556,
              "#d8576b"
             ],
             [
              0.6666666666666666,
              "#ed7953"
             ],
             [
              0.7777777777777778,
              "#fb9f3a"
             ],
             [
              0.8888888888888888,
              "#fdca26"
             ],
             [
              1,
              "#f0f921"
             ]
            ],
            "type": "histogram2d"
           }
          ],
          "histogram2dcontour": [
           {
            "colorbar": {
             "outlinewidth": 0,
             "ticks": ""
            },
            "colorscale": [
             [
              0,
              "#0d0887"
             ],
             [
              0.1111111111111111,
              "#46039f"
             ],
             [
              0.2222222222222222,
              "#7201a8"
             ],
             [
              0.3333333333333333,
              "#9c179e"
             ],
             [
              0.4444444444444444,
              "#bd3786"
             ],
             [
              0.5555555555555556,
              "#d8576b"
             ],
             [
              0.6666666666666666,
              "#ed7953"
             ],
             [
              0.7777777777777778,
              "#fb9f3a"
             ],
             [
              0.8888888888888888,
              "#fdca26"
             ],
             [
              1,
              "#f0f921"
             ]
            ],
            "type": "histogram2dcontour"
           }
          ],
          "mesh3d": [
           {
            "colorbar": {
             "outlinewidth": 0,
             "ticks": ""
            },
            "type": "mesh3d"
           }
          ],
          "parcoords": [
           {
            "line": {
             "colorbar": {
              "outlinewidth": 0,
              "ticks": ""
             }
            },
            "type": "parcoords"
           }
          ],
          "pie": [
           {
            "automargin": true,
            "type": "pie"
           }
          ],
          "scatter": [
           {
            "fillpattern": {
             "fillmode": "overlay",
             "size": 10,
             "solidity": 0.2
            },
            "type": "scatter"
           }
          ],
          "scatter3d": [
           {
            "line": {
             "colorbar": {
              "outlinewidth": 0,
              "ticks": ""
             }
            },
            "marker": {
             "colorbar": {
              "outlinewidth": 0,
              "ticks": ""
             }
            },
            "type": "scatter3d"
           }
          ],
          "scattercarpet": [
           {
            "marker": {
             "colorbar": {
              "outlinewidth": 0,
              "ticks": ""
             }
            },
            "type": "scattercarpet"
           }
          ],
          "scattergeo": [
           {
            "marker": {
             "colorbar": {
              "outlinewidth": 0,
              "ticks": ""
             }
            },
            "type": "scattergeo"
           }
          ],
          "scattergl": [
           {
            "marker": {
             "colorbar": {
              "outlinewidth": 0,
              "ticks": ""
             }
            },
            "type": "scattergl"
           }
          ],
          "scattermapbox": [
           {
            "marker": {
             "colorbar": {
              "outlinewidth": 0,
              "ticks": ""
             }
            },
            "type": "scattermapbox"
           }
          ],
          "scatterpolar": [
           {
            "marker": {
             "colorbar": {
              "outlinewidth": 0,
              "ticks": ""
             }
            },
            "type": "scatterpolar"
           }
          ],
          "scatterpolargl": [
           {
            "marker": {
             "colorbar": {
              "outlinewidth": 0,
              "ticks": ""
             }
            },
            "type": "scatterpolargl"
           }
          ],
          "scatterternary": [
           {
            "marker": {
             "colorbar": {
              "outlinewidth": 0,
              "ticks": ""
             }
            },
            "type": "scatterternary"
           }
          ],
          "surface": [
           {
            "colorbar": {
             "outlinewidth": 0,
             "ticks": ""
            },
            "colorscale": [
             [
              0,
              "#0d0887"
             ],
             [
              0.1111111111111111,
              "#46039f"
             ],
             [
              0.2222222222222222,
              "#7201a8"
             ],
             [
              0.3333333333333333,
              "#9c179e"
             ],
             [
              0.4444444444444444,
              "#bd3786"
             ],
             [
              0.5555555555555556,
              "#d8576b"
             ],
             [
              0.6666666666666666,
              "#ed7953"
             ],
             [
              0.7777777777777778,
              "#fb9f3a"
             ],
             [
              0.8888888888888888,
              "#fdca26"
             ],
             [
              1,
              "#f0f921"
             ]
            ],
            "type": "surface"
           }
          ],
          "table": [
           {
            "cells": {
             "fill": {
              "color": "#EBF0F8"
             },
             "line": {
              "color": "white"
             }
            },
            "header": {
             "fill": {
              "color": "#C8D4E3"
             },
             "line": {
              "color": "white"
             }
            },
            "type": "table"
           }
          ]
         },
         "layout": {
          "annotationdefaults": {
           "arrowcolor": "#2a3f5f",
           "arrowhead": 0,
           "arrowwidth": 1
          },
          "autotypenumbers": "strict",
          "coloraxis": {
           "colorbar": {
            "outlinewidth": 0,
            "ticks": ""
           }
          },
          "colorscale": {
           "diverging": [
            [
             0,
             "#8e0152"
            ],
            [
             0.1,
             "#c51b7d"
            ],
            [
             0.2,
             "#de77ae"
            ],
            [
             0.3,
             "#f1b6da"
            ],
            [
             0.4,
             "#fde0ef"
            ],
            [
             0.5,
             "#f7f7f7"
            ],
            [
             0.6,
             "#e6f5d0"
            ],
            [
             0.7,
             "#b8e186"
            ],
            [
             0.8,
             "#7fbc41"
            ],
            [
             0.9,
             "#4d9221"
            ],
            [
             1,
             "#276419"
            ]
           ],
           "sequential": [
            [
             0,
             "#0d0887"
            ],
            [
             0.1111111111111111,
             "#46039f"
            ],
            [
             0.2222222222222222,
             "#7201a8"
            ],
            [
             0.3333333333333333,
             "#9c179e"
            ],
            [
             0.4444444444444444,
             "#bd3786"
            ],
            [
             0.5555555555555556,
             "#d8576b"
            ],
            [
             0.6666666666666666,
             "#ed7953"
            ],
            [
             0.7777777777777778,
             "#fb9f3a"
            ],
            [
             0.8888888888888888,
             "#fdca26"
            ],
            [
             1,
             "#f0f921"
            ]
           ],
           "sequentialminus": [
            [
             0,
             "#0d0887"
            ],
            [
             0.1111111111111111,
             "#46039f"
            ],
            [
             0.2222222222222222,
             "#7201a8"
            ],
            [
             0.3333333333333333,
             "#9c179e"
            ],
            [
             0.4444444444444444,
             "#bd3786"
            ],
            [
             0.5555555555555556,
             "#d8576b"
            ],
            [
             0.6666666666666666,
             "#ed7953"
            ],
            [
             0.7777777777777778,
             "#fb9f3a"
            ],
            [
             0.8888888888888888,
             "#fdca26"
            ],
            [
             1,
             "#f0f921"
            ]
           ]
          },
          "colorway": [
           "#636efa",
           "#EF553B",
           "#00cc96",
           "#ab63fa",
           "#FFA15A",
           "#19d3f3",
           "#FF6692",
           "#B6E880",
           "#FF97FF",
           "#FECB52"
          ],
          "font": {
           "color": "#2a3f5f"
          },
          "geo": {
           "bgcolor": "white",
           "lakecolor": "white",
           "landcolor": "#E5ECF6",
           "showlakes": true,
           "showland": true,
           "subunitcolor": "white"
          },
          "hoverlabel": {
           "align": "left"
          },
          "hovermode": "closest",
          "mapbox": {
           "style": "light"
          },
          "paper_bgcolor": "white",
          "plot_bgcolor": "#E5ECF6",
          "polar": {
           "angularaxis": {
            "gridcolor": "white",
            "linecolor": "white",
            "ticks": ""
           },
           "bgcolor": "#E5ECF6",
           "radialaxis": {
            "gridcolor": "white",
            "linecolor": "white",
            "ticks": ""
           }
          },
          "scene": {
           "xaxis": {
            "backgroundcolor": "#E5ECF6",
            "gridcolor": "white",
            "gridwidth": 2,
            "linecolor": "white",
            "showbackground": true,
            "ticks": "",
            "zerolinecolor": "white"
           },
           "yaxis": {
            "backgroundcolor": "#E5ECF6",
            "gridcolor": "white",
            "gridwidth": 2,
            "linecolor": "white",
            "showbackground": true,
            "ticks": "",
            "zerolinecolor": "white"
           },
           "zaxis": {
            "backgroundcolor": "#E5ECF6",
            "gridcolor": "white",
            "gridwidth": 2,
            "linecolor": "white",
            "showbackground": true,
            "ticks": "",
            "zerolinecolor": "white"
           }
          },
          "shapedefaults": {
           "line": {
            "color": "#2a3f5f"
           }
          },
          "ternary": {
           "aaxis": {
            "gridcolor": "white",
            "linecolor": "white",
            "ticks": ""
           },
           "baxis": {
            "gridcolor": "white",
            "linecolor": "white",
            "ticks": ""
           },
           "bgcolor": "#E5ECF6",
           "caxis": {
            "gridcolor": "white",
            "linecolor": "white",
            "ticks": ""
           }
          },
          "title": {
           "x": 0.05
          },
          "xaxis": {
           "automargin": true,
           "gridcolor": "white",
           "linecolor": "white",
           "ticks": "",
           "title": {
            "standoff": 15
           },
           "zerolinecolor": "white",
           "zerolinewidth": 2
          },
          "yaxis": {
           "automargin": true,
           "gridcolor": "white",
           "linecolor": "white",
           "ticks": "",
           "title": {
            "standoff": 15
           },
           "zerolinecolor": "white",
           "zerolinewidth": 2
          }
         }
        },
        "xaxis": {
         "anchor": "y",
         "domain": [
          0,
          1
         ],
         "title": {
          "text": "index"
         }
        },
        "yaxis": {
         "anchor": "x",
         "domain": [
          0,
          1
         ],
         "title": {
          "text": "value"
         }
        }
       }
      },
      "text/html": [
       "<div>                            <div id=\"d07ec2d2-6dfd-46dc-bd58-743ab4e52ace\" class=\"plotly-graph-div\" style=\"height:400px; width:100%;\"></div>            <script type=\"text/javascript\">                require([\"plotly\"], function(Plotly) {                    window.PLOTLYENV=window.PLOTLYENV || {};                                    if (document.getElementById(\"d07ec2d2-6dfd-46dc-bd58-743ab4e52ace\")) {                    Plotly.newPlot(                        \"d07ec2d2-6dfd-46dc-bd58-743ab4e52ace\",                        [{\"alignmentgroup\":\"True\",\"hovertemplate\":\"variable=time_between_stops_etm<br>index=%{x}<br>value=%{y}<extra></extra>\",\"legendgroup\":\"time_between_stops_etm\",\"marker\":{\"color\":\"#636efa\",\"pattern\":{\"shape\":\"\"}},\"name\":\"time_between_stops_etm\",\"offsetgroup\":\"time_between_stops_etm\",\"orientation\":\"v\",\"showlegend\":true,\"textposition\":\"auto\",\"x\":[0,1,2,3,4,5,6,7,8,9,10,11,12,13,14,15,16,17,18,19,20,21,22,23,24,25],\"xaxis\":\"x\",\"y\":[0.0,4.733333333333333,1.3083333333333331,3.691666666666667,2.741666666666667,4.341666666666666,4.091666666666667,2.9499999999999993,2.0166666666666675,2.625,2.0166666666666657,1.6166666666666671,2.383333333333333,6.383333333333333,0.20000000000000284,1.716666666666665,1.3666666666666671,2.291666666666668,2.991666666666667,1.8249999999999993,1.8999999999999986,2.0666666666666664,2.724999999999998,1.9583333333333357,2.3916666666666657,2.9416666666666664],\"yaxis\":\"y\",\"type\":\"bar\"},{\"alignmentgroup\":\"True\",\"hovertemplate\":\"variable=time_between_stops_realtime<br>index=%{x}<br>value=%{y}<extra></extra>\",\"legendgroup\":\"time_between_stops_realtime\",\"marker\":{\"color\":\"#EF553B\",\"pattern\":{\"shape\":\"\"}},\"name\":\"time_between_stops_realtime\",\"offsetgroup\":\"time_between_stops_realtime\",\"orientation\":\"v\",\"showlegend\":true,\"textposition\":\"auto\",\"x\":[0,1,2,3,4,5,6,7,8,9,10,11,12,13,14,15,16,17,18,19,20,21,22,23,24,25],\"xaxis\":\"x\",\"y\":[0.0,1.0,1.0,1.0,4.0,6.0,4.0,1.0,5.0,0.0,2.0,4.0,3.0,8.0,1.0,4.0,2.0,4.0,1.0,1.0,5.0,1.0,1.0,1.0,1.0,3.0],\"yaxis\":\"y\",\"type\":\"bar\"}],                        {\"template\":{\"data\":{\"histogram2dcontour\":[{\"type\":\"histogram2dcontour\",\"colorbar\":{\"outlinewidth\":0,\"ticks\":\"\"},\"colorscale\":[[0.0,\"#0d0887\"],[0.1111111111111111,\"#46039f\"],[0.2222222222222222,\"#7201a8\"],[0.3333333333333333,\"#9c179e\"],[0.4444444444444444,\"#bd3786\"],[0.5555555555555556,\"#d8576b\"],[0.6666666666666666,\"#ed7953\"],[0.7777777777777778,\"#fb9f3a\"],[0.8888888888888888,\"#fdca26\"],[1.0,\"#f0f921\"]]}],\"choropleth\":[{\"type\":\"choropleth\",\"colorbar\":{\"outlinewidth\":0,\"ticks\":\"\"}}],\"histogram2d\":[{\"type\":\"histogram2d\",\"colorbar\":{\"outlinewidth\":0,\"ticks\":\"\"},\"colorscale\":[[0.0,\"#0d0887\"],[0.1111111111111111,\"#46039f\"],[0.2222222222222222,\"#7201a8\"],[0.3333333333333333,\"#9c179e\"],[0.4444444444444444,\"#bd3786\"],[0.5555555555555556,\"#d8576b\"],[0.6666666666666666,\"#ed7953\"],[0.7777777777777778,\"#fb9f3a\"],[0.8888888888888888,\"#fdca26\"],[1.0,\"#f0f921\"]]}],\"heatmap\":[{\"type\":\"heatmap\",\"colorbar\":{\"outlinewidth\":0,\"ticks\":\"\"},\"colorscale\":[[0.0,\"#0d0887\"],[0.1111111111111111,\"#46039f\"],[0.2222222222222222,\"#7201a8\"],[0.3333333333333333,\"#9c179e\"],[0.4444444444444444,\"#bd3786\"],[0.5555555555555556,\"#d8576b\"],[0.6666666666666666,\"#ed7953\"],[0.7777777777777778,\"#fb9f3a\"],[0.8888888888888888,\"#fdca26\"],[1.0,\"#f0f921\"]]}],\"heatmapgl\":[{\"type\":\"heatmapgl\",\"colorbar\":{\"outlinewidth\":0,\"ticks\":\"\"},\"colorscale\":[[0.0,\"#0d0887\"],[0.1111111111111111,\"#46039f\"],[0.2222222222222222,\"#7201a8\"],[0.3333333333333333,\"#9c179e\"],[0.4444444444444444,\"#bd3786\"],[0.5555555555555556,\"#d8576b\"],[0.6666666666666666,\"#ed7953\"],[0.7777777777777778,\"#fb9f3a\"],[0.8888888888888888,\"#fdca26\"],[1.0,\"#f0f921\"]]}],\"contourcarpet\":[{\"type\":\"contourcarpet\",\"colorbar\":{\"outlinewidth\":0,\"ticks\":\"\"}}],\"contour\":[{\"type\":\"contour\",\"colorbar\":{\"outlinewidth\":0,\"ticks\":\"\"},\"colorscale\":[[0.0,\"#0d0887\"],[0.1111111111111111,\"#46039f\"],[0.2222222222222222,\"#7201a8\"],[0.3333333333333333,\"#9c179e\"],[0.4444444444444444,\"#bd3786\"],[0.5555555555555556,\"#d8576b\"],[0.6666666666666666,\"#ed7953\"],[0.7777777777777778,\"#fb9f3a\"],[0.8888888888888888,\"#fdca26\"],[1.0,\"#f0f921\"]]}],\"surface\":[{\"type\":\"surface\",\"colorbar\":{\"outlinewidth\":0,\"ticks\":\"\"},\"colorscale\":[[0.0,\"#0d0887\"],[0.1111111111111111,\"#46039f\"],[0.2222222222222222,\"#7201a8\"],[0.3333333333333333,\"#9c179e\"],[0.4444444444444444,\"#bd3786\"],[0.5555555555555556,\"#d8576b\"],[0.6666666666666666,\"#ed7953\"],[0.7777777777777778,\"#fb9f3a\"],[0.8888888888888888,\"#fdca26\"],[1.0,\"#f0f921\"]]}],\"mesh3d\":[{\"type\":\"mesh3d\",\"colorbar\":{\"outlinewidth\":0,\"ticks\":\"\"}}],\"scatter\":[{\"fillpattern\":{\"fillmode\":\"overlay\",\"size\":10,\"solidity\":0.2},\"type\":\"scatter\"}],\"parcoords\":[{\"type\":\"parcoords\",\"line\":{\"colorbar\":{\"outlinewidth\":0,\"ticks\":\"\"}}}],\"scatterpolargl\":[{\"type\":\"scatterpolargl\",\"marker\":{\"colorbar\":{\"outlinewidth\":0,\"ticks\":\"\"}}}],\"bar\":[{\"error_x\":{\"color\":\"#2a3f5f\"},\"error_y\":{\"color\":\"#2a3f5f\"},\"marker\":{\"line\":{\"color\":\"#E5ECF6\",\"width\":0.5},\"pattern\":{\"fillmode\":\"overlay\",\"size\":10,\"solidity\":0.2}},\"type\":\"bar\"}],\"scattergeo\":[{\"type\":\"scattergeo\",\"marker\":{\"colorbar\":{\"outlinewidth\":0,\"ticks\":\"\"}}}],\"scatterpolar\":[{\"type\":\"scatterpolar\",\"marker\":{\"colorbar\":{\"outlinewidth\":0,\"ticks\":\"\"}}}],\"histogram\":[{\"marker\":{\"pattern\":{\"fillmode\":\"overlay\",\"size\":10,\"solidity\":0.2}},\"type\":\"histogram\"}],\"scattergl\":[{\"type\":\"scattergl\",\"marker\":{\"colorbar\":{\"outlinewidth\":0,\"ticks\":\"\"}}}],\"scatter3d\":[{\"type\":\"scatter3d\",\"line\":{\"colorbar\":{\"outlinewidth\":0,\"ticks\":\"\"}},\"marker\":{\"colorbar\":{\"outlinewidth\":0,\"ticks\":\"\"}}}],\"scattermapbox\":[{\"type\":\"scattermapbox\",\"marker\":{\"colorbar\":{\"outlinewidth\":0,\"ticks\":\"\"}}}],\"scatterternary\":[{\"type\":\"scatterternary\",\"marker\":{\"colorbar\":{\"outlinewidth\":0,\"ticks\":\"\"}}}],\"scattercarpet\":[{\"type\":\"scattercarpet\",\"marker\":{\"colorbar\":{\"outlinewidth\":0,\"ticks\":\"\"}}}],\"carpet\":[{\"aaxis\":{\"endlinecolor\":\"#2a3f5f\",\"gridcolor\":\"white\",\"linecolor\":\"white\",\"minorgridcolor\":\"white\",\"startlinecolor\":\"#2a3f5f\"},\"baxis\":{\"endlinecolor\":\"#2a3f5f\",\"gridcolor\":\"white\",\"linecolor\":\"white\",\"minorgridcolor\":\"white\",\"startlinecolor\":\"#2a3f5f\"},\"type\":\"carpet\"}],\"table\":[{\"cells\":{\"fill\":{\"color\":\"#EBF0F8\"},\"line\":{\"color\":\"white\"}},\"header\":{\"fill\":{\"color\":\"#C8D4E3\"},\"line\":{\"color\":\"white\"}},\"type\":\"table\"}],\"barpolar\":[{\"marker\":{\"line\":{\"color\":\"#E5ECF6\",\"width\":0.5},\"pattern\":{\"fillmode\":\"overlay\",\"size\":10,\"solidity\":0.2}},\"type\":\"barpolar\"}],\"pie\":[{\"automargin\":true,\"type\":\"pie\"}]},\"layout\":{\"autotypenumbers\":\"strict\",\"colorway\":[\"#636efa\",\"#EF553B\",\"#00cc96\",\"#ab63fa\",\"#FFA15A\",\"#19d3f3\",\"#FF6692\",\"#B6E880\",\"#FF97FF\",\"#FECB52\"],\"font\":{\"color\":\"#2a3f5f\"},\"hovermode\":\"closest\",\"hoverlabel\":{\"align\":\"left\"},\"paper_bgcolor\":\"white\",\"plot_bgcolor\":\"#E5ECF6\",\"polar\":{\"bgcolor\":\"#E5ECF6\",\"angularaxis\":{\"gridcolor\":\"white\",\"linecolor\":\"white\",\"ticks\":\"\"},\"radialaxis\":{\"gridcolor\":\"white\",\"linecolor\":\"white\",\"ticks\":\"\"}},\"ternary\":{\"bgcolor\":\"#E5ECF6\",\"aaxis\":{\"gridcolor\":\"white\",\"linecolor\":\"white\",\"ticks\":\"\"},\"baxis\":{\"gridcolor\":\"white\",\"linecolor\":\"white\",\"ticks\":\"\"},\"caxis\":{\"gridcolor\":\"white\",\"linecolor\":\"white\",\"ticks\":\"\"}},\"coloraxis\":{\"colorbar\":{\"outlinewidth\":0,\"ticks\":\"\"}},\"colorscale\":{\"sequential\":[[0.0,\"#0d0887\"],[0.1111111111111111,\"#46039f\"],[0.2222222222222222,\"#7201a8\"],[0.3333333333333333,\"#9c179e\"],[0.4444444444444444,\"#bd3786\"],[0.5555555555555556,\"#d8576b\"],[0.6666666666666666,\"#ed7953\"],[0.7777777777777778,\"#fb9f3a\"],[0.8888888888888888,\"#fdca26\"],[1.0,\"#f0f921\"]],\"sequentialminus\":[[0.0,\"#0d0887\"],[0.1111111111111111,\"#46039f\"],[0.2222222222222222,\"#7201a8\"],[0.3333333333333333,\"#9c179e\"],[0.4444444444444444,\"#bd3786\"],[0.5555555555555556,\"#d8576b\"],[0.6666666666666666,\"#ed7953\"],[0.7777777777777778,\"#fb9f3a\"],[0.8888888888888888,\"#fdca26\"],[1.0,\"#f0f921\"]],\"diverging\":[[0,\"#8e0152\"],[0.1,\"#c51b7d\"],[0.2,\"#de77ae\"],[0.3,\"#f1b6da\"],[0.4,\"#fde0ef\"],[0.5,\"#f7f7f7\"],[0.6,\"#e6f5d0\"],[0.7,\"#b8e186\"],[0.8,\"#7fbc41\"],[0.9,\"#4d9221\"],[1,\"#276419\"]]},\"xaxis\":{\"gridcolor\":\"white\",\"linecolor\":\"white\",\"ticks\":\"\",\"title\":{\"standoff\":15},\"zerolinecolor\":\"white\",\"automargin\":true,\"zerolinewidth\":2},\"yaxis\":{\"gridcolor\":\"white\",\"linecolor\":\"white\",\"ticks\":\"\",\"title\":{\"standoff\":15},\"zerolinecolor\":\"white\",\"automargin\":true,\"zerolinewidth\":2},\"scene\":{\"xaxis\":{\"backgroundcolor\":\"#E5ECF6\",\"gridcolor\":\"white\",\"linecolor\":\"white\",\"showbackground\":true,\"ticks\":\"\",\"zerolinecolor\":\"white\",\"gridwidth\":2},\"yaxis\":{\"backgroundcolor\":\"#E5ECF6\",\"gridcolor\":\"white\",\"linecolor\":\"white\",\"showbackground\":true,\"ticks\":\"\",\"zerolinecolor\":\"white\",\"gridwidth\":2},\"zaxis\":{\"backgroundcolor\":\"#E5ECF6\",\"gridcolor\":\"white\",\"linecolor\":\"white\",\"showbackground\":true,\"ticks\":\"\",\"zerolinecolor\":\"white\",\"gridwidth\":2}},\"shapedefaults\":{\"line\":{\"color\":\"#2a3f5f\"}},\"annotationdefaults\":{\"arrowcolor\":\"#2a3f5f\",\"arrowhead\":0,\"arrowwidth\":1},\"geo\":{\"bgcolor\":\"white\",\"landcolor\":\"#E5ECF6\",\"subunitcolor\":\"white\",\"showland\":true,\"showlakes\":true,\"lakecolor\":\"white\"},\"title\":{\"x\":0.05},\"mapbox\":{\"style\":\"light\"}}},\"xaxis\":{\"anchor\":\"y\",\"domain\":[0.0,1.0],\"title\":{\"text\":\"index\"}},\"yaxis\":{\"anchor\":\"x\",\"domain\":[0.0,1.0],\"title\":{\"text\":\"value\"}},\"legend\":{\"title\":{\"text\":\"variable\"},\"tracegroupgap\":0},\"margin\":{\"t\":60},\"barmode\":\"group\",\"height\":400},                        {\"responsive\": true}                    ).then(function(){\n",
       "                            \n",
       "var gd = document.getElementById('d07ec2d2-6dfd-46dc-bd58-743ab4e52ace');\n",
       "var x = new MutationObserver(function (mutations, observer) {{\n",
       "        var display = window.getComputedStyle(gd).display;\n",
       "        if (!display || display === 'none') {{\n",
       "            console.log([gd, 'removed!']);\n",
       "            Plotly.purge(gd);\n",
       "            observer.disconnect();\n",
       "        }}\n",
       "}});\n",
       "\n",
       "// Listen for the removal of the full notebook cells\n",
       "var notebookContainer = gd.closest('#notebook-container');\n",
       "if (notebookContainer) {{\n",
       "    x.observe(notebookContainer, {childList: true});\n",
       "}}\n",
       "\n",
       "// Listen for the clearing of the current output cell\n",
       "var outputEl = gd.closest('.output');\n",
       "if (outputEl) {{\n",
       "    x.observe(outputEl, {childList: true});\n",
       "}}\n",
       "\n",
       "                        })                };                });            </script>        </div>"
      ]
     },
     "metadata": {},
     "output_type": "display_data"
    }
   ],
   "source": [
    "fig_station_time_diff = px.bar(df, x=df.index,y=['time_between_stops_etm','time_between_stops_realtime'],barmode='group',height=400)\n",
    "fig_station_time_diff.update_traces(showlegend=True)"
   ]
  },
  {
   "cell_type": "code",
   "execution_count": null,
   "id": "0921c27f",
   "metadata": {},
   "outputs": [],
   "source": []
  },
  {
   "cell_type": "code",
   "execution_count": null,
   "id": "b83079be",
   "metadata": {},
   "outputs": [],
   "source": []
  },
  {
   "cell_type": "code",
   "execution_count": null,
   "id": "2edef4fe",
   "metadata": {},
   "outputs": [],
   "source": []
  },
  {
   "cell_type": "code",
   "execution_count": null,
   "id": "d8d61481",
   "metadata": {},
   "outputs": [],
   "source": []
  },
  {
   "cell_type": "code",
   "execution_count": null,
   "id": "a5e32b6b",
   "metadata": {},
   "outputs": [],
   "source": []
  },
  {
   "cell_type": "code",
   "execution_count": null,
   "id": "763479ca",
   "metadata": {},
   "outputs": [],
   "source": []
  },
  {
   "cell_type": "code",
   "execution_count": null,
   "id": "88d0eb32",
   "metadata": {},
   "outputs": [],
   "source": []
  },
  {
   "cell_type": "code",
   "execution_count": null,
   "id": "5f1ad1d4",
   "metadata": {},
   "outputs": [],
   "source": []
  },
  {
   "cell_type": "code",
   "execution_count": null,
   "id": "04394199",
   "metadata": {},
   "outputs": [],
   "source": []
  },
  {
   "cell_type": "code",
   "execution_count": null,
   "id": "eb36cc08",
   "metadata": {},
   "outputs": [],
   "source": []
  },
  {
   "cell_type": "code",
   "execution_count": null,
   "id": "62e2a42c",
   "metadata": {},
   "outputs": [],
   "source": []
  },
  {
   "cell_type": "code",
   "execution_count": null,
   "id": "dc1d6d31",
   "metadata": {},
   "outputs": [],
   "source": []
  },
  {
   "cell_type": "markdown",
   "id": "b57350e8",
   "metadata": {},
   "source": [
    "## april-2021 real time for 717"
   ]
  },
  {
   "cell_type": "code",
   "execution_count": 26,
   "id": "31d44a48",
   "metadata": {},
   "outputs": [],
   "source": [
    "path = r'DIMTS_realtime_data\\17April2021' # use your path\n",
    "all_files = glob.glob(os.path.join(path , \"*.csv\"))\n",
    "all_files\n",
    "real_time = pd.concat((pd.read_csv(f) for f in all_files), ignore_index=True)"
   ]
  },
  {
   "cell_type": "code",
   "execution_count": 27,
   "id": "a015d841",
   "metadata": {},
   "outputs": [],
   "source": [
    "real_time_717 = real_time[real_time['vehicle.trip.routeId']==717]"
   ]
  },
  {
   "cell_type": "code",
   "execution_count": 28,
   "id": "93c7c0f9",
   "metadata": {},
   "outputs": [
    {
     "data": {
      "text/html": [
       "<div>\n",
       "<style scoped>\n",
       "    .dataframe tbody tr th:only-of-type {\n",
       "        vertical-align: middle;\n",
       "    }\n",
       "\n",
       "    .dataframe tbody tr th {\n",
       "        vertical-align: top;\n",
       "    }\n",
       "\n",
       "    .dataframe thead th {\n",
       "        text-align: right;\n",
       "    }\n",
       "</style>\n",
       "<table border=\"1\" class=\"dataframe\">\n",
       "  <thead>\n",
       "    <tr style=\"text-align: right;\">\n",
       "      <th></th>\n",
       "      <th>Unnamed: 0</th>\n",
       "      <th>id</th>\n",
       "      <th>vehicle.position.latitude</th>\n",
       "      <th>vehicle.position.longitude</th>\n",
       "      <th>vehicle.position.speed</th>\n",
       "      <th>vehicle.timestamp</th>\n",
       "      <th>vehicle.trip.routeId</th>\n",
       "      <th>vehicle.trip.startDate</th>\n",
       "      <th>vehicle.trip.startTime</th>\n",
       "      <th>vehicle.trip.tripId</th>\n",
       "      <th>vehicle.vehicle.id</th>\n",
       "      <th>vehicle.vehicle.label</th>\n",
       "    </tr>\n",
       "  </thead>\n",
       "  <tbody>\n",
       "    <tr>\n",
       "      <th>1783</th>\n",
       "      <td>1783</td>\n",
       "      <td>DL1PD5030</td>\n",
       "      <td>28.584803</td>\n",
       "      <td>77.26057</td>\n",
       "      <td>0.0</td>\n",
       "      <td>1618597787</td>\n",
       "      <td>717</td>\n",
       "      <td>20210416</td>\n",
       "      <td>23:56:59</td>\n",
       "      <td>717_23_56_8451_new</td>\n",
       "      <td>DL1PD5030</td>\n",
       "      <td>DL1PD5030</td>\n",
       "    </tr>\n",
       "    <tr>\n",
       "      <th>3564</th>\n",
       "      <td>1774</td>\n",
       "      <td>DL1PD5030</td>\n",
       "      <td>28.584720</td>\n",
       "      <td>77.26041</td>\n",
       "      <td>0.0</td>\n",
       "      <td>1618597823</td>\n",
       "      <td>717</td>\n",
       "      <td>20210416</td>\n",
       "      <td>23:56:59</td>\n",
       "      <td>717_23_56_8451_new</td>\n",
       "      <td>DL1PD5030</td>\n",
       "      <td>DL1PD5030</td>\n",
       "    </tr>\n",
       "    <tr>\n",
       "      <th>5339</th>\n",
       "      <td>1768</td>\n",
       "      <td>DL1PD5030</td>\n",
       "      <td>28.584720</td>\n",
       "      <td>77.26041</td>\n",
       "      <td>0.0</td>\n",
       "      <td>1618597823</td>\n",
       "      <td>717</td>\n",
       "      <td>20210416</td>\n",
       "      <td>23:56:59</td>\n",
       "      <td>717_23_56_8451_new</td>\n",
       "      <td>DL1PD5030</td>\n",
       "      <td>DL1PD5030</td>\n",
       "    </tr>\n",
       "    <tr>\n",
       "      <th>7114</th>\n",
       "      <td>1765</td>\n",
       "      <td>DL1PD5030</td>\n",
       "      <td>28.584720</td>\n",
       "      <td>77.26041</td>\n",
       "      <td>0.0</td>\n",
       "      <td>1618597823</td>\n",
       "      <td>717</td>\n",
       "      <td>20210416</td>\n",
       "      <td>23:56:59</td>\n",
       "      <td>717_23_56_8451_new</td>\n",
       "      <td>DL1PD5030</td>\n",
       "      <td>DL1PD5030</td>\n",
       "    </tr>\n",
       "    <tr>\n",
       "      <th>8885</th>\n",
       "      <td>1757</td>\n",
       "      <td>DL1PD5030</td>\n",
       "      <td>28.584720</td>\n",
       "      <td>77.26041</td>\n",
       "      <td>0.0</td>\n",
       "      <td>1618597823</td>\n",
       "      <td>717</td>\n",
       "      <td>20210416</td>\n",
       "      <td>23:56:59</td>\n",
       "      <td>717_23_56_8451_new</td>\n",
       "      <td>DL1PD5030</td>\n",
       "      <td>DL1PD5030</td>\n",
       "    </tr>\n",
       "    <tr>\n",
       "      <th>...</th>\n",
       "      <td>...</td>\n",
       "      <td>...</td>\n",
       "      <td>...</td>\n",
       "      <td>...</td>\n",
       "      <td>...</td>\n",
       "      <td>...</td>\n",
       "      <td>...</td>\n",
       "      <td>...</td>\n",
       "      <td>...</td>\n",
       "      <td>...</td>\n",
       "      <td>...</td>\n",
       "      <td>...</td>\n",
       "    </tr>\n",
       "    <tr>\n",
       "      <th>1573445</th>\n",
       "      <td>786</td>\n",
       "      <td>DL1PD5252</td>\n",
       "      <td>28.619225</td>\n",
       "      <td>77.24796</td>\n",
       "      <td>0.0</td>\n",
       "      <td>1618683857</td>\n",
       "      <td>717</td>\n",
       "      <td>20210417</td>\n",
       "      <td>21:34:42</td>\n",
       "      <td>717_21_34_1879_new</td>\n",
       "      <td>DL1PD5252</td>\n",
       "      <td>DL1PD5252</td>\n",
       "    </tr>\n",
       "    <tr>\n",
       "      <th>1574907</th>\n",
       "      <td>786</td>\n",
       "      <td>DL1PD5252</td>\n",
       "      <td>28.619225</td>\n",
       "      <td>77.24796</td>\n",
       "      <td>0.0</td>\n",
       "      <td>1618683917</td>\n",
       "      <td>717</td>\n",
       "      <td>20210417</td>\n",
       "      <td>21:34:42</td>\n",
       "      <td>717_21_34_1879_new</td>\n",
       "      <td>DL1PD5252</td>\n",
       "      <td>DL1PD5252</td>\n",
       "    </tr>\n",
       "    <tr>\n",
       "      <th>1576365</th>\n",
       "      <td>783</td>\n",
       "      <td>DL1PD5252</td>\n",
       "      <td>28.619226</td>\n",
       "      <td>77.24796</td>\n",
       "      <td>0.0</td>\n",
       "      <td>1618683976</td>\n",
       "      <td>717</td>\n",
       "      <td>20210417</td>\n",
       "      <td>21:34:42</td>\n",
       "      <td>717_21_34_1879_new</td>\n",
       "      <td>DL1PD5252</td>\n",
       "      <td>DL1PD5252</td>\n",
       "    </tr>\n",
       "    <tr>\n",
       "      <th>1577817</th>\n",
       "      <td>779</td>\n",
       "      <td>DL1PD5252</td>\n",
       "      <td>28.619230</td>\n",
       "      <td>77.24796</td>\n",
       "      <td>0.0</td>\n",
       "      <td>1618684036</td>\n",
       "      <td>717</td>\n",
       "      <td>20210417</td>\n",
       "      <td>21:34:42</td>\n",
       "      <td>717_21_34_1879_new</td>\n",
       "      <td>DL1PD5252</td>\n",
       "      <td>DL1PD5252</td>\n",
       "    </tr>\n",
       "    <tr>\n",
       "      <th>1579265</th>\n",
       "      <td>777</td>\n",
       "      <td>DL1PD5252</td>\n",
       "      <td>28.619230</td>\n",
       "      <td>77.24796</td>\n",
       "      <td>0.0</td>\n",
       "      <td>1618684036</td>\n",
       "      <td>717</td>\n",
       "      <td>20210417</td>\n",
       "      <td>21:34:42</td>\n",
       "      <td>717_21_34_1879_new</td>\n",
       "      <td>DL1PD5252</td>\n",
       "      <td>DL1PD5252</td>\n",
       "    </tr>\n",
       "  </tbody>\n",
       "</table>\n",
       "<p>1223 rows × 12 columns</p>\n",
       "</div>"
      ],
      "text/plain": [
       "         Unnamed: 0         id  vehicle.position.latitude  \\\n",
       "1783           1783  DL1PD5030                  28.584803   \n",
       "3564           1774  DL1PD5030                  28.584720   \n",
       "5339           1768  DL1PD5030                  28.584720   \n",
       "7114           1765  DL1PD5030                  28.584720   \n",
       "8885           1757  DL1PD5030                  28.584720   \n",
       "...             ...        ...                        ...   \n",
       "1573445         786  DL1PD5252                  28.619225   \n",
       "1574907         786  DL1PD5252                  28.619225   \n",
       "1576365         783  DL1PD5252                  28.619226   \n",
       "1577817         779  DL1PD5252                  28.619230   \n",
       "1579265         777  DL1PD5252                  28.619230   \n",
       "\n",
       "         vehicle.position.longitude  vehicle.position.speed  \\\n",
       "1783                       77.26057                     0.0   \n",
       "3564                       77.26041                     0.0   \n",
       "5339                       77.26041                     0.0   \n",
       "7114                       77.26041                     0.0   \n",
       "8885                       77.26041                     0.0   \n",
       "...                             ...                     ...   \n",
       "1573445                    77.24796                     0.0   \n",
       "1574907                    77.24796                     0.0   \n",
       "1576365                    77.24796                     0.0   \n",
       "1577817                    77.24796                     0.0   \n",
       "1579265                    77.24796                     0.0   \n",
       "\n",
       "         vehicle.timestamp  vehicle.trip.routeId  vehicle.trip.startDate  \\\n",
       "1783            1618597787                   717                20210416   \n",
       "3564            1618597823                   717                20210416   \n",
       "5339            1618597823                   717                20210416   \n",
       "7114            1618597823                   717                20210416   \n",
       "8885            1618597823                   717                20210416   \n",
       "...                    ...                   ...                     ...   \n",
       "1573445         1618683857                   717                20210417   \n",
       "1574907         1618683917                   717                20210417   \n",
       "1576365         1618683976                   717                20210417   \n",
       "1577817         1618684036                   717                20210417   \n",
       "1579265         1618684036                   717                20210417   \n",
       "\n",
       "        vehicle.trip.startTime vehicle.trip.tripId vehicle.vehicle.id  \\\n",
       "1783                  23:56:59  717_23_56_8451_new          DL1PD5030   \n",
       "3564                  23:56:59  717_23_56_8451_new          DL1PD5030   \n",
       "5339                  23:56:59  717_23_56_8451_new          DL1PD5030   \n",
       "7114                  23:56:59  717_23_56_8451_new          DL1PD5030   \n",
       "8885                  23:56:59  717_23_56_8451_new          DL1PD5030   \n",
       "...                        ...                 ...                ...   \n",
       "1573445               21:34:42  717_21_34_1879_new          DL1PD5252   \n",
       "1574907               21:34:42  717_21_34_1879_new          DL1PD5252   \n",
       "1576365               21:34:42  717_21_34_1879_new          DL1PD5252   \n",
       "1577817               21:34:42  717_21_34_1879_new          DL1PD5252   \n",
       "1579265               21:34:42  717_21_34_1879_new          DL1PD5252   \n",
       "\n",
       "        vehicle.vehicle.label  \n",
       "1783                DL1PD5030  \n",
       "3564                DL1PD5030  \n",
       "5339                DL1PD5030  \n",
       "7114                DL1PD5030  \n",
       "8885                DL1PD5030  \n",
       "...                       ...  \n",
       "1573445             DL1PD5252  \n",
       "1574907             DL1PD5252  \n",
       "1576365             DL1PD5252  \n",
       "1577817             DL1PD5252  \n",
       "1579265             DL1PD5252  \n",
       "\n",
       "[1223 rows x 12 columns]"
      ]
     },
     "execution_count": 28,
     "metadata": {},
     "output_type": "execute_result"
    }
   ],
   "source": [
    "real_time_717"
   ]
  },
  {
   "cell_type": "code",
   "execution_count": 29,
   "id": "5b7f24b0",
   "metadata": {},
   "outputs": [
    {
     "data": {
      "text/plain": [
       "array(['DL1PD5030', 'DL1PD5017', 'DL1PD5023', 'DL1PD5028', 'DL1PD5029',\n",
       "       'DL1PD5252'], dtype=object)"
      ]
     },
     "execution_count": 29,
     "metadata": {},
     "output_type": "execute_result"
    }
   ],
   "source": [
    "real_time_717['vehicle.vehicle.id'].unique()"
   ]
  },
  {
   "cell_type": "markdown",
   "id": "01d0ed41",
   "metadata": {},
   "source": [
    "## For one trip"
   ]
  },
  {
   "cell_type": "code",
   "execution_count": 30,
   "id": "f1a6a1dc",
   "metadata": {},
   "outputs": [
    {
     "data": {
      "text/html": [
       "<div>\n",
       "<style scoped>\n",
       "    .dataframe tbody tr th:only-of-type {\n",
       "        vertical-align: middle;\n",
       "    }\n",
       "\n",
       "    .dataframe tbody tr th {\n",
       "        vertical-align: top;\n",
       "    }\n",
       "\n",
       "    .dataframe thead th {\n",
       "        text-align: right;\n",
       "    }\n",
       "</style>\n",
       "<table border=\"1\" class=\"dataframe\">\n",
       "  <thead>\n",
       "    <tr style=\"text-align: right;\">\n",
       "      <th></th>\n",
       "      <th>Unnamed: 0</th>\n",
       "      <th>id</th>\n",
       "      <th>vehicle.position.latitude</th>\n",
       "      <th>vehicle.position.longitude</th>\n",
       "      <th>vehicle.position.speed</th>\n",
       "      <th>vehicle.timestamp</th>\n",
       "      <th>vehicle.trip.routeId</th>\n",
       "      <th>vehicle.trip.startDate</th>\n",
       "      <th>vehicle.trip.startTime</th>\n",
       "      <th>vehicle.trip.tripId</th>\n",
       "      <th>vehicle.vehicle.id</th>\n",
       "      <th>vehicle.vehicle.label</th>\n",
       "    </tr>\n",
       "  </thead>\n",
       "  <tbody>\n",
       "    <tr>\n",
       "      <th>431754</th>\n",
       "      <td>978</td>\n",
       "      <td>DL1PD5029</td>\n",
       "      <td>28.585760</td>\n",
       "      <td>77.253440</td>\n",
       "      <td>0.231481</td>\n",
       "      <td>1618641416</td>\n",
       "      <td>717</td>\n",
       "      <td>20210417</td>\n",
       "      <td>12:07:02</td>\n",
       "      <td>717_12_5</td>\n",
       "      <td>DL1PD5029</td>\n",
       "      <td>DL1PD5029</td>\n",
       "    </tr>\n",
       "    <tr>\n",
       "      <th>433943</th>\n",
       "      <td>978</td>\n",
       "      <td>DL1PD5029</td>\n",
       "      <td>28.583626</td>\n",
       "      <td>77.252970</td>\n",
       "      <td>2.160494</td>\n",
       "      <td>1618641466</td>\n",
       "      <td>717</td>\n",
       "      <td>20210417</td>\n",
       "      <td>12:07:02</td>\n",
       "      <td>717_12_5</td>\n",
       "      <td>DL1PD5029</td>\n",
       "      <td>DL1PD5029</td>\n",
       "    </tr>\n",
       "    <tr>\n",
       "      <th>436131</th>\n",
       "      <td>977</td>\n",
       "      <td>DL1PD5029</td>\n",
       "      <td>28.582570</td>\n",
       "      <td>77.251730</td>\n",
       "      <td>0.000000</td>\n",
       "      <td>1618641546</td>\n",
       "      <td>717</td>\n",
       "      <td>20210417</td>\n",
       "      <td>12:07:02</td>\n",
       "      <td>717_12_5</td>\n",
       "      <td>DL1PD5029</td>\n",
       "      <td>DL1PD5029</td>\n",
       "    </tr>\n",
       "    <tr>\n",
       "      <th>438322</th>\n",
       "      <td>977</td>\n",
       "      <td>DL1PD5029</td>\n",
       "      <td>28.583687</td>\n",
       "      <td>77.250480</td>\n",
       "      <td>0.077160</td>\n",
       "      <td>1618641606</td>\n",
       "      <td>717</td>\n",
       "      <td>20210417</td>\n",
       "      <td>12:07:02</td>\n",
       "      <td>717_12_5</td>\n",
       "      <td>DL1PD5029</td>\n",
       "      <td>DL1PD5029</td>\n",
       "    </tr>\n",
       "    <tr>\n",
       "      <th>440514</th>\n",
       "      <td>977</td>\n",
       "      <td>DL1PD5029</td>\n",
       "      <td>28.584896</td>\n",
       "      <td>77.249410</td>\n",
       "      <td>1.697531</td>\n",
       "      <td>1618641656</td>\n",
       "      <td>717</td>\n",
       "      <td>20210417</td>\n",
       "      <td>12:07:02</td>\n",
       "      <td>717_12_5</td>\n",
       "      <td>DL1PD5029</td>\n",
       "      <td>DL1PD5029</td>\n",
       "    </tr>\n",
       "    <tr>\n",
       "      <th>...</th>\n",
       "      <td>...</td>\n",
       "      <td>...</td>\n",
       "      <td>...</td>\n",
       "      <td>...</td>\n",
       "      <td>...</td>\n",
       "      <td>...</td>\n",
       "      <td>...</td>\n",
       "      <td>...</td>\n",
       "      <td>...</td>\n",
       "      <td>...</td>\n",
       "      <td>...</td>\n",
       "      <td>...</td>\n",
       "    </tr>\n",
       "    <tr>\n",
       "      <th>1266545</th>\n",
       "      <td>525</td>\n",
       "      <td>DL1PD5029</td>\n",
       "      <td>28.707165</td>\n",
       "      <td>77.178370</td>\n",
       "      <td>0.077160</td>\n",
       "      <td>1618673654</td>\n",
       "      <td>717</td>\n",
       "      <td>20210417</td>\n",
       "      <td>19:58:27</td>\n",
       "      <td>717_20_20</td>\n",
       "      <td>DL1PD5029</td>\n",
       "      <td>DL1PD5029</td>\n",
       "    </tr>\n",
       "    <tr>\n",
       "      <th>1268658</th>\n",
       "      <td>525</td>\n",
       "      <td>DL1PD5029</td>\n",
       "      <td>28.707624</td>\n",
       "      <td>77.177666</td>\n",
       "      <td>0.385802</td>\n",
       "      <td>1618673724</td>\n",
       "      <td>717</td>\n",
       "      <td>20210417</td>\n",
       "      <td>21:05:25</td>\n",
       "      <td>717_21_5_5447_new</td>\n",
       "      <td>DL1PD5029</td>\n",
       "      <td>DL1PD5029</td>\n",
       "    </tr>\n",
       "    <tr>\n",
       "      <th>1270767</th>\n",
       "      <td>525</td>\n",
       "      <td>DL1PD5029</td>\n",
       "      <td>28.709246</td>\n",
       "      <td>77.176765</td>\n",
       "      <td>2.777778</td>\n",
       "      <td>1618673784</td>\n",
       "      <td>717</td>\n",
       "      <td>20210417</td>\n",
       "      <td>21:06:15</td>\n",
       "      <td>717_21_6_1294_new</td>\n",
       "      <td>DL1PD5029</td>\n",
       "      <td>DL1PD5029</td>\n",
       "    </tr>\n",
       "    <tr>\n",
       "      <th>1272876</th>\n",
       "      <td>524</td>\n",
       "      <td>DL1PD5029</td>\n",
       "      <td>28.709871</td>\n",
       "      <td>77.176240</td>\n",
       "      <td>0.000000</td>\n",
       "      <td>1618673834</td>\n",
       "      <td>717</td>\n",
       "      <td>20210417</td>\n",
       "      <td>21:06:15</td>\n",
       "      <td>717_21_6_1294_new</td>\n",
       "      <td>DL1PD5029</td>\n",
       "      <td>DL1PD5029</td>\n",
       "    </tr>\n",
       "    <tr>\n",
       "      <th>1274981</th>\n",
       "      <td>523</td>\n",
       "      <td>DL1PD5029</td>\n",
       "      <td>28.708416</td>\n",
       "      <td>77.177830</td>\n",
       "      <td>2.546296</td>\n",
       "      <td>1618673894</td>\n",
       "      <td>717</td>\n",
       "      <td>20210417</td>\n",
       "      <td>21:06:15</td>\n",
       "      <td>717_21_6_1294_new</td>\n",
       "      <td>DL1PD5029</td>\n",
       "      <td>DL1PD5029</td>\n",
       "    </tr>\n",
       "  </tbody>\n",
       "</table>\n",
       "<p>200 rows × 12 columns</p>\n",
       "</div>"
      ],
      "text/plain": [
       "         Unnamed: 0         id  vehicle.position.latitude  \\\n",
       "431754          978  DL1PD5029                  28.585760   \n",
       "433943          978  DL1PD5029                  28.583626   \n",
       "436131          977  DL1PD5029                  28.582570   \n",
       "438322          977  DL1PD5029                  28.583687   \n",
       "440514          977  DL1PD5029                  28.584896   \n",
       "...             ...        ...                        ...   \n",
       "1266545         525  DL1PD5029                  28.707165   \n",
       "1268658         525  DL1PD5029                  28.707624   \n",
       "1270767         525  DL1PD5029                  28.709246   \n",
       "1272876         524  DL1PD5029                  28.709871   \n",
       "1274981         523  DL1PD5029                  28.708416   \n",
       "\n",
       "         vehicle.position.longitude  vehicle.position.speed  \\\n",
       "431754                    77.253440                0.231481   \n",
       "433943                    77.252970                2.160494   \n",
       "436131                    77.251730                0.000000   \n",
       "438322                    77.250480                0.077160   \n",
       "440514                    77.249410                1.697531   \n",
       "...                             ...                     ...   \n",
       "1266545                   77.178370                0.077160   \n",
       "1268658                   77.177666                0.385802   \n",
       "1270767                   77.176765                2.777778   \n",
       "1272876                   77.176240                0.000000   \n",
       "1274981                   77.177830                2.546296   \n",
       "\n",
       "         vehicle.timestamp  vehicle.trip.routeId  vehicle.trip.startDate  \\\n",
       "431754          1618641416                   717                20210417   \n",
       "433943          1618641466                   717                20210417   \n",
       "436131          1618641546                   717                20210417   \n",
       "438322          1618641606                   717                20210417   \n",
       "440514          1618641656                   717                20210417   \n",
       "...                    ...                   ...                     ...   \n",
       "1266545         1618673654                   717                20210417   \n",
       "1268658         1618673724                   717                20210417   \n",
       "1270767         1618673784                   717                20210417   \n",
       "1272876         1618673834                   717                20210417   \n",
       "1274981         1618673894                   717                20210417   \n",
       "\n",
       "        vehicle.trip.startTime vehicle.trip.tripId vehicle.vehicle.id  \\\n",
       "431754                12:07:02            717_12_5          DL1PD5029   \n",
       "433943                12:07:02            717_12_5          DL1PD5029   \n",
       "436131                12:07:02            717_12_5          DL1PD5029   \n",
       "438322                12:07:02            717_12_5          DL1PD5029   \n",
       "440514                12:07:02            717_12_5          DL1PD5029   \n",
       "...                        ...                 ...                ...   \n",
       "1266545               19:58:27           717_20_20          DL1PD5029   \n",
       "1268658               21:05:25   717_21_5_5447_new          DL1PD5029   \n",
       "1270767               21:06:15   717_21_6_1294_new          DL1PD5029   \n",
       "1272876               21:06:15   717_21_6_1294_new          DL1PD5029   \n",
       "1274981               21:06:15   717_21_6_1294_new          DL1PD5029   \n",
       "\n",
       "        vehicle.vehicle.label  \n",
       "431754              DL1PD5029  \n",
       "433943              DL1PD5029  \n",
       "436131              DL1PD5029  \n",
       "438322              DL1PD5029  \n",
       "440514              DL1PD5029  \n",
       "...                       ...  \n",
       "1266545             DL1PD5029  \n",
       "1268658             DL1PD5029  \n",
       "1270767             DL1PD5029  \n",
       "1272876             DL1PD5029  \n",
       "1274981             DL1PD5029  \n",
       "\n",
       "[200 rows x 12 columns]"
      ]
     },
     "execution_count": 30,
     "metadata": {},
     "output_type": "execute_result"
    }
   ],
   "source": [
    "real_time_717_onetrip = real_time_717[real_time_717['vehicle.vehicle.id'] == 'DL1PD5029']\n",
    "real_time_717_onetrip"
   ]
  },
  {
   "cell_type": "code",
   "execution_count": 32,
   "id": "8abdd1b1",
   "metadata": {},
   "outputs": [],
   "source": [
    "# real_time_717_onetrip.to_csv(\"Route_717_realtime_april_2021.csv\")"
   ]
  },
  {
   "cell_type": "code",
   "execution_count": 31,
   "id": "1a5f9538",
   "metadata": {},
   "outputs": [
    {
     "data": {
      "application/vnd.plotly.v1+json": {
       "config": {
        "plotlyServerURL": "https://plot.ly"
       },
       "data": [
        {
         "hovertemplate": "vehicle.position.latitude=%{lat}<br>vehicle.position.longitude=%{lon}<extra></extra>",
         "lat": [
          28.58576,
          28.583626,
          28.58257,
          28.583687,
          28.584896,
          28.58536,
          28.589375,
          28.593004,
          28.59673,
          28.601454,
          28.60453,
          28.607096,
          28.609606,
          28.61038,
          28.610004,
          28.610224,
          28.61052,
          28.611662,
          28.615103,
          28.618017,
          28.620857,
          28.62519,
          28.626854,
          28.628782,
          28.631287,
          28.633455,
          28.633606,
          28.636133,
          28.64023,
          28.644316,
          28.64609,
          28.646503,
          28.647665,
          28.648636,
          28.648643,
          28.648968,
          28.651073,
          28.652857,
          28.654802,
          28.656403,
          28.658066,
          28.660337,
          28.662449,
          28.665415,
          28.6682,
          28.670938,
          28.673588,
          28.675709,
          28.678738,
          28.68088,
          28.680456,
          28.680948,
          28.680016,
          28.681826,
          28.683401,
          28.685501,
          28.686035,
          28.688047,
          28.688648,
          28.693316,
          28.695625,
          28.69711,
          28.699606,
          28.70237,
          28.704828,
          28.706703,
          28.583393,
          28.582584,
          28.58417,
          28.585733,
          28.589022,
          28.592867,
          28.597214,
          28.601665,
          28.604265,
          28.605366,
          28.609152,
          28.610481,
          28.609985,
          28.610191,
          28.610262,
          28.61118,
          28.614626,
          28.61783,
          28.620974,
          28.625353,
          28.626822,
          28.628777,
          28.629711,
          28.630638,
          28.631556,
          28.633064,
          28.633505,
          28.633572,
          28.635908,
          28.64014,
          28.644838,
          28.646088,
          28.646872,
          28.64853,
          28.649626,
          28.650059,
          28.651068,
          28.652502,
          28.653803,
          28.655453,
          28.655825,
          28.658312,
          28.66197,
          28.66346,
          28.667332,
          28.669598,
          28.67237,
          28.675016,
          28.677431,
          28.679,
          28.680807,
          28.680693,
          28.68028,
          28.680672,
          28.682903,
          28.685337,
          28.686972,
          28.688902,
          28.693161,
          28.69537,
          28.697023,
          28.700195,
          28.704641,
          28.70709,
          28.707245,
          28.58423,
          28.582624,
          28.584682,
          28.585245,
          28.585966,
          28.590897,
          28.594065,
          28.596453,
          28.60205,
          28.605766,
          28.610039,
          28.611074,
          28.610039,
          28.610254,
          28.610462,
          28.614244,
          28.617634,
          28.620745,
          28.624306,
          28.628635,
          28.630548,
          28.633018,
          28.633429,
          28.633793,
          28.636541,
          28.639515,
          28.643345,
          28.645914,
          28.646431,
          28.648212,
          28.64869,
          28.648685,
          28.64868,
          28.649584,
          28.65163,
          28.651766,
          28.651962,
          28.652885,
          28.65481,
          28.655502,
          28.655516,
          28.658266,
          28.660917,
          28.663626,
          28.667126,
          28.669584,
          28.669573,
          28.671091,
          28.673931,
          28.67727,
          28.679531,
          28.680298,
          28.681475,
          28.67926,
          28.681717,
          28.682898,
          28.685678,
          28.688253,
          28.68989,
          28.69086,
          28.693731,
          28.69689,
          28.699926,
          28.703802,
          28.707165,
          28.707624,
          28.709246,
          28.709871,
          28.708416
         ],
         "legendgroup": "",
         "lon": [
          77.25344,
          77.25297,
          77.25173,
          77.25048,
          77.24941,
          77.249054,
          77.246284,
          77.24338,
          77.24101,
          77.23779,
          77.23578,
          77.23438,
          77.23137,
          77.22572,
          77.22247,
          77.217514,
          77.21298,
          77.211945,
          77.21205,
          77.21059,
          77.21076,
          77.213905,
          77.2151,
          77.216484,
          77.21681,
          77.21198,
          77.206696,
          77.206154,
          77.20826,
          77.209274,
          77.20793,
          77.205475,
          77.20177,
          77.19994,
          77.19994,
          77.19939,
          77.19582,
          77.192604,
          77.188965,
          77.18608,
          77.18319,
          77.18338,
          77.182175,
          77.181145,
          77.18247,
          77.18377,
          77.18718,
          77.18869,
          77.187225,
          77.1843,
          77.18112,
          77.17577,
          77.17283,
          77.17021,
          77.16893,
          77.16891,
          77.17055,
          77.17436,
          77.17477,
          77.17797,
          77.1796,
          77.18215,
          77.184555,
          77.182365,
          77.18043,
          77.17886,
          77.253,
          77.25178,
          77.25001,
          77.24877,
          77.246574,
          77.24361,
          77.2408,
          77.23789,
          77.23599,
          77.23546,
          77.23322,
          77.22894,
          77.22384,
          77.21932,
          77.21686,
          77.21204,
          77.21217,
          77.211044,
          77.210785,
          77.214066,
          77.21519,
          77.21656,
          77.217064,
          77.21758,
          77.21673,
          77.21488,
          77.20896,
          77.20771,
          77.20607,
          77.20838,
          77.20944,
          77.20812,
          77.204414,
          77.20019,
          77.19811,
          77.1973,
          77.19568,
          77.19321,
          77.190834,
          77.1878,
          77.18722,
          77.18266,
          77.18284,
          77.18064,
          77.18209,
          77.18311,
          77.18567,
          77.18839,
          77.18862,
          77.18691,
          77.18424,
          77.17875,
          77.17533,
          77.17181,
          77.16914,
          77.16827,
          77.17261,
          77.17499,
          77.178,
          77.17957,
          77.1818,
          77.18412,
          77.180565,
          77.17863,
          77.17819,
          77.253174,
          77.251755,
          77.24968,
          77.24916,
          77.24855,
          77.2452,
          77.24292,
          77.24118,
          77.23745,
          77.23506,
          77.23243,
          77.227394,
          77.22294,
          77.21701,
          77.21226,
          77.21215,
          77.21127,
          77.2107,
          77.21345,
          77.21641,
          77.21764,
          77.215385,
          77.21067,
          77.20543,
          77.20645,
          77.2078,
          77.20902,
          77.20912,
          77.20544,
          77.20066,
          77.1997,
          77.1997,
          77.1997,
          77.19819,
          77.194855,
          77.19449,
          77.19425,
          77.1925,
          77.18896,
          77.18767,
          77.187675,
          77.182655,
          77.18374,
          77.18045,
          77.18197,
          77.18308,
          77.18309,
          77.18409,
          77.18772,
          77.18863,
          77.18613,
          77.18151,
          77.17684,
          77.173996,
          77.17044,
          77.16918,
          77.16984,
          77.17454,
          77.17571,
          77.176384,
          77.178444,
          77.18139,
          77.184235,
          77.181145,
          77.17837,
          77.177666,
          77.176765,
          77.17624,
          77.17783
         ],
         "marker": {
          "color": "#636efa"
         },
         "mode": "markers",
         "name": "",
         "showlegend": false,
         "subplot": "mapbox",
         "type": "scattermapbox"
        }
       ],
       "layout": {
        "legend": {
         "tracegroupgap": 0
        },
        "mapbox": {
         "center": {
          "lat": 28.646614705,
          "lon": 77.202863365
         },
         "domain": {
          "x": [
           0,
           1
          ],
          "y": [
           0,
           1
          ]
         },
         "style": "carto-positron",
         "zoom": 10
        },
        "template": {
         "data": {
          "bar": [
           {
            "error_x": {
             "color": "#2a3f5f"
            },
            "error_y": {
             "color": "#2a3f5f"
            },
            "marker": {
             "line": {
              "color": "#E5ECF6",
              "width": 0.5
             },
             "pattern": {
              "fillmode": "overlay",
              "size": 10,
              "solidity": 0.2
             }
            },
            "type": "bar"
           }
          ],
          "barpolar": [
           {
            "marker": {
             "line": {
              "color": "#E5ECF6",
              "width": 0.5
             },
             "pattern": {
              "fillmode": "overlay",
              "size": 10,
              "solidity": 0.2
             }
            },
            "type": "barpolar"
           }
          ],
          "carpet": [
           {
            "aaxis": {
             "endlinecolor": "#2a3f5f",
             "gridcolor": "white",
             "linecolor": "white",
             "minorgridcolor": "white",
             "startlinecolor": "#2a3f5f"
            },
            "baxis": {
             "endlinecolor": "#2a3f5f",
             "gridcolor": "white",
             "linecolor": "white",
             "minorgridcolor": "white",
             "startlinecolor": "#2a3f5f"
            },
            "type": "carpet"
           }
          ],
          "choropleth": [
           {
            "colorbar": {
             "outlinewidth": 0,
             "ticks": ""
            },
            "type": "choropleth"
           }
          ],
          "contour": [
           {
            "colorbar": {
             "outlinewidth": 0,
             "ticks": ""
            },
            "colorscale": [
             [
              0,
              "#0d0887"
             ],
             [
              0.1111111111111111,
              "#46039f"
             ],
             [
              0.2222222222222222,
              "#7201a8"
             ],
             [
              0.3333333333333333,
              "#9c179e"
             ],
             [
              0.4444444444444444,
              "#bd3786"
             ],
             [
              0.5555555555555556,
              "#d8576b"
             ],
             [
              0.6666666666666666,
              "#ed7953"
             ],
             [
              0.7777777777777778,
              "#fb9f3a"
             ],
             [
              0.8888888888888888,
              "#fdca26"
             ],
             [
              1,
              "#f0f921"
             ]
            ],
            "type": "contour"
           }
          ],
          "contourcarpet": [
           {
            "colorbar": {
             "outlinewidth": 0,
             "ticks": ""
            },
            "type": "contourcarpet"
           }
          ],
          "heatmap": [
           {
            "colorbar": {
             "outlinewidth": 0,
             "ticks": ""
            },
            "colorscale": [
             [
              0,
              "#0d0887"
             ],
             [
              0.1111111111111111,
              "#46039f"
             ],
             [
              0.2222222222222222,
              "#7201a8"
             ],
             [
              0.3333333333333333,
              "#9c179e"
             ],
             [
              0.4444444444444444,
              "#bd3786"
             ],
             [
              0.5555555555555556,
              "#d8576b"
             ],
             [
              0.6666666666666666,
              "#ed7953"
             ],
             [
              0.7777777777777778,
              "#fb9f3a"
             ],
             [
              0.8888888888888888,
              "#fdca26"
             ],
             [
              1,
              "#f0f921"
             ]
            ],
            "type": "heatmap"
           }
          ],
          "heatmapgl": [
           {
            "colorbar": {
             "outlinewidth": 0,
             "ticks": ""
            },
            "colorscale": [
             [
              0,
              "#0d0887"
             ],
             [
              0.1111111111111111,
              "#46039f"
             ],
             [
              0.2222222222222222,
              "#7201a8"
             ],
             [
              0.3333333333333333,
              "#9c179e"
             ],
             [
              0.4444444444444444,
              "#bd3786"
             ],
             [
              0.5555555555555556,
              "#d8576b"
             ],
             [
              0.6666666666666666,
              "#ed7953"
             ],
             [
              0.7777777777777778,
              "#fb9f3a"
             ],
             [
              0.8888888888888888,
              "#fdca26"
             ],
             [
              1,
              "#f0f921"
             ]
            ],
            "type": "heatmapgl"
           }
          ],
          "histogram": [
           {
            "marker": {
             "pattern": {
              "fillmode": "overlay",
              "size": 10,
              "solidity": 0.2
             }
            },
            "type": "histogram"
           }
          ],
          "histogram2d": [
           {
            "colorbar": {
             "outlinewidth": 0,
             "ticks": ""
            },
            "colorscale": [
             [
              0,
              "#0d0887"
             ],
             [
              0.1111111111111111,
              "#46039f"
             ],
             [
              0.2222222222222222,
              "#7201a8"
             ],
             [
              0.3333333333333333,
              "#9c179e"
             ],
             [
              0.4444444444444444,
              "#bd3786"
             ],
             [
              0.5555555555555556,
              "#d8576b"
             ],
             [
              0.6666666666666666,
              "#ed7953"
             ],
             [
              0.7777777777777778,
              "#fb9f3a"
             ],
             [
              0.8888888888888888,
              "#fdca26"
             ],
             [
              1,
              "#f0f921"
             ]
            ],
            "type": "histogram2d"
           }
          ],
          "histogram2dcontour": [
           {
            "colorbar": {
             "outlinewidth": 0,
             "ticks": ""
            },
            "colorscale": [
             [
              0,
              "#0d0887"
             ],
             [
              0.1111111111111111,
              "#46039f"
             ],
             [
              0.2222222222222222,
              "#7201a8"
             ],
             [
              0.3333333333333333,
              "#9c179e"
             ],
             [
              0.4444444444444444,
              "#bd3786"
             ],
             [
              0.5555555555555556,
              "#d8576b"
             ],
             [
              0.6666666666666666,
              "#ed7953"
             ],
             [
              0.7777777777777778,
              "#fb9f3a"
             ],
             [
              0.8888888888888888,
              "#fdca26"
             ],
             [
              1,
              "#f0f921"
             ]
            ],
            "type": "histogram2dcontour"
           }
          ],
          "mesh3d": [
           {
            "colorbar": {
             "outlinewidth": 0,
             "ticks": ""
            },
            "type": "mesh3d"
           }
          ],
          "parcoords": [
           {
            "line": {
             "colorbar": {
              "outlinewidth": 0,
              "ticks": ""
             }
            },
            "type": "parcoords"
           }
          ],
          "pie": [
           {
            "automargin": true,
            "type": "pie"
           }
          ],
          "scatter": [
           {
            "fillpattern": {
             "fillmode": "overlay",
             "size": 10,
             "solidity": 0.2
            },
            "type": "scatter"
           }
          ],
          "scatter3d": [
           {
            "line": {
             "colorbar": {
              "outlinewidth": 0,
              "ticks": ""
             }
            },
            "marker": {
             "colorbar": {
              "outlinewidth": 0,
              "ticks": ""
             }
            },
            "type": "scatter3d"
           }
          ],
          "scattercarpet": [
           {
            "marker": {
             "colorbar": {
              "outlinewidth": 0,
              "ticks": ""
             }
            },
            "type": "scattercarpet"
           }
          ],
          "scattergeo": [
           {
            "marker": {
             "colorbar": {
              "outlinewidth": 0,
              "ticks": ""
             }
            },
            "type": "scattergeo"
           }
          ],
          "scattergl": [
           {
            "marker": {
             "colorbar": {
              "outlinewidth": 0,
              "ticks": ""
             }
            },
            "type": "scattergl"
           }
          ],
          "scattermapbox": [
           {
            "marker": {
             "colorbar": {
              "outlinewidth": 0,
              "ticks": ""
             }
            },
            "type": "scattermapbox"
           }
          ],
          "scatterpolar": [
           {
            "marker": {
             "colorbar": {
              "outlinewidth": 0,
              "ticks": ""
             }
            },
            "type": "scatterpolar"
           }
          ],
          "scatterpolargl": [
           {
            "marker": {
             "colorbar": {
              "outlinewidth": 0,
              "ticks": ""
             }
            },
            "type": "scatterpolargl"
           }
          ],
          "scatterternary": [
           {
            "marker": {
             "colorbar": {
              "outlinewidth": 0,
              "ticks": ""
             }
            },
            "type": "scatterternary"
           }
          ],
          "surface": [
           {
            "colorbar": {
             "outlinewidth": 0,
             "ticks": ""
            },
            "colorscale": [
             [
              0,
              "#0d0887"
             ],
             [
              0.1111111111111111,
              "#46039f"
             ],
             [
              0.2222222222222222,
              "#7201a8"
             ],
             [
              0.3333333333333333,
              "#9c179e"
             ],
             [
              0.4444444444444444,
              "#bd3786"
             ],
             [
              0.5555555555555556,
              "#d8576b"
             ],
             [
              0.6666666666666666,
              "#ed7953"
             ],
             [
              0.7777777777777778,
              "#fb9f3a"
             ],
             [
              0.8888888888888888,
              "#fdca26"
             ],
             [
              1,
              "#f0f921"
             ]
            ],
            "type": "surface"
           }
          ],
          "table": [
           {
            "cells": {
             "fill": {
              "color": "#EBF0F8"
             },
             "line": {
              "color": "white"
             }
            },
            "header": {
             "fill": {
              "color": "#C8D4E3"
             },
             "line": {
              "color": "white"
             }
            },
            "type": "table"
           }
          ]
         },
         "layout": {
          "annotationdefaults": {
           "arrowcolor": "#2a3f5f",
           "arrowhead": 0,
           "arrowwidth": 1
          },
          "autotypenumbers": "strict",
          "coloraxis": {
           "colorbar": {
            "outlinewidth": 0,
            "ticks": ""
           }
          },
          "colorscale": {
           "diverging": [
            [
             0,
             "#8e0152"
            ],
            [
             0.1,
             "#c51b7d"
            ],
            [
             0.2,
             "#de77ae"
            ],
            [
             0.3,
             "#f1b6da"
            ],
            [
             0.4,
             "#fde0ef"
            ],
            [
             0.5,
             "#f7f7f7"
            ],
            [
             0.6,
             "#e6f5d0"
            ],
            [
             0.7,
             "#b8e186"
            ],
            [
             0.8,
             "#7fbc41"
            ],
            [
             0.9,
             "#4d9221"
            ],
            [
             1,
             "#276419"
            ]
           ],
           "sequential": [
            [
             0,
             "#0d0887"
            ],
            [
             0.1111111111111111,
             "#46039f"
            ],
            [
             0.2222222222222222,
             "#7201a8"
            ],
            [
             0.3333333333333333,
             "#9c179e"
            ],
            [
             0.4444444444444444,
             "#bd3786"
            ],
            [
             0.5555555555555556,
             "#d8576b"
            ],
            [
             0.6666666666666666,
             "#ed7953"
            ],
            [
             0.7777777777777778,
             "#fb9f3a"
            ],
            [
             0.8888888888888888,
             "#fdca26"
            ],
            [
             1,
             "#f0f921"
            ]
           ],
           "sequentialminus": [
            [
             0,
             "#0d0887"
            ],
            [
             0.1111111111111111,
             "#46039f"
            ],
            [
             0.2222222222222222,
             "#7201a8"
            ],
            [
             0.3333333333333333,
             "#9c179e"
            ],
            [
             0.4444444444444444,
             "#bd3786"
            ],
            [
             0.5555555555555556,
             "#d8576b"
            ],
            [
             0.6666666666666666,
             "#ed7953"
            ],
            [
             0.7777777777777778,
             "#fb9f3a"
            ],
            [
             0.8888888888888888,
             "#fdca26"
            ],
            [
             1,
             "#f0f921"
            ]
           ]
          },
          "colorway": [
           "#636efa",
           "#EF553B",
           "#00cc96",
           "#ab63fa",
           "#FFA15A",
           "#19d3f3",
           "#FF6692",
           "#B6E880",
           "#FF97FF",
           "#FECB52"
          ],
          "font": {
           "color": "#2a3f5f"
          },
          "geo": {
           "bgcolor": "white",
           "lakecolor": "white",
           "landcolor": "#E5ECF6",
           "showlakes": true,
           "showland": true,
           "subunitcolor": "white"
          },
          "hoverlabel": {
           "align": "left"
          },
          "hovermode": "closest",
          "mapbox": {
           "style": "light"
          },
          "paper_bgcolor": "white",
          "plot_bgcolor": "#E5ECF6",
          "polar": {
           "angularaxis": {
            "gridcolor": "white",
            "linecolor": "white",
            "ticks": ""
           },
           "bgcolor": "#E5ECF6",
           "radialaxis": {
            "gridcolor": "white",
            "linecolor": "white",
            "ticks": ""
           }
          },
          "scene": {
           "xaxis": {
            "backgroundcolor": "#E5ECF6",
            "gridcolor": "white",
            "gridwidth": 2,
            "linecolor": "white",
            "showbackground": true,
            "ticks": "",
            "zerolinecolor": "white"
           },
           "yaxis": {
            "backgroundcolor": "#E5ECF6",
            "gridcolor": "white",
            "gridwidth": 2,
            "linecolor": "white",
            "showbackground": true,
            "ticks": "",
            "zerolinecolor": "white"
           },
           "zaxis": {
            "backgroundcolor": "#E5ECF6",
            "gridcolor": "white",
            "gridwidth": 2,
            "linecolor": "white",
            "showbackground": true,
            "ticks": "",
            "zerolinecolor": "white"
           }
          },
          "shapedefaults": {
           "line": {
            "color": "#2a3f5f"
           }
          },
          "ternary": {
           "aaxis": {
            "gridcolor": "white",
            "linecolor": "white",
            "ticks": ""
           },
           "baxis": {
            "gridcolor": "white",
            "linecolor": "white",
            "ticks": ""
           },
           "bgcolor": "#E5ECF6",
           "caxis": {
            "gridcolor": "white",
            "linecolor": "white",
            "ticks": ""
           }
          },
          "title": {
           "x": 0.05
          },
          "xaxis": {
           "automargin": true,
           "gridcolor": "white",
           "linecolor": "white",
           "ticks": "",
           "title": {
            "standoff": 15
           },
           "zerolinecolor": "white",
           "zerolinewidth": 2
          },
          "yaxis": {
           "automargin": true,
           "gridcolor": "white",
           "linecolor": "white",
           "ticks": "",
           "title": {
            "standoff": 15
           },
           "zerolinecolor": "white",
           "zerolinewidth": 2
          }
         }
        },
        "title": {
         "text": "717 Bus Route real time april 2021"
        }
       }
      },
      "text/html": [
       "<div>                            <div id=\"62737cb1-e87f-4aae-b1ab-bdb221487d76\" class=\"plotly-graph-div\" style=\"height:525px; width:100%;\"></div>            <script type=\"text/javascript\">                require([\"plotly\"], function(Plotly) {                    window.PLOTLYENV=window.PLOTLYENV || {};                                    if (document.getElementById(\"62737cb1-e87f-4aae-b1ab-bdb221487d76\")) {                    Plotly.newPlot(                        \"62737cb1-e87f-4aae-b1ab-bdb221487d76\",                        [{\"hovertemplate\":\"vehicle.position.latitude=%{lat}<br>vehicle.position.longitude=%{lon}<extra></extra>\",\"lat\":[28.58576,28.583626,28.58257,28.583687,28.584896,28.58536,28.589375,28.593004,28.59673,28.601454,28.60453,28.607096,28.609606,28.61038,28.610004,28.610224,28.61052,28.611662,28.615103,28.618017,28.620857,28.62519,28.626854,28.628782,28.631287,28.633455,28.633606,28.636133,28.64023,28.644316,28.64609,28.646503,28.647665,28.648636,28.648643,28.648968,28.651073,28.652857,28.654802,28.656403,28.658066,28.660337,28.662449,28.665415,28.6682,28.670938,28.673588,28.675709,28.678738,28.68088,28.680456,28.680948,28.680016,28.681826,28.683401,28.685501,28.686035,28.688047,28.688648,28.693316,28.695625,28.69711,28.699606,28.70237,28.704828,28.706703,28.583393,28.582584,28.58417,28.585733,28.589022,28.592867,28.597214,28.601665,28.604265,28.605366,28.609152,28.610481,28.609985,28.610191,28.610262,28.61118,28.614626,28.61783,28.620974,28.625353,28.626822,28.628777,28.629711,28.630638,28.631556,28.633064,28.633505,28.633572,28.635908,28.64014,28.644838,28.646088,28.646872,28.64853,28.649626,28.650059,28.651068,28.652502,28.653803,28.655453,28.655825,28.658312,28.66197,28.66346,28.667332,28.669598,28.67237,28.675016,28.677431,28.679,28.680807,28.680693,28.68028,28.680672,28.682903,28.685337,28.686972,28.688902,28.693161,28.69537,28.697023,28.700195,28.704641,28.70709,28.707245,28.58423,28.582624,28.584682,28.585245,28.585966,28.590897,28.594065,28.596453,28.60205,28.605766,28.610039,28.611074,28.610039,28.610254,28.610462,28.614244,28.617634,28.620745,28.624306,28.628635,28.630548,28.633018,28.633429,28.633793,28.636541,28.639515,28.643345,28.645914,28.646431,28.648212,28.64869,28.648685,28.64868,28.649584,28.65163,28.651766,28.651962,28.652885,28.65481,28.655502,28.655516,28.658266,28.660917,28.663626,28.667126,28.669584,28.669573,28.671091,28.673931,28.67727,28.679531,28.680298,28.681475,28.67926,28.681717,28.682898,28.685678,28.688253,28.68989,28.69086,28.693731,28.69689,28.699926,28.703802,28.707165,28.707624,28.709246,28.709871,28.708416],\"legendgroup\":\"\",\"lon\":[77.25344,77.25297,77.25173,77.25048,77.24941,77.249054,77.246284,77.24338,77.24101,77.23779,77.23578,77.23438,77.23137,77.22572,77.22247,77.217514,77.21298,77.211945,77.21205,77.21059,77.21076,77.213905,77.2151,77.216484,77.21681,77.21198,77.206696,77.206154,77.20826,77.209274,77.20793,77.205475,77.20177,77.19994,77.19994,77.19939,77.19582,77.192604,77.188965,77.18608,77.18319,77.18338,77.182175,77.181145,77.18247,77.18377,77.18718,77.18869,77.187225,77.1843,77.18112,77.17577,77.17283,77.17021,77.16893,77.16891,77.17055,77.17436,77.17477,77.17797,77.1796,77.18215,77.184555,77.182365,77.18043,77.17886,77.253,77.25178,77.25001,77.24877,77.246574,77.24361,77.2408,77.23789,77.23599,77.23546,77.23322,77.22894,77.22384,77.21932,77.21686,77.21204,77.21217,77.211044,77.210785,77.214066,77.21519,77.21656,77.217064,77.21758,77.21673,77.21488,77.20896,77.20771,77.20607,77.20838,77.20944,77.20812,77.204414,77.20019,77.19811,77.1973,77.19568,77.19321,77.190834,77.1878,77.18722,77.18266,77.18284,77.18064,77.18209,77.18311,77.18567,77.18839,77.18862,77.18691,77.18424,77.17875,77.17533,77.17181,77.16914,77.16827,77.17261,77.17499,77.178,77.17957,77.1818,77.18412,77.180565,77.17863,77.17819,77.253174,77.251755,77.24968,77.24916,77.24855,77.2452,77.24292,77.24118,77.23745,77.23506,77.23243,77.227394,77.22294,77.21701,77.21226,77.21215,77.21127,77.2107,77.21345,77.21641,77.21764,77.215385,77.21067,77.20543,77.20645,77.2078,77.20902,77.20912,77.20544,77.20066,77.1997,77.1997,77.1997,77.19819,77.194855,77.19449,77.19425,77.1925,77.18896,77.18767,77.187675,77.182655,77.18374,77.18045,77.18197,77.18308,77.18309,77.18409,77.18772,77.18863,77.18613,77.18151,77.17684,77.173996,77.17044,77.16918,77.16984,77.17454,77.17571,77.176384,77.178444,77.18139,77.184235,77.181145,77.17837,77.177666,77.176765,77.17624,77.17783],\"marker\":{\"color\":\"#636efa\"},\"mode\":\"markers\",\"name\":\"\",\"showlegend\":false,\"subplot\":\"mapbox\",\"type\":\"scattermapbox\"}],                        {\"template\":{\"data\":{\"histogram2dcontour\":[{\"type\":\"histogram2dcontour\",\"colorbar\":{\"outlinewidth\":0,\"ticks\":\"\"},\"colorscale\":[[0.0,\"#0d0887\"],[0.1111111111111111,\"#46039f\"],[0.2222222222222222,\"#7201a8\"],[0.3333333333333333,\"#9c179e\"],[0.4444444444444444,\"#bd3786\"],[0.5555555555555556,\"#d8576b\"],[0.6666666666666666,\"#ed7953\"],[0.7777777777777778,\"#fb9f3a\"],[0.8888888888888888,\"#fdca26\"],[1.0,\"#f0f921\"]]}],\"choropleth\":[{\"type\":\"choropleth\",\"colorbar\":{\"outlinewidth\":0,\"ticks\":\"\"}}],\"histogram2d\":[{\"type\":\"histogram2d\",\"colorbar\":{\"outlinewidth\":0,\"ticks\":\"\"},\"colorscale\":[[0.0,\"#0d0887\"],[0.1111111111111111,\"#46039f\"],[0.2222222222222222,\"#7201a8\"],[0.3333333333333333,\"#9c179e\"],[0.4444444444444444,\"#bd3786\"],[0.5555555555555556,\"#d8576b\"],[0.6666666666666666,\"#ed7953\"],[0.7777777777777778,\"#fb9f3a\"],[0.8888888888888888,\"#fdca26\"],[1.0,\"#f0f921\"]]}],\"heatmap\":[{\"type\":\"heatmap\",\"colorbar\":{\"outlinewidth\":0,\"ticks\":\"\"},\"colorscale\":[[0.0,\"#0d0887\"],[0.1111111111111111,\"#46039f\"],[0.2222222222222222,\"#7201a8\"],[0.3333333333333333,\"#9c179e\"],[0.4444444444444444,\"#bd3786\"],[0.5555555555555556,\"#d8576b\"],[0.6666666666666666,\"#ed7953\"],[0.7777777777777778,\"#fb9f3a\"],[0.8888888888888888,\"#fdca26\"],[1.0,\"#f0f921\"]]}],\"heatmapgl\":[{\"type\":\"heatmapgl\",\"colorbar\":{\"outlinewidth\":0,\"ticks\":\"\"},\"colorscale\":[[0.0,\"#0d0887\"],[0.1111111111111111,\"#46039f\"],[0.2222222222222222,\"#7201a8\"],[0.3333333333333333,\"#9c179e\"],[0.4444444444444444,\"#bd3786\"],[0.5555555555555556,\"#d8576b\"],[0.6666666666666666,\"#ed7953\"],[0.7777777777777778,\"#fb9f3a\"],[0.8888888888888888,\"#fdca26\"],[1.0,\"#f0f921\"]]}],\"contourcarpet\":[{\"type\":\"contourcarpet\",\"colorbar\":{\"outlinewidth\":0,\"ticks\":\"\"}}],\"contour\":[{\"type\":\"contour\",\"colorbar\":{\"outlinewidth\":0,\"ticks\":\"\"},\"colorscale\":[[0.0,\"#0d0887\"],[0.1111111111111111,\"#46039f\"],[0.2222222222222222,\"#7201a8\"],[0.3333333333333333,\"#9c179e\"],[0.4444444444444444,\"#bd3786\"],[0.5555555555555556,\"#d8576b\"],[0.6666666666666666,\"#ed7953\"],[0.7777777777777778,\"#fb9f3a\"],[0.8888888888888888,\"#fdca26\"],[1.0,\"#f0f921\"]]}],\"surface\":[{\"type\":\"surface\",\"colorbar\":{\"outlinewidth\":0,\"ticks\":\"\"},\"colorscale\":[[0.0,\"#0d0887\"],[0.1111111111111111,\"#46039f\"],[0.2222222222222222,\"#7201a8\"],[0.3333333333333333,\"#9c179e\"],[0.4444444444444444,\"#bd3786\"],[0.5555555555555556,\"#d8576b\"],[0.6666666666666666,\"#ed7953\"],[0.7777777777777778,\"#fb9f3a\"],[0.8888888888888888,\"#fdca26\"],[1.0,\"#f0f921\"]]}],\"mesh3d\":[{\"type\":\"mesh3d\",\"colorbar\":{\"outlinewidth\":0,\"ticks\":\"\"}}],\"scatter\":[{\"fillpattern\":{\"fillmode\":\"overlay\",\"size\":10,\"solidity\":0.2},\"type\":\"scatter\"}],\"parcoords\":[{\"type\":\"parcoords\",\"line\":{\"colorbar\":{\"outlinewidth\":0,\"ticks\":\"\"}}}],\"scatterpolargl\":[{\"type\":\"scatterpolargl\",\"marker\":{\"colorbar\":{\"outlinewidth\":0,\"ticks\":\"\"}}}],\"bar\":[{\"error_x\":{\"color\":\"#2a3f5f\"},\"error_y\":{\"color\":\"#2a3f5f\"},\"marker\":{\"line\":{\"color\":\"#E5ECF6\",\"width\":0.5},\"pattern\":{\"fillmode\":\"overlay\",\"size\":10,\"solidity\":0.2}},\"type\":\"bar\"}],\"scattergeo\":[{\"type\":\"scattergeo\",\"marker\":{\"colorbar\":{\"outlinewidth\":0,\"ticks\":\"\"}}}],\"scatterpolar\":[{\"type\":\"scatterpolar\",\"marker\":{\"colorbar\":{\"outlinewidth\":0,\"ticks\":\"\"}}}],\"histogram\":[{\"marker\":{\"pattern\":{\"fillmode\":\"overlay\",\"size\":10,\"solidity\":0.2}},\"type\":\"histogram\"}],\"scattergl\":[{\"type\":\"scattergl\",\"marker\":{\"colorbar\":{\"outlinewidth\":0,\"ticks\":\"\"}}}],\"scatter3d\":[{\"type\":\"scatter3d\",\"line\":{\"colorbar\":{\"outlinewidth\":0,\"ticks\":\"\"}},\"marker\":{\"colorbar\":{\"outlinewidth\":0,\"ticks\":\"\"}}}],\"scattermapbox\":[{\"type\":\"scattermapbox\",\"marker\":{\"colorbar\":{\"outlinewidth\":0,\"ticks\":\"\"}}}],\"scatterternary\":[{\"type\":\"scatterternary\",\"marker\":{\"colorbar\":{\"outlinewidth\":0,\"ticks\":\"\"}}}],\"scattercarpet\":[{\"type\":\"scattercarpet\",\"marker\":{\"colorbar\":{\"outlinewidth\":0,\"ticks\":\"\"}}}],\"carpet\":[{\"aaxis\":{\"endlinecolor\":\"#2a3f5f\",\"gridcolor\":\"white\",\"linecolor\":\"white\",\"minorgridcolor\":\"white\",\"startlinecolor\":\"#2a3f5f\"},\"baxis\":{\"endlinecolor\":\"#2a3f5f\",\"gridcolor\":\"white\",\"linecolor\":\"white\",\"minorgridcolor\":\"white\",\"startlinecolor\":\"#2a3f5f\"},\"type\":\"carpet\"}],\"table\":[{\"cells\":{\"fill\":{\"color\":\"#EBF0F8\"},\"line\":{\"color\":\"white\"}},\"header\":{\"fill\":{\"color\":\"#C8D4E3\"},\"line\":{\"color\":\"white\"}},\"type\":\"table\"}],\"barpolar\":[{\"marker\":{\"line\":{\"color\":\"#E5ECF6\",\"width\":0.5},\"pattern\":{\"fillmode\":\"overlay\",\"size\":10,\"solidity\":0.2}},\"type\":\"barpolar\"}],\"pie\":[{\"automargin\":true,\"type\":\"pie\"}]},\"layout\":{\"autotypenumbers\":\"strict\",\"colorway\":[\"#636efa\",\"#EF553B\",\"#00cc96\",\"#ab63fa\",\"#FFA15A\",\"#19d3f3\",\"#FF6692\",\"#B6E880\",\"#FF97FF\",\"#FECB52\"],\"font\":{\"color\":\"#2a3f5f\"},\"hovermode\":\"closest\",\"hoverlabel\":{\"align\":\"left\"},\"paper_bgcolor\":\"white\",\"plot_bgcolor\":\"#E5ECF6\",\"polar\":{\"bgcolor\":\"#E5ECF6\",\"angularaxis\":{\"gridcolor\":\"white\",\"linecolor\":\"white\",\"ticks\":\"\"},\"radialaxis\":{\"gridcolor\":\"white\",\"linecolor\":\"white\",\"ticks\":\"\"}},\"ternary\":{\"bgcolor\":\"#E5ECF6\",\"aaxis\":{\"gridcolor\":\"white\",\"linecolor\":\"white\",\"ticks\":\"\"},\"baxis\":{\"gridcolor\":\"white\",\"linecolor\":\"white\",\"ticks\":\"\"},\"caxis\":{\"gridcolor\":\"white\",\"linecolor\":\"white\",\"ticks\":\"\"}},\"coloraxis\":{\"colorbar\":{\"outlinewidth\":0,\"ticks\":\"\"}},\"colorscale\":{\"sequential\":[[0.0,\"#0d0887\"],[0.1111111111111111,\"#46039f\"],[0.2222222222222222,\"#7201a8\"],[0.3333333333333333,\"#9c179e\"],[0.4444444444444444,\"#bd3786\"],[0.5555555555555556,\"#d8576b\"],[0.6666666666666666,\"#ed7953\"],[0.7777777777777778,\"#fb9f3a\"],[0.8888888888888888,\"#fdca26\"],[1.0,\"#f0f921\"]],\"sequentialminus\":[[0.0,\"#0d0887\"],[0.1111111111111111,\"#46039f\"],[0.2222222222222222,\"#7201a8\"],[0.3333333333333333,\"#9c179e\"],[0.4444444444444444,\"#bd3786\"],[0.5555555555555556,\"#d8576b\"],[0.6666666666666666,\"#ed7953\"],[0.7777777777777778,\"#fb9f3a\"],[0.8888888888888888,\"#fdca26\"],[1.0,\"#f0f921\"]],\"diverging\":[[0,\"#8e0152\"],[0.1,\"#c51b7d\"],[0.2,\"#de77ae\"],[0.3,\"#f1b6da\"],[0.4,\"#fde0ef\"],[0.5,\"#f7f7f7\"],[0.6,\"#e6f5d0\"],[0.7,\"#b8e186\"],[0.8,\"#7fbc41\"],[0.9,\"#4d9221\"],[1,\"#276419\"]]},\"xaxis\":{\"gridcolor\":\"white\",\"linecolor\":\"white\",\"ticks\":\"\",\"title\":{\"standoff\":15},\"zerolinecolor\":\"white\",\"automargin\":true,\"zerolinewidth\":2},\"yaxis\":{\"gridcolor\":\"white\",\"linecolor\":\"white\",\"ticks\":\"\",\"title\":{\"standoff\":15},\"zerolinecolor\":\"white\",\"automargin\":true,\"zerolinewidth\":2},\"scene\":{\"xaxis\":{\"backgroundcolor\":\"#E5ECF6\",\"gridcolor\":\"white\",\"linecolor\":\"white\",\"showbackground\":true,\"ticks\":\"\",\"zerolinecolor\":\"white\",\"gridwidth\":2},\"yaxis\":{\"backgroundcolor\":\"#E5ECF6\",\"gridcolor\":\"white\",\"linecolor\":\"white\",\"showbackground\":true,\"ticks\":\"\",\"zerolinecolor\":\"white\",\"gridwidth\":2},\"zaxis\":{\"backgroundcolor\":\"#E5ECF6\",\"gridcolor\":\"white\",\"linecolor\":\"white\",\"showbackground\":true,\"ticks\":\"\",\"zerolinecolor\":\"white\",\"gridwidth\":2}},\"shapedefaults\":{\"line\":{\"color\":\"#2a3f5f\"}},\"annotationdefaults\":{\"arrowcolor\":\"#2a3f5f\",\"arrowhead\":0,\"arrowwidth\":1},\"geo\":{\"bgcolor\":\"white\",\"landcolor\":\"#E5ECF6\",\"subunitcolor\":\"white\",\"showland\":true,\"showlakes\":true,\"lakecolor\":\"white\"},\"title\":{\"x\":0.05},\"mapbox\":{\"style\":\"light\"}}},\"mapbox\":{\"domain\":{\"x\":[0.0,1.0],\"y\":[0.0,1.0]},\"center\":{\"lat\":28.646614705,\"lon\":77.202863365},\"zoom\":10,\"style\":\"carto-positron\"},\"legend\":{\"tracegroupgap\":0},\"title\":{\"text\":\"717 Bus Route real time april 2021\"}},                        {\"responsive\": true}                    ).then(function(){\n",
       "                            \n",
       "var gd = document.getElementById('62737cb1-e87f-4aae-b1ab-bdb221487d76');\n",
       "var x = new MutationObserver(function (mutations, observer) {{\n",
       "        var display = window.getComputedStyle(gd).display;\n",
       "        if (!display || display === 'none') {{\n",
       "            console.log([gd, 'removed!']);\n",
       "            Plotly.purge(gd);\n",
       "            observer.disconnect();\n",
       "        }}\n",
       "}});\n",
       "\n",
       "// Listen for the removal of the full notebook cells\n",
       "var notebookContainer = gd.closest('#notebook-container');\n",
       "if (notebookContainer) {{\n",
       "    x.observe(notebookContainer, {childList: true});\n",
       "}}\n",
       "\n",
       "// Listen for the clearing of the current output cell\n",
       "var outputEl = gd.closest('.output');\n",
       "if (outputEl) {{\n",
       "    x.observe(outputEl, {childList: true});\n",
       "}}\n",
       "\n",
       "                        })                };                });            </script>        </div>"
      ]
     },
     "metadata": {},
     "output_type": "display_data"
    }
   ],
   "source": [
    "fig = px.scatter_mapbox(real_time_717_onetrip, \n",
    "                        title = \"717 Bus Route real time april 2021\",\n",
    "                        lat=\"vehicle.position.latitude\", lon=\"vehicle.position.longitude\",\n",
    "                        color_continuous_scale=px.colors.cyclical.IceFire, size_max=15, zoom=10,\n",
    "                        mapbox_style=\"carto-positron\")\n",
    "fig.show()"
   ]
  },
  {
   "cell_type": "markdown",
   "id": "60b237f6",
   "metadata": {},
   "source": [
    "## Real time 29-07-2022"
   ]
  },
  {
   "cell_type": "code",
   "execution_count": 33,
   "id": "273f3cb4",
   "metadata": {},
   "outputs": [],
   "source": [
    "path = r'DIMTS_realtime_data' # use your path\n",
    "all_files = glob.glob(os.path.join(path , \"*.csv\"))\n",
    "all_files\n",
    "\n",
    "real_time = pd.concat((pd.read_csv(f) for f in all_files), ignore_index=True)\n",
    "real_time_717 = real_time[real_time['vehicle.trip.routeId']==717]"
   ]
  },
  {
   "cell_type": "code",
   "execution_count": null,
   "id": "b02fd4eb",
   "metadata": {},
   "outputs": [],
   "source": []
  },
  {
   "cell_type": "code",
   "execution_count": 34,
   "id": "c86f0538",
   "metadata": {},
   "outputs": [
    {
     "data": {
      "text/html": [
       "<div>\n",
       "<style scoped>\n",
       "    .dataframe tbody tr th:only-of-type {\n",
       "        vertical-align: middle;\n",
       "    }\n",
       "\n",
       "    .dataframe tbody tr th {\n",
       "        vertical-align: top;\n",
       "    }\n",
       "\n",
       "    .dataframe thead th {\n",
       "        text-align: right;\n",
       "    }\n",
       "</style>\n",
       "<table border=\"1\" class=\"dataframe\">\n",
       "  <thead>\n",
       "    <tr style=\"text-align: right;\">\n",
       "      <th></th>\n",
       "      <th>Unnamed: 0</th>\n",
       "      <th>id</th>\n",
       "      <th>vehicle.trip.tripId</th>\n",
       "      <th>vehicle.trip.startTime</th>\n",
       "      <th>vehicle.trip.startDate</th>\n",
       "      <th>vehicle.trip.routeId</th>\n",
       "      <th>vehicle.position.latitude</th>\n",
       "      <th>vehicle.position.longitude</th>\n",
       "      <th>vehicle.position.speed</th>\n",
       "      <th>vehicle.timestamp</th>\n",
       "      <th>vehicle.vehicle.id</th>\n",
       "      <th>vehicle.vehicle.label</th>\n",
       "    </tr>\n",
       "  </thead>\n",
       "  <tbody>\n",
       "    <tr>\n",
       "      <th>510388</th>\n",
       "      <td>1373</td>\n",
       "      <td>DL1PD3618</td>\n",
       "      <td>717_21_20</td>\n",
       "      <td>21:26:08</td>\n",
       "      <td>20220729</td>\n",
       "      <td>717</td>\n",
       "      <td>28.666275</td>\n",
       "      <td>77.22157</td>\n",
       "      <td>0.000000</td>\n",
       "      <td>1659110178</td>\n",
       "      <td>DL1PD3618</td>\n",
       "      <td>DL1PD3618</td>\n",
       "    </tr>\n",
       "    <tr>\n",
       "      <th>512577</th>\n",
       "      <td>1373</td>\n",
       "      <td>DL1PD3618</td>\n",
       "      <td>717_21_20</td>\n",
       "      <td>21:26:08</td>\n",
       "      <td>20220729</td>\n",
       "      <td>717</td>\n",
       "      <td>28.667088</td>\n",
       "      <td>77.22135</td>\n",
       "      <td>0.000000</td>\n",
       "      <td>1659110208</td>\n",
       "      <td>DL1PD3618</td>\n",
       "      <td>DL1PD3618</td>\n",
       "    </tr>\n",
       "    <tr>\n",
       "      <th>514765</th>\n",
       "      <td>1373</td>\n",
       "      <td>DL1PD3618</td>\n",
       "      <td>717_21_20</td>\n",
       "      <td>21:26:08</td>\n",
       "      <td>20220729</td>\n",
       "      <td>717</td>\n",
       "      <td>28.667088</td>\n",
       "      <td>77.22135</td>\n",
       "      <td>0.000000</td>\n",
       "      <td>1659110208</td>\n",
       "      <td>DL1PD3618</td>\n",
       "      <td>DL1PD3618</td>\n",
       "    </tr>\n",
       "    <tr>\n",
       "      <th>516953</th>\n",
       "      <td>1373</td>\n",
       "      <td>DL1PD3618</td>\n",
       "      <td>717_21_20</td>\n",
       "      <td>21:26:08</td>\n",
       "      <td>20220729</td>\n",
       "      <td>717</td>\n",
       "      <td>28.667088</td>\n",
       "      <td>77.22135</td>\n",
       "      <td>0.000000</td>\n",
       "      <td>1659110208</td>\n",
       "      <td>DL1PD3618</td>\n",
       "      <td>DL1PD3618</td>\n",
       "    </tr>\n",
       "    <tr>\n",
       "      <th>519141</th>\n",
       "      <td>1373</td>\n",
       "      <td>DL1PD3618</td>\n",
       "      <td>717_21_20</td>\n",
       "      <td>21:26:08</td>\n",
       "      <td>20220729</td>\n",
       "      <td>717</td>\n",
       "      <td>28.667088</td>\n",
       "      <td>77.22135</td>\n",
       "      <td>0.000000</td>\n",
       "      <td>1659110208</td>\n",
       "      <td>DL1PD3618</td>\n",
       "      <td>DL1PD3618</td>\n",
       "    </tr>\n",
       "    <tr>\n",
       "      <th>...</th>\n",
       "      <td>...</td>\n",
       "      <td>...</td>\n",
       "      <td>...</td>\n",
       "      <td>...</td>\n",
       "      <td>...</td>\n",
       "      <td>...</td>\n",
       "      <td>...</td>\n",
       "      <td>...</td>\n",
       "      <td>...</td>\n",
       "      <td>...</td>\n",
       "      <td>...</td>\n",
       "      <td>...</td>\n",
       "    </tr>\n",
       "    <tr>\n",
       "      <th>1195356</th>\n",
       "      <td>1193</td>\n",
       "      <td>DL1PD3618</td>\n",
       "      <td>717_21_20</td>\n",
       "      <td>21:26:08</td>\n",
       "      <td>20220729</td>\n",
       "      <td>717</td>\n",
       "      <td>28.704401</td>\n",
       "      <td>77.21254</td>\n",
       "      <td>0.277778</td>\n",
       "      <td>1659113688</td>\n",
       "      <td>DL1PD3618</td>\n",
       "      <td>DL1PD3618</td>\n",
       "    </tr>\n",
       "    <tr>\n",
       "      <th>1197231</th>\n",
       "      <td>1183</td>\n",
       "      <td>DL1PD3618</td>\n",
       "      <td>717_21_20</td>\n",
       "      <td>21:26:08</td>\n",
       "      <td>20220729</td>\n",
       "      <td>717</td>\n",
       "      <td>28.704401</td>\n",
       "      <td>77.21254</td>\n",
       "      <td>0.277778</td>\n",
       "      <td>1659113688</td>\n",
       "      <td>DL1PD3618</td>\n",
       "      <td>DL1PD3618</td>\n",
       "    </tr>\n",
       "    <tr>\n",
       "      <th>1199056</th>\n",
       "      <td>1139</td>\n",
       "      <td>DL1PD3618</td>\n",
       "      <td>717_21_20</td>\n",
       "      <td>21:26:08</td>\n",
       "      <td>20220729</td>\n",
       "      <td>717</td>\n",
       "      <td>28.704401</td>\n",
       "      <td>77.21254</td>\n",
       "      <td>0.277778</td>\n",
       "      <td>1659113688</td>\n",
       "      <td>DL1PD3618</td>\n",
       "      <td>DL1PD3618</td>\n",
       "    </tr>\n",
       "    <tr>\n",
       "      <th>1200876</th>\n",
       "      <td>1139</td>\n",
       "      <td>DL1PD3618</td>\n",
       "      <td>717_21_20</td>\n",
       "      <td>21:26:08</td>\n",
       "      <td>20220729</td>\n",
       "      <td>717</td>\n",
       "      <td>28.704401</td>\n",
       "      <td>77.21254</td>\n",
       "      <td>0.277778</td>\n",
       "      <td>1659113688</td>\n",
       "      <td>DL1PD3618</td>\n",
       "      <td>DL1PD3618</td>\n",
       "    </tr>\n",
       "    <tr>\n",
       "      <th>1202696</th>\n",
       "      <td>1139</td>\n",
       "      <td>DL1PD3618</td>\n",
       "      <td>717_21_20</td>\n",
       "      <td>21:26:08</td>\n",
       "      <td>20220729</td>\n",
       "      <td>717</td>\n",
       "      <td>28.704401</td>\n",
       "      <td>77.21254</td>\n",
       "      <td>0.277778</td>\n",
       "      <td>1659113688</td>\n",
       "      <td>DL1PD3618</td>\n",
       "      <td>DL1PD3618</td>\n",
       "    </tr>\n",
       "  </tbody>\n",
       "</table>\n",
       "<p>329 rows × 12 columns</p>\n",
       "</div>"
      ],
      "text/plain": [
       "         Unnamed: 0         id vehicle.trip.tripId vehicle.trip.startTime  \\\n",
       "510388         1373  DL1PD3618           717_21_20               21:26:08   \n",
       "512577         1373  DL1PD3618           717_21_20               21:26:08   \n",
       "514765         1373  DL1PD3618           717_21_20               21:26:08   \n",
       "516953         1373  DL1PD3618           717_21_20               21:26:08   \n",
       "519141         1373  DL1PD3618           717_21_20               21:26:08   \n",
       "...             ...        ...                 ...                    ...   \n",
       "1195356        1193  DL1PD3618           717_21_20               21:26:08   \n",
       "1197231        1183  DL1PD3618           717_21_20               21:26:08   \n",
       "1199056        1139  DL1PD3618           717_21_20               21:26:08   \n",
       "1200876        1139  DL1PD3618           717_21_20               21:26:08   \n",
       "1202696        1139  DL1PD3618           717_21_20               21:26:08   \n",
       "\n",
       "         vehicle.trip.startDate  vehicle.trip.routeId  \\\n",
       "510388                 20220729                   717   \n",
       "512577                 20220729                   717   \n",
       "514765                 20220729                   717   \n",
       "516953                 20220729                   717   \n",
       "519141                 20220729                   717   \n",
       "...                         ...                   ...   \n",
       "1195356                20220729                   717   \n",
       "1197231                20220729                   717   \n",
       "1199056                20220729                   717   \n",
       "1200876                20220729                   717   \n",
       "1202696                20220729                   717   \n",
       "\n",
       "         vehicle.position.latitude  vehicle.position.longitude  \\\n",
       "510388                   28.666275                    77.22157   \n",
       "512577                   28.667088                    77.22135   \n",
       "514765                   28.667088                    77.22135   \n",
       "516953                   28.667088                    77.22135   \n",
       "519141                   28.667088                    77.22135   \n",
       "...                            ...                         ...   \n",
       "1195356                  28.704401                    77.21254   \n",
       "1197231                  28.704401                    77.21254   \n",
       "1199056                  28.704401                    77.21254   \n",
       "1200876                  28.704401                    77.21254   \n",
       "1202696                  28.704401                    77.21254   \n",
       "\n",
       "         vehicle.position.speed  vehicle.timestamp vehicle.vehicle.id  \\\n",
       "510388                 0.000000         1659110178          DL1PD3618   \n",
       "512577                 0.000000         1659110208          DL1PD3618   \n",
       "514765                 0.000000         1659110208          DL1PD3618   \n",
       "516953                 0.000000         1659110208          DL1PD3618   \n",
       "519141                 0.000000         1659110208          DL1PD3618   \n",
       "...                         ...                ...                ...   \n",
       "1195356                0.277778         1659113688          DL1PD3618   \n",
       "1197231                0.277778         1659113688          DL1PD3618   \n",
       "1199056                0.277778         1659113688          DL1PD3618   \n",
       "1200876                0.277778         1659113688          DL1PD3618   \n",
       "1202696                0.277778         1659113688          DL1PD3618   \n",
       "\n",
       "        vehicle.vehicle.label  \n",
       "510388              DL1PD3618  \n",
       "512577              DL1PD3618  \n",
       "514765              DL1PD3618  \n",
       "516953              DL1PD3618  \n",
       "519141              DL1PD3618  \n",
       "...                       ...  \n",
       "1195356             DL1PD3618  \n",
       "1197231             DL1PD3618  \n",
       "1199056             DL1PD3618  \n",
       "1200876             DL1PD3618  \n",
       "1202696             DL1PD3618  \n",
       "\n",
       "[329 rows x 12 columns]"
      ]
     },
     "execution_count": 34,
     "metadata": {},
     "output_type": "execute_result"
    }
   ],
   "source": [
    "real_time_717_onetrip = real_time_717[real_time_717['vehicle.trip.startTime'] == '21:26:08']\n",
    "real_time_717_onetrip"
   ]
  },
  {
   "cell_type": "code",
   "execution_count": 36,
   "id": "c083fae3",
   "metadata": {},
   "outputs": [],
   "source": [
    "# real_time_717_onetrip.to_csv(\"Route_717_realtime_july_2022.csv\")"
   ]
  },
  {
   "cell_type": "code",
   "execution_count": 35,
   "id": "b67675a0",
   "metadata": {},
   "outputs": [
    {
     "data": {
      "application/vnd.plotly.v1+json": {
       "config": {
        "plotlyServerURL": "https://plot.ly"
       },
       "data": [
        {
         "hovertemplate": "vehicle.position.latitude=%{lat}<br>vehicle.position.longitude=%{lon}<extra></extra>",
         "lat": [
          28.666275,
          28.667088,
          28.667088,
          28.667088,
          28.667088,
          28.66713,
          28.667143,
          28.667143,
          28.667143,
          28.667341,
          28.66766,
          28.667648,
          28.667648,
          28.667648,
          28.667648,
          28.667618,
          28.667618,
          28.667618,
          28.667618,
          28.667618,
          28.667633,
          28.667633,
          28.667627,
          28.667627,
          28.667627,
          28.667606,
          28.667606,
          28.667599,
          28.667599,
          28.667599,
          28.667578,
          28.667578,
          28.667587,
          28.667587,
          28.667587,
          28.667578,
          28.66762,
          28.667616,
          28.667616,
          28.667616,
          28.667616,
          28.667583,
          28.66761,
          28.66761,
          28.66761,
          28.667603,
          28.667603,
          28.667603,
          28.667603,
          28.667603,
          28.667606,
          28.667606,
          28.667606,
          28.667604,
          28.667604,
          28.66763,
          28.66763,
          28.66763,
          28.66763,
          28.66763,
          28.667599,
          28.667599,
          28.667599,
          28.667599,
          28.667599,
          28.667574,
          28.667574,
          28.667562,
          28.667562,
          28.667562,
          28.667578,
          28.667578,
          28.667564,
          28.667564,
          28.667564,
          28.667572,
          28.667572,
          28.667572,
          28.667572,
          28.667572,
          28.667604,
          28.667608,
          28.667608,
          28.667595,
          28.667595,
          28.667587,
          28.66757,
          28.66757,
          28.66757,
          28.667559,
          28.667599,
          28.667599,
          28.667608,
          28.667608,
          28.667608,
          28.667536,
          28.66755,
          28.66755,
          28.667568,
          28.667568,
          28.667625,
          28.66764,
          28.66764,
          28.667652,
          28.667652,
          28.667643,
          28.667633,
          28.667633,
          28.667633,
          28.667633,
          28.667658,
          28.667658,
          28.667667,
          28.667667,
          28.667664,
          28.667696,
          28.667696,
          28.667696,
          28.667753,
          28.667917,
          28.668003,
          28.668003,
          28.668003,
          28.668306,
          28.668417,
          28.668417,
          28.66842,
          28.66842,
          28.668806,
          28.669228,
          28.669228,
          28.669495,
          28.669495,
          28.67118,
          28.672022,
          28.672022,
          28.672306,
          28.672306,
          28.673056,
          28.673056,
          28.673056,
          28.673399,
          28.673399,
          28.676891,
          28.676891,
          28.677841,
          28.677841,
          28.678549,
          28.679869,
          28.679869,
          28.681494,
          28.681494,
          28.681494,
          28.684357,
          28.684357,
          28.684357,
          28.686228,
          28.686228,
          28.68866,
          28.68887,
          28.68887,
          28.689276,
          28.689276,
          28.69101,
          28.69101,
          28.69101,
          28.692265,
          28.692265,
          28.693655,
          28.693724,
          28.693724,
          28.693766,
          28.693766,
          28.693848,
          28.694307,
          28.694838,
          28.6951,
          28.695356,
          28.695425,
          28.695425,
          28.695425,
          28.69543,
          28.695976,
          28.69654,
          28.69654,
          28.69654,
          28.69654,
          28.697598,
          28.698023,
          28.698023,
          28.698023,
          28.698023,
          28.698181,
          28.698181,
          28.698622,
          28.698622,
          28.698622,
          28.69991,
          28.701736,
          28.702282,
          28.702282,
          28.702282,
          28.702282,
          28.704466,
          28.704466,
          28.704466,
          28.704466,
          28.704332,
          28.70428,
          28.70428,
          28.70428,
          28.70428,
          28.70432,
          28.704332,
          28.704332,
          28.704338,
          28.704338,
          28.704344,
          28.704367,
          28.704367,
          28.704365,
          28.70436,
          28.704311,
          28.7044,
          28.7044,
          28.7044,
          28.704498,
          28.704498,
          28.704514,
          28.704514,
          28.704514,
          28.704504,
          28.70449,
          28.704477,
          28.704477,
          28.704477,
          28.704487,
          28.704515,
          28.70464,
          28.70464,
          28.70464,
          28.70463,
          28.70462,
          28.704605,
          28.704605,
          28.704603,
          28.704603,
          28.704603,
          28.704634,
          28.70465,
          28.70465,
          28.704683,
          28.704683,
          28.704382,
          28.704382,
          28.704344,
          28.704344,
          28.704401,
          28.704401,
          28.704401,
          28.704401,
          28.704401,
          28.704401,
          28.704401,
          28.704401,
          28.704401,
          28.704401,
          28.704401,
          28.704401,
          28.704401,
          28.704401,
          28.704401,
          28.704401,
          28.704401,
          28.704401,
          28.704401,
          28.704401,
          28.704401,
          28.704401,
          28.704401,
          28.704401,
          28.704401,
          28.704401,
          28.704401,
          28.704401,
          28.704401,
          28.704401,
          28.704401,
          28.704401,
          28.704401,
          28.704401,
          28.704401,
          28.704401,
          28.704401,
          28.704401,
          28.704401,
          28.704401,
          28.704401,
          28.704401,
          28.704401,
          28.704401,
          28.704401,
          28.704401,
          28.704401,
          28.704401,
          28.704401,
          28.704401,
          28.704401,
          28.704401,
          28.704401,
          28.704401,
          28.704401,
          28.704401,
          28.704401,
          28.704401,
          28.704401,
          28.704401,
          28.704401,
          28.704401,
          28.704401,
          28.704401,
          28.704401,
          28.704401,
          28.704401,
          28.704401,
          28.704401,
          28.704401,
          28.704401,
          28.704401
         ],
         "legendgroup": "",
         "lon": [
          77.22157,
          77.22135,
          77.22135,
          77.22135,
          77.22135,
          77.22135,
          77.221344,
          77.221344,
          77.221344,
          77.2214,
          77.222115,
          77.22213,
          77.22213,
          77.22213,
          77.22213,
          77.22218,
          77.22218,
          77.22218,
          77.22218,
          77.22218,
          77.22221,
          77.22221,
          77.22221,
          77.22221,
          77.22221,
          77.22222,
          77.22222,
          77.22221,
          77.22221,
          77.22221,
          77.22221,
          77.22221,
          77.2222,
          77.2222,
          77.2222,
          77.22217,
          77.2222,
          77.2222,
          77.2222,
          77.2222,
          77.2222,
          77.222176,
          77.22219,
          77.22219,
          77.22219,
          77.22221,
          77.22221,
          77.22221,
          77.22221,
          77.22221,
          77.222206,
          77.222206,
          77.222206,
          77.22221,
          77.22221,
          77.222176,
          77.222176,
          77.222176,
          77.222176,
          77.222176,
          77.22226,
          77.22226,
          77.22226,
          77.22226,
          77.22226,
          77.22228,
          77.22228,
          77.222275,
          77.222275,
          77.222275,
          77.22228,
          77.22228,
          77.2223,
          77.2223,
          77.2223,
          77.22228,
          77.22228,
          77.22228,
          77.22228,
          77.22228,
          77.22225,
          77.22224,
          77.22224,
          77.22223,
          77.22223,
          77.22226,
          77.22225,
          77.22225,
          77.22225,
          77.222244,
          77.2223,
          77.2223,
          77.222336,
          77.222336,
          77.222336,
          77.22231,
          77.22233,
          77.22233,
          77.22232,
          77.22232,
          77.222305,
          77.22229,
          77.22229,
          77.22226,
          77.22226,
          77.222206,
          77.22219,
          77.22219,
          77.22219,
          77.22219,
          77.22224,
          77.22224,
          77.22224,
          77.22224,
          77.22224,
          77.22234,
          77.22234,
          77.22234,
          77.22266,
          77.223274,
          77.22342,
          77.22342,
          77.22342,
          77.2249,
          77.225136,
          77.225136,
          77.22516,
          77.22516,
          77.2267,
          77.22685,
          77.22685,
          77.226814,
          77.226814,
          77.22628,
          77.225975,
          77.225975,
          77.22588,
          77.22588,
          77.22575,
          77.22575,
          77.22575,
          77.22574,
          77.22574,
          77.22488,
          77.22488,
          77.22462,
          77.22462,
          77.22438,
          77.22372,
          77.22372,
          77.22261,
          77.22261,
          77.22261,
          77.222046,
          77.222046,
          77.222046,
          77.22174,
          77.22174,
          77.22136,
          77.22131,
          77.22131,
          77.22127,
          77.22127,
          77.221115,
          77.221115,
          77.221115,
          77.220695,
          77.220695,
          77.218315,
          77.218155,
          77.218155,
          77.21813,
          77.21813,
          77.217995,
          77.21668,
          77.21497,
          77.214226,
          77.213684,
          77.21362,
          77.21362,
          77.21362,
          77.21357,
          77.21219,
          77.21075,
          77.21075,
          77.21075,
          77.21075,
          77.207954,
          77.20749,
          77.20749,
          77.20749,
          77.20749,
          77.20753,
          77.20753,
          77.20773,
          77.20773,
          77.20773,
          77.208336,
          77.20919,
          77.20952,
          77.20952,
          77.20952,
          77.20952,
          77.21128,
          77.21128,
          77.21128,
          77.21128,
          77.211624,
          77.21218,
          77.21218,
          77.21218,
          77.21218,
          77.21229,
          77.212296,
          77.212296,
          77.212296,
          77.212296,
          77.212296,
          77.21234,
          77.21234,
          77.21234,
          77.21233,
          77.21231,
          77.211914,
          77.211914,
          77.211914,
          77.21198,
          77.21198,
          77.21198,
          77.21198,
          77.21198,
          77.21196,
          77.211975,
          77.211945,
          77.211945,
          77.211945,
          77.21195,
          77.21194,
          77.21199,
          77.21199,
          77.21199,
          77.21203,
          77.21205,
          77.21205,
          77.21205,
          77.212036,
          77.212036,
          77.212036,
          77.21202,
          77.21199,
          77.21198,
          77.21204,
          77.21204,
          77.21242,
          77.21242,
          77.21244,
          77.21244,
          77.21254,
          77.21254,
          77.21254,
          77.21254,
          77.21254,
          77.21254,
          77.21254,
          77.21254,
          77.21254,
          77.21254,
          77.21254,
          77.21254,
          77.21254,
          77.21254,
          77.21254,
          77.21254,
          77.21254,
          77.21254,
          77.21254,
          77.21254,
          77.21254,
          77.21254,
          77.21254,
          77.21254,
          77.21254,
          77.21254,
          77.21254,
          77.21254,
          77.21254,
          77.21254,
          77.21254,
          77.21254,
          77.21254,
          77.21254,
          77.21254,
          77.21254,
          77.21254,
          77.21254,
          77.21254,
          77.21254,
          77.21254,
          77.21254,
          77.21254,
          77.21254,
          77.21254,
          77.21254,
          77.21254,
          77.21254,
          77.21254,
          77.21254,
          77.21254,
          77.21254,
          77.21254,
          77.21254,
          77.21254,
          77.21254,
          77.21254,
          77.21254,
          77.21254,
          77.21254,
          77.21254,
          77.21254,
          77.21254,
          77.21254,
          77.21254,
          77.21254,
          77.21254,
          77.21254,
          77.21254,
          77.21254,
          77.21254,
          77.21254
         ],
         "marker": {
          "color": "#636efa"
         },
         "mode": "markers",
         "name": "",
         "showlegend": false,
         "subplot": "mapbox",
         "type": "scattermapbox"
        }
       ],
       "layout": {
        "legend": {
         "tracegroupgap": 0
        },
        "mapbox": {
         "center": {
          "lat": 28.68633088449848,
          "lon": 77.2175441337386
         },
         "domain": {
          "x": [
           0,
           1
          ],
          "y": [
           0,
           1
          ]
         },
         "style": "carto-positron",
         "zoom": 12
        },
        "template": {
         "data": {
          "bar": [
           {
            "error_x": {
             "color": "#2a3f5f"
            },
            "error_y": {
             "color": "#2a3f5f"
            },
            "marker": {
             "line": {
              "color": "#E5ECF6",
              "width": 0.5
             },
             "pattern": {
              "fillmode": "overlay",
              "size": 10,
              "solidity": 0.2
             }
            },
            "type": "bar"
           }
          ],
          "barpolar": [
           {
            "marker": {
             "line": {
              "color": "#E5ECF6",
              "width": 0.5
             },
             "pattern": {
              "fillmode": "overlay",
              "size": 10,
              "solidity": 0.2
             }
            },
            "type": "barpolar"
           }
          ],
          "carpet": [
           {
            "aaxis": {
             "endlinecolor": "#2a3f5f",
             "gridcolor": "white",
             "linecolor": "white",
             "minorgridcolor": "white",
             "startlinecolor": "#2a3f5f"
            },
            "baxis": {
             "endlinecolor": "#2a3f5f",
             "gridcolor": "white",
             "linecolor": "white",
             "minorgridcolor": "white",
             "startlinecolor": "#2a3f5f"
            },
            "type": "carpet"
           }
          ],
          "choropleth": [
           {
            "colorbar": {
             "outlinewidth": 0,
             "ticks": ""
            },
            "type": "choropleth"
           }
          ],
          "contour": [
           {
            "colorbar": {
             "outlinewidth": 0,
             "ticks": ""
            },
            "colorscale": [
             [
              0,
              "#0d0887"
             ],
             [
              0.1111111111111111,
              "#46039f"
             ],
             [
              0.2222222222222222,
              "#7201a8"
             ],
             [
              0.3333333333333333,
              "#9c179e"
             ],
             [
              0.4444444444444444,
              "#bd3786"
             ],
             [
              0.5555555555555556,
              "#d8576b"
             ],
             [
              0.6666666666666666,
              "#ed7953"
             ],
             [
              0.7777777777777778,
              "#fb9f3a"
             ],
             [
              0.8888888888888888,
              "#fdca26"
             ],
             [
              1,
              "#f0f921"
             ]
            ],
            "type": "contour"
           }
          ],
          "contourcarpet": [
           {
            "colorbar": {
             "outlinewidth": 0,
             "ticks": ""
            },
            "type": "contourcarpet"
           }
          ],
          "heatmap": [
           {
            "colorbar": {
             "outlinewidth": 0,
             "ticks": ""
            },
            "colorscale": [
             [
              0,
              "#0d0887"
             ],
             [
              0.1111111111111111,
              "#46039f"
             ],
             [
              0.2222222222222222,
              "#7201a8"
             ],
             [
              0.3333333333333333,
              "#9c179e"
             ],
             [
              0.4444444444444444,
              "#bd3786"
             ],
             [
              0.5555555555555556,
              "#d8576b"
             ],
             [
              0.6666666666666666,
              "#ed7953"
             ],
             [
              0.7777777777777778,
              "#fb9f3a"
             ],
             [
              0.8888888888888888,
              "#fdca26"
             ],
             [
              1,
              "#f0f921"
             ]
            ],
            "type": "heatmap"
           }
          ],
          "heatmapgl": [
           {
            "colorbar": {
             "outlinewidth": 0,
             "ticks": ""
            },
            "colorscale": [
             [
              0,
              "#0d0887"
             ],
             [
              0.1111111111111111,
              "#46039f"
             ],
             [
              0.2222222222222222,
              "#7201a8"
             ],
             [
              0.3333333333333333,
              "#9c179e"
             ],
             [
              0.4444444444444444,
              "#bd3786"
             ],
             [
              0.5555555555555556,
              "#d8576b"
             ],
             [
              0.6666666666666666,
              "#ed7953"
             ],
             [
              0.7777777777777778,
              "#fb9f3a"
             ],
             [
              0.8888888888888888,
              "#fdca26"
             ],
             [
              1,
              "#f0f921"
             ]
            ],
            "type": "heatmapgl"
           }
          ],
          "histogram": [
           {
            "marker": {
             "pattern": {
              "fillmode": "overlay",
              "size": 10,
              "solidity": 0.2
             }
            },
            "type": "histogram"
           }
          ],
          "histogram2d": [
           {
            "colorbar": {
             "outlinewidth": 0,
             "ticks": ""
            },
            "colorscale": [
             [
              0,
              "#0d0887"
             ],
             [
              0.1111111111111111,
              "#46039f"
             ],
             [
              0.2222222222222222,
              "#7201a8"
             ],
             [
              0.3333333333333333,
              "#9c179e"
             ],
             [
              0.4444444444444444,
              "#bd3786"
             ],
             [
              0.5555555555555556,
              "#d8576b"
             ],
             [
              0.6666666666666666,
              "#ed7953"
             ],
             [
              0.7777777777777778,
              "#fb9f3a"
             ],
             [
              0.8888888888888888,
              "#fdca26"
             ],
             [
              1,
              "#f0f921"
             ]
            ],
            "type": "histogram2d"
           }
          ],
          "histogram2dcontour": [
           {
            "colorbar": {
             "outlinewidth": 0,
             "ticks": ""
            },
            "colorscale": [
             [
              0,
              "#0d0887"
             ],
             [
              0.1111111111111111,
              "#46039f"
             ],
             [
              0.2222222222222222,
              "#7201a8"
             ],
             [
              0.3333333333333333,
              "#9c179e"
             ],
             [
              0.4444444444444444,
              "#bd3786"
             ],
             [
              0.5555555555555556,
              "#d8576b"
             ],
             [
              0.6666666666666666,
              "#ed7953"
             ],
             [
              0.7777777777777778,
              "#fb9f3a"
             ],
             [
              0.8888888888888888,
              "#fdca26"
             ],
             [
              1,
              "#f0f921"
             ]
            ],
            "type": "histogram2dcontour"
           }
          ],
          "mesh3d": [
           {
            "colorbar": {
             "outlinewidth": 0,
             "ticks": ""
            },
            "type": "mesh3d"
           }
          ],
          "parcoords": [
           {
            "line": {
             "colorbar": {
              "outlinewidth": 0,
              "ticks": ""
             }
            },
            "type": "parcoords"
           }
          ],
          "pie": [
           {
            "automargin": true,
            "type": "pie"
           }
          ],
          "scatter": [
           {
            "fillpattern": {
             "fillmode": "overlay",
             "size": 10,
             "solidity": 0.2
            },
            "type": "scatter"
           }
          ],
          "scatter3d": [
           {
            "line": {
             "colorbar": {
              "outlinewidth": 0,
              "ticks": ""
             }
            },
            "marker": {
             "colorbar": {
              "outlinewidth": 0,
              "ticks": ""
             }
            },
            "type": "scatter3d"
           }
          ],
          "scattercarpet": [
           {
            "marker": {
             "colorbar": {
              "outlinewidth": 0,
              "ticks": ""
             }
            },
            "type": "scattercarpet"
           }
          ],
          "scattergeo": [
           {
            "marker": {
             "colorbar": {
              "outlinewidth": 0,
              "ticks": ""
             }
            },
            "type": "scattergeo"
           }
          ],
          "scattergl": [
           {
            "marker": {
             "colorbar": {
              "outlinewidth": 0,
              "ticks": ""
             }
            },
            "type": "scattergl"
           }
          ],
          "scattermapbox": [
           {
            "marker": {
             "colorbar": {
              "outlinewidth": 0,
              "ticks": ""
             }
            },
            "type": "scattermapbox"
           }
          ],
          "scatterpolar": [
           {
            "marker": {
             "colorbar": {
              "outlinewidth": 0,
              "ticks": ""
             }
            },
            "type": "scatterpolar"
           }
          ],
          "scatterpolargl": [
           {
            "marker": {
             "colorbar": {
              "outlinewidth": 0,
              "ticks": ""
             }
            },
            "type": "scatterpolargl"
           }
          ],
          "scatterternary": [
           {
            "marker": {
             "colorbar": {
              "outlinewidth": 0,
              "ticks": ""
             }
            },
            "type": "scatterternary"
           }
          ],
          "surface": [
           {
            "colorbar": {
             "outlinewidth": 0,
             "ticks": ""
            },
            "colorscale": [
             [
              0,
              "#0d0887"
             ],
             [
              0.1111111111111111,
              "#46039f"
             ],
             [
              0.2222222222222222,
              "#7201a8"
             ],
             [
              0.3333333333333333,
              "#9c179e"
             ],
             [
              0.4444444444444444,
              "#bd3786"
             ],
             [
              0.5555555555555556,
              "#d8576b"
             ],
             [
              0.6666666666666666,
              "#ed7953"
             ],
             [
              0.7777777777777778,
              "#fb9f3a"
             ],
             [
              0.8888888888888888,
              "#fdca26"
             ],
             [
              1,
              "#f0f921"
             ]
            ],
            "type": "surface"
           }
          ],
          "table": [
           {
            "cells": {
             "fill": {
              "color": "#EBF0F8"
             },
             "line": {
              "color": "white"
             }
            },
            "header": {
             "fill": {
              "color": "#C8D4E3"
             },
             "line": {
              "color": "white"
             }
            },
            "type": "table"
           }
          ]
         },
         "layout": {
          "annotationdefaults": {
           "arrowcolor": "#2a3f5f",
           "arrowhead": 0,
           "arrowwidth": 1
          },
          "autotypenumbers": "strict",
          "coloraxis": {
           "colorbar": {
            "outlinewidth": 0,
            "ticks": ""
           }
          },
          "colorscale": {
           "diverging": [
            [
             0,
             "#8e0152"
            ],
            [
             0.1,
             "#c51b7d"
            ],
            [
             0.2,
             "#de77ae"
            ],
            [
             0.3,
             "#f1b6da"
            ],
            [
             0.4,
             "#fde0ef"
            ],
            [
             0.5,
             "#f7f7f7"
            ],
            [
             0.6,
             "#e6f5d0"
            ],
            [
             0.7,
             "#b8e186"
            ],
            [
             0.8,
             "#7fbc41"
            ],
            [
             0.9,
             "#4d9221"
            ],
            [
             1,
             "#276419"
            ]
           ],
           "sequential": [
            [
             0,
             "#0d0887"
            ],
            [
             0.1111111111111111,
             "#46039f"
            ],
            [
             0.2222222222222222,
             "#7201a8"
            ],
            [
             0.3333333333333333,
             "#9c179e"
            ],
            [
             0.4444444444444444,
             "#bd3786"
            ],
            [
             0.5555555555555556,
             "#d8576b"
            ],
            [
             0.6666666666666666,
             "#ed7953"
            ],
            [
             0.7777777777777778,
             "#fb9f3a"
            ],
            [
             0.8888888888888888,
             "#fdca26"
            ],
            [
             1,
             "#f0f921"
            ]
           ],
           "sequentialminus": [
            [
             0,
             "#0d0887"
            ],
            [
             0.1111111111111111,
             "#46039f"
            ],
            [
             0.2222222222222222,
             "#7201a8"
            ],
            [
             0.3333333333333333,
             "#9c179e"
            ],
            [
             0.4444444444444444,
             "#bd3786"
            ],
            [
             0.5555555555555556,
             "#d8576b"
            ],
            [
             0.6666666666666666,
             "#ed7953"
            ],
            [
             0.7777777777777778,
             "#fb9f3a"
            ],
            [
             0.8888888888888888,
             "#fdca26"
            ],
            [
             1,
             "#f0f921"
            ]
           ]
          },
          "colorway": [
           "#636efa",
           "#EF553B",
           "#00cc96",
           "#ab63fa",
           "#FFA15A",
           "#19d3f3",
           "#FF6692",
           "#B6E880",
           "#FF97FF",
           "#FECB52"
          ],
          "font": {
           "color": "#2a3f5f"
          },
          "geo": {
           "bgcolor": "white",
           "lakecolor": "white",
           "landcolor": "#E5ECF6",
           "showlakes": true,
           "showland": true,
           "subunitcolor": "white"
          },
          "hoverlabel": {
           "align": "left"
          },
          "hovermode": "closest",
          "mapbox": {
           "style": "light"
          },
          "paper_bgcolor": "white",
          "plot_bgcolor": "#E5ECF6",
          "polar": {
           "angularaxis": {
            "gridcolor": "white",
            "linecolor": "white",
            "ticks": ""
           },
           "bgcolor": "#E5ECF6",
           "radialaxis": {
            "gridcolor": "white",
            "linecolor": "white",
            "ticks": ""
           }
          },
          "scene": {
           "xaxis": {
            "backgroundcolor": "#E5ECF6",
            "gridcolor": "white",
            "gridwidth": 2,
            "linecolor": "white",
            "showbackground": true,
            "ticks": "",
            "zerolinecolor": "white"
           },
           "yaxis": {
            "backgroundcolor": "#E5ECF6",
            "gridcolor": "white",
            "gridwidth": 2,
            "linecolor": "white",
            "showbackground": true,
            "ticks": "",
            "zerolinecolor": "white"
           },
           "zaxis": {
            "backgroundcolor": "#E5ECF6",
            "gridcolor": "white",
            "gridwidth": 2,
            "linecolor": "white",
            "showbackground": true,
            "ticks": "",
            "zerolinecolor": "white"
           }
          },
          "shapedefaults": {
           "line": {
            "color": "#2a3f5f"
           }
          },
          "ternary": {
           "aaxis": {
            "gridcolor": "white",
            "linecolor": "white",
            "ticks": ""
           },
           "baxis": {
            "gridcolor": "white",
            "linecolor": "white",
            "ticks": ""
           },
           "bgcolor": "#E5ECF6",
           "caxis": {
            "gridcolor": "white",
            "linecolor": "white",
            "ticks": ""
           }
          },
          "title": {
           "x": 0.05
          },
          "xaxis": {
           "automargin": true,
           "gridcolor": "white",
           "linecolor": "white",
           "ticks": "",
           "title": {
            "standoff": 15
           },
           "zerolinecolor": "white",
           "zerolinewidth": 2
          },
          "yaxis": {
           "automargin": true,
           "gridcolor": "white",
           "linecolor": "white",
           "ticks": "",
           "title": {
            "standoff": 15
           },
           "zerolinecolor": "white",
           "zerolinewidth": 2
          }
         }
        },
        "title": {
         "text": "717 Bus Route real time 29-07-2022"
        }
       }
      },
      "text/html": [
       "<div>                            <div id=\"3131678b-8aa6-4ff8-b4d3-78460b04fe7c\" class=\"plotly-graph-div\" style=\"height:525px; width:100%;\"></div>            <script type=\"text/javascript\">                require([\"plotly\"], function(Plotly) {                    window.PLOTLYENV=window.PLOTLYENV || {};                                    if (document.getElementById(\"3131678b-8aa6-4ff8-b4d3-78460b04fe7c\")) {                    Plotly.newPlot(                        \"3131678b-8aa6-4ff8-b4d3-78460b04fe7c\",                        [{\"hovertemplate\":\"vehicle.position.latitude=%{lat}<br>vehicle.position.longitude=%{lon}<extra></extra>\",\"lat\":[28.666275,28.667088,28.667088,28.667088,28.667088,28.66713,28.667143,28.667143,28.667143,28.667341,28.66766,28.667648,28.667648,28.667648,28.667648,28.667618,28.667618,28.667618,28.667618,28.667618,28.667633,28.667633,28.667627,28.667627,28.667627,28.667606,28.667606,28.667599,28.667599,28.667599,28.667578,28.667578,28.667587,28.667587,28.667587,28.667578,28.66762,28.667616,28.667616,28.667616,28.667616,28.667583,28.66761,28.66761,28.66761,28.667603,28.667603,28.667603,28.667603,28.667603,28.667606,28.667606,28.667606,28.667604,28.667604,28.66763,28.66763,28.66763,28.66763,28.66763,28.667599,28.667599,28.667599,28.667599,28.667599,28.667574,28.667574,28.667562,28.667562,28.667562,28.667578,28.667578,28.667564,28.667564,28.667564,28.667572,28.667572,28.667572,28.667572,28.667572,28.667604,28.667608,28.667608,28.667595,28.667595,28.667587,28.66757,28.66757,28.66757,28.667559,28.667599,28.667599,28.667608,28.667608,28.667608,28.667536,28.66755,28.66755,28.667568,28.667568,28.667625,28.66764,28.66764,28.667652,28.667652,28.667643,28.667633,28.667633,28.667633,28.667633,28.667658,28.667658,28.667667,28.667667,28.667664,28.667696,28.667696,28.667696,28.667753,28.667917,28.668003,28.668003,28.668003,28.668306,28.668417,28.668417,28.66842,28.66842,28.668806,28.669228,28.669228,28.669495,28.669495,28.67118,28.672022,28.672022,28.672306,28.672306,28.673056,28.673056,28.673056,28.673399,28.673399,28.676891,28.676891,28.677841,28.677841,28.678549,28.679869,28.679869,28.681494,28.681494,28.681494,28.684357,28.684357,28.684357,28.686228,28.686228,28.68866,28.68887,28.68887,28.689276,28.689276,28.69101,28.69101,28.69101,28.692265,28.692265,28.693655,28.693724,28.693724,28.693766,28.693766,28.693848,28.694307,28.694838,28.6951,28.695356,28.695425,28.695425,28.695425,28.69543,28.695976,28.69654,28.69654,28.69654,28.69654,28.697598,28.698023,28.698023,28.698023,28.698023,28.698181,28.698181,28.698622,28.698622,28.698622,28.69991,28.701736,28.702282,28.702282,28.702282,28.702282,28.704466,28.704466,28.704466,28.704466,28.704332,28.70428,28.70428,28.70428,28.70428,28.70432,28.704332,28.704332,28.704338,28.704338,28.704344,28.704367,28.704367,28.704365,28.70436,28.704311,28.7044,28.7044,28.7044,28.704498,28.704498,28.704514,28.704514,28.704514,28.704504,28.70449,28.704477,28.704477,28.704477,28.704487,28.704515,28.70464,28.70464,28.70464,28.70463,28.70462,28.704605,28.704605,28.704603,28.704603,28.704603,28.704634,28.70465,28.70465,28.704683,28.704683,28.704382,28.704382,28.704344,28.704344,28.704401,28.704401,28.704401,28.704401,28.704401,28.704401,28.704401,28.704401,28.704401,28.704401,28.704401,28.704401,28.704401,28.704401,28.704401,28.704401,28.704401,28.704401,28.704401,28.704401,28.704401,28.704401,28.704401,28.704401,28.704401,28.704401,28.704401,28.704401,28.704401,28.704401,28.704401,28.704401,28.704401,28.704401,28.704401,28.704401,28.704401,28.704401,28.704401,28.704401,28.704401,28.704401,28.704401,28.704401,28.704401,28.704401,28.704401,28.704401,28.704401,28.704401,28.704401,28.704401,28.704401,28.704401,28.704401,28.704401,28.704401,28.704401,28.704401,28.704401,28.704401,28.704401,28.704401,28.704401,28.704401,28.704401,28.704401,28.704401,28.704401,28.704401,28.704401,28.704401],\"legendgroup\":\"\",\"lon\":[77.22157,77.22135,77.22135,77.22135,77.22135,77.22135,77.221344,77.221344,77.221344,77.2214,77.222115,77.22213,77.22213,77.22213,77.22213,77.22218,77.22218,77.22218,77.22218,77.22218,77.22221,77.22221,77.22221,77.22221,77.22221,77.22222,77.22222,77.22221,77.22221,77.22221,77.22221,77.22221,77.2222,77.2222,77.2222,77.22217,77.2222,77.2222,77.2222,77.2222,77.2222,77.222176,77.22219,77.22219,77.22219,77.22221,77.22221,77.22221,77.22221,77.22221,77.222206,77.222206,77.222206,77.22221,77.22221,77.222176,77.222176,77.222176,77.222176,77.222176,77.22226,77.22226,77.22226,77.22226,77.22226,77.22228,77.22228,77.222275,77.222275,77.222275,77.22228,77.22228,77.2223,77.2223,77.2223,77.22228,77.22228,77.22228,77.22228,77.22228,77.22225,77.22224,77.22224,77.22223,77.22223,77.22226,77.22225,77.22225,77.22225,77.222244,77.2223,77.2223,77.222336,77.222336,77.222336,77.22231,77.22233,77.22233,77.22232,77.22232,77.222305,77.22229,77.22229,77.22226,77.22226,77.222206,77.22219,77.22219,77.22219,77.22219,77.22224,77.22224,77.22224,77.22224,77.22224,77.22234,77.22234,77.22234,77.22266,77.223274,77.22342,77.22342,77.22342,77.2249,77.225136,77.225136,77.22516,77.22516,77.2267,77.22685,77.22685,77.226814,77.226814,77.22628,77.225975,77.225975,77.22588,77.22588,77.22575,77.22575,77.22575,77.22574,77.22574,77.22488,77.22488,77.22462,77.22462,77.22438,77.22372,77.22372,77.22261,77.22261,77.22261,77.222046,77.222046,77.222046,77.22174,77.22174,77.22136,77.22131,77.22131,77.22127,77.22127,77.221115,77.221115,77.221115,77.220695,77.220695,77.218315,77.218155,77.218155,77.21813,77.21813,77.217995,77.21668,77.21497,77.214226,77.213684,77.21362,77.21362,77.21362,77.21357,77.21219,77.21075,77.21075,77.21075,77.21075,77.207954,77.20749,77.20749,77.20749,77.20749,77.20753,77.20753,77.20773,77.20773,77.20773,77.208336,77.20919,77.20952,77.20952,77.20952,77.20952,77.21128,77.21128,77.21128,77.21128,77.211624,77.21218,77.21218,77.21218,77.21218,77.21229,77.212296,77.212296,77.212296,77.212296,77.212296,77.21234,77.21234,77.21234,77.21233,77.21231,77.211914,77.211914,77.211914,77.21198,77.21198,77.21198,77.21198,77.21198,77.21196,77.211975,77.211945,77.211945,77.211945,77.21195,77.21194,77.21199,77.21199,77.21199,77.21203,77.21205,77.21205,77.21205,77.212036,77.212036,77.212036,77.21202,77.21199,77.21198,77.21204,77.21204,77.21242,77.21242,77.21244,77.21244,77.21254,77.21254,77.21254,77.21254,77.21254,77.21254,77.21254,77.21254,77.21254,77.21254,77.21254,77.21254,77.21254,77.21254,77.21254,77.21254,77.21254,77.21254,77.21254,77.21254,77.21254,77.21254,77.21254,77.21254,77.21254,77.21254,77.21254,77.21254,77.21254,77.21254,77.21254,77.21254,77.21254,77.21254,77.21254,77.21254,77.21254,77.21254,77.21254,77.21254,77.21254,77.21254,77.21254,77.21254,77.21254,77.21254,77.21254,77.21254,77.21254,77.21254,77.21254,77.21254,77.21254,77.21254,77.21254,77.21254,77.21254,77.21254,77.21254,77.21254,77.21254,77.21254,77.21254,77.21254,77.21254,77.21254,77.21254,77.21254,77.21254,77.21254,77.21254,77.21254],\"marker\":{\"color\":\"#636efa\"},\"mode\":\"markers\",\"name\":\"\",\"showlegend\":false,\"subplot\":\"mapbox\",\"type\":\"scattermapbox\"}],                        {\"template\":{\"data\":{\"histogram2dcontour\":[{\"type\":\"histogram2dcontour\",\"colorbar\":{\"outlinewidth\":0,\"ticks\":\"\"},\"colorscale\":[[0.0,\"#0d0887\"],[0.1111111111111111,\"#46039f\"],[0.2222222222222222,\"#7201a8\"],[0.3333333333333333,\"#9c179e\"],[0.4444444444444444,\"#bd3786\"],[0.5555555555555556,\"#d8576b\"],[0.6666666666666666,\"#ed7953\"],[0.7777777777777778,\"#fb9f3a\"],[0.8888888888888888,\"#fdca26\"],[1.0,\"#f0f921\"]]}],\"choropleth\":[{\"type\":\"choropleth\",\"colorbar\":{\"outlinewidth\":0,\"ticks\":\"\"}}],\"histogram2d\":[{\"type\":\"histogram2d\",\"colorbar\":{\"outlinewidth\":0,\"ticks\":\"\"},\"colorscale\":[[0.0,\"#0d0887\"],[0.1111111111111111,\"#46039f\"],[0.2222222222222222,\"#7201a8\"],[0.3333333333333333,\"#9c179e\"],[0.4444444444444444,\"#bd3786\"],[0.5555555555555556,\"#d8576b\"],[0.6666666666666666,\"#ed7953\"],[0.7777777777777778,\"#fb9f3a\"],[0.8888888888888888,\"#fdca26\"],[1.0,\"#f0f921\"]]}],\"heatmap\":[{\"type\":\"heatmap\",\"colorbar\":{\"outlinewidth\":0,\"ticks\":\"\"},\"colorscale\":[[0.0,\"#0d0887\"],[0.1111111111111111,\"#46039f\"],[0.2222222222222222,\"#7201a8\"],[0.3333333333333333,\"#9c179e\"],[0.4444444444444444,\"#bd3786\"],[0.5555555555555556,\"#d8576b\"],[0.6666666666666666,\"#ed7953\"],[0.7777777777777778,\"#fb9f3a\"],[0.8888888888888888,\"#fdca26\"],[1.0,\"#f0f921\"]]}],\"heatmapgl\":[{\"type\":\"heatmapgl\",\"colorbar\":{\"outlinewidth\":0,\"ticks\":\"\"},\"colorscale\":[[0.0,\"#0d0887\"],[0.1111111111111111,\"#46039f\"],[0.2222222222222222,\"#7201a8\"],[0.3333333333333333,\"#9c179e\"],[0.4444444444444444,\"#bd3786\"],[0.5555555555555556,\"#d8576b\"],[0.6666666666666666,\"#ed7953\"],[0.7777777777777778,\"#fb9f3a\"],[0.8888888888888888,\"#fdca26\"],[1.0,\"#f0f921\"]]}],\"contourcarpet\":[{\"type\":\"contourcarpet\",\"colorbar\":{\"outlinewidth\":0,\"ticks\":\"\"}}],\"contour\":[{\"type\":\"contour\",\"colorbar\":{\"outlinewidth\":0,\"ticks\":\"\"},\"colorscale\":[[0.0,\"#0d0887\"],[0.1111111111111111,\"#46039f\"],[0.2222222222222222,\"#7201a8\"],[0.3333333333333333,\"#9c179e\"],[0.4444444444444444,\"#bd3786\"],[0.5555555555555556,\"#d8576b\"],[0.6666666666666666,\"#ed7953\"],[0.7777777777777778,\"#fb9f3a\"],[0.8888888888888888,\"#fdca26\"],[1.0,\"#f0f921\"]]}],\"surface\":[{\"type\":\"surface\",\"colorbar\":{\"outlinewidth\":0,\"ticks\":\"\"},\"colorscale\":[[0.0,\"#0d0887\"],[0.1111111111111111,\"#46039f\"],[0.2222222222222222,\"#7201a8\"],[0.3333333333333333,\"#9c179e\"],[0.4444444444444444,\"#bd3786\"],[0.5555555555555556,\"#d8576b\"],[0.6666666666666666,\"#ed7953\"],[0.7777777777777778,\"#fb9f3a\"],[0.8888888888888888,\"#fdca26\"],[1.0,\"#f0f921\"]]}],\"mesh3d\":[{\"type\":\"mesh3d\",\"colorbar\":{\"outlinewidth\":0,\"ticks\":\"\"}}],\"scatter\":[{\"fillpattern\":{\"fillmode\":\"overlay\",\"size\":10,\"solidity\":0.2},\"type\":\"scatter\"}],\"parcoords\":[{\"type\":\"parcoords\",\"line\":{\"colorbar\":{\"outlinewidth\":0,\"ticks\":\"\"}}}],\"scatterpolargl\":[{\"type\":\"scatterpolargl\",\"marker\":{\"colorbar\":{\"outlinewidth\":0,\"ticks\":\"\"}}}],\"bar\":[{\"error_x\":{\"color\":\"#2a3f5f\"},\"error_y\":{\"color\":\"#2a3f5f\"},\"marker\":{\"line\":{\"color\":\"#E5ECF6\",\"width\":0.5},\"pattern\":{\"fillmode\":\"overlay\",\"size\":10,\"solidity\":0.2}},\"type\":\"bar\"}],\"scattergeo\":[{\"type\":\"scattergeo\",\"marker\":{\"colorbar\":{\"outlinewidth\":0,\"ticks\":\"\"}}}],\"scatterpolar\":[{\"type\":\"scatterpolar\",\"marker\":{\"colorbar\":{\"outlinewidth\":0,\"ticks\":\"\"}}}],\"histogram\":[{\"marker\":{\"pattern\":{\"fillmode\":\"overlay\",\"size\":10,\"solidity\":0.2}},\"type\":\"histogram\"}],\"scattergl\":[{\"type\":\"scattergl\",\"marker\":{\"colorbar\":{\"outlinewidth\":0,\"ticks\":\"\"}}}],\"scatter3d\":[{\"type\":\"scatter3d\",\"line\":{\"colorbar\":{\"outlinewidth\":0,\"ticks\":\"\"}},\"marker\":{\"colorbar\":{\"outlinewidth\":0,\"ticks\":\"\"}}}],\"scattermapbox\":[{\"type\":\"scattermapbox\",\"marker\":{\"colorbar\":{\"outlinewidth\":0,\"ticks\":\"\"}}}],\"scatterternary\":[{\"type\":\"scatterternary\",\"marker\":{\"colorbar\":{\"outlinewidth\":0,\"ticks\":\"\"}}}],\"scattercarpet\":[{\"type\":\"scattercarpet\",\"marker\":{\"colorbar\":{\"outlinewidth\":0,\"ticks\":\"\"}}}],\"carpet\":[{\"aaxis\":{\"endlinecolor\":\"#2a3f5f\",\"gridcolor\":\"white\",\"linecolor\":\"white\",\"minorgridcolor\":\"white\",\"startlinecolor\":\"#2a3f5f\"},\"baxis\":{\"endlinecolor\":\"#2a3f5f\",\"gridcolor\":\"white\",\"linecolor\":\"white\",\"minorgridcolor\":\"white\",\"startlinecolor\":\"#2a3f5f\"},\"type\":\"carpet\"}],\"table\":[{\"cells\":{\"fill\":{\"color\":\"#EBF0F8\"},\"line\":{\"color\":\"white\"}},\"header\":{\"fill\":{\"color\":\"#C8D4E3\"},\"line\":{\"color\":\"white\"}},\"type\":\"table\"}],\"barpolar\":[{\"marker\":{\"line\":{\"color\":\"#E5ECF6\",\"width\":0.5},\"pattern\":{\"fillmode\":\"overlay\",\"size\":10,\"solidity\":0.2}},\"type\":\"barpolar\"}],\"pie\":[{\"automargin\":true,\"type\":\"pie\"}]},\"layout\":{\"autotypenumbers\":\"strict\",\"colorway\":[\"#636efa\",\"#EF553B\",\"#00cc96\",\"#ab63fa\",\"#FFA15A\",\"#19d3f3\",\"#FF6692\",\"#B6E880\",\"#FF97FF\",\"#FECB52\"],\"font\":{\"color\":\"#2a3f5f\"},\"hovermode\":\"closest\",\"hoverlabel\":{\"align\":\"left\"},\"paper_bgcolor\":\"white\",\"plot_bgcolor\":\"#E5ECF6\",\"polar\":{\"bgcolor\":\"#E5ECF6\",\"angularaxis\":{\"gridcolor\":\"white\",\"linecolor\":\"white\",\"ticks\":\"\"},\"radialaxis\":{\"gridcolor\":\"white\",\"linecolor\":\"white\",\"ticks\":\"\"}},\"ternary\":{\"bgcolor\":\"#E5ECF6\",\"aaxis\":{\"gridcolor\":\"white\",\"linecolor\":\"white\",\"ticks\":\"\"},\"baxis\":{\"gridcolor\":\"white\",\"linecolor\":\"white\",\"ticks\":\"\"},\"caxis\":{\"gridcolor\":\"white\",\"linecolor\":\"white\",\"ticks\":\"\"}},\"coloraxis\":{\"colorbar\":{\"outlinewidth\":0,\"ticks\":\"\"}},\"colorscale\":{\"sequential\":[[0.0,\"#0d0887\"],[0.1111111111111111,\"#46039f\"],[0.2222222222222222,\"#7201a8\"],[0.3333333333333333,\"#9c179e\"],[0.4444444444444444,\"#bd3786\"],[0.5555555555555556,\"#d8576b\"],[0.6666666666666666,\"#ed7953\"],[0.7777777777777778,\"#fb9f3a\"],[0.8888888888888888,\"#fdca26\"],[1.0,\"#f0f921\"]],\"sequentialminus\":[[0.0,\"#0d0887\"],[0.1111111111111111,\"#46039f\"],[0.2222222222222222,\"#7201a8\"],[0.3333333333333333,\"#9c179e\"],[0.4444444444444444,\"#bd3786\"],[0.5555555555555556,\"#d8576b\"],[0.6666666666666666,\"#ed7953\"],[0.7777777777777778,\"#fb9f3a\"],[0.8888888888888888,\"#fdca26\"],[1.0,\"#f0f921\"]],\"diverging\":[[0,\"#8e0152\"],[0.1,\"#c51b7d\"],[0.2,\"#de77ae\"],[0.3,\"#f1b6da\"],[0.4,\"#fde0ef\"],[0.5,\"#f7f7f7\"],[0.6,\"#e6f5d0\"],[0.7,\"#b8e186\"],[0.8,\"#7fbc41\"],[0.9,\"#4d9221\"],[1,\"#276419\"]]},\"xaxis\":{\"gridcolor\":\"white\",\"linecolor\":\"white\",\"ticks\":\"\",\"title\":{\"standoff\":15},\"zerolinecolor\":\"white\",\"automargin\":true,\"zerolinewidth\":2},\"yaxis\":{\"gridcolor\":\"white\",\"linecolor\":\"white\",\"ticks\":\"\",\"title\":{\"standoff\":15},\"zerolinecolor\":\"white\",\"automargin\":true,\"zerolinewidth\":2},\"scene\":{\"xaxis\":{\"backgroundcolor\":\"#E5ECF6\",\"gridcolor\":\"white\",\"linecolor\":\"white\",\"showbackground\":true,\"ticks\":\"\",\"zerolinecolor\":\"white\",\"gridwidth\":2},\"yaxis\":{\"backgroundcolor\":\"#E5ECF6\",\"gridcolor\":\"white\",\"linecolor\":\"white\",\"showbackground\":true,\"ticks\":\"\",\"zerolinecolor\":\"white\",\"gridwidth\":2},\"zaxis\":{\"backgroundcolor\":\"#E5ECF6\",\"gridcolor\":\"white\",\"linecolor\":\"white\",\"showbackground\":true,\"ticks\":\"\",\"zerolinecolor\":\"white\",\"gridwidth\":2}},\"shapedefaults\":{\"line\":{\"color\":\"#2a3f5f\"}},\"annotationdefaults\":{\"arrowcolor\":\"#2a3f5f\",\"arrowhead\":0,\"arrowwidth\":1},\"geo\":{\"bgcolor\":\"white\",\"landcolor\":\"#E5ECF6\",\"subunitcolor\":\"white\",\"showland\":true,\"showlakes\":true,\"lakecolor\":\"white\"},\"title\":{\"x\":0.05},\"mapbox\":{\"style\":\"light\"}}},\"mapbox\":{\"domain\":{\"x\":[0.0,1.0],\"y\":[0.0,1.0]},\"center\":{\"lat\":28.68633088449848,\"lon\":77.2175441337386},\"zoom\":12,\"style\":\"carto-positron\"},\"legend\":{\"tracegroupgap\":0},\"title\":{\"text\":\"717 Bus Route real time 29-07-2022\"}},                        {\"responsive\": true}                    ).then(function(){\n",
       "                            \n",
       "var gd = document.getElementById('3131678b-8aa6-4ff8-b4d3-78460b04fe7c');\n",
       "var x = new MutationObserver(function (mutations, observer) {{\n",
       "        var display = window.getComputedStyle(gd).display;\n",
       "        if (!display || display === 'none') {{\n",
       "            console.log([gd, 'removed!']);\n",
       "            Plotly.purge(gd);\n",
       "            observer.disconnect();\n",
       "        }}\n",
       "}});\n",
       "\n",
       "// Listen for the removal of the full notebook cells\n",
       "var notebookContainer = gd.closest('#notebook-container');\n",
       "if (notebookContainer) {{\n",
       "    x.observe(notebookContainer, {childList: true});\n",
       "}}\n",
       "\n",
       "// Listen for the clearing of the current output cell\n",
       "var outputEl = gd.closest('.output');\n",
       "if (outputEl) {{\n",
       "    x.observe(outputEl, {childList: true});\n",
       "}}\n",
       "\n",
       "                        })                };                });            </script>        </div>"
      ]
     },
     "metadata": {},
     "output_type": "display_data"
    }
   ],
   "source": [
    "fig = px.scatter_mapbox(real_time_717_onetrip, \n",
    "                        title = \"717 Bus Route real time 29-07-2022\",\n",
    "                        lat=\"vehicle.position.latitude\", lon=\"vehicle.position.longitude\",\n",
    "                        color_continuous_scale=px.colors.cyclical.IceFire, size_max=15, zoom=12,\n",
    "                        mapbox_style=\"carto-positron\")\n",
    "fig.show()"
   ]
  },
  {
   "cell_type": "code",
   "execution_count": null,
   "id": "ba87d462",
   "metadata": {},
   "outputs": [],
   "source": []
  },
  {
   "cell_type": "markdown",
   "id": "06bcd38a",
   "metadata": {},
   "source": [
    "## GTFS 717"
   ]
  },
  {
   "cell_type": "code",
   "execution_count": 2,
   "id": "c5cc913e",
   "metadata": {
    "scrolled": true
   },
   "outputs": [],
   "source": [
    "GTFS_717AUP_stops_latlong = pd.read_csv('717AUP_GTFS_stops_latlong.csv')"
   ]
  },
  {
   "cell_type": "code",
   "execution_count": 5,
   "id": "ad9d10c7",
   "metadata": {},
   "outputs": [
    {
     "data": {
      "application/vnd.plotly.v1+json": {
       "config": {
        "plotlyServerURL": "https://plot.ly"
       },
       "data": [
        {
         "hovertemplate": "stop_lat=%{lat}<br>stop_lon=%{lon}<extra></extra>",
         "lat": [
          28.4927,
          28.497217,
          28.499178000000004,
          28.5,
          28.5017,
          28.5026,
          28.5044,
          28.505533000000003,
          28.50825,
          28.509067,
          28.511683,
          28.512167,
          28.5121,
          28.5129,
          28.513663,
          28.515267,
          28.51610100000001,
          28.5166,
          28.5176,
          28.519067,
          28.520338,
          28.521142,
          28.521941,
          28.52249500000001,
          28.521483,
          28.511733000000003,
          28.509217,
          28.508222,
          28.5104,
          28.511667,
          28.514366,
          28.5172,
          28.522167,
          28.525433000000003,
          28.5286,
          28.5309,
          28.53398,
          28.536717,
          28.5379,
          28.5417,
          28.54576500000001,
          28.543991,
          28.53561,
          28.5221655777015,
          28.534882,
          28.538205,
          28.534652,
          28.5313,
          28.524517,
          28.522481
         ],
         "legendgroup": "",
         "lon": [
          77.30381700000002,
          77.302647,
          77.29900400000002,
          77.29463299999998,
          77.291,
          77.28451700000002,
          77.2793,
          77.276483,
          77.269017,
          77.265117,
          77.25546700000002,
          77.248667,
          77.2435,
          77.2389,
          77.234905,
          77.2284,
          77.223607,
          77.2214,
          77.216583,
          77.2088,
          77.20286899999998,
          77.199972,
          77.197872,
          77.193066,
          77.18973299999998,
          77.1844,
          77.178967,
          77.174328,
          77.169617,
          77.16655,
          77.16415500000002,
          77.16075,
          77.1576,
          77.154483,
          77.148667,
          77.146333,
          77.142404,
          77.139933,
          77.136486,
          77.12935,
          77.12325,
          77.118187,
          77.112429,
          77.09864265467749,
          77.10835300000002,
          77.09143399999998,
          77.090446,
          77.08815,
          77.0837,
          77.082442
         ],
         "marker": {
          "color": "#636efa"
         },
         "mode": "markers",
         "name": "",
         "showlegend": false,
         "subplot": "mapbox",
         "type": "scattermapbox"
        }
       ],
       "layout": {
        "legend": {
         "tracegroupgap": 0
        },
        "mapbox": {
         "center": {
          "lat": 28.518979251554033,
          "lon": 77.19040665309355
         },
         "domain": {
          "x": [
           0,
           1
          ],
          "y": [
           0,
           1
          ]
         },
         "style": "carto-positron",
         "zoom": 11
        },
        "template": {
         "data": {
          "bar": [
           {
            "error_x": {
             "color": "#2a3f5f"
            },
            "error_y": {
             "color": "#2a3f5f"
            },
            "marker": {
             "line": {
              "color": "#E5ECF6",
              "width": 0.5
             },
             "pattern": {
              "fillmode": "overlay",
              "size": 10,
              "solidity": 0.2
             }
            },
            "type": "bar"
           }
          ],
          "barpolar": [
           {
            "marker": {
             "line": {
              "color": "#E5ECF6",
              "width": 0.5
             },
             "pattern": {
              "fillmode": "overlay",
              "size": 10,
              "solidity": 0.2
             }
            },
            "type": "barpolar"
           }
          ],
          "carpet": [
           {
            "aaxis": {
             "endlinecolor": "#2a3f5f",
             "gridcolor": "white",
             "linecolor": "white",
             "minorgridcolor": "white",
             "startlinecolor": "#2a3f5f"
            },
            "baxis": {
             "endlinecolor": "#2a3f5f",
             "gridcolor": "white",
             "linecolor": "white",
             "minorgridcolor": "white",
             "startlinecolor": "#2a3f5f"
            },
            "type": "carpet"
           }
          ],
          "choropleth": [
           {
            "colorbar": {
             "outlinewidth": 0,
             "ticks": ""
            },
            "type": "choropleth"
           }
          ],
          "contour": [
           {
            "colorbar": {
             "outlinewidth": 0,
             "ticks": ""
            },
            "colorscale": [
             [
              0,
              "#0d0887"
             ],
             [
              0.1111111111111111,
              "#46039f"
             ],
             [
              0.2222222222222222,
              "#7201a8"
             ],
             [
              0.3333333333333333,
              "#9c179e"
             ],
             [
              0.4444444444444444,
              "#bd3786"
             ],
             [
              0.5555555555555556,
              "#d8576b"
             ],
             [
              0.6666666666666666,
              "#ed7953"
             ],
             [
              0.7777777777777778,
              "#fb9f3a"
             ],
             [
              0.8888888888888888,
              "#fdca26"
             ],
             [
              1,
              "#f0f921"
             ]
            ],
            "type": "contour"
           }
          ],
          "contourcarpet": [
           {
            "colorbar": {
             "outlinewidth": 0,
             "ticks": ""
            },
            "type": "contourcarpet"
           }
          ],
          "heatmap": [
           {
            "colorbar": {
             "outlinewidth": 0,
             "ticks": ""
            },
            "colorscale": [
             [
              0,
              "#0d0887"
             ],
             [
              0.1111111111111111,
              "#46039f"
             ],
             [
              0.2222222222222222,
              "#7201a8"
             ],
             [
              0.3333333333333333,
              "#9c179e"
             ],
             [
              0.4444444444444444,
              "#bd3786"
             ],
             [
              0.5555555555555556,
              "#d8576b"
             ],
             [
              0.6666666666666666,
              "#ed7953"
             ],
             [
              0.7777777777777778,
              "#fb9f3a"
             ],
             [
              0.8888888888888888,
              "#fdca26"
             ],
             [
              1,
              "#f0f921"
             ]
            ],
            "type": "heatmap"
           }
          ],
          "heatmapgl": [
           {
            "colorbar": {
             "outlinewidth": 0,
             "ticks": ""
            },
            "colorscale": [
             [
              0,
              "#0d0887"
             ],
             [
              0.1111111111111111,
              "#46039f"
             ],
             [
              0.2222222222222222,
              "#7201a8"
             ],
             [
              0.3333333333333333,
              "#9c179e"
             ],
             [
              0.4444444444444444,
              "#bd3786"
             ],
             [
              0.5555555555555556,
              "#d8576b"
             ],
             [
              0.6666666666666666,
              "#ed7953"
             ],
             [
              0.7777777777777778,
              "#fb9f3a"
             ],
             [
              0.8888888888888888,
              "#fdca26"
             ],
             [
              1,
              "#f0f921"
             ]
            ],
            "type": "heatmapgl"
           }
          ],
          "histogram": [
           {
            "marker": {
             "pattern": {
              "fillmode": "overlay",
              "size": 10,
              "solidity": 0.2
             }
            },
            "type": "histogram"
           }
          ],
          "histogram2d": [
           {
            "colorbar": {
             "outlinewidth": 0,
             "ticks": ""
            },
            "colorscale": [
             [
              0,
              "#0d0887"
             ],
             [
              0.1111111111111111,
              "#46039f"
             ],
             [
              0.2222222222222222,
              "#7201a8"
             ],
             [
              0.3333333333333333,
              "#9c179e"
             ],
             [
              0.4444444444444444,
              "#bd3786"
             ],
             [
              0.5555555555555556,
              "#d8576b"
             ],
             [
              0.6666666666666666,
              "#ed7953"
             ],
             [
              0.7777777777777778,
              "#fb9f3a"
             ],
             [
              0.8888888888888888,
              "#fdca26"
             ],
             [
              1,
              "#f0f921"
             ]
            ],
            "type": "histogram2d"
           }
          ],
          "histogram2dcontour": [
           {
            "colorbar": {
             "outlinewidth": 0,
             "ticks": ""
            },
            "colorscale": [
             [
              0,
              "#0d0887"
             ],
             [
              0.1111111111111111,
              "#46039f"
             ],
             [
              0.2222222222222222,
              "#7201a8"
             ],
             [
              0.3333333333333333,
              "#9c179e"
             ],
             [
              0.4444444444444444,
              "#bd3786"
             ],
             [
              0.5555555555555556,
              "#d8576b"
             ],
             [
              0.6666666666666666,
              "#ed7953"
             ],
             [
              0.7777777777777778,
              "#fb9f3a"
             ],
             [
              0.8888888888888888,
              "#fdca26"
             ],
             [
              1,
              "#f0f921"
             ]
            ],
            "type": "histogram2dcontour"
           }
          ],
          "mesh3d": [
           {
            "colorbar": {
             "outlinewidth": 0,
             "ticks": ""
            },
            "type": "mesh3d"
           }
          ],
          "parcoords": [
           {
            "line": {
             "colorbar": {
              "outlinewidth": 0,
              "ticks": ""
             }
            },
            "type": "parcoords"
           }
          ],
          "pie": [
           {
            "automargin": true,
            "type": "pie"
           }
          ],
          "scatter": [
           {
            "fillpattern": {
             "fillmode": "overlay",
             "size": 10,
             "solidity": 0.2
            },
            "type": "scatter"
           }
          ],
          "scatter3d": [
           {
            "line": {
             "colorbar": {
              "outlinewidth": 0,
              "ticks": ""
             }
            },
            "marker": {
             "colorbar": {
              "outlinewidth": 0,
              "ticks": ""
             }
            },
            "type": "scatter3d"
           }
          ],
          "scattercarpet": [
           {
            "marker": {
             "colorbar": {
              "outlinewidth": 0,
              "ticks": ""
             }
            },
            "type": "scattercarpet"
           }
          ],
          "scattergeo": [
           {
            "marker": {
             "colorbar": {
              "outlinewidth": 0,
              "ticks": ""
             }
            },
            "type": "scattergeo"
           }
          ],
          "scattergl": [
           {
            "marker": {
             "colorbar": {
              "outlinewidth": 0,
              "ticks": ""
             }
            },
            "type": "scattergl"
           }
          ],
          "scattermapbox": [
           {
            "marker": {
             "colorbar": {
              "outlinewidth": 0,
              "ticks": ""
             }
            },
            "type": "scattermapbox"
           }
          ],
          "scatterpolar": [
           {
            "marker": {
             "colorbar": {
              "outlinewidth": 0,
              "ticks": ""
             }
            },
            "type": "scatterpolar"
           }
          ],
          "scatterpolargl": [
           {
            "marker": {
             "colorbar": {
              "outlinewidth": 0,
              "ticks": ""
             }
            },
            "type": "scatterpolargl"
           }
          ],
          "scatterternary": [
           {
            "marker": {
             "colorbar": {
              "outlinewidth": 0,
              "ticks": ""
             }
            },
            "type": "scatterternary"
           }
          ],
          "surface": [
           {
            "colorbar": {
             "outlinewidth": 0,
             "ticks": ""
            },
            "colorscale": [
             [
              0,
              "#0d0887"
             ],
             [
              0.1111111111111111,
              "#46039f"
             ],
             [
              0.2222222222222222,
              "#7201a8"
             ],
             [
              0.3333333333333333,
              "#9c179e"
             ],
             [
              0.4444444444444444,
              "#bd3786"
             ],
             [
              0.5555555555555556,
              "#d8576b"
             ],
             [
              0.6666666666666666,
              "#ed7953"
             ],
             [
              0.7777777777777778,
              "#fb9f3a"
             ],
             [
              0.8888888888888888,
              "#fdca26"
             ],
             [
              1,
              "#f0f921"
             ]
            ],
            "type": "surface"
           }
          ],
          "table": [
           {
            "cells": {
             "fill": {
              "color": "#EBF0F8"
             },
             "line": {
              "color": "white"
             }
            },
            "header": {
             "fill": {
              "color": "#C8D4E3"
             },
             "line": {
              "color": "white"
             }
            },
            "type": "table"
           }
          ]
         },
         "layout": {
          "annotationdefaults": {
           "arrowcolor": "#2a3f5f",
           "arrowhead": 0,
           "arrowwidth": 1
          },
          "autotypenumbers": "strict",
          "coloraxis": {
           "colorbar": {
            "outlinewidth": 0,
            "ticks": ""
           }
          },
          "colorscale": {
           "diverging": [
            [
             0,
             "#8e0152"
            ],
            [
             0.1,
             "#c51b7d"
            ],
            [
             0.2,
             "#de77ae"
            ],
            [
             0.3,
             "#f1b6da"
            ],
            [
             0.4,
             "#fde0ef"
            ],
            [
             0.5,
             "#f7f7f7"
            ],
            [
             0.6,
             "#e6f5d0"
            ],
            [
             0.7,
             "#b8e186"
            ],
            [
             0.8,
             "#7fbc41"
            ],
            [
             0.9,
             "#4d9221"
            ],
            [
             1,
             "#276419"
            ]
           ],
           "sequential": [
            [
             0,
             "#0d0887"
            ],
            [
             0.1111111111111111,
             "#46039f"
            ],
            [
             0.2222222222222222,
             "#7201a8"
            ],
            [
             0.3333333333333333,
             "#9c179e"
            ],
            [
             0.4444444444444444,
             "#bd3786"
            ],
            [
             0.5555555555555556,
             "#d8576b"
            ],
            [
             0.6666666666666666,
             "#ed7953"
            ],
            [
             0.7777777777777778,
             "#fb9f3a"
            ],
            [
             0.8888888888888888,
             "#fdca26"
            ],
            [
             1,
             "#f0f921"
            ]
           ],
           "sequentialminus": [
            [
             0,
             "#0d0887"
            ],
            [
             0.1111111111111111,
             "#46039f"
            ],
            [
             0.2222222222222222,
             "#7201a8"
            ],
            [
             0.3333333333333333,
             "#9c179e"
            ],
            [
             0.4444444444444444,
             "#bd3786"
            ],
            [
             0.5555555555555556,
             "#d8576b"
            ],
            [
             0.6666666666666666,
             "#ed7953"
            ],
            [
             0.7777777777777778,
             "#fb9f3a"
            ],
            [
             0.8888888888888888,
             "#fdca26"
            ],
            [
             1,
             "#f0f921"
            ]
           ]
          },
          "colorway": [
           "#636efa",
           "#EF553B",
           "#00cc96",
           "#ab63fa",
           "#FFA15A",
           "#19d3f3",
           "#FF6692",
           "#B6E880",
           "#FF97FF",
           "#FECB52"
          ],
          "font": {
           "color": "#2a3f5f"
          },
          "geo": {
           "bgcolor": "white",
           "lakecolor": "white",
           "landcolor": "#E5ECF6",
           "showlakes": true,
           "showland": true,
           "subunitcolor": "white"
          },
          "hoverlabel": {
           "align": "left"
          },
          "hovermode": "closest",
          "mapbox": {
           "style": "light"
          },
          "paper_bgcolor": "white",
          "plot_bgcolor": "#E5ECF6",
          "polar": {
           "angularaxis": {
            "gridcolor": "white",
            "linecolor": "white",
            "ticks": ""
           },
           "bgcolor": "#E5ECF6",
           "radialaxis": {
            "gridcolor": "white",
            "linecolor": "white",
            "ticks": ""
           }
          },
          "scene": {
           "xaxis": {
            "backgroundcolor": "#E5ECF6",
            "gridcolor": "white",
            "gridwidth": 2,
            "linecolor": "white",
            "showbackground": true,
            "ticks": "",
            "zerolinecolor": "white"
           },
           "yaxis": {
            "backgroundcolor": "#E5ECF6",
            "gridcolor": "white",
            "gridwidth": 2,
            "linecolor": "white",
            "showbackground": true,
            "ticks": "",
            "zerolinecolor": "white"
           },
           "zaxis": {
            "backgroundcolor": "#E5ECF6",
            "gridcolor": "white",
            "gridwidth": 2,
            "linecolor": "white",
            "showbackground": true,
            "ticks": "",
            "zerolinecolor": "white"
           }
          },
          "shapedefaults": {
           "line": {
            "color": "#2a3f5f"
           }
          },
          "ternary": {
           "aaxis": {
            "gridcolor": "white",
            "linecolor": "white",
            "ticks": ""
           },
           "baxis": {
            "gridcolor": "white",
            "linecolor": "white",
            "ticks": ""
           },
           "bgcolor": "#E5ECF6",
           "caxis": {
            "gridcolor": "white",
            "linecolor": "white",
            "ticks": ""
           }
          },
          "title": {
           "x": 0.05
          },
          "xaxis": {
           "automargin": true,
           "gridcolor": "white",
           "linecolor": "white",
           "ticks": "",
           "title": {
            "standoff": 15
           },
           "zerolinecolor": "white",
           "zerolinewidth": 2
          },
          "yaxis": {
           "automargin": true,
           "gridcolor": "white",
           "linecolor": "white",
           "ticks": "",
           "title": {
            "standoff": 15
           },
           "zerolinecolor": "white",
           "zerolinewidth": 2
          }
         }
        },
        "title": {
         "text": "717 GTFS Bus Route"
        }
       }
      },
      "text/html": [
       "<div>                            <div id=\"594a3139-64b4-4f78-9b9e-fc8e42a1d978\" class=\"plotly-graph-div\" style=\"height:525px; width:100%;\"></div>            <script type=\"text/javascript\">                require([\"plotly\"], function(Plotly) {                    window.PLOTLYENV=window.PLOTLYENV || {};                                    if (document.getElementById(\"594a3139-64b4-4f78-9b9e-fc8e42a1d978\")) {                    Plotly.newPlot(                        \"594a3139-64b4-4f78-9b9e-fc8e42a1d978\",                        [{\"hovertemplate\":\"stop_lat=%{lat}<br>stop_lon=%{lon}<extra></extra>\",\"lat\":[28.4927,28.497217,28.499178000000004,28.5,28.5017,28.5026,28.5044,28.505533000000003,28.50825,28.509067,28.511683,28.512167,28.5121,28.5129,28.513663,28.515267,28.51610100000001,28.5166,28.5176,28.519067,28.520338,28.521142,28.521941,28.52249500000001,28.521483,28.511733000000003,28.509217,28.508222,28.5104,28.511667,28.514366,28.5172,28.522167,28.525433000000003,28.5286,28.5309,28.53398,28.536717,28.5379,28.5417,28.54576500000001,28.543991,28.53561,28.5221655777015,28.534882,28.538205,28.534652,28.5313,28.524517,28.522481],\"legendgroup\":\"\",\"lon\":[77.30381700000002,77.302647,77.29900400000002,77.29463299999998,77.291,77.28451700000002,77.2793,77.276483,77.269017,77.265117,77.25546700000002,77.248667,77.2435,77.2389,77.234905,77.2284,77.223607,77.2214,77.216583,77.2088,77.20286899999998,77.199972,77.197872,77.193066,77.18973299999998,77.1844,77.178967,77.174328,77.169617,77.16655,77.16415500000002,77.16075,77.1576,77.154483,77.148667,77.146333,77.142404,77.139933,77.136486,77.12935,77.12325,77.118187,77.112429,77.09864265467749,77.10835300000002,77.09143399999998,77.090446,77.08815,77.0837,77.082442],\"marker\":{\"color\":\"#636efa\"},\"mode\":\"markers\",\"name\":\"\",\"showlegend\":false,\"subplot\":\"mapbox\",\"type\":\"scattermapbox\"}],                        {\"template\":{\"data\":{\"histogram2dcontour\":[{\"type\":\"histogram2dcontour\",\"colorbar\":{\"outlinewidth\":0,\"ticks\":\"\"},\"colorscale\":[[0.0,\"#0d0887\"],[0.1111111111111111,\"#46039f\"],[0.2222222222222222,\"#7201a8\"],[0.3333333333333333,\"#9c179e\"],[0.4444444444444444,\"#bd3786\"],[0.5555555555555556,\"#d8576b\"],[0.6666666666666666,\"#ed7953\"],[0.7777777777777778,\"#fb9f3a\"],[0.8888888888888888,\"#fdca26\"],[1.0,\"#f0f921\"]]}],\"choropleth\":[{\"type\":\"choropleth\",\"colorbar\":{\"outlinewidth\":0,\"ticks\":\"\"}}],\"histogram2d\":[{\"type\":\"histogram2d\",\"colorbar\":{\"outlinewidth\":0,\"ticks\":\"\"},\"colorscale\":[[0.0,\"#0d0887\"],[0.1111111111111111,\"#46039f\"],[0.2222222222222222,\"#7201a8\"],[0.3333333333333333,\"#9c179e\"],[0.4444444444444444,\"#bd3786\"],[0.5555555555555556,\"#d8576b\"],[0.6666666666666666,\"#ed7953\"],[0.7777777777777778,\"#fb9f3a\"],[0.8888888888888888,\"#fdca26\"],[1.0,\"#f0f921\"]]}],\"heatmap\":[{\"type\":\"heatmap\",\"colorbar\":{\"outlinewidth\":0,\"ticks\":\"\"},\"colorscale\":[[0.0,\"#0d0887\"],[0.1111111111111111,\"#46039f\"],[0.2222222222222222,\"#7201a8\"],[0.3333333333333333,\"#9c179e\"],[0.4444444444444444,\"#bd3786\"],[0.5555555555555556,\"#d8576b\"],[0.6666666666666666,\"#ed7953\"],[0.7777777777777778,\"#fb9f3a\"],[0.8888888888888888,\"#fdca26\"],[1.0,\"#f0f921\"]]}],\"heatmapgl\":[{\"type\":\"heatmapgl\",\"colorbar\":{\"outlinewidth\":0,\"ticks\":\"\"},\"colorscale\":[[0.0,\"#0d0887\"],[0.1111111111111111,\"#46039f\"],[0.2222222222222222,\"#7201a8\"],[0.3333333333333333,\"#9c179e\"],[0.4444444444444444,\"#bd3786\"],[0.5555555555555556,\"#d8576b\"],[0.6666666666666666,\"#ed7953\"],[0.7777777777777778,\"#fb9f3a\"],[0.8888888888888888,\"#fdca26\"],[1.0,\"#f0f921\"]]}],\"contourcarpet\":[{\"type\":\"contourcarpet\",\"colorbar\":{\"outlinewidth\":0,\"ticks\":\"\"}}],\"contour\":[{\"type\":\"contour\",\"colorbar\":{\"outlinewidth\":0,\"ticks\":\"\"},\"colorscale\":[[0.0,\"#0d0887\"],[0.1111111111111111,\"#46039f\"],[0.2222222222222222,\"#7201a8\"],[0.3333333333333333,\"#9c179e\"],[0.4444444444444444,\"#bd3786\"],[0.5555555555555556,\"#d8576b\"],[0.6666666666666666,\"#ed7953\"],[0.7777777777777778,\"#fb9f3a\"],[0.8888888888888888,\"#fdca26\"],[1.0,\"#f0f921\"]]}],\"surface\":[{\"type\":\"surface\",\"colorbar\":{\"outlinewidth\":0,\"ticks\":\"\"},\"colorscale\":[[0.0,\"#0d0887\"],[0.1111111111111111,\"#46039f\"],[0.2222222222222222,\"#7201a8\"],[0.3333333333333333,\"#9c179e\"],[0.4444444444444444,\"#bd3786\"],[0.5555555555555556,\"#d8576b\"],[0.6666666666666666,\"#ed7953\"],[0.7777777777777778,\"#fb9f3a\"],[0.8888888888888888,\"#fdca26\"],[1.0,\"#f0f921\"]]}],\"mesh3d\":[{\"type\":\"mesh3d\",\"colorbar\":{\"outlinewidth\":0,\"ticks\":\"\"}}],\"scatter\":[{\"fillpattern\":{\"fillmode\":\"overlay\",\"size\":10,\"solidity\":0.2},\"type\":\"scatter\"}],\"parcoords\":[{\"type\":\"parcoords\",\"line\":{\"colorbar\":{\"outlinewidth\":0,\"ticks\":\"\"}}}],\"scatterpolargl\":[{\"type\":\"scatterpolargl\",\"marker\":{\"colorbar\":{\"outlinewidth\":0,\"ticks\":\"\"}}}],\"bar\":[{\"error_x\":{\"color\":\"#2a3f5f\"},\"error_y\":{\"color\":\"#2a3f5f\"},\"marker\":{\"line\":{\"color\":\"#E5ECF6\",\"width\":0.5},\"pattern\":{\"fillmode\":\"overlay\",\"size\":10,\"solidity\":0.2}},\"type\":\"bar\"}],\"scattergeo\":[{\"type\":\"scattergeo\",\"marker\":{\"colorbar\":{\"outlinewidth\":0,\"ticks\":\"\"}}}],\"scatterpolar\":[{\"type\":\"scatterpolar\",\"marker\":{\"colorbar\":{\"outlinewidth\":0,\"ticks\":\"\"}}}],\"histogram\":[{\"marker\":{\"pattern\":{\"fillmode\":\"overlay\",\"size\":10,\"solidity\":0.2}},\"type\":\"histogram\"}],\"scattergl\":[{\"type\":\"scattergl\",\"marker\":{\"colorbar\":{\"outlinewidth\":0,\"ticks\":\"\"}}}],\"scatter3d\":[{\"type\":\"scatter3d\",\"line\":{\"colorbar\":{\"outlinewidth\":0,\"ticks\":\"\"}},\"marker\":{\"colorbar\":{\"outlinewidth\":0,\"ticks\":\"\"}}}],\"scattermapbox\":[{\"type\":\"scattermapbox\",\"marker\":{\"colorbar\":{\"outlinewidth\":0,\"ticks\":\"\"}}}],\"scatterternary\":[{\"type\":\"scatterternary\",\"marker\":{\"colorbar\":{\"outlinewidth\":0,\"ticks\":\"\"}}}],\"scattercarpet\":[{\"type\":\"scattercarpet\",\"marker\":{\"colorbar\":{\"outlinewidth\":0,\"ticks\":\"\"}}}],\"carpet\":[{\"aaxis\":{\"endlinecolor\":\"#2a3f5f\",\"gridcolor\":\"white\",\"linecolor\":\"white\",\"minorgridcolor\":\"white\",\"startlinecolor\":\"#2a3f5f\"},\"baxis\":{\"endlinecolor\":\"#2a3f5f\",\"gridcolor\":\"white\",\"linecolor\":\"white\",\"minorgridcolor\":\"white\",\"startlinecolor\":\"#2a3f5f\"},\"type\":\"carpet\"}],\"table\":[{\"cells\":{\"fill\":{\"color\":\"#EBF0F8\"},\"line\":{\"color\":\"white\"}},\"header\":{\"fill\":{\"color\":\"#C8D4E3\"},\"line\":{\"color\":\"white\"}},\"type\":\"table\"}],\"barpolar\":[{\"marker\":{\"line\":{\"color\":\"#E5ECF6\",\"width\":0.5},\"pattern\":{\"fillmode\":\"overlay\",\"size\":10,\"solidity\":0.2}},\"type\":\"barpolar\"}],\"pie\":[{\"automargin\":true,\"type\":\"pie\"}]},\"layout\":{\"autotypenumbers\":\"strict\",\"colorway\":[\"#636efa\",\"#EF553B\",\"#00cc96\",\"#ab63fa\",\"#FFA15A\",\"#19d3f3\",\"#FF6692\",\"#B6E880\",\"#FF97FF\",\"#FECB52\"],\"font\":{\"color\":\"#2a3f5f\"},\"hovermode\":\"closest\",\"hoverlabel\":{\"align\":\"left\"},\"paper_bgcolor\":\"white\",\"plot_bgcolor\":\"#E5ECF6\",\"polar\":{\"bgcolor\":\"#E5ECF6\",\"angularaxis\":{\"gridcolor\":\"white\",\"linecolor\":\"white\",\"ticks\":\"\"},\"radialaxis\":{\"gridcolor\":\"white\",\"linecolor\":\"white\",\"ticks\":\"\"}},\"ternary\":{\"bgcolor\":\"#E5ECF6\",\"aaxis\":{\"gridcolor\":\"white\",\"linecolor\":\"white\",\"ticks\":\"\"},\"baxis\":{\"gridcolor\":\"white\",\"linecolor\":\"white\",\"ticks\":\"\"},\"caxis\":{\"gridcolor\":\"white\",\"linecolor\":\"white\",\"ticks\":\"\"}},\"coloraxis\":{\"colorbar\":{\"outlinewidth\":0,\"ticks\":\"\"}},\"colorscale\":{\"sequential\":[[0.0,\"#0d0887\"],[0.1111111111111111,\"#46039f\"],[0.2222222222222222,\"#7201a8\"],[0.3333333333333333,\"#9c179e\"],[0.4444444444444444,\"#bd3786\"],[0.5555555555555556,\"#d8576b\"],[0.6666666666666666,\"#ed7953\"],[0.7777777777777778,\"#fb9f3a\"],[0.8888888888888888,\"#fdca26\"],[1.0,\"#f0f921\"]],\"sequentialminus\":[[0.0,\"#0d0887\"],[0.1111111111111111,\"#46039f\"],[0.2222222222222222,\"#7201a8\"],[0.3333333333333333,\"#9c179e\"],[0.4444444444444444,\"#bd3786\"],[0.5555555555555556,\"#d8576b\"],[0.6666666666666666,\"#ed7953\"],[0.7777777777777778,\"#fb9f3a\"],[0.8888888888888888,\"#fdca26\"],[1.0,\"#f0f921\"]],\"diverging\":[[0,\"#8e0152\"],[0.1,\"#c51b7d\"],[0.2,\"#de77ae\"],[0.3,\"#f1b6da\"],[0.4,\"#fde0ef\"],[0.5,\"#f7f7f7\"],[0.6,\"#e6f5d0\"],[0.7,\"#b8e186\"],[0.8,\"#7fbc41\"],[0.9,\"#4d9221\"],[1,\"#276419\"]]},\"xaxis\":{\"gridcolor\":\"white\",\"linecolor\":\"white\",\"ticks\":\"\",\"title\":{\"standoff\":15},\"zerolinecolor\":\"white\",\"automargin\":true,\"zerolinewidth\":2},\"yaxis\":{\"gridcolor\":\"white\",\"linecolor\":\"white\",\"ticks\":\"\",\"title\":{\"standoff\":15},\"zerolinecolor\":\"white\",\"automargin\":true,\"zerolinewidth\":2},\"scene\":{\"xaxis\":{\"backgroundcolor\":\"#E5ECF6\",\"gridcolor\":\"white\",\"linecolor\":\"white\",\"showbackground\":true,\"ticks\":\"\",\"zerolinecolor\":\"white\",\"gridwidth\":2},\"yaxis\":{\"backgroundcolor\":\"#E5ECF6\",\"gridcolor\":\"white\",\"linecolor\":\"white\",\"showbackground\":true,\"ticks\":\"\",\"zerolinecolor\":\"white\",\"gridwidth\":2},\"zaxis\":{\"backgroundcolor\":\"#E5ECF6\",\"gridcolor\":\"white\",\"linecolor\":\"white\",\"showbackground\":true,\"ticks\":\"\",\"zerolinecolor\":\"white\",\"gridwidth\":2}},\"shapedefaults\":{\"line\":{\"color\":\"#2a3f5f\"}},\"annotationdefaults\":{\"arrowcolor\":\"#2a3f5f\",\"arrowhead\":0,\"arrowwidth\":1},\"geo\":{\"bgcolor\":\"white\",\"landcolor\":\"#E5ECF6\",\"subunitcolor\":\"white\",\"showland\":true,\"showlakes\":true,\"lakecolor\":\"white\"},\"title\":{\"x\":0.05},\"mapbox\":{\"style\":\"light\"}}},\"mapbox\":{\"domain\":{\"x\":[0.0,1.0],\"y\":[0.0,1.0]},\"center\":{\"lat\":28.518979251554033,\"lon\":77.19040665309355},\"zoom\":11,\"style\":\"carto-positron\"},\"legend\":{\"tracegroupgap\":0},\"title\":{\"text\":\"717 GTFS Bus Route\"}},                        {\"responsive\": true}                    ).then(function(){\n",
       "                            \n",
       "var gd = document.getElementById('594a3139-64b4-4f78-9b9e-fc8e42a1d978');\n",
       "var x = new MutationObserver(function (mutations, observer) {{\n",
       "        var display = window.getComputedStyle(gd).display;\n",
       "        if (!display || display === 'none') {{\n",
       "            console.log([gd, 'removed!']);\n",
       "            Plotly.purge(gd);\n",
       "            observer.disconnect();\n",
       "        }}\n",
       "}});\n",
       "\n",
       "// Listen for the removal of the full notebook cells\n",
       "var notebookContainer = gd.closest('#notebook-container');\n",
       "if (notebookContainer) {{\n",
       "    x.observe(notebookContainer, {childList: true});\n",
       "}}\n",
       "\n",
       "// Listen for the clearing of the current output cell\n",
       "var outputEl = gd.closest('.output');\n",
       "if (outputEl) {{\n",
       "    x.observe(outputEl, {childList: true});\n",
       "}}\n",
       "\n",
       "                        })                };                });            </script>        </div>"
      ]
     },
     "metadata": {},
     "output_type": "display_data"
    }
   ],
   "source": [
    "fig = px.scatter_mapbox(GTFS_717AUP_stops_latlong, \n",
    "                        title = \"717 GTFS Bus Route\",\n",
    "                        lat=\"stop_lat\", lon=\"stop_lon\",\n",
    "                        color_continuous_scale=px.colors.cyclical.IceFire, size_max=15, zoom=11,\n",
    "                        mapbox_style=\"carto-positron\")\n",
    "fig.show()"
   ]
  },
  {
   "cell_type": "code",
   "execution_count": null,
   "id": "d7fad149",
   "metadata": {},
   "outputs": [],
   "source": []
  },
  {
   "cell_type": "code",
   "execution_count": null,
   "id": "575c1520",
   "metadata": {},
   "outputs": [],
   "source": []
  },
  {
   "cell_type": "code",
   "execution_count": null,
   "id": "5f0e5d76",
   "metadata": {},
   "outputs": [],
   "source": []
  },
  {
   "cell_type": "code",
   "execution_count": 19,
   "id": "c4edb32e",
   "metadata": {},
   "outputs": [],
   "source": [
    "lat = [28.7201547, 28.7150566, 28.7144096, 28.7166732, 28.7223736, 28.7201547]\n",
    "long = [77.1082306, 77.1155873, 77.116521, 77.1185473, 77.1101576, 77.1082306]"
   ]
  },
  {
   "cell_type": "code",
   "execution_count": 20,
   "id": "78197bb2",
   "metadata": {},
   "outputs": [],
   "source": [
    "d = pd.DataFrame()"
   ]
  },
  {
   "cell_type": "code",
   "execution_count": 21,
   "id": "212ab6f7",
   "metadata": {},
   "outputs": [],
   "source": [
    "d['lat'] = lat\n",
    "d['long'] = long"
   ]
  },
  {
   "cell_type": "code",
   "execution_count": 22,
   "id": "a085ef1d",
   "metadata": {},
   "outputs": [
    {
     "data": {
      "text/html": [
       "<div>\n",
       "<style scoped>\n",
       "    .dataframe tbody tr th:only-of-type {\n",
       "        vertical-align: middle;\n",
       "    }\n",
       "\n",
       "    .dataframe tbody tr th {\n",
       "        vertical-align: top;\n",
       "    }\n",
       "\n",
       "    .dataframe thead th {\n",
       "        text-align: right;\n",
       "    }\n",
       "</style>\n",
       "<table border=\"1\" class=\"dataframe\">\n",
       "  <thead>\n",
       "    <tr style=\"text-align: right;\">\n",
       "      <th></th>\n",
       "      <th>lat</th>\n",
       "      <th>long</th>\n",
       "    </tr>\n",
       "  </thead>\n",
       "  <tbody>\n",
       "    <tr>\n",
       "      <th>0</th>\n",
       "      <td>28.720155</td>\n",
       "      <td>77.108231</td>\n",
       "    </tr>\n",
       "    <tr>\n",
       "      <th>1</th>\n",
       "      <td>28.715057</td>\n",
       "      <td>77.115587</td>\n",
       "    </tr>\n",
       "    <tr>\n",
       "      <th>2</th>\n",
       "      <td>28.714410</td>\n",
       "      <td>77.116521</td>\n",
       "    </tr>\n",
       "    <tr>\n",
       "      <th>3</th>\n",
       "      <td>28.716673</td>\n",
       "      <td>77.118547</td>\n",
       "    </tr>\n",
       "    <tr>\n",
       "      <th>4</th>\n",
       "      <td>28.722374</td>\n",
       "      <td>77.110158</td>\n",
       "    </tr>\n",
       "    <tr>\n",
       "      <th>5</th>\n",
       "      <td>28.720155</td>\n",
       "      <td>77.108231</td>\n",
       "    </tr>\n",
       "  </tbody>\n",
       "</table>\n",
       "</div>"
      ],
      "text/plain": [
       "         lat       long\n",
       "0  28.720155  77.108231\n",
       "1  28.715057  77.115587\n",
       "2  28.714410  77.116521\n",
       "3  28.716673  77.118547\n",
       "4  28.722374  77.110158\n",
       "5  28.720155  77.108231"
      ]
     },
     "execution_count": 22,
     "metadata": {},
     "output_type": "execute_result"
    }
   ],
   "source": [
    "d"
   ]
  },
  {
   "cell_type": "code",
   "execution_count": 23,
   "id": "95b27719",
   "metadata": {},
   "outputs": [
    {
     "data": {
      "application/vnd.plotly.v1+json": {
       "config": {
        "plotlyServerURL": "https://plot.ly"
       },
       "data": [
        {
         "hovertemplate": "lat=%{lat}<br>long=%{lon}<extra></extra>",
         "lat": [
          28.7201547,
          28.7150566,
          28.7144096,
          28.7166732,
          28.7223736,
          28.7201547
         ],
         "legendgroup": "",
         "lon": [
          77.1082306,
          77.1155873,
          77.116521,
          77.1185473,
          77.1101576,
          77.1082306
         ],
         "marker": {
          "color": "#636efa"
         },
         "mode": "markers",
         "name": "",
         "showlegend": false,
         "subplot": "mapbox",
         "type": "scattermapbox"
        }
       ],
       "layout": {
        "legend": {
         "tracegroupgap": 0
        },
        "mapbox": {
         "center": {
          "lat": 28.718137066666667,
          "lon": 77.11287906666666
         },
         "domain": {
          "x": [
           0,
           1
          ],
          "y": [
           0,
           1
          ]
         },
         "style": "carto-positron",
         "zoom": 10
        },
        "template": {
         "data": {
          "bar": [
           {
            "error_x": {
             "color": "#2a3f5f"
            },
            "error_y": {
             "color": "#2a3f5f"
            },
            "marker": {
             "line": {
              "color": "#E5ECF6",
              "width": 0.5
             },
             "pattern": {
              "fillmode": "overlay",
              "size": 10,
              "solidity": 0.2
             }
            },
            "type": "bar"
           }
          ],
          "barpolar": [
           {
            "marker": {
             "line": {
              "color": "#E5ECF6",
              "width": 0.5
             },
             "pattern": {
              "fillmode": "overlay",
              "size": 10,
              "solidity": 0.2
             }
            },
            "type": "barpolar"
           }
          ],
          "carpet": [
           {
            "aaxis": {
             "endlinecolor": "#2a3f5f",
             "gridcolor": "white",
             "linecolor": "white",
             "minorgridcolor": "white",
             "startlinecolor": "#2a3f5f"
            },
            "baxis": {
             "endlinecolor": "#2a3f5f",
             "gridcolor": "white",
             "linecolor": "white",
             "minorgridcolor": "white",
             "startlinecolor": "#2a3f5f"
            },
            "type": "carpet"
           }
          ],
          "choropleth": [
           {
            "colorbar": {
             "outlinewidth": 0,
             "ticks": ""
            },
            "type": "choropleth"
           }
          ],
          "contour": [
           {
            "colorbar": {
             "outlinewidth": 0,
             "ticks": ""
            },
            "colorscale": [
             [
              0,
              "#0d0887"
             ],
             [
              0.1111111111111111,
              "#46039f"
             ],
             [
              0.2222222222222222,
              "#7201a8"
             ],
             [
              0.3333333333333333,
              "#9c179e"
             ],
             [
              0.4444444444444444,
              "#bd3786"
             ],
             [
              0.5555555555555556,
              "#d8576b"
             ],
             [
              0.6666666666666666,
              "#ed7953"
             ],
             [
              0.7777777777777778,
              "#fb9f3a"
             ],
             [
              0.8888888888888888,
              "#fdca26"
             ],
             [
              1,
              "#f0f921"
             ]
            ],
            "type": "contour"
           }
          ],
          "contourcarpet": [
           {
            "colorbar": {
             "outlinewidth": 0,
             "ticks": ""
            },
            "type": "contourcarpet"
           }
          ],
          "heatmap": [
           {
            "colorbar": {
             "outlinewidth": 0,
             "ticks": ""
            },
            "colorscale": [
             [
              0,
              "#0d0887"
             ],
             [
              0.1111111111111111,
              "#46039f"
             ],
             [
              0.2222222222222222,
              "#7201a8"
             ],
             [
              0.3333333333333333,
              "#9c179e"
             ],
             [
              0.4444444444444444,
              "#bd3786"
             ],
             [
              0.5555555555555556,
              "#d8576b"
             ],
             [
              0.6666666666666666,
              "#ed7953"
             ],
             [
              0.7777777777777778,
              "#fb9f3a"
             ],
             [
              0.8888888888888888,
              "#fdca26"
             ],
             [
              1,
              "#f0f921"
             ]
            ],
            "type": "heatmap"
           }
          ],
          "heatmapgl": [
           {
            "colorbar": {
             "outlinewidth": 0,
             "ticks": ""
            },
            "colorscale": [
             [
              0,
              "#0d0887"
             ],
             [
              0.1111111111111111,
              "#46039f"
             ],
             [
              0.2222222222222222,
              "#7201a8"
             ],
             [
              0.3333333333333333,
              "#9c179e"
             ],
             [
              0.4444444444444444,
              "#bd3786"
             ],
             [
              0.5555555555555556,
              "#d8576b"
             ],
             [
              0.6666666666666666,
              "#ed7953"
             ],
             [
              0.7777777777777778,
              "#fb9f3a"
             ],
             [
              0.8888888888888888,
              "#fdca26"
             ],
             [
              1,
              "#f0f921"
             ]
            ],
            "type": "heatmapgl"
           }
          ],
          "histogram": [
           {
            "marker": {
             "pattern": {
              "fillmode": "overlay",
              "size": 10,
              "solidity": 0.2
             }
            },
            "type": "histogram"
           }
          ],
          "histogram2d": [
           {
            "colorbar": {
             "outlinewidth": 0,
             "ticks": ""
            },
            "colorscale": [
             [
              0,
              "#0d0887"
             ],
             [
              0.1111111111111111,
              "#46039f"
             ],
             [
              0.2222222222222222,
              "#7201a8"
             ],
             [
              0.3333333333333333,
              "#9c179e"
             ],
             [
              0.4444444444444444,
              "#bd3786"
             ],
             [
              0.5555555555555556,
              "#d8576b"
             ],
             [
              0.6666666666666666,
              "#ed7953"
             ],
             [
              0.7777777777777778,
              "#fb9f3a"
             ],
             [
              0.8888888888888888,
              "#fdca26"
             ],
             [
              1,
              "#f0f921"
             ]
            ],
            "type": "histogram2d"
           }
          ],
          "histogram2dcontour": [
           {
            "colorbar": {
             "outlinewidth": 0,
             "ticks": ""
            },
            "colorscale": [
             [
              0,
              "#0d0887"
             ],
             [
              0.1111111111111111,
              "#46039f"
             ],
             [
              0.2222222222222222,
              "#7201a8"
             ],
             [
              0.3333333333333333,
              "#9c179e"
             ],
             [
              0.4444444444444444,
              "#bd3786"
             ],
             [
              0.5555555555555556,
              "#d8576b"
             ],
             [
              0.6666666666666666,
              "#ed7953"
             ],
             [
              0.7777777777777778,
              "#fb9f3a"
             ],
             [
              0.8888888888888888,
              "#fdca26"
             ],
             [
              1,
              "#f0f921"
             ]
            ],
            "type": "histogram2dcontour"
           }
          ],
          "mesh3d": [
           {
            "colorbar": {
             "outlinewidth": 0,
             "ticks": ""
            },
            "type": "mesh3d"
           }
          ],
          "parcoords": [
           {
            "line": {
             "colorbar": {
              "outlinewidth": 0,
              "ticks": ""
             }
            },
            "type": "parcoords"
           }
          ],
          "pie": [
           {
            "automargin": true,
            "type": "pie"
           }
          ],
          "scatter": [
           {
            "fillpattern": {
             "fillmode": "overlay",
             "size": 10,
             "solidity": 0.2
            },
            "type": "scatter"
           }
          ],
          "scatter3d": [
           {
            "line": {
             "colorbar": {
              "outlinewidth": 0,
              "ticks": ""
             }
            },
            "marker": {
             "colorbar": {
              "outlinewidth": 0,
              "ticks": ""
             }
            },
            "type": "scatter3d"
           }
          ],
          "scattercarpet": [
           {
            "marker": {
             "colorbar": {
              "outlinewidth": 0,
              "ticks": ""
             }
            },
            "type": "scattercarpet"
           }
          ],
          "scattergeo": [
           {
            "marker": {
             "colorbar": {
              "outlinewidth": 0,
              "ticks": ""
             }
            },
            "type": "scattergeo"
           }
          ],
          "scattergl": [
           {
            "marker": {
             "colorbar": {
              "outlinewidth": 0,
              "ticks": ""
             }
            },
            "type": "scattergl"
           }
          ],
          "scattermapbox": [
           {
            "marker": {
             "colorbar": {
              "outlinewidth": 0,
              "ticks": ""
             }
            },
            "type": "scattermapbox"
           }
          ],
          "scatterpolar": [
           {
            "marker": {
             "colorbar": {
              "outlinewidth": 0,
              "ticks": ""
             }
            },
            "type": "scatterpolar"
           }
          ],
          "scatterpolargl": [
           {
            "marker": {
             "colorbar": {
              "outlinewidth": 0,
              "ticks": ""
             }
            },
            "type": "scatterpolargl"
           }
          ],
          "scatterternary": [
           {
            "marker": {
             "colorbar": {
              "outlinewidth": 0,
              "ticks": ""
             }
            },
            "type": "scatterternary"
           }
          ],
          "surface": [
           {
            "colorbar": {
             "outlinewidth": 0,
             "ticks": ""
            },
            "colorscale": [
             [
              0,
              "#0d0887"
             ],
             [
              0.1111111111111111,
              "#46039f"
             ],
             [
              0.2222222222222222,
              "#7201a8"
             ],
             [
              0.3333333333333333,
              "#9c179e"
             ],
             [
              0.4444444444444444,
              "#bd3786"
             ],
             [
              0.5555555555555556,
              "#d8576b"
             ],
             [
              0.6666666666666666,
              "#ed7953"
             ],
             [
              0.7777777777777778,
              "#fb9f3a"
             ],
             [
              0.8888888888888888,
              "#fdca26"
             ],
             [
              1,
              "#f0f921"
             ]
            ],
            "type": "surface"
           }
          ],
          "table": [
           {
            "cells": {
             "fill": {
              "color": "#EBF0F8"
             },
             "line": {
              "color": "white"
             }
            },
            "header": {
             "fill": {
              "color": "#C8D4E3"
             },
             "line": {
              "color": "white"
             }
            },
            "type": "table"
           }
          ]
         },
         "layout": {
          "annotationdefaults": {
           "arrowcolor": "#2a3f5f",
           "arrowhead": 0,
           "arrowwidth": 1
          },
          "autotypenumbers": "strict",
          "coloraxis": {
           "colorbar": {
            "outlinewidth": 0,
            "ticks": ""
           }
          },
          "colorscale": {
           "diverging": [
            [
             0,
             "#8e0152"
            ],
            [
             0.1,
             "#c51b7d"
            ],
            [
             0.2,
             "#de77ae"
            ],
            [
             0.3,
             "#f1b6da"
            ],
            [
             0.4,
             "#fde0ef"
            ],
            [
             0.5,
             "#f7f7f7"
            ],
            [
             0.6,
             "#e6f5d0"
            ],
            [
             0.7,
             "#b8e186"
            ],
            [
             0.8,
             "#7fbc41"
            ],
            [
             0.9,
             "#4d9221"
            ],
            [
             1,
             "#276419"
            ]
           ],
           "sequential": [
            [
             0,
             "#0d0887"
            ],
            [
             0.1111111111111111,
             "#46039f"
            ],
            [
             0.2222222222222222,
             "#7201a8"
            ],
            [
             0.3333333333333333,
             "#9c179e"
            ],
            [
             0.4444444444444444,
             "#bd3786"
            ],
            [
             0.5555555555555556,
             "#d8576b"
            ],
            [
             0.6666666666666666,
             "#ed7953"
            ],
            [
             0.7777777777777778,
             "#fb9f3a"
            ],
            [
             0.8888888888888888,
             "#fdca26"
            ],
            [
             1,
             "#f0f921"
            ]
           ],
           "sequentialminus": [
            [
             0,
             "#0d0887"
            ],
            [
             0.1111111111111111,
             "#46039f"
            ],
            [
             0.2222222222222222,
             "#7201a8"
            ],
            [
             0.3333333333333333,
             "#9c179e"
            ],
            [
             0.4444444444444444,
             "#bd3786"
            ],
            [
             0.5555555555555556,
             "#d8576b"
            ],
            [
             0.6666666666666666,
             "#ed7953"
            ],
            [
             0.7777777777777778,
             "#fb9f3a"
            ],
            [
             0.8888888888888888,
             "#fdca26"
            ],
            [
             1,
             "#f0f921"
            ]
           ]
          },
          "colorway": [
           "#636efa",
           "#EF553B",
           "#00cc96",
           "#ab63fa",
           "#FFA15A",
           "#19d3f3",
           "#FF6692",
           "#B6E880",
           "#FF97FF",
           "#FECB52"
          ],
          "font": {
           "color": "#2a3f5f"
          },
          "geo": {
           "bgcolor": "white",
           "lakecolor": "white",
           "landcolor": "#E5ECF6",
           "showlakes": true,
           "showland": true,
           "subunitcolor": "white"
          },
          "hoverlabel": {
           "align": "left"
          },
          "hovermode": "closest",
          "mapbox": {
           "style": "light"
          },
          "paper_bgcolor": "white",
          "plot_bgcolor": "#E5ECF6",
          "polar": {
           "angularaxis": {
            "gridcolor": "white",
            "linecolor": "white",
            "ticks": ""
           },
           "bgcolor": "#E5ECF6",
           "radialaxis": {
            "gridcolor": "white",
            "linecolor": "white",
            "ticks": ""
           }
          },
          "scene": {
           "xaxis": {
            "backgroundcolor": "#E5ECF6",
            "gridcolor": "white",
            "gridwidth": 2,
            "linecolor": "white",
            "showbackground": true,
            "ticks": "",
            "zerolinecolor": "white"
           },
           "yaxis": {
            "backgroundcolor": "#E5ECF6",
            "gridcolor": "white",
            "gridwidth": 2,
            "linecolor": "white",
            "showbackground": true,
            "ticks": "",
            "zerolinecolor": "white"
           },
           "zaxis": {
            "backgroundcolor": "#E5ECF6",
            "gridcolor": "white",
            "gridwidth": 2,
            "linecolor": "white",
            "showbackground": true,
            "ticks": "",
            "zerolinecolor": "white"
           }
          },
          "shapedefaults": {
           "line": {
            "color": "#2a3f5f"
           }
          },
          "ternary": {
           "aaxis": {
            "gridcolor": "white",
            "linecolor": "white",
            "ticks": ""
           },
           "baxis": {
            "gridcolor": "white",
            "linecolor": "white",
            "ticks": ""
           },
           "bgcolor": "#E5ECF6",
           "caxis": {
            "gridcolor": "white",
            "linecolor": "white",
            "ticks": ""
           }
          },
          "title": {
           "x": 0.05
          },
          "xaxis": {
           "automargin": true,
           "gridcolor": "white",
           "linecolor": "white",
           "ticks": "",
           "title": {
            "standoff": 15
           },
           "zerolinecolor": "white",
           "zerolinewidth": 2
          },
          "yaxis": {
           "automargin": true,
           "gridcolor": "white",
           "linecolor": "white",
           "ticks": "",
           "title": {
            "standoff": 15
           },
           "zerolinecolor": "white",
           "zerolinewidth": 2
          }
         }
        },
        "title": {
         "text": "717 GTFS Bus Route"
        }
       }
      },
      "text/html": [
       "<div>                            <div id=\"7f232555-5c1c-4843-9f6a-a217d45f38c0\" class=\"plotly-graph-div\" style=\"height:525px; width:100%;\"></div>            <script type=\"text/javascript\">                require([\"plotly\"], function(Plotly) {                    window.PLOTLYENV=window.PLOTLYENV || {};                                    if (document.getElementById(\"7f232555-5c1c-4843-9f6a-a217d45f38c0\")) {                    Plotly.newPlot(                        \"7f232555-5c1c-4843-9f6a-a217d45f38c0\",                        [{\"hovertemplate\":\"lat=%{lat}<br>long=%{lon}<extra></extra>\",\"lat\":[28.7201547,28.7150566,28.7144096,28.7166732,28.7223736,28.7201547],\"legendgroup\":\"\",\"lon\":[77.1082306,77.1155873,77.116521,77.1185473,77.1101576,77.1082306],\"marker\":{\"color\":\"#636efa\"},\"mode\":\"markers\",\"name\":\"\",\"showlegend\":false,\"subplot\":\"mapbox\",\"type\":\"scattermapbox\"}],                        {\"template\":{\"data\":{\"histogram2dcontour\":[{\"type\":\"histogram2dcontour\",\"colorbar\":{\"outlinewidth\":0,\"ticks\":\"\"},\"colorscale\":[[0.0,\"#0d0887\"],[0.1111111111111111,\"#46039f\"],[0.2222222222222222,\"#7201a8\"],[0.3333333333333333,\"#9c179e\"],[0.4444444444444444,\"#bd3786\"],[0.5555555555555556,\"#d8576b\"],[0.6666666666666666,\"#ed7953\"],[0.7777777777777778,\"#fb9f3a\"],[0.8888888888888888,\"#fdca26\"],[1.0,\"#f0f921\"]]}],\"choropleth\":[{\"type\":\"choropleth\",\"colorbar\":{\"outlinewidth\":0,\"ticks\":\"\"}}],\"histogram2d\":[{\"type\":\"histogram2d\",\"colorbar\":{\"outlinewidth\":0,\"ticks\":\"\"},\"colorscale\":[[0.0,\"#0d0887\"],[0.1111111111111111,\"#46039f\"],[0.2222222222222222,\"#7201a8\"],[0.3333333333333333,\"#9c179e\"],[0.4444444444444444,\"#bd3786\"],[0.5555555555555556,\"#d8576b\"],[0.6666666666666666,\"#ed7953\"],[0.7777777777777778,\"#fb9f3a\"],[0.8888888888888888,\"#fdca26\"],[1.0,\"#f0f921\"]]}],\"heatmap\":[{\"type\":\"heatmap\",\"colorbar\":{\"outlinewidth\":0,\"ticks\":\"\"},\"colorscale\":[[0.0,\"#0d0887\"],[0.1111111111111111,\"#46039f\"],[0.2222222222222222,\"#7201a8\"],[0.3333333333333333,\"#9c179e\"],[0.4444444444444444,\"#bd3786\"],[0.5555555555555556,\"#d8576b\"],[0.6666666666666666,\"#ed7953\"],[0.7777777777777778,\"#fb9f3a\"],[0.8888888888888888,\"#fdca26\"],[1.0,\"#f0f921\"]]}],\"heatmapgl\":[{\"type\":\"heatmapgl\",\"colorbar\":{\"outlinewidth\":0,\"ticks\":\"\"},\"colorscale\":[[0.0,\"#0d0887\"],[0.1111111111111111,\"#46039f\"],[0.2222222222222222,\"#7201a8\"],[0.3333333333333333,\"#9c179e\"],[0.4444444444444444,\"#bd3786\"],[0.5555555555555556,\"#d8576b\"],[0.6666666666666666,\"#ed7953\"],[0.7777777777777778,\"#fb9f3a\"],[0.8888888888888888,\"#fdca26\"],[1.0,\"#f0f921\"]]}],\"contourcarpet\":[{\"type\":\"contourcarpet\",\"colorbar\":{\"outlinewidth\":0,\"ticks\":\"\"}}],\"contour\":[{\"type\":\"contour\",\"colorbar\":{\"outlinewidth\":0,\"ticks\":\"\"},\"colorscale\":[[0.0,\"#0d0887\"],[0.1111111111111111,\"#46039f\"],[0.2222222222222222,\"#7201a8\"],[0.3333333333333333,\"#9c179e\"],[0.4444444444444444,\"#bd3786\"],[0.5555555555555556,\"#d8576b\"],[0.6666666666666666,\"#ed7953\"],[0.7777777777777778,\"#fb9f3a\"],[0.8888888888888888,\"#fdca26\"],[1.0,\"#f0f921\"]]}],\"surface\":[{\"type\":\"surface\",\"colorbar\":{\"outlinewidth\":0,\"ticks\":\"\"},\"colorscale\":[[0.0,\"#0d0887\"],[0.1111111111111111,\"#46039f\"],[0.2222222222222222,\"#7201a8\"],[0.3333333333333333,\"#9c179e\"],[0.4444444444444444,\"#bd3786\"],[0.5555555555555556,\"#d8576b\"],[0.6666666666666666,\"#ed7953\"],[0.7777777777777778,\"#fb9f3a\"],[0.8888888888888888,\"#fdca26\"],[1.0,\"#f0f921\"]]}],\"mesh3d\":[{\"type\":\"mesh3d\",\"colorbar\":{\"outlinewidth\":0,\"ticks\":\"\"}}],\"scatter\":[{\"fillpattern\":{\"fillmode\":\"overlay\",\"size\":10,\"solidity\":0.2},\"type\":\"scatter\"}],\"parcoords\":[{\"type\":\"parcoords\",\"line\":{\"colorbar\":{\"outlinewidth\":0,\"ticks\":\"\"}}}],\"scatterpolargl\":[{\"type\":\"scatterpolargl\",\"marker\":{\"colorbar\":{\"outlinewidth\":0,\"ticks\":\"\"}}}],\"bar\":[{\"error_x\":{\"color\":\"#2a3f5f\"},\"error_y\":{\"color\":\"#2a3f5f\"},\"marker\":{\"line\":{\"color\":\"#E5ECF6\",\"width\":0.5},\"pattern\":{\"fillmode\":\"overlay\",\"size\":10,\"solidity\":0.2}},\"type\":\"bar\"}],\"scattergeo\":[{\"type\":\"scattergeo\",\"marker\":{\"colorbar\":{\"outlinewidth\":0,\"ticks\":\"\"}}}],\"scatterpolar\":[{\"type\":\"scatterpolar\",\"marker\":{\"colorbar\":{\"outlinewidth\":0,\"ticks\":\"\"}}}],\"histogram\":[{\"marker\":{\"pattern\":{\"fillmode\":\"overlay\",\"size\":10,\"solidity\":0.2}},\"type\":\"histogram\"}],\"scattergl\":[{\"type\":\"scattergl\",\"marker\":{\"colorbar\":{\"outlinewidth\":0,\"ticks\":\"\"}}}],\"scatter3d\":[{\"type\":\"scatter3d\",\"line\":{\"colorbar\":{\"outlinewidth\":0,\"ticks\":\"\"}},\"marker\":{\"colorbar\":{\"outlinewidth\":0,\"ticks\":\"\"}}}],\"scattermapbox\":[{\"type\":\"scattermapbox\",\"marker\":{\"colorbar\":{\"outlinewidth\":0,\"ticks\":\"\"}}}],\"scatterternary\":[{\"type\":\"scatterternary\",\"marker\":{\"colorbar\":{\"outlinewidth\":0,\"ticks\":\"\"}}}],\"scattercarpet\":[{\"type\":\"scattercarpet\",\"marker\":{\"colorbar\":{\"outlinewidth\":0,\"ticks\":\"\"}}}],\"carpet\":[{\"aaxis\":{\"endlinecolor\":\"#2a3f5f\",\"gridcolor\":\"white\",\"linecolor\":\"white\",\"minorgridcolor\":\"white\",\"startlinecolor\":\"#2a3f5f\"},\"baxis\":{\"endlinecolor\":\"#2a3f5f\",\"gridcolor\":\"white\",\"linecolor\":\"white\",\"minorgridcolor\":\"white\",\"startlinecolor\":\"#2a3f5f\"},\"type\":\"carpet\"}],\"table\":[{\"cells\":{\"fill\":{\"color\":\"#EBF0F8\"},\"line\":{\"color\":\"white\"}},\"header\":{\"fill\":{\"color\":\"#C8D4E3\"},\"line\":{\"color\":\"white\"}},\"type\":\"table\"}],\"barpolar\":[{\"marker\":{\"line\":{\"color\":\"#E5ECF6\",\"width\":0.5},\"pattern\":{\"fillmode\":\"overlay\",\"size\":10,\"solidity\":0.2}},\"type\":\"barpolar\"}],\"pie\":[{\"automargin\":true,\"type\":\"pie\"}]},\"layout\":{\"autotypenumbers\":\"strict\",\"colorway\":[\"#636efa\",\"#EF553B\",\"#00cc96\",\"#ab63fa\",\"#FFA15A\",\"#19d3f3\",\"#FF6692\",\"#B6E880\",\"#FF97FF\",\"#FECB52\"],\"font\":{\"color\":\"#2a3f5f\"},\"hovermode\":\"closest\",\"hoverlabel\":{\"align\":\"left\"},\"paper_bgcolor\":\"white\",\"plot_bgcolor\":\"#E5ECF6\",\"polar\":{\"bgcolor\":\"#E5ECF6\",\"angularaxis\":{\"gridcolor\":\"white\",\"linecolor\":\"white\",\"ticks\":\"\"},\"radialaxis\":{\"gridcolor\":\"white\",\"linecolor\":\"white\",\"ticks\":\"\"}},\"ternary\":{\"bgcolor\":\"#E5ECF6\",\"aaxis\":{\"gridcolor\":\"white\",\"linecolor\":\"white\",\"ticks\":\"\"},\"baxis\":{\"gridcolor\":\"white\",\"linecolor\":\"white\",\"ticks\":\"\"},\"caxis\":{\"gridcolor\":\"white\",\"linecolor\":\"white\",\"ticks\":\"\"}},\"coloraxis\":{\"colorbar\":{\"outlinewidth\":0,\"ticks\":\"\"}},\"colorscale\":{\"sequential\":[[0.0,\"#0d0887\"],[0.1111111111111111,\"#46039f\"],[0.2222222222222222,\"#7201a8\"],[0.3333333333333333,\"#9c179e\"],[0.4444444444444444,\"#bd3786\"],[0.5555555555555556,\"#d8576b\"],[0.6666666666666666,\"#ed7953\"],[0.7777777777777778,\"#fb9f3a\"],[0.8888888888888888,\"#fdca26\"],[1.0,\"#f0f921\"]],\"sequentialminus\":[[0.0,\"#0d0887\"],[0.1111111111111111,\"#46039f\"],[0.2222222222222222,\"#7201a8\"],[0.3333333333333333,\"#9c179e\"],[0.4444444444444444,\"#bd3786\"],[0.5555555555555556,\"#d8576b\"],[0.6666666666666666,\"#ed7953\"],[0.7777777777777778,\"#fb9f3a\"],[0.8888888888888888,\"#fdca26\"],[1.0,\"#f0f921\"]],\"diverging\":[[0,\"#8e0152\"],[0.1,\"#c51b7d\"],[0.2,\"#de77ae\"],[0.3,\"#f1b6da\"],[0.4,\"#fde0ef\"],[0.5,\"#f7f7f7\"],[0.6,\"#e6f5d0\"],[0.7,\"#b8e186\"],[0.8,\"#7fbc41\"],[0.9,\"#4d9221\"],[1,\"#276419\"]]},\"xaxis\":{\"gridcolor\":\"white\",\"linecolor\":\"white\",\"ticks\":\"\",\"title\":{\"standoff\":15},\"zerolinecolor\":\"white\",\"automargin\":true,\"zerolinewidth\":2},\"yaxis\":{\"gridcolor\":\"white\",\"linecolor\":\"white\",\"ticks\":\"\",\"title\":{\"standoff\":15},\"zerolinecolor\":\"white\",\"automargin\":true,\"zerolinewidth\":2},\"scene\":{\"xaxis\":{\"backgroundcolor\":\"#E5ECF6\",\"gridcolor\":\"white\",\"linecolor\":\"white\",\"showbackground\":true,\"ticks\":\"\",\"zerolinecolor\":\"white\",\"gridwidth\":2},\"yaxis\":{\"backgroundcolor\":\"#E5ECF6\",\"gridcolor\":\"white\",\"linecolor\":\"white\",\"showbackground\":true,\"ticks\":\"\",\"zerolinecolor\":\"white\",\"gridwidth\":2},\"zaxis\":{\"backgroundcolor\":\"#E5ECF6\",\"gridcolor\":\"white\",\"linecolor\":\"white\",\"showbackground\":true,\"ticks\":\"\",\"zerolinecolor\":\"white\",\"gridwidth\":2}},\"shapedefaults\":{\"line\":{\"color\":\"#2a3f5f\"}},\"annotationdefaults\":{\"arrowcolor\":\"#2a3f5f\",\"arrowhead\":0,\"arrowwidth\":1},\"geo\":{\"bgcolor\":\"white\",\"landcolor\":\"#E5ECF6\",\"subunitcolor\":\"white\",\"showland\":true,\"showlakes\":true,\"lakecolor\":\"white\"},\"title\":{\"x\":0.05},\"mapbox\":{\"style\":\"light\"}}},\"mapbox\":{\"domain\":{\"x\":[0.0,1.0],\"y\":[0.0,1.0]},\"center\":{\"lat\":28.718137066666667,\"lon\":77.11287906666666},\"zoom\":10,\"style\":\"carto-positron\"},\"legend\":{\"tracegroupgap\":0},\"title\":{\"text\":\"717 GTFS Bus Route\"}},                        {\"responsive\": true}                    ).then(function(){\n",
       "                            \n",
       "var gd = document.getElementById('7f232555-5c1c-4843-9f6a-a217d45f38c0');\n",
       "var x = new MutationObserver(function (mutations, observer) {{\n",
       "        var display = window.getComputedStyle(gd).display;\n",
       "        if (!display || display === 'none') {{\n",
       "            console.log([gd, 'removed!']);\n",
       "            Plotly.purge(gd);\n",
       "            observer.disconnect();\n",
       "        }}\n",
       "}});\n",
       "\n",
       "// Listen for the removal of the full notebook cells\n",
       "var notebookContainer = gd.closest('#notebook-container');\n",
       "if (notebookContainer) {{\n",
       "    x.observe(notebookContainer, {childList: true});\n",
       "}}\n",
       "\n",
       "// Listen for the clearing of the current output cell\n",
       "var outputEl = gd.closest('.output');\n",
       "if (outputEl) {{\n",
       "    x.observe(outputEl, {childList: true});\n",
       "}}\n",
       "\n",
       "                        })                };                });            </script>        </div>"
      ]
     },
     "metadata": {},
     "output_type": "display_data"
    }
   ],
   "source": [
    "fig = px.scatter_mapbox(d, \n",
    "                        title = \"717 GTFS Bus Route\",\n",
    "                        lat=\"lat\", lon=\"long\",\n",
    "                        color_continuous_scale=px.colors.cyclical.IceFire, size_max=15, zoom=10,\n",
    "                        mapbox_style=\"carto-positron\")\n",
    "fig.show()"
   ]
  },
  {
   "cell_type": "code",
   "execution_count": null,
   "id": "6a9841b2",
   "metadata": {},
   "outputs": [],
   "source": []
  }
 ],
 "metadata": {
  "kernelspec": {
   "display_name": "Python 3 (ipykernel)",
   "language": "python",
   "name": "python3"
  },
  "language_info": {
   "codemirror_mode": {
    "name": "ipython",
    "version": 3
   },
   "file_extension": ".py",
   "mimetype": "text/x-python",
   "name": "python",
   "nbconvert_exporter": "python",
   "pygments_lexer": "ipython3",
   "version": "3.9.7"
  }
 },
 "nbformat": 4,
 "nbformat_minor": 5
}
