{
 "cells": [
  {
   "cell_type": "code",
   "execution_count": 1,
   "id": "ac621169",
   "metadata": {},
   "outputs": [],
   "source": [
    "import numpy\n",
    "import datetime\n",
    "import pandas as pd\n",
    "from datetime import datetime\n",
    "import vaex as vx"
   ]
  },
  {
   "cell_type": "code",
   "execution_count": 2,
   "id": "a5e33477",
   "metadata": {},
   "outputs": [],
   "source": [
    "import matplotlib.pyplot as plt\n",
    "from  plotly.offline import iplot\n",
    "import plotly as py \n",
    "import plotly.express as px"
   ]
  },
  {
   "cell_type": "code",
   "execution_count": 3,
   "id": "c5421a80",
   "metadata": {},
   "outputs": [
    {
     "data": {
      "text/html": [
       "        <script type=\"text/javascript\">\n",
       "        window.PlotlyConfig = {MathJaxConfig: 'local'};\n",
       "        if (window.MathJax && window.MathJax.Hub && window.MathJax.Hub.Config) {window.MathJax.Hub.Config({SVG: {font: \"STIX-Web\"}});}\n",
       "        if (typeof require !== 'undefined') {\n",
       "        require.undef(\"plotly\");\n",
       "        requirejs.config({\n",
       "            paths: {\n",
       "                'plotly': ['https://cdn.plot.ly/plotly-2.20.0.min']\n",
       "            }\n",
       "        });\n",
       "        require(['plotly'], function(Plotly) {\n",
       "            window._Plotly = Plotly;\n",
       "        });\n",
       "        }\n",
       "        </script>\n",
       "        "
      ]
     },
     "metadata": {},
     "output_type": "display_data"
    },
    {
     "data": {
      "text/html": [
       "        <script type=\"text/javascript\">\n",
       "        window.PlotlyConfig = {MathJaxConfig: 'local'};\n",
       "        if (window.MathJax && window.MathJax.Hub && window.MathJax.Hub.Config) {window.MathJax.Hub.Config({SVG: {font: \"STIX-Web\"}});}\n",
       "        if (typeof require !== 'undefined') {\n",
       "        require.undef(\"plotly\");\n",
       "        requirejs.config({\n",
       "            paths: {\n",
       "                'plotly': ['https://cdn.plot.ly/plotly-2.20.0.min']\n",
       "            }\n",
       "        });\n",
       "        require(['plotly'], function(Plotly) {\n",
       "            window._Plotly = Plotly;\n",
       "        });\n",
       "        }\n",
       "        </script>\n",
       "        "
      ]
     },
     "metadata": {},
     "output_type": "display_data"
    }
   ],
   "source": [
    "import cufflinks as cf \n",
    "py.offline.init_notebook_mode(connected=True)\n",
    "cf.go_offline()"
   ]
  },
  {
   "cell_type": "code",
   "execution_count": 4,
   "id": "377ba00f",
   "metadata": {},
   "outputs": [],
   "source": [
    "# temp = vx.from_csv(\"Data_Jul_2019.csv\",convert=True)"
   ]
  },
  {
   "cell_type": "code",
   "execution_count": 5,
   "id": "06899026",
   "metadata": {},
   "outputs": [],
   "source": [
    "# full_data = vx.open_many(['Data_Sep_2019.csv.hdf5','Data_Oct_2019.csv.hdf5','Data_Nov_2019.csv.hdf5','Data_Dec_2019.csv.hdf5'])"
   ]
  },
  {
   "cell_type": "code",
   "execution_count": 6,
   "id": "a3200749",
   "metadata": {},
   "outputs": [],
   "source": [
    "# route_717AUP = full_data[full_data['ROUTENAME']=='717AUP']\n",
    "# route_717AUP"
   ]
  },
  {
   "cell_type": "code",
   "execution_count": 7,
   "id": "c58d0e12",
   "metadata": {},
   "outputs": [],
   "source": [
    "# d_route_data = {}\n",
    "\n",
    "# for i in route_717AUP.column_names:\n",
    "#     d_route_data[i] = route_717AUP[i].values\n",
    "    \n",
    "# d_route_data"
   ]
  },
  {
   "cell_type": "code",
   "execution_count": 8,
   "id": "423fc2f4",
   "metadata": {},
   "outputs": [],
   "source": [
    "# route_data_pd = pd.DataFrame(d_route_data)\n",
    "# del(d_route_data)"
   ]
  },
  {
   "cell_type": "code",
   "execution_count": 9,
   "id": "10512c64",
   "metadata": {},
   "outputs": [],
   "source": [
    "# route_data_pd.info()"
   ]
  },
  {
   "cell_type": "code",
   "execution_count": 7,
   "id": "3a8d1f61",
   "metadata": {},
   "outputs": [],
   "source": [
    "route_data_pd = pd.read_csv('717AUP.csv')"
   ]
  },
  {
   "cell_type": "code",
   "execution_count": 8,
   "id": "a8aeb7d6",
   "metadata": {},
   "outputs": [
    {
     "data": {
      "text/html": [
       "<div>\n",
       "<style scoped>\n",
       "    .dataframe tbody tr th:only-of-type {\n",
       "        vertical-align: middle;\n",
       "    }\n",
       "\n",
       "    .dataframe tbody tr th {\n",
       "        vertical-align: top;\n",
       "    }\n",
       "\n",
       "    .dataframe thead th {\n",
       "        text-align: right;\n",
       "    }\n",
       "</style>\n",
       "<table border=\"1\" class=\"dataframe\">\n",
       "  <thead>\n",
       "    <tr style=\"text-align: right;\">\n",
       "      <th></th>\n",
       "      <th>MESSAGE_ID</th>\n",
       "      <th>TRIP_ID</th>\n",
       "      <th>ROUTENAME</th>\n",
       "      <th>BUS_ID</th>\n",
       "      <th>ROUTE_ORIGIN_STOP</th>\n",
       "      <th>ROUTE_DESTINATION_STOP</th>\n",
       "      <th>TRIP_START_TIME</th>\n",
       "      <th>TRIP_END_TIME</th>\n",
       "      <th>AMOUNT</th>\n",
       "      <th>USER_COUNT</th>\n",
       "      <th>TICKET DATE</th>\n",
       "      <th>TICKET TIME</th>\n",
       "      <th>date_time</th>\n",
       "      <th>ticket_date</th>\n",
       "      <th>Day</th>\n",
       "      <th>Hour</th>\n",
       "      <th>Month</th>\n",
       "      <th>Origin_cordinates</th>\n",
       "      <th>Dest_cordinates</th>\n",
       "    </tr>\n",
       "  </thead>\n",
       "  <tbody>\n",
       "    <tr>\n",
       "      <th>0</th>\n",
       "      <td>12695010919065107</td>\n",
       "      <td>T12695010919061902</td>\n",
       "      <td>717AUP</td>\n",
       "      <td>DL1PC6341</td>\n",
       "      <td>Andheria Bagh More</td>\n",
       "      <td>Kapashera Border</td>\n",
       "      <td>01-SEP-2019 06:19:46</td>\n",
       "      <td>01-SEP-2019 07:19:28</td>\n",
       "      <td>15</td>\n",
       "      <td>1</td>\n",
       "      <td>01/09/2019</td>\n",
       "      <td>06:51:55</td>\n",
       "      <td>2019-09-01 06:51:55</td>\n",
       "      <td>2019-09-01</td>\n",
       "      <td>Sunday</td>\n",
       "      <td>6</td>\n",
       "      <td>9</td>\n",
       "      <td>(28.509217, 77.178967)</td>\n",
       "      <td>(28.522481, 77.082442)</td>\n",
       "    </tr>\n",
       "    <tr>\n",
       "      <th>1</th>\n",
       "      <td>12420010919084834</td>\n",
       "      <td>T12420010919074802</td>\n",
       "      <td>717AUP</td>\n",
       "      <td>DL1PC6354</td>\n",
       "      <td>Andheria Bagh More</td>\n",
       "      <td>Kapashera Border</td>\n",
       "      <td>01-SEP-2019 07:48:00</td>\n",
       "      <td>01-SEP-2019 09:26:48</td>\n",
       "      <td>15</td>\n",
       "      <td>1</td>\n",
       "      <td>01/09/2019</td>\n",
       "      <td>08:48:17</td>\n",
       "      <td>2019-09-01 08:48:17</td>\n",
       "      <td>2019-09-01</td>\n",
       "      <td>Sunday</td>\n",
       "      <td>8</td>\n",
       "      <td>9</td>\n",
       "      <td>(28.509217, 77.178967)</td>\n",
       "      <td>(28.522481, 77.082442)</td>\n",
       "    </tr>\n",
       "    <tr>\n",
       "      <th>2</th>\n",
       "      <td>12420010919084835</td>\n",
       "      <td>T12420010919074802</td>\n",
       "      <td>717AUP</td>\n",
       "      <td>DL1PC6354</td>\n",
       "      <td>Andheria Bagh More</td>\n",
       "      <td>Kapashera Border</td>\n",
       "      <td>01-SEP-2019 07:48:00</td>\n",
       "      <td>01-SEP-2019 09:26:48</td>\n",
       "      <td>15</td>\n",
       "      <td>1</td>\n",
       "      <td>01/09/2019</td>\n",
       "      <td>08:48:19</td>\n",
       "      <td>2019-09-01 08:48:19</td>\n",
       "      <td>2019-09-01</td>\n",
       "      <td>Sunday</td>\n",
       "      <td>8</td>\n",
       "      <td>9</td>\n",
       "      <td>(28.509217, 77.178967)</td>\n",
       "      <td>(28.522481, 77.082442)</td>\n",
       "    </tr>\n",
       "    <tr>\n",
       "      <th>3</th>\n",
       "      <td>12678010919095238</td>\n",
       "      <td>T12678010919084802</td>\n",
       "      <td>717AUP</td>\n",
       "      <td>DL1PC6308</td>\n",
       "      <td>Andheria Bagh More</td>\n",
       "      <td>Kapashera Border</td>\n",
       "      <td>01-SEP-2019 08:48:17</td>\n",
       "      <td>01-SEP-2019 10:34:02</td>\n",
       "      <td>15</td>\n",
       "      <td>1</td>\n",
       "      <td>01/09/2019</td>\n",
       "      <td>09:52:32</td>\n",
       "      <td>2019-09-01 09:52:32</td>\n",
       "      <td>2019-09-01</td>\n",
       "      <td>Sunday</td>\n",
       "      <td>9</td>\n",
       "      <td>9</td>\n",
       "      <td>(28.509217, 77.178967)</td>\n",
       "      <td>(28.522481, 77.082442)</td>\n",
       "    </tr>\n",
       "    <tr>\n",
       "      <th>4</th>\n",
       "      <td>10592010919093428</td>\n",
       "      <td>T10592010919083602</td>\n",
       "      <td>717AUP</td>\n",
       "      <td>DL1P6359</td>\n",
       "      <td>Andheria Bagh More</td>\n",
       "      <td>Kapashera Border</td>\n",
       "      <td>01-SEP-2019 08:36:05</td>\n",
       "      <td>01-SEP-2019 10:10:08</td>\n",
       "      <td>15</td>\n",
       "      <td>1</td>\n",
       "      <td>01/09/2019</td>\n",
       "      <td>09:34:44</td>\n",
       "      <td>2019-09-01 09:34:44</td>\n",
       "      <td>2019-09-01</td>\n",
       "      <td>Sunday</td>\n",
       "      <td>9</td>\n",
       "      <td>9</td>\n",
       "      <td>(28.509217, 77.178967)</td>\n",
       "      <td>(28.522481, 77.082442)</td>\n",
       "    </tr>\n",
       "    <tr>\n",
       "      <th>...</th>\n",
       "      <td>...</td>\n",
       "      <td>...</td>\n",
       "      <td>...</td>\n",
       "      <td>...</td>\n",
       "      <td>...</td>\n",
       "      <td>...</td>\n",
       "      <td>...</td>\n",
       "      <td>...</td>\n",
       "      <td>...</td>\n",
       "      <td>...</td>\n",
       "      <td>...</td>\n",
       "      <td>...</td>\n",
       "      <td>...</td>\n",
       "      <td>...</td>\n",
       "      <td>...</td>\n",
       "      <td>...</td>\n",
       "      <td>...</td>\n",
       "      <td>...</td>\n",
       "      <td>...</td>\n",
       "    </tr>\n",
       "    <tr>\n",
       "      <th>1393478</th>\n",
       "      <td>11333291219103256</td>\n",
       "      <td>T11333291219102504</td>\n",
       "      <td>717AUP</td>\n",
       "      <td>DL1PC6350</td>\n",
       "      <td>Badarpur Border</td>\n",
       "      <td>Kapashera Border</td>\n",
       "      <td>29-DEC-2019 10:25:06</td>\n",
       "      <td>29-DEC-2019 11:51:02</td>\n",
       "      <td>15</td>\n",
       "      <td>1</td>\n",
       "      <td>29/12/2019</td>\n",
       "      <td>10:32:27</td>\n",
       "      <td>2019-12-29 10:32:27</td>\n",
       "      <td>2019-12-29</td>\n",
       "      <td>Sunday</td>\n",
       "      <td>10</td>\n",
       "      <td>12</td>\n",
       "      <td>(28.4927, 77.30381700000002)</td>\n",
       "      <td>(28.522481, 77.082442)</td>\n",
       "    </tr>\n",
       "    <tr>\n",
       "      <th>1393479</th>\n",
       "      <td>11333291219103257</td>\n",
       "      <td>T11333291219102504</td>\n",
       "      <td>717AUP</td>\n",
       "      <td>DL1PC6350</td>\n",
       "      <td>Badarpur Border</td>\n",
       "      <td>Tughalqabad Village</td>\n",
       "      <td>29-DEC-2019 10:25:06</td>\n",
       "      <td>29-DEC-2019 11:51:02</td>\n",
       "      <td>5</td>\n",
       "      <td>1</td>\n",
       "      <td>29/12/2019</td>\n",
       "      <td>10:32:31</td>\n",
       "      <td>2019-12-29 10:32:31</td>\n",
       "      <td>2019-12-29</td>\n",
       "      <td>Sunday</td>\n",
       "      <td>10</td>\n",
       "      <td>12</td>\n",
       "      <td>(28.4927, 77.30381700000002)</td>\n",
       "      <td>(28.509067, 77.265117)</td>\n",
       "    </tr>\n",
       "    <tr>\n",
       "      <th>1393480</th>\n",
       "      <td>11311291219201613</td>\n",
       "      <td>T11311291219185703</td>\n",
       "      <td>717AUP</td>\n",
       "      <td>DL1PC 6357</td>\n",
       "      <td>Hamdard Nagar / Sangam Vihar</td>\n",
       "      <td>Kapashera Border</td>\n",
       "      <td>29-DEC-2019 18:57:26</td>\n",
       "      <td>29-DEC-2019 21:17:04</td>\n",
       "      <td>15</td>\n",
       "      <td>1</td>\n",
       "      <td>29/12/2019</td>\n",
       "      <td>20:16:45</td>\n",
       "      <td>2019-12-29 20:16:45</td>\n",
       "      <td>2019-12-29</td>\n",
       "      <td>Sunday</td>\n",
       "      <td>20</td>\n",
       "      <td>12</td>\n",
       "      <td>(28.512167, 77.248667)</td>\n",
       "      <td>(28.522481, 77.082442)</td>\n",
       "    </tr>\n",
       "    <tr>\n",
       "      <th>1393481</th>\n",
       "      <td>11311291219202124</td>\n",
       "      <td>T11311291219185703</td>\n",
       "      <td>717AUP</td>\n",
       "      <td>DL1PC 6357</td>\n",
       "      <td>Hamdard Nagar / Sangam Vihar</td>\n",
       "      <td>Kishan Garh</td>\n",
       "      <td>29-DEC-2019 18:57:26</td>\n",
       "      <td>29-DEC-2019 21:17:04</td>\n",
       "      <td>10</td>\n",
       "      <td>1</td>\n",
       "      <td>29/12/2019</td>\n",
       "      <td>20:21:08</td>\n",
       "      <td>2019-12-29 20:21:08</td>\n",
       "      <td>2019-12-29</td>\n",
       "      <td>Sunday</td>\n",
       "      <td>20</td>\n",
       "      <td>12</td>\n",
       "      <td>(28.512167, 77.248667)</td>\n",
       "      <td>(28.514366, 77.16415500000002)</td>\n",
       "    </tr>\n",
       "    <tr>\n",
       "      <th>1393482</th>\n",
       "      <td>11311291219205100</td>\n",
       "      <td>T11311291219185703</td>\n",
       "      <td>717AUP</td>\n",
       "      <td>DL1PC 6357</td>\n",
       "      <td>Kishan Garh</td>\n",
       "      <td>Kapashera Border</td>\n",
       "      <td>29-DEC-2019 18:57:26</td>\n",
       "      <td>29-DEC-2019 21:17:04</td>\n",
       "      <td>15</td>\n",
       "      <td>1</td>\n",
       "      <td>29/12/2019</td>\n",
       "      <td>20:51:12</td>\n",
       "      <td>2019-12-29 20:51:12</td>\n",
       "      <td>2019-12-29</td>\n",
       "      <td>Sunday</td>\n",
       "      <td>20</td>\n",
       "      <td>12</td>\n",
       "      <td>(28.514366, 77.16415500000002)</td>\n",
       "      <td>(28.522481, 77.082442)</td>\n",
       "    </tr>\n",
       "  </tbody>\n",
       "</table>\n",
       "<p>1393483 rows × 19 columns</p>\n",
       "</div>"
      ],
      "text/plain": [
       "                MESSAGE_ID             TRIP_ID ROUTENAME      BUS_ID  \\\n",
       "0        12695010919065107  T12695010919061902    717AUP   DL1PC6341   \n",
       "1        12420010919084834  T12420010919074802    717AUP   DL1PC6354   \n",
       "2        12420010919084835  T12420010919074802    717AUP   DL1PC6354   \n",
       "3        12678010919095238  T12678010919084802    717AUP   DL1PC6308   \n",
       "4        10592010919093428  T10592010919083602    717AUP    DL1P6359   \n",
       "...                    ...                 ...       ...         ...   \n",
       "1393478  11333291219103256  T11333291219102504    717AUP   DL1PC6350   \n",
       "1393479  11333291219103257  T11333291219102504    717AUP   DL1PC6350   \n",
       "1393480  11311291219201613  T11311291219185703    717AUP  DL1PC 6357   \n",
       "1393481  11311291219202124  T11311291219185703    717AUP  DL1PC 6357   \n",
       "1393482  11311291219205100  T11311291219185703    717AUP  DL1PC 6357   \n",
       "\n",
       "                    ROUTE_ORIGIN_STOP ROUTE_DESTINATION_STOP  \\\n",
       "0                  Andheria Bagh More       Kapashera Border   \n",
       "1                  Andheria Bagh More       Kapashera Border   \n",
       "2                  Andheria Bagh More       Kapashera Border   \n",
       "3                  Andheria Bagh More       Kapashera Border   \n",
       "4                  Andheria Bagh More       Kapashera Border   \n",
       "...                               ...                    ...   \n",
       "1393478               Badarpur Border       Kapashera Border   \n",
       "1393479               Badarpur Border    Tughalqabad Village   \n",
       "1393480  Hamdard Nagar / Sangam Vihar       Kapashera Border   \n",
       "1393481  Hamdard Nagar / Sangam Vihar            Kishan Garh   \n",
       "1393482                   Kishan Garh       Kapashera Border   \n",
       "\n",
       "              TRIP_START_TIME         TRIP_END_TIME  AMOUNT  USER_COUNT  \\\n",
       "0        01-SEP-2019 06:19:46  01-SEP-2019 07:19:28      15           1   \n",
       "1        01-SEP-2019 07:48:00  01-SEP-2019 09:26:48      15           1   \n",
       "2        01-SEP-2019 07:48:00  01-SEP-2019 09:26:48      15           1   \n",
       "3        01-SEP-2019 08:48:17  01-SEP-2019 10:34:02      15           1   \n",
       "4        01-SEP-2019 08:36:05  01-SEP-2019 10:10:08      15           1   \n",
       "...                       ...                   ...     ...         ...   \n",
       "1393478  29-DEC-2019 10:25:06  29-DEC-2019 11:51:02      15           1   \n",
       "1393479  29-DEC-2019 10:25:06  29-DEC-2019 11:51:02       5           1   \n",
       "1393480  29-DEC-2019 18:57:26  29-DEC-2019 21:17:04      15           1   \n",
       "1393481  29-DEC-2019 18:57:26  29-DEC-2019 21:17:04      10           1   \n",
       "1393482  29-DEC-2019 18:57:26  29-DEC-2019 21:17:04      15           1   \n",
       "\n",
       "        TICKET DATE TICKET TIME            date_time ticket_date     Day  \\\n",
       "0        01/09/2019    06:51:55  2019-09-01 06:51:55  2019-09-01  Sunday   \n",
       "1        01/09/2019    08:48:17  2019-09-01 08:48:17  2019-09-01  Sunday   \n",
       "2        01/09/2019    08:48:19  2019-09-01 08:48:19  2019-09-01  Sunday   \n",
       "3        01/09/2019    09:52:32  2019-09-01 09:52:32  2019-09-01  Sunday   \n",
       "4        01/09/2019    09:34:44  2019-09-01 09:34:44  2019-09-01  Sunday   \n",
       "...             ...         ...                  ...         ...     ...   \n",
       "1393478  29/12/2019    10:32:27  2019-12-29 10:32:27  2019-12-29  Sunday   \n",
       "1393479  29/12/2019    10:32:31  2019-12-29 10:32:31  2019-12-29  Sunday   \n",
       "1393480  29/12/2019    20:16:45  2019-12-29 20:16:45  2019-12-29  Sunday   \n",
       "1393481  29/12/2019    20:21:08  2019-12-29 20:21:08  2019-12-29  Sunday   \n",
       "1393482  29/12/2019    20:51:12  2019-12-29 20:51:12  2019-12-29  Sunday   \n",
       "\n",
       "         Hour  Month               Origin_cordinates  \\\n",
       "0           6      9          (28.509217, 77.178967)   \n",
       "1           8      9          (28.509217, 77.178967)   \n",
       "2           8      9          (28.509217, 77.178967)   \n",
       "3           9      9          (28.509217, 77.178967)   \n",
       "4           9      9          (28.509217, 77.178967)   \n",
       "...       ...    ...                             ...   \n",
       "1393478    10     12    (28.4927, 77.30381700000002)   \n",
       "1393479    10     12    (28.4927, 77.30381700000002)   \n",
       "1393480    20     12          (28.512167, 77.248667)   \n",
       "1393481    20     12          (28.512167, 77.248667)   \n",
       "1393482    20     12  (28.514366, 77.16415500000002)   \n",
       "\n",
       "                        Dest_cordinates  \n",
       "0                (28.522481, 77.082442)  \n",
       "1                (28.522481, 77.082442)  \n",
       "2                (28.522481, 77.082442)  \n",
       "3                (28.522481, 77.082442)  \n",
       "4                (28.522481, 77.082442)  \n",
       "...                                 ...  \n",
       "1393478          (28.522481, 77.082442)  \n",
       "1393479          (28.509067, 77.265117)  \n",
       "1393480          (28.522481, 77.082442)  \n",
       "1393481  (28.514366, 77.16415500000002)  \n",
       "1393482          (28.522481, 77.082442)  \n",
       "\n",
       "[1393483 rows x 19 columns]"
      ]
     },
     "execution_count": 8,
     "metadata": {},
     "output_type": "execute_result"
    }
   ],
   "source": [
    "route_data_pd"
   ]
  },
  {
   "cell_type": "markdown",
   "id": "376436f8",
   "metadata": {},
   "source": [
    "# Basic Preprocessing of columns"
   ]
  },
  {
   "cell_type": "code",
   "execution_count": 9,
   "id": "3d620df1",
   "metadata": {},
   "outputs": [],
   "source": [
    "# full_data['USER_COUNT'].value_counts()"
   ]
  },
  {
   "cell_type": "code",
   "execution_count": 25,
   "id": "65ca9785",
   "metadata": {},
   "outputs": [],
   "source": [
    "def convert_to_datetime(date_string):\n",
    "    return numpy.datetime64(datetime.strptime(str(date_string), '%d/%m/%Y %H:%M:%S'))\n",
    "\n",
    "def convert_to_date(date_string):\n",
    "    return numpy.datetime64(datetime.strptime(str(date_string), '%d/%m/%Y'))"
   ]
  },
  {
   "cell_type": "code",
   "execution_count": 11,
   "id": "332030a6",
   "metadata": {},
   "outputs": [],
   "source": [
    "route_data_pd['date_time']  = (route_data_pd['TICKET DATE'] + ' ' + route_data_pd['TICKET TIME']).apply(convert_to_datetime)"
   ]
  },
  {
   "cell_type": "code",
   "execution_count": 12,
   "id": "61a1dc3c",
   "metadata": {},
   "outputs": [],
   "source": [
    "route_data_pd['ticket_date']  = route_data_pd['TICKET DATE'].apply(convert_to_date)"
   ]
  },
  {
   "cell_type": "code",
   "execution_count": 13,
   "id": "eab85b0f",
   "metadata": {},
   "outputs": [],
   "source": [
    "# full_data.drop(columns=['TICKET DATE','TICKET TIME'],inplace=True)"
   ]
  },
  {
   "cell_type": "code",
   "execution_count": 14,
   "id": "8f8ed176",
   "metadata": {},
   "outputs": [],
   "source": [
    "route_data_pd[\"Day\"] = route_data_pd[\"date_time\"].dt.day_name()\n",
    "route_data_pd[\"Hour\"] = route_data_pd[\"date_time\"].dt.hour\n",
    "route_data_pd[\"Month\"] = route_data_pd[\"date_time\"].dt.month"
   ]
  },
  {
   "cell_type": "code",
   "execution_count": 15,
   "id": "055a1f46",
   "metadata": {},
   "outputs": [
    {
     "data": {
      "text/html": [
       "<div>\n",
       "<style scoped>\n",
       "    .dataframe tbody tr th:only-of-type {\n",
       "        vertical-align: middle;\n",
       "    }\n",
       "\n",
       "    .dataframe tbody tr th {\n",
       "        vertical-align: top;\n",
       "    }\n",
       "\n",
       "    .dataframe thead th {\n",
       "        text-align: right;\n",
       "    }\n",
       "</style>\n",
       "<table border=\"1\" class=\"dataframe\">\n",
       "  <thead>\n",
       "    <tr style=\"text-align: right;\">\n",
       "      <th></th>\n",
       "      <th>MESSAGE_ID</th>\n",
       "      <th>TRIP_ID</th>\n",
       "      <th>ROUTENAME</th>\n",
       "      <th>BUS_ID</th>\n",
       "      <th>ROUTE_ORIGIN_STOP</th>\n",
       "      <th>ROUTE_DESTINATION_STOP</th>\n",
       "      <th>TRIP_START_TIME</th>\n",
       "      <th>TRIP_END_TIME</th>\n",
       "      <th>AMOUNT</th>\n",
       "      <th>USER_COUNT</th>\n",
       "      <th>TICKET DATE</th>\n",
       "      <th>TICKET TIME</th>\n",
       "      <th>date_time</th>\n",
       "      <th>ticket_date</th>\n",
       "      <th>Day</th>\n",
       "      <th>Hour</th>\n",
       "      <th>Month</th>\n",
       "      <th>Origin_cordinates</th>\n",
       "      <th>Dest_cordinates</th>\n",
       "    </tr>\n",
       "  </thead>\n",
       "  <tbody>\n",
       "    <tr>\n",
       "      <th>0</th>\n",
       "      <td>12695010919065107</td>\n",
       "      <td>T12695010919061902</td>\n",
       "      <td>717AUP</td>\n",
       "      <td>DL1PC6341</td>\n",
       "      <td>Andheria Bagh More</td>\n",
       "      <td>Kapashera Border</td>\n",
       "      <td>01-SEP-2019 06:19:46</td>\n",
       "      <td>01-SEP-2019 07:19:28</td>\n",
       "      <td>15</td>\n",
       "      <td>1</td>\n",
       "      <td>01/09/2019</td>\n",
       "      <td>06:51:55</td>\n",
       "      <td>2019-09-01 06:51:55</td>\n",
       "      <td>2019-09-01</td>\n",
       "      <td>Sunday</td>\n",
       "      <td>6</td>\n",
       "      <td>9</td>\n",
       "      <td>(28.509217, 77.178967)</td>\n",
       "      <td>(28.522481, 77.082442)</td>\n",
       "    </tr>\n",
       "    <tr>\n",
       "      <th>1</th>\n",
       "      <td>12420010919084834</td>\n",
       "      <td>T12420010919074802</td>\n",
       "      <td>717AUP</td>\n",
       "      <td>DL1PC6354</td>\n",
       "      <td>Andheria Bagh More</td>\n",
       "      <td>Kapashera Border</td>\n",
       "      <td>01-SEP-2019 07:48:00</td>\n",
       "      <td>01-SEP-2019 09:26:48</td>\n",
       "      <td>15</td>\n",
       "      <td>1</td>\n",
       "      <td>01/09/2019</td>\n",
       "      <td>08:48:17</td>\n",
       "      <td>2019-09-01 08:48:17</td>\n",
       "      <td>2019-09-01</td>\n",
       "      <td>Sunday</td>\n",
       "      <td>8</td>\n",
       "      <td>9</td>\n",
       "      <td>(28.509217, 77.178967)</td>\n",
       "      <td>(28.522481, 77.082442)</td>\n",
       "    </tr>\n",
       "    <tr>\n",
       "      <th>2</th>\n",
       "      <td>12420010919084835</td>\n",
       "      <td>T12420010919074802</td>\n",
       "      <td>717AUP</td>\n",
       "      <td>DL1PC6354</td>\n",
       "      <td>Andheria Bagh More</td>\n",
       "      <td>Kapashera Border</td>\n",
       "      <td>01-SEP-2019 07:48:00</td>\n",
       "      <td>01-SEP-2019 09:26:48</td>\n",
       "      <td>15</td>\n",
       "      <td>1</td>\n",
       "      <td>01/09/2019</td>\n",
       "      <td>08:48:19</td>\n",
       "      <td>2019-09-01 08:48:19</td>\n",
       "      <td>2019-09-01</td>\n",
       "      <td>Sunday</td>\n",
       "      <td>8</td>\n",
       "      <td>9</td>\n",
       "      <td>(28.509217, 77.178967)</td>\n",
       "      <td>(28.522481, 77.082442)</td>\n",
       "    </tr>\n",
       "    <tr>\n",
       "      <th>3</th>\n",
       "      <td>12678010919095238</td>\n",
       "      <td>T12678010919084802</td>\n",
       "      <td>717AUP</td>\n",
       "      <td>DL1PC6308</td>\n",
       "      <td>Andheria Bagh More</td>\n",
       "      <td>Kapashera Border</td>\n",
       "      <td>01-SEP-2019 08:48:17</td>\n",
       "      <td>01-SEP-2019 10:34:02</td>\n",
       "      <td>15</td>\n",
       "      <td>1</td>\n",
       "      <td>01/09/2019</td>\n",
       "      <td>09:52:32</td>\n",
       "      <td>2019-09-01 09:52:32</td>\n",
       "      <td>2019-09-01</td>\n",
       "      <td>Sunday</td>\n",
       "      <td>9</td>\n",
       "      <td>9</td>\n",
       "      <td>(28.509217, 77.178967)</td>\n",
       "      <td>(28.522481, 77.082442)</td>\n",
       "    </tr>\n",
       "    <tr>\n",
       "      <th>4</th>\n",
       "      <td>10592010919093428</td>\n",
       "      <td>T10592010919083602</td>\n",
       "      <td>717AUP</td>\n",
       "      <td>DL1P6359</td>\n",
       "      <td>Andheria Bagh More</td>\n",
       "      <td>Kapashera Border</td>\n",
       "      <td>01-SEP-2019 08:36:05</td>\n",
       "      <td>01-SEP-2019 10:10:08</td>\n",
       "      <td>15</td>\n",
       "      <td>1</td>\n",
       "      <td>01/09/2019</td>\n",
       "      <td>09:34:44</td>\n",
       "      <td>2019-09-01 09:34:44</td>\n",
       "      <td>2019-09-01</td>\n",
       "      <td>Sunday</td>\n",
       "      <td>9</td>\n",
       "      <td>9</td>\n",
       "      <td>(28.509217, 77.178967)</td>\n",
       "      <td>(28.522481, 77.082442)</td>\n",
       "    </tr>\n",
       "    <tr>\n",
       "      <th>...</th>\n",
       "      <td>...</td>\n",
       "      <td>...</td>\n",
       "      <td>...</td>\n",
       "      <td>...</td>\n",
       "      <td>...</td>\n",
       "      <td>...</td>\n",
       "      <td>...</td>\n",
       "      <td>...</td>\n",
       "      <td>...</td>\n",
       "      <td>...</td>\n",
       "      <td>...</td>\n",
       "      <td>...</td>\n",
       "      <td>...</td>\n",
       "      <td>...</td>\n",
       "      <td>...</td>\n",
       "      <td>...</td>\n",
       "      <td>...</td>\n",
       "      <td>...</td>\n",
       "      <td>...</td>\n",
       "    </tr>\n",
       "    <tr>\n",
       "      <th>1393478</th>\n",
       "      <td>11333291219103256</td>\n",
       "      <td>T11333291219102504</td>\n",
       "      <td>717AUP</td>\n",
       "      <td>DL1PC6350</td>\n",
       "      <td>Badarpur Border</td>\n",
       "      <td>Kapashera Border</td>\n",
       "      <td>29-DEC-2019 10:25:06</td>\n",
       "      <td>29-DEC-2019 11:51:02</td>\n",
       "      <td>15</td>\n",
       "      <td>1</td>\n",
       "      <td>29/12/2019</td>\n",
       "      <td>10:32:27</td>\n",
       "      <td>2019-12-29 10:32:27</td>\n",
       "      <td>2019-12-29</td>\n",
       "      <td>Sunday</td>\n",
       "      <td>10</td>\n",
       "      <td>12</td>\n",
       "      <td>(28.4927, 77.30381700000002)</td>\n",
       "      <td>(28.522481, 77.082442)</td>\n",
       "    </tr>\n",
       "    <tr>\n",
       "      <th>1393479</th>\n",
       "      <td>11333291219103257</td>\n",
       "      <td>T11333291219102504</td>\n",
       "      <td>717AUP</td>\n",
       "      <td>DL1PC6350</td>\n",
       "      <td>Badarpur Border</td>\n",
       "      <td>Tughalqabad Village</td>\n",
       "      <td>29-DEC-2019 10:25:06</td>\n",
       "      <td>29-DEC-2019 11:51:02</td>\n",
       "      <td>5</td>\n",
       "      <td>1</td>\n",
       "      <td>29/12/2019</td>\n",
       "      <td>10:32:31</td>\n",
       "      <td>2019-12-29 10:32:31</td>\n",
       "      <td>2019-12-29</td>\n",
       "      <td>Sunday</td>\n",
       "      <td>10</td>\n",
       "      <td>12</td>\n",
       "      <td>(28.4927, 77.30381700000002)</td>\n",
       "      <td>(28.509067, 77.265117)</td>\n",
       "    </tr>\n",
       "    <tr>\n",
       "      <th>1393480</th>\n",
       "      <td>11311291219201613</td>\n",
       "      <td>T11311291219185703</td>\n",
       "      <td>717AUP</td>\n",
       "      <td>DL1PC 6357</td>\n",
       "      <td>Hamdard Nagar / Sangam Vihar</td>\n",
       "      <td>Kapashera Border</td>\n",
       "      <td>29-DEC-2019 18:57:26</td>\n",
       "      <td>29-DEC-2019 21:17:04</td>\n",
       "      <td>15</td>\n",
       "      <td>1</td>\n",
       "      <td>29/12/2019</td>\n",
       "      <td>20:16:45</td>\n",
       "      <td>2019-12-29 20:16:45</td>\n",
       "      <td>2019-12-29</td>\n",
       "      <td>Sunday</td>\n",
       "      <td>20</td>\n",
       "      <td>12</td>\n",
       "      <td>(28.512167, 77.248667)</td>\n",
       "      <td>(28.522481, 77.082442)</td>\n",
       "    </tr>\n",
       "    <tr>\n",
       "      <th>1393481</th>\n",
       "      <td>11311291219202124</td>\n",
       "      <td>T11311291219185703</td>\n",
       "      <td>717AUP</td>\n",
       "      <td>DL1PC 6357</td>\n",
       "      <td>Hamdard Nagar / Sangam Vihar</td>\n",
       "      <td>Kishan Garh</td>\n",
       "      <td>29-DEC-2019 18:57:26</td>\n",
       "      <td>29-DEC-2019 21:17:04</td>\n",
       "      <td>10</td>\n",
       "      <td>1</td>\n",
       "      <td>29/12/2019</td>\n",
       "      <td>20:21:08</td>\n",
       "      <td>2019-12-29 20:21:08</td>\n",
       "      <td>2019-12-29</td>\n",
       "      <td>Sunday</td>\n",
       "      <td>20</td>\n",
       "      <td>12</td>\n",
       "      <td>(28.512167, 77.248667)</td>\n",
       "      <td>(28.514366, 77.16415500000002)</td>\n",
       "    </tr>\n",
       "    <tr>\n",
       "      <th>1393482</th>\n",
       "      <td>11311291219205100</td>\n",
       "      <td>T11311291219185703</td>\n",
       "      <td>717AUP</td>\n",
       "      <td>DL1PC 6357</td>\n",
       "      <td>Kishan Garh</td>\n",
       "      <td>Kapashera Border</td>\n",
       "      <td>29-DEC-2019 18:57:26</td>\n",
       "      <td>29-DEC-2019 21:17:04</td>\n",
       "      <td>15</td>\n",
       "      <td>1</td>\n",
       "      <td>29/12/2019</td>\n",
       "      <td>20:51:12</td>\n",
       "      <td>2019-12-29 20:51:12</td>\n",
       "      <td>2019-12-29</td>\n",
       "      <td>Sunday</td>\n",
       "      <td>20</td>\n",
       "      <td>12</td>\n",
       "      <td>(28.514366, 77.16415500000002)</td>\n",
       "      <td>(28.522481, 77.082442)</td>\n",
       "    </tr>\n",
       "  </tbody>\n",
       "</table>\n",
       "<p>1393483 rows × 19 columns</p>\n",
       "</div>"
      ],
      "text/plain": [
       "                MESSAGE_ID             TRIP_ID ROUTENAME      BUS_ID  \\\n",
       "0        12695010919065107  T12695010919061902    717AUP   DL1PC6341   \n",
       "1        12420010919084834  T12420010919074802    717AUP   DL1PC6354   \n",
       "2        12420010919084835  T12420010919074802    717AUP   DL1PC6354   \n",
       "3        12678010919095238  T12678010919084802    717AUP   DL1PC6308   \n",
       "4        10592010919093428  T10592010919083602    717AUP    DL1P6359   \n",
       "...                    ...                 ...       ...         ...   \n",
       "1393478  11333291219103256  T11333291219102504    717AUP   DL1PC6350   \n",
       "1393479  11333291219103257  T11333291219102504    717AUP   DL1PC6350   \n",
       "1393480  11311291219201613  T11311291219185703    717AUP  DL1PC 6357   \n",
       "1393481  11311291219202124  T11311291219185703    717AUP  DL1PC 6357   \n",
       "1393482  11311291219205100  T11311291219185703    717AUP  DL1PC 6357   \n",
       "\n",
       "                    ROUTE_ORIGIN_STOP ROUTE_DESTINATION_STOP  \\\n",
       "0                  Andheria Bagh More       Kapashera Border   \n",
       "1                  Andheria Bagh More       Kapashera Border   \n",
       "2                  Andheria Bagh More       Kapashera Border   \n",
       "3                  Andheria Bagh More       Kapashera Border   \n",
       "4                  Andheria Bagh More       Kapashera Border   \n",
       "...                               ...                    ...   \n",
       "1393478               Badarpur Border       Kapashera Border   \n",
       "1393479               Badarpur Border    Tughalqabad Village   \n",
       "1393480  Hamdard Nagar / Sangam Vihar       Kapashera Border   \n",
       "1393481  Hamdard Nagar / Sangam Vihar            Kishan Garh   \n",
       "1393482                   Kishan Garh       Kapashera Border   \n",
       "\n",
       "              TRIP_START_TIME         TRIP_END_TIME  AMOUNT  USER_COUNT  \\\n",
       "0        01-SEP-2019 06:19:46  01-SEP-2019 07:19:28      15           1   \n",
       "1        01-SEP-2019 07:48:00  01-SEP-2019 09:26:48      15           1   \n",
       "2        01-SEP-2019 07:48:00  01-SEP-2019 09:26:48      15           1   \n",
       "3        01-SEP-2019 08:48:17  01-SEP-2019 10:34:02      15           1   \n",
       "4        01-SEP-2019 08:36:05  01-SEP-2019 10:10:08      15           1   \n",
       "...                       ...                   ...     ...         ...   \n",
       "1393478  29-DEC-2019 10:25:06  29-DEC-2019 11:51:02      15           1   \n",
       "1393479  29-DEC-2019 10:25:06  29-DEC-2019 11:51:02       5           1   \n",
       "1393480  29-DEC-2019 18:57:26  29-DEC-2019 21:17:04      15           1   \n",
       "1393481  29-DEC-2019 18:57:26  29-DEC-2019 21:17:04      10           1   \n",
       "1393482  29-DEC-2019 18:57:26  29-DEC-2019 21:17:04      15           1   \n",
       "\n",
       "        TICKET DATE TICKET TIME           date_time ticket_date     Day  Hour  \\\n",
       "0        01/09/2019    06:51:55 2019-09-01 06:51:55  2019-09-01  Sunday     6   \n",
       "1        01/09/2019    08:48:17 2019-09-01 08:48:17  2019-09-01  Sunday     8   \n",
       "2        01/09/2019    08:48:19 2019-09-01 08:48:19  2019-09-01  Sunday     8   \n",
       "3        01/09/2019    09:52:32 2019-09-01 09:52:32  2019-09-01  Sunday     9   \n",
       "4        01/09/2019    09:34:44 2019-09-01 09:34:44  2019-09-01  Sunday     9   \n",
       "...             ...         ...                 ...         ...     ...   ...   \n",
       "1393478  29/12/2019    10:32:27 2019-12-29 10:32:27  2019-12-29  Sunday    10   \n",
       "1393479  29/12/2019    10:32:31 2019-12-29 10:32:31  2019-12-29  Sunday    10   \n",
       "1393480  29/12/2019    20:16:45 2019-12-29 20:16:45  2019-12-29  Sunday    20   \n",
       "1393481  29/12/2019    20:21:08 2019-12-29 20:21:08  2019-12-29  Sunday    20   \n",
       "1393482  29/12/2019    20:51:12 2019-12-29 20:51:12  2019-12-29  Sunday    20   \n",
       "\n",
       "         Month               Origin_cordinates                 Dest_cordinates  \n",
       "0            9          (28.509217, 77.178967)          (28.522481, 77.082442)  \n",
       "1            9          (28.509217, 77.178967)          (28.522481, 77.082442)  \n",
       "2            9          (28.509217, 77.178967)          (28.522481, 77.082442)  \n",
       "3            9          (28.509217, 77.178967)          (28.522481, 77.082442)  \n",
       "4            9          (28.509217, 77.178967)          (28.522481, 77.082442)  \n",
       "...        ...                             ...                             ...  \n",
       "1393478     12    (28.4927, 77.30381700000002)          (28.522481, 77.082442)  \n",
       "1393479     12    (28.4927, 77.30381700000002)          (28.509067, 77.265117)  \n",
       "1393480     12          (28.512167, 77.248667)          (28.522481, 77.082442)  \n",
       "1393481     12          (28.512167, 77.248667)  (28.514366, 77.16415500000002)  \n",
       "1393482     12  (28.514366, 77.16415500000002)          (28.522481, 77.082442)  \n",
       "\n",
       "[1393483 rows x 19 columns]"
      ]
     },
     "execution_count": 15,
     "metadata": {},
     "output_type": "execute_result"
    }
   ],
   "source": [
    "route_data_pd"
   ]
  },
  {
   "cell_type": "code",
   "execution_count": null,
   "id": "a48fc0b9",
   "metadata": {},
   "outputs": [],
   "source": []
  },
  {
   "cell_type": "markdown",
   "id": "288009bb",
   "metadata": {},
   "source": [
    "# Renaming"
   ]
  },
  {
   "cell_type": "code",
   "execution_count": 13,
   "id": "6743d785",
   "metadata": {},
   "outputs": [],
   "source": [
    "scheduel = pd.read_csv(\"GTFS/stop_times.txt\")\n",
    "stops = pd.read_csv(\"GTFS/stops.txt\")\n",
    "trips = pd.read_csv(\"GTFS/trips.txt\")\n",
    "route = pd.read_csv(\"GTFS/routes.txt\")"
   ]
  },
  {
   "cell_type": "code",
   "execution_count": 14,
   "id": "986e8050",
   "metadata": {},
   "outputs": [],
   "source": [
    "scheduel[['route_id', 'Hour', 'minute']] = scheduel['trip_id'].str.split('_', expand=True)"
   ]
  },
  {
   "cell_type": "code",
   "execution_count": 15,
   "id": "8e5fd8cc",
   "metadata": {},
   "outputs": [],
   "source": [
    "routename = '717AUP'"
   ]
  },
  {
   "cell_type": "code",
   "execution_count": 16,
   "id": "7aa7c930",
   "metadata": {},
   "outputs": [
    {
     "data": {
      "text/html": [
       "<div>\n",
       "<style scoped>\n",
       "    .dataframe tbody tr th:only-of-type {\n",
       "        vertical-align: middle;\n",
       "    }\n",
       "\n",
       "    .dataframe tbody tr th {\n",
       "        vertical-align: top;\n",
       "    }\n",
       "\n",
       "    .dataframe thead th {\n",
       "        text-align: right;\n",
       "    }\n",
       "</style>\n",
       "<table border=\"1\" class=\"dataframe\">\n",
       "  <thead>\n",
       "    <tr style=\"text-align: right;\">\n",
       "      <th></th>\n",
       "      <th>route_short_name</th>\n",
       "      <th>route_long_name</th>\n",
       "      <th>route_type</th>\n",
       "      <th>route_id</th>\n",
       "      <th>agency_id</th>\n",
       "    </tr>\n",
       "  </thead>\n",
       "  <tbody>\n",
       "    <tr>\n",
       "      <th>141</th>\n",
       "      <td>NaN</td>\n",
       "      <td>717AUP</td>\n",
       "      <td>3</td>\n",
       "      <td>141</td>\n",
       "      <td>DIMTS</td>\n",
       "    </tr>\n",
       "  </tbody>\n",
       "</table>\n",
       "</div>"
      ],
      "text/plain": [
       "     route_short_name route_long_name  route_type  route_id agency_id\n",
       "141               NaN          717AUP           3       141     DIMTS"
      ]
     },
     "execution_count": 16,
     "metadata": {},
     "output_type": "execute_result"
    }
   ],
   "source": [
    "route[route[\"route_long_name\"] == routename]"
   ]
  },
  {
   "cell_type": "code",
   "execution_count": 17,
   "id": "4f07da66",
   "metadata": {},
   "outputs": [],
   "source": [
    "# route[route[\"route_long_name\"] == routename].route_id.values"
   ]
  },
  {
   "cell_type": "code",
   "execution_count": 18,
   "id": "2467b088",
   "metadata": {},
   "outputs": [
    {
     "name": "stdout",
     "output_type": "stream",
     "text": [
      "Route id is =  141\n"
     ]
    }
   ],
   "source": [
    "routeid = route[route[\"route_long_name\"] == routename].route_id.values[0]\n",
    "route[route[\"route_long_name\"] == routename]\n",
    "print(\"Route id is = \",routeid)"
   ]
  },
  {
   "cell_type": "code",
   "execution_count": 19,
   "id": "6e6c1b30",
   "metadata": {},
   "outputs": [
    {
     "data": {
      "text/html": [
       "<div>\n",
       "<style scoped>\n",
       "    .dataframe tbody tr th:only-of-type {\n",
       "        vertical-align: middle;\n",
       "    }\n",
       "\n",
       "    .dataframe tbody tr th {\n",
       "        vertical-align: top;\n",
       "    }\n",
       "\n",
       "    .dataframe thead th {\n",
       "        text-align: right;\n",
       "    }\n",
       "</style>\n",
       "<table border=\"1\" class=\"dataframe\">\n",
       "  <thead>\n",
       "    <tr style=\"text-align: right;\">\n",
       "      <th></th>\n",
       "      <th>trip_id</th>\n",
       "      <th>arrival_time</th>\n",
       "      <th>departure_time</th>\n",
       "      <th>stop_id</th>\n",
       "      <th>stop_sequence</th>\n",
       "      <th>route_id</th>\n",
       "      <th>Hour</th>\n",
       "      <th>minute</th>\n",
       "    </tr>\n",
       "  </thead>\n",
       "  <tbody>\n",
       "    <tr>\n",
       "      <th>182626</th>\n",
       "      <td>141_06_00</td>\n",
       "      <td>06:00:00</td>\n",
       "      <td>06:00:00</td>\n",
       "      <td>937</td>\n",
       "      <td>0</td>\n",
       "      <td>141</td>\n",
       "      <td>06</td>\n",
       "      <td>00</td>\n",
       "    </tr>\n",
       "    <tr>\n",
       "      <th>182627</th>\n",
       "      <td>141_06_00</td>\n",
       "      <td>06:01:36</td>\n",
       "      <td>06:01:36</td>\n",
       "      <td>2388</td>\n",
       "      <td>1</td>\n",
       "      <td>141</td>\n",
       "      <td>06</td>\n",
       "      <td>00</td>\n",
       "    </tr>\n",
       "    <tr>\n",
       "      <th>182628</th>\n",
       "      <td>141_06_00</td>\n",
       "      <td>06:03:19</td>\n",
       "      <td>06:03:19</td>\n",
       "      <td>939</td>\n",
       "      <td>2</td>\n",
       "      <td>141</td>\n",
       "      <td>06</td>\n",
       "      <td>00</td>\n",
       "    </tr>\n",
       "    <tr>\n",
       "      <th>182629</th>\n",
       "      <td>141_06_00</td>\n",
       "      <td>06:05:25</td>\n",
       "      <td>06:05:25</td>\n",
       "      <td>940</td>\n",
       "      <td>3</td>\n",
       "      <td>141</td>\n",
       "      <td>06</td>\n",
       "      <td>00</td>\n",
       "    </tr>\n",
       "    <tr>\n",
       "      <th>182630</th>\n",
       "      <td>141_06_00</td>\n",
       "      <td>06:07:05</td>\n",
       "      <td>06:07:05</td>\n",
       "      <td>941</td>\n",
       "      <td>4</td>\n",
       "      <td>141</td>\n",
       "      <td>06</td>\n",
       "      <td>00</td>\n",
       "    </tr>\n",
       "    <tr>\n",
       "      <th>...</th>\n",
       "      <td>...</td>\n",
       "      <td>...</td>\n",
       "      <td>...</td>\n",
       "      <td>...</td>\n",
       "      <td>...</td>\n",
       "      <td>...</td>\n",
       "      <td>...</td>\n",
       "      <td>...</td>\n",
       "    </tr>\n",
       "    <tr>\n",
       "      <th>187717</th>\n",
       "      <td>141_22_10</td>\n",
       "      <td>24:01:12</td>\n",
       "      <td>24:01:12</td>\n",
       "      <td>1696</td>\n",
       "      <td>47</td>\n",
       "      <td>141</td>\n",
       "      <td>22</td>\n",
       "      <td>10</td>\n",
       "    </tr>\n",
       "    <tr>\n",
       "      <th>187718</th>\n",
       "      <td>141_22_10</td>\n",
       "      <td>24:02:41</td>\n",
       "      <td>24:02:41</td>\n",
       "      <td>1697</td>\n",
       "      <td>48</td>\n",
       "      <td>141</td>\n",
       "      <td>22</td>\n",
       "      <td>10</td>\n",
       "    </tr>\n",
       "    <tr>\n",
       "      <th>187719</th>\n",
       "      <td>141_22_10</td>\n",
       "      <td>24:05:34</td>\n",
       "      <td>24:05:34</td>\n",
       "      <td>1698</td>\n",
       "      <td>49</td>\n",
       "      <td>141</td>\n",
       "      <td>22</td>\n",
       "      <td>10</td>\n",
       "    </tr>\n",
       "    <tr>\n",
       "      <th>187720</th>\n",
       "      <td>141_22_10</td>\n",
       "      <td>24:08:18</td>\n",
       "      <td>24:08:18</td>\n",
       "      <td>1699</td>\n",
       "      <td>50</td>\n",
       "      <td>141</td>\n",
       "      <td>22</td>\n",
       "      <td>10</td>\n",
       "    </tr>\n",
       "    <tr>\n",
       "      <th>187721</th>\n",
       "      <td>141_22_10</td>\n",
       "      <td>24:08:40</td>\n",
       "      <td>24:08:40</td>\n",
       "      <td>1700</td>\n",
       "      <td>51</td>\n",
       "      <td>141</td>\n",
       "      <td>22</td>\n",
       "      <td>10</td>\n",
       "    </tr>\n",
       "  </tbody>\n",
       "</table>\n",
       "<p>5096 rows × 8 columns</p>\n",
       "</div>"
      ],
      "text/plain": [
       "          trip_id arrival_time departure_time  stop_id  stop_sequence  \\\n",
       "182626  141_06_00     06:00:00       06:00:00      937              0   \n",
       "182627  141_06_00     06:01:36       06:01:36     2388              1   \n",
       "182628  141_06_00     06:03:19       06:03:19      939              2   \n",
       "182629  141_06_00     06:05:25       06:05:25      940              3   \n",
       "182630  141_06_00     06:07:05       06:07:05      941              4   \n",
       "...           ...          ...            ...      ...            ...   \n",
       "187717  141_22_10     24:01:12       24:01:12     1696             47   \n",
       "187718  141_22_10     24:02:41       24:02:41     1697             48   \n",
       "187719  141_22_10     24:05:34       24:05:34     1698             49   \n",
       "187720  141_22_10     24:08:18       24:08:18     1699             50   \n",
       "187721  141_22_10     24:08:40       24:08:40     1700             51   \n",
       "\n",
       "       route_id Hour minute  \n",
       "182626      141   06     00  \n",
       "182627      141   06     00  \n",
       "182628      141   06     00  \n",
       "182629      141   06     00  \n",
       "182630      141   06     00  \n",
       "...         ...  ...    ...  \n",
       "187717      141   22     10  \n",
       "187718      141   22     10  \n",
       "187719      141   22     10  \n",
       "187720      141   22     10  \n",
       "187721      141   22     10  \n",
       "\n",
       "[5096 rows x 8 columns]"
      ]
     },
     "execution_count": 19,
     "metadata": {},
     "output_type": "execute_result"
    }
   ],
   "source": [
    "bus_trip = scheduel[scheduel[\"route_id\"]==str(routeid)]\n",
    "bus_trip"
   ]
  },
  {
   "cell_type": "code",
   "execution_count": 20,
   "id": "9430b206",
   "metadata": {},
   "outputs": [],
   "source": [
    "stopsequence = [i for i in bus_trip[bus_trip[\"trip_id\"]==bus_trip[\"trip_id\"].values[0]][\"stop_id\"].values]"
   ]
  },
  {
   "cell_type": "code",
   "execution_count": 21,
   "id": "e29df50c",
   "metadata": {},
   "outputs": [
    {
     "data": {
      "text/plain": [
       "array(['Badarpur Border', 'Jaitpur Crossing',\n",
       "       'Badarpur M B Road / Rajiv Gandhi Stadium', 'Prehlad Pur',\n",
       "       'Surajkund Crossing', 'Lal Kuan', 'Prem Nagar',\n",
       "       'Tuglaqabad MB Road', 'Kaya Maya Hospital', 'Tughalqabad Village',\n",
       "       'Air Force Station', 'Air Force Station',\n",
       "       'Hamdard Nagar / Sangam Vihar',\n",
       "       'Batra Hospital (Satya Narayan Mandir)', 'Vayu Sena Bad (Tigri)',\n",
       "       'Khanpur Extension / Devli Crossing', 'Ambedkar Nagar Depot',\n",
       "       'Ambedkar Nagar Terminal / DIPSAR', 'Asian Market',\n",
       "       'Saket Crossing', 'Maidan Garhi Crossing (SDM Court)',\n",
       "       'Saket Metro Sation', 'Saidul-A-Jab', 'Dhaula Peer',\n",
       "       'Dhaula Peer / Lado Sarai', 'Ahinsa Sthal',\n",
       "       'Qutub Minar Metro Sation', 'Andheria Bagh More',\n",
       "       'Andheria Bagh More / Chhatarpur Metro Station',\n",
       "       'Vasant Kunj Sec-A Pkt-BC', 'Vasant Kunj Sec-A ILBS',\n",
       "       'Kishan Garh', 'Vasant Kunj Sec-D/3-4', 'Vasant Kunj sec-B1',\n",
       "       'Masood Pur Village', 'Masood Pur Dairy',\n",
       "       'Kathuria Public School (Sai Darbar Mandir)',\n",
       "       'ISIC Hospital (Verma farm)', 'Vasant Kunj Sec-C-8',\n",
       "       'Rang Puri Pahari', 'Mahipal Pur Village', 'Mahipal Pur Village',\n",
       "       'Mahipal Pur Crossing', 'Rangpuri', 'Shiv Murti',\n",
       "       'Rajokari Crossing', 'Shiv Murti / Dwarka More',\n",
       "       'Samalkha Crossing', 'Samalkha Village', 'Kapashera Crossing',\n",
       "       'Kapashera Village', 'Kapashera Border'], dtype=object)"
      ]
     },
     "execution_count": 21,
     "metadata": {},
     "output_type": "execute_result"
    }
   ],
   "source": [
    "stop_order = pd.DataFrame(columns=stops.columns)\n",
    "for i in stopsequence:\n",
    "    a = stops[stops[\"stop_id\"]==i].values[0]\n",
    "    stop_order.loc[len(stop_order.index)] = a\n",
    "\n",
    "trip_stops_names = stop_order['stop_name'].values\n",
    "trip_stops_names"
   ]
  },
  {
   "cell_type": "code",
   "execution_count": 22,
   "id": "09347063",
   "metadata": {},
   "outputs": [
    {
     "data": {
      "text/html": [
       "<div>\n",
       "<style scoped>\n",
       "    .dataframe tbody tr th:only-of-type {\n",
       "        vertical-align: middle;\n",
       "    }\n",
       "\n",
       "    .dataframe tbody tr th {\n",
       "        vertical-align: top;\n",
       "    }\n",
       "\n",
       "    .dataframe thead th {\n",
       "        text-align: right;\n",
       "    }\n",
       "</style>\n",
       "<table border=\"1\" class=\"dataframe\">\n",
       "  <thead>\n",
       "    <tr style=\"text-align: right;\">\n",
       "      <th></th>\n",
       "      <th>stop_id</th>\n",
       "      <th>stop_code</th>\n",
       "      <th>stop_name</th>\n",
       "      <th>stop_lat</th>\n",
       "      <th>stop_lon</th>\n",
       "      <th>zone_id</th>\n",
       "    </tr>\n",
       "  </thead>\n",
       "  <tbody>\n",
       "    <tr>\n",
       "      <th>106</th>\n",
       "      <td>106</td>\n",
       "      <td>DC3772</td>\n",
       "      <td>Prem Nagar</td>\n",
       "      <td>28.742883</td>\n",
       "      <td>77.146467</td>\n",
       "      <td>106</td>\n",
       "    </tr>\n",
       "    <tr>\n",
       "      <th>168</th>\n",
       "      <td>168</td>\n",
       "      <td>U00538</td>\n",
       "      <td>Prem Nagar</td>\n",
       "      <td>28.622110</td>\n",
       "      <td>77.056846</td>\n",
       "      <td>168</td>\n",
       "    </tr>\n",
       "    <tr>\n",
       "      <th>477</th>\n",
       "      <td>477</td>\n",
       "      <td>U03321</td>\n",
       "      <td>Prem Nagar</td>\n",
       "      <td>28.504400</td>\n",
       "      <td>77.279300</td>\n",
       "      <td>477</td>\n",
       "    </tr>\n",
       "    <tr>\n",
       "      <th>478</th>\n",
       "      <td>478</td>\n",
       "      <td>U03366</td>\n",
       "      <td>Lal Kuan</td>\n",
       "      <td>28.502600</td>\n",
       "      <td>77.284517</td>\n",
       "      <td>478</td>\n",
       "    </tr>\n",
       "    <tr>\n",
       "      <th>479</th>\n",
       "      <td>479</td>\n",
       "      <td>U03435</td>\n",
       "      <td>Surajkund Crossing</td>\n",
       "      <td>28.501700</td>\n",
       "      <td>77.291000</td>\n",
       "      <td>479</td>\n",
       "    </tr>\n",
       "    <tr>\n",
       "      <th>...</th>\n",
       "      <td>...</td>\n",
       "      <td>...</td>\n",
       "      <td>...</td>\n",
       "      <td>...</td>\n",
       "      <td>...</td>\n",
       "      <td>...</td>\n",
       "    </tr>\n",
       "    <tr>\n",
       "      <th>3865</th>\n",
       "      <td>4002</td>\n",
       "      <td>NS0189</td>\n",
       "      <td>Mahipal Pur Village</td>\n",
       "      <td>28.545667</td>\n",
       "      <td>77.123083</td>\n",
       "      <td>4002</td>\n",
       "    </tr>\n",
       "    <tr>\n",
       "      <th>3866</th>\n",
       "      <td>4003</td>\n",
       "      <td>U00943</td>\n",
       "      <td>Rajokari Crossing</td>\n",
       "      <td>28.522767</td>\n",
       "      <td>77.098683</td>\n",
       "      <td>4003</td>\n",
       "    </tr>\n",
       "    <tr>\n",
       "      <th>3940</th>\n",
       "      <td>4082</td>\n",
       "      <td>U02383</td>\n",
       "      <td>Maidan Garhi Crossing (SDM Court)</td>\n",
       "      <td>28.519550</td>\n",
       "      <td>77.207800</td>\n",
       "      <td>4082</td>\n",
       "    </tr>\n",
       "    <tr>\n",
       "      <th>3983</th>\n",
       "      <td>4129</td>\n",
       "      <td>U01071A</td>\n",
       "      <td>Shiv Murti</td>\n",
       "      <td>28.536033</td>\n",
       "      <td>77.111900</td>\n",
       "      <td>4129</td>\n",
       "    </tr>\n",
       "    <tr>\n",
       "      <th>4177</th>\n",
       "      <td>4332</td>\n",
       "      <td>DC3572</td>\n",
       "      <td>Prem Nagar</td>\n",
       "      <td>28.622110</td>\n",
       "      <td>77.056846</td>\n",
       "      <td>4332</td>\n",
       "    </tr>\n",
       "  </tbody>\n",
       "</table>\n",
       "<p>100 rows × 6 columns</p>\n",
       "</div>"
      ],
      "text/plain": [
       "      stop_id stop_code                          stop_name   stop_lat  \\\n",
       "106       106    DC3772                         Prem Nagar  28.742883   \n",
       "168       168    U00538                         Prem Nagar  28.622110   \n",
       "477       477    U03321                         Prem Nagar  28.504400   \n",
       "478       478    U03366                           Lal Kuan  28.502600   \n",
       "479       479    U03435                 Surajkund Crossing  28.501700   \n",
       "...       ...       ...                                ...        ...   \n",
       "3865     4002    NS0189                Mahipal Pur Village  28.545667   \n",
       "3866     4003    U00943                  Rajokari Crossing  28.522767   \n",
       "3940     4082    U02383  Maidan Garhi Crossing (SDM Court)  28.519550   \n",
       "3983     4129   U01071A                         Shiv Murti  28.536033   \n",
       "4177     4332    DC3572                         Prem Nagar  28.622110   \n",
       "\n",
       "       stop_lon  zone_id  \n",
       "106   77.146467      106  \n",
       "168   77.056846      168  \n",
       "477   77.279300      477  \n",
       "478   77.284517      478  \n",
       "479   77.291000      479  \n",
       "...         ...      ...  \n",
       "3865  77.123083     4002  \n",
       "3866  77.098683     4003  \n",
       "3940  77.207800     4082  \n",
       "3983  77.111900     4129  \n",
       "4177  77.056846     4332  \n",
       "\n",
       "[100 rows x 6 columns]"
      ]
     },
     "execution_count": 22,
     "metadata": {},
     "output_type": "execute_result"
    }
   ],
   "source": [
    "stop_latlong = stops[stops['stop_name'].isin(trip_stops_names)]\n",
    "stop_latlong"
   ]
  },
  {
   "cell_type": "code",
   "execution_count": 29,
   "id": "d02d960a",
   "metadata": {},
   "outputs": [],
   "source": [
    "# route_origin_etm = route_data_pd[\"ROUTE_ORIGIN_STOP\"].unique()\n",
    "# route_origin_etm"
   ]
  },
  {
   "cell_type": "code",
   "execution_count": 30,
   "id": "a4dec805",
   "metadata": {},
   "outputs": [],
   "source": [
    "# route_dest_etm = route_data_pd[\"ROUTE_DESTINATION_STOP\"].unique()\n",
    "# route_dest_etm"
   ]
  },
  {
   "cell_type": "code",
   "execution_count": 31,
   "id": "defd837d",
   "metadata": {},
   "outputs": [],
   "source": [
    "# d_origin = {'Andheria More': 'Andheria Bagh More',\n",
    "#             'Badarpur Border':'Badarpur Border',\n",
    "#             'Dr Ambedkar Nagar Terminal':'Ambedkar Nagar Terminal / DIPSAR',\n",
    "#             'Hamdard Nagar':'Hamdard Nagar / Sangam Vihar',\n",
    "#             'Kapshera X-Ing':'Kapashera Crossing',\n",
    "#             'Kishan Garh':'Kishan Garh',\n",
    "#             'Lado Sarai':'Dhaula Peer / Lado Sarai',\n",
    "#             'Mahipal Pur Village':'Mahipal Pur Village',\n",
    "#             'Prahlad Pur':'Prehlad Pur',\n",
    "#             'Rajokri crossing':'Rajokari Crossing',\n",
    "#             'Saidulajab':'Saidul-A-Jab',\n",
    "#             'Samalkha village':'Samalkha Village',\n",
    "#             'Shiv Murti':'Shiv Murti',\n",
    "#             'Shiv Murti II NH-8':'Shiv Murti / Dwarka More',\n",
    "#             'Tuglkabad Village':'Tughalqabad Village',\n",
    "#             'Verma Farm':'ISIC Hospital (Verma farm)'\n",
    "#            }"
   ]
  },
  {
   "cell_type": "code",
   "execution_count": 32,
   "id": "d1eeb8a8",
   "metadata": {},
   "outputs": [],
   "source": [
    "# d_destin = {'Kapashera Border':'Kapashera Border',\n",
    "#             'Kishan Garh':'Kishan Garh',\n",
    "#             'Rajokri crossing':'Rajokari Crossing',\n",
    "#             'Verma Farm':'ISIC Hospital (Verma farm)',\n",
    "#             'Andheria More':'Andheria Bagh More',\n",
    "#             'Dr Ambedkar Nagar Terminal':'Ambedkar Nagar Terminal / DIPSAR',\n",
    "#             'Hamdard Nagar':'Hamdard Nagar / Sangam Vihar',\n",
    "#             'Lado Sarai':'Dhaula Peer / Lado Sarai',\n",
    "#             'Prahlad Pur':'Prehlad Pur',\n",
    "#             'Saidulajab':'Saidul-A-Jab',\n",
    "#             'Tuglkabad Village':'Tughalqabad Village',\n",
    "#             'Mahipal Pur Village':'Mahipal Pur Village',\n",
    "#             'Shiv Murti II NH-8':'Shiv Murti / Dwarka More',\n",
    "#             'Shiv Murti':'Shiv Murti', \n",
    "#             'Kapshera X-Ing':'Kapashera Crossing', \n",
    "#             'Samalkha village':'Samalkha Village'\n",
    "#            }"
   ]
  },
  {
   "cell_type": "code",
   "execution_count": 33,
   "id": "815999ee",
   "metadata": {},
   "outputs": [],
   "source": [
    "# route_data_pd['ROUTE_ORIGIN_STOP'] = route_data_pd['ROUTE_ORIGIN_STOP'].map(d_origin)"
   ]
  },
  {
   "cell_type": "code",
   "execution_count": 34,
   "id": "1ab8d972",
   "metadata": {},
   "outputs": [],
   "source": [
    "# route_data_pd['ROUTE_DESTINATION_STOP'] = route_data_pd['ROUTE_DESTINATION_STOP'].map(d_destin)"
   ]
  },
  {
   "cell_type": "code",
   "execution_count": 23,
   "id": "49c4ae6b",
   "metadata": {},
   "outputs": [
    {
     "data": {
      "text/html": [
       "<div>\n",
       "<style scoped>\n",
       "    .dataframe tbody tr th:only-of-type {\n",
       "        vertical-align: middle;\n",
       "    }\n",
       "\n",
       "    .dataframe tbody tr th {\n",
       "        vertical-align: top;\n",
       "    }\n",
       "\n",
       "    .dataframe thead th {\n",
       "        text-align: right;\n",
       "    }\n",
       "</style>\n",
       "<table border=\"1\" class=\"dataframe\">\n",
       "  <thead>\n",
       "    <tr style=\"text-align: right;\">\n",
       "      <th></th>\n",
       "      <th>MESSAGE_ID</th>\n",
       "      <th>TRIP_ID</th>\n",
       "      <th>ROUTENAME</th>\n",
       "      <th>BUS_ID</th>\n",
       "      <th>ROUTE_ORIGIN_STOP</th>\n",
       "      <th>ROUTE_DESTINATION_STOP</th>\n",
       "      <th>TRIP_START_TIME</th>\n",
       "      <th>TRIP_END_TIME</th>\n",
       "      <th>AMOUNT</th>\n",
       "      <th>USER_COUNT</th>\n",
       "      <th>TICKET DATE</th>\n",
       "      <th>TICKET TIME</th>\n",
       "      <th>date_time</th>\n",
       "      <th>ticket_date</th>\n",
       "      <th>Day</th>\n",
       "      <th>Hour</th>\n",
       "      <th>Month</th>\n",
       "      <th>Origin_cordinates</th>\n",
       "      <th>Dest_cordinates</th>\n",
       "    </tr>\n",
       "  </thead>\n",
       "  <tbody>\n",
       "    <tr>\n",
       "      <th>0</th>\n",
       "      <td>12695010919065107</td>\n",
       "      <td>T12695010919061902</td>\n",
       "      <td>717AUP</td>\n",
       "      <td>DL1PC6341</td>\n",
       "      <td>Andheria Bagh More</td>\n",
       "      <td>Kapashera Border</td>\n",
       "      <td>01-SEP-2019 06:19:46</td>\n",
       "      <td>01-SEP-2019 07:19:28</td>\n",
       "      <td>15</td>\n",
       "      <td>1</td>\n",
       "      <td>01/09/2019</td>\n",
       "      <td>06:51:55</td>\n",
       "      <td>2019-09-01 06:51:55</td>\n",
       "      <td>2019-09-01</td>\n",
       "      <td>Sunday</td>\n",
       "      <td>6</td>\n",
       "      <td>9</td>\n",
       "      <td>(28.509217, 77.178967)</td>\n",
       "      <td>(28.522481, 77.082442)</td>\n",
       "    </tr>\n",
       "    <tr>\n",
       "      <th>1</th>\n",
       "      <td>12420010919084834</td>\n",
       "      <td>T12420010919074802</td>\n",
       "      <td>717AUP</td>\n",
       "      <td>DL1PC6354</td>\n",
       "      <td>Andheria Bagh More</td>\n",
       "      <td>Kapashera Border</td>\n",
       "      <td>01-SEP-2019 07:48:00</td>\n",
       "      <td>01-SEP-2019 09:26:48</td>\n",
       "      <td>15</td>\n",
       "      <td>1</td>\n",
       "      <td>01/09/2019</td>\n",
       "      <td>08:48:17</td>\n",
       "      <td>2019-09-01 08:48:17</td>\n",
       "      <td>2019-09-01</td>\n",
       "      <td>Sunday</td>\n",
       "      <td>8</td>\n",
       "      <td>9</td>\n",
       "      <td>(28.509217, 77.178967)</td>\n",
       "      <td>(28.522481, 77.082442)</td>\n",
       "    </tr>\n",
       "    <tr>\n",
       "      <th>2</th>\n",
       "      <td>12420010919084835</td>\n",
       "      <td>T12420010919074802</td>\n",
       "      <td>717AUP</td>\n",
       "      <td>DL1PC6354</td>\n",
       "      <td>Andheria Bagh More</td>\n",
       "      <td>Kapashera Border</td>\n",
       "      <td>01-SEP-2019 07:48:00</td>\n",
       "      <td>01-SEP-2019 09:26:48</td>\n",
       "      <td>15</td>\n",
       "      <td>1</td>\n",
       "      <td>01/09/2019</td>\n",
       "      <td>08:48:19</td>\n",
       "      <td>2019-09-01 08:48:19</td>\n",
       "      <td>2019-09-01</td>\n",
       "      <td>Sunday</td>\n",
       "      <td>8</td>\n",
       "      <td>9</td>\n",
       "      <td>(28.509217, 77.178967)</td>\n",
       "      <td>(28.522481, 77.082442)</td>\n",
       "    </tr>\n",
       "    <tr>\n",
       "      <th>3</th>\n",
       "      <td>12678010919095238</td>\n",
       "      <td>T12678010919084802</td>\n",
       "      <td>717AUP</td>\n",
       "      <td>DL1PC6308</td>\n",
       "      <td>Andheria Bagh More</td>\n",
       "      <td>Kapashera Border</td>\n",
       "      <td>01-SEP-2019 08:48:17</td>\n",
       "      <td>01-SEP-2019 10:34:02</td>\n",
       "      <td>15</td>\n",
       "      <td>1</td>\n",
       "      <td>01/09/2019</td>\n",
       "      <td>09:52:32</td>\n",
       "      <td>2019-09-01 09:52:32</td>\n",
       "      <td>2019-09-01</td>\n",
       "      <td>Sunday</td>\n",
       "      <td>9</td>\n",
       "      <td>9</td>\n",
       "      <td>(28.509217, 77.178967)</td>\n",
       "      <td>(28.522481, 77.082442)</td>\n",
       "    </tr>\n",
       "    <tr>\n",
       "      <th>4</th>\n",
       "      <td>10592010919093428</td>\n",
       "      <td>T10592010919083602</td>\n",
       "      <td>717AUP</td>\n",
       "      <td>DL1P6359</td>\n",
       "      <td>Andheria Bagh More</td>\n",
       "      <td>Kapashera Border</td>\n",
       "      <td>01-SEP-2019 08:36:05</td>\n",
       "      <td>01-SEP-2019 10:10:08</td>\n",
       "      <td>15</td>\n",
       "      <td>1</td>\n",
       "      <td>01/09/2019</td>\n",
       "      <td>09:34:44</td>\n",
       "      <td>2019-09-01 09:34:44</td>\n",
       "      <td>2019-09-01</td>\n",
       "      <td>Sunday</td>\n",
       "      <td>9</td>\n",
       "      <td>9</td>\n",
       "      <td>(28.509217, 77.178967)</td>\n",
       "      <td>(28.522481, 77.082442)</td>\n",
       "    </tr>\n",
       "    <tr>\n",
       "      <th>...</th>\n",
       "      <td>...</td>\n",
       "      <td>...</td>\n",
       "      <td>...</td>\n",
       "      <td>...</td>\n",
       "      <td>...</td>\n",
       "      <td>...</td>\n",
       "      <td>...</td>\n",
       "      <td>...</td>\n",
       "      <td>...</td>\n",
       "      <td>...</td>\n",
       "      <td>...</td>\n",
       "      <td>...</td>\n",
       "      <td>...</td>\n",
       "      <td>...</td>\n",
       "      <td>...</td>\n",
       "      <td>...</td>\n",
       "      <td>...</td>\n",
       "      <td>...</td>\n",
       "      <td>...</td>\n",
       "    </tr>\n",
       "    <tr>\n",
       "      <th>1393478</th>\n",
       "      <td>11333291219103256</td>\n",
       "      <td>T11333291219102504</td>\n",
       "      <td>717AUP</td>\n",
       "      <td>DL1PC6350</td>\n",
       "      <td>Badarpur Border</td>\n",
       "      <td>Kapashera Border</td>\n",
       "      <td>29-DEC-2019 10:25:06</td>\n",
       "      <td>29-DEC-2019 11:51:02</td>\n",
       "      <td>15</td>\n",
       "      <td>1</td>\n",
       "      <td>29/12/2019</td>\n",
       "      <td>10:32:27</td>\n",
       "      <td>2019-12-29 10:32:27</td>\n",
       "      <td>2019-12-29</td>\n",
       "      <td>Sunday</td>\n",
       "      <td>10</td>\n",
       "      <td>12</td>\n",
       "      <td>(28.4927, 77.30381700000002)</td>\n",
       "      <td>(28.522481, 77.082442)</td>\n",
       "    </tr>\n",
       "    <tr>\n",
       "      <th>1393479</th>\n",
       "      <td>11333291219103257</td>\n",
       "      <td>T11333291219102504</td>\n",
       "      <td>717AUP</td>\n",
       "      <td>DL1PC6350</td>\n",
       "      <td>Badarpur Border</td>\n",
       "      <td>Tughalqabad Village</td>\n",
       "      <td>29-DEC-2019 10:25:06</td>\n",
       "      <td>29-DEC-2019 11:51:02</td>\n",
       "      <td>5</td>\n",
       "      <td>1</td>\n",
       "      <td>29/12/2019</td>\n",
       "      <td>10:32:31</td>\n",
       "      <td>2019-12-29 10:32:31</td>\n",
       "      <td>2019-12-29</td>\n",
       "      <td>Sunday</td>\n",
       "      <td>10</td>\n",
       "      <td>12</td>\n",
       "      <td>(28.4927, 77.30381700000002)</td>\n",
       "      <td>(28.509067, 77.265117)</td>\n",
       "    </tr>\n",
       "    <tr>\n",
       "      <th>1393480</th>\n",
       "      <td>11311291219201613</td>\n",
       "      <td>T11311291219185703</td>\n",
       "      <td>717AUP</td>\n",
       "      <td>DL1PC 6357</td>\n",
       "      <td>Hamdard Nagar / Sangam Vihar</td>\n",
       "      <td>Kapashera Border</td>\n",
       "      <td>29-DEC-2019 18:57:26</td>\n",
       "      <td>29-DEC-2019 21:17:04</td>\n",
       "      <td>15</td>\n",
       "      <td>1</td>\n",
       "      <td>29/12/2019</td>\n",
       "      <td>20:16:45</td>\n",
       "      <td>2019-12-29 20:16:45</td>\n",
       "      <td>2019-12-29</td>\n",
       "      <td>Sunday</td>\n",
       "      <td>20</td>\n",
       "      <td>12</td>\n",
       "      <td>(28.512167, 77.248667)</td>\n",
       "      <td>(28.522481, 77.082442)</td>\n",
       "    </tr>\n",
       "    <tr>\n",
       "      <th>1393481</th>\n",
       "      <td>11311291219202124</td>\n",
       "      <td>T11311291219185703</td>\n",
       "      <td>717AUP</td>\n",
       "      <td>DL1PC 6357</td>\n",
       "      <td>Hamdard Nagar / Sangam Vihar</td>\n",
       "      <td>Kishan Garh</td>\n",
       "      <td>29-DEC-2019 18:57:26</td>\n",
       "      <td>29-DEC-2019 21:17:04</td>\n",
       "      <td>10</td>\n",
       "      <td>1</td>\n",
       "      <td>29/12/2019</td>\n",
       "      <td>20:21:08</td>\n",
       "      <td>2019-12-29 20:21:08</td>\n",
       "      <td>2019-12-29</td>\n",
       "      <td>Sunday</td>\n",
       "      <td>20</td>\n",
       "      <td>12</td>\n",
       "      <td>(28.512167, 77.248667)</td>\n",
       "      <td>(28.514366, 77.16415500000002)</td>\n",
       "    </tr>\n",
       "    <tr>\n",
       "      <th>1393482</th>\n",
       "      <td>11311291219205100</td>\n",
       "      <td>T11311291219185703</td>\n",
       "      <td>717AUP</td>\n",
       "      <td>DL1PC 6357</td>\n",
       "      <td>Kishan Garh</td>\n",
       "      <td>Kapashera Border</td>\n",
       "      <td>29-DEC-2019 18:57:26</td>\n",
       "      <td>29-DEC-2019 21:17:04</td>\n",
       "      <td>15</td>\n",
       "      <td>1</td>\n",
       "      <td>29/12/2019</td>\n",
       "      <td>20:51:12</td>\n",
       "      <td>2019-12-29 20:51:12</td>\n",
       "      <td>2019-12-29</td>\n",
       "      <td>Sunday</td>\n",
       "      <td>20</td>\n",
       "      <td>12</td>\n",
       "      <td>(28.514366, 77.16415500000002)</td>\n",
       "      <td>(28.522481, 77.082442)</td>\n",
       "    </tr>\n",
       "  </tbody>\n",
       "</table>\n",
       "<p>1393483 rows × 19 columns</p>\n",
       "</div>"
      ],
      "text/plain": [
       "                MESSAGE_ID             TRIP_ID ROUTENAME      BUS_ID  \\\n",
       "0        12695010919065107  T12695010919061902    717AUP   DL1PC6341   \n",
       "1        12420010919084834  T12420010919074802    717AUP   DL1PC6354   \n",
       "2        12420010919084835  T12420010919074802    717AUP   DL1PC6354   \n",
       "3        12678010919095238  T12678010919084802    717AUP   DL1PC6308   \n",
       "4        10592010919093428  T10592010919083602    717AUP    DL1P6359   \n",
       "...                    ...                 ...       ...         ...   \n",
       "1393478  11333291219103256  T11333291219102504    717AUP   DL1PC6350   \n",
       "1393479  11333291219103257  T11333291219102504    717AUP   DL1PC6350   \n",
       "1393480  11311291219201613  T11311291219185703    717AUP  DL1PC 6357   \n",
       "1393481  11311291219202124  T11311291219185703    717AUP  DL1PC 6357   \n",
       "1393482  11311291219205100  T11311291219185703    717AUP  DL1PC 6357   \n",
       "\n",
       "                    ROUTE_ORIGIN_STOP ROUTE_DESTINATION_STOP  \\\n",
       "0                  Andheria Bagh More       Kapashera Border   \n",
       "1                  Andheria Bagh More       Kapashera Border   \n",
       "2                  Andheria Bagh More       Kapashera Border   \n",
       "3                  Andheria Bagh More       Kapashera Border   \n",
       "4                  Andheria Bagh More       Kapashera Border   \n",
       "...                               ...                    ...   \n",
       "1393478               Badarpur Border       Kapashera Border   \n",
       "1393479               Badarpur Border    Tughalqabad Village   \n",
       "1393480  Hamdard Nagar / Sangam Vihar       Kapashera Border   \n",
       "1393481  Hamdard Nagar / Sangam Vihar            Kishan Garh   \n",
       "1393482                   Kishan Garh       Kapashera Border   \n",
       "\n",
       "              TRIP_START_TIME         TRIP_END_TIME  AMOUNT  USER_COUNT  \\\n",
       "0        01-SEP-2019 06:19:46  01-SEP-2019 07:19:28      15           1   \n",
       "1        01-SEP-2019 07:48:00  01-SEP-2019 09:26:48      15           1   \n",
       "2        01-SEP-2019 07:48:00  01-SEP-2019 09:26:48      15           1   \n",
       "3        01-SEP-2019 08:48:17  01-SEP-2019 10:34:02      15           1   \n",
       "4        01-SEP-2019 08:36:05  01-SEP-2019 10:10:08      15           1   \n",
       "...                       ...                   ...     ...         ...   \n",
       "1393478  29-DEC-2019 10:25:06  29-DEC-2019 11:51:02      15           1   \n",
       "1393479  29-DEC-2019 10:25:06  29-DEC-2019 11:51:02       5           1   \n",
       "1393480  29-DEC-2019 18:57:26  29-DEC-2019 21:17:04      15           1   \n",
       "1393481  29-DEC-2019 18:57:26  29-DEC-2019 21:17:04      10           1   \n",
       "1393482  29-DEC-2019 18:57:26  29-DEC-2019 21:17:04      15           1   \n",
       "\n",
       "        TICKET DATE TICKET TIME           date_time ticket_date     Day  Hour  \\\n",
       "0        01/09/2019    06:51:55 2019-09-01 06:51:55  2019-09-01  Sunday     6   \n",
       "1        01/09/2019    08:48:17 2019-09-01 08:48:17  2019-09-01  Sunday     8   \n",
       "2        01/09/2019    08:48:19 2019-09-01 08:48:19  2019-09-01  Sunday     8   \n",
       "3        01/09/2019    09:52:32 2019-09-01 09:52:32  2019-09-01  Sunday     9   \n",
       "4        01/09/2019    09:34:44 2019-09-01 09:34:44  2019-09-01  Sunday     9   \n",
       "...             ...         ...                 ...         ...     ...   ...   \n",
       "1393478  29/12/2019    10:32:27 2019-12-29 10:32:27  2019-12-29  Sunday    10   \n",
       "1393479  29/12/2019    10:32:31 2019-12-29 10:32:31  2019-12-29  Sunday    10   \n",
       "1393480  29/12/2019    20:16:45 2019-12-29 20:16:45  2019-12-29  Sunday    20   \n",
       "1393481  29/12/2019    20:21:08 2019-12-29 20:21:08  2019-12-29  Sunday    20   \n",
       "1393482  29/12/2019    20:51:12 2019-12-29 20:51:12  2019-12-29  Sunday    20   \n",
       "\n",
       "         Month               Origin_cordinates                 Dest_cordinates  \n",
       "0            9          (28.509217, 77.178967)          (28.522481, 77.082442)  \n",
       "1            9          (28.509217, 77.178967)          (28.522481, 77.082442)  \n",
       "2            9          (28.509217, 77.178967)          (28.522481, 77.082442)  \n",
       "3            9          (28.509217, 77.178967)          (28.522481, 77.082442)  \n",
       "4            9          (28.509217, 77.178967)          (28.522481, 77.082442)  \n",
       "...        ...                             ...                             ...  \n",
       "1393478     12    (28.4927, 77.30381700000002)          (28.522481, 77.082442)  \n",
       "1393479     12    (28.4927, 77.30381700000002)          (28.509067, 77.265117)  \n",
       "1393480     12          (28.512167, 77.248667)          (28.522481, 77.082442)  \n",
       "1393481     12          (28.512167, 77.248667)  (28.514366, 77.16415500000002)  \n",
       "1393482     12  (28.514366, 77.16415500000002)          (28.522481, 77.082442)  \n",
       "\n",
       "[1393483 rows x 19 columns]"
      ]
     },
     "execution_count": 23,
     "metadata": {},
     "output_type": "execute_result"
    }
   ],
   "source": [
    "route_data_pd"
   ]
  },
  {
   "cell_type": "code",
   "execution_count": 24,
   "id": "af2ddc9c",
   "metadata": {
    "scrolled": true
   },
   "outputs": [
    {
     "data": {
      "text/html": [
       "<div>\n",
       "<style scoped>\n",
       "    .dataframe tbody tr th:only-of-type {\n",
       "        vertical-align: middle;\n",
       "    }\n",
       "\n",
       "    .dataframe tbody tr th {\n",
       "        vertical-align: top;\n",
       "    }\n",
       "\n",
       "    .dataframe thead th {\n",
       "        text-align: right;\n",
       "    }\n",
       "</style>\n",
       "<table border=\"1\" class=\"dataframe\">\n",
       "  <thead>\n",
       "    <tr style=\"text-align: right;\">\n",
       "      <th></th>\n",
       "      <th>stop_name</th>\n",
       "      <th>stop_lat</th>\n",
       "      <th>stop_lon</th>\n",
       "    </tr>\n",
       "  </thead>\n",
       "  <tbody>\n",
       "    <tr>\n",
       "      <th>0</th>\n",
       "      <td>Prem Nagar</td>\n",
       "      <td>28.742883</td>\n",
       "      <td>77.146467</td>\n",
       "    </tr>\n",
       "    <tr>\n",
       "      <th>1</th>\n",
       "      <td>Prem Nagar</td>\n",
       "      <td>28.622110</td>\n",
       "      <td>77.056846</td>\n",
       "    </tr>\n",
       "    <tr>\n",
       "      <th>2</th>\n",
       "      <td>Prem Nagar</td>\n",
       "      <td>28.504400</td>\n",
       "      <td>77.279300</td>\n",
       "    </tr>\n",
       "    <tr>\n",
       "      <th>3</th>\n",
       "      <td>Lal Kuan</td>\n",
       "      <td>28.502600</td>\n",
       "      <td>77.284517</td>\n",
       "    </tr>\n",
       "    <tr>\n",
       "      <th>4</th>\n",
       "      <td>Surajkund Crossing</td>\n",
       "      <td>28.501700</td>\n",
       "      <td>77.291000</td>\n",
       "    </tr>\n",
       "    <tr>\n",
       "      <th>...</th>\n",
       "      <td>...</td>\n",
       "      <td>...</td>\n",
       "      <td>...</td>\n",
       "    </tr>\n",
       "    <tr>\n",
       "      <th>95</th>\n",
       "      <td>Mahipal Pur Village</td>\n",
       "      <td>28.545667</td>\n",
       "      <td>77.123083</td>\n",
       "    </tr>\n",
       "    <tr>\n",
       "      <th>96</th>\n",
       "      <td>Rajokari Crossing</td>\n",
       "      <td>28.522767</td>\n",
       "      <td>77.098683</td>\n",
       "    </tr>\n",
       "    <tr>\n",
       "      <th>97</th>\n",
       "      <td>Maidan Garhi Crossing (SDM Court)</td>\n",
       "      <td>28.519550</td>\n",
       "      <td>77.207800</td>\n",
       "    </tr>\n",
       "    <tr>\n",
       "      <th>98</th>\n",
       "      <td>Shiv Murti</td>\n",
       "      <td>28.536033</td>\n",
       "      <td>77.111900</td>\n",
       "    </tr>\n",
       "    <tr>\n",
       "      <th>99</th>\n",
       "      <td>Prem Nagar</td>\n",
       "      <td>28.622110</td>\n",
       "      <td>77.056846</td>\n",
       "    </tr>\n",
       "  </tbody>\n",
       "</table>\n",
       "<p>100 rows × 3 columns</p>\n",
       "</div>"
      ],
      "text/plain": [
       "                            stop_name   stop_lat   stop_lon\n",
       "0                          Prem Nagar  28.742883  77.146467\n",
       "1                          Prem Nagar  28.622110  77.056846\n",
       "2                          Prem Nagar  28.504400  77.279300\n",
       "3                            Lal Kuan  28.502600  77.284517\n",
       "4                  Surajkund Crossing  28.501700  77.291000\n",
       "..                                ...        ...        ...\n",
       "95                Mahipal Pur Village  28.545667  77.123083\n",
       "96                  Rajokari Crossing  28.522767  77.098683\n",
       "97  Maidan Garhi Crossing (SDM Court)  28.519550  77.207800\n",
       "98                         Shiv Murti  28.536033  77.111900\n",
       "99                         Prem Nagar  28.622110  77.056846\n",
       "\n",
       "[100 rows x 3 columns]"
      ]
     },
     "execution_count": 24,
     "metadata": {},
     "output_type": "execute_result"
    }
   ],
   "source": [
    "stop_latlong = stop_latlong[['stop_name','stop_lat','stop_lon']].reset_index(drop=True)\n",
    "stop_latlong"
   ]
  },
  {
   "cell_type": "code",
   "execution_count": 25,
   "id": "e798bfd4",
   "metadata": {},
   "outputs": [],
   "source": [
    "temp = []\n",
    "for i in trip_stops_names:\n",
    "    lat = stop_latlong[stop_latlong['stop_name']==i]['stop_lat'].values[0]\n",
    "    lon = stop_latlong[stop_latlong['stop_name']==i]['stop_lon'].values[0]\n",
    "    t = {'stop_name':i,\n",
    "         'stop_lat':lat,\n",
    "         'stop_lon':lon\n",
    "        }\n",
    "    temp.append(t)\n",
    "Stops_refer_latlong_distance = pd.DataFrame(temp)"
   ]
  },
  {
   "cell_type": "code",
   "execution_count": 26,
   "id": "5c536071",
   "metadata": {
    "scrolled": true
   },
   "outputs": [
    {
     "data": {
      "text/html": [
       "<div>\n",
       "<style scoped>\n",
       "    .dataframe tbody tr th:only-of-type {\n",
       "        vertical-align: middle;\n",
       "    }\n",
       "\n",
       "    .dataframe tbody tr th {\n",
       "        vertical-align: top;\n",
       "    }\n",
       "\n",
       "    .dataframe thead th {\n",
       "        text-align: right;\n",
       "    }\n",
       "</style>\n",
       "<table border=\"1\" class=\"dataframe\">\n",
       "  <thead>\n",
       "    <tr style=\"text-align: right;\">\n",
       "      <th></th>\n",
       "      <th>stop_name</th>\n",
       "      <th>stop_lat</th>\n",
       "      <th>stop_lon</th>\n",
       "    </tr>\n",
       "  </thead>\n",
       "  <tbody>\n",
       "    <tr>\n",
       "      <th>0</th>\n",
       "      <td>Badarpur Border</td>\n",
       "      <td>28.492700</td>\n",
       "      <td>77.303817</td>\n",
       "    </tr>\n",
       "    <tr>\n",
       "      <th>1</th>\n",
       "      <td>Jaitpur Crossing</td>\n",
       "      <td>28.497217</td>\n",
       "      <td>77.302647</td>\n",
       "    </tr>\n",
       "    <tr>\n",
       "      <th>2</th>\n",
       "      <td>Badarpur M B Road / Rajiv Gandhi Stadium</td>\n",
       "      <td>28.499178</td>\n",
       "      <td>77.299004</td>\n",
       "    </tr>\n",
       "    <tr>\n",
       "      <th>3</th>\n",
       "      <td>Prehlad Pur</td>\n",
       "      <td>28.500000</td>\n",
       "      <td>77.294633</td>\n",
       "    </tr>\n",
       "    <tr>\n",
       "      <th>4</th>\n",
       "      <td>Surajkund Crossing</td>\n",
       "      <td>28.501700</td>\n",
       "      <td>77.291000</td>\n",
       "    </tr>\n",
       "    <tr>\n",
       "      <th>5</th>\n",
       "      <td>Lal Kuan</td>\n",
       "      <td>28.502600</td>\n",
       "      <td>77.284517</td>\n",
       "    </tr>\n",
       "    <tr>\n",
       "      <th>6</th>\n",
       "      <td>Prem Nagar</td>\n",
       "      <td>28.504400</td>\n",
       "      <td>77.279300</td>\n",
       "    </tr>\n",
       "    <tr>\n",
       "      <th>7</th>\n",
       "      <td>Tuglaqabad MB Road</td>\n",
       "      <td>28.505533</td>\n",
       "      <td>77.276483</td>\n",
       "    </tr>\n",
       "    <tr>\n",
       "      <th>8</th>\n",
       "      <td>Kaya Maya Hospital</td>\n",
       "      <td>28.508250</td>\n",
       "      <td>77.269017</td>\n",
       "    </tr>\n",
       "    <tr>\n",
       "      <th>9</th>\n",
       "      <td>Tughalqabad Village</td>\n",
       "      <td>28.509067</td>\n",
       "      <td>77.265117</td>\n",
       "    </tr>\n",
       "    <tr>\n",
       "      <th>10</th>\n",
       "      <td>Air Force Station</td>\n",
       "      <td>28.511683</td>\n",
       "      <td>77.255467</td>\n",
       "    </tr>\n",
       "    <tr>\n",
       "      <th>12</th>\n",
       "      <td>Hamdard Nagar / Sangam Vihar</td>\n",
       "      <td>28.512167</td>\n",
       "      <td>77.248667</td>\n",
       "    </tr>\n",
       "    <tr>\n",
       "      <th>13</th>\n",
       "      <td>Batra Hospital (Satya Narayan Mandir)</td>\n",
       "      <td>28.512100</td>\n",
       "      <td>77.243500</td>\n",
       "    </tr>\n",
       "    <tr>\n",
       "      <th>14</th>\n",
       "      <td>Vayu Sena Bad (Tigri)</td>\n",
       "      <td>28.512900</td>\n",
       "      <td>77.238900</td>\n",
       "    </tr>\n",
       "    <tr>\n",
       "      <th>15</th>\n",
       "      <td>Khanpur Extension / Devli Crossing</td>\n",
       "      <td>28.513663</td>\n",
       "      <td>77.234905</td>\n",
       "    </tr>\n",
       "    <tr>\n",
       "      <th>16</th>\n",
       "      <td>Ambedkar Nagar Depot</td>\n",
       "      <td>28.515267</td>\n",
       "      <td>77.228400</td>\n",
       "    </tr>\n",
       "    <tr>\n",
       "      <th>17</th>\n",
       "      <td>Ambedkar Nagar Terminal / DIPSAR</td>\n",
       "      <td>28.516101</td>\n",
       "      <td>77.223607</td>\n",
       "    </tr>\n",
       "    <tr>\n",
       "      <th>18</th>\n",
       "      <td>Asian Market</td>\n",
       "      <td>28.516600</td>\n",
       "      <td>77.221400</td>\n",
       "    </tr>\n",
       "    <tr>\n",
       "      <th>19</th>\n",
       "      <td>Saket Crossing</td>\n",
       "      <td>28.517600</td>\n",
       "      <td>77.216583</td>\n",
       "    </tr>\n",
       "    <tr>\n",
       "      <th>20</th>\n",
       "      <td>Maidan Garhi Crossing (SDM Court)</td>\n",
       "      <td>28.519067</td>\n",
       "      <td>77.208800</td>\n",
       "    </tr>\n",
       "    <tr>\n",
       "      <th>21</th>\n",
       "      <td>Saket Metro Sation</td>\n",
       "      <td>28.520338</td>\n",
       "      <td>77.202869</td>\n",
       "    </tr>\n",
       "    <tr>\n",
       "      <th>22</th>\n",
       "      <td>Saidul-A-Jab</td>\n",
       "      <td>28.521142</td>\n",
       "      <td>77.199972</td>\n",
       "    </tr>\n",
       "    <tr>\n",
       "      <th>23</th>\n",
       "      <td>Dhaula Peer</td>\n",
       "      <td>28.521941</td>\n",
       "      <td>77.197872</td>\n",
       "    </tr>\n",
       "    <tr>\n",
       "      <th>24</th>\n",
       "      <td>Dhaula Peer / Lado Sarai</td>\n",
       "      <td>28.522495</td>\n",
       "      <td>77.193066</td>\n",
       "    </tr>\n",
       "    <tr>\n",
       "      <th>25</th>\n",
       "      <td>Ahinsa Sthal</td>\n",
       "      <td>28.521483</td>\n",
       "      <td>77.189733</td>\n",
       "    </tr>\n",
       "    <tr>\n",
       "      <th>26</th>\n",
       "      <td>Qutub Minar Metro Sation</td>\n",
       "      <td>28.511733</td>\n",
       "      <td>77.184400</td>\n",
       "    </tr>\n",
       "    <tr>\n",
       "      <th>27</th>\n",
       "      <td>Andheria Bagh More</td>\n",
       "      <td>28.509217</td>\n",
       "      <td>77.178967</td>\n",
       "    </tr>\n",
       "    <tr>\n",
       "      <th>28</th>\n",
       "      <td>Andheria Bagh More / Chhatarpur Metro Station</td>\n",
       "      <td>28.508222</td>\n",
       "      <td>77.174328</td>\n",
       "    </tr>\n",
       "    <tr>\n",
       "      <th>29</th>\n",
       "      <td>Vasant Kunj Sec-A Pkt-BC</td>\n",
       "      <td>28.510400</td>\n",
       "      <td>77.169617</td>\n",
       "    </tr>\n",
       "    <tr>\n",
       "      <th>30</th>\n",
       "      <td>Vasant Kunj Sec-A ILBS</td>\n",
       "      <td>28.511667</td>\n",
       "      <td>77.166550</td>\n",
       "    </tr>\n",
       "    <tr>\n",
       "      <th>31</th>\n",
       "      <td>Kishan Garh</td>\n",
       "      <td>28.514366</td>\n",
       "      <td>77.164155</td>\n",
       "    </tr>\n",
       "    <tr>\n",
       "      <th>32</th>\n",
       "      <td>Vasant Kunj Sec-D/3-4</td>\n",
       "      <td>28.517200</td>\n",
       "      <td>77.160750</td>\n",
       "    </tr>\n",
       "    <tr>\n",
       "      <th>33</th>\n",
       "      <td>Vasant Kunj sec-B1</td>\n",
       "      <td>28.522167</td>\n",
       "      <td>77.157600</td>\n",
       "    </tr>\n",
       "    <tr>\n",
       "      <th>34</th>\n",
       "      <td>Masood Pur Village</td>\n",
       "      <td>28.525433</td>\n",
       "      <td>77.154483</td>\n",
       "    </tr>\n",
       "    <tr>\n",
       "      <th>35</th>\n",
       "      <td>Masood Pur Dairy</td>\n",
       "      <td>28.528600</td>\n",
       "      <td>77.148667</td>\n",
       "    </tr>\n",
       "    <tr>\n",
       "      <th>36</th>\n",
       "      <td>Kathuria Public School (Sai Darbar Mandir)</td>\n",
       "      <td>28.530900</td>\n",
       "      <td>77.146333</td>\n",
       "    </tr>\n",
       "    <tr>\n",
       "      <th>37</th>\n",
       "      <td>ISIC Hospital (Verma farm)</td>\n",
       "      <td>28.533980</td>\n",
       "      <td>77.142404</td>\n",
       "    </tr>\n",
       "    <tr>\n",
       "      <th>38</th>\n",
       "      <td>Vasant Kunj Sec-C-8</td>\n",
       "      <td>28.536717</td>\n",
       "      <td>77.139933</td>\n",
       "    </tr>\n",
       "    <tr>\n",
       "      <th>39</th>\n",
       "      <td>Rang Puri Pahari</td>\n",
       "      <td>28.537900</td>\n",
       "      <td>77.136486</td>\n",
       "    </tr>\n",
       "    <tr>\n",
       "      <th>40</th>\n",
       "      <td>Mahipal Pur Village</td>\n",
       "      <td>28.541700</td>\n",
       "      <td>77.129350</td>\n",
       "    </tr>\n",
       "    <tr>\n",
       "      <th>42</th>\n",
       "      <td>Mahipal Pur Crossing</td>\n",
       "      <td>28.545765</td>\n",
       "      <td>77.123250</td>\n",
       "    </tr>\n",
       "    <tr>\n",
       "      <th>43</th>\n",
       "      <td>Rangpuri</td>\n",
       "      <td>28.543991</td>\n",
       "      <td>77.118187</td>\n",
       "    </tr>\n",
       "    <tr>\n",
       "      <th>44</th>\n",
       "      <td>Shiv Murti</td>\n",
       "      <td>28.535610</td>\n",
       "      <td>77.112429</td>\n",
       "    </tr>\n",
       "    <tr>\n",
       "      <th>45</th>\n",
       "      <td>Rajokari Crossing</td>\n",
       "      <td>28.522166</td>\n",
       "      <td>77.098643</td>\n",
       "    </tr>\n",
       "    <tr>\n",
       "      <th>46</th>\n",
       "      <td>Shiv Murti / Dwarka More</td>\n",
       "      <td>28.534882</td>\n",
       "      <td>77.108353</td>\n",
       "    </tr>\n",
       "    <tr>\n",
       "      <th>47</th>\n",
       "      <td>Samalkha Crossing</td>\n",
       "      <td>28.538205</td>\n",
       "      <td>77.091434</td>\n",
       "    </tr>\n",
       "    <tr>\n",
       "      <th>48</th>\n",
       "      <td>Samalkha Village</td>\n",
       "      <td>28.534652</td>\n",
       "      <td>77.090446</td>\n",
       "    </tr>\n",
       "    <tr>\n",
       "      <th>49</th>\n",
       "      <td>Kapashera Crossing</td>\n",
       "      <td>28.531300</td>\n",
       "      <td>77.088150</td>\n",
       "    </tr>\n",
       "    <tr>\n",
       "      <th>50</th>\n",
       "      <td>Kapashera Village</td>\n",
       "      <td>28.524517</td>\n",
       "      <td>77.083700</td>\n",
       "    </tr>\n",
       "    <tr>\n",
       "      <th>51</th>\n",
       "      <td>Kapashera Border</td>\n",
       "      <td>28.522481</td>\n",
       "      <td>77.082442</td>\n",
       "    </tr>\n",
       "  </tbody>\n",
       "</table>\n",
       "</div>"
      ],
      "text/plain": [
       "                                        stop_name   stop_lat   stop_lon\n",
       "0                                 Badarpur Border  28.492700  77.303817\n",
       "1                                Jaitpur Crossing  28.497217  77.302647\n",
       "2        Badarpur M B Road / Rajiv Gandhi Stadium  28.499178  77.299004\n",
       "3                                     Prehlad Pur  28.500000  77.294633\n",
       "4                              Surajkund Crossing  28.501700  77.291000\n",
       "5                                        Lal Kuan  28.502600  77.284517\n",
       "6                                      Prem Nagar  28.504400  77.279300\n",
       "7                              Tuglaqabad MB Road  28.505533  77.276483\n",
       "8                              Kaya Maya Hospital  28.508250  77.269017\n",
       "9                             Tughalqabad Village  28.509067  77.265117\n",
       "10                              Air Force Station  28.511683  77.255467\n",
       "12                   Hamdard Nagar / Sangam Vihar  28.512167  77.248667\n",
       "13          Batra Hospital (Satya Narayan Mandir)  28.512100  77.243500\n",
       "14                          Vayu Sena Bad (Tigri)  28.512900  77.238900\n",
       "15             Khanpur Extension / Devli Crossing  28.513663  77.234905\n",
       "16                           Ambedkar Nagar Depot  28.515267  77.228400\n",
       "17               Ambedkar Nagar Terminal / DIPSAR  28.516101  77.223607\n",
       "18                                   Asian Market  28.516600  77.221400\n",
       "19                                 Saket Crossing  28.517600  77.216583\n",
       "20              Maidan Garhi Crossing (SDM Court)  28.519067  77.208800\n",
       "21                             Saket Metro Sation  28.520338  77.202869\n",
       "22                                   Saidul-A-Jab  28.521142  77.199972\n",
       "23                                    Dhaula Peer  28.521941  77.197872\n",
       "24                       Dhaula Peer / Lado Sarai  28.522495  77.193066\n",
       "25                                   Ahinsa Sthal  28.521483  77.189733\n",
       "26                       Qutub Minar Metro Sation  28.511733  77.184400\n",
       "27                             Andheria Bagh More  28.509217  77.178967\n",
       "28  Andheria Bagh More / Chhatarpur Metro Station  28.508222  77.174328\n",
       "29                       Vasant Kunj Sec-A Pkt-BC  28.510400  77.169617\n",
       "30                         Vasant Kunj Sec-A ILBS  28.511667  77.166550\n",
       "31                                    Kishan Garh  28.514366  77.164155\n",
       "32                          Vasant Kunj Sec-D/3-4  28.517200  77.160750\n",
       "33                             Vasant Kunj sec-B1  28.522167  77.157600\n",
       "34                             Masood Pur Village  28.525433  77.154483\n",
       "35                               Masood Pur Dairy  28.528600  77.148667\n",
       "36     Kathuria Public School (Sai Darbar Mandir)  28.530900  77.146333\n",
       "37                     ISIC Hospital (Verma farm)  28.533980  77.142404\n",
       "38                            Vasant Kunj Sec-C-8  28.536717  77.139933\n",
       "39                               Rang Puri Pahari  28.537900  77.136486\n",
       "40                            Mahipal Pur Village  28.541700  77.129350\n",
       "42                           Mahipal Pur Crossing  28.545765  77.123250\n",
       "43                                       Rangpuri  28.543991  77.118187\n",
       "44                                     Shiv Murti  28.535610  77.112429\n",
       "45                              Rajokari Crossing  28.522166  77.098643\n",
       "46                       Shiv Murti / Dwarka More  28.534882  77.108353\n",
       "47                              Samalkha Crossing  28.538205  77.091434\n",
       "48                               Samalkha Village  28.534652  77.090446\n",
       "49                             Kapashera Crossing  28.531300  77.088150\n",
       "50                              Kapashera Village  28.524517  77.083700\n",
       "51                               Kapashera Border  28.522481  77.082442"
      ]
     },
     "execution_count": 26,
     "metadata": {},
     "output_type": "execute_result"
    }
   ],
   "source": [
    "Stops_refer_latlong_distance.drop_duplicates(inplace=True)\n",
    "Stops_refer_latlong_distance.at[6,'stop_lon']=77.279300\n",
    "Stops_refer_latlong_distance.at[6,'stop_lat']=28.504400\n",
    "Stops_refer_latlong_distance"
   ]
  },
  {
   "cell_type": "code",
   "execution_count": 29,
   "id": "3c5dd98e",
   "metadata": {},
   "outputs": [],
   "source": [
    "Stops_refer_latlong_distance.to_csv(\"717AUP_GTFS_stops_latlong.csv\",index=False)"
   ]
  },
  {
   "cell_type": "code",
   "execution_count": null,
   "id": "8ad6d9c8",
   "metadata": {},
   "outputs": [],
   "source": []
  },
  {
   "cell_type": "code",
   "execution_count": null,
   "id": "1267a48f",
   "metadata": {},
   "outputs": [],
   "source": []
  },
  {
   "cell_type": "code",
   "execution_count": null,
   "id": "a45eac1d",
   "metadata": {},
   "outputs": [],
   "source": []
  },
  {
   "cell_type": "code",
   "execution_count": 39,
   "id": "6fbe8b11",
   "metadata": {},
   "outputs": [],
   "source": [
    "# def lat_finder(stop_name):\n",
    "#     lat = Stops_refer_latlong_distance[(Stops_refer_latlong_distance['stop_name']==stop_name)]['stop_lat'].iloc[0]\n",
    "#     return lat\n",
    "\n",
    "# def long_finder(stop_name):\n",
    "#     long = Stops_refer_latlong_distance[(Stops_refer_latlong_distance['stop_name']==stop_name)]['stop_lon'].iloc[0]\n",
    "#     return long"
   ]
  },
  {
   "cell_type": "code",
   "execution_count": 40,
   "id": "ce12046d",
   "metadata": {},
   "outputs": [],
   "source": [
    "# route_data_pd['O_latitude'] = route_data_pd['ROUTE_ORIGIN_STOP'].apply(lat_finder)\n",
    "# route_data_pd['O_longitude'] = route_data_pd['ROUTE_ORIGIN_STOP'].apply(long_finder)\n",
    "\n",
    "# route_data_pd['D_latitude'] = route_data_pd['ROUTE_DESTINATION_STOP'].apply(lat_finder)\n",
    "# route_data_pd['D_longitude'] = route_data_pd['ROUTE_DESTINATION_STOP'].apply(long_finder)\n",
    "\n",
    "# route_data_pd['Origin_cordinates'] = [(i,j) for (i,j) in route_data_pd[[\"O_latitude\",\"O_longitude\"]].values]\n",
    "# route_data_pd['Dest_cordinates'] = [(i,j) for (i,j) in route_data_pd[[\"D_latitude\",\"D_longitude\"]].values]"
   ]
  },
  {
   "cell_type": "code",
   "execution_count": 41,
   "id": "8c879fc1",
   "metadata": {},
   "outputs": [],
   "source": [
    "# route_data_pd.drop(columns=['O_latitude','O_longitude','D_latitude','D_longitude'],inplace=True)"
   ]
  },
  {
   "cell_type": "code",
   "execution_count": 42,
   "id": "0d1e6bd9",
   "metadata": {},
   "outputs": [],
   "source": [
    "# route_data_pd.to_csv(\"717AUP.csv\",index=False)"
   ]
  },
  {
   "cell_type": "code",
   "execution_count": 16,
   "id": "fca3f9e9",
   "metadata": {
    "scrolled": true
   },
   "outputs": [
    {
     "data": {
      "text/html": [
       "<div>\n",
       "<style scoped>\n",
       "    .dataframe tbody tr th:only-of-type {\n",
       "        vertical-align: middle;\n",
       "    }\n",
       "\n",
       "    .dataframe tbody tr th {\n",
       "        vertical-align: top;\n",
       "    }\n",
       "\n",
       "    .dataframe thead th {\n",
       "        text-align: right;\n",
       "    }\n",
       "</style>\n",
       "<table border=\"1\" class=\"dataframe\">\n",
       "  <thead>\n",
       "    <tr style=\"text-align: right;\">\n",
       "      <th></th>\n",
       "      <th>MESSAGE_ID</th>\n",
       "      <th>TRIP_ID</th>\n",
       "      <th>ROUTENAME</th>\n",
       "      <th>BUS_ID</th>\n",
       "      <th>ROUTE_ORIGIN_STOP</th>\n",
       "      <th>ROUTE_DESTINATION_STOP</th>\n",
       "      <th>TRIP_START_TIME</th>\n",
       "      <th>TRIP_END_TIME</th>\n",
       "      <th>AMOUNT</th>\n",
       "      <th>USER_COUNT</th>\n",
       "      <th>TICKET DATE</th>\n",
       "      <th>TICKET TIME</th>\n",
       "      <th>date_time</th>\n",
       "      <th>ticket_date</th>\n",
       "      <th>Day</th>\n",
       "      <th>Hour</th>\n",
       "      <th>Month</th>\n",
       "      <th>Origin_cordinates</th>\n",
       "      <th>Dest_cordinates</th>\n",
       "    </tr>\n",
       "  </thead>\n",
       "  <tbody>\n",
       "    <tr>\n",
       "      <th>0</th>\n",
       "      <td>12695010919065107</td>\n",
       "      <td>T12695010919061902</td>\n",
       "      <td>717AUP</td>\n",
       "      <td>DL1PC6341</td>\n",
       "      <td>Andheria Bagh More</td>\n",
       "      <td>Kapashera Border</td>\n",
       "      <td>01-SEP-2019 06:19:46</td>\n",
       "      <td>01-SEP-2019 07:19:28</td>\n",
       "      <td>15</td>\n",
       "      <td>1</td>\n",
       "      <td>01/09/2019</td>\n",
       "      <td>06:51:55</td>\n",
       "      <td>2019-09-01 06:51:55</td>\n",
       "      <td>2019-09-01</td>\n",
       "      <td>Sunday</td>\n",
       "      <td>6</td>\n",
       "      <td>9</td>\n",
       "      <td>(28.509217, 77.178967)</td>\n",
       "      <td>(28.522481, 77.082442)</td>\n",
       "    </tr>\n",
       "    <tr>\n",
       "      <th>1</th>\n",
       "      <td>12420010919084834</td>\n",
       "      <td>T12420010919074802</td>\n",
       "      <td>717AUP</td>\n",
       "      <td>DL1PC6354</td>\n",
       "      <td>Andheria Bagh More</td>\n",
       "      <td>Kapashera Border</td>\n",
       "      <td>01-SEP-2019 07:48:00</td>\n",
       "      <td>01-SEP-2019 09:26:48</td>\n",
       "      <td>15</td>\n",
       "      <td>1</td>\n",
       "      <td>01/09/2019</td>\n",
       "      <td>08:48:17</td>\n",
       "      <td>2019-09-01 08:48:17</td>\n",
       "      <td>2019-09-01</td>\n",
       "      <td>Sunday</td>\n",
       "      <td>8</td>\n",
       "      <td>9</td>\n",
       "      <td>(28.509217, 77.178967)</td>\n",
       "      <td>(28.522481, 77.082442)</td>\n",
       "    </tr>\n",
       "    <tr>\n",
       "      <th>2</th>\n",
       "      <td>12420010919084835</td>\n",
       "      <td>T12420010919074802</td>\n",
       "      <td>717AUP</td>\n",
       "      <td>DL1PC6354</td>\n",
       "      <td>Andheria Bagh More</td>\n",
       "      <td>Kapashera Border</td>\n",
       "      <td>01-SEP-2019 07:48:00</td>\n",
       "      <td>01-SEP-2019 09:26:48</td>\n",
       "      <td>15</td>\n",
       "      <td>1</td>\n",
       "      <td>01/09/2019</td>\n",
       "      <td>08:48:19</td>\n",
       "      <td>2019-09-01 08:48:19</td>\n",
       "      <td>2019-09-01</td>\n",
       "      <td>Sunday</td>\n",
       "      <td>8</td>\n",
       "      <td>9</td>\n",
       "      <td>(28.509217, 77.178967)</td>\n",
       "      <td>(28.522481, 77.082442)</td>\n",
       "    </tr>\n",
       "    <tr>\n",
       "      <th>3</th>\n",
       "      <td>12678010919095238</td>\n",
       "      <td>T12678010919084802</td>\n",
       "      <td>717AUP</td>\n",
       "      <td>DL1PC6308</td>\n",
       "      <td>Andheria Bagh More</td>\n",
       "      <td>Kapashera Border</td>\n",
       "      <td>01-SEP-2019 08:48:17</td>\n",
       "      <td>01-SEP-2019 10:34:02</td>\n",
       "      <td>15</td>\n",
       "      <td>1</td>\n",
       "      <td>01/09/2019</td>\n",
       "      <td>09:52:32</td>\n",
       "      <td>2019-09-01 09:52:32</td>\n",
       "      <td>2019-09-01</td>\n",
       "      <td>Sunday</td>\n",
       "      <td>9</td>\n",
       "      <td>9</td>\n",
       "      <td>(28.509217, 77.178967)</td>\n",
       "      <td>(28.522481, 77.082442)</td>\n",
       "    </tr>\n",
       "    <tr>\n",
       "      <th>4</th>\n",
       "      <td>10592010919093428</td>\n",
       "      <td>T10592010919083602</td>\n",
       "      <td>717AUP</td>\n",
       "      <td>DL1P6359</td>\n",
       "      <td>Andheria Bagh More</td>\n",
       "      <td>Kapashera Border</td>\n",
       "      <td>01-SEP-2019 08:36:05</td>\n",
       "      <td>01-SEP-2019 10:10:08</td>\n",
       "      <td>15</td>\n",
       "      <td>1</td>\n",
       "      <td>01/09/2019</td>\n",
       "      <td>09:34:44</td>\n",
       "      <td>2019-09-01 09:34:44</td>\n",
       "      <td>2019-09-01</td>\n",
       "      <td>Sunday</td>\n",
       "      <td>9</td>\n",
       "      <td>9</td>\n",
       "      <td>(28.509217, 77.178967)</td>\n",
       "      <td>(28.522481, 77.082442)</td>\n",
       "    </tr>\n",
       "    <tr>\n",
       "      <th>...</th>\n",
       "      <td>...</td>\n",
       "      <td>...</td>\n",
       "      <td>...</td>\n",
       "      <td>...</td>\n",
       "      <td>...</td>\n",
       "      <td>...</td>\n",
       "      <td>...</td>\n",
       "      <td>...</td>\n",
       "      <td>...</td>\n",
       "      <td>...</td>\n",
       "      <td>...</td>\n",
       "      <td>...</td>\n",
       "      <td>...</td>\n",
       "      <td>...</td>\n",
       "      <td>...</td>\n",
       "      <td>...</td>\n",
       "      <td>...</td>\n",
       "      <td>...</td>\n",
       "      <td>...</td>\n",
       "    </tr>\n",
       "    <tr>\n",
       "      <th>1393478</th>\n",
       "      <td>11333291219103256</td>\n",
       "      <td>T11333291219102504</td>\n",
       "      <td>717AUP</td>\n",
       "      <td>DL1PC6350</td>\n",
       "      <td>Badarpur Border</td>\n",
       "      <td>Kapashera Border</td>\n",
       "      <td>29-DEC-2019 10:25:06</td>\n",
       "      <td>29-DEC-2019 11:51:02</td>\n",
       "      <td>15</td>\n",
       "      <td>1</td>\n",
       "      <td>29/12/2019</td>\n",
       "      <td>10:32:27</td>\n",
       "      <td>2019-12-29 10:32:27</td>\n",
       "      <td>2019-12-29</td>\n",
       "      <td>Sunday</td>\n",
       "      <td>10</td>\n",
       "      <td>12</td>\n",
       "      <td>(28.4927, 77.30381700000002)</td>\n",
       "      <td>(28.522481, 77.082442)</td>\n",
       "    </tr>\n",
       "    <tr>\n",
       "      <th>1393479</th>\n",
       "      <td>11333291219103257</td>\n",
       "      <td>T11333291219102504</td>\n",
       "      <td>717AUP</td>\n",
       "      <td>DL1PC6350</td>\n",
       "      <td>Badarpur Border</td>\n",
       "      <td>Tughalqabad Village</td>\n",
       "      <td>29-DEC-2019 10:25:06</td>\n",
       "      <td>29-DEC-2019 11:51:02</td>\n",
       "      <td>5</td>\n",
       "      <td>1</td>\n",
       "      <td>29/12/2019</td>\n",
       "      <td>10:32:31</td>\n",
       "      <td>2019-12-29 10:32:31</td>\n",
       "      <td>2019-12-29</td>\n",
       "      <td>Sunday</td>\n",
       "      <td>10</td>\n",
       "      <td>12</td>\n",
       "      <td>(28.4927, 77.30381700000002)</td>\n",
       "      <td>(28.509067, 77.265117)</td>\n",
       "    </tr>\n",
       "    <tr>\n",
       "      <th>1393480</th>\n",
       "      <td>11311291219201613</td>\n",
       "      <td>T11311291219185703</td>\n",
       "      <td>717AUP</td>\n",
       "      <td>DL1PC 6357</td>\n",
       "      <td>Hamdard Nagar / Sangam Vihar</td>\n",
       "      <td>Kapashera Border</td>\n",
       "      <td>29-DEC-2019 18:57:26</td>\n",
       "      <td>29-DEC-2019 21:17:04</td>\n",
       "      <td>15</td>\n",
       "      <td>1</td>\n",
       "      <td>29/12/2019</td>\n",
       "      <td>20:16:45</td>\n",
       "      <td>2019-12-29 20:16:45</td>\n",
       "      <td>2019-12-29</td>\n",
       "      <td>Sunday</td>\n",
       "      <td>20</td>\n",
       "      <td>12</td>\n",
       "      <td>(28.512167, 77.248667)</td>\n",
       "      <td>(28.522481, 77.082442)</td>\n",
       "    </tr>\n",
       "    <tr>\n",
       "      <th>1393481</th>\n",
       "      <td>11311291219202124</td>\n",
       "      <td>T11311291219185703</td>\n",
       "      <td>717AUP</td>\n",
       "      <td>DL1PC 6357</td>\n",
       "      <td>Hamdard Nagar / Sangam Vihar</td>\n",
       "      <td>Kishan Garh</td>\n",
       "      <td>29-DEC-2019 18:57:26</td>\n",
       "      <td>29-DEC-2019 21:17:04</td>\n",
       "      <td>10</td>\n",
       "      <td>1</td>\n",
       "      <td>29/12/2019</td>\n",
       "      <td>20:21:08</td>\n",
       "      <td>2019-12-29 20:21:08</td>\n",
       "      <td>2019-12-29</td>\n",
       "      <td>Sunday</td>\n",
       "      <td>20</td>\n",
       "      <td>12</td>\n",
       "      <td>(28.512167, 77.248667)</td>\n",
       "      <td>(28.514366, 77.16415500000002)</td>\n",
       "    </tr>\n",
       "    <tr>\n",
       "      <th>1393482</th>\n",
       "      <td>11311291219205100</td>\n",
       "      <td>T11311291219185703</td>\n",
       "      <td>717AUP</td>\n",
       "      <td>DL1PC 6357</td>\n",
       "      <td>Kishan Garh</td>\n",
       "      <td>Kapashera Border</td>\n",
       "      <td>29-DEC-2019 18:57:26</td>\n",
       "      <td>29-DEC-2019 21:17:04</td>\n",
       "      <td>15</td>\n",
       "      <td>1</td>\n",
       "      <td>29/12/2019</td>\n",
       "      <td>20:51:12</td>\n",
       "      <td>2019-12-29 20:51:12</td>\n",
       "      <td>2019-12-29</td>\n",
       "      <td>Sunday</td>\n",
       "      <td>20</td>\n",
       "      <td>12</td>\n",
       "      <td>(28.514366, 77.16415500000002)</td>\n",
       "      <td>(28.522481, 77.082442)</td>\n",
       "    </tr>\n",
       "  </tbody>\n",
       "</table>\n",
       "<p>1393483 rows × 19 columns</p>\n",
       "</div>"
      ],
      "text/plain": [
       "                MESSAGE_ID             TRIP_ID ROUTENAME      BUS_ID  \\\n",
       "0        12695010919065107  T12695010919061902    717AUP   DL1PC6341   \n",
       "1        12420010919084834  T12420010919074802    717AUP   DL1PC6354   \n",
       "2        12420010919084835  T12420010919074802    717AUP   DL1PC6354   \n",
       "3        12678010919095238  T12678010919084802    717AUP   DL1PC6308   \n",
       "4        10592010919093428  T10592010919083602    717AUP    DL1P6359   \n",
       "...                    ...                 ...       ...         ...   \n",
       "1393478  11333291219103256  T11333291219102504    717AUP   DL1PC6350   \n",
       "1393479  11333291219103257  T11333291219102504    717AUP   DL1PC6350   \n",
       "1393480  11311291219201613  T11311291219185703    717AUP  DL1PC 6357   \n",
       "1393481  11311291219202124  T11311291219185703    717AUP  DL1PC 6357   \n",
       "1393482  11311291219205100  T11311291219185703    717AUP  DL1PC 6357   \n",
       "\n",
       "                    ROUTE_ORIGIN_STOP ROUTE_DESTINATION_STOP  \\\n",
       "0                  Andheria Bagh More       Kapashera Border   \n",
       "1                  Andheria Bagh More       Kapashera Border   \n",
       "2                  Andheria Bagh More       Kapashera Border   \n",
       "3                  Andheria Bagh More       Kapashera Border   \n",
       "4                  Andheria Bagh More       Kapashera Border   \n",
       "...                               ...                    ...   \n",
       "1393478               Badarpur Border       Kapashera Border   \n",
       "1393479               Badarpur Border    Tughalqabad Village   \n",
       "1393480  Hamdard Nagar / Sangam Vihar       Kapashera Border   \n",
       "1393481  Hamdard Nagar / Sangam Vihar            Kishan Garh   \n",
       "1393482                   Kishan Garh       Kapashera Border   \n",
       "\n",
       "              TRIP_START_TIME         TRIP_END_TIME  AMOUNT  USER_COUNT  \\\n",
       "0        01-SEP-2019 06:19:46  01-SEP-2019 07:19:28      15           1   \n",
       "1        01-SEP-2019 07:48:00  01-SEP-2019 09:26:48      15           1   \n",
       "2        01-SEP-2019 07:48:00  01-SEP-2019 09:26:48      15           1   \n",
       "3        01-SEP-2019 08:48:17  01-SEP-2019 10:34:02      15           1   \n",
       "4        01-SEP-2019 08:36:05  01-SEP-2019 10:10:08      15           1   \n",
       "...                       ...                   ...     ...         ...   \n",
       "1393478  29-DEC-2019 10:25:06  29-DEC-2019 11:51:02      15           1   \n",
       "1393479  29-DEC-2019 10:25:06  29-DEC-2019 11:51:02       5           1   \n",
       "1393480  29-DEC-2019 18:57:26  29-DEC-2019 21:17:04      15           1   \n",
       "1393481  29-DEC-2019 18:57:26  29-DEC-2019 21:17:04      10           1   \n",
       "1393482  29-DEC-2019 18:57:26  29-DEC-2019 21:17:04      15           1   \n",
       "\n",
       "        TICKET DATE TICKET TIME           date_time ticket_date     Day  Hour  \\\n",
       "0        01/09/2019    06:51:55 2019-09-01 06:51:55  2019-09-01  Sunday     6   \n",
       "1        01/09/2019    08:48:17 2019-09-01 08:48:17  2019-09-01  Sunday     8   \n",
       "2        01/09/2019    08:48:19 2019-09-01 08:48:19  2019-09-01  Sunday     8   \n",
       "3        01/09/2019    09:52:32 2019-09-01 09:52:32  2019-09-01  Sunday     9   \n",
       "4        01/09/2019    09:34:44 2019-09-01 09:34:44  2019-09-01  Sunday     9   \n",
       "...             ...         ...                 ...         ...     ...   ...   \n",
       "1393478  29/12/2019    10:32:27 2019-12-29 10:32:27  2019-12-29  Sunday    10   \n",
       "1393479  29/12/2019    10:32:31 2019-12-29 10:32:31  2019-12-29  Sunday    10   \n",
       "1393480  29/12/2019    20:16:45 2019-12-29 20:16:45  2019-12-29  Sunday    20   \n",
       "1393481  29/12/2019    20:21:08 2019-12-29 20:21:08  2019-12-29  Sunday    20   \n",
       "1393482  29/12/2019    20:51:12 2019-12-29 20:51:12  2019-12-29  Sunday    20   \n",
       "\n",
       "         Month               Origin_cordinates                 Dest_cordinates  \n",
       "0            9          (28.509217, 77.178967)          (28.522481, 77.082442)  \n",
       "1            9          (28.509217, 77.178967)          (28.522481, 77.082442)  \n",
       "2            9          (28.509217, 77.178967)          (28.522481, 77.082442)  \n",
       "3            9          (28.509217, 77.178967)          (28.522481, 77.082442)  \n",
       "4            9          (28.509217, 77.178967)          (28.522481, 77.082442)  \n",
       "...        ...                             ...                             ...  \n",
       "1393478     12    (28.4927, 77.30381700000002)          (28.522481, 77.082442)  \n",
       "1393479     12    (28.4927, 77.30381700000002)          (28.509067, 77.265117)  \n",
       "1393480     12          (28.512167, 77.248667)          (28.522481, 77.082442)  \n",
       "1393481     12          (28.512167, 77.248667)  (28.514366, 77.16415500000002)  \n",
       "1393482     12  (28.514366, 77.16415500000002)          (28.522481, 77.082442)  \n",
       "\n",
       "[1393483 rows x 19 columns]"
      ]
     },
     "execution_count": 16,
     "metadata": {},
     "output_type": "execute_result"
    }
   ],
   "source": [
    "route_data_pd"
   ]
  },
  {
   "cell_type": "code",
   "execution_count": 17,
   "id": "bc89a4f0",
   "metadata": {},
   "outputs": [],
   "source": [
    "origin_map = route_data_pd.groupby(['Origin_cordinates','Hour']).agg({'USER_COUNT': 'sum'})\n",
    "origin_map.reset_index(inplace=True)\n",
    "origin_map['lat'] = [i.replace('(','').replace(')','').split(',')[0] for i in origin_map['Origin_cordinates'].values]\n",
    "origin_map['long'] = [i.replace('(','').replace(')','').split(',')[1] for i in origin_map['Origin_cordinates'].values]\n",
    "origin_map['O_D'] = [\"origin\" for i in range(origin_map.shape[0])]\n",
    "origin_map.drop(columns='Origin_cordinates',inplace=True)\n",
    "\n",
    "Dest_map = route_data_pd.groupby(['Dest_cordinates','Hour']).agg({'USER_COUNT': 'sum'})\n",
    "Dest_map.reset_index(inplace=True)\n",
    "Dest_map['lat'] = [i.replace('(','').replace(')','').split(',')[0] for i in Dest_map['Dest_cordinates'].values]\n",
    "Dest_map['long'] = [i.replace('(','').replace(')','').split(',')[1] for i in Dest_map['Dest_cordinates'].values]\n",
    "Dest_map['O_D'] = [\"Destination\" for i in range(Dest_map.shape[0])]\n",
    "Dest_map.drop(columns='Dest_cordinates',inplace=True)"
   ]
  },
  {
   "cell_type": "code",
   "execution_count": 18,
   "id": "456ea1ac",
   "metadata": {},
   "outputs": [
    {
     "name": "stdout",
     "output_type": "stream",
     "text": [
      "<class 'pandas.core.frame.DataFrame'>\n",
      "RangeIndex: 295 entries, 0 to 294\n",
      "Data columns (total 5 columns):\n",
      " #   Column      Non-Null Count  Dtype  \n",
      "---  ------      --------------  -----  \n",
      " 0   Hour        295 non-null    int64  \n",
      " 1   USER_COUNT  295 non-null    int64  \n",
      " 2   lat         295 non-null    float64\n",
      " 3   long        295 non-null    float64\n",
      " 4   O_D         295 non-null    object \n",
      "dtypes: float64(2), int64(2), object(1)\n",
      "memory usage: 11.6+ KB\n"
     ]
    }
   ],
   "source": [
    "origin_map['lat'] = origin_map['lat'].apply(float)\n",
    "origin_map['long'] = origin_map['long'].apply(float)\n",
    "origin_map.info()"
   ]
  },
  {
   "cell_type": "code",
   "execution_count": 19,
   "id": "8d1e0303",
   "metadata": {},
   "outputs": [
    {
     "name": "stdout",
     "output_type": "stream",
     "text": [
      "<class 'pandas.core.frame.DataFrame'>\n",
      "RangeIndex: 288 entries, 0 to 287\n",
      "Data columns (total 5 columns):\n",
      " #   Column      Non-Null Count  Dtype  \n",
      "---  ------      --------------  -----  \n",
      " 0   Hour        288 non-null    int64  \n",
      " 1   USER_COUNT  288 non-null    int64  \n",
      " 2   lat         288 non-null    float64\n",
      " 3   long        288 non-null    float64\n",
      " 4   O_D         288 non-null    object \n",
      "dtypes: float64(2), int64(2), object(1)\n",
      "memory usage: 11.4+ KB\n"
     ]
    }
   ],
   "source": [
    "Dest_map['lat'] = Dest_map['lat'].apply(float)\n",
    "Dest_map['long'] = Dest_map['long'].apply(float)\n",
    "Dest_map.info()"
   ]
  },
  {
   "cell_type": "code",
   "execution_count": 20,
   "id": "b7257745",
   "metadata": {},
   "outputs": [],
   "source": [
    "def cluper(i):\n",
    "    if (i>=0) & (i<4):\n",
    "        return \"00:00-4:00\"\n",
    "    if (i>=4) & (i<7):\n",
    "        return \"4:00-7:00\"\n",
    "    if (i>=7) & (i<11):\n",
    "        return \"7:00-11:00\"\n",
    "    if (i>=11) & (i<15):\n",
    "        return \"11:00-15:00\"\n",
    "    if (i>=15) & (i<16):\n",
    "        return \"15:00-16:00\"\n",
    "    if (i>=16) & (i<20):\n",
    "        return \"16:00-20:00\"\n",
    "    if (i>=20) & (i<24):\n",
    "        return \"20:00-24:00\""
   ]
  },
  {
   "cell_type": "code",
   "execution_count": 21,
   "id": "2b5fdaa2",
   "metadata": {},
   "outputs": [],
   "source": [
    "origin_map['Hour_range'] = origin_map['Hour'].apply(cluper)\n",
    "origin_map.sort_values(by='Hour',inplace=True)"
   ]
  },
  {
   "cell_type": "code",
   "execution_count": 22,
   "id": "06c2872c",
   "metadata": {},
   "outputs": [],
   "source": [
    "Dest_map['Hour_range'] = Dest_map['Hour'].apply(cluper)\n",
    "Dest_map.sort_values(by='Hour',inplace=True)"
   ]
  },
  {
   "cell_type": "code",
   "execution_count": 24,
   "id": "ba80eaa1",
   "metadata": {},
   "outputs": [
    {
     "data": {
      "text/html": [
       "<div>\n",
       "<style scoped>\n",
       "    .dataframe tbody tr th:only-of-type {\n",
       "        vertical-align: middle;\n",
       "    }\n",
       "\n",
       "    .dataframe tbody tr th {\n",
       "        vertical-align: top;\n",
       "    }\n",
       "\n",
       "    .dataframe thead th {\n",
       "        text-align: right;\n",
       "    }\n",
       "</style>\n",
       "<table border=\"1\" class=\"dataframe\">\n",
       "  <thead>\n",
       "    <tr style=\"text-align: right;\">\n",
       "      <th></th>\n",
       "      <th>Hour</th>\n",
       "      <th>USER_COUNT</th>\n",
       "      <th>lat</th>\n",
       "      <th>long</th>\n",
       "      <th>O_D</th>\n",
       "      <th>Hour_range</th>\n",
       "    </tr>\n",
       "  </thead>\n",
       "  <tbody>\n",
       "    <tr>\n",
       "      <th>0</th>\n",
       "      <td>0</td>\n",
       "      <td>1</td>\n",
       "      <td>28.492700</td>\n",
       "      <td>77.303817</td>\n",
       "      <td>origin</td>\n",
       "      <td>00:00-4:00</td>\n",
       "    </tr>\n",
       "    <tr>\n",
       "      <th>1</th>\n",
       "      <td>4</td>\n",
       "      <td>44</td>\n",
       "      <td>28.492700</td>\n",
       "      <td>77.303817</td>\n",
       "      <td>origin</td>\n",
       "      <td>4:00-7:00</td>\n",
       "    </tr>\n",
       "    <tr>\n",
       "      <th>20</th>\n",
       "      <td>4</td>\n",
       "      <td>6</td>\n",
       "      <td>28.500000</td>\n",
       "      <td>77.294633</td>\n",
       "      <td>origin</td>\n",
       "      <td>4:00-7:00</td>\n",
       "    </tr>\n",
       "    <tr>\n",
       "      <th>276</th>\n",
       "      <td>5</td>\n",
       "      <td>712</td>\n",
       "      <td>28.541700</td>\n",
       "      <td>77.129350</td>\n",
       "      <td>origin</td>\n",
       "      <td>4:00-7:00</td>\n",
       "    </tr>\n",
       "    <tr>\n",
       "      <th>257</th>\n",
       "      <td>5</td>\n",
       "      <td>41</td>\n",
       "      <td>28.535610</td>\n",
       "      <td>77.112429</td>\n",
       "      <td>origin</td>\n",
       "      <td>4:00-7:00</td>\n",
       "    </tr>\n",
       "    <tr>\n",
       "      <th>...</th>\n",
       "      <td>...</td>\n",
       "      <td>...</td>\n",
       "      <td>...</td>\n",
       "      <td>...</td>\n",
       "      <td>...</td>\n",
       "      <td>...</td>\n",
       "    </tr>\n",
       "    <tr>\n",
       "      <th>275</th>\n",
       "      <td>23</td>\n",
       "      <td>3</td>\n",
       "      <td>28.535610</td>\n",
       "      <td>77.112429</td>\n",
       "      <td>origin</td>\n",
       "      <td>20:00-24:00</td>\n",
       "    </tr>\n",
       "    <tr>\n",
       "      <th>238</th>\n",
       "      <td>23</td>\n",
       "      <td>4</td>\n",
       "      <td>28.534652</td>\n",
       "      <td>77.090446</td>\n",
       "      <td>origin</td>\n",
       "      <td>20:00-24:00</td>\n",
       "    </tr>\n",
       "    <tr>\n",
       "      <th>165</th>\n",
       "      <td>23</td>\n",
       "      <td>5</td>\n",
       "      <td>28.522166</td>\n",
       "      <td>77.098643</td>\n",
       "      <td>origin</td>\n",
       "      <td>20:00-24:00</td>\n",
       "    </tr>\n",
       "    <tr>\n",
       "      <th>220</th>\n",
       "      <td>23</td>\n",
       "      <td>1</td>\n",
       "      <td>28.533980</td>\n",
       "      <td>77.142404</td>\n",
       "      <td>origin</td>\n",
       "      <td>20:00-24:00</td>\n",
       "    </tr>\n",
       "    <tr>\n",
       "      <th>294</th>\n",
       "      <td>23</td>\n",
       "      <td>22</td>\n",
       "      <td>28.541700</td>\n",
       "      <td>77.129350</td>\n",
       "      <td>origin</td>\n",
       "      <td>20:00-24:00</td>\n",
       "    </tr>\n",
       "  </tbody>\n",
       "</table>\n",
       "<p>295 rows × 6 columns</p>\n",
       "</div>"
      ],
      "text/plain": [
       "     Hour  USER_COUNT        lat       long     O_D   Hour_range\n",
       "0       0           1  28.492700  77.303817  origin   00:00-4:00\n",
       "1       4          44  28.492700  77.303817  origin    4:00-7:00\n",
       "20      4           6  28.500000  77.294633  origin    4:00-7:00\n",
       "276     5         712  28.541700  77.129350  origin    4:00-7:00\n",
       "257     5          41  28.535610  77.112429  origin    4:00-7:00\n",
       "..    ...         ...        ...        ...     ...          ...\n",
       "275    23           3  28.535610  77.112429  origin  20:00-24:00\n",
       "238    23           4  28.534652  77.090446  origin  20:00-24:00\n",
       "165    23           5  28.522166  77.098643  origin  20:00-24:00\n",
       "220    23           1  28.533980  77.142404  origin  20:00-24:00\n",
       "294    23          22  28.541700  77.129350  origin  20:00-24:00\n",
       "\n",
       "[295 rows x 6 columns]"
      ]
     },
     "execution_count": 24,
     "metadata": {},
     "output_type": "execute_result"
    }
   ],
   "source": [
    "origin_map"
   ]
  },
  {
   "cell_type": "code",
   "execution_count": 23,
   "id": "048bc406",
   "metadata": {},
   "outputs": [
    {
     "data": {
      "application/vnd.plotly.v1+json": {
       "config": {
        "plotlyServerURL": "https://plot.ly"
       },
       "data": [
        {
         "hovertemplate": "Hour_range=00:00-4:00<br>USER_COUNT=%{marker.size}<br>lat=%{lat}<br>long=%{lon}<extra></extra>",
         "lat": [
          28.4927
         ],
         "legendgroup": "",
         "lon": [
          77.30381700000002
         ],
         "marker": {
          "color": "#636efa",
          "size": [
           1
          ],
          "sizemode": "area",
          "sizeref": 203.52
         },
         "mode": "markers",
         "name": "",
         "showlegend": false,
         "subplot": "mapbox",
         "type": "scattermapbox"
        }
       ],
       "frames": [
        {
         "data": [
          {
           "hovertemplate": "Hour_range=00:00-4:00<br>USER_COUNT=%{marker.size}<br>lat=%{lat}<br>long=%{lon}<extra></extra>",
           "lat": [
            28.4927
           ],
           "legendgroup": "",
           "lon": [
            77.30381700000002
           ],
           "marker": {
            "color": "#636efa",
            "size": [
             1
            ],
            "sizemode": "area",
            "sizeref": 203.52
           },
           "mode": "markers",
           "name": "",
           "showlegend": false,
           "subplot": "mapbox",
           "type": "scattermapbox"
          }
         ],
         "name": "00:00-4:00"
        },
        {
         "data": [
          {
           "hovertemplate": "Hour_range=4:00-7:00<br>USER_COUNT=%{marker.size}<br>lat=%{lat}<br>long=%{lon}<extra></extra>",
           "lat": [
            28.4927,
            28.5,
            28.5417,
            28.53561,
            28.534882,
            28.53398,
            28.5313,
            28.52249500000001,
            28.521142,
            28.51610100000001,
            28.514366,
            28.512167,
            28.509217,
            28.509067,
            28.5,
            28.5221655777015,
            28.4927,
            28.521142,
            28.52249500000001,
            28.5221655777015,
            28.534652,
            28.5313,
            28.512167,
            28.4927,
            28.51610100000001,
            28.5417,
            28.5,
            28.53561,
            28.534882,
            28.514366,
            28.509067,
            28.53398,
            28.509217
           ],
           "legendgroup": "",
           "lon": [
            77.30381700000002,
            77.29463299999998,
            77.12935,
            77.112429,
            77.10835300000002,
            77.142404,
            77.08815,
            77.193066,
            77.199972,
            77.223607,
            77.16415500000002,
            77.248667,
            77.178967,
            77.265117,
            77.29463299999998,
            77.09864265467749,
            77.30381700000002,
            77.199972,
            77.193066,
            77.09864265467749,
            77.090446,
            77.08815,
            77.248667,
            77.30381700000002,
            77.223607,
            77.12935,
            77.29463299999998,
            77.112429,
            77.10835300000002,
            77.16415500000002,
            77.265117,
            77.142404,
            77.178967
           ],
           "marker": {
            "color": "#636efa",
            "size": [
             44,
             6,
             712,
             41,
             2,
             441,
             1,
             424,
             504,
             3232,
             1039,
             7242,
             1074,
             1207,
             3324,
             50,
             11899,
             1533,
             1622,
             732,
             203,
             38,
             15979,
             21135,
             6857,
             7002,
             9579,
             344,
             93,
             7102,
             2527,
             3271,
             4832
            ],
            "sizemode": "area",
            "sizeref": 203.52
           },
           "mode": "markers",
           "name": "",
           "showlegend": false,
           "subplot": "mapbox",
           "type": "scattermapbox"
          }
         ],
         "name": "4:00-7:00"
        },
        {
         "data": [
          {
           "hovertemplate": "Hour_range=7:00-11:00<br>USER_COUNT=%{marker.size}<br>lat=%{lat}<br>long=%{lon}<extra></extra>",
           "lat": [
            28.53561,
            28.521142,
            28.5221655777015,
            28.512167,
            28.51610100000001,
            28.514366,
            28.5417,
            28.509217,
            28.5313,
            28.52249500000001,
            28.509067,
            28.534882,
            28.4927,
            28.5,
            28.534652,
            28.53398,
            28.5313,
            28.534882,
            28.514366,
            28.5,
            28.512167,
            28.534652,
            28.51610100000001,
            28.521142,
            28.5221655777015,
            28.509217,
            28.5417,
            28.52249500000001,
            28.509067,
            28.53561,
            28.4927,
            28.53398,
            28.4927,
            28.5313,
            28.514366,
            28.5,
            28.512167,
            28.52249500000001,
            28.534652,
            28.5417,
            28.509217,
            28.53398,
            28.534882,
            28.521142,
            28.5221655777015,
            28.509067,
            28.51610100000001,
            28.53561,
            28.53561,
            28.5221655777015,
            28.5313,
            28.51610100000001,
            28.52249500000001,
            28.534652,
            28.521142,
            28.4927,
            28.514366,
            28.53398,
            28.534882,
            28.509067,
            28.5417,
            28.512167,
            28.5,
            28.509217
           ],
           "legendgroup": "",
           "lon": [
            77.112429,
            77.199972,
            77.09864265467749,
            77.248667,
            77.223607,
            77.16415500000002,
            77.12935,
            77.178967,
            77.08815,
            77.193066,
            77.265117,
            77.10835300000002,
            77.30381700000002,
            77.29463299999998,
            77.090446,
            77.142404,
            77.08815,
            77.10835300000002,
            77.16415500000002,
            77.29463299999998,
            77.248667,
            77.090446,
            77.223607,
            77.199972,
            77.09864265467749,
            77.178967,
            77.12935,
            77.193066,
            77.265117,
            77.112429,
            77.30381700000002,
            77.142404,
            77.30381700000002,
            77.08815,
            77.16415500000002,
            77.29463299999998,
            77.248667,
            77.193066,
            77.090446,
            77.12935,
            77.178967,
            77.142404,
            77.10835300000002,
            77.199972,
            77.09864265467749,
            77.265117,
            77.223607,
            77.112429,
            77.112429,
            77.09864265467749,
            77.08815,
            77.223607,
            77.193066,
            77.090446,
            77.199972,
            77.30381700000002,
            77.16415500000002,
            77.142404,
            77.10835300000002,
            77.265117,
            77.12935,
            77.248667,
            77.29463299999998,
            77.178967
           ],
           "marker": {
            "color": "#636efa",
            "size": [
             268,
             3203,
             925,
             21044,
             10316,
             8297,
             8155,
             7858,
             91,
             2356,
             3296,
             83,
             29807,
             13588,
             286,
             4209,
             305,
             82,
             9329,
             24067,
             35441,
             903,
             14197,
             5530,
             1196,
             10240,
             8816,
             3299,
             5485,
             303,
             45792,
             7169,
             34713,
             255,
             13474,
             18648,
             32442,
             4435,
             844,
             9452,
             16213,
             8390,
             73,
             8744,
             1015,
             4850,
             16996,
             300,
             123,
             682,
             136,
             10431,
             2906,
             575,
             4543,
             24038,
             7837,
             4131,
             89,
             2707,
             4863,
             18348,
             12483,
             10101
            ],
            "sizemode": "area",
            "sizeref": 203.52
           },
           "mode": "markers",
           "name": "",
           "showlegend": false,
           "subplot": "mapbox",
           "type": "scattermapbox"
          }
         ],
         "name": "7:00-11:00"
        },
        {
         "data": [
          {
           "hovertemplate": "Hour_range=11:00-15:00<br>USER_COUNT=%{marker.size}<br>lat=%{lat}<br>long=%{lon}<extra></extra>",
           "lat": [
            28.5417,
            28.52249500000001,
            28.53561,
            28.509067,
            28.5313,
            28.51610100000001,
            28.512167,
            28.5221655777015,
            28.53398,
            28.4927,
            28.521142,
            28.534882,
            28.5,
            28.534652,
            28.514366,
            28.509217,
            28.5417,
            28.52249500000001,
            28.534882,
            28.53561,
            28.509067,
            28.509217,
            28.51610100000001,
            28.53398,
            28.5221655777015,
            28.514366,
            28.5313,
            28.5,
            28.521142,
            28.512167,
            28.534652,
            28.4927,
            28.4927,
            28.52249500000001,
            28.509067,
            28.509217,
            28.5313,
            28.53398,
            28.5,
            28.534652,
            28.534882,
            28.5417,
            28.53561,
            28.5221655777015,
            28.51610100000001,
            28.512167,
            28.514366,
            28.521142,
            28.5313,
            28.509067,
            28.5417,
            28.51610100000001,
            28.4927,
            28.53398,
            28.5,
            28.5221655777015,
            28.52249500000001,
            28.521142,
            28.534882,
            28.509217,
            28.512167,
            28.514366,
            28.534652,
            28.53561
           ],
           "legendgroup": "",
           "lon": [
            77.12935,
            77.193066,
            77.112429,
            77.265117,
            77.08815,
            77.223607,
            77.248667,
            77.09864265467749,
            77.142404,
            77.30381700000002,
            77.199972,
            77.10835300000002,
            77.29463299999998,
            77.090446,
            77.16415500000002,
            77.178967,
            77.12935,
            77.193066,
            77.10835300000002,
            77.112429,
            77.265117,
            77.178967,
            77.223607,
            77.142404,
            77.09864265467749,
            77.16415500000002,
            77.08815,
            77.29463299999998,
            77.199972,
            77.248667,
            77.090446,
            77.30381700000002,
            77.30381700000002,
            77.193066,
            77.265117,
            77.178967,
            77.08815,
            77.142404,
            77.29463299999998,
            77.090446,
            77.10835300000002,
            77.12935,
            77.112429,
            77.09864265467749,
            77.223607,
            77.248667,
            77.16415500000002,
            77.199972,
            77.08815,
            77.265117,
            77.12935,
            77.223607,
            77.30381700000002,
            77.142404,
            77.29463299999998,
            77.09864265467749,
            77.193066,
            77.199972,
            77.10835300000002,
            77.178967,
            77.248667,
            77.16415500000002,
            77.090446,
            77.112429
           ],
           "marker": {
            "color": "#636efa",
            "size": [
             3553,
             1876,
             135,
             1645,
             81,
             6434,
             10889,
             614,
             3777,
             12623,
             2379,
             74,
             6348,
             375,
             5966,
             6955,
             2192,
             1254,
             48,
             106,
             1651,
             3598,
             3862,
             2608,
             458,
             3810,
             31,
             8379,
             1566,
             7891,
             261,
             16460,
             18018,
             2696,
             2481,
             8356,
             32,
             3339,
             10765,
             259,
             20,
             2539,
             149,
             466,
             7867,
             16780,
             6924,
             3137,
             60,
             1555,
             5761,
             5232,
             13586,
             5743,
             7378,
             963,
             2566,
             2653,
             127,
             8728,
             9163,
             7554,
             371,
             262
            ],
            "sizemode": "area",
            "sizeref": 203.52
           },
           "mode": "markers",
           "name": "",
           "showlegend": false,
           "subplot": "mapbox",
           "type": "scattermapbox"
          }
         ],
         "name": "11:00-15:00"
        },
        {
         "data": [
          {
           "hovertemplate": "Hour_range=15:00-16:00<br>USER_COUNT=%{marker.size}<br>lat=%{lat}<br>long=%{lon}<extra></extra>",
           "lat": [
            28.509067,
            28.534652,
            28.51610100000001,
            28.514366,
            28.5,
            28.53398,
            28.534882,
            28.52249500000001,
            28.512167,
            28.5313,
            28.5417,
            28.521142,
            28.53561,
            28.5221655777015,
            28.4927,
            28.509217
           ],
           "legendgroup": "",
           "lon": [
            77.265117,
            77.090446,
            77.223607,
            77.16415500000002,
            77.29463299999998,
            77.142404,
            77.10835300000002,
            77.193066,
            77.248667,
            77.08815,
            77.12935,
            77.199972,
            77.112429,
            77.09864265467749,
            77.30381700000002,
            77.178967
           ],
           "marker": {
            "color": "#636efa",
            "size": [
             1937,
             371,
             5510,
             6801,
             9126,
             4132,
             60,
             2777,
             9856,
             45,
             3826,
             2754,
             257,
             712,
             15490,
             8574
            ],
            "sizemode": "area",
            "sizeref": 203.52
           },
           "mode": "markers",
           "name": "",
           "showlegend": false,
           "subplot": "mapbox",
           "type": "scattermapbox"
          }
         ],
         "name": "15:00-16:00"
        },
        {
         "data": [
          {
           "hovertemplate": "Hour_range=16:00-20:00<br>USER_COUNT=%{marker.size}<br>lat=%{lat}<br>long=%{lon}<extra></extra>",
           "lat": [
            28.521142,
            28.509217,
            28.5313,
            28.53398,
            28.53561,
            28.534652,
            28.5417,
            28.4927,
            28.514366,
            28.512167,
            28.509067,
            28.5,
            28.534882,
            28.52249500000001,
            28.5221655777015,
            28.51610100000001,
            28.514366,
            28.5,
            28.509217,
            28.534882,
            28.5221655777015,
            28.521142,
            28.53398,
            28.5313,
            28.53561,
            28.534652,
            28.51610100000001,
            28.512167,
            28.52249500000001,
            28.4927,
            28.509067,
            28.5417,
            28.534652,
            28.512167,
            28.534882,
            28.4927,
            28.5221655777015,
            28.521142,
            28.5417,
            28.53398,
            28.509217,
            28.5313,
            28.5,
            28.53561,
            28.509067,
            28.51610100000001,
            28.514366,
            28.52249500000001,
            28.52249500000001,
            28.512167,
            28.509067,
            28.521142,
            28.534652,
            28.5417,
            28.53398,
            28.51610100000001,
            28.5313,
            28.534882,
            28.5,
            28.4927,
            28.5221655777015,
            28.53561,
            28.514366,
            28.509217
           ],
           "legendgroup": "",
           "lon": [
            77.199972,
            77.178967,
            77.08815,
            77.142404,
            77.112429,
            77.090446,
            77.12935,
            77.30381700000002,
            77.16415500000002,
            77.248667,
            77.265117,
            77.29463299999998,
            77.10835300000002,
            77.193066,
            77.09864265467749,
            77.223607,
            77.16415500000002,
            77.29463299999998,
            77.178967,
            77.10835300000002,
            77.09864265467749,
            77.199972,
            77.142404,
            77.08815,
            77.112429,
            77.090446,
            77.223607,
            77.248667,
            77.193066,
            77.30381700000002,
            77.265117,
            77.12935,
            77.090446,
            77.248667,
            77.10835300000002,
            77.30381700000002,
            77.09864265467749,
            77.199972,
            77.12935,
            77.142404,
            77.178967,
            77.08815,
            77.29463299999998,
            77.112429,
            77.265117,
            77.223607,
            77.16415500000002,
            77.193066,
            77.193066,
            77.248667,
            77.265117,
            77.199972,
            77.090446,
            77.12935,
            77.142404,
            77.223607,
            77.08815,
            77.10835300000002,
            77.29463299999998,
            77.30381700000002,
            77.09864265467749,
            77.112429,
            77.16415500000002,
            77.178967
           ],
           "marker": {
            "color": "#636efa",
            "size": [
             3552,
             11245,
             43,
             5656,
             350,
             412,
             4425,
             17839,
             8714,
             12470,
             2402,
             10592,
             88,
             2892,
             841,
             6601,
             10863,
             10606,
             11699,
             202,
             1631,
             3838,
             6778,
             74,
             535,
             727,
             6072,
             10287,
             3003,
             16397,
             2339,
             6469,
             588,
             7525,
             188,
             13657,
             1321,
             3805,
             6932,
             5631,
             10715,
             37,
             11525,
             412,
             2177,
             4878,
             10917,
             2675,
             1523,
             5782,
             1694,
             2355,
             304,
             3504,
             2510,
             3725,
             49,
             96,
             9033,
             11449,
             648,
             227,
             5717,
             6317
            ],
            "sizemode": "area",
            "sizeref": 203.52
           },
           "mode": "markers",
           "name": "",
           "showlegend": false,
           "subplot": "mapbox",
           "type": "scattermapbox"
          }
         ],
         "name": "16:00-20:00"
        },
        {
         "data": [
          {
           "hovertemplate": "Hour_range=20:00-24:00<br>USER_COUNT=%{marker.size}<br>lat=%{lat}<br>long=%{lon}<extra></extra>",
           "lat": [
            28.534882,
            28.5417,
            28.53561,
            28.4927,
            28.514366,
            28.52249500000001,
            28.5313,
            28.5,
            28.521142,
            28.5221655777015,
            28.509217,
            28.51610100000001,
            28.512167,
            28.534652,
            28.53398,
            28.509067,
            28.509217,
            28.53561,
            28.521142,
            28.509067,
            28.512167,
            28.51610100000001,
            28.514366,
            28.52249500000001,
            28.5,
            28.534882,
            28.5313,
            28.53398,
            28.4927,
            28.5417,
            28.534652,
            28.5221655777015,
            28.509067,
            28.4927,
            28.509217,
            28.5,
            28.534652,
            28.53561,
            28.514366,
            28.51610100000001,
            28.521142,
            28.5417,
            28.5221655777015,
            28.52249500000001,
            28.534882,
            28.5313,
            28.53398,
            28.512167,
            28.53561,
            28.534652,
            28.5221655777015,
            28.53398,
            28.5417
           ],
           "legendgroup": "",
           "lon": [
            77.10835300000002,
            77.12935,
            77.112429,
            77.30381700000002,
            77.16415500000002,
            77.193066,
            77.08815,
            77.29463299999998,
            77.199972,
            77.09864265467749,
            77.178967,
            77.223607,
            77.248667,
            77.090446,
            77.142404,
            77.265117,
            77.178967,
            77.112429,
            77.199972,
            77.265117,
            77.248667,
            77.223607,
            77.16415500000002,
            77.193066,
            77.29463299999998,
            77.10835300000002,
            77.08815,
            77.142404,
            77.30381700000002,
            77.12935,
            77.090446,
            77.09864265467749,
            77.265117,
            77.30381700000002,
            77.178967,
            77.29463299999998,
            77.090446,
            77.112429,
            77.16415500000002,
            77.223607,
            77.199972,
            77.12935,
            77.09864265467749,
            77.193066,
            77.10835300000002,
            77.08815,
            77.142404,
            77.248667,
            77.112429,
            77.090446,
            77.09864265467749,
            77.142404,
            77.12935
           ],
           "marker": {
            "color": "#636efa",
            "size": [
             51,
             2966,
             169,
             6163,
             4285,
             996,
             43,
             4454,
             1637,
             457,
             4775,
             2627,
             3481,
             183,
             2377,
             954,
             2437,
             59,
             679,
             366,
             1890,
             1093,
             2323,
             378,
             2970,
             24,
             20,
             1244,
             3727,
             1940,
             141,
             294,
             6,
             66,
             693,
             46,
             69,
             52,
             621,
             113,
             56,
             1189,
             126,
             64,
             5,
             4,
             336,
             111,
             3,
             4,
             5,
             1,
             22
            ],
            "sizemode": "area",
            "sizeref": 203.52
           },
           "mode": "markers",
           "name": "",
           "showlegend": false,
           "subplot": "mapbox",
           "type": "scattermapbox"
          }
         ],
         "name": "20:00-24:00"
        }
       ],
       "layout": {
        "legend": {
         "itemsizing": "constant",
         "tracegroupgap": 0
        },
        "mapbox": {
         "center": {
          "lat": 28.520632738902812,
          "lon": 77.1780917099623
         },
         "domain": {
          "x": [
           0,
           1
          ],
          "y": [
           0,
           1
          ]
         },
         "style": "carto-positron",
         "zoom": 10
        },
        "sliders": [
         {
          "active": 0,
          "currentvalue": {
           "prefix": "Hour_range="
          },
          "len": 0.9,
          "pad": {
           "b": 10,
           "t": 60
          },
          "steps": [
           {
            "args": [
             [
              "00:00-4:00"
             ],
             {
              "frame": {
               "duration": 0,
               "redraw": true
              },
              "fromcurrent": true,
              "mode": "immediate",
              "transition": {
               "duration": 0,
               "easing": "linear"
              }
             }
            ],
            "label": "00:00-4:00",
            "method": "animate"
           },
           {
            "args": [
             [
              "4:00-7:00"
             ],
             {
              "frame": {
               "duration": 0,
               "redraw": true
              },
              "fromcurrent": true,
              "mode": "immediate",
              "transition": {
               "duration": 0,
               "easing": "linear"
              }
             }
            ],
            "label": "4:00-7:00",
            "method": "animate"
           },
           {
            "args": [
             [
              "7:00-11:00"
             ],
             {
              "frame": {
               "duration": 0,
               "redraw": true
              },
              "fromcurrent": true,
              "mode": "immediate",
              "transition": {
               "duration": 0,
               "easing": "linear"
              }
             }
            ],
            "label": "7:00-11:00",
            "method": "animate"
           },
           {
            "args": [
             [
              "11:00-15:00"
             ],
             {
              "frame": {
               "duration": 0,
               "redraw": true
              },
              "fromcurrent": true,
              "mode": "immediate",
              "transition": {
               "duration": 0,
               "easing": "linear"
              }
             }
            ],
            "label": "11:00-15:00",
            "method": "animate"
           },
           {
            "args": [
             [
              "15:00-16:00"
             ],
             {
              "frame": {
               "duration": 0,
               "redraw": true
              },
              "fromcurrent": true,
              "mode": "immediate",
              "transition": {
               "duration": 0,
               "easing": "linear"
              }
             }
            ],
            "label": "15:00-16:00",
            "method": "animate"
           },
           {
            "args": [
             [
              "16:00-20:00"
             ],
             {
              "frame": {
               "duration": 0,
               "redraw": true
              },
              "fromcurrent": true,
              "mode": "immediate",
              "transition": {
               "duration": 0,
               "easing": "linear"
              }
             }
            ],
            "label": "16:00-20:00",
            "method": "animate"
           },
           {
            "args": [
             [
              "20:00-24:00"
             ],
             {
              "frame": {
               "duration": 0,
               "redraw": true
              },
              "fromcurrent": true,
              "mode": "immediate",
              "transition": {
               "duration": 0,
               "easing": "linear"
              }
             }
            ],
            "label": "20:00-24:00",
            "method": "animate"
           }
          ],
          "x": 0.1,
          "xanchor": "left",
          "y": 0,
          "yanchor": "top"
         }
        ],
        "template": {
         "data": {
          "bar": [
           {
            "error_x": {
             "color": "#2a3f5f"
            },
            "error_y": {
             "color": "#2a3f5f"
            },
            "marker": {
             "line": {
              "color": "#E5ECF6",
              "width": 0.5
             },
             "pattern": {
              "fillmode": "overlay",
              "size": 10,
              "solidity": 0.2
             }
            },
            "type": "bar"
           }
          ],
          "barpolar": [
           {
            "marker": {
             "line": {
              "color": "#E5ECF6",
              "width": 0.5
             },
             "pattern": {
              "fillmode": "overlay",
              "size": 10,
              "solidity": 0.2
             }
            },
            "type": "barpolar"
           }
          ],
          "carpet": [
           {
            "aaxis": {
             "endlinecolor": "#2a3f5f",
             "gridcolor": "white",
             "linecolor": "white",
             "minorgridcolor": "white",
             "startlinecolor": "#2a3f5f"
            },
            "baxis": {
             "endlinecolor": "#2a3f5f",
             "gridcolor": "white",
             "linecolor": "white",
             "minorgridcolor": "white",
             "startlinecolor": "#2a3f5f"
            },
            "type": "carpet"
           }
          ],
          "choropleth": [
           {
            "colorbar": {
             "outlinewidth": 0,
             "ticks": ""
            },
            "type": "choropleth"
           }
          ],
          "contour": [
           {
            "colorbar": {
             "outlinewidth": 0,
             "ticks": ""
            },
            "colorscale": [
             [
              0,
              "#0d0887"
             ],
             [
              0.1111111111111111,
              "#46039f"
             ],
             [
              0.2222222222222222,
              "#7201a8"
             ],
             [
              0.3333333333333333,
              "#9c179e"
             ],
             [
              0.4444444444444444,
              "#bd3786"
             ],
             [
              0.5555555555555556,
              "#d8576b"
             ],
             [
              0.6666666666666666,
              "#ed7953"
             ],
             [
              0.7777777777777778,
              "#fb9f3a"
             ],
             [
              0.8888888888888888,
              "#fdca26"
             ],
             [
              1,
              "#f0f921"
             ]
            ],
            "type": "contour"
           }
          ],
          "contourcarpet": [
           {
            "colorbar": {
             "outlinewidth": 0,
             "ticks": ""
            },
            "type": "contourcarpet"
           }
          ],
          "heatmap": [
           {
            "colorbar": {
             "outlinewidth": 0,
             "ticks": ""
            },
            "colorscale": [
             [
              0,
              "#0d0887"
             ],
             [
              0.1111111111111111,
              "#46039f"
             ],
             [
              0.2222222222222222,
              "#7201a8"
             ],
             [
              0.3333333333333333,
              "#9c179e"
             ],
             [
              0.4444444444444444,
              "#bd3786"
             ],
             [
              0.5555555555555556,
              "#d8576b"
             ],
             [
              0.6666666666666666,
              "#ed7953"
             ],
             [
              0.7777777777777778,
              "#fb9f3a"
             ],
             [
              0.8888888888888888,
              "#fdca26"
             ],
             [
              1,
              "#f0f921"
             ]
            ],
            "type": "heatmap"
           }
          ],
          "heatmapgl": [
           {
            "colorbar": {
             "outlinewidth": 0,
             "ticks": ""
            },
            "colorscale": [
             [
              0,
              "#0d0887"
             ],
             [
              0.1111111111111111,
              "#46039f"
             ],
             [
              0.2222222222222222,
              "#7201a8"
             ],
             [
              0.3333333333333333,
              "#9c179e"
             ],
             [
              0.4444444444444444,
              "#bd3786"
             ],
             [
              0.5555555555555556,
              "#d8576b"
             ],
             [
              0.6666666666666666,
              "#ed7953"
             ],
             [
              0.7777777777777778,
              "#fb9f3a"
             ],
             [
              0.8888888888888888,
              "#fdca26"
             ],
             [
              1,
              "#f0f921"
             ]
            ],
            "type": "heatmapgl"
           }
          ],
          "histogram": [
           {
            "marker": {
             "pattern": {
              "fillmode": "overlay",
              "size": 10,
              "solidity": 0.2
             }
            },
            "type": "histogram"
           }
          ],
          "histogram2d": [
           {
            "colorbar": {
             "outlinewidth": 0,
             "ticks": ""
            },
            "colorscale": [
             [
              0,
              "#0d0887"
             ],
             [
              0.1111111111111111,
              "#46039f"
             ],
             [
              0.2222222222222222,
              "#7201a8"
             ],
             [
              0.3333333333333333,
              "#9c179e"
             ],
             [
              0.4444444444444444,
              "#bd3786"
             ],
             [
              0.5555555555555556,
              "#d8576b"
             ],
             [
              0.6666666666666666,
              "#ed7953"
             ],
             [
              0.7777777777777778,
              "#fb9f3a"
             ],
             [
              0.8888888888888888,
              "#fdca26"
             ],
             [
              1,
              "#f0f921"
             ]
            ],
            "type": "histogram2d"
           }
          ],
          "histogram2dcontour": [
           {
            "colorbar": {
             "outlinewidth": 0,
             "ticks": ""
            },
            "colorscale": [
             [
              0,
              "#0d0887"
             ],
             [
              0.1111111111111111,
              "#46039f"
             ],
             [
              0.2222222222222222,
              "#7201a8"
             ],
             [
              0.3333333333333333,
              "#9c179e"
             ],
             [
              0.4444444444444444,
              "#bd3786"
             ],
             [
              0.5555555555555556,
              "#d8576b"
             ],
             [
              0.6666666666666666,
              "#ed7953"
             ],
             [
              0.7777777777777778,
              "#fb9f3a"
             ],
             [
              0.8888888888888888,
              "#fdca26"
             ],
             [
              1,
              "#f0f921"
             ]
            ],
            "type": "histogram2dcontour"
           }
          ],
          "mesh3d": [
           {
            "colorbar": {
             "outlinewidth": 0,
             "ticks": ""
            },
            "type": "mesh3d"
           }
          ],
          "parcoords": [
           {
            "line": {
             "colorbar": {
              "outlinewidth": 0,
              "ticks": ""
             }
            },
            "type": "parcoords"
           }
          ],
          "pie": [
           {
            "automargin": true,
            "type": "pie"
           }
          ],
          "scatter": [
           {
            "fillpattern": {
             "fillmode": "overlay",
             "size": 10,
             "solidity": 0.2
            },
            "type": "scatter"
           }
          ],
          "scatter3d": [
           {
            "line": {
             "colorbar": {
              "outlinewidth": 0,
              "ticks": ""
             }
            },
            "marker": {
             "colorbar": {
              "outlinewidth": 0,
              "ticks": ""
             }
            },
            "type": "scatter3d"
           }
          ],
          "scattercarpet": [
           {
            "marker": {
             "colorbar": {
              "outlinewidth": 0,
              "ticks": ""
             }
            },
            "type": "scattercarpet"
           }
          ],
          "scattergeo": [
           {
            "marker": {
             "colorbar": {
              "outlinewidth": 0,
              "ticks": ""
             }
            },
            "type": "scattergeo"
           }
          ],
          "scattergl": [
           {
            "marker": {
             "colorbar": {
              "outlinewidth": 0,
              "ticks": ""
             }
            },
            "type": "scattergl"
           }
          ],
          "scattermapbox": [
           {
            "marker": {
             "colorbar": {
              "outlinewidth": 0,
              "ticks": ""
             }
            },
            "type": "scattermapbox"
           }
          ],
          "scatterpolar": [
           {
            "marker": {
             "colorbar": {
              "outlinewidth": 0,
              "ticks": ""
             }
            },
            "type": "scatterpolar"
           }
          ],
          "scatterpolargl": [
           {
            "marker": {
             "colorbar": {
              "outlinewidth": 0,
              "ticks": ""
             }
            },
            "type": "scatterpolargl"
           }
          ],
          "scatterternary": [
           {
            "marker": {
             "colorbar": {
              "outlinewidth": 0,
              "ticks": ""
             }
            },
            "type": "scatterternary"
           }
          ],
          "surface": [
           {
            "colorbar": {
             "outlinewidth": 0,
             "ticks": ""
            },
            "colorscale": [
             [
              0,
              "#0d0887"
             ],
             [
              0.1111111111111111,
              "#46039f"
             ],
             [
              0.2222222222222222,
              "#7201a8"
             ],
             [
              0.3333333333333333,
              "#9c179e"
             ],
             [
              0.4444444444444444,
              "#bd3786"
             ],
             [
              0.5555555555555556,
              "#d8576b"
             ],
             [
              0.6666666666666666,
              "#ed7953"
             ],
             [
              0.7777777777777778,
              "#fb9f3a"
             ],
             [
              0.8888888888888888,
              "#fdca26"
             ],
             [
              1,
              "#f0f921"
             ]
            ],
            "type": "surface"
           }
          ],
          "table": [
           {
            "cells": {
             "fill": {
              "color": "#EBF0F8"
             },
             "line": {
              "color": "white"
             }
            },
            "header": {
             "fill": {
              "color": "#C8D4E3"
             },
             "line": {
              "color": "white"
             }
            },
            "type": "table"
           }
          ]
         },
         "layout": {
          "annotationdefaults": {
           "arrowcolor": "#2a3f5f",
           "arrowhead": 0,
           "arrowwidth": 1
          },
          "autotypenumbers": "strict",
          "coloraxis": {
           "colorbar": {
            "outlinewidth": 0,
            "ticks": ""
           }
          },
          "colorscale": {
           "diverging": [
            [
             0,
             "#8e0152"
            ],
            [
             0.1,
             "#c51b7d"
            ],
            [
             0.2,
             "#de77ae"
            ],
            [
             0.3,
             "#f1b6da"
            ],
            [
             0.4,
             "#fde0ef"
            ],
            [
             0.5,
             "#f7f7f7"
            ],
            [
             0.6,
             "#e6f5d0"
            ],
            [
             0.7,
             "#b8e186"
            ],
            [
             0.8,
             "#7fbc41"
            ],
            [
             0.9,
             "#4d9221"
            ],
            [
             1,
             "#276419"
            ]
           ],
           "sequential": [
            [
             0,
             "#0d0887"
            ],
            [
             0.1111111111111111,
             "#46039f"
            ],
            [
             0.2222222222222222,
             "#7201a8"
            ],
            [
             0.3333333333333333,
             "#9c179e"
            ],
            [
             0.4444444444444444,
             "#bd3786"
            ],
            [
             0.5555555555555556,
             "#d8576b"
            ],
            [
             0.6666666666666666,
             "#ed7953"
            ],
            [
             0.7777777777777778,
             "#fb9f3a"
            ],
            [
             0.8888888888888888,
             "#fdca26"
            ],
            [
             1,
             "#f0f921"
            ]
           ],
           "sequentialminus": [
            [
             0,
             "#0d0887"
            ],
            [
             0.1111111111111111,
             "#46039f"
            ],
            [
             0.2222222222222222,
             "#7201a8"
            ],
            [
             0.3333333333333333,
             "#9c179e"
            ],
            [
             0.4444444444444444,
             "#bd3786"
            ],
            [
             0.5555555555555556,
             "#d8576b"
            ],
            [
             0.6666666666666666,
             "#ed7953"
            ],
            [
             0.7777777777777778,
             "#fb9f3a"
            ],
            [
             0.8888888888888888,
             "#fdca26"
            ],
            [
             1,
             "#f0f921"
            ]
           ]
          },
          "colorway": [
           "#636efa",
           "#EF553B",
           "#00cc96",
           "#ab63fa",
           "#FFA15A",
           "#19d3f3",
           "#FF6692",
           "#B6E880",
           "#FF97FF",
           "#FECB52"
          ],
          "font": {
           "color": "#2a3f5f"
          },
          "geo": {
           "bgcolor": "white",
           "lakecolor": "white",
           "landcolor": "#E5ECF6",
           "showlakes": true,
           "showland": true,
           "subunitcolor": "white"
          },
          "hoverlabel": {
           "align": "left"
          },
          "hovermode": "closest",
          "mapbox": {
           "style": "light"
          },
          "paper_bgcolor": "white",
          "plot_bgcolor": "#E5ECF6",
          "polar": {
           "angularaxis": {
            "gridcolor": "white",
            "linecolor": "white",
            "ticks": ""
           },
           "bgcolor": "#E5ECF6",
           "radialaxis": {
            "gridcolor": "white",
            "linecolor": "white",
            "ticks": ""
           }
          },
          "scene": {
           "xaxis": {
            "backgroundcolor": "#E5ECF6",
            "gridcolor": "white",
            "gridwidth": 2,
            "linecolor": "white",
            "showbackground": true,
            "ticks": "",
            "zerolinecolor": "white"
           },
           "yaxis": {
            "backgroundcolor": "#E5ECF6",
            "gridcolor": "white",
            "gridwidth": 2,
            "linecolor": "white",
            "showbackground": true,
            "ticks": "",
            "zerolinecolor": "white"
           },
           "zaxis": {
            "backgroundcolor": "#E5ECF6",
            "gridcolor": "white",
            "gridwidth": 2,
            "linecolor": "white",
            "showbackground": true,
            "ticks": "",
            "zerolinecolor": "white"
           }
          },
          "shapedefaults": {
           "line": {
            "color": "#2a3f5f"
           }
          },
          "ternary": {
           "aaxis": {
            "gridcolor": "white",
            "linecolor": "white",
            "ticks": ""
           },
           "baxis": {
            "gridcolor": "white",
            "linecolor": "white",
            "ticks": ""
           },
           "bgcolor": "#E5ECF6",
           "caxis": {
            "gridcolor": "white",
            "linecolor": "white",
            "ticks": ""
           }
          },
          "title": {
           "x": 0.05
          },
          "xaxis": {
           "automargin": true,
           "gridcolor": "white",
           "linecolor": "white",
           "ticks": "",
           "title": {
            "standoff": 15
           },
           "zerolinecolor": "white",
           "zerolinewidth": 2
          },
          "yaxis": {
           "automargin": true,
           "gridcolor": "white",
           "linecolor": "white",
           "ticks": "",
           "title": {
            "standoff": 15
           },
           "zerolinecolor": "white",
           "zerolinewidth": 2
          }
         }
        },
        "title": {
         "text": "Boarding at different time slot"
        },
        "updatemenus": [
         {
          "buttons": [
           {
            "args": [
             null,
             {
              "frame": {
               "duration": 500,
               "redraw": true
              },
              "fromcurrent": true,
              "mode": "immediate",
              "transition": {
               "duration": 500,
               "easing": "linear"
              }
             }
            ],
            "label": "&#9654;",
            "method": "animate"
           },
           {
            "args": [
             [
              null
             ],
             {
              "frame": {
               "duration": 0,
               "redraw": true
              },
              "fromcurrent": true,
              "mode": "immediate",
              "transition": {
               "duration": 0,
               "easing": "linear"
              }
             }
            ],
            "label": "&#9724;",
            "method": "animate"
           }
          ],
          "direction": "left",
          "pad": {
           "r": 10,
           "t": 70
          },
          "showactive": false,
          "type": "buttons",
          "x": 0.1,
          "xanchor": "right",
          "y": 0,
          "yanchor": "top"
         }
        ]
       }
      },
      "text/html": [
       "<div>                            <div id=\"6335bbd5-9029-4bc0-807d-a12defae653f\" class=\"plotly-graph-div\" style=\"height:525px; width:100%;\"></div>            <script type=\"text/javascript\">                require([\"plotly\"], function(Plotly) {                    window.PLOTLYENV=window.PLOTLYENV || {};                                    if (document.getElementById(\"6335bbd5-9029-4bc0-807d-a12defae653f\")) {                    Plotly.newPlot(                        \"6335bbd5-9029-4bc0-807d-a12defae653f\",                        [{\"hovertemplate\":\"Hour_range=00:00-4:00<br>USER_COUNT=%{marker.size}<br>lat=%{lat}<br>long=%{lon}<extra></extra>\",\"lat\":[28.4927],\"legendgroup\":\"\",\"lon\":[77.30381700000002],\"marker\":{\"color\":\"#636efa\",\"size\":[1],\"sizemode\":\"area\",\"sizeref\":203.52},\"mode\":\"markers\",\"name\":\"\",\"showlegend\":false,\"subplot\":\"mapbox\",\"type\":\"scattermapbox\"}],                        {\"template\":{\"data\":{\"histogram2dcontour\":[{\"type\":\"histogram2dcontour\",\"colorbar\":{\"outlinewidth\":0,\"ticks\":\"\"},\"colorscale\":[[0.0,\"#0d0887\"],[0.1111111111111111,\"#46039f\"],[0.2222222222222222,\"#7201a8\"],[0.3333333333333333,\"#9c179e\"],[0.4444444444444444,\"#bd3786\"],[0.5555555555555556,\"#d8576b\"],[0.6666666666666666,\"#ed7953\"],[0.7777777777777778,\"#fb9f3a\"],[0.8888888888888888,\"#fdca26\"],[1.0,\"#f0f921\"]]}],\"choropleth\":[{\"type\":\"choropleth\",\"colorbar\":{\"outlinewidth\":0,\"ticks\":\"\"}}],\"histogram2d\":[{\"type\":\"histogram2d\",\"colorbar\":{\"outlinewidth\":0,\"ticks\":\"\"},\"colorscale\":[[0.0,\"#0d0887\"],[0.1111111111111111,\"#46039f\"],[0.2222222222222222,\"#7201a8\"],[0.3333333333333333,\"#9c179e\"],[0.4444444444444444,\"#bd3786\"],[0.5555555555555556,\"#d8576b\"],[0.6666666666666666,\"#ed7953\"],[0.7777777777777778,\"#fb9f3a\"],[0.8888888888888888,\"#fdca26\"],[1.0,\"#f0f921\"]]}],\"heatmap\":[{\"type\":\"heatmap\",\"colorbar\":{\"outlinewidth\":0,\"ticks\":\"\"},\"colorscale\":[[0.0,\"#0d0887\"],[0.1111111111111111,\"#46039f\"],[0.2222222222222222,\"#7201a8\"],[0.3333333333333333,\"#9c179e\"],[0.4444444444444444,\"#bd3786\"],[0.5555555555555556,\"#d8576b\"],[0.6666666666666666,\"#ed7953\"],[0.7777777777777778,\"#fb9f3a\"],[0.8888888888888888,\"#fdca26\"],[1.0,\"#f0f921\"]]}],\"heatmapgl\":[{\"type\":\"heatmapgl\",\"colorbar\":{\"outlinewidth\":0,\"ticks\":\"\"},\"colorscale\":[[0.0,\"#0d0887\"],[0.1111111111111111,\"#46039f\"],[0.2222222222222222,\"#7201a8\"],[0.3333333333333333,\"#9c179e\"],[0.4444444444444444,\"#bd3786\"],[0.5555555555555556,\"#d8576b\"],[0.6666666666666666,\"#ed7953\"],[0.7777777777777778,\"#fb9f3a\"],[0.8888888888888888,\"#fdca26\"],[1.0,\"#f0f921\"]]}],\"contourcarpet\":[{\"type\":\"contourcarpet\",\"colorbar\":{\"outlinewidth\":0,\"ticks\":\"\"}}],\"contour\":[{\"type\":\"contour\",\"colorbar\":{\"outlinewidth\":0,\"ticks\":\"\"},\"colorscale\":[[0.0,\"#0d0887\"],[0.1111111111111111,\"#46039f\"],[0.2222222222222222,\"#7201a8\"],[0.3333333333333333,\"#9c179e\"],[0.4444444444444444,\"#bd3786\"],[0.5555555555555556,\"#d8576b\"],[0.6666666666666666,\"#ed7953\"],[0.7777777777777778,\"#fb9f3a\"],[0.8888888888888888,\"#fdca26\"],[1.0,\"#f0f921\"]]}],\"surface\":[{\"type\":\"surface\",\"colorbar\":{\"outlinewidth\":0,\"ticks\":\"\"},\"colorscale\":[[0.0,\"#0d0887\"],[0.1111111111111111,\"#46039f\"],[0.2222222222222222,\"#7201a8\"],[0.3333333333333333,\"#9c179e\"],[0.4444444444444444,\"#bd3786\"],[0.5555555555555556,\"#d8576b\"],[0.6666666666666666,\"#ed7953\"],[0.7777777777777778,\"#fb9f3a\"],[0.8888888888888888,\"#fdca26\"],[1.0,\"#f0f921\"]]}],\"mesh3d\":[{\"type\":\"mesh3d\",\"colorbar\":{\"outlinewidth\":0,\"ticks\":\"\"}}],\"scatter\":[{\"fillpattern\":{\"fillmode\":\"overlay\",\"size\":10,\"solidity\":0.2},\"type\":\"scatter\"}],\"parcoords\":[{\"type\":\"parcoords\",\"line\":{\"colorbar\":{\"outlinewidth\":0,\"ticks\":\"\"}}}],\"scatterpolargl\":[{\"type\":\"scatterpolargl\",\"marker\":{\"colorbar\":{\"outlinewidth\":0,\"ticks\":\"\"}}}],\"bar\":[{\"error_x\":{\"color\":\"#2a3f5f\"},\"error_y\":{\"color\":\"#2a3f5f\"},\"marker\":{\"line\":{\"color\":\"#E5ECF6\",\"width\":0.5},\"pattern\":{\"fillmode\":\"overlay\",\"size\":10,\"solidity\":0.2}},\"type\":\"bar\"}],\"scattergeo\":[{\"type\":\"scattergeo\",\"marker\":{\"colorbar\":{\"outlinewidth\":0,\"ticks\":\"\"}}}],\"scatterpolar\":[{\"type\":\"scatterpolar\",\"marker\":{\"colorbar\":{\"outlinewidth\":0,\"ticks\":\"\"}}}],\"histogram\":[{\"marker\":{\"pattern\":{\"fillmode\":\"overlay\",\"size\":10,\"solidity\":0.2}},\"type\":\"histogram\"}],\"scattergl\":[{\"type\":\"scattergl\",\"marker\":{\"colorbar\":{\"outlinewidth\":0,\"ticks\":\"\"}}}],\"scatter3d\":[{\"type\":\"scatter3d\",\"line\":{\"colorbar\":{\"outlinewidth\":0,\"ticks\":\"\"}},\"marker\":{\"colorbar\":{\"outlinewidth\":0,\"ticks\":\"\"}}}],\"scattermapbox\":[{\"type\":\"scattermapbox\",\"marker\":{\"colorbar\":{\"outlinewidth\":0,\"ticks\":\"\"}}}],\"scatterternary\":[{\"type\":\"scatterternary\",\"marker\":{\"colorbar\":{\"outlinewidth\":0,\"ticks\":\"\"}}}],\"scattercarpet\":[{\"type\":\"scattercarpet\",\"marker\":{\"colorbar\":{\"outlinewidth\":0,\"ticks\":\"\"}}}],\"carpet\":[{\"aaxis\":{\"endlinecolor\":\"#2a3f5f\",\"gridcolor\":\"white\",\"linecolor\":\"white\",\"minorgridcolor\":\"white\",\"startlinecolor\":\"#2a3f5f\"},\"baxis\":{\"endlinecolor\":\"#2a3f5f\",\"gridcolor\":\"white\",\"linecolor\":\"white\",\"minorgridcolor\":\"white\",\"startlinecolor\":\"#2a3f5f\"},\"type\":\"carpet\"}],\"table\":[{\"cells\":{\"fill\":{\"color\":\"#EBF0F8\"},\"line\":{\"color\":\"white\"}},\"header\":{\"fill\":{\"color\":\"#C8D4E3\"},\"line\":{\"color\":\"white\"}},\"type\":\"table\"}],\"barpolar\":[{\"marker\":{\"line\":{\"color\":\"#E5ECF6\",\"width\":0.5},\"pattern\":{\"fillmode\":\"overlay\",\"size\":10,\"solidity\":0.2}},\"type\":\"barpolar\"}],\"pie\":[{\"automargin\":true,\"type\":\"pie\"}]},\"layout\":{\"autotypenumbers\":\"strict\",\"colorway\":[\"#636efa\",\"#EF553B\",\"#00cc96\",\"#ab63fa\",\"#FFA15A\",\"#19d3f3\",\"#FF6692\",\"#B6E880\",\"#FF97FF\",\"#FECB52\"],\"font\":{\"color\":\"#2a3f5f\"},\"hovermode\":\"closest\",\"hoverlabel\":{\"align\":\"left\"},\"paper_bgcolor\":\"white\",\"plot_bgcolor\":\"#E5ECF6\",\"polar\":{\"bgcolor\":\"#E5ECF6\",\"angularaxis\":{\"gridcolor\":\"white\",\"linecolor\":\"white\",\"ticks\":\"\"},\"radialaxis\":{\"gridcolor\":\"white\",\"linecolor\":\"white\",\"ticks\":\"\"}},\"ternary\":{\"bgcolor\":\"#E5ECF6\",\"aaxis\":{\"gridcolor\":\"white\",\"linecolor\":\"white\",\"ticks\":\"\"},\"baxis\":{\"gridcolor\":\"white\",\"linecolor\":\"white\",\"ticks\":\"\"},\"caxis\":{\"gridcolor\":\"white\",\"linecolor\":\"white\",\"ticks\":\"\"}},\"coloraxis\":{\"colorbar\":{\"outlinewidth\":0,\"ticks\":\"\"}},\"colorscale\":{\"sequential\":[[0.0,\"#0d0887\"],[0.1111111111111111,\"#46039f\"],[0.2222222222222222,\"#7201a8\"],[0.3333333333333333,\"#9c179e\"],[0.4444444444444444,\"#bd3786\"],[0.5555555555555556,\"#d8576b\"],[0.6666666666666666,\"#ed7953\"],[0.7777777777777778,\"#fb9f3a\"],[0.8888888888888888,\"#fdca26\"],[1.0,\"#f0f921\"]],\"sequentialminus\":[[0.0,\"#0d0887\"],[0.1111111111111111,\"#46039f\"],[0.2222222222222222,\"#7201a8\"],[0.3333333333333333,\"#9c179e\"],[0.4444444444444444,\"#bd3786\"],[0.5555555555555556,\"#d8576b\"],[0.6666666666666666,\"#ed7953\"],[0.7777777777777778,\"#fb9f3a\"],[0.8888888888888888,\"#fdca26\"],[1.0,\"#f0f921\"]],\"diverging\":[[0,\"#8e0152\"],[0.1,\"#c51b7d\"],[0.2,\"#de77ae\"],[0.3,\"#f1b6da\"],[0.4,\"#fde0ef\"],[0.5,\"#f7f7f7\"],[0.6,\"#e6f5d0\"],[0.7,\"#b8e186\"],[0.8,\"#7fbc41\"],[0.9,\"#4d9221\"],[1,\"#276419\"]]},\"xaxis\":{\"gridcolor\":\"white\",\"linecolor\":\"white\",\"ticks\":\"\",\"title\":{\"standoff\":15},\"zerolinecolor\":\"white\",\"automargin\":true,\"zerolinewidth\":2},\"yaxis\":{\"gridcolor\":\"white\",\"linecolor\":\"white\",\"ticks\":\"\",\"title\":{\"standoff\":15},\"zerolinecolor\":\"white\",\"automargin\":true,\"zerolinewidth\":2},\"scene\":{\"xaxis\":{\"backgroundcolor\":\"#E5ECF6\",\"gridcolor\":\"white\",\"linecolor\":\"white\",\"showbackground\":true,\"ticks\":\"\",\"zerolinecolor\":\"white\",\"gridwidth\":2},\"yaxis\":{\"backgroundcolor\":\"#E5ECF6\",\"gridcolor\":\"white\",\"linecolor\":\"white\",\"showbackground\":true,\"ticks\":\"\",\"zerolinecolor\":\"white\",\"gridwidth\":2},\"zaxis\":{\"backgroundcolor\":\"#E5ECF6\",\"gridcolor\":\"white\",\"linecolor\":\"white\",\"showbackground\":true,\"ticks\":\"\",\"zerolinecolor\":\"white\",\"gridwidth\":2}},\"shapedefaults\":{\"line\":{\"color\":\"#2a3f5f\"}},\"annotationdefaults\":{\"arrowcolor\":\"#2a3f5f\",\"arrowhead\":0,\"arrowwidth\":1},\"geo\":{\"bgcolor\":\"white\",\"landcolor\":\"#E5ECF6\",\"subunitcolor\":\"white\",\"showland\":true,\"showlakes\":true,\"lakecolor\":\"white\"},\"title\":{\"x\":0.05},\"mapbox\":{\"style\":\"light\"}}},\"mapbox\":{\"domain\":{\"x\":[0.0,1.0],\"y\":[0.0,1.0]},\"center\":{\"lat\":28.520632738902812,\"lon\":77.1780917099623},\"zoom\":10,\"style\":\"carto-positron\"},\"legend\":{\"tracegroupgap\":0,\"itemsizing\":\"constant\"},\"title\":{\"text\":\"Boarding at different time slot\"},\"updatemenus\":[{\"buttons\":[{\"args\":[null,{\"frame\":{\"duration\":500,\"redraw\":true},\"mode\":\"immediate\",\"fromcurrent\":true,\"transition\":{\"duration\":500,\"easing\":\"linear\"}}],\"label\":\"&#9654;\",\"method\":\"animate\"},{\"args\":[[null],{\"frame\":{\"duration\":0,\"redraw\":true},\"mode\":\"immediate\",\"fromcurrent\":true,\"transition\":{\"duration\":0,\"easing\":\"linear\"}}],\"label\":\"&#9724;\",\"method\":\"animate\"}],\"direction\":\"left\",\"pad\":{\"r\":10,\"t\":70},\"showactive\":false,\"type\":\"buttons\",\"x\":0.1,\"xanchor\":\"right\",\"y\":0,\"yanchor\":\"top\"}],\"sliders\":[{\"active\":0,\"currentvalue\":{\"prefix\":\"Hour_range=\"},\"len\":0.9,\"pad\":{\"b\":10,\"t\":60},\"steps\":[{\"args\":[[\"00:00-4:00\"],{\"frame\":{\"duration\":0,\"redraw\":true},\"mode\":\"immediate\",\"fromcurrent\":true,\"transition\":{\"duration\":0,\"easing\":\"linear\"}}],\"label\":\"00:00-4:00\",\"method\":\"animate\"},{\"args\":[[\"4:00-7:00\"],{\"frame\":{\"duration\":0,\"redraw\":true},\"mode\":\"immediate\",\"fromcurrent\":true,\"transition\":{\"duration\":0,\"easing\":\"linear\"}}],\"label\":\"4:00-7:00\",\"method\":\"animate\"},{\"args\":[[\"7:00-11:00\"],{\"frame\":{\"duration\":0,\"redraw\":true},\"mode\":\"immediate\",\"fromcurrent\":true,\"transition\":{\"duration\":0,\"easing\":\"linear\"}}],\"label\":\"7:00-11:00\",\"method\":\"animate\"},{\"args\":[[\"11:00-15:00\"],{\"frame\":{\"duration\":0,\"redraw\":true},\"mode\":\"immediate\",\"fromcurrent\":true,\"transition\":{\"duration\":0,\"easing\":\"linear\"}}],\"label\":\"11:00-15:00\",\"method\":\"animate\"},{\"args\":[[\"15:00-16:00\"],{\"frame\":{\"duration\":0,\"redraw\":true},\"mode\":\"immediate\",\"fromcurrent\":true,\"transition\":{\"duration\":0,\"easing\":\"linear\"}}],\"label\":\"15:00-16:00\",\"method\":\"animate\"},{\"args\":[[\"16:00-20:00\"],{\"frame\":{\"duration\":0,\"redraw\":true},\"mode\":\"immediate\",\"fromcurrent\":true,\"transition\":{\"duration\":0,\"easing\":\"linear\"}}],\"label\":\"16:00-20:00\",\"method\":\"animate\"},{\"args\":[[\"20:00-24:00\"],{\"frame\":{\"duration\":0,\"redraw\":true},\"mode\":\"immediate\",\"fromcurrent\":true,\"transition\":{\"duration\":0,\"easing\":\"linear\"}}],\"label\":\"20:00-24:00\",\"method\":\"animate\"}],\"x\":0.1,\"xanchor\":\"left\",\"y\":0,\"yanchor\":\"top\"}]},                        {\"responsive\": true}                    ).then(function(){\n",
       "                            Plotly.addFrames('6335bbd5-9029-4bc0-807d-a12defae653f', [{\"data\":[{\"hovertemplate\":\"Hour_range=00:00-4:00<br>USER_COUNT=%{marker.size}<br>lat=%{lat}<br>long=%{lon}<extra></extra>\",\"lat\":[28.4927],\"legendgroup\":\"\",\"lon\":[77.30381700000002],\"marker\":{\"color\":\"#636efa\",\"size\":[1],\"sizemode\":\"area\",\"sizeref\":203.52},\"mode\":\"markers\",\"name\":\"\",\"showlegend\":false,\"subplot\":\"mapbox\",\"type\":\"scattermapbox\"}],\"name\":\"00:00-4:00\"},{\"data\":[{\"hovertemplate\":\"Hour_range=4:00-7:00<br>USER_COUNT=%{marker.size}<br>lat=%{lat}<br>long=%{lon}<extra></extra>\",\"lat\":[28.4927,28.5,28.5417,28.53561,28.534882,28.53398,28.5313,28.52249500000001,28.521142,28.51610100000001,28.514366,28.512167,28.509217,28.509067,28.5,28.5221655777015,28.4927,28.521142,28.52249500000001,28.5221655777015,28.534652,28.5313,28.512167,28.4927,28.51610100000001,28.5417,28.5,28.53561,28.534882,28.514366,28.509067,28.53398,28.509217],\"legendgroup\":\"\",\"lon\":[77.30381700000002,77.29463299999998,77.12935,77.112429,77.10835300000002,77.142404,77.08815,77.193066,77.199972,77.223607,77.16415500000002,77.248667,77.178967,77.265117,77.29463299999998,77.09864265467749,77.30381700000002,77.199972,77.193066,77.09864265467749,77.090446,77.08815,77.248667,77.30381700000002,77.223607,77.12935,77.29463299999998,77.112429,77.10835300000002,77.16415500000002,77.265117,77.142404,77.178967],\"marker\":{\"color\":\"#636efa\",\"size\":[44,6,712,41,2,441,1,424,504,3232,1039,7242,1074,1207,3324,50,11899,1533,1622,732,203,38,15979,21135,6857,7002,9579,344,93,7102,2527,3271,4832],\"sizemode\":\"area\",\"sizeref\":203.52},\"mode\":\"markers\",\"name\":\"\",\"showlegend\":false,\"subplot\":\"mapbox\",\"type\":\"scattermapbox\"}],\"name\":\"4:00-7:00\"},{\"data\":[{\"hovertemplate\":\"Hour_range=7:00-11:00<br>USER_COUNT=%{marker.size}<br>lat=%{lat}<br>long=%{lon}<extra></extra>\",\"lat\":[28.53561,28.521142,28.5221655777015,28.512167,28.51610100000001,28.514366,28.5417,28.509217,28.5313,28.52249500000001,28.509067,28.534882,28.4927,28.5,28.534652,28.53398,28.5313,28.534882,28.514366,28.5,28.512167,28.534652,28.51610100000001,28.521142,28.5221655777015,28.509217,28.5417,28.52249500000001,28.509067,28.53561,28.4927,28.53398,28.4927,28.5313,28.514366,28.5,28.512167,28.52249500000001,28.534652,28.5417,28.509217,28.53398,28.534882,28.521142,28.5221655777015,28.509067,28.51610100000001,28.53561,28.53561,28.5221655777015,28.5313,28.51610100000001,28.52249500000001,28.534652,28.521142,28.4927,28.514366,28.53398,28.534882,28.509067,28.5417,28.512167,28.5,28.509217],\"legendgroup\":\"\",\"lon\":[77.112429,77.199972,77.09864265467749,77.248667,77.223607,77.16415500000002,77.12935,77.178967,77.08815,77.193066,77.265117,77.10835300000002,77.30381700000002,77.29463299999998,77.090446,77.142404,77.08815,77.10835300000002,77.16415500000002,77.29463299999998,77.248667,77.090446,77.223607,77.199972,77.09864265467749,77.178967,77.12935,77.193066,77.265117,77.112429,77.30381700000002,77.142404,77.30381700000002,77.08815,77.16415500000002,77.29463299999998,77.248667,77.193066,77.090446,77.12935,77.178967,77.142404,77.10835300000002,77.199972,77.09864265467749,77.265117,77.223607,77.112429,77.112429,77.09864265467749,77.08815,77.223607,77.193066,77.090446,77.199972,77.30381700000002,77.16415500000002,77.142404,77.10835300000002,77.265117,77.12935,77.248667,77.29463299999998,77.178967],\"marker\":{\"color\":\"#636efa\",\"size\":[268,3203,925,21044,10316,8297,8155,7858,91,2356,3296,83,29807,13588,286,4209,305,82,9329,24067,35441,903,14197,5530,1196,10240,8816,3299,5485,303,45792,7169,34713,255,13474,18648,32442,4435,844,9452,16213,8390,73,8744,1015,4850,16996,300,123,682,136,10431,2906,575,4543,24038,7837,4131,89,2707,4863,18348,12483,10101],\"sizemode\":\"area\",\"sizeref\":203.52},\"mode\":\"markers\",\"name\":\"\",\"showlegend\":false,\"subplot\":\"mapbox\",\"type\":\"scattermapbox\"}],\"name\":\"7:00-11:00\"},{\"data\":[{\"hovertemplate\":\"Hour_range=11:00-15:00<br>USER_COUNT=%{marker.size}<br>lat=%{lat}<br>long=%{lon}<extra></extra>\",\"lat\":[28.5417,28.52249500000001,28.53561,28.509067,28.5313,28.51610100000001,28.512167,28.5221655777015,28.53398,28.4927,28.521142,28.534882,28.5,28.534652,28.514366,28.509217,28.5417,28.52249500000001,28.534882,28.53561,28.509067,28.509217,28.51610100000001,28.53398,28.5221655777015,28.514366,28.5313,28.5,28.521142,28.512167,28.534652,28.4927,28.4927,28.52249500000001,28.509067,28.509217,28.5313,28.53398,28.5,28.534652,28.534882,28.5417,28.53561,28.5221655777015,28.51610100000001,28.512167,28.514366,28.521142,28.5313,28.509067,28.5417,28.51610100000001,28.4927,28.53398,28.5,28.5221655777015,28.52249500000001,28.521142,28.534882,28.509217,28.512167,28.514366,28.534652,28.53561],\"legendgroup\":\"\",\"lon\":[77.12935,77.193066,77.112429,77.265117,77.08815,77.223607,77.248667,77.09864265467749,77.142404,77.30381700000002,77.199972,77.10835300000002,77.29463299999998,77.090446,77.16415500000002,77.178967,77.12935,77.193066,77.10835300000002,77.112429,77.265117,77.178967,77.223607,77.142404,77.09864265467749,77.16415500000002,77.08815,77.29463299999998,77.199972,77.248667,77.090446,77.30381700000002,77.30381700000002,77.193066,77.265117,77.178967,77.08815,77.142404,77.29463299999998,77.090446,77.10835300000002,77.12935,77.112429,77.09864265467749,77.223607,77.248667,77.16415500000002,77.199972,77.08815,77.265117,77.12935,77.223607,77.30381700000002,77.142404,77.29463299999998,77.09864265467749,77.193066,77.199972,77.10835300000002,77.178967,77.248667,77.16415500000002,77.090446,77.112429],\"marker\":{\"color\":\"#636efa\",\"size\":[3553,1876,135,1645,81,6434,10889,614,3777,12623,2379,74,6348,375,5966,6955,2192,1254,48,106,1651,3598,3862,2608,458,3810,31,8379,1566,7891,261,16460,18018,2696,2481,8356,32,3339,10765,259,20,2539,149,466,7867,16780,6924,3137,60,1555,5761,5232,13586,5743,7378,963,2566,2653,127,8728,9163,7554,371,262],\"sizemode\":\"area\",\"sizeref\":203.52},\"mode\":\"markers\",\"name\":\"\",\"showlegend\":false,\"subplot\":\"mapbox\",\"type\":\"scattermapbox\"}],\"name\":\"11:00-15:00\"},{\"data\":[{\"hovertemplate\":\"Hour_range=15:00-16:00<br>USER_COUNT=%{marker.size}<br>lat=%{lat}<br>long=%{lon}<extra></extra>\",\"lat\":[28.509067,28.534652,28.51610100000001,28.514366,28.5,28.53398,28.534882,28.52249500000001,28.512167,28.5313,28.5417,28.521142,28.53561,28.5221655777015,28.4927,28.509217],\"legendgroup\":\"\",\"lon\":[77.265117,77.090446,77.223607,77.16415500000002,77.29463299999998,77.142404,77.10835300000002,77.193066,77.248667,77.08815,77.12935,77.199972,77.112429,77.09864265467749,77.30381700000002,77.178967],\"marker\":{\"color\":\"#636efa\",\"size\":[1937,371,5510,6801,9126,4132,60,2777,9856,45,3826,2754,257,712,15490,8574],\"sizemode\":\"area\",\"sizeref\":203.52},\"mode\":\"markers\",\"name\":\"\",\"showlegend\":false,\"subplot\":\"mapbox\",\"type\":\"scattermapbox\"}],\"name\":\"15:00-16:00\"},{\"data\":[{\"hovertemplate\":\"Hour_range=16:00-20:00<br>USER_COUNT=%{marker.size}<br>lat=%{lat}<br>long=%{lon}<extra></extra>\",\"lat\":[28.521142,28.509217,28.5313,28.53398,28.53561,28.534652,28.5417,28.4927,28.514366,28.512167,28.509067,28.5,28.534882,28.52249500000001,28.5221655777015,28.51610100000001,28.514366,28.5,28.509217,28.534882,28.5221655777015,28.521142,28.53398,28.5313,28.53561,28.534652,28.51610100000001,28.512167,28.52249500000001,28.4927,28.509067,28.5417,28.534652,28.512167,28.534882,28.4927,28.5221655777015,28.521142,28.5417,28.53398,28.509217,28.5313,28.5,28.53561,28.509067,28.51610100000001,28.514366,28.52249500000001,28.52249500000001,28.512167,28.509067,28.521142,28.534652,28.5417,28.53398,28.51610100000001,28.5313,28.534882,28.5,28.4927,28.5221655777015,28.53561,28.514366,28.509217],\"legendgroup\":\"\",\"lon\":[77.199972,77.178967,77.08815,77.142404,77.112429,77.090446,77.12935,77.30381700000002,77.16415500000002,77.248667,77.265117,77.29463299999998,77.10835300000002,77.193066,77.09864265467749,77.223607,77.16415500000002,77.29463299999998,77.178967,77.10835300000002,77.09864265467749,77.199972,77.142404,77.08815,77.112429,77.090446,77.223607,77.248667,77.193066,77.30381700000002,77.265117,77.12935,77.090446,77.248667,77.10835300000002,77.30381700000002,77.09864265467749,77.199972,77.12935,77.142404,77.178967,77.08815,77.29463299999998,77.112429,77.265117,77.223607,77.16415500000002,77.193066,77.193066,77.248667,77.265117,77.199972,77.090446,77.12935,77.142404,77.223607,77.08815,77.10835300000002,77.29463299999998,77.30381700000002,77.09864265467749,77.112429,77.16415500000002,77.178967],\"marker\":{\"color\":\"#636efa\",\"size\":[3552,11245,43,5656,350,412,4425,17839,8714,12470,2402,10592,88,2892,841,6601,10863,10606,11699,202,1631,3838,6778,74,535,727,6072,10287,3003,16397,2339,6469,588,7525,188,13657,1321,3805,6932,5631,10715,37,11525,412,2177,4878,10917,2675,1523,5782,1694,2355,304,3504,2510,3725,49,96,9033,11449,648,227,5717,6317],\"sizemode\":\"area\",\"sizeref\":203.52},\"mode\":\"markers\",\"name\":\"\",\"showlegend\":false,\"subplot\":\"mapbox\",\"type\":\"scattermapbox\"}],\"name\":\"16:00-20:00\"},{\"data\":[{\"hovertemplate\":\"Hour_range=20:00-24:00<br>USER_COUNT=%{marker.size}<br>lat=%{lat}<br>long=%{lon}<extra></extra>\",\"lat\":[28.534882,28.5417,28.53561,28.4927,28.514366,28.52249500000001,28.5313,28.5,28.521142,28.5221655777015,28.509217,28.51610100000001,28.512167,28.534652,28.53398,28.509067,28.509217,28.53561,28.521142,28.509067,28.512167,28.51610100000001,28.514366,28.52249500000001,28.5,28.534882,28.5313,28.53398,28.4927,28.5417,28.534652,28.5221655777015,28.509067,28.4927,28.509217,28.5,28.534652,28.53561,28.514366,28.51610100000001,28.521142,28.5417,28.5221655777015,28.52249500000001,28.534882,28.5313,28.53398,28.512167,28.53561,28.534652,28.5221655777015,28.53398,28.5417],\"legendgroup\":\"\",\"lon\":[77.10835300000002,77.12935,77.112429,77.30381700000002,77.16415500000002,77.193066,77.08815,77.29463299999998,77.199972,77.09864265467749,77.178967,77.223607,77.248667,77.090446,77.142404,77.265117,77.178967,77.112429,77.199972,77.265117,77.248667,77.223607,77.16415500000002,77.193066,77.29463299999998,77.10835300000002,77.08815,77.142404,77.30381700000002,77.12935,77.090446,77.09864265467749,77.265117,77.30381700000002,77.178967,77.29463299999998,77.090446,77.112429,77.16415500000002,77.223607,77.199972,77.12935,77.09864265467749,77.193066,77.10835300000002,77.08815,77.142404,77.248667,77.112429,77.090446,77.09864265467749,77.142404,77.12935],\"marker\":{\"color\":\"#636efa\",\"size\":[51,2966,169,6163,4285,996,43,4454,1637,457,4775,2627,3481,183,2377,954,2437,59,679,366,1890,1093,2323,378,2970,24,20,1244,3727,1940,141,294,6,66,693,46,69,52,621,113,56,1189,126,64,5,4,336,111,3,4,5,1,22],\"sizemode\":\"area\",\"sizeref\":203.52},\"mode\":\"markers\",\"name\":\"\",\"showlegend\":false,\"subplot\":\"mapbox\",\"type\":\"scattermapbox\"}],\"name\":\"20:00-24:00\"}]);\n",
       "                        }).then(function(){\n",
       "                            \n",
       "var gd = document.getElementById('6335bbd5-9029-4bc0-807d-a12defae653f');\n",
       "var x = new MutationObserver(function (mutations, observer) {{\n",
       "        var display = window.getComputedStyle(gd).display;\n",
       "        if (!display || display === 'none') {{\n",
       "            console.log([gd, 'removed!']);\n",
       "            Plotly.purge(gd);\n",
       "            observer.disconnect();\n",
       "        }}\n",
       "}});\n",
       "\n",
       "// Listen for the removal of the full notebook cells\n",
       "var notebookContainer = gd.closest('#notebook-container');\n",
       "if (notebookContainer) {{\n",
       "    x.observe(notebookContainer, {childList: true});\n",
       "}}\n",
       "\n",
       "// Listen for the clearing of the current output cell\n",
       "var outputEl = gd.closest('.output');\n",
       "if (outputEl) {{\n",
       "    x.observe(outputEl, {childList: true});\n",
       "}}\n",
       "\n",
       "                        })                };                });            </script>        </div>"
      ]
     },
     "metadata": {},
     "output_type": "display_data"
    }
   ],
   "source": [
    "fig = px.scatter_mapbox(origin_map, \n",
    "                        title = \"Boarding at different time slot\",\n",
    "                        lat=\"lat\", lon=\"long\", size=\"USER_COUNT\",animation_frame='Hour_range',\n",
    "                        color_continuous_scale=px.colors.cyclical.IceFire, size_max=15, zoom=10,\n",
    "                        mapbox_style=\"carto-positron\")\n",
    "fig.show()"
   ]
  },
  {
   "cell_type": "code",
   "execution_count": 51,
   "id": "cdc73f8a",
   "metadata": {},
   "outputs": [
    {
     "data": {
      "application/vnd.plotly.v1+json": {
       "config": {
        "plotlyServerURL": "https://plot.ly"
       },
       "data": [
        {
         "hovertemplate": "Hour_range=00:00-4:00<br>USER_COUNT=%{marker.size}<br>lat=%{lat}<br>long=%{lon}<extra></extra>",
         "lat": [
          28.509067
         ],
         "legendgroup": "",
         "lon": [
          77.265117
         ],
         "marker": {
          "color": "#636efa",
          "size": [
           1
          ],
          "sizemode": "area",
          "sizeref": 287.2088888888889
         },
         "mode": "markers",
         "name": "",
         "showlegend": false,
         "subplot": "mapbox",
         "type": "scattermapbox"
        }
       ],
       "frames": [
        {
         "data": [
          {
           "hovertemplate": "Hour_range=00:00-4:00<br>USER_COUNT=%{marker.size}<br>lat=%{lat}<br>long=%{lon}<extra></extra>",
           "lat": [
            28.509067
           ],
           "legendgroup": "",
           "lon": [
            77.265117
           ],
           "marker": {
            "color": "#636efa",
            "size": [
             1
            ],
            "sizemode": "area",
            "sizeref": 287.2088888888889
           },
           "mode": "markers",
           "name": "",
           "showlegend": false,
           "subplot": "mapbox",
           "type": "scattermapbox"
          }
         ],
         "name": "00:00-4:00"
        },
        {
         "data": [
          {
           "hovertemplate": "Hour_range=4:00-7:00<br>USER_COUNT=%{marker.size}<br>lat=%{lat}<br>long=%{lon}<extra></extra>",
           "lat": [
            28.521142,
            28.522481,
            28.52249500000001,
            28.509067,
            28.51610100000001,
            28.522481,
            28.534882,
            28.5313,
            28.5221655777015,
            28.53561,
            28.512167,
            28.514366,
            28.534652,
            28.53398,
            28.509067,
            28.52249500000001,
            28.5417,
            28.521142,
            28.509217,
            28.512167,
            28.51610100000001,
            28.509217,
            28.52249500000001,
            28.5313,
            28.53398,
            28.534882,
            28.522481,
            28.5221655777015,
            28.53561,
            28.514366,
            28.509067,
            28.521142,
            28.5417,
            28.534652
           ],
           "legendgroup": "",
           "lon": [
            77.199972,
            77.082442,
            77.193066,
            77.265117,
            77.223607,
            77.082442,
            77.10835300000002,
            77.08815,
            77.09864265467749,
            77.112429,
            77.248667,
            77.16415500000002,
            77.090446,
            77.142404,
            77.265117,
            77.193066,
            77.12935,
            77.199972,
            77.178967,
            77.248667,
            77.223607,
            77.178967,
            77.193066,
            77.08815,
            77.142404,
            77.10835300000002,
            77.082442,
            77.09864265467749,
            77.112429,
            77.16415500000002,
            77.265117,
            77.199972,
            77.12935,
            77.090446
           ],
           "marker": {
            "color": "#636efa",
            "size": [
             15,
             25,
             1,
             9,
             618,
             13047,
             76,
             414,
             654,
             577,
             796,
             1732,
             81,
             1229,
             1585,
             2102,
             1087,
             6836,
             358,
             2039,
             936,
             1040,
             5489,
             3557,
             4220,
             292,
             31287,
             4103,
             3485,
             3907,
             1755,
             12941,
             6981,
             817
            ],
            "sizemode": "area",
            "sizeref": 287.2088888888889
           },
           "mode": "markers",
           "name": "",
           "showlegend": false,
           "subplot": "mapbox",
           "type": "scattermapbox"
          }
         ],
         "name": "4:00-7:00"
        },
        {
         "data": [
          {
           "hovertemplate": "Hour_range=7:00-11:00<br>USER_COUNT=%{marker.size}<br>lat=%{lat}<br>long=%{lon}<extra></extra>",
           "lat": [
            28.522481,
            28.5221655777015,
            28.512167,
            28.521142,
            28.514366,
            28.51610100000001,
            28.52249500000001,
            28.5,
            28.5313,
            28.53398,
            28.5417,
            28.509217,
            28.509067,
            28.534652,
            28.53561,
            28.534882,
            28.534882,
            28.51610100000001,
            28.5417,
            28.514366,
            28.53561,
            28.509067,
            28.521142,
            28.52249500000001,
            28.5313,
            28.534652,
            28.522481,
            28.512167,
            28.509217,
            28.53398,
            28.5221655777015,
            28.534882,
            28.521142,
            28.5221655777015,
            28.534652,
            28.53398,
            28.53561,
            28.51610100000001,
            28.5313,
            28.5417,
            28.52249500000001,
            28.522481,
            28.514366,
            28.5,
            28.509217,
            28.512167,
            28.509067,
            28.5313,
            28.5,
            28.521142,
            28.5221655777015,
            28.53561,
            28.512167,
            28.509067,
            28.534882,
            28.52249500000001,
            28.509217,
            28.53398,
            28.534652,
            28.514366,
            28.5417,
            28.522481,
            28.51610100000001
           ],
           "legendgroup": "",
           "lon": [
            77.082442,
            77.09864265467749,
            77.248667,
            77.199972,
            77.16415500000002,
            77.223607,
            77.193066,
            77.29463299999998,
            77.08815,
            77.142404,
            77.12935,
            77.178967,
            77.265117,
            77.090446,
            77.112429,
            77.10835300000002,
            77.10835300000002,
            77.223607,
            77.12935,
            77.16415500000002,
            77.112429,
            77.265117,
            77.199972,
            77.193066,
            77.08815,
            77.090446,
            77.082442,
            77.248667,
            77.178967,
            77.142404,
            77.09864265467749,
            77.10835300000002,
            77.199972,
            77.09864265467749,
            77.090446,
            77.142404,
            77.112429,
            77.223607,
            77.08815,
            77.12935,
            77.193066,
            77.082442,
            77.16415500000002,
            77.29463299999998,
            77.178967,
            77.248667,
            77.265117,
            77.08815,
            77.29463299999998,
            77.199972,
            77.09864265467749,
            77.112429,
            77.248667,
            77.265117,
            77.10835300000002,
            77.193066,
            77.178967,
            77.142404,
            77.090446,
            77.16415500000002,
            77.12935,
            77.082442,
            77.223607
           ],
           "marker": {
            "color": "#636efa",
            "size": [
             47155,
             5099,
             2718,
             15243,
             5530,
             974,
             7618,
             4,
             3749,
             8123,
             7341,
             2012,
             1957,
             1472,
             3859,
             928,
             1682,
             1822,
             8678,
             13153,
             5463,
             4686,
             25565,
             13933,
             3160,
             2382,
             64622,
             4847,
             3680,
             11059,
             7422,
             1927,
             23901,
             9148,
             2369,
             16942,
             7358,
             1843,
             3368,
             14404,
             13849,
             49093,
             12742,
             2,
             4707,
             4244,
             4947,
             1900,
             1,
             14914,
             4955,
             4313,
             2698,
             3858,
             1047,
             7892,
             2446,
             10702,
             1036,
             6579,
             8262,
             32255,
             1135
            ],
            "sizemode": "area",
            "sizeref": 287.2088888888889
           },
           "mode": "markers",
           "name": "",
           "showlegend": false,
           "subplot": "mapbox",
           "type": "scattermapbox"
          }
         ],
         "name": "7:00-11:00"
        },
        {
         "data": [
          {
           "hovertemplate": "Hour_range=11:00-15:00<br>USER_COUNT=%{marker.size}<br>lat=%{lat}<br>long=%{lon}<extra></extra>",
           "lat": [
            28.52249500000001,
            28.509217,
            28.53561,
            28.5313,
            28.51610100000001,
            28.53398,
            28.5221655777015,
            28.522481,
            28.521142,
            28.512167,
            28.5,
            28.534652,
            28.509067,
            28.534882,
            28.514366,
            28.5417,
            28.514366,
            28.512167,
            28.534882,
            28.52249500000001,
            28.53561,
            28.53398,
            28.509067,
            28.5221655777015,
            28.522481,
            28.51610100000001,
            28.5417,
            28.521142,
            28.509217,
            28.534652,
            28.5,
            28.5313,
            28.521142,
            28.52249500000001,
            28.5417,
            28.534652,
            28.509067,
            28.522481,
            28.51610100000001,
            28.514366,
            28.512167,
            28.534882,
            28.53398,
            28.5313,
            28.53561,
            28.509217,
            28.5221655777015,
            28.5313,
            28.534882,
            28.52249500000001,
            28.5221655777015,
            28.534652,
            28.51610100000001,
            28.53561,
            28.512167,
            28.522481,
            28.509217,
            28.53398,
            28.514366,
            28.521142,
            28.5417,
            28.509067
           ],
           "legendgroup": "",
           "lon": [
            77.193066,
            77.178967,
            77.112429,
            77.08815,
            77.223607,
            77.142404,
            77.09864265467749,
            77.082442,
            77.199972,
            77.248667,
            77.29463299999998,
            77.090446,
            77.265117,
            77.10835300000002,
            77.16415500000002,
            77.12935,
            77.16415500000002,
            77.248667,
            77.10835300000002,
            77.193066,
            77.112429,
            77.142404,
            77.265117,
            77.09864265467749,
            77.082442,
            77.223607,
            77.12935,
            77.199972,
            77.178967,
            77.090446,
            77.29463299999998,
            77.08815,
            77.199972,
            77.193066,
            77.12935,
            77.090446,
            77.265117,
            77.082442,
            77.223607,
            77.16415500000002,
            77.248667,
            77.10835300000002,
            77.142404,
            77.08815,
            77.112429,
            77.178967,
            77.09864265467749,
            77.08815,
            77.10835300000002,
            77.193066,
            77.09864265467749,
            77.090446,
            77.223607,
            77.112429,
            77.248667,
            77.082442,
            77.178967,
            77.142404,
            77.16415500000002,
            77.199972,
            77.12935,
            77.265117
           ],
           "marker": {
            "color": "#636efa",
            "size": [
             4361,
             1393,
             3697,
             1479,
             760,
             6497,
             3522,
             19853,
             8159,
             1474,
             1,
             852,
             1868,
             586,
             3476,
             5746,
             2640,
             2019,
             367,
             3826,
             2521,
             3696,
             2429,
             2030,
             18843,
             812,
             3674,
             8646,
             1130,
             626,
             2,
             914,
             12951,
             6686,
             6702,
             667,
             2859,
             26312,
             1432,
             5211,
             3038,
             564,
             6741,
             1070,
             3761,
             1990,
             3844,
             2704,
             599,
             4075,
             5026,
             1349,
             809,
             5699,
             1959,
             22965,
             1426,
             5518,
             3143,
             7467,
             7044,
             1919
            ],
            "sizemode": "area",
            "sizeref": 287.2088888888889
           },
           "mode": "markers",
           "name": "",
           "showlegend": false,
           "subplot": "mapbox",
           "type": "scattermapbox"
          }
         ],
         "name": "11:00-15:00"
        },
        {
         "data": [
          {
           "hovertemplate": "Hour_range=15:00-16:00<br>USER_COUNT=%{marker.size}<br>lat=%{lat}<br>long=%{lon}<extra></extra>",
           "lat": [
            28.509217,
            28.5313,
            28.5417,
            28.52249500000001,
            28.509067,
            28.534652,
            28.514366,
            28.534882,
            28.51610100000001,
            28.521142,
            28.522481,
            28.5,
            28.5221655777015,
            28.512167,
            28.53398,
            28.53561
           ],
           "legendgroup": "",
           "lon": [
            77.178967,
            77.08815,
            77.12935,
            77.193066,
            77.265117,
            77.090446,
            77.16415500000002,
            77.10835300000002,
            77.223607,
            77.199972,
            77.082442,
            77.29463299999998,
            77.09864265467749,
            77.248667,
            77.142404,
            77.112429
           ],
           "marker": {
            "color": "#636efa",
            "size": [
             1599,
             1818,
             6499,
             4573,
             2357,
             1024,
             3324,
             479,
             961,
             8264,
             24592,
             5,
             4381,
             2805,
             5236,
             4311
            ],
            "sizemode": "area",
            "sizeref": 287.2088888888889
           },
           "mode": "markers",
           "name": "",
           "showlegend": false,
           "subplot": "mapbox",
           "type": "scattermapbox"
          }
         ],
         "name": "15:00-16:00"
        },
        {
         "data": [
          {
           "hovertemplate": "Hour_range=16:00-20:00<br>USER_COUNT=%{marker.size}<br>lat=%{lat}<br>long=%{lon}<extra></extra>",
           "lat": [
            28.51610100000001,
            28.5313,
            28.521142,
            28.53398,
            28.53561,
            28.512167,
            28.509217,
            28.509067,
            28.5221655777015,
            28.534652,
            28.522481,
            28.52249500000001,
            28.5417,
            28.534882,
            28.514366,
            28.53398,
            28.5417,
            28.534882,
            28.5313,
            28.51610100000001,
            28.521142,
            28.53561,
            28.512167,
            28.5221655777015,
            28.534652,
            28.5,
            28.522481,
            28.52249500000001,
            28.509217,
            28.514366,
            28.509067,
            28.534882,
            28.534652,
            28.53561,
            28.5417,
            28.509067,
            28.514366,
            28.521142,
            28.509217,
            28.5313,
            28.51610100000001,
            28.52249500000001,
            28.53398,
            28.522481,
            28.5221655777015,
            28.512167,
            28.5,
            28.534882,
            28.522481,
            28.521142,
            28.512167,
            28.509217,
            28.53561,
            28.5221655777015,
            28.52249500000001,
            28.51610100000001,
            28.5417,
            28.53398,
            28.509067,
            28.534652,
            28.514366,
            28.5313
           ],
           "legendgroup": "",
           "lon": [
            77.223607,
            77.08815,
            77.199972,
            77.142404,
            77.112429,
            77.248667,
            77.178967,
            77.265117,
            77.09864265467749,
            77.090446,
            77.082442,
            77.193066,
            77.12935,
            77.10835300000002,
            77.16415500000002,
            77.142404,
            77.12935,
            77.10835300000002,
            77.08815,
            77.223607,
            77.199972,
            77.112429,
            77.248667,
            77.09864265467749,
            77.090446,
            77.29463299999998,
            77.082442,
            77.193066,
            77.178967,
            77.16415500000002,
            77.265117,
            77.10835300000002,
            77.090446,
            77.112429,
            77.12935,
            77.265117,
            77.16415500000002,
            77.199972,
            77.178967,
            77.08815,
            77.223607,
            77.193066,
            77.142404,
            77.082442,
            77.09864265467749,
            77.248667,
            77.29463299999998,
            77.10835300000002,
            77.082442,
            77.199972,
            77.248667,
            77.178967,
            77.112429,
            77.09864265467749,
            77.193066,
            77.223607,
            77.12935,
            77.142404,
            77.265117,
            77.090446,
            77.16415500000002,
            77.08815
           ],
           "marker": {
            "color": "#636efa",
            "size": [
             1375,
             2096,
             11670,
             6967,
             5571,
             3885,
             2047,
             3215,
             5570,
             1266,
             25803,
             5912,
             8363,
             659,
             3723,
             7314,
             10457,
             574,
             3228,
             1388,
             10463,
             6700,
             4130,
             6271,
             2056,
             1,
             25153,
             5386,
             2272,
             3278,
             2849,
             581,
             1776,
             5460,
             10329,
             2536,
             2940,
             7702,
             2289,
             3623,
             1224,
             4867,
             6567,
             22259,
             6126,
             4704,
             1,
             404,
             15881,
             6085,
             3765,
             1361,
             2554,
             3154,
             3779,
             968,
             5585,
             4255,
             2250,
             792,
             2133,
             1966
            ],
            "sizemode": "area",
            "sizeref": 287.2088888888889
           },
           "mode": "markers",
           "name": "",
           "showlegend": false,
           "subplot": "mapbox",
           "type": "scattermapbox"
          }
         ],
         "name": "16:00-20:00"
        },
        {
         "data": [
          {
           "hovertemplate": "Hour_range=20:00-24:00<br>USER_COUNT=%{marker.size}<br>lat=%{lat}<br>long=%{lon}<extra></extra>",
           "lat": [
            28.5221655777015,
            28.53398,
            28.53561,
            28.534882,
            28.509067,
            28.522481,
            28.51610100000001,
            28.5417,
            28.5313,
            28.509217,
            28.514366,
            28.534652,
            28.521142,
            28.52249500000001,
            28.512167,
            28.521142,
            28.509067,
            28.512167,
            28.534882,
            28.51610100000001,
            28.5417,
            28.514366,
            28.53398,
            28.5313,
            28.522481,
            28.509217,
            28.534652,
            28.52249500000001,
            28.5221655777015,
            28.53561,
            28.514366,
            28.51610100000001,
            28.512167,
            28.53398,
            28.534882,
            28.53561,
            28.521142,
            28.5221655777015,
            28.522481,
            28.509217,
            28.534652,
            28.52249500000001,
            28.5313,
            28.509067,
            28.5417,
            28.5221655777015,
            28.522481,
            28.534652,
            28.5313,
            28.53561
           ],
           "legendgroup": "",
           "lon": [
            77.09864265467749,
            77.142404,
            77.112429,
            77.10835300000002,
            77.265117,
            77.082442,
            77.223607,
            77.12935,
            77.08815,
            77.178967,
            77.16415500000002,
            77.090446,
            77.199972,
            77.193066,
            77.248667,
            77.199972,
            77.265117,
            77.248667,
            77.10835300000002,
            77.223607,
            77.12935,
            77.16415500000002,
            77.142404,
            77.08815,
            77.082442,
            77.178967,
            77.090446,
            77.193066,
            77.09864265467749,
            77.112429,
            77.16415500000002,
            77.223607,
            77.248667,
            77.142404,
            77.10835300000002,
            77.112429,
            77.199972,
            77.09864265467749,
            77.082442,
            77.178967,
            77.090446,
            77.193066,
            77.08815,
            77.265117,
            77.12935,
            77.09864265467749,
            77.082442,
            77.090446,
            77.08815,
            77.112429
           ],
           "marker": {
            "color": "#636efa",
            "size": [
             2569,
             3052,
             2217,
             315,
             1398,
             9047,
             578,
             4126,
             1685,
             887,
             1247,
             658,
             3593,
             2228,
             2018,
             2399,
             1180,
             1749,
             156,
             250,
             2214,
             565,
             1465,
             1105,
             4047,
             350,
             418,
             1125,
             1480,
             1082,
             33,
             4,
             19,
             368,
             56,
             283,
             85,
             459,
             684,
             23,
             139,
             62,
             815,
             18,
             509,
             2,
             16,
             2,
             14,
             1
            ],
            "sizemode": "area",
            "sizeref": 287.2088888888889
           },
           "mode": "markers",
           "name": "",
           "showlegend": false,
           "subplot": "mapbox",
           "type": "scattermapbox"
          }
         ],
         "name": "20:00-24:00"
        }
       ],
       "layout": {
        "legend": {
         "itemsizing": "constant",
         "tracegroupgap": 0
        },
        "mapbox": {
         "center": {
          "lat": 28.523383058945587,
          "lon": 77.15867606055164
         },
         "domain": {
          "x": [
           0,
           1
          ],
          "y": [
           0,
           1
          ]
         },
         "style": "carto-positron",
         "zoom": 10
        },
        "sliders": [
         {
          "active": 0,
          "currentvalue": {
           "prefix": "Hour_range="
          },
          "len": 0.9,
          "pad": {
           "b": 10,
           "t": 60
          },
          "steps": [
           {
            "args": [
             [
              "00:00-4:00"
             ],
             {
              "frame": {
               "duration": 0,
               "redraw": true
              },
              "fromcurrent": true,
              "mode": "immediate",
              "transition": {
               "duration": 0,
               "easing": "linear"
              }
             }
            ],
            "label": "00:00-4:00",
            "method": "animate"
           },
           {
            "args": [
             [
              "4:00-7:00"
             ],
             {
              "frame": {
               "duration": 0,
               "redraw": true
              },
              "fromcurrent": true,
              "mode": "immediate",
              "transition": {
               "duration": 0,
               "easing": "linear"
              }
             }
            ],
            "label": "4:00-7:00",
            "method": "animate"
           },
           {
            "args": [
             [
              "7:00-11:00"
             ],
             {
              "frame": {
               "duration": 0,
               "redraw": true
              },
              "fromcurrent": true,
              "mode": "immediate",
              "transition": {
               "duration": 0,
               "easing": "linear"
              }
             }
            ],
            "label": "7:00-11:00",
            "method": "animate"
           },
           {
            "args": [
             [
              "11:00-15:00"
             ],
             {
              "frame": {
               "duration": 0,
               "redraw": true
              },
              "fromcurrent": true,
              "mode": "immediate",
              "transition": {
               "duration": 0,
               "easing": "linear"
              }
             }
            ],
            "label": "11:00-15:00",
            "method": "animate"
           },
           {
            "args": [
             [
              "15:00-16:00"
             ],
             {
              "frame": {
               "duration": 0,
               "redraw": true
              },
              "fromcurrent": true,
              "mode": "immediate",
              "transition": {
               "duration": 0,
               "easing": "linear"
              }
             }
            ],
            "label": "15:00-16:00",
            "method": "animate"
           },
           {
            "args": [
             [
              "16:00-20:00"
             ],
             {
              "frame": {
               "duration": 0,
               "redraw": true
              },
              "fromcurrent": true,
              "mode": "immediate",
              "transition": {
               "duration": 0,
               "easing": "linear"
              }
             }
            ],
            "label": "16:00-20:00",
            "method": "animate"
           },
           {
            "args": [
             [
              "20:00-24:00"
             ],
             {
              "frame": {
               "duration": 0,
               "redraw": true
              },
              "fromcurrent": true,
              "mode": "immediate",
              "transition": {
               "duration": 0,
               "easing": "linear"
              }
             }
            ],
            "label": "20:00-24:00",
            "method": "animate"
           }
          ],
          "x": 0.1,
          "xanchor": "left",
          "y": 0,
          "yanchor": "top"
         }
        ],
        "template": {
         "data": {
          "bar": [
           {
            "error_x": {
             "color": "#2a3f5f"
            },
            "error_y": {
             "color": "#2a3f5f"
            },
            "marker": {
             "line": {
              "color": "#E5ECF6",
              "width": 0.5
             },
             "pattern": {
              "fillmode": "overlay",
              "size": 10,
              "solidity": 0.2
             }
            },
            "type": "bar"
           }
          ],
          "barpolar": [
           {
            "marker": {
             "line": {
              "color": "#E5ECF6",
              "width": 0.5
             },
             "pattern": {
              "fillmode": "overlay",
              "size": 10,
              "solidity": 0.2
             }
            },
            "type": "barpolar"
           }
          ],
          "carpet": [
           {
            "aaxis": {
             "endlinecolor": "#2a3f5f",
             "gridcolor": "white",
             "linecolor": "white",
             "minorgridcolor": "white",
             "startlinecolor": "#2a3f5f"
            },
            "baxis": {
             "endlinecolor": "#2a3f5f",
             "gridcolor": "white",
             "linecolor": "white",
             "minorgridcolor": "white",
             "startlinecolor": "#2a3f5f"
            },
            "type": "carpet"
           }
          ],
          "choropleth": [
           {
            "colorbar": {
             "outlinewidth": 0,
             "ticks": ""
            },
            "type": "choropleth"
           }
          ],
          "contour": [
           {
            "colorbar": {
             "outlinewidth": 0,
             "ticks": ""
            },
            "colorscale": [
             [
              0,
              "#0d0887"
             ],
             [
              0.1111111111111111,
              "#46039f"
             ],
             [
              0.2222222222222222,
              "#7201a8"
             ],
             [
              0.3333333333333333,
              "#9c179e"
             ],
             [
              0.4444444444444444,
              "#bd3786"
             ],
             [
              0.5555555555555556,
              "#d8576b"
             ],
             [
              0.6666666666666666,
              "#ed7953"
             ],
             [
              0.7777777777777778,
              "#fb9f3a"
             ],
             [
              0.8888888888888888,
              "#fdca26"
             ],
             [
              1,
              "#f0f921"
             ]
            ],
            "type": "contour"
           }
          ],
          "contourcarpet": [
           {
            "colorbar": {
             "outlinewidth": 0,
             "ticks": ""
            },
            "type": "contourcarpet"
           }
          ],
          "heatmap": [
           {
            "colorbar": {
             "outlinewidth": 0,
             "ticks": ""
            },
            "colorscale": [
             [
              0,
              "#0d0887"
             ],
             [
              0.1111111111111111,
              "#46039f"
             ],
             [
              0.2222222222222222,
              "#7201a8"
             ],
             [
              0.3333333333333333,
              "#9c179e"
             ],
             [
              0.4444444444444444,
              "#bd3786"
             ],
             [
              0.5555555555555556,
              "#d8576b"
             ],
             [
              0.6666666666666666,
              "#ed7953"
             ],
             [
              0.7777777777777778,
              "#fb9f3a"
             ],
             [
              0.8888888888888888,
              "#fdca26"
             ],
             [
              1,
              "#f0f921"
             ]
            ],
            "type": "heatmap"
           }
          ],
          "heatmapgl": [
           {
            "colorbar": {
             "outlinewidth": 0,
             "ticks": ""
            },
            "colorscale": [
             [
              0,
              "#0d0887"
             ],
             [
              0.1111111111111111,
              "#46039f"
             ],
             [
              0.2222222222222222,
              "#7201a8"
             ],
             [
              0.3333333333333333,
              "#9c179e"
             ],
             [
              0.4444444444444444,
              "#bd3786"
             ],
             [
              0.5555555555555556,
              "#d8576b"
             ],
             [
              0.6666666666666666,
              "#ed7953"
             ],
             [
              0.7777777777777778,
              "#fb9f3a"
             ],
             [
              0.8888888888888888,
              "#fdca26"
             ],
             [
              1,
              "#f0f921"
             ]
            ],
            "type": "heatmapgl"
           }
          ],
          "histogram": [
           {
            "marker": {
             "pattern": {
              "fillmode": "overlay",
              "size": 10,
              "solidity": 0.2
             }
            },
            "type": "histogram"
           }
          ],
          "histogram2d": [
           {
            "colorbar": {
             "outlinewidth": 0,
             "ticks": ""
            },
            "colorscale": [
             [
              0,
              "#0d0887"
             ],
             [
              0.1111111111111111,
              "#46039f"
             ],
             [
              0.2222222222222222,
              "#7201a8"
             ],
             [
              0.3333333333333333,
              "#9c179e"
             ],
             [
              0.4444444444444444,
              "#bd3786"
             ],
             [
              0.5555555555555556,
              "#d8576b"
             ],
             [
              0.6666666666666666,
              "#ed7953"
             ],
             [
              0.7777777777777778,
              "#fb9f3a"
             ],
             [
              0.8888888888888888,
              "#fdca26"
             ],
             [
              1,
              "#f0f921"
             ]
            ],
            "type": "histogram2d"
           }
          ],
          "histogram2dcontour": [
           {
            "colorbar": {
             "outlinewidth": 0,
             "ticks": ""
            },
            "colorscale": [
             [
              0,
              "#0d0887"
             ],
             [
              0.1111111111111111,
              "#46039f"
             ],
             [
              0.2222222222222222,
              "#7201a8"
             ],
             [
              0.3333333333333333,
              "#9c179e"
             ],
             [
              0.4444444444444444,
              "#bd3786"
             ],
             [
              0.5555555555555556,
              "#d8576b"
             ],
             [
              0.6666666666666666,
              "#ed7953"
             ],
             [
              0.7777777777777778,
              "#fb9f3a"
             ],
             [
              0.8888888888888888,
              "#fdca26"
             ],
             [
              1,
              "#f0f921"
             ]
            ],
            "type": "histogram2dcontour"
           }
          ],
          "mesh3d": [
           {
            "colorbar": {
             "outlinewidth": 0,
             "ticks": ""
            },
            "type": "mesh3d"
           }
          ],
          "parcoords": [
           {
            "line": {
             "colorbar": {
              "outlinewidth": 0,
              "ticks": ""
             }
            },
            "type": "parcoords"
           }
          ],
          "pie": [
           {
            "automargin": true,
            "type": "pie"
           }
          ],
          "scatter": [
           {
            "fillpattern": {
             "fillmode": "overlay",
             "size": 10,
             "solidity": 0.2
            },
            "type": "scatter"
           }
          ],
          "scatter3d": [
           {
            "line": {
             "colorbar": {
              "outlinewidth": 0,
              "ticks": ""
             }
            },
            "marker": {
             "colorbar": {
              "outlinewidth": 0,
              "ticks": ""
             }
            },
            "type": "scatter3d"
           }
          ],
          "scattercarpet": [
           {
            "marker": {
             "colorbar": {
              "outlinewidth": 0,
              "ticks": ""
             }
            },
            "type": "scattercarpet"
           }
          ],
          "scattergeo": [
           {
            "marker": {
             "colorbar": {
              "outlinewidth": 0,
              "ticks": ""
             }
            },
            "type": "scattergeo"
           }
          ],
          "scattergl": [
           {
            "marker": {
             "colorbar": {
              "outlinewidth": 0,
              "ticks": ""
             }
            },
            "type": "scattergl"
           }
          ],
          "scattermapbox": [
           {
            "marker": {
             "colorbar": {
              "outlinewidth": 0,
              "ticks": ""
             }
            },
            "type": "scattermapbox"
           }
          ],
          "scatterpolar": [
           {
            "marker": {
             "colorbar": {
              "outlinewidth": 0,
              "ticks": ""
             }
            },
            "type": "scatterpolar"
           }
          ],
          "scatterpolargl": [
           {
            "marker": {
             "colorbar": {
              "outlinewidth": 0,
              "ticks": ""
             }
            },
            "type": "scatterpolargl"
           }
          ],
          "scatterternary": [
           {
            "marker": {
             "colorbar": {
              "outlinewidth": 0,
              "ticks": ""
             }
            },
            "type": "scatterternary"
           }
          ],
          "surface": [
           {
            "colorbar": {
             "outlinewidth": 0,
             "ticks": ""
            },
            "colorscale": [
             [
              0,
              "#0d0887"
             ],
             [
              0.1111111111111111,
              "#46039f"
             ],
             [
              0.2222222222222222,
              "#7201a8"
             ],
             [
              0.3333333333333333,
              "#9c179e"
             ],
             [
              0.4444444444444444,
              "#bd3786"
             ],
             [
              0.5555555555555556,
              "#d8576b"
             ],
             [
              0.6666666666666666,
              "#ed7953"
             ],
             [
              0.7777777777777778,
              "#fb9f3a"
             ],
             [
              0.8888888888888888,
              "#fdca26"
             ],
             [
              1,
              "#f0f921"
             ]
            ],
            "type": "surface"
           }
          ],
          "table": [
           {
            "cells": {
             "fill": {
              "color": "#EBF0F8"
             },
             "line": {
              "color": "white"
             }
            },
            "header": {
             "fill": {
              "color": "#C8D4E3"
             },
             "line": {
              "color": "white"
             }
            },
            "type": "table"
           }
          ]
         },
         "layout": {
          "annotationdefaults": {
           "arrowcolor": "#2a3f5f",
           "arrowhead": 0,
           "arrowwidth": 1
          },
          "autotypenumbers": "strict",
          "coloraxis": {
           "colorbar": {
            "outlinewidth": 0,
            "ticks": ""
           }
          },
          "colorscale": {
           "diverging": [
            [
             0,
             "#8e0152"
            ],
            [
             0.1,
             "#c51b7d"
            ],
            [
             0.2,
             "#de77ae"
            ],
            [
             0.3,
             "#f1b6da"
            ],
            [
             0.4,
             "#fde0ef"
            ],
            [
             0.5,
             "#f7f7f7"
            ],
            [
             0.6,
             "#e6f5d0"
            ],
            [
             0.7,
             "#b8e186"
            ],
            [
             0.8,
             "#7fbc41"
            ],
            [
             0.9,
             "#4d9221"
            ],
            [
             1,
             "#276419"
            ]
           ],
           "sequential": [
            [
             0,
             "#0d0887"
            ],
            [
             0.1111111111111111,
             "#46039f"
            ],
            [
             0.2222222222222222,
             "#7201a8"
            ],
            [
             0.3333333333333333,
             "#9c179e"
            ],
            [
             0.4444444444444444,
             "#bd3786"
            ],
            [
             0.5555555555555556,
             "#d8576b"
            ],
            [
             0.6666666666666666,
             "#ed7953"
            ],
            [
             0.7777777777777778,
             "#fb9f3a"
            ],
            [
             0.8888888888888888,
             "#fdca26"
            ],
            [
             1,
             "#f0f921"
            ]
           ],
           "sequentialminus": [
            [
             0,
             "#0d0887"
            ],
            [
             0.1111111111111111,
             "#46039f"
            ],
            [
             0.2222222222222222,
             "#7201a8"
            ],
            [
             0.3333333333333333,
             "#9c179e"
            ],
            [
             0.4444444444444444,
             "#bd3786"
            ],
            [
             0.5555555555555556,
             "#d8576b"
            ],
            [
             0.6666666666666666,
             "#ed7953"
            ],
            [
             0.7777777777777778,
             "#fb9f3a"
            ],
            [
             0.8888888888888888,
             "#fdca26"
            ],
            [
             1,
             "#f0f921"
            ]
           ]
          },
          "colorway": [
           "#636efa",
           "#EF553B",
           "#00cc96",
           "#ab63fa",
           "#FFA15A",
           "#19d3f3",
           "#FF6692",
           "#B6E880",
           "#FF97FF",
           "#FECB52"
          ],
          "font": {
           "color": "#2a3f5f"
          },
          "geo": {
           "bgcolor": "white",
           "lakecolor": "white",
           "landcolor": "#E5ECF6",
           "showlakes": true,
           "showland": true,
           "subunitcolor": "white"
          },
          "hoverlabel": {
           "align": "left"
          },
          "hovermode": "closest",
          "mapbox": {
           "style": "light"
          },
          "paper_bgcolor": "white",
          "plot_bgcolor": "#E5ECF6",
          "polar": {
           "angularaxis": {
            "gridcolor": "white",
            "linecolor": "white",
            "ticks": ""
           },
           "bgcolor": "#E5ECF6",
           "radialaxis": {
            "gridcolor": "white",
            "linecolor": "white",
            "ticks": ""
           }
          },
          "scene": {
           "xaxis": {
            "backgroundcolor": "#E5ECF6",
            "gridcolor": "white",
            "gridwidth": 2,
            "linecolor": "white",
            "showbackground": true,
            "ticks": "",
            "zerolinecolor": "white"
           },
           "yaxis": {
            "backgroundcolor": "#E5ECF6",
            "gridcolor": "white",
            "gridwidth": 2,
            "linecolor": "white",
            "showbackground": true,
            "ticks": "",
            "zerolinecolor": "white"
           },
           "zaxis": {
            "backgroundcolor": "#E5ECF6",
            "gridcolor": "white",
            "gridwidth": 2,
            "linecolor": "white",
            "showbackground": true,
            "ticks": "",
            "zerolinecolor": "white"
           }
          },
          "shapedefaults": {
           "line": {
            "color": "#2a3f5f"
           }
          },
          "ternary": {
           "aaxis": {
            "gridcolor": "white",
            "linecolor": "white",
            "ticks": ""
           },
           "baxis": {
            "gridcolor": "white",
            "linecolor": "white",
            "ticks": ""
           },
           "bgcolor": "#E5ECF6",
           "caxis": {
            "gridcolor": "white",
            "linecolor": "white",
            "ticks": ""
           }
          },
          "title": {
           "x": 0.05
          },
          "xaxis": {
           "automargin": true,
           "gridcolor": "white",
           "linecolor": "white",
           "ticks": "",
           "title": {
            "standoff": 15
           },
           "zerolinecolor": "white",
           "zerolinewidth": 2
          },
          "yaxis": {
           "automargin": true,
           "gridcolor": "white",
           "linecolor": "white",
           "ticks": "",
           "title": {
            "standoff": 15
           },
           "zerolinecolor": "white",
           "zerolinewidth": 2
          }
         }
        },
        "title": {
         "text": "Alighting at different time slot"
        },
        "updatemenus": [
         {
          "buttons": [
           {
            "args": [
             null,
             {
              "frame": {
               "duration": 500,
               "redraw": true
              },
              "fromcurrent": true,
              "mode": "immediate",
              "transition": {
               "duration": 500,
               "easing": "linear"
              }
             }
            ],
            "label": "&#9654;",
            "method": "animate"
           },
           {
            "args": [
             [
              null
             ],
             {
              "frame": {
               "duration": 0,
               "redraw": true
              },
              "fromcurrent": true,
              "mode": "immediate",
              "transition": {
               "duration": 0,
               "easing": "linear"
              }
             }
            ],
            "label": "&#9724;",
            "method": "animate"
           }
          ],
          "direction": "left",
          "pad": {
           "r": 10,
           "t": 70
          },
          "showactive": false,
          "type": "buttons",
          "x": 0.1,
          "xanchor": "right",
          "y": 0,
          "yanchor": "top"
         }
        ]
       }
      },
      "text/html": [
       "<div>                            <div id=\"a711ff5a-4fab-4f1b-9fd3-4f38258b92f9\" class=\"plotly-graph-div\" style=\"height:525px; width:100%;\"></div>            <script type=\"text/javascript\">                require([\"plotly\"], function(Plotly) {                    window.PLOTLYENV=window.PLOTLYENV || {};                                    if (document.getElementById(\"a711ff5a-4fab-4f1b-9fd3-4f38258b92f9\")) {                    Plotly.newPlot(                        \"a711ff5a-4fab-4f1b-9fd3-4f38258b92f9\",                        [{\"hovertemplate\":\"Hour_range=00:00-4:00<br>USER_COUNT=%{marker.size}<br>lat=%{lat}<br>long=%{lon}<extra></extra>\",\"lat\":[28.509067],\"legendgroup\":\"\",\"lon\":[77.265117],\"marker\":{\"color\":\"#636efa\",\"size\":[1],\"sizemode\":\"area\",\"sizeref\":287.2088888888889},\"mode\":\"markers\",\"name\":\"\",\"showlegend\":false,\"subplot\":\"mapbox\",\"type\":\"scattermapbox\"}],                        {\"template\":{\"data\":{\"histogram2dcontour\":[{\"type\":\"histogram2dcontour\",\"colorbar\":{\"outlinewidth\":0,\"ticks\":\"\"},\"colorscale\":[[0.0,\"#0d0887\"],[0.1111111111111111,\"#46039f\"],[0.2222222222222222,\"#7201a8\"],[0.3333333333333333,\"#9c179e\"],[0.4444444444444444,\"#bd3786\"],[0.5555555555555556,\"#d8576b\"],[0.6666666666666666,\"#ed7953\"],[0.7777777777777778,\"#fb9f3a\"],[0.8888888888888888,\"#fdca26\"],[1.0,\"#f0f921\"]]}],\"choropleth\":[{\"type\":\"choropleth\",\"colorbar\":{\"outlinewidth\":0,\"ticks\":\"\"}}],\"histogram2d\":[{\"type\":\"histogram2d\",\"colorbar\":{\"outlinewidth\":0,\"ticks\":\"\"},\"colorscale\":[[0.0,\"#0d0887\"],[0.1111111111111111,\"#46039f\"],[0.2222222222222222,\"#7201a8\"],[0.3333333333333333,\"#9c179e\"],[0.4444444444444444,\"#bd3786\"],[0.5555555555555556,\"#d8576b\"],[0.6666666666666666,\"#ed7953\"],[0.7777777777777778,\"#fb9f3a\"],[0.8888888888888888,\"#fdca26\"],[1.0,\"#f0f921\"]]}],\"heatmap\":[{\"type\":\"heatmap\",\"colorbar\":{\"outlinewidth\":0,\"ticks\":\"\"},\"colorscale\":[[0.0,\"#0d0887\"],[0.1111111111111111,\"#46039f\"],[0.2222222222222222,\"#7201a8\"],[0.3333333333333333,\"#9c179e\"],[0.4444444444444444,\"#bd3786\"],[0.5555555555555556,\"#d8576b\"],[0.6666666666666666,\"#ed7953\"],[0.7777777777777778,\"#fb9f3a\"],[0.8888888888888888,\"#fdca26\"],[1.0,\"#f0f921\"]]}],\"heatmapgl\":[{\"type\":\"heatmapgl\",\"colorbar\":{\"outlinewidth\":0,\"ticks\":\"\"},\"colorscale\":[[0.0,\"#0d0887\"],[0.1111111111111111,\"#46039f\"],[0.2222222222222222,\"#7201a8\"],[0.3333333333333333,\"#9c179e\"],[0.4444444444444444,\"#bd3786\"],[0.5555555555555556,\"#d8576b\"],[0.6666666666666666,\"#ed7953\"],[0.7777777777777778,\"#fb9f3a\"],[0.8888888888888888,\"#fdca26\"],[1.0,\"#f0f921\"]]}],\"contourcarpet\":[{\"type\":\"contourcarpet\",\"colorbar\":{\"outlinewidth\":0,\"ticks\":\"\"}}],\"contour\":[{\"type\":\"contour\",\"colorbar\":{\"outlinewidth\":0,\"ticks\":\"\"},\"colorscale\":[[0.0,\"#0d0887\"],[0.1111111111111111,\"#46039f\"],[0.2222222222222222,\"#7201a8\"],[0.3333333333333333,\"#9c179e\"],[0.4444444444444444,\"#bd3786\"],[0.5555555555555556,\"#d8576b\"],[0.6666666666666666,\"#ed7953\"],[0.7777777777777778,\"#fb9f3a\"],[0.8888888888888888,\"#fdca26\"],[1.0,\"#f0f921\"]]}],\"surface\":[{\"type\":\"surface\",\"colorbar\":{\"outlinewidth\":0,\"ticks\":\"\"},\"colorscale\":[[0.0,\"#0d0887\"],[0.1111111111111111,\"#46039f\"],[0.2222222222222222,\"#7201a8\"],[0.3333333333333333,\"#9c179e\"],[0.4444444444444444,\"#bd3786\"],[0.5555555555555556,\"#d8576b\"],[0.6666666666666666,\"#ed7953\"],[0.7777777777777778,\"#fb9f3a\"],[0.8888888888888888,\"#fdca26\"],[1.0,\"#f0f921\"]]}],\"mesh3d\":[{\"type\":\"mesh3d\",\"colorbar\":{\"outlinewidth\":0,\"ticks\":\"\"}}],\"scatter\":[{\"fillpattern\":{\"fillmode\":\"overlay\",\"size\":10,\"solidity\":0.2},\"type\":\"scatter\"}],\"parcoords\":[{\"type\":\"parcoords\",\"line\":{\"colorbar\":{\"outlinewidth\":0,\"ticks\":\"\"}}}],\"scatterpolargl\":[{\"type\":\"scatterpolargl\",\"marker\":{\"colorbar\":{\"outlinewidth\":0,\"ticks\":\"\"}}}],\"bar\":[{\"error_x\":{\"color\":\"#2a3f5f\"},\"error_y\":{\"color\":\"#2a3f5f\"},\"marker\":{\"line\":{\"color\":\"#E5ECF6\",\"width\":0.5},\"pattern\":{\"fillmode\":\"overlay\",\"size\":10,\"solidity\":0.2}},\"type\":\"bar\"}],\"scattergeo\":[{\"type\":\"scattergeo\",\"marker\":{\"colorbar\":{\"outlinewidth\":0,\"ticks\":\"\"}}}],\"scatterpolar\":[{\"type\":\"scatterpolar\",\"marker\":{\"colorbar\":{\"outlinewidth\":0,\"ticks\":\"\"}}}],\"histogram\":[{\"marker\":{\"pattern\":{\"fillmode\":\"overlay\",\"size\":10,\"solidity\":0.2}},\"type\":\"histogram\"}],\"scattergl\":[{\"type\":\"scattergl\",\"marker\":{\"colorbar\":{\"outlinewidth\":0,\"ticks\":\"\"}}}],\"scatter3d\":[{\"type\":\"scatter3d\",\"line\":{\"colorbar\":{\"outlinewidth\":0,\"ticks\":\"\"}},\"marker\":{\"colorbar\":{\"outlinewidth\":0,\"ticks\":\"\"}}}],\"scattermapbox\":[{\"type\":\"scattermapbox\",\"marker\":{\"colorbar\":{\"outlinewidth\":0,\"ticks\":\"\"}}}],\"scatterternary\":[{\"type\":\"scatterternary\",\"marker\":{\"colorbar\":{\"outlinewidth\":0,\"ticks\":\"\"}}}],\"scattercarpet\":[{\"type\":\"scattercarpet\",\"marker\":{\"colorbar\":{\"outlinewidth\":0,\"ticks\":\"\"}}}],\"carpet\":[{\"aaxis\":{\"endlinecolor\":\"#2a3f5f\",\"gridcolor\":\"white\",\"linecolor\":\"white\",\"minorgridcolor\":\"white\",\"startlinecolor\":\"#2a3f5f\"},\"baxis\":{\"endlinecolor\":\"#2a3f5f\",\"gridcolor\":\"white\",\"linecolor\":\"white\",\"minorgridcolor\":\"white\",\"startlinecolor\":\"#2a3f5f\"},\"type\":\"carpet\"}],\"table\":[{\"cells\":{\"fill\":{\"color\":\"#EBF0F8\"},\"line\":{\"color\":\"white\"}},\"header\":{\"fill\":{\"color\":\"#C8D4E3\"},\"line\":{\"color\":\"white\"}},\"type\":\"table\"}],\"barpolar\":[{\"marker\":{\"line\":{\"color\":\"#E5ECF6\",\"width\":0.5},\"pattern\":{\"fillmode\":\"overlay\",\"size\":10,\"solidity\":0.2}},\"type\":\"barpolar\"}],\"pie\":[{\"automargin\":true,\"type\":\"pie\"}]},\"layout\":{\"autotypenumbers\":\"strict\",\"colorway\":[\"#636efa\",\"#EF553B\",\"#00cc96\",\"#ab63fa\",\"#FFA15A\",\"#19d3f3\",\"#FF6692\",\"#B6E880\",\"#FF97FF\",\"#FECB52\"],\"font\":{\"color\":\"#2a3f5f\"},\"hovermode\":\"closest\",\"hoverlabel\":{\"align\":\"left\"},\"paper_bgcolor\":\"white\",\"plot_bgcolor\":\"#E5ECF6\",\"polar\":{\"bgcolor\":\"#E5ECF6\",\"angularaxis\":{\"gridcolor\":\"white\",\"linecolor\":\"white\",\"ticks\":\"\"},\"radialaxis\":{\"gridcolor\":\"white\",\"linecolor\":\"white\",\"ticks\":\"\"}},\"ternary\":{\"bgcolor\":\"#E5ECF6\",\"aaxis\":{\"gridcolor\":\"white\",\"linecolor\":\"white\",\"ticks\":\"\"},\"baxis\":{\"gridcolor\":\"white\",\"linecolor\":\"white\",\"ticks\":\"\"},\"caxis\":{\"gridcolor\":\"white\",\"linecolor\":\"white\",\"ticks\":\"\"}},\"coloraxis\":{\"colorbar\":{\"outlinewidth\":0,\"ticks\":\"\"}},\"colorscale\":{\"sequential\":[[0.0,\"#0d0887\"],[0.1111111111111111,\"#46039f\"],[0.2222222222222222,\"#7201a8\"],[0.3333333333333333,\"#9c179e\"],[0.4444444444444444,\"#bd3786\"],[0.5555555555555556,\"#d8576b\"],[0.6666666666666666,\"#ed7953\"],[0.7777777777777778,\"#fb9f3a\"],[0.8888888888888888,\"#fdca26\"],[1.0,\"#f0f921\"]],\"sequentialminus\":[[0.0,\"#0d0887\"],[0.1111111111111111,\"#46039f\"],[0.2222222222222222,\"#7201a8\"],[0.3333333333333333,\"#9c179e\"],[0.4444444444444444,\"#bd3786\"],[0.5555555555555556,\"#d8576b\"],[0.6666666666666666,\"#ed7953\"],[0.7777777777777778,\"#fb9f3a\"],[0.8888888888888888,\"#fdca26\"],[1.0,\"#f0f921\"]],\"diverging\":[[0,\"#8e0152\"],[0.1,\"#c51b7d\"],[0.2,\"#de77ae\"],[0.3,\"#f1b6da\"],[0.4,\"#fde0ef\"],[0.5,\"#f7f7f7\"],[0.6,\"#e6f5d0\"],[0.7,\"#b8e186\"],[0.8,\"#7fbc41\"],[0.9,\"#4d9221\"],[1,\"#276419\"]]},\"xaxis\":{\"gridcolor\":\"white\",\"linecolor\":\"white\",\"ticks\":\"\",\"title\":{\"standoff\":15},\"zerolinecolor\":\"white\",\"automargin\":true,\"zerolinewidth\":2},\"yaxis\":{\"gridcolor\":\"white\",\"linecolor\":\"white\",\"ticks\":\"\",\"title\":{\"standoff\":15},\"zerolinecolor\":\"white\",\"automargin\":true,\"zerolinewidth\":2},\"scene\":{\"xaxis\":{\"backgroundcolor\":\"#E5ECF6\",\"gridcolor\":\"white\",\"linecolor\":\"white\",\"showbackground\":true,\"ticks\":\"\",\"zerolinecolor\":\"white\",\"gridwidth\":2},\"yaxis\":{\"backgroundcolor\":\"#E5ECF6\",\"gridcolor\":\"white\",\"linecolor\":\"white\",\"showbackground\":true,\"ticks\":\"\",\"zerolinecolor\":\"white\",\"gridwidth\":2},\"zaxis\":{\"backgroundcolor\":\"#E5ECF6\",\"gridcolor\":\"white\",\"linecolor\":\"white\",\"showbackground\":true,\"ticks\":\"\",\"zerolinecolor\":\"white\",\"gridwidth\":2}},\"shapedefaults\":{\"line\":{\"color\":\"#2a3f5f\"}},\"annotationdefaults\":{\"arrowcolor\":\"#2a3f5f\",\"arrowhead\":0,\"arrowwidth\":1},\"geo\":{\"bgcolor\":\"white\",\"landcolor\":\"#E5ECF6\",\"subunitcolor\":\"white\",\"showland\":true,\"showlakes\":true,\"lakecolor\":\"white\"},\"title\":{\"x\":0.05},\"mapbox\":{\"style\":\"light\"}}},\"mapbox\":{\"domain\":{\"x\":[0.0,1.0],\"y\":[0.0,1.0]},\"center\":{\"lat\":28.523383058945587,\"lon\":77.15867606055164},\"zoom\":10,\"style\":\"carto-positron\"},\"legend\":{\"tracegroupgap\":0,\"itemsizing\":\"constant\"},\"title\":{\"text\":\"Alighting at different time slot\"},\"updatemenus\":[{\"buttons\":[{\"args\":[null,{\"frame\":{\"duration\":500,\"redraw\":true},\"mode\":\"immediate\",\"fromcurrent\":true,\"transition\":{\"duration\":500,\"easing\":\"linear\"}}],\"label\":\"&#9654;\",\"method\":\"animate\"},{\"args\":[[null],{\"frame\":{\"duration\":0,\"redraw\":true},\"mode\":\"immediate\",\"fromcurrent\":true,\"transition\":{\"duration\":0,\"easing\":\"linear\"}}],\"label\":\"&#9724;\",\"method\":\"animate\"}],\"direction\":\"left\",\"pad\":{\"r\":10,\"t\":70},\"showactive\":false,\"type\":\"buttons\",\"x\":0.1,\"xanchor\":\"right\",\"y\":0,\"yanchor\":\"top\"}],\"sliders\":[{\"active\":0,\"currentvalue\":{\"prefix\":\"Hour_range=\"},\"len\":0.9,\"pad\":{\"b\":10,\"t\":60},\"steps\":[{\"args\":[[\"00:00-4:00\"],{\"frame\":{\"duration\":0,\"redraw\":true},\"mode\":\"immediate\",\"fromcurrent\":true,\"transition\":{\"duration\":0,\"easing\":\"linear\"}}],\"label\":\"00:00-4:00\",\"method\":\"animate\"},{\"args\":[[\"4:00-7:00\"],{\"frame\":{\"duration\":0,\"redraw\":true},\"mode\":\"immediate\",\"fromcurrent\":true,\"transition\":{\"duration\":0,\"easing\":\"linear\"}}],\"label\":\"4:00-7:00\",\"method\":\"animate\"},{\"args\":[[\"7:00-11:00\"],{\"frame\":{\"duration\":0,\"redraw\":true},\"mode\":\"immediate\",\"fromcurrent\":true,\"transition\":{\"duration\":0,\"easing\":\"linear\"}}],\"label\":\"7:00-11:00\",\"method\":\"animate\"},{\"args\":[[\"11:00-15:00\"],{\"frame\":{\"duration\":0,\"redraw\":true},\"mode\":\"immediate\",\"fromcurrent\":true,\"transition\":{\"duration\":0,\"easing\":\"linear\"}}],\"label\":\"11:00-15:00\",\"method\":\"animate\"},{\"args\":[[\"15:00-16:00\"],{\"frame\":{\"duration\":0,\"redraw\":true},\"mode\":\"immediate\",\"fromcurrent\":true,\"transition\":{\"duration\":0,\"easing\":\"linear\"}}],\"label\":\"15:00-16:00\",\"method\":\"animate\"},{\"args\":[[\"16:00-20:00\"],{\"frame\":{\"duration\":0,\"redraw\":true},\"mode\":\"immediate\",\"fromcurrent\":true,\"transition\":{\"duration\":0,\"easing\":\"linear\"}}],\"label\":\"16:00-20:00\",\"method\":\"animate\"},{\"args\":[[\"20:00-24:00\"],{\"frame\":{\"duration\":0,\"redraw\":true},\"mode\":\"immediate\",\"fromcurrent\":true,\"transition\":{\"duration\":0,\"easing\":\"linear\"}}],\"label\":\"20:00-24:00\",\"method\":\"animate\"}],\"x\":0.1,\"xanchor\":\"left\",\"y\":0,\"yanchor\":\"top\"}]},                        {\"responsive\": true}                    ).then(function(){\n",
       "                            Plotly.addFrames('a711ff5a-4fab-4f1b-9fd3-4f38258b92f9', [{\"data\":[{\"hovertemplate\":\"Hour_range=00:00-4:00<br>USER_COUNT=%{marker.size}<br>lat=%{lat}<br>long=%{lon}<extra></extra>\",\"lat\":[28.509067],\"legendgroup\":\"\",\"lon\":[77.265117],\"marker\":{\"color\":\"#636efa\",\"size\":[1],\"sizemode\":\"area\",\"sizeref\":287.2088888888889},\"mode\":\"markers\",\"name\":\"\",\"showlegend\":false,\"subplot\":\"mapbox\",\"type\":\"scattermapbox\"}],\"name\":\"00:00-4:00\"},{\"data\":[{\"hovertemplate\":\"Hour_range=4:00-7:00<br>USER_COUNT=%{marker.size}<br>lat=%{lat}<br>long=%{lon}<extra></extra>\",\"lat\":[28.521142,28.522481,28.52249500000001,28.509067,28.51610100000001,28.522481,28.534882,28.5313,28.5221655777015,28.53561,28.512167,28.514366,28.534652,28.53398,28.509067,28.52249500000001,28.5417,28.521142,28.509217,28.512167,28.51610100000001,28.509217,28.52249500000001,28.5313,28.53398,28.534882,28.522481,28.5221655777015,28.53561,28.514366,28.509067,28.521142,28.5417,28.534652],\"legendgroup\":\"\",\"lon\":[77.199972,77.082442,77.193066,77.265117,77.223607,77.082442,77.10835300000002,77.08815,77.09864265467749,77.112429,77.248667,77.16415500000002,77.090446,77.142404,77.265117,77.193066,77.12935,77.199972,77.178967,77.248667,77.223607,77.178967,77.193066,77.08815,77.142404,77.10835300000002,77.082442,77.09864265467749,77.112429,77.16415500000002,77.265117,77.199972,77.12935,77.090446],\"marker\":{\"color\":\"#636efa\",\"size\":[15,25,1,9,618,13047,76,414,654,577,796,1732,81,1229,1585,2102,1087,6836,358,2039,936,1040,5489,3557,4220,292,31287,4103,3485,3907,1755,12941,6981,817],\"sizemode\":\"area\",\"sizeref\":287.2088888888889},\"mode\":\"markers\",\"name\":\"\",\"showlegend\":false,\"subplot\":\"mapbox\",\"type\":\"scattermapbox\"}],\"name\":\"4:00-7:00\"},{\"data\":[{\"hovertemplate\":\"Hour_range=7:00-11:00<br>USER_COUNT=%{marker.size}<br>lat=%{lat}<br>long=%{lon}<extra></extra>\",\"lat\":[28.522481,28.5221655777015,28.512167,28.521142,28.514366,28.51610100000001,28.52249500000001,28.5,28.5313,28.53398,28.5417,28.509217,28.509067,28.534652,28.53561,28.534882,28.534882,28.51610100000001,28.5417,28.514366,28.53561,28.509067,28.521142,28.52249500000001,28.5313,28.534652,28.522481,28.512167,28.509217,28.53398,28.5221655777015,28.534882,28.521142,28.5221655777015,28.534652,28.53398,28.53561,28.51610100000001,28.5313,28.5417,28.52249500000001,28.522481,28.514366,28.5,28.509217,28.512167,28.509067,28.5313,28.5,28.521142,28.5221655777015,28.53561,28.512167,28.509067,28.534882,28.52249500000001,28.509217,28.53398,28.534652,28.514366,28.5417,28.522481,28.51610100000001],\"legendgroup\":\"\",\"lon\":[77.082442,77.09864265467749,77.248667,77.199972,77.16415500000002,77.223607,77.193066,77.29463299999998,77.08815,77.142404,77.12935,77.178967,77.265117,77.090446,77.112429,77.10835300000002,77.10835300000002,77.223607,77.12935,77.16415500000002,77.112429,77.265117,77.199972,77.193066,77.08815,77.090446,77.082442,77.248667,77.178967,77.142404,77.09864265467749,77.10835300000002,77.199972,77.09864265467749,77.090446,77.142404,77.112429,77.223607,77.08815,77.12935,77.193066,77.082442,77.16415500000002,77.29463299999998,77.178967,77.248667,77.265117,77.08815,77.29463299999998,77.199972,77.09864265467749,77.112429,77.248667,77.265117,77.10835300000002,77.193066,77.178967,77.142404,77.090446,77.16415500000002,77.12935,77.082442,77.223607],\"marker\":{\"color\":\"#636efa\",\"size\":[47155,5099,2718,15243,5530,974,7618,4,3749,8123,7341,2012,1957,1472,3859,928,1682,1822,8678,13153,5463,4686,25565,13933,3160,2382,64622,4847,3680,11059,7422,1927,23901,9148,2369,16942,7358,1843,3368,14404,13849,49093,12742,2,4707,4244,4947,1900,1,14914,4955,4313,2698,3858,1047,7892,2446,10702,1036,6579,8262,32255,1135],\"sizemode\":\"area\",\"sizeref\":287.2088888888889},\"mode\":\"markers\",\"name\":\"\",\"showlegend\":false,\"subplot\":\"mapbox\",\"type\":\"scattermapbox\"}],\"name\":\"7:00-11:00\"},{\"data\":[{\"hovertemplate\":\"Hour_range=11:00-15:00<br>USER_COUNT=%{marker.size}<br>lat=%{lat}<br>long=%{lon}<extra></extra>\",\"lat\":[28.52249500000001,28.509217,28.53561,28.5313,28.51610100000001,28.53398,28.5221655777015,28.522481,28.521142,28.512167,28.5,28.534652,28.509067,28.534882,28.514366,28.5417,28.514366,28.512167,28.534882,28.52249500000001,28.53561,28.53398,28.509067,28.5221655777015,28.522481,28.51610100000001,28.5417,28.521142,28.509217,28.534652,28.5,28.5313,28.521142,28.52249500000001,28.5417,28.534652,28.509067,28.522481,28.51610100000001,28.514366,28.512167,28.534882,28.53398,28.5313,28.53561,28.509217,28.5221655777015,28.5313,28.534882,28.52249500000001,28.5221655777015,28.534652,28.51610100000001,28.53561,28.512167,28.522481,28.509217,28.53398,28.514366,28.521142,28.5417,28.509067],\"legendgroup\":\"\",\"lon\":[77.193066,77.178967,77.112429,77.08815,77.223607,77.142404,77.09864265467749,77.082442,77.199972,77.248667,77.29463299999998,77.090446,77.265117,77.10835300000002,77.16415500000002,77.12935,77.16415500000002,77.248667,77.10835300000002,77.193066,77.112429,77.142404,77.265117,77.09864265467749,77.082442,77.223607,77.12935,77.199972,77.178967,77.090446,77.29463299999998,77.08815,77.199972,77.193066,77.12935,77.090446,77.265117,77.082442,77.223607,77.16415500000002,77.248667,77.10835300000002,77.142404,77.08815,77.112429,77.178967,77.09864265467749,77.08815,77.10835300000002,77.193066,77.09864265467749,77.090446,77.223607,77.112429,77.248667,77.082442,77.178967,77.142404,77.16415500000002,77.199972,77.12935,77.265117],\"marker\":{\"color\":\"#636efa\",\"size\":[4361,1393,3697,1479,760,6497,3522,19853,8159,1474,1,852,1868,586,3476,5746,2640,2019,367,3826,2521,3696,2429,2030,18843,812,3674,8646,1130,626,2,914,12951,6686,6702,667,2859,26312,1432,5211,3038,564,6741,1070,3761,1990,3844,2704,599,4075,5026,1349,809,5699,1959,22965,1426,5518,3143,7467,7044,1919],\"sizemode\":\"area\",\"sizeref\":287.2088888888889},\"mode\":\"markers\",\"name\":\"\",\"showlegend\":false,\"subplot\":\"mapbox\",\"type\":\"scattermapbox\"}],\"name\":\"11:00-15:00\"},{\"data\":[{\"hovertemplate\":\"Hour_range=15:00-16:00<br>USER_COUNT=%{marker.size}<br>lat=%{lat}<br>long=%{lon}<extra></extra>\",\"lat\":[28.509217,28.5313,28.5417,28.52249500000001,28.509067,28.534652,28.514366,28.534882,28.51610100000001,28.521142,28.522481,28.5,28.5221655777015,28.512167,28.53398,28.53561],\"legendgroup\":\"\",\"lon\":[77.178967,77.08815,77.12935,77.193066,77.265117,77.090446,77.16415500000002,77.10835300000002,77.223607,77.199972,77.082442,77.29463299999998,77.09864265467749,77.248667,77.142404,77.112429],\"marker\":{\"color\":\"#636efa\",\"size\":[1599,1818,6499,4573,2357,1024,3324,479,961,8264,24592,5,4381,2805,5236,4311],\"sizemode\":\"area\",\"sizeref\":287.2088888888889},\"mode\":\"markers\",\"name\":\"\",\"showlegend\":false,\"subplot\":\"mapbox\",\"type\":\"scattermapbox\"}],\"name\":\"15:00-16:00\"},{\"data\":[{\"hovertemplate\":\"Hour_range=16:00-20:00<br>USER_COUNT=%{marker.size}<br>lat=%{lat}<br>long=%{lon}<extra></extra>\",\"lat\":[28.51610100000001,28.5313,28.521142,28.53398,28.53561,28.512167,28.509217,28.509067,28.5221655777015,28.534652,28.522481,28.52249500000001,28.5417,28.534882,28.514366,28.53398,28.5417,28.534882,28.5313,28.51610100000001,28.521142,28.53561,28.512167,28.5221655777015,28.534652,28.5,28.522481,28.52249500000001,28.509217,28.514366,28.509067,28.534882,28.534652,28.53561,28.5417,28.509067,28.514366,28.521142,28.509217,28.5313,28.51610100000001,28.52249500000001,28.53398,28.522481,28.5221655777015,28.512167,28.5,28.534882,28.522481,28.521142,28.512167,28.509217,28.53561,28.5221655777015,28.52249500000001,28.51610100000001,28.5417,28.53398,28.509067,28.534652,28.514366,28.5313],\"legendgroup\":\"\",\"lon\":[77.223607,77.08815,77.199972,77.142404,77.112429,77.248667,77.178967,77.265117,77.09864265467749,77.090446,77.082442,77.193066,77.12935,77.10835300000002,77.16415500000002,77.142404,77.12935,77.10835300000002,77.08815,77.223607,77.199972,77.112429,77.248667,77.09864265467749,77.090446,77.29463299999998,77.082442,77.193066,77.178967,77.16415500000002,77.265117,77.10835300000002,77.090446,77.112429,77.12935,77.265117,77.16415500000002,77.199972,77.178967,77.08815,77.223607,77.193066,77.142404,77.082442,77.09864265467749,77.248667,77.29463299999998,77.10835300000002,77.082442,77.199972,77.248667,77.178967,77.112429,77.09864265467749,77.193066,77.223607,77.12935,77.142404,77.265117,77.090446,77.16415500000002,77.08815],\"marker\":{\"color\":\"#636efa\",\"size\":[1375,2096,11670,6967,5571,3885,2047,3215,5570,1266,25803,5912,8363,659,3723,7314,10457,574,3228,1388,10463,6700,4130,6271,2056,1,25153,5386,2272,3278,2849,581,1776,5460,10329,2536,2940,7702,2289,3623,1224,4867,6567,22259,6126,4704,1,404,15881,6085,3765,1361,2554,3154,3779,968,5585,4255,2250,792,2133,1966],\"sizemode\":\"area\",\"sizeref\":287.2088888888889},\"mode\":\"markers\",\"name\":\"\",\"showlegend\":false,\"subplot\":\"mapbox\",\"type\":\"scattermapbox\"}],\"name\":\"16:00-20:00\"},{\"data\":[{\"hovertemplate\":\"Hour_range=20:00-24:00<br>USER_COUNT=%{marker.size}<br>lat=%{lat}<br>long=%{lon}<extra></extra>\",\"lat\":[28.5221655777015,28.53398,28.53561,28.534882,28.509067,28.522481,28.51610100000001,28.5417,28.5313,28.509217,28.514366,28.534652,28.521142,28.52249500000001,28.512167,28.521142,28.509067,28.512167,28.534882,28.51610100000001,28.5417,28.514366,28.53398,28.5313,28.522481,28.509217,28.534652,28.52249500000001,28.5221655777015,28.53561,28.514366,28.51610100000001,28.512167,28.53398,28.534882,28.53561,28.521142,28.5221655777015,28.522481,28.509217,28.534652,28.52249500000001,28.5313,28.509067,28.5417,28.5221655777015,28.522481,28.534652,28.5313,28.53561],\"legendgroup\":\"\",\"lon\":[77.09864265467749,77.142404,77.112429,77.10835300000002,77.265117,77.082442,77.223607,77.12935,77.08815,77.178967,77.16415500000002,77.090446,77.199972,77.193066,77.248667,77.199972,77.265117,77.248667,77.10835300000002,77.223607,77.12935,77.16415500000002,77.142404,77.08815,77.082442,77.178967,77.090446,77.193066,77.09864265467749,77.112429,77.16415500000002,77.223607,77.248667,77.142404,77.10835300000002,77.112429,77.199972,77.09864265467749,77.082442,77.178967,77.090446,77.193066,77.08815,77.265117,77.12935,77.09864265467749,77.082442,77.090446,77.08815,77.112429],\"marker\":{\"color\":\"#636efa\",\"size\":[2569,3052,2217,315,1398,9047,578,4126,1685,887,1247,658,3593,2228,2018,2399,1180,1749,156,250,2214,565,1465,1105,4047,350,418,1125,1480,1082,33,4,19,368,56,283,85,459,684,23,139,62,815,18,509,2,16,2,14,1],\"sizemode\":\"area\",\"sizeref\":287.2088888888889},\"mode\":\"markers\",\"name\":\"\",\"showlegend\":false,\"subplot\":\"mapbox\",\"type\":\"scattermapbox\"}],\"name\":\"20:00-24:00\"}]);\n",
       "                        }).then(function(){\n",
       "                            \n",
       "var gd = document.getElementById('a711ff5a-4fab-4f1b-9fd3-4f38258b92f9');\n",
       "var x = new MutationObserver(function (mutations, observer) {{\n",
       "        var display = window.getComputedStyle(gd).display;\n",
       "        if (!display || display === 'none') {{\n",
       "            console.log([gd, 'removed!']);\n",
       "            Plotly.purge(gd);\n",
       "            observer.disconnect();\n",
       "        }}\n",
       "}});\n",
       "\n",
       "// Listen for the removal of the full notebook cells\n",
       "var notebookContainer = gd.closest('#notebook-container');\n",
       "if (notebookContainer) {{\n",
       "    x.observe(notebookContainer, {childList: true});\n",
       "}}\n",
       "\n",
       "// Listen for the clearing of the current output cell\n",
       "var outputEl = gd.closest('.output');\n",
       "if (outputEl) {{\n",
       "    x.observe(outputEl, {childList: true});\n",
       "}}\n",
       "\n",
       "                        })                };                });            </script>        </div>"
      ]
     },
     "metadata": {},
     "output_type": "display_data"
    }
   ],
   "source": [
    "fig = px.scatter_mapbox(Dest_map,\n",
    "                        title = \"Alighting at different time slot\",\n",
    "                        lat=\"lat\", lon=\"long\", size=\"USER_COUNT\",animation_frame='Hour_range',\n",
    "                        color_continuous_scale=px.colors.cyclical.IceFire, size_max=15, zoom=10,\n",
    "                        mapbox_style=\"carto-positron\")\n",
    "fig.show()"
   ]
  },
  {
   "cell_type": "code",
   "execution_count": null,
   "id": "c29a5da1",
   "metadata": {},
   "outputs": [],
   "source": []
  },
  {
   "cell_type": "code",
   "execution_count": null,
   "id": "3e17410a",
   "metadata": {},
   "outputs": [],
   "source": []
  },
  {
   "cell_type": "code",
   "execution_count": null,
   "id": "dfad082e",
   "metadata": {},
   "outputs": [],
   "source": []
  },
  {
   "cell_type": "code",
   "execution_count": null,
   "id": "635cc850",
   "metadata": {},
   "outputs": [],
   "source": []
  },
  {
   "cell_type": "code",
   "execution_count": null,
   "id": "44ad2343",
   "metadata": {},
   "outputs": [],
   "source": []
  },
  {
   "cell_type": "code",
   "execution_count": null,
   "id": "7f693049",
   "metadata": {},
   "outputs": [],
   "source": []
  },
  {
   "cell_type": "code",
   "execution_count": null,
   "id": "7b44bb2a",
   "metadata": {},
   "outputs": [],
   "source": []
  },
  {
   "cell_type": "code",
   "execution_count": null,
   "id": "e5694d92",
   "metadata": {},
   "outputs": [],
   "source": []
  },
  {
   "cell_type": "markdown",
   "id": "52586f53",
   "metadata": {},
   "source": [
    "# Redistribution"
   ]
  },
  {
   "cell_type": "code",
   "execution_count": 53,
   "id": "3d46f4a9",
   "metadata": {},
   "outputs": [],
   "source": [
    "route_data_pd['TRIP_ID'].unique()[0]"
   ]
  },
  {
   "cell_type": "code",
   "execution_count": 54,
   "id": "c758c3c9",
   "metadata": {},
   "outputs": [],
   "source": [
    "route_data_pd[route_data_pd['TRIP_ID']=='T12695010919061902']"
   ]
  },
  {
   "cell_type": "code",
   "execution_count": 55,
   "id": "9699b6b1",
   "metadata": {},
   "outputs": [],
   "source": [
    "routename"
   ]
  },
  {
   "cell_type": "code",
   "execution_count": 56,
   "id": "88a8a079",
   "metadata": {},
   "outputs": [],
   "source": [
    "from math import radians, cos, sin, asin, sqrt\n",
    "\n",
    "def haversine(lon1, lat1, lon2, lat2):\n",
    "    \"\"\"\n",
    "    Calculate the great circle distance in kilometers between two points \n",
    "    on the earth (specified in decimal degrees)\n",
    "    \"\"\"\n",
    "    # convert decimal degrees to radians \n",
    "    lon1, lat1, lon2, lat2 = map(radians, [lon1, lat1, lon2, lat2])\n",
    "\n",
    "    # haversine formula \n",
    "    dlon = lon2 - lon1 \n",
    "    dlat = lat2 - lat1 \n",
    "    a = sin(dlat/2)**2 + cos(lat1) * cos(lat2) * sin(dlon/2)**2\n",
    "    c = 2 * asin(sqrt(a)) \n",
    "    r = 6371 # Radius of earth in kilometers. Use 3956 for miles. Determines return value units.\n",
    "    return c * r"
   ]
  },
  {
   "cell_type": "code",
   "execution_count": 57,
   "id": "506e6950",
   "metadata": {},
   "outputs": [],
   "source": [
    "def trip_length(route):\n",
    "    dis = [0]\n",
    "    for i in range(1,len(route)):\n",
    "        a = haversine(route.iloc[i, 1], route.iloc[i, 2], route.iloc[i-1, 1], route.iloc[i-1, 2])\n",
    "        dis.append(a)\n",
    "    return dis"
   ]
  },
  {
   "cell_type": "code",
   "execution_count": 58,
   "id": "03deb61c",
   "metadata": {},
   "outputs": [],
   "source": [
    "l = trip_length(Stops_refer_latlong_distance)\n",
    "Stops_refer_latlong_distance['Distance_bw_stops'] = l\n",
    "Stops_refer_latlong_distance['Distance_from_start'] = Stops_refer_latlong_distance['Distance_bw_stops'].cumsum()"
   ]
  },
  {
   "cell_type": "code",
   "execution_count": 59,
   "id": "d351504d",
   "metadata": {
    "scrolled": true
   },
   "outputs": [
    {
     "data": {
      "text/html": [
       "<div>\n",
       "<style scoped>\n",
       "    .dataframe tbody tr th:only-of-type {\n",
       "        vertical-align: middle;\n",
       "    }\n",
       "\n",
       "    .dataframe tbody tr th {\n",
       "        vertical-align: top;\n",
       "    }\n",
       "\n",
       "    .dataframe thead th {\n",
       "        text-align: right;\n",
       "    }\n",
       "</style>\n",
       "<table border=\"1\" class=\"dataframe\">\n",
       "  <thead>\n",
       "    <tr style=\"text-align: right;\">\n",
       "      <th></th>\n",
       "      <th>stop_name</th>\n",
       "      <th>stop_lat</th>\n",
       "      <th>stop_lon</th>\n",
       "      <th>Distance_bw_stops</th>\n",
       "      <th>Distance_from_start</th>\n",
       "    </tr>\n",
       "  </thead>\n",
       "  <tbody>\n",
       "    <tr>\n",
       "      <th>0</th>\n",
       "      <td>Badarpur Border</td>\n",
       "      <td>28.492700</td>\n",
       "      <td>77.303817</td>\n",
       "      <td>0.000000</td>\n",
       "      <td>0.000000</td>\n",
       "    </tr>\n",
       "    <tr>\n",
       "      <th>1</th>\n",
       "      <td>Jaitpur Crossing</td>\n",
       "      <td>28.497217</td>\n",
       "      <td>77.302647</td>\n",
       "      <td>0.170623</td>\n",
       "      <td>0.170623</td>\n",
       "    </tr>\n",
       "    <tr>\n",
       "      <th>2</th>\n",
       "      <td>Badarpur M B Road / Rajiv Gandhi Stadium</td>\n",
       "      <td>28.499178</td>\n",
       "      <td>77.299004</td>\n",
       "      <td>0.407909</td>\n",
       "      <td>0.578533</td>\n",
       "    </tr>\n",
       "    <tr>\n",
       "      <th>3</th>\n",
       "      <td>Prehlad Pur</td>\n",
       "      <td>28.500000</td>\n",
       "      <td>77.294633</td>\n",
       "      <td>0.486448</td>\n",
       "      <td>1.064981</td>\n",
       "    </tr>\n",
       "    <tr>\n",
       "      <th>4</th>\n",
       "      <td>Surajkund Crossing</td>\n",
       "      <td>28.501700</td>\n",
       "      <td>77.291000</td>\n",
       "      <td>0.406106</td>\n",
       "      <td>1.471087</td>\n",
       "    </tr>\n",
       "    <tr>\n",
       "      <th>5</th>\n",
       "      <td>Lal Kuan</td>\n",
       "      <td>28.502600</td>\n",
       "      <td>77.284517</td>\n",
       "      <td>0.721213</td>\n",
       "      <td>2.192300</td>\n",
       "    </tr>\n",
       "    <tr>\n",
       "      <th>6</th>\n",
       "      <td>Prem Nagar</td>\n",
       "      <td>28.504400</td>\n",
       "      <td>77.279300</td>\n",
       "      <td>0.581775</td>\n",
       "      <td>2.774075</td>\n",
       "    </tr>\n",
       "    <tr>\n",
       "      <th>7</th>\n",
       "      <td>Tuglaqabad MB Road</td>\n",
       "      <td>28.505533</td>\n",
       "      <td>77.276483</td>\n",
       "      <td>0.314462</td>\n",
       "      <td>3.088537</td>\n",
       "    </tr>\n",
       "    <tr>\n",
       "      <th>8</th>\n",
       "      <td>Kaya Maya Hospital</td>\n",
       "      <td>28.508250</td>\n",
       "      <td>77.269017</td>\n",
       "      <td>0.832845</td>\n",
       "      <td>3.921382</td>\n",
       "    </tr>\n",
       "    <tr>\n",
       "      <th>9</th>\n",
       "      <td>Tughalqabad Village</td>\n",
       "      <td>28.509067</td>\n",
       "      <td>77.265117</td>\n",
       "      <td>0.434122</td>\n",
       "      <td>4.355505</td>\n",
       "    </tr>\n",
       "    <tr>\n",
       "      <th>10</th>\n",
       "      <td>Air Force Station</td>\n",
       "      <td>28.511683</td>\n",
       "      <td>77.255467</td>\n",
       "      <td>1.074947</td>\n",
       "      <td>5.430451</td>\n",
       "    </tr>\n",
       "    <tr>\n",
       "      <th>12</th>\n",
       "      <td>Hamdard Nagar / Sangam Vihar</td>\n",
       "      <td>28.512167</td>\n",
       "      <td>77.248667</td>\n",
       "      <td>0.756219</td>\n",
       "      <td>6.186670</td>\n",
       "    </tr>\n",
       "    <tr>\n",
       "      <th>13</th>\n",
       "      <td>Batra Hospital (Satya Narayan Mandir)</td>\n",
       "      <td>28.512100</td>\n",
       "      <td>77.243500</td>\n",
       "      <td>0.574547</td>\n",
       "      <td>6.761217</td>\n",
       "    </tr>\n",
       "    <tr>\n",
       "      <th>14</th>\n",
       "      <td>Vayu Sena Bad (Tigri)</td>\n",
       "      <td>28.512900</td>\n",
       "      <td>77.238900</td>\n",
       "      <td>0.511874</td>\n",
       "      <td>7.273090</td>\n",
       "    </tr>\n",
       "    <tr>\n",
       "      <th>15</th>\n",
       "      <td>Khanpur Extension / Devli Crossing</td>\n",
       "      <td>28.513663</td>\n",
       "      <td>77.234905</td>\n",
       "      <td>0.444619</td>\n",
       "      <td>7.717709</td>\n",
       "    </tr>\n",
       "    <tr>\n",
       "      <th>16</th>\n",
       "      <td>Ambedkar Nagar Depot</td>\n",
       "      <td>28.515267</td>\n",
       "      <td>77.228400</td>\n",
       "      <td>0.724396</td>\n",
       "      <td>8.442106</td>\n",
       "    </tr>\n",
       "    <tr>\n",
       "      <th>17</th>\n",
       "      <td>Ambedkar Nagar Terminal / DIPSAR</td>\n",
       "      <td>28.516101</td>\n",
       "      <td>77.223607</td>\n",
       "      <td>0.533352</td>\n",
       "      <td>8.975457</td>\n",
       "    </tr>\n",
       "    <tr>\n",
       "      <th>18</th>\n",
       "      <td>Asian Market</td>\n",
       "      <td>28.516600</td>\n",
       "      <td>77.221400</td>\n",
       "      <td>0.245714</td>\n",
       "      <td>9.221171</td>\n",
       "    </tr>\n",
       "    <tr>\n",
       "      <th>19</th>\n",
       "      <td>Saket Crossing</td>\n",
       "      <td>28.517600</td>\n",
       "      <td>77.216583</td>\n",
       "      <td>0.536191</td>\n",
       "      <td>9.757362</td>\n",
       "    </tr>\n",
       "    <tr>\n",
       "      <th>20</th>\n",
       "      <td>Maidan Garhi Crossing (SDM Court)</td>\n",
       "      <td>28.519067</td>\n",
       "      <td>77.208800</td>\n",
       "      <td>0.866183</td>\n",
       "      <td>10.623545</td>\n",
       "    </tr>\n",
       "    <tr>\n",
       "      <th>21</th>\n",
       "      <td>Saket Metro Sation</td>\n",
       "      <td>28.520338</td>\n",
       "      <td>77.202869</td>\n",
       "      <td>0.660239</td>\n",
       "      <td>11.283784</td>\n",
       "    </tr>\n",
       "    <tr>\n",
       "      <th>22</th>\n",
       "      <td>Saidul-A-Jab</td>\n",
       "      <td>28.521142</td>\n",
       "      <td>77.199972</td>\n",
       "      <td>0.322740</td>\n",
       "      <td>11.606524</td>\n",
       "    </tr>\n",
       "    <tr>\n",
       "      <th>23</th>\n",
       "      <td>Dhaula Peer</td>\n",
       "      <td>28.521941</td>\n",
       "      <td>77.197872</td>\n",
       "      <td>0.234338</td>\n",
       "      <td>11.840861</td>\n",
       "    </tr>\n",
       "    <tr>\n",
       "      <th>24</th>\n",
       "      <td>Dhaula Peer / Lado Sarai</td>\n",
       "      <td>28.522495</td>\n",
       "      <td>77.193066</td>\n",
       "      <td>0.534577</td>\n",
       "      <td>12.375439</td>\n",
       "    </tr>\n",
       "    <tr>\n",
       "      <th>25</th>\n",
       "      <td>Ahinsa Sthal</td>\n",
       "      <td>28.521483</td>\n",
       "      <td>77.189733</td>\n",
       "      <td>0.371451</td>\n",
       "      <td>12.746890</td>\n",
       "    </tr>\n",
       "    <tr>\n",
       "      <th>26</th>\n",
       "      <td>Qutub Minar Metro Sation</td>\n",
       "      <td>28.511733</td>\n",
       "      <td>77.184400</td>\n",
       "      <td>0.639890</td>\n",
       "      <td>13.386780</td>\n",
       "    </tr>\n",
       "    <tr>\n",
       "      <th>27</th>\n",
       "      <td>Andheria Bagh More</td>\n",
       "      <td>28.509217</td>\n",
       "      <td>77.178967</td>\n",
       "      <td>0.607302</td>\n",
       "      <td>13.994082</td>\n",
       "    </tr>\n",
       "    <tr>\n",
       "      <th>28</th>\n",
       "      <td>Andheria Bagh More / Chhatarpur Metro Station</td>\n",
       "      <td>28.508222</td>\n",
       "      <td>77.174328</td>\n",
       "      <td>0.516417</td>\n",
       "      <td>14.510499</td>\n",
       "    </tr>\n",
       "    <tr>\n",
       "      <th>29</th>\n",
       "      <td>Vasant Kunj Sec-A Pkt-BC</td>\n",
       "      <td>28.510400</td>\n",
       "      <td>77.169617</td>\n",
       "      <td>0.526592</td>\n",
       "      <td>15.037091</td>\n",
       "    </tr>\n",
       "    <tr>\n",
       "      <th>30</th>\n",
       "      <td>Vasant Kunj Sec-A ILBS</td>\n",
       "      <td>28.511667</td>\n",
       "      <td>77.166550</td>\n",
       "      <td>0.342467</td>\n",
       "      <td>15.379558</td>\n",
       "    </tr>\n",
       "    <tr>\n",
       "      <th>31</th>\n",
       "      <td>Kishan Garh</td>\n",
       "      <td>28.514366</td>\n",
       "      <td>77.164155</td>\n",
       "      <td>0.274530</td>\n",
       "      <td>15.654088</td>\n",
       "    </tr>\n",
       "    <tr>\n",
       "      <th>32</th>\n",
       "      <td>Vasant Kunj Sec-D/3-4</td>\n",
       "      <td>28.517200</td>\n",
       "      <td>77.160750</td>\n",
       "      <td>0.385038</td>\n",
       "      <td>16.039126</td>\n",
       "    </tr>\n",
       "    <tr>\n",
       "      <th>33</th>\n",
       "      <td>Vasant Kunj sec-B1</td>\n",
       "      <td>28.522167</td>\n",
       "      <td>77.157600</td>\n",
       "      <td>0.371149</td>\n",
       "      <td>16.410275</td>\n",
       "    </tr>\n",
       "    <tr>\n",
       "      <th>34</th>\n",
       "      <td>Masood Pur Village</td>\n",
       "      <td>28.525433</td>\n",
       "      <td>77.154483</td>\n",
       "      <td>0.355872</td>\n",
       "      <td>16.766147</td>\n",
       "    </tr>\n",
       "    <tr>\n",
       "      <th>35</th>\n",
       "      <td>Masood Pur Dairy</td>\n",
       "      <td>28.528600</td>\n",
       "      <td>77.148667</td>\n",
       "      <td>0.651434</td>\n",
       "      <td>17.417581</td>\n",
       "    </tr>\n",
       "    <tr>\n",
       "      <th>36</th>\n",
       "      <td>Kathuria Public School (Sai Darbar Mandir)</td>\n",
       "      <td>28.530900</td>\n",
       "      <td>77.146333</td>\n",
       "      <td>0.265691</td>\n",
       "      <td>17.683272</td>\n",
       "    </tr>\n",
       "    <tr>\n",
       "      <th>37</th>\n",
       "      <td>ISIC Hospital (Verma farm)</td>\n",
       "      <td>28.533980</td>\n",
       "      <td>77.142404</td>\n",
       "      <td>0.443480</td>\n",
       "      <td>18.126752</td>\n",
       "    </tr>\n",
       "    <tr>\n",
       "      <th>38</th>\n",
       "      <td>Vasant Kunj Sec-C-8</td>\n",
       "      <td>28.536717</td>\n",
       "      <td>77.139933</td>\n",
       "      <td>0.282988</td>\n",
       "      <td>18.409740</td>\n",
       "    </tr>\n",
       "    <tr>\n",
       "      <th>39</th>\n",
       "      <td>Rang Puri Pahari</td>\n",
       "      <td>28.537900</td>\n",
       "      <td>77.136486</td>\n",
       "      <td>0.384406</td>\n",
       "      <td>18.794146</td>\n",
       "    </tr>\n",
       "    <tr>\n",
       "      <th>40</th>\n",
       "      <td>Mahipal Pur Village</td>\n",
       "      <td>28.541700</td>\n",
       "      <td>77.129350</td>\n",
       "      <td>0.799047</td>\n",
       "      <td>19.593193</td>\n",
       "    </tr>\n",
       "    <tr>\n",
       "      <th>42</th>\n",
       "      <td>Mahipal Pur Crossing</td>\n",
       "      <td>28.545765</td>\n",
       "      <td>77.123250</td>\n",
       "      <td>0.685725</td>\n",
       "      <td>20.278917</td>\n",
       "    </tr>\n",
       "    <tr>\n",
       "      <th>43</th>\n",
       "      <td>Rangpuri</td>\n",
       "      <td>28.543991</td>\n",
       "      <td>77.118187</td>\n",
       "      <td>0.564694</td>\n",
       "      <td>20.843611</td>\n",
       "    </tr>\n",
       "    <tr>\n",
       "      <th>44</th>\n",
       "      <td>Shiv Murti</td>\n",
       "      <td>28.535610</td>\n",
       "      <td>77.112429</td>\n",
       "      <td>0.673141</td>\n",
       "      <td>21.516752</td>\n",
       "    </tr>\n",
       "    <tr>\n",
       "      <th>45</th>\n",
       "      <td>Rajokari Crossing</td>\n",
       "      <td>28.522166</td>\n",
       "      <td>77.098643</td>\n",
       "      <td>1.568852</td>\n",
       "      <td>23.085604</td>\n",
       "    </tr>\n",
       "    <tr>\n",
       "      <th>46</th>\n",
       "      <td>Shiv Murti / Dwarka More</td>\n",
       "      <td>28.534882</td>\n",
       "      <td>77.108353</td>\n",
       "      <td>1.124917</td>\n",
       "      <td>24.210521</td>\n",
       "    </tr>\n",
       "    <tr>\n",
       "      <th>47</th>\n",
       "      <td>Samalkha Crossing</td>\n",
       "      <td>28.538205</td>\n",
       "      <td>77.091434</td>\n",
       "      <td>1.883115</td>\n",
       "      <td>26.093636</td>\n",
       "    </tr>\n",
       "    <tr>\n",
       "      <th>48</th>\n",
       "      <td>Samalkha Village</td>\n",
       "      <td>28.534652</td>\n",
       "      <td>77.090446</td>\n",
       "      <td>0.140924</td>\n",
       "      <td>26.234559</td>\n",
       "    </tr>\n",
       "    <tr>\n",
       "      <th>49</th>\n",
       "      <td>Kapashera Crossing</td>\n",
       "      <td>28.531300</td>\n",
       "      <td>77.088150</td>\n",
       "      <td>0.268543</td>\n",
       "      <td>26.503102</td>\n",
       "    </tr>\n",
       "    <tr>\n",
       "      <th>50</th>\n",
       "      <td>Kapashera Village</td>\n",
       "      <td>28.524517</td>\n",
       "      <td>77.083700</td>\n",
       "      <td>0.522741</td>\n",
       "      <td>27.025843</td>\n",
       "    </tr>\n",
       "    <tr>\n",
       "      <th>51</th>\n",
       "      <td>Kapashera Border</td>\n",
       "      <td>28.522481</td>\n",
       "      <td>77.082442</td>\n",
       "      <td>0.148756</td>\n",
       "      <td>27.174599</td>\n",
       "    </tr>\n",
       "  </tbody>\n",
       "</table>\n",
       "</div>"
      ],
      "text/plain": [
       "                                        stop_name   stop_lat   stop_lon  \\\n",
       "0                                 Badarpur Border  28.492700  77.303817   \n",
       "1                                Jaitpur Crossing  28.497217  77.302647   \n",
       "2        Badarpur M B Road / Rajiv Gandhi Stadium  28.499178  77.299004   \n",
       "3                                     Prehlad Pur  28.500000  77.294633   \n",
       "4                              Surajkund Crossing  28.501700  77.291000   \n",
       "5                                        Lal Kuan  28.502600  77.284517   \n",
       "6                                      Prem Nagar  28.504400  77.279300   \n",
       "7                              Tuglaqabad MB Road  28.505533  77.276483   \n",
       "8                              Kaya Maya Hospital  28.508250  77.269017   \n",
       "9                             Tughalqabad Village  28.509067  77.265117   \n",
       "10                              Air Force Station  28.511683  77.255467   \n",
       "12                   Hamdard Nagar / Sangam Vihar  28.512167  77.248667   \n",
       "13          Batra Hospital (Satya Narayan Mandir)  28.512100  77.243500   \n",
       "14                          Vayu Sena Bad (Tigri)  28.512900  77.238900   \n",
       "15             Khanpur Extension / Devli Crossing  28.513663  77.234905   \n",
       "16                           Ambedkar Nagar Depot  28.515267  77.228400   \n",
       "17               Ambedkar Nagar Terminal / DIPSAR  28.516101  77.223607   \n",
       "18                                   Asian Market  28.516600  77.221400   \n",
       "19                                 Saket Crossing  28.517600  77.216583   \n",
       "20              Maidan Garhi Crossing (SDM Court)  28.519067  77.208800   \n",
       "21                             Saket Metro Sation  28.520338  77.202869   \n",
       "22                                   Saidul-A-Jab  28.521142  77.199972   \n",
       "23                                    Dhaula Peer  28.521941  77.197872   \n",
       "24                       Dhaula Peer / Lado Sarai  28.522495  77.193066   \n",
       "25                                   Ahinsa Sthal  28.521483  77.189733   \n",
       "26                       Qutub Minar Metro Sation  28.511733  77.184400   \n",
       "27                             Andheria Bagh More  28.509217  77.178967   \n",
       "28  Andheria Bagh More / Chhatarpur Metro Station  28.508222  77.174328   \n",
       "29                       Vasant Kunj Sec-A Pkt-BC  28.510400  77.169617   \n",
       "30                         Vasant Kunj Sec-A ILBS  28.511667  77.166550   \n",
       "31                                    Kishan Garh  28.514366  77.164155   \n",
       "32                          Vasant Kunj Sec-D/3-4  28.517200  77.160750   \n",
       "33                             Vasant Kunj sec-B1  28.522167  77.157600   \n",
       "34                             Masood Pur Village  28.525433  77.154483   \n",
       "35                               Masood Pur Dairy  28.528600  77.148667   \n",
       "36     Kathuria Public School (Sai Darbar Mandir)  28.530900  77.146333   \n",
       "37                     ISIC Hospital (Verma farm)  28.533980  77.142404   \n",
       "38                            Vasant Kunj Sec-C-8  28.536717  77.139933   \n",
       "39                               Rang Puri Pahari  28.537900  77.136486   \n",
       "40                            Mahipal Pur Village  28.541700  77.129350   \n",
       "42                           Mahipal Pur Crossing  28.545765  77.123250   \n",
       "43                                       Rangpuri  28.543991  77.118187   \n",
       "44                                     Shiv Murti  28.535610  77.112429   \n",
       "45                              Rajokari Crossing  28.522166  77.098643   \n",
       "46                       Shiv Murti / Dwarka More  28.534882  77.108353   \n",
       "47                              Samalkha Crossing  28.538205  77.091434   \n",
       "48                               Samalkha Village  28.534652  77.090446   \n",
       "49                             Kapashera Crossing  28.531300  77.088150   \n",
       "50                              Kapashera Village  28.524517  77.083700   \n",
       "51                               Kapashera Border  28.522481  77.082442   \n",
       "\n",
       "    Distance_bw_stops  Distance_from_start  \n",
       "0            0.000000             0.000000  \n",
       "1            0.170623             0.170623  \n",
       "2            0.407909             0.578533  \n",
       "3            0.486448             1.064981  \n",
       "4            0.406106             1.471087  \n",
       "5            0.721213             2.192300  \n",
       "6            0.581775             2.774075  \n",
       "7            0.314462             3.088537  \n",
       "8            0.832845             3.921382  \n",
       "9            0.434122             4.355505  \n",
       "10           1.074947             5.430451  \n",
       "12           0.756219             6.186670  \n",
       "13           0.574547             6.761217  \n",
       "14           0.511874             7.273090  \n",
       "15           0.444619             7.717709  \n",
       "16           0.724396             8.442106  \n",
       "17           0.533352             8.975457  \n",
       "18           0.245714             9.221171  \n",
       "19           0.536191             9.757362  \n",
       "20           0.866183            10.623545  \n",
       "21           0.660239            11.283784  \n",
       "22           0.322740            11.606524  \n",
       "23           0.234338            11.840861  \n",
       "24           0.534577            12.375439  \n",
       "25           0.371451            12.746890  \n",
       "26           0.639890            13.386780  \n",
       "27           0.607302            13.994082  \n",
       "28           0.516417            14.510499  \n",
       "29           0.526592            15.037091  \n",
       "30           0.342467            15.379558  \n",
       "31           0.274530            15.654088  \n",
       "32           0.385038            16.039126  \n",
       "33           0.371149            16.410275  \n",
       "34           0.355872            16.766147  \n",
       "35           0.651434            17.417581  \n",
       "36           0.265691            17.683272  \n",
       "37           0.443480            18.126752  \n",
       "38           0.282988            18.409740  \n",
       "39           0.384406            18.794146  \n",
       "40           0.799047            19.593193  \n",
       "42           0.685725            20.278917  \n",
       "43           0.564694            20.843611  \n",
       "44           0.673141            21.516752  \n",
       "45           1.568852            23.085604  \n",
       "46           1.124917            24.210521  \n",
       "47           1.883115            26.093636  \n",
       "48           0.140924            26.234559  \n",
       "49           0.268543            26.503102  \n",
       "50           0.522741            27.025843  \n",
       "51           0.148756            27.174599  "
      ]
     },
     "execution_count": 59,
     "metadata": {},
     "output_type": "execute_result"
    }
   ],
   "source": [
    "Stops_refer_latlong_distance"
   ]
  },
  {
   "cell_type": "code",
   "execution_count": 60,
   "id": "df71ed23",
   "metadata": {},
   "outputs": [],
   "source": [
    "# one_trip = route_data_pd[route_data_pd['TRIP_ID']=='T12695010919061902'].sort_values(by= 'date_time')\n",
    "# one_trip"
   ]
  },
  {
   "cell_type": "code",
   "execution_count": 61,
   "id": "469bd3ae",
   "metadata": {},
   "outputs": [],
   "source": [
    "# origin_stops_order_etm = {}\n",
    "\n",
    "# for i in range(len(one_trip)):\n",
    "#     if one_trip.iloc[i,4] in origin_stops_order_etm.keys():\n",
    "#         continue\n",
    "#     else:\n",
    "#         origin_stops_order_etm[one_trip.iloc[i,4]] = [one_trip.iloc[i,12],one_trip[one_trip['ROUTE_ORIGIN_STOP']==one_trip.iloc[i,4]]['USER_COUNT'].count()]"
   ]
  },
  {
   "cell_type": "code",
   "execution_count": 63,
   "id": "b4c9a72a",
   "metadata": {
    "scrolled": true
   },
   "outputs": [],
   "source": [
    "# origin_stops_order_etm"
   ]
  },
  {
   "cell_type": "code",
   "execution_count": 64,
   "id": "84d1f703",
   "metadata": {
    "scrolled": true
   },
   "outputs": [],
   "source": [
    "# Stops_refer_latlong_distance"
   ]
  },
  {
   "cell_type": "code",
   "execution_count": null,
   "id": "ed192d38",
   "metadata": {
    "scrolled": false
   },
   "outputs": [],
   "source": []
  },
  {
   "cell_type": "code",
   "execution_count": 65,
   "id": "0d9d61e3",
   "metadata": {
    "scrolled": false
   },
   "outputs": [],
   "source": [
    "\n",
    "# trip_stops_names = list(trip_stops_names)\n",
    "# stop_order_trip = []\n",
    "# for i in trip_stops_names:\n",
    "#     if i not in stop_order_trip:\n",
    "#         stop_order_trip.append(i)"
   ]
  },
  {
   "cell_type": "code",
   "execution_count": 66,
   "id": "8f25cfdf",
   "metadata": {
    "scrolled": true
   },
   "outputs": [],
   "source": [
    "# stop_order_trip"
   ]
  },
  {
   "cell_type": "code",
   "execution_count": 67,
   "id": "9163e3a3",
   "metadata": {
    "scrolled": true
   },
   "outputs": [],
   "source": [
    "# origin_stops_order_dict = {}\n",
    "\n",
    "# for i in stop_order_trip:\n",
    "#     if i in origin_stops_order_etm.keys():\n",
    "#         origin_stops_order_dict[i] = origin_stops_order_etm[i]\n",
    "#     else:\n",
    "#         origin_stops_order_dict[i] = []\n",
    "# origin_stops_order_dict"
   ]
  },
  {
   "cell_type": "code",
   "execution_count": 68,
   "id": "7e25b0b7",
   "metadata": {
    "scrolled": true
   },
   "outputs": [],
   "source": [
    "# for i in origin_stops_order_dict.items():\n",
    "#     if len(i[1]) >1:\n",
    "#         print(i[1])"
   ]
  },
  {
   "cell_type": "code",
   "execution_count": 69,
   "id": "938281a9",
   "metadata": {},
   "outputs": [],
   "source": [
    "# origin_stops_order_etm"
   ]
  },
  {
   "cell_type": "code",
   "execution_count": 70,
   "id": "9f9d9e82",
   "metadata": {},
   "outputs": [],
   "source": [
    "# boarding_stops = list(origin_stops_order_etm.keys())\n",
    "# boarding_time_count = list(origin_stops_order_etm.values())"
   ]
  },
  {
   "cell_type": "code",
   "execution_count": 31,
   "id": "ea9f7868",
   "metadata": {},
   "outputs": [
    {
     "data": {
      "text/html": [
       "<div>\n",
       "<style scoped>\n",
       "    .dataframe tbody tr th:only-of-type {\n",
       "        vertical-align: middle;\n",
       "    }\n",
       "\n",
       "    .dataframe tbody tr th {\n",
       "        vertical-align: top;\n",
       "    }\n",
       "\n",
       "    .dataframe thead th {\n",
       "        text-align: right;\n",
       "    }\n",
       "</style>\n",
       "<table border=\"1\" class=\"dataframe\">\n",
       "  <thead>\n",
       "    <tr style=\"text-align: right;\">\n",
       "      <th></th>\n",
       "      <th>MESSAGE_ID</th>\n",
       "      <th>TRIP_ID</th>\n",
       "      <th>ROUTENAME</th>\n",
       "      <th>BUS_ID</th>\n",
       "      <th>ROUTE_ORIGIN_STOP</th>\n",
       "      <th>ROUTE_DESTINATION_STOP</th>\n",
       "      <th>TRIP_START_TIME</th>\n",
       "      <th>TRIP_END_TIME</th>\n",
       "      <th>AMOUNT</th>\n",
       "      <th>USER_COUNT</th>\n",
       "      <th>TICKET DATE</th>\n",
       "      <th>TICKET TIME</th>\n",
       "    </tr>\n",
       "  </thead>\n",
       "  <tbody>\n",
       "    <tr>\n",
       "      <th>0</th>\n",
       "      <td>10748200719093707</td>\n",
       "      <td>T10748200719093605</td>\n",
       "      <td>101BDOWN</td>\n",
       "      <td>DL1PC5488</td>\n",
       "      <td>Swaroop Nagar JJ Colony</td>\n",
       "      <td>Old Delhi Railway Station</td>\n",
       "      <td>20-JUL-2019 09:36:45</td>\n",
       "      <td>20-JUL-2019 10:37:56</td>\n",
       "      <td>15</td>\n",
       "      <td>1</td>\n",
       "      <td>20/07/2019</td>\n",
       "      <td>09:37:13</td>\n",
       "    </tr>\n",
       "    <tr>\n",
       "      <th>1</th>\n",
       "      <td>10748200719094328</td>\n",
       "      <td>T10748200719093605</td>\n",
       "      <td>101BDOWN</td>\n",
       "      <td>DL1PC5488</td>\n",
       "      <td>Libas Pur GT Road</td>\n",
       "      <td>Old Secretariat (Postal Account Office)</td>\n",
       "      <td>20-JUL-2019 09:36:45</td>\n",
       "      <td>20-JUL-2019 10:37:56</td>\n",
       "      <td>10</td>\n",
       "      <td>1</td>\n",
       "      <td>20/07/2019</td>\n",
       "      <td>09:43:29</td>\n",
       "    </tr>\n",
       "    <tr>\n",
       "      <th>2</th>\n",
       "      <td>10748200719093706</td>\n",
       "      <td>T10748200719093605</td>\n",
       "      <td>101BDOWN</td>\n",
       "      <td>DL1PC5488</td>\n",
       "      <td>Swaroop Nagar JJ Colony</td>\n",
       "      <td>Old Delhi Railway Station</td>\n",
       "      <td>20-JUL-2019 09:36:45</td>\n",
       "      <td>20-JUL-2019 10:37:56</td>\n",
       "      <td>15</td>\n",
       "      <td>1</td>\n",
       "      <td>20/07/2019</td>\n",
       "      <td>09:37:10</td>\n",
       "    </tr>\n",
       "    <tr>\n",
       "      <th>3</th>\n",
       "      <td>10748200719093708</td>\n",
       "      <td>T10748200719093605</td>\n",
       "      <td>101BDOWN</td>\n",
       "      <td>DL1PC5488</td>\n",
       "      <td>Swaroop Nagar JJ Colony</td>\n",
       "      <td>Old Delhi Railway Station</td>\n",
       "      <td>20-JUL-2019 09:36:45</td>\n",
       "      <td>20-JUL-2019 10:37:56</td>\n",
       "      <td>15</td>\n",
       "      <td>1</td>\n",
       "      <td>20/07/2019</td>\n",
       "      <td>09:37:15</td>\n",
       "    </tr>\n",
       "    <tr>\n",
       "      <th>4</th>\n",
       "      <td>10748200719093709</td>\n",
       "      <td>T10748200719093605</td>\n",
       "      <td>101BDOWN</td>\n",
       "      <td>DL1PC5488</td>\n",
       "      <td>Swaroop Nagar JJ Colony</td>\n",
       "      <td>Old Delhi Railway Station</td>\n",
       "      <td>20-JUL-2019 09:36:45</td>\n",
       "      <td>20-JUL-2019 10:37:56</td>\n",
       "      <td>15</td>\n",
       "      <td>1</td>\n",
       "      <td>20/07/2019</td>\n",
       "      <td>09:37:46</td>\n",
       "    </tr>\n",
       "    <tr>\n",
       "      <th>...</th>\n",
       "      <td>...</td>\n",
       "      <td>...</td>\n",
       "      <td>...</td>\n",
       "      <td>...</td>\n",
       "      <td>...</td>\n",
       "      <td>...</td>\n",
       "      <td>...</td>\n",
       "      <td>...</td>\n",
       "      <td>...</td>\n",
       "      <td>...</td>\n",
       "      <td>...</td>\n",
       "      <td>...</td>\n",
       "    </tr>\n",
       "    <tr>\n",
       "      <th>134291945</th>\n",
       "      <td>11680291219195309</td>\n",
       "      <td>T11680291219173602</td>\n",
       "      <td>TMS-PBAGH</td>\n",
       "      <td>DL1PC4277</td>\n",
       "      <td>Model Town II</td>\n",
       "      <td>Wazirpur Depot</td>\n",
       "      <td>29-DEC-2019 17:36:50</td>\n",
       "      <td>29-DEC-2019 20:02:40</td>\n",
       "      <td>5</td>\n",
       "      <td>1</td>\n",
       "      <td>29/12/2019</td>\n",
       "      <td>19:53:46</td>\n",
       "    </tr>\n",
       "    <tr>\n",
       "      <th>134291946</th>\n",
       "      <td>11132291219203421</td>\n",
       "      <td>T11132291219184502</td>\n",
       "      <td>TMS-PBAGH</td>\n",
       "      <td>DL1PC4326</td>\n",
       "      <td>Model Town II</td>\n",
       "      <td>Wazirpur Depot</td>\n",
       "      <td>29-DEC-2019 18:45:18</td>\n",
       "      <td>29-DEC-2019 20:53:04</td>\n",
       "      <td>5</td>\n",
       "      <td>1</td>\n",
       "      <td>29/12/2019</td>\n",
       "      <td>20:34:50</td>\n",
       "    </tr>\n",
       "    <tr>\n",
       "      <th>134291947</th>\n",
       "      <td>11680291219191147</td>\n",
       "      <td>T11680291219173602</td>\n",
       "      <td>TMS-PBAGH</td>\n",
       "      <td>DL1PC4277</td>\n",
       "      <td>Railway Road Bridge</td>\n",
       "      <td>Old Secretariat (Postal Account Office)</td>\n",
       "      <td>29-DEC-2019 17:36:50</td>\n",
       "      <td>29-DEC-2019 20:02:40</td>\n",
       "      <td>10</td>\n",
       "      <td>1</td>\n",
       "      <td>29/12/2019</td>\n",
       "      <td>19:11:14</td>\n",
       "    </tr>\n",
       "    <tr>\n",
       "      <th>134291948</th>\n",
       "      <td>12278291219191122</td>\n",
       "      <td>T12278291219165502</td>\n",
       "      <td>TMS-PBAGH</td>\n",
       "      <td>DL1PC4127</td>\n",
       "      <td>Ashok Vihar Crossing</td>\n",
       "      <td>Punjabi Bagh Terminal</td>\n",
       "      <td>29-DEC-2019 16:55:34</td>\n",
       "      <td>29-DEC-2019 19:19:39</td>\n",
       "      <td>5</td>\n",
       "      <td>1</td>\n",
       "      <td>29/12/2019</td>\n",
       "      <td>19:11:21</td>\n",
       "    </tr>\n",
       "    <tr>\n",
       "      <th>134291949</th>\n",
       "      <td>12278291219191123</td>\n",
       "      <td>T12278291219165502</td>\n",
       "      <td>TMS-PBAGH</td>\n",
       "      <td>DL1PC4127</td>\n",
       "      <td>Ashok Vihar Crossing</td>\n",
       "      <td>Punjabi Bagh Terminal</td>\n",
       "      <td>29-DEC-2019 16:55:34</td>\n",
       "      <td>29-DEC-2019 19:19:39</td>\n",
       "      <td>5</td>\n",
       "      <td>1</td>\n",
       "      <td>29/12/2019</td>\n",
       "      <td>19:11:24</td>\n",
       "    </tr>\n",
       "  </tbody>\n",
       "</table>\n",
       "<p>134291950 rows × 12 columns</p>\n",
       "</div>"
      ],
      "text/plain": [
       "                  MESSAGE_ID             TRIP_ID  ROUTENAME     BUS_ID  \\\n",
       "0          10748200719093707  T10748200719093605   101BDOWN  DL1PC5488   \n",
       "1          10748200719094328  T10748200719093605   101BDOWN  DL1PC5488   \n",
       "2          10748200719093706  T10748200719093605   101BDOWN  DL1PC5488   \n",
       "3          10748200719093708  T10748200719093605   101BDOWN  DL1PC5488   \n",
       "4          10748200719093709  T10748200719093605   101BDOWN  DL1PC5488   \n",
       "...                      ...                 ...        ...        ...   \n",
       "134291945  11680291219195309  T11680291219173602  TMS-PBAGH  DL1PC4277   \n",
       "134291946  11132291219203421  T11132291219184502  TMS-PBAGH  DL1PC4326   \n",
       "134291947  11680291219191147  T11680291219173602  TMS-PBAGH  DL1PC4277   \n",
       "134291948  12278291219191122  T12278291219165502  TMS-PBAGH  DL1PC4127   \n",
       "134291949  12278291219191123  T12278291219165502  TMS-PBAGH  DL1PC4127   \n",
       "\n",
       "                 ROUTE_ORIGIN_STOP                   ROUTE_DESTINATION_STOP  \\\n",
       "0          Swaroop Nagar JJ Colony                Old Delhi Railway Station   \n",
       "1                Libas Pur GT Road  Old Secretariat (Postal Account Office)   \n",
       "2          Swaroop Nagar JJ Colony                Old Delhi Railway Station   \n",
       "3          Swaroop Nagar JJ Colony                Old Delhi Railway Station   \n",
       "4          Swaroop Nagar JJ Colony                Old Delhi Railway Station   \n",
       "...                            ...                                      ...   \n",
       "134291945            Model Town II                           Wazirpur Depot   \n",
       "134291946            Model Town II                           Wazirpur Depot   \n",
       "134291947      Railway Road Bridge  Old Secretariat (Postal Account Office)   \n",
       "134291948     Ashok Vihar Crossing                    Punjabi Bagh Terminal   \n",
       "134291949     Ashok Vihar Crossing                    Punjabi Bagh Terminal   \n",
       "\n",
       "                TRIP_START_TIME         TRIP_END_TIME  AMOUNT  USER_COUNT  \\\n",
       "0          20-JUL-2019 09:36:45  20-JUL-2019 10:37:56      15           1   \n",
       "1          20-JUL-2019 09:36:45  20-JUL-2019 10:37:56      10           1   \n",
       "2          20-JUL-2019 09:36:45  20-JUL-2019 10:37:56      15           1   \n",
       "3          20-JUL-2019 09:36:45  20-JUL-2019 10:37:56      15           1   \n",
       "4          20-JUL-2019 09:36:45  20-JUL-2019 10:37:56      15           1   \n",
       "...                         ...                   ...     ...         ...   \n",
       "134291945  29-DEC-2019 17:36:50  29-DEC-2019 20:02:40       5           1   \n",
       "134291946  29-DEC-2019 18:45:18  29-DEC-2019 20:53:04       5           1   \n",
       "134291947  29-DEC-2019 17:36:50  29-DEC-2019 20:02:40      10           1   \n",
       "134291948  29-DEC-2019 16:55:34  29-DEC-2019 19:19:39       5           1   \n",
       "134291949  29-DEC-2019 16:55:34  29-DEC-2019 19:19:39       5           1   \n",
       "\n",
       "          TICKET DATE TICKET TIME  \n",
       "0          20/07/2019    09:37:13  \n",
       "1          20/07/2019    09:43:29  \n",
       "2          20/07/2019    09:37:10  \n",
       "3          20/07/2019    09:37:15  \n",
       "4          20/07/2019    09:37:46  \n",
       "...               ...         ...  \n",
       "134291945  29/12/2019    19:53:46  \n",
       "134291946  29/12/2019    20:34:50  \n",
       "134291947  29/12/2019    19:11:14  \n",
       "134291948  29/12/2019    19:11:21  \n",
       "134291949  29/12/2019    19:11:24  \n",
       "\n",
       "[134291950 rows x 12 columns]"
      ]
     },
     "execution_count": 31,
     "metadata": {},
     "output_type": "execute_result"
    }
   ],
   "source": [
    "full_data = pd.read_csv('full_data.csv')\n",
    "full_data"
   ]
  },
  {
   "cell_type": "code",
   "execution_count": 11,
   "id": "43f48332",
   "metadata": {},
   "outputs": [],
   "source": [
    "from tqdm import tqdm"
   ]
  },
  {
   "cell_type": "code",
   "execution_count": null,
   "id": "3abd53e5",
   "metadata": {},
   "outputs": [
    {
     "name": "stderr",
     "output_type": "stream",
     "text": [
      " 47%|██████████████████████████████████▎                                      | 259/551 [53:38:29<50:41:12, 624.90s/it]C:\\Users\\Jatin\\AppData\\Local\\Temp\\11\\ipykernel_96624\\3494025974.py:37: RuntimeWarning:\n",
      "\n",
      "divide by zero encountered in double_scalars\n",
      "\n",
      " 56%|████████████████████████████████████████                               | 311/551 [77:29:30<139:26:22, 2091.60s/it]"
     ]
    }
   ],
   "source": [
    "from datetime import timedelta\n",
    "\n",
    "for r in tqdm(full_data['ROUTENAME'].unique()):\n",
    "    route_data_pd = full_data[full_data['ROUTENAME'] == r]\n",
    "    \n",
    "    route_data_pd['date_time']  = (route_data_pd['TICKET DATE'] + ' ' + route_data_pd['TICKET TIME']).apply(convert_to_datetime)\n",
    "    route_data_pd['ticket_date']  = route_data_pd['TICKET DATE'].apply(convert_to_date)\n",
    "    \n",
    "    for t in route_data_pd['TRIP_ID'].unique():\n",
    "        Stops_refer_latlong_distance = pd.read_csv(f'E:\\\\MTech\\\\Dissertation\\\\Data\\\\GTFS_with_trip_length\\\\{r}.csv',index_col='Unnamed: 0')\n",
    "        Stops_refer_latlong_distance.rename(columns = {'Lat':'stop_lat','Lon':'stop_lon'}, inplace = True)\n",
    "        \n",
    "        one_trip = route_data_pd[route_data_pd['TRIP_ID']==t].sort_values(by= 'date_time')\n",
    "\n",
    "        origin_stops_order_etm = {}\n",
    "        for i in range(len(one_trip)):\n",
    "            if one_trip.iloc[i,4] in origin_stops_order_etm.keys():\n",
    "                continue\n",
    "            else:\n",
    "                origin_stops_order_etm[one_trip.iloc[i,4]] = [one_trip.iloc[i,12],one_trip[one_trip['ROUTE_ORIGIN_STOP']==one_trip.iloc[i,4]]['USER_COUNT'].count()]\n",
    "\n",
    "        trip_stops_names = list(Stops_refer_latlong_distance['stop_name'])\n",
    "        stop_order_trip = []\n",
    "        for i in trip_stops_names:\n",
    "            if i not in stop_order_trip:\n",
    "                stop_order_trip.append(i)\n",
    "\n",
    "        boarding_stops = list(origin_stops_order_etm.keys())\n",
    "        boarding_time_count = list(origin_stops_order_etm.values())\n",
    "\n",
    "        for i in range(len(boarding_stops)-1):\n",
    "\n",
    "            stop_1_time = boarding_time_count[i][0]\n",
    "            stop_1_dist = Stops_refer_latlong_distance[Stops_refer_latlong_distance['stop_name']==boarding_stops[i]]['Distance_from_start'].values[0]\n",
    "\n",
    "            time_difference = boarding_time_count[i+1][0]-boarding_time_count[i][0]\n",
    "            speed = (Stops_refer_latlong_distance[Stops_refer_latlong_distance['stop_name']==boarding_stops[1]]['Distance_from_start'].values[0] -\\\n",
    "                     Stops_refer_latlong_distance[Stops_refer_latlong_distance['stop_name']==boarding_stops[0]]['Distance_from_start'].values[0]) * 1000 /\\\n",
    "                    (time_difference.seconds)\n",
    "\n",
    "            s = stop_order_trip.index(boarding_stops[i])\n",
    "            e = stop_order_trip.index(boarding_stops[i+1])\n",
    "\n",
    "\n",
    "            for j in range(s,e):\n",
    "\n",
    "                stop_x = stop_order_trip[j]\n",
    "\n",
    "                stop_x_dist = Stops_refer_latlong_distance[Stops_refer_latlong_distance['stop_name']==stop_order_trip[j]]['Distance_from_start'].values[0]\n",
    "                stop_y_dist = Stops_refer_latlong_distance[Stops_refer_latlong_distance['stop_name']==stop_order_trip[j+1]]['Distance_from_start'].values[0]\n",
    "\n",
    "                stop_x_time = stop_1_time + timedelta(seconds=(stop_x_dist - stop_1_dist) * 1000 / speed)\n",
    "                stop_y_time = stop_1_time + timedelta(seconds=(stop_y_dist - stop_1_dist) * 1000 / speed)\n",
    "\n",
    "                new_boarding_index = one_trip[(one_trip['date_time'] >= f'{stop_x_time}') &  (one_trip['date_time'] < f'{stop_y_time}')].index\n",
    "                route_data_pd.loc[new_boarding_index,'ROUTE_ORIGIN_STOP'] = f'{stop_order_trip[j]}'\n",
    "    route_data_pd.to_csv(f'E:\\\\MTech\\\\Dissertation\\\\Data\\\\boarding inferred data\\\\{r}.csv',index=False)\n",
    "        "
   ]
  },
  {
   "cell_type": "code",
   "execution_count": null,
   "id": "826b3829",
   "metadata": {},
   "outputs": [],
   "source": []
  },
  {
   "cell_type": "code",
   "execution_count": 72,
   "id": "8afb189d",
   "metadata": {},
   "outputs": [
    {
     "data": {
      "text/plain": [
       "16"
      ]
     },
     "execution_count": 72,
     "metadata": {},
     "output_type": "execute_result"
    }
   ],
   "source": [
    "len(route_data_pd.ROUTE_ORIGIN_STOP.unique())"
   ]
  },
  {
   "cell_type": "code",
   "execution_count": 73,
   "id": "5779a187",
   "metadata": {},
   "outputs": [
    {
     "data": {
      "text/plain": [
       "array(['Andheria Bagh More', 'Badarpur Border',\n",
       "       'Ambedkar Nagar Terminal / DIPSAR', 'Hamdard Nagar / Sangam Vihar',\n",
       "       'Kapashera Crossing', 'Kishan Garh', 'Dhaula Peer / Lado Sarai',\n",
       "       'Mahipal Pur Village', 'Prehlad Pur', 'Rajokari Crossing',\n",
       "       'Saidul-A-Jab', 'Samalkha Village', 'Shiv Murti',\n",
       "       'Shiv Murti / Dwarka More', 'Tughalqabad Village',\n",
       "       'ISIC Hospital (Verma farm)'], dtype=object)"
      ]
     },
     "execution_count": 73,
     "metadata": {},
     "output_type": "execute_result"
    }
   ],
   "source": [
    "route_data_pd.ROUTE_ORIGIN_STOP.unique()"
   ]
  },
  {
   "cell_type": "code",
   "execution_count": 92,
   "id": "c200701d",
   "metadata": {},
   "outputs": [
    {
     "data": {
      "text/plain": [
       "array(['Andheria Bagh More',\n",
       "       'Andheria Bagh More / Chhatarpur Metro Station',\n",
       "       'Vasant Kunj Sec-A Pkt-BC', 'Ahinsa Sthal',\n",
       "       'Dhaula Peer / Lado Sarai', 'Vasant Kunj Sec-A ILBS',\n",
       "       'Masood Pur Village', 'Ambedkar Nagar Depot',\n",
       "       'Qutub Minar Metro Sation', 'Maidan Garhi Crossing (SDM Court)',\n",
       "       'Saket Crossing', 'Vasant Kunj sec-B1',\n",
       "       'Batra Hospital (Satya Narayan Mandir)', 'Badarpur Border',\n",
       "       'Jaitpur Crossing', 'Badarpur M B Road / Rajiv Gandhi Stadium',\n",
       "       'Tuglaqabad MB Road', 'Surajkund Crossing', 'Prehlad Pur',\n",
       "       'Prem Nagar', 'Lal Kuan', 'Air Force Station',\n",
       "       'Hamdard Nagar / Sangam Vihar', 'Saket Metro Sation',\n",
       "       'Saidul-A-Jab', 'Tughalqabad Village', 'Kaya Maya Hospital',\n",
       "       'Asian Market', 'Masood Pur Dairy',\n",
       "       'Ambedkar Nagar Terminal / DIPSAR', 'Vayu Sena Bad (Tigri)',\n",
       "       'Khanpur Extension / Devli Crossing', 'Shiv Murti / Dwarka More',\n",
       "       'Mahipal Pur Crossing', 'Rangpuri', 'Rajokari Crossing',\n",
       "       'Kapashera Crossing', 'Shiv Murti', 'Samalkha Crossing',\n",
       "       'Rang Puri Pahari', 'Samalkha Village', 'Kishan Garh',\n",
       "       'Vasant Kunj Sec-D/3-4',\n",
       "       'Kathuria Public School (Sai Darbar Mandir)',\n",
       "       'Vasant Kunj Sec-C-8', 'ISIC Hospital (Verma farm)', 'Dhaula Peer',\n",
       "       'Mahipal Pur Village'], dtype=object)"
      ]
     },
     "execution_count": 92,
     "metadata": {},
     "output_type": "execute_result"
    }
   ],
   "source": [
    "route_data_pd.ROUTE_ORIGIN_STOP.unique()"
   ]
  },
  {
   "cell_type": "code",
   "execution_count": 91,
   "id": "d3298c3d",
   "metadata": {},
   "outputs": [
    {
     "data": {
      "text/plain": [
       "48"
      ]
     },
     "execution_count": 91,
     "metadata": {},
     "output_type": "execute_result"
    }
   ],
   "source": [
    "len(route_data_pd.ROUTE_ORIGIN_STOP.unique())"
   ]
  },
  {
   "cell_type": "code",
   "execution_count": 93,
   "id": "df9dbf0b",
   "metadata": {},
   "outputs": [],
   "source": [
    "route_data_pd.to_csv('Redistributed_717AUP.csv',index=False)"
   ]
  },
  {
   "cell_type": "code",
   "execution_count": 94,
   "id": "9712aac8",
   "metadata": {},
   "outputs": [
    {
     "data": {
      "text/html": [
       "<div>\n",
       "<style scoped>\n",
       "    .dataframe tbody tr th:only-of-type {\n",
       "        vertical-align: middle;\n",
       "    }\n",
       "\n",
       "    .dataframe tbody tr th {\n",
       "        vertical-align: top;\n",
       "    }\n",
       "\n",
       "    .dataframe thead th {\n",
       "        text-align: right;\n",
       "    }\n",
       "</style>\n",
       "<table border=\"1\" class=\"dataframe\">\n",
       "  <thead>\n",
       "    <tr style=\"text-align: right;\">\n",
       "      <th></th>\n",
       "      <th>MESSAGE_ID</th>\n",
       "      <th>TRIP_ID</th>\n",
       "      <th>ROUTENAME</th>\n",
       "      <th>BUS_ID</th>\n",
       "      <th>ROUTE_ORIGIN_STOP</th>\n",
       "      <th>ROUTE_DESTINATION_STOP</th>\n",
       "      <th>TRIP_START_TIME</th>\n",
       "      <th>TRIP_END_TIME</th>\n",
       "      <th>AMOUNT</th>\n",
       "      <th>USER_COUNT</th>\n",
       "      <th>TICKET DATE</th>\n",
       "      <th>TICKET TIME</th>\n",
       "      <th>date_time</th>\n",
       "      <th>ticket_date</th>\n",
       "      <th>Day</th>\n",
       "      <th>Hour</th>\n",
       "      <th>Month</th>\n",
       "      <th>Origin_cordinates</th>\n",
       "      <th>Dest_cordinates</th>\n",
       "    </tr>\n",
       "  </thead>\n",
       "  <tbody>\n",
       "    <tr>\n",
       "      <th>0</th>\n",
       "      <td>12695010919065107</td>\n",
       "      <td>T12695010919061902</td>\n",
       "      <td>717AUP</td>\n",
       "      <td>DL1PC6341</td>\n",
       "      <td>Andheria Bagh More</td>\n",
       "      <td>Kapashera Border</td>\n",
       "      <td>01-SEP-2019 06:19:46</td>\n",
       "      <td>01-SEP-2019 07:19:28</td>\n",
       "      <td>15</td>\n",
       "      <td>1</td>\n",
       "      <td>01/09/2019</td>\n",
       "      <td>06:51:55</td>\n",
       "      <td>2019-09-01 06:51:55</td>\n",
       "      <td>2019-09-01</td>\n",
       "      <td>Sunday</td>\n",
       "      <td>6</td>\n",
       "      <td>9</td>\n",
       "      <td>(28.509217, 77.178967)</td>\n",
       "      <td>(28.522481, 77.082442)</td>\n",
       "    </tr>\n",
       "    <tr>\n",
       "      <th>1</th>\n",
       "      <td>12420010919084834</td>\n",
       "      <td>T12420010919074802</td>\n",
       "      <td>717AUP</td>\n",
       "      <td>DL1PC6354</td>\n",
       "      <td>Andheria Bagh More / Chhatarpur Metro Station</td>\n",
       "      <td>Kapashera Border</td>\n",
       "      <td>01-SEP-2019 07:48:00</td>\n",
       "      <td>01-SEP-2019 09:26:48</td>\n",
       "      <td>15</td>\n",
       "      <td>1</td>\n",
       "      <td>01/09/2019</td>\n",
       "      <td>08:48:17</td>\n",
       "      <td>2019-09-01 08:48:17</td>\n",
       "      <td>2019-09-01</td>\n",
       "      <td>Sunday</td>\n",
       "      <td>8</td>\n",
       "      <td>9</td>\n",
       "      <td>(28.509217, 77.178967)</td>\n",
       "      <td>(28.522481, 77.082442)</td>\n",
       "    </tr>\n",
       "    <tr>\n",
       "      <th>2</th>\n",
       "      <td>12420010919084835</td>\n",
       "      <td>T12420010919074802</td>\n",
       "      <td>717AUP</td>\n",
       "      <td>DL1PC6354</td>\n",
       "      <td>Andheria Bagh More / Chhatarpur Metro Station</td>\n",
       "      <td>Kapashera Border</td>\n",
       "      <td>01-SEP-2019 07:48:00</td>\n",
       "      <td>01-SEP-2019 09:26:48</td>\n",
       "      <td>15</td>\n",
       "      <td>1</td>\n",
       "      <td>01/09/2019</td>\n",
       "      <td>08:48:19</td>\n",
       "      <td>2019-09-01 08:48:19</td>\n",
       "      <td>2019-09-01</td>\n",
       "      <td>Sunday</td>\n",
       "      <td>8</td>\n",
       "      <td>9</td>\n",
       "      <td>(28.509217, 77.178967)</td>\n",
       "      <td>(28.522481, 77.082442)</td>\n",
       "    </tr>\n",
       "    <tr>\n",
       "      <th>3</th>\n",
       "      <td>12678010919095238</td>\n",
       "      <td>T12678010919084802</td>\n",
       "      <td>717AUP</td>\n",
       "      <td>DL1PC6308</td>\n",
       "      <td>Andheria Bagh More / Chhatarpur Metro Station</td>\n",
       "      <td>Kapashera Border</td>\n",
       "      <td>01-SEP-2019 08:48:17</td>\n",
       "      <td>01-SEP-2019 10:34:02</td>\n",
       "      <td>15</td>\n",
       "      <td>1</td>\n",
       "      <td>01/09/2019</td>\n",
       "      <td>09:52:32</td>\n",
       "      <td>2019-09-01 09:52:32</td>\n",
       "      <td>2019-09-01</td>\n",
       "      <td>Sunday</td>\n",
       "      <td>9</td>\n",
       "      <td>9</td>\n",
       "      <td>(28.509217, 77.178967)</td>\n",
       "      <td>(28.522481, 77.082442)</td>\n",
       "    </tr>\n",
       "    <tr>\n",
       "      <th>4</th>\n",
       "      <td>10592010919093428</td>\n",
       "      <td>T10592010919083602</td>\n",
       "      <td>717AUP</td>\n",
       "      <td>DL1P6359</td>\n",
       "      <td>Andheria Bagh More / Chhatarpur Metro Station</td>\n",
       "      <td>Kapashera Border</td>\n",
       "      <td>01-SEP-2019 08:36:05</td>\n",
       "      <td>01-SEP-2019 10:10:08</td>\n",
       "      <td>15</td>\n",
       "      <td>1</td>\n",
       "      <td>01/09/2019</td>\n",
       "      <td>09:34:44</td>\n",
       "      <td>2019-09-01 09:34:44</td>\n",
       "      <td>2019-09-01</td>\n",
       "      <td>Sunday</td>\n",
       "      <td>9</td>\n",
       "      <td>9</td>\n",
       "      <td>(28.509217, 77.178967)</td>\n",
       "      <td>(28.522481, 77.082442)</td>\n",
       "    </tr>\n",
       "    <tr>\n",
       "      <th>...</th>\n",
       "      <td>...</td>\n",
       "      <td>...</td>\n",
       "      <td>...</td>\n",
       "      <td>...</td>\n",
       "      <td>...</td>\n",
       "      <td>...</td>\n",
       "      <td>...</td>\n",
       "      <td>...</td>\n",
       "      <td>...</td>\n",
       "      <td>...</td>\n",
       "      <td>...</td>\n",
       "      <td>...</td>\n",
       "      <td>...</td>\n",
       "      <td>...</td>\n",
       "      <td>...</td>\n",
       "      <td>...</td>\n",
       "      <td>...</td>\n",
       "      <td>...</td>\n",
       "      <td>...</td>\n",
       "    </tr>\n",
       "    <tr>\n",
       "      <th>1393478</th>\n",
       "      <td>11333291219103256</td>\n",
       "      <td>T11333291219102504</td>\n",
       "      <td>717AUP</td>\n",
       "      <td>DL1PC6350</td>\n",
       "      <td>Jaitpur Crossing</td>\n",
       "      <td>Kapashera Border</td>\n",
       "      <td>29-DEC-2019 10:25:06</td>\n",
       "      <td>29-DEC-2019 11:51:02</td>\n",
       "      <td>15</td>\n",
       "      <td>1</td>\n",
       "      <td>29/12/2019</td>\n",
       "      <td>10:32:27</td>\n",
       "      <td>2019-12-29 10:32:27</td>\n",
       "      <td>2019-12-29</td>\n",
       "      <td>Sunday</td>\n",
       "      <td>10</td>\n",
       "      <td>12</td>\n",
       "      <td>(28.4927, 77.30381700000002)</td>\n",
       "      <td>(28.522481, 77.082442)</td>\n",
       "    </tr>\n",
       "    <tr>\n",
       "      <th>1393479</th>\n",
       "      <td>11333291219103257</td>\n",
       "      <td>T11333291219102504</td>\n",
       "      <td>717AUP</td>\n",
       "      <td>DL1PC6350</td>\n",
       "      <td>Jaitpur Crossing</td>\n",
       "      <td>Tughalqabad Village</td>\n",
       "      <td>29-DEC-2019 10:25:06</td>\n",
       "      <td>29-DEC-2019 11:51:02</td>\n",
       "      <td>5</td>\n",
       "      <td>1</td>\n",
       "      <td>29/12/2019</td>\n",
       "      <td>10:32:31</td>\n",
       "      <td>2019-12-29 10:32:31</td>\n",
       "      <td>2019-12-29</td>\n",
       "      <td>Sunday</td>\n",
       "      <td>10</td>\n",
       "      <td>12</td>\n",
       "      <td>(28.4927, 77.30381700000002)</td>\n",
       "      <td>(28.509067, 77.265117)</td>\n",
       "    </tr>\n",
       "    <tr>\n",
       "      <th>1393480</th>\n",
       "      <td>11311291219201613</td>\n",
       "      <td>T11311291219185703</td>\n",
       "      <td>717AUP</td>\n",
       "      <td>DL1PC 6357</td>\n",
       "      <td>Hamdard Nagar / Sangam Vihar</td>\n",
       "      <td>Kapashera Border</td>\n",
       "      <td>29-DEC-2019 18:57:26</td>\n",
       "      <td>29-DEC-2019 21:17:04</td>\n",
       "      <td>15</td>\n",
       "      <td>1</td>\n",
       "      <td>29/12/2019</td>\n",
       "      <td>20:16:45</td>\n",
       "      <td>2019-12-29 20:16:45</td>\n",
       "      <td>2019-12-29</td>\n",
       "      <td>Sunday</td>\n",
       "      <td>20</td>\n",
       "      <td>12</td>\n",
       "      <td>(28.512167, 77.248667)</td>\n",
       "      <td>(28.522481, 77.082442)</td>\n",
       "    </tr>\n",
       "    <tr>\n",
       "      <th>1393481</th>\n",
       "      <td>11311291219202124</td>\n",
       "      <td>T11311291219185703</td>\n",
       "      <td>717AUP</td>\n",
       "      <td>DL1PC 6357</td>\n",
       "      <td>Batra Hospital (Satya Narayan Mandir)</td>\n",
       "      <td>Kishan Garh</td>\n",
       "      <td>29-DEC-2019 18:57:26</td>\n",
       "      <td>29-DEC-2019 21:17:04</td>\n",
       "      <td>10</td>\n",
       "      <td>1</td>\n",
       "      <td>29/12/2019</td>\n",
       "      <td>20:21:08</td>\n",
       "      <td>2019-12-29 20:21:08</td>\n",
       "      <td>2019-12-29</td>\n",
       "      <td>Sunday</td>\n",
       "      <td>20</td>\n",
       "      <td>12</td>\n",
       "      <td>(28.512167, 77.248667)</td>\n",
       "      <td>(28.514366, 77.16415500000002)</td>\n",
       "    </tr>\n",
       "    <tr>\n",
       "      <th>1393482</th>\n",
       "      <td>11311291219205100</td>\n",
       "      <td>T11311291219185703</td>\n",
       "      <td>717AUP</td>\n",
       "      <td>DL1PC 6357</td>\n",
       "      <td>Vasant Kunj Sec-D/3-4</td>\n",
       "      <td>Kapashera Border</td>\n",
       "      <td>29-DEC-2019 18:57:26</td>\n",
       "      <td>29-DEC-2019 21:17:04</td>\n",
       "      <td>15</td>\n",
       "      <td>1</td>\n",
       "      <td>29/12/2019</td>\n",
       "      <td>20:51:12</td>\n",
       "      <td>2019-12-29 20:51:12</td>\n",
       "      <td>2019-12-29</td>\n",
       "      <td>Sunday</td>\n",
       "      <td>20</td>\n",
       "      <td>12</td>\n",
       "      <td>(28.514366, 77.16415500000002)</td>\n",
       "      <td>(28.522481, 77.082442)</td>\n",
       "    </tr>\n",
       "  </tbody>\n",
       "</table>\n",
       "<p>1393483 rows × 19 columns</p>\n",
       "</div>"
      ],
      "text/plain": [
       "                MESSAGE_ID             TRIP_ID ROUTENAME      BUS_ID  \\\n",
       "0        12695010919065107  T12695010919061902    717AUP   DL1PC6341   \n",
       "1        12420010919084834  T12420010919074802    717AUP   DL1PC6354   \n",
       "2        12420010919084835  T12420010919074802    717AUP   DL1PC6354   \n",
       "3        12678010919095238  T12678010919084802    717AUP   DL1PC6308   \n",
       "4        10592010919093428  T10592010919083602    717AUP    DL1P6359   \n",
       "...                    ...                 ...       ...         ...   \n",
       "1393478  11333291219103256  T11333291219102504    717AUP   DL1PC6350   \n",
       "1393479  11333291219103257  T11333291219102504    717AUP   DL1PC6350   \n",
       "1393480  11311291219201613  T11311291219185703    717AUP  DL1PC 6357   \n",
       "1393481  11311291219202124  T11311291219185703    717AUP  DL1PC 6357   \n",
       "1393482  11311291219205100  T11311291219185703    717AUP  DL1PC 6357   \n",
       "\n",
       "                                     ROUTE_ORIGIN_STOP ROUTE_DESTINATION_STOP  \\\n",
       "0                                   Andheria Bagh More       Kapashera Border   \n",
       "1        Andheria Bagh More / Chhatarpur Metro Station       Kapashera Border   \n",
       "2        Andheria Bagh More / Chhatarpur Metro Station       Kapashera Border   \n",
       "3        Andheria Bagh More / Chhatarpur Metro Station       Kapashera Border   \n",
       "4        Andheria Bagh More / Chhatarpur Metro Station       Kapashera Border   \n",
       "...                                                ...                    ...   \n",
       "1393478                               Jaitpur Crossing       Kapashera Border   \n",
       "1393479                               Jaitpur Crossing    Tughalqabad Village   \n",
       "1393480                   Hamdard Nagar / Sangam Vihar       Kapashera Border   \n",
       "1393481          Batra Hospital (Satya Narayan Mandir)            Kishan Garh   \n",
       "1393482                          Vasant Kunj Sec-D/3-4       Kapashera Border   \n",
       "\n",
       "              TRIP_START_TIME         TRIP_END_TIME  AMOUNT  USER_COUNT  \\\n",
       "0        01-SEP-2019 06:19:46  01-SEP-2019 07:19:28      15           1   \n",
       "1        01-SEP-2019 07:48:00  01-SEP-2019 09:26:48      15           1   \n",
       "2        01-SEP-2019 07:48:00  01-SEP-2019 09:26:48      15           1   \n",
       "3        01-SEP-2019 08:48:17  01-SEP-2019 10:34:02      15           1   \n",
       "4        01-SEP-2019 08:36:05  01-SEP-2019 10:10:08      15           1   \n",
       "...                       ...                   ...     ...         ...   \n",
       "1393478  29-DEC-2019 10:25:06  29-DEC-2019 11:51:02      15           1   \n",
       "1393479  29-DEC-2019 10:25:06  29-DEC-2019 11:51:02       5           1   \n",
       "1393480  29-DEC-2019 18:57:26  29-DEC-2019 21:17:04      15           1   \n",
       "1393481  29-DEC-2019 18:57:26  29-DEC-2019 21:17:04      10           1   \n",
       "1393482  29-DEC-2019 18:57:26  29-DEC-2019 21:17:04      15           1   \n",
       "\n",
       "        TICKET DATE TICKET TIME           date_time ticket_date     Day  Hour  \\\n",
       "0        01/09/2019    06:51:55 2019-09-01 06:51:55  2019-09-01  Sunday     6   \n",
       "1        01/09/2019    08:48:17 2019-09-01 08:48:17  2019-09-01  Sunday     8   \n",
       "2        01/09/2019    08:48:19 2019-09-01 08:48:19  2019-09-01  Sunday     8   \n",
       "3        01/09/2019    09:52:32 2019-09-01 09:52:32  2019-09-01  Sunday     9   \n",
       "4        01/09/2019    09:34:44 2019-09-01 09:34:44  2019-09-01  Sunday     9   \n",
       "...             ...         ...                 ...         ...     ...   ...   \n",
       "1393478  29/12/2019    10:32:27 2019-12-29 10:32:27  2019-12-29  Sunday    10   \n",
       "1393479  29/12/2019    10:32:31 2019-12-29 10:32:31  2019-12-29  Sunday    10   \n",
       "1393480  29/12/2019    20:16:45 2019-12-29 20:16:45  2019-12-29  Sunday    20   \n",
       "1393481  29/12/2019    20:21:08 2019-12-29 20:21:08  2019-12-29  Sunday    20   \n",
       "1393482  29/12/2019    20:51:12 2019-12-29 20:51:12  2019-12-29  Sunday    20   \n",
       "\n",
       "         Month               Origin_cordinates                 Dest_cordinates  \n",
       "0            9          (28.509217, 77.178967)          (28.522481, 77.082442)  \n",
       "1            9          (28.509217, 77.178967)          (28.522481, 77.082442)  \n",
       "2            9          (28.509217, 77.178967)          (28.522481, 77.082442)  \n",
       "3            9          (28.509217, 77.178967)          (28.522481, 77.082442)  \n",
       "4            9          (28.509217, 77.178967)          (28.522481, 77.082442)  \n",
       "...        ...                             ...                             ...  \n",
       "1393478     12    (28.4927, 77.30381700000002)          (28.522481, 77.082442)  \n",
       "1393479     12    (28.4927, 77.30381700000002)          (28.509067, 77.265117)  \n",
       "1393480     12          (28.512167, 77.248667)          (28.522481, 77.082442)  \n",
       "1393481     12          (28.512167, 77.248667)  (28.514366, 77.16415500000002)  \n",
       "1393482     12  (28.514366, 77.16415500000002)          (28.522481, 77.082442)  \n",
       "\n",
       "[1393483 rows x 19 columns]"
      ]
     },
     "execution_count": 94,
     "metadata": {},
     "output_type": "execute_result"
    }
   ],
   "source": [
    "route_data_pd"
   ]
  },
  {
   "cell_type": "code",
   "execution_count": null,
   "id": "1e64dd33",
   "metadata": {},
   "outputs": [],
   "source": []
  },
  {
   "cell_type": "code",
   "execution_count": null,
   "id": "621cd55d",
   "metadata": {},
   "outputs": [],
   "source": []
  },
  {
   "cell_type": "markdown",
   "id": "2c4e2c4c",
   "metadata": {},
   "source": [
    "## Calculating count for all month-day"
   ]
  },
  {
   "cell_type": "code",
   "execution_count": null,
   "id": "7fc3e40c",
   "metadata": {},
   "outputs": [],
   "source": [
    "ppd_each_month = full_data.groupby(by=['Month','Day','Hour'],\n",
    "                                       agg={'Count': vx.agg.sum(full_data.USER_COUNT)})"
   ]
  },
  {
   "cell_type": "code",
   "execution_count": null,
   "id": "b02670e7",
   "metadata": {},
   "outputs": [],
   "source": [
    "ppd_each_month"
   ]
  },
  {
   "cell_type": "code",
   "execution_count": null,
   "id": "ef7f9fc6",
   "metadata": {},
   "outputs": [],
   "source": [
    "d = {'Month':ppd_each_month['Month'].values.data,\n",
    "     'Day':ppd_each_month['Day'].values,\n",
    "     'Hour':ppd_each_month['Hour'].values.data,\n",
    "     'Count':ppd_each_month['Count'].values}"
   ]
  },
  {
   "cell_type": "code",
   "execution_count": null,
   "id": "5cee2006",
   "metadata": {},
   "outputs": [],
   "source": [
    "ppd_each_month_pandas = pd.DataFrame(d)\n",
    "ppd_each_month_pandas"
   ]
  },
  {
   "cell_type": "code",
   "execution_count": null,
   "id": "f5c16df9",
   "metadata": {},
   "outputs": [],
   "source": [
    "ppd_sept_oct_pandas = ppd_each_month_pandas[(ppd_each_month_pandas['Month'] == 9) | (ppd_each_month_pandas['Month'] == 10)] \n",
    "ppd_nov_dec_pandas = ppd_each_month_pandas[(ppd_each_month_pandas['Month'] == 11) | (ppd_each_month_pandas['Month'] == 12)]"
   ]
  },
  {
   "cell_type": "code",
   "execution_count": null,
   "id": "ada82b13",
   "metadata": {},
   "outputs": [],
   "source": [
    "ppd_sept_oct_pandas"
   ]
  },
  {
   "cell_type": "code",
   "execution_count": null,
   "id": "bf5420fd",
   "metadata": {},
   "outputs": [],
   "source": [
    "ppd_nov_dec_pandas"
   ]
  },
  {
   "cell_type": "code",
   "execution_count": null,
   "id": "ec778928",
   "metadata": {},
   "outputs": [],
   "source": [
    "def get_weekly_mean_SO(d,c):\n",
    "    x = numpy.busday_count('2019-09-01', '2019-11-01', weekmask= d[0:3])\n",
    "    return int(c/x)\n",
    "\n",
    "def get_weekly_mean_ND(d,c):\n",
    "    x = numpy.busday_count('2019-11-01', '2020-01-01', weekmask= d[0:3])\n",
    "    return int(c/x)\n",
    "\n",
    "def weekday_numbering(x):\n",
    "    if x == 'Monday':\n",
    "        return 1 \n",
    "    if x == 'Tuesday':\n",
    "        return 2\n",
    "    if x == 'Wednesday':\n",
    "        return 3 \n",
    "    if x == 'Thursday':\n",
    "        return 4 \n",
    "    if x == 'Friday':\n",
    "        return 5 \n",
    "    if x == 'Saturday':\n",
    "        return 6 \n",
    "    if x == 'Sunday':\n",
    "        return 7"
   ]
  },
  {
   "cell_type": "code",
   "execution_count": null,
   "id": "f923ed3c",
   "metadata": {},
   "outputs": [],
   "source": [
    "ppd_sept_oct_pandas['Average Hourly Volume'] = ppd_sept_oct_pandas.apply(lambda x : get_weekly_mean_SO(x['Day'],x['Count']),axis=1)"
   ]
  },
  {
   "cell_type": "code",
   "execution_count": null,
   "id": "97146cd4",
   "metadata": {},
   "outputs": [],
   "source": [
    "ppd_sept_oct_pandas"
   ]
  },
  {
   "cell_type": "code",
   "execution_count": null,
   "id": "7b91d644",
   "metadata": {},
   "outputs": [],
   "source": [
    "ppd_sept_oct_pandas = ppd_sept_oct_pandas.groupby(['Day','Hour']).agg({'Average Hourly Volume': 'mean'})\n",
    "ppd_sept_oct_pandas = ppd_sept_oct_pandas.reset_index()\n",
    "ppd_sept_oct_pandas['Day_num'] = ppd_sept_oct_pandas['Day'].apply(weekday_numbering)\n",
    "ppd_sept_oct_pandas.sort_values(['Day_num' , 'Hour'], ascending=[True, True],inplace=True)\n",
    "ppd_sept_oct_pandas.reset_index(drop=True,inplace=True)"
   ]
  },
  {
   "cell_type": "code",
   "execution_count": null,
   "id": "d272e230",
   "metadata": {},
   "outputs": [],
   "source": [
    "ppd_sept_oct_pandas"
   ]
  },
  {
   "cell_type": "code",
   "execution_count": null,
   "id": "5bfd6b48",
   "metadata": {},
   "outputs": [],
   "source": [
    "ppd_nov_dec_pandas['Average Hourly Volume'] = ppd_nov_dec_pandas.apply(lambda x : get_weekly_mean_SO(x['Day'],x['Count']),axis=1)\n",
    "ppd_nov_dec_pandas = ppd_nov_dec_pandas.groupby(['Day','Hour']).agg({'Average Hourly Volume': 'mean'})\n",
    "ppd_nov_dec_pandas = ppd_nov_dec_pandas.reset_index()\n",
    "ppd_nov_dec_pandas['Day_num'] = ppd_nov_dec_pandas['Day'].apply(weekday_numbering)\n",
    "ppd_nov_dec_pandas.sort_values(['Day_num' , 'Hour'], ascending=[True, True],inplace=True)\n",
    "ppd_nov_dec_pandas.reset_index(drop=True,inplace=True)"
   ]
  },
  {
   "cell_type": "code",
   "execution_count": null,
   "id": "86977307",
   "metadata": {},
   "outputs": [],
   "source": [
    "ppd_nov_dec_pandas"
   ]
  },
  {
   "cell_type": "code",
   "execution_count": null,
   "id": "1ae74483",
   "metadata": {},
   "outputs": [],
   "source": [
    "def find_women_count(D,H,A):\n",
    "    try:\n",
    "        temp = ppd_nov_dec_pandas[(ppd_nov_dec_pandas['Day'] == D) &\n",
    "                              (ppd_nov_dec_pandas['Hour'] == H)]['Average Hourly Volume'].values[0]\n",
    "        return A-temp\n",
    "    except:\n",
    "        return 0"
   ]
  },
  {
   "cell_type": "code",
   "execution_count": null,
   "id": "246d3775",
   "metadata": {},
   "outputs": [],
   "source": [
    "ppd_nov_dec_pandas[(ppd_nov_dec_pandas['Day'] == 'Monday') &\n",
    "                   (ppd_nov_dec_pandas['Hour'] == 0)]['Average Hourly Volume'].values[0]"
   ]
  },
  {
   "cell_type": "code",
   "execution_count": null,
   "id": "b4f73597",
   "metadata": {},
   "outputs": [],
   "source": [
    "ppd_women_variability = ppd_sept_oct_pandas.copy()"
   ]
  },
  {
   "cell_type": "code",
   "execution_count": null,
   "id": "eaca0070",
   "metadata": {},
   "outputs": [],
   "source": [
    "ppd_women_variability['Average Hourly Volume'] = ppd_sept_oct_pandas.apply(lambda x : find_women_count(x['Day'],x['Hour'],x['Average Hourly Volume']),axis=1)"
   ]
  },
  {
   "cell_type": "code",
   "execution_count": null,
   "id": "5da857af",
   "metadata": {},
   "outputs": [],
   "source": [
    "ppd_women_variability"
   ]
  },
  {
   "cell_type": "code",
   "execution_count": null,
   "id": "f7bfa4ec",
   "metadata": {},
   "outputs": [],
   "source": [
    "fig = px.line(ppd_women_variability, x=\"Hour\", y=\"Average Hourly Volume\", color=\"Day\",title=\"Average hourly Women volume for each day of the week\")\n",
    "fig.show()"
   ]
  },
  {
   "cell_type": "code",
   "execution_count": null,
   "id": "8625ad60",
   "metadata": {},
   "outputs": [],
   "source": [
    "ppd_women_variability"
   ]
  },
  {
   "cell_type": "code",
   "execution_count": null,
   "id": "1feaa29e",
   "metadata": {},
   "outputs": [],
   "source": [
    "ppd_women_variability['X'] = ppd_women_variability['Day'] + ppd_women_variability['Hour'].astype(str)"
   ]
  },
  {
   "cell_type": "code",
   "execution_count": null,
   "id": "5ee87c44",
   "metadata": {},
   "outputs": [],
   "source": [
    "ppd_women_variability"
   ]
  },
  {
   "cell_type": "code",
   "execution_count": null,
   "id": "e22090a0",
   "metadata": {},
   "outputs": [],
   "source": [
    "fig = px.line(ppd_women_variability, x='X', y=\"Average Hourly Volume\", color=\"Day\",title=\"Average hourly Women volume for each day of the week\")\n",
    "fig.show()"
   ]
  },
  {
   "cell_type": "code",
   "execution_count": null,
   "id": "6dc13234",
   "metadata": {},
   "outputs": [],
   "source": [
    "ppd_women_variability.index"
   ]
  },
  {
   "cell_type": "code",
   "execution_count": null,
   "id": "4ad0bde0",
   "metadata": {},
   "outputs": [],
   "source": []
  }
 ],
 "metadata": {
  "kernelspec": {
   "display_name": "Python 3 (ipykernel)",
   "language": "python",
   "name": "python3"
  },
  "language_info": {
   "codemirror_mode": {
    "name": "ipython",
    "version": 3
   },
   "file_extension": ".py",
   "mimetype": "text/x-python",
   "name": "python",
   "nbconvert_exporter": "python",
   "pygments_lexer": "ipython3",
   "version": "3.9.16"
  }
 },
 "nbformat": 4,
 "nbformat_minor": 5
}
